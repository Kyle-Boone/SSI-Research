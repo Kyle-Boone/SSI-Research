{
 "cells": [
  {
   "cell_type": "code",
   "execution_count": 1,
   "id": "544b3aa6-4f92-4aab-be33-17e4a59d8591",
   "metadata": {},
   "outputs": [],
   "source": [
    "import numpy as np\n",
    "from scipy.special import binom"
   ]
  },
  {
   "cell_type": "code",
   "execution_count": 2,
   "id": "56e70123-c58b-4a6d-988c-758cf9c2ec7f",
   "metadata": {},
   "outputs": [],
   "source": [
    "CS = 2\n",
    "CG = 3\n",
    "PCSTS = 0.5\n",
    "PCGTS = 0.3\n",
    "PCGTG = 0.8\n",
    "PCSTG = 0.15"
   ]
  },
  {
   "cell_type": "code",
   "execution_count": 3,
   "id": "c92b8510-268e-4065-a4d3-8fc255633ea0",
   "metadata": {},
   "outputs": [
    {
     "name": "stdout",
     "output_type": "stream",
     "text": [
      "3.23943661971831\n",
      "2.5352112676056335\n"
     ]
    }
   ],
   "source": [
    "expTS = (1 / (PCSTS*PCGTG - PCSTG*PCGTS)) * (PCGTG*CS - PCSTG*CG)\n",
    "expTG = (1 / (PCSTS*PCGTG - PCSTG*PCGTS)) * (PCSTS*CG - PCGTS*CS)\n",
    "print(expTS)\n",
    "print(expTG)"
   ]
  },
  {
   "cell_type": "code",
   "execution_count": 4,
   "id": "8ed9fe12-5ba5-498a-9160-4af6d72c7990",
   "metadata": {},
   "outputs": [],
   "source": [
    "realizations = 1000000\n",
    "starCount = (int(expTS / 5) + 1) * 5\n",
    "galaCount = (int(expTG / 5) + 1) * 5\n",
    "\n",
    "likelihood = np.zeros([starCount, galaCount])\n",
    "for TS in np.arange(starCount):\n",
    "    for TG in np.arange(galaCount):\n",
    "        totalCorr = 0\n",
    "        for _ in np.arange(realizations):\n",
    "            stars = np.random.rand(TS)\n",
    "            galaxies = np.random.rand(TG)\n",
    "            \n",
    "            classifiedStars = len(np.where(stars < PCSTS)[0]) + len(np.where((galaxies > PCGTG) & (galaxies < PCGTG + PCSTG))[0])\n",
    "            classifiedGalaxies = len(np.where(galaxies < PCGTG)[0]) + len(np.where((stars > PCSTS) & (stars < PCGTS + PCSTS))[0])\n",
    "            \n",
    "            if ((classifiedStars == CS) & (classifiedGalaxies == CG)):\n",
    "                totalCorr += 1\n",
    "        likelihood[TS][TG] += totalCorr / realizations"
   ]
  },
  {
   "cell_type": "code",
   "execution_count": 5,
   "id": "2004b901-b899-457b-be9c-b651bed46c40",
   "metadata": {},
   "outputs": [
    {
     "data": {
      "text/plain": [
       "(array([2]), array([3]))"
      ]
     },
     "execution_count": 5,
     "metadata": {},
     "output_type": "execute_result"
    }
   ],
   "source": [
    "np.where(likelihood == np.max(likelihood))"
   ]
  },
  {
   "cell_type": "code",
   "execution_count": 6,
   "id": "5ad80bbd-8d96-4635-8e5c-252de6bdfda0",
   "metadata": {},
   "outputs": [],
   "source": [
    "calcLikelihood = np.zeros([starCount, galaCount])\n",
    "for TS in np.arange(starCount):\n",
    "    for TG in np.arange(galaCount):\n",
    "        sumProb = 0\n",
    "        lowerLim = np.max([0, CS - TG])\n",
    "        upperLim = np.min([CS, TS])\n",
    "        if lowerLim > upperLim:\n",
    "            continue\n",
    "        for CsfTs in np.arange(lowerLim, upperLim + 1):\n",
    "            PCsfTsTS = binom(TS, CsfTs) * (PCSTS**CsfTs) * ((1 - PCSTS)**(TS-CsfTs))\n",
    "            PCsfTgTG = binom(TG, CS-CsfTs) * (PCSTG**(CS-CsfTs)) * ((1 - PCSTG)**(TG - CS + CsfTs))\n",
    "            \n",
    "            As = TS - CsfTs\n",
    "            Ag = TG - (CS - CsfTs)\n",
    "            Ng = As + Ag\n",
    "            if Ng < CG:\n",
    "                continue\n",
    "            Pg = (As/Ng) * (PCGTS / (1 - PCSTS)) + (Ag/Ng) * (PCGTG / (1 - PCSTG))\n",
    "            \n",
    "            PCg = binom(Ng, CG) * (Pg**CG) * ((1-Pg)**(Ng-CG))\n",
    "            \n",
    "            sumProb += PCsfTsTS * PCsfTgTG * PCg\n",
    "            \n",
    "        calcLikelihood[TS][TG] = sumProb"
   ]
  },
  {
   "cell_type": "code",
   "execution_count": 7,
   "id": "f4e18c48-47b8-46e8-8c99-f78085e87c42",
   "metadata": {},
   "outputs": [
    {
     "data": {
      "text/plain": [
       "array([[0.      , 0.      , 0.      , 0.      , 0.      ],\n",
       "       [0.      , 0.      , 0.      , 0.      , 0.178987],\n",
       "       [0.      , 0.      , 0.      , 0.219155, 0.11522 ],\n",
       "       [0.      , 0.      , 0.177237, 0.157662, 0.050616],\n",
       "       [0.      , 0.115934, 0.15295 , 0.074654, 0.018849]])"
      ]
     },
     "execution_count": 7,
     "metadata": {},
     "output_type": "execute_result"
    }
   ],
   "source": [
    "likelihood"
   ]
  },
  {
   "cell_type": "code",
   "execution_count": 8,
   "id": "0cea76c3-25a2-4269-934b-1b6538b4bf54",
   "metadata": {},
   "outputs": [
    {
     "data": {
      "text/plain": [
       "array([[0.        , 0.        , 0.        , 0.        , 0.        ],\n",
       "       [0.        , 0.        , 0.        , 0.        , 0.18122921],\n",
       "       [0.        , 0.        , 0.        , 0.22531239, 0.10242715],\n",
       "       [0.        , 0.        , 0.18886993, 0.13733546, 0.05186594],\n",
       "       [0.        , 0.12398943, 0.14007898, 0.06949578, 0.02261333]])"
      ]
     },
     "execution_count": 8,
     "metadata": {},
     "output_type": "execute_result"
    }
   ],
   "source": [
    "calcLikelihood"
   ]
  },
  {
   "cell_type": "code",
   "execution_count": 9,
   "id": "eff68914-a619-404e-a3c1-741dac0aaf82",
   "metadata": {},
   "outputs": [
    {
     "data": {
      "text/plain": [
       "(array([2]), array([3]))"
      ]
     },
     "execution_count": 9,
     "metadata": {},
     "output_type": "execute_result"
    }
   ],
   "source": [
    "np.where(calcLikelihood == np.max(calcLikelihood))"
   ]
  },
  {
   "cell_type": "markdown",
   "id": "4f1bef1a-d828-44b8-a462-6e3016c79569",
   "metadata": {},
   "source": [
    "## Interpretation\n",
    "\n",
    "This shows a clear and obvious failure. The formula derived from expectation values does not hold up in the maximum likelihood test. Bummer."
   ]
  },
  {
   "cell_type": "code",
   "execution_count": null,
   "id": "fd04421a-c4e7-445c-942a-07194bbfd254",
   "metadata": {},
   "outputs": [],
   "source": []
  }
 ],
 "metadata": {
  "kernelspec": {
   "display_name": "Python 3 (ipykernel)",
   "language": "python",
   "name": "python3"
  },
  "language_info": {
   "codemirror_mode": {
    "name": "ipython",
    "version": 3
   },
   "file_extension": ".py",
   "mimetype": "text/x-python",
   "name": "python",
   "nbconvert_exporter": "python",
   "pygments_lexer": "ipython3",
   "version": "3.9.12"
  }
 },
 "nbformat": 4,
 "nbformat_minor": 5
}
