{
 "cells": [
  {
   "cell_type": "markdown",
   "id": "84eb6f35-7b23-4ef0-b797-8afff927c319",
   "metadata": {},
   "source": [
    "## Overview:\n",
    "\n",
    "Use pipeline to get an overall idea of observed stars and observed galaxies per pixel. Do this on large scales (maybe several 32 res healpixels?), but do it for many locations to get many different distributions of counts. Then weight observed balrog stars (not necessarily classified balrog stars) in the isochrone with the same weight across the board so that their average count per 512 pixel is the same as in the gold data (or at least a region of the gold data). After this, do the same for observed balrog galaxies. With this weighting, get classified star and galaxy counts. Try to then recover the survey independent counts using probability maps. Check before and after $N/\\langle N\\rangle$ for both stars and galaxies. Since balrog injections were random, in theory these numbers should start out with strong deviations from 1 but they should hopefully both drop to unity. Also make sure to weight according to magnitude."
   ]
  },
  {
   "cell_type": "code",
   "execution_count": 1,
   "id": "70883e9a-b9ea-4fbd-baee-4f2e539ec08b",
   "metadata": {},
   "outputs": [],
   "source": [
    "import numpy as np\n",
    "import fitsio\n",
    "import matplotlib.pyplot as plt\n",
    "import healpy as hp\n",
    "import healsparse as hsp\n",
    "import skyproj\n",
    "from numpy import loadtxt\n",
    "import StellarConfig as strConfig\n",
    "import Config"
   ]
  },
  {
   "cell_type": "code",
   "execution_count": 2,
   "id": "5341055c-8a5e-4468-bd2a-8b7e97609f9e",
   "metadata": {},
   "outputs": [],
   "source": [
    "obsStarPerPixel = np.array([11.034763594729077, 5.46824947222127, 5.327817349228764, 15.256181624036115, 30.886590162746476])\n",
    "obsGalaPerPixel = np.array([4.415052356191168, 28.718253595263395, 38.06604768144608, 53.82725395878597, 48.4083791624069])"
   ]
  },
  {
   "cell_type": "markdown",
   "id": "277fe149-3313-42ec-b0f1-81f92b276b9f",
   "metadata": {},
   "source": [
    "## Pseudo-Code Algorithm\n",
    "\n",
    "Use det star and galaxy files from the stellar stream pipeline. First check how good the overlap is on pixels. This shouldn't really matter at the end of the day, but it would still be good to know. Get an overall group of pixels (probably the union of star pixels and galaxy pixels, maybe something else down the line). For each pixel, figure out classified star and galaxy counts. Weight observed star and galaxy counts so that the observed number of objects in each magnitude bin has a count per pixel that matches the above numbers. After this, add these objects to the classified pixels depending on their classification. Add them with their weight. This is our \"classified\" sample. After this, just run the correction pipeline I was running before. The recovered corrected maps, for both stars and galaxies, should be completely random and have less relation on the survey properties as compared to their original counts."
   ]
  },
  {
   "cell_type": "code",
   "execution_count": 3,
   "id": "548127d2-a381-4b96-875a-5c993e305118",
   "metadata": {},
   "outputs": [],
   "source": [
    "res = strConfig.res\n",
    "numBins = strConfig.numBins\n",
    "sigma = strConfig.sigma\n",
    "\n",
    "detStarAllPosFile = strConfig.detStarAllPosFile\n",
    "detGalaAllPosFile = strConfig.detGalaAllPosFile\n",
    "\n",
    "galaExtrFiles = strConfig.galaExtrFiles\n",
    "galaTrainFiles = strConfig.galaTrainFiles\n",
    "galaProbFiles = strConfig.galaProbFiles\n",
    "\n",
    "galaDetExtrFiles = strConfig.galaDetMeasDataExtrFiles\n",
    "galaDetTrainFiles = strConfig.galaDetMeasDataTrainFiles\n",
    "galaDetProbFiles = strConfig.galaDetMeasDataProbFiles\n",
    "\n",
    "galaDetAsGalaExtrFiles = strConfig.galaDetMeasDataAsGalaExtrFiles\n",
    "galaDetAsGalaTrainFiles = strConfig.galaDetMeasDataAsGalaTrainFiles\n",
    "galaDetAsGalaProbFiles = strConfig.galaDetMeasDataAsGalaProbFiles\n",
    "\n",
    "starExtrFiles = strConfig.starExtrFiles\n",
    "starTrainFiles = strConfig.starTrainFiles\n",
    "starProbFiles = strConfig.starProbFiles\n",
    "\n",
    "starDetExtrFiles = strConfig.starDetMeasDataExtrFiles\n",
    "starDetTrainFiles = strConfig.starDetMeasDataTrainFiles\n",
    "starDetProbFiles = strConfig.starDetMeasDataProbFiles\n",
    "\n",
    "starDetAsGalaExtrFiles = strConfig.starDetMeasDataAsGalaExtrFiles\n",
    "starDetAsGalaTrainFiles = strConfig.starDetMeasDataAsGalaTrainFiles\n",
    "starDetAsGalaProbFiles = strConfig.starDetMeasDataAsGalaProbFiles\n",
    "\n",
    "calibrationFile = strConfig.calibrationFile\n",
    "\n",
    "pixFile = strConfig.pixFile\n",
    "validPix = fitsio.read(pixFile)['PIXEL']"
   ]
  },
  {
   "cell_type": "code",
   "execution_count": 4,
   "id": "d603c651-6c92-4e40-a29d-fad0616d69c6",
   "metadata": {},
   "outputs": [],
   "source": [
    "allStarPix = hp.ang2pix(res, fitsio.read(detStarAllPosFile)['RA'], fitsio.read(detStarAllPosFile)['DEC'], nest = True, lonlat = True)\n",
    "allGalaPix = hp.ang2pix(res, fitsio.read(detGalaAllPosFile)['RA'], fitsio.read(detGalaAllPosFile)['DEC'], nest = True, lonlat = True)\n",
    "allBalrPix = np.union1d(allStarPix, allGalaPix)\n",
    "allBalrPix = allBalrPix[np.isin(allBalrPix, validPix)]"
   ]
  },
  {
   "cell_type": "code",
   "execution_count": 5,
   "id": "0e0e2279-e7c6-46fd-bf45-962d8716c132",
   "metadata": {},
   "outputs": [],
   "source": [
    "detStarFile = strConfig.detStarMeasDataFile\n",
    "detGalaFile = strConfig.detGalaMeasDataFile"
   ]
  },
  {
   "cell_type": "code",
   "execution_count": 6,
   "id": "2d5fd118-3307-410b-b0bd-a8ce33c7b823",
   "metadata": {},
   "outputs": [],
   "source": [
    "detStarData = fitsio.read(detStarFile)\n",
    "detStarPix = hp.ang2pix(res, detStarData['RA'], detStarData['DEC'], nest = True, lonlat = True)\n",
    "detStarRmag = detStarData['RMAG']\n",
    "detStarClass = detStarData['CLASS']\n",
    "# Slight mismatch can occur due to using measured ra and dec values.\n",
    "starPixCut = np.isin(detStarPix, allBalrPix)\n",
    "detStarPix = detStarPix[starPixCut]\n",
    "detStarRmag = detStarRmag[starPixCut]\n",
    "detStarClass = detStarClass[starPixCut]\n",
    "\n",
    "detGalaData = fitsio.read(detGalaFile)\n",
    "detGalaPix = hp.ang2pix(res, detGalaData['RA'], detGalaData['DEC'], nest = True, lonlat = True)\n",
    "detGalaRmag = detGalaData['RMAG']\n",
    "detGalaClass = detGalaData['CLASS']\n",
    "# Slight mismatch can occur due to using measured ra and dec values.\n",
    "galaPixCut = np.isin(detGalaPix, allBalrPix)\n",
    "detGalaPix = detGalaPix[galaPixCut]\n",
    "detGalaRmag = detGalaRmag[galaPixCut]\n",
    "detGalaClass = detGalaClass[galaPixCut]"
   ]
  },
  {
   "cell_type": "code",
   "execution_count": 7,
   "id": "9d6b442f-8b0b-453e-8bb2-174afe07fb17",
   "metadata": {},
   "outputs": [],
   "source": [
    "magBins = [22, 23, 23.5, 24, 24.5]"
   ]
  },
  {
   "cell_type": "code",
   "execution_count": 8,
   "id": "b750eb82-15fd-4370-85fb-f1f35110664a",
   "metadata": {},
   "outputs": [],
   "source": [
    "starWeights = []\n",
    "for i in np.arange(len(magBins)):\n",
    "    if i == 0:\n",
    "        magCut = np.where(detStarRmag <= magBins[i])[0]\n",
    "    else:\n",
    "        magCut = np.where((detStarRmag <= magBins[i]) & (detStarRmag > magBins[i - 1]))[0]\n",
    "    starWeights.append(obsStarPerPixel[i] / (len(magCut) / len(allBalrPix)))\n",
    "\n",
    "galaWeights = []\n",
    "for i in np.arange(len(magBins)):\n",
    "    if i == 0:\n",
    "        magCut = np.where(detGalaRmag <= magBins[i])[0]\n",
    "    else:\n",
    "        magCut = np.where((detGalaRmag <= magBins[i]) & (detGalaRmag > magBins[i - 1]))[0]\n",
    "    galaWeights.append(obsGalaPerPixel[i] / (len(magCut) / len(allBalrPix)))"
   ]
  },
  {
   "cell_type": "code",
   "execution_count": 9,
   "id": "747bea91-6661-4413-9cd6-1a53fe2c8976",
   "metadata": {},
   "outputs": [],
   "source": [
    "claStar = []\n",
    "    \n",
    "for i in np.arange(len(magBins)):\n",
    "    if i == 0:\n",
    "        magCut = np.where(detStarRmag <= magBins[i])[0]\n",
    "    else:\n",
    "        magCut = np.where((detStarRmag <= magBins[i]) & (detStarRmag > magBins[i - 1]))[0]\n",
    "    magCutStarPix = detStarPix[magCut]\n",
    "    extraPix = np.append(magCutStarPix, allBalrPix)\n",
    "    claStar.append(starWeights[i] * (np.unique(extraPix, return_counts = True)[1] - 1))\n",
    "    \n",
    "claStar = np.array(claStar, dtype = object)\n",
    "\n",
    "claGala = []\n",
    "\n",
    "for i in np.arange(len(magBins)):\n",
    "    if i == 0:\n",
    "        magCut = np.where(detGalaRmag <= magBins[i])[0]\n",
    "    else:\n",
    "        magCut = np.where((detGalaRmag <= magBins[i]) & (detGalaRmag > magBins[i - 1]))[0]\n",
    "    magCutGalaPix = detGalaPix[magCut]\n",
    "    extraPix = np.append(magCutGalaPix, allBalrPix)\n",
    "    claGala.append(galaWeights[i] * (np.unique(extraPix, return_counts = True)[1] - 1))\n",
    "    \n",
    "claGala = np.array(claGala, dtype = object)"
   ]
  },
  {
   "cell_type": "code",
   "execution_count": 10,
   "id": "a8f3aaef-0acd-489b-8500-9076a52e4365",
   "metadata": {},
   "outputs": [],
   "source": [
    "caliData = fitsio.read(calibrationFile)\n",
    "starAdjustments = caliData['STAR']\n",
    "galaAdjustments = caliData['GALA']"
   ]
  },
  {
   "cell_type": "code",
   "execution_count": 11,
   "id": "08517167-c5bf-4b62-8739-21502e373142",
   "metadata": {},
   "outputs": [],
   "source": [
    "aveStarDet = []\n",
    "for starDetTrainFile in starDetTrainFiles:\n",
    "    aveStarDet.append(loadtxt(starDetTrainFile[0:-5] + '_Ave_Acc.csv', delimiter=',').astype(float))\n",
    "    \n",
    "aveStarDetAsGala = []\n",
    "for starDetAsGalaTrainFile in starDetAsGalaTrainFiles:\n",
    "    aveStarDetAsGala.append(loadtxt(starDetAsGalaTrainFile[0:-5] + '_Ave_Acc.csv', delimiter=',').astype(float))\n",
    "    \n",
    "aveGalaDet = []\n",
    "for galaDetTrainFile in galaDetTrainFiles:\n",
    "    aveGalaDet.append(loadtxt(galaDetTrainFile[0:-5] + '_Ave_Acc.csv', delimiter=',').astype(float))\n",
    "    \n",
    "aveGalaDetAsGala = []\n",
    "for galaDetAsGalaTrainFile in galaDetAsGalaTrainFiles:\n",
    "    aveGalaDetAsGala.append(loadtxt(galaDetAsGalaTrainFile[0:-5] + '_Ave_Acc.csv', delimiter=',').astype(float))"
   ]
  },
  {
   "cell_type": "code",
   "execution_count": 12,
   "id": "bf0d34e0-a1d6-40a9-970e-d92a2c93cd05",
   "metadata": {},
   "outputs": [],
   "source": [
    "probCut = np.isin(validPix, allBalrPix)\n",
    "\n",
    "starDetProb = []\n",
    "for i in range(len(magBins)):\n",
    "    nextProb = fitsio.read(starDetProbFiles[i])['SIGNAL']\n",
    "    nextProb[np.where(nextProb < 0)[0]] = 0\n",
    "    starDetProb.append(nextProb[probCut])\n",
    "starDetProb = np.array(starDetProb, dtype = object)\n",
    "\n",
    "starDetAsGalaProb = []\n",
    "for i in range(len(magBins)):\n",
    "    nextProb = fitsio.read(starDetAsGalaProbFiles[i])['SIGNAL']\n",
    "    nextProb[np.where(nextProb < 0)[0]] = 0\n",
    "    starDetAsGalaProb.append(nextProb[probCut])\n",
    "starDetAsGalaProb = np.array(starDetAsGalaProb, dtype = object)\n",
    "\n",
    "starCorrProb = []\n",
    "for i in range(len(magBins)):\n",
    "    starCorrProb.append(np.clip(starAdjustments[i] * fitsio.read(starProbFiles[i])['SIGNAL'], 0, 1)[probCut])\n",
    "starCorrProb = np.array(starCorrProb, dtype = object)\n",
    "\n",
    "galaDetProb = []\n",
    "for i in range(len(magBins)):\n",
    "    nextProb = fitsio.read(galaDetProbFiles[i])['SIGNAL']\n",
    "    nextProb[np.where(nextProb < 0)[0]] = 0\n",
    "    galaDetProb.append(nextProb[probCut])\n",
    "galaDetProb = np.array(galaDetProb, dtype = object)\n",
    "\n",
    "galaDetAsGalaProb = []\n",
    "for i in range(len(magBins)):\n",
    "    nextProb = fitsio.read(galaDetAsGalaProbFiles[i])['SIGNAL']\n",
    "    nextProb[np.where(nextProb < 0)[0]] = 0\n",
    "    galaDetAsGalaProb.append(nextProb[probCut])\n",
    "galaDetAsGalaProb = np.array(galaDetAsGalaProb, dtype = object)\n",
    "\n",
    "galaCorrProb = []\n",
    "for i in range(len(magBins)):\n",
    "    galaCorrProb.append(np.clip(galaAdjustments[i] * fitsio.read(galaProbFiles[i])['SIGNAL'], 0, 1)[probCut])\n",
    "galaCorrProb = np.array(galaCorrProb, dtype = object)"
   ]
  },
  {
   "cell_type": "code",
   "execution_count": 13,
   "id": "fb64b28b-5aec-45e5-b5aa-d433cc92ebfe",
   "metadata": {},
   "outputs": [],
   "source": [
    "origStar = np.full(len(allBalrPix), 0.0)\n",
    "for i in np.arange(len(magBins)):\n",
    "    origStar = origStar + claStar[i]\n",
    "    \n",
    "origGala = np.full(len(allBalrPix), 0.0)\n",
    "for i in np.arange(len(magBins)):\n",
    "    origGala = origGala + claGala[i]"
   ]
  },
  {
   "cell_type": "code",
   "execution_count": 14,
   "id": "e5aa03dc-9d6c-4a30-a7ee-8ee9c53c76e8",
   "metadata": {},
   "outputs": [],
   "source": [
    "corrStarBins = []\n",
    "corrGalaBins = []\n",
    "for i in np.arange(len(magBins)):\n",
    "    \n",
    "    obsStars = (((galaCorrProb[i] * claStar[i]) + ((galaCorrProb[i] - 1) * claGala[i])) / ((starCorrProb[i] + galaCorrProb[i] - 1))).astype(float)\n",
    "    obsStars[np.where(obsStars < 0)] = 0\n",
    "    obsStars[np.where(obsStars >= claStar[i] + claGala[i])] = claStar[i][np.where(obsStars >= claStar[i] + claGala[i])] + claGala[i][np.where(obsStars >= claStar[i] + claGala[i])]\n",
    "    \n",
    "    obsGalas = claStar[i] + claGala[i] - obsStars\n",
    "    \n",
    "    CsfOs = obsStars * starCorrProb[i]\n",
    "    CsfOg = obsGalas * (1 - galaCorrProb[i])\n",
    "    \n",
    "    CgfOs = obsStars * (1 - starCorrProb[i])\n",
    "    CgfOg = obsGalas * galaCorrProb[i]\n",
    "    \n",
    "    CsfOsCorr = CsfOs / (starDetProb[i].astype(float) / aveStarDet[i])\n",
    "    CsfOgCorr = CsfOg / (galaDetProb[i].astype(float) / aveGalaDet[i])\n",
    "    \n",
    "    CgfOsCorr = CgfOs / (starDetAsGalaProb[i].astype(float) / aveStarDetAsGala[i])\n",
    "    CgfOgCorr = CgfOg / (galaDetAsGalaProb[i].astype(float) / aveGalaDetAsGala[i])\n",
    "    \n",
    "    corrStarBins.append(CsfOsCorr + CsfOgCorr)\n",
    "    corrGalaBins.append(CgfOsCorr + CgfOgCorr)"
   ]
  },
  {
   "cell_type": "code",
   "execution_count": 15,
   "id": "213e702f-41ae-42ba-a6ed-d30a2b3a5466",
   "metadata": {},
   "outputs": [],
   "source": [
    "# This generates the fracDet data.\n",
    "fracFile = '/hdfs/bechtol/balrog/y3/y3a2_survey_conditions_maps/fracdet/y3a2_griz_o.4096_t.32768_coverfoot_EQU.fits.gz'\n",
    "fracData = fitsio.read(fracFile)\n",
    "\n",
    "# This degrades it to 512 resolution and applies a cut to where there is at least 75% coverage.\n",
    "fracPix = fracData['PIXEL']\n",
    "fracDet = fracData['SIGNAL']\n",
    "fracMap = np.full(12*(4096**2), 0.0)\n",
    "fracMap[fracPix] = fracDet\n",
    "fracMap = hp.ud_grade(fracMap, res, order_in = 'NESTED', order_out = 'NESTED')\n",
    "fracPix = np.where(fracMap >= 0.75)[0]"
   ]
  },
  {
   "cell_type": "code",
   "execution_count": 16,
   "id": "2ecab4d0-fdad-417b-9451-648830917e6b",
   "metadata": {},
   "outputs": [],
   "source": [
    "corrStar = np.sum(corrStarBins, axis = 0)\n",
    "corrGala = np.sum(corrGalaBins, axis = 0)"
   ]
  },
  {
   "cell_type": "code",
   "execution_count": 17,
   "id": "d842ec3c-81a7-4dde-b055-5e9396b9f79e",
   "metadata": {},
   "outputs": [],
   "source": [
    "fullOrigStar = np.full(12*(res**2), hp.UNSEEN)\n",
    "fullOrigStar[allBalrPix] = origStar\n",
    "fullOrigStar[fracPix] = fullOrigStar[fracPix] / fracMap[fracPix]\n",
    "fullOrigStar[np.where(fracMap < 0.75)[0]] = hp.UNSEEN\n",
    "\n",
    "fullCorrStar = np.full(12*(res**2), hp.UNSEEN)\n",
    "fullCorrStar[allBalrPix] = corrStar\n",
    "fullCorrStar[fracPix] = fullCorrStar[fracPix] / fracMap[fracPix]\n",
    "fullCorrStar[np.where(fracMap < 0.75)[0]] = hp.UNSEEN\n",
    "\n",
    "fullOrigGala = np.full(12*(res**2), hp.UNSEEN)\n",
    "fullOrigGala[allBalrPix] = origGala\n",
    "fullOrigGala[fracPix] = fullOrigGala[fracPix] / fracMap[fracPix]\n",
    "fullOrigGala[np.where(fracMap < 0.75)[0]] = hp.UNSEEN\n",
    "\n",
    "fullCorrGala = np.full(12*(res**2), hp.UNSEEN)\n",
    "fullCorrGala[allBalrPix] = corrGala\n",
    "fullCorrGala[fracPix] = fullCorrGala[fracPix] / fracMap[fracPix]\n",
    "fullCorrGala[np.where(fracMap < 0.75)[0]] = hp.UNSEEN"
   ]
  },
  {
   "cell_type": "code",
   "execution_count": 18,
   "id": "695858a3-5a53-4f6b-887b-fd244ab74dde",
   "metadata": {},
   "outputs": [],
   "source": [
    "galaPix = np.where(fullOrigStar >= 0)[0]\n",
    "origGalaCounts = fullOrigStar[galaPix]\n",
    "corrGalaCounts = fullCorrStar[galaPix]\n",
    "\n",
    "aveOrigCount = np.sum(origGalaCounts) / len(origGalaCounts)\n",
    "aveCorrCount = np.sum(corrGalaCounts) / len(corrGalaCounts)"
   ]
  },
  {
   "cell_type": "code",
   "execution_count": 19,
   "id": "378c0fe2-5056-4eb2-a670-9214994408f2",
   "metadata": {},
   "outputs": [
    {
     "data": {
      "image/png": "[encoded data removed]",
      "text/plain": [
       "<Figure size 800x600 with 3 Axes>"
      ]
     },
     "metadata": {},
     "output_type": "display_data"
    }
   ],
   "source": [
    "import matplotlib.style\n",
    "import matplotlib\n",
    "\n",
    "matplotlib.style.use('des_dr1')\n",
    "\n",
    "for condInd in [37]:#range(len(Config.conditions)):\n",
    "\n",
    "    condition = Config.conditions[condInd]\n",
    "    condValues = fitsio.read(strConfig.condFiles[condInd])['SIGNAL']\n",
    "    fullCond = np.zeros(12*512**2)\n",
    "    fullCond[validPix] = condValues\n",
    "    condValues = fullCond[galaPix]\n",
    "\n",
    "    x = np.linspace(np.average(condValues)-3*np.std(condValues), np.average(condValues)+3*np.std(condValues), numBins)\n",
    "    x = x[np.where(x <= np.max(condValues))[0]]\n",
    "    x = x[np.where(x >= np.min(condValues))[0]]\n",
    "    galaSigma = sigma * np.std(condValues)\n",
    "    yOrig = []\n",
    "    yCorr = []\n",
    "\n",
    "    for xi in x:\n",
    "        # Gaussian weighting the values close by to each x value.\n",
    "        totOrigWeightedCounts = np.sum(origGalaCounts * np.exp(-1*(((condValues - xi) / galaSigma)**2)))\n",
    "        totOrigWeightedPixels = np.sum(np.exp(-1*(((condValues - xi) / galaSigma)**2)))\n",
    "        yOrig.append((totOrigWeightedCounts / totOrigWeightedPixels) / aveOrigCount)\n",
    "\n",
    "        totCorrWeightedCounts = np.sum(corrGalaCounts * np.exp(-1*(((condValues - xi) / galaSigma)**2)))\n",
    "        totCorrWeightedPixels = np.sum(np.exp(-1*(((condValues - xi) / galaSigma)**2)))\n",
    "        yCorr.append((totCorrWeightedCounts / totCorrWeightedPixels) / aveCorrCount)\n",
    "\n",
    "    yOrig = np.array(yOrig)\n",
    "    yCorr = np.array(yCorr)\n",
    "    \n",
    "    fig, ax1 = plt.subplots()\n",
    "\n",
    "    ax1.set_xlabel(condition)\n",
    "    ax1.tick_params(axis='y')\n",
    "    ax1.set_ylabel(r'$N / \\langle N\\rangle$')\n",
    "    ax1.plot(x, yOrig, label = 'Balrog Classified Galaxies')\n",
    "    ax1.plot(x, yCorr, label = 'Balrog Corrected Galaxies')\n",
    "    ax1.axhline(y = 1, color = 'black', linestyle = '--')\n",
    "    ax1.grid()\n",
    "    ax1.legend()\n",
    "\n",
    "    ax2 = ax1.twinx()  # instantiate a second axes that shares the same x-axis\n",
    "\n",
    "    ax2.tick_params(axis='y')\n",
    "    ax2.set_ylabel('Fraction of Pixels in Condition Bin')\n",
    "    ax2.hist(condValues, bins = np.linspace(np.min(x), np.max(x), 21), color = 'green', rwidth = 0.923, alpha = 0.2, weights = np.ones(len(condValues)) / len(condValues))\n",
    "\n",
    "    ax3 = ax1.twinx()\n",
    "    ax3.tick_params(axis='y', right = False, labelright = False)\n",
    "    ax3.plot(x, yOrig)\n",
    "    ax3.plot(x, yCorr)\n",
    "    ax3.axhline(y = 1, color = 'black', linestyle = '--')\n",
    "\n",
    "\n",
    "    fig.tight_layout()  # otherwise the right y-label is slightly clipped\n",
    "    plt.title('Galaxy Count Dependencies on Survey Property')\n",
    "    plt.show()"
   ]
  },
  {
   "cell_type": "code",
   "execution_count": null,
   "id": "7e427411-5716-449d-836c-8f0aeb665958",
   "metadata": {},
   "outputs": [],
   "source": []
  }
 ],
 "metadata": {
  "kernelspec": {
   "display_name": "Python 3 (ipykernel)",
   "language": "python",
   "name": "python3"
  },
  "language_info": {
   "codemirror_mode": {
    "name": "ipython",
    "version": 3
   },
   "file_extension": ".py",
   "mimetype": "text/x-python",
   "name": "python",
   "nbconvert_exporter": "python",
   "pygments_lexer": "ipython3",
   "version": "3.9.12"
  }
 },
 "nbformat": 4,
 "nbformat_minor": 5
}
