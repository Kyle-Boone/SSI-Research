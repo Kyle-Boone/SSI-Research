{
 "cells": [
  {
   "cell_type": "code",
   "execution_count": 1,
   "id": "81d90a08-e633-4841-8f5f-fe06163638ce",
   "metadata": {},
   "outputs": [],
   "source": [
    "# The point of this program is to figure out how misclassification rates of galaxies\n",
    "# depend on g band magnitude and survey conditions."
   ]
  },
  {
   "cell_type": "code",
   "execution_count": 2,
   "id": "979e3f06-fe04-4c9d-8c67-f6c8d38ce098",
   "metadata": {},
   "outputs": [],
   "source": [
    "# The magnitude bins I used are:\n",
    "\n",
    "# less than 20 Average Accuracy: 0.9298580145505749\n",
    "\n",
    "# 20 - 22\n",
    "\n",
    "# 22 - 23\n",
    "\n",
    "# 23 - 24\n",
    "\n",
    "# 24 - 25\n",
    "\n",
    "# 25 - 26\n",
    "\n",
    "# greater than 26"
   ]
  },
  {
   "cell_type": "code",
   "execution_count": 3,
   "id": "b84d2a60-beb7-4605-9a29-eb705f775812",
   "metadata": {},
   "outputs": [],
   "source": [
    "import numpy as np\n",
    "from numpy import savetxt\n",
    "from numpy import loadtxt\n",
    "import fitsio\n",
    "import healpy as hp\n",
    "import Config\n",
    "from scipy import interpolate as inter\n",
    "from astropy.table import Table"
   ]
  },
  {
   "cell_type": "code",
   "execution_count": 4,
   "id": "c7098e26-6213-4f0d-8e89-22c6d2f6c1c9",
   "metadata": {},
   "outputs": [],
   "source": [
    "res = 512 # Resolution of the heal pixels\n",
    "sigma = 0.5 # Sigma used for gaussian weighting\n",
    "numBins = 100 # Number of bins to use\n",
    "perVar = 0.98 # Percent of the variance to be captured\n",
    "perMap = 0.625 # Percent of the PC maps to use, adjust this later"
   ]
  },
  {
   "cell_type": "code",
   "execution_count": 5,
   "id": "8aac7f37-0cc8-4236-bac4-0e1917f86658",
   "metadata": {},
   "outputs": [],
   "source": [
    "condMean = [] # Mean value of the conditions (to be used later in normalization)\n",
    "condStds = [] # Standard deviation of the conditions (to be used later in normalization)"
   ]
  },
  {
   "cell_type": "code",
   "execution_count": 6,
   "id": "8fe16ede-9b3d-4390-9429-ed4a4bc0eb84",
   "metadata": {},
   "outputs": [],
   "source": [
    "validPix = fitsio.read(\"/hdfs/bechtol/balrog/y3/y3a2_survey_conditions_maps/Kyle_Stuff/training/Valid_\"+str(res)+\"_Pixels.fits\")['PIXEL']\n",
    "# Boolean alternative to validPix allows for some things to be easier.\n",
    "pixCheck = np.full(12*(res**2), False, dtype = bool)\n",
    "pixCheck[validPix] = True"
   ]
  },
  {
   "cell_type": "code",
   "execution_count": 7,
   "id": "54a35784-2d0d-4336-99f6-937f19b63a97",
   "metadata": {},
   "outputs": [],
   "source": [
    "galaDir = '/hdfs/bechtol/balrog/y3/y3a2_survey_conditions_maps/Kyle_Stuff/GalaxyContamination/'\n",
    "# This is the actual file containing all of the balrog data\n",
    "galaFile = galaDir + 'Blue_Galaxies.fits'\n",
    "# This reads in all of the data. Most of these are just flags, the only pieces that get used much outside\n",
    "# of filtering are detected, true_ra and true_dec which get used to convert into healPixels.\n",
    "galaData = fitsio.read(galaFile)\n",
    "\n",
    "# These are in degrees which is why lonlat is set to True in the next cell.\n",
    "galaRA = galaData['RA']\n",
    "galaDEC = galaData['DEC']\n",
    "galaGMAG = galaData['GMAG']\n",
    "galaSOFCLASSRepeats = galaData['CLASS']\n",
    "\n",
    "# This is used to filter out any injections that either weren't detected or had flags raised.\n",
    "cutIndices = np.where((galaGMAG > 20) &\n",
    "                      (galaGMAG <= 22))[0]\n",
    "\n",
    "# This reduced the data down to the actually valid pixels.\n",
    "galaRA = galaRA[cutIndices]\n",
    "galaDEC = galaDEC[cutIndices]\n",
    "galaSOFCLASSRepeats = galaSOFCLASSRepeats[cutIndices]\n",
    "galaCLASSRepeats = np.zeros_like(galaSOFCLASSRepeats)\n",
    "galaCLASSRepeats[np.where(galaSOFCLASSRepeats >= 2)[0]] = 1\n",
    "\n",
    "# This converts the RA and DEC values from above to healpixels so we can compare to the sky condition.\n",
    "galaPIXRepeats = hp.ang2pix(res, galaRA, galaDEC, lonlat = True, nest = True)\n",
    "\n",
    "# This sorts by the pixel in order to make following methods more efficient.\n",
    "sortInds =galaPIXRepeats.argsort()\n",
    "galaPIXRepeats = galaPIXRepeats[sortInds[::1]]\n",
    "galaCLASSRepeats = galaCLASSRepeats[sortInds[::1]]\n",
    "\n",
    "# These are indices that will be looping through the galaPIX and galaPIXRepeats arrays in parallel.\n",
    "uniqInd = 0\n",
    "galaInd = 0\n",
    "\n",
    "# This will be used to store the number of stars at each pixel.\n",
    "galaPIX = np.unique(galaPIXRepeats) # The unique pixels, with no repeats.\n",
    "galaCOR = np.zeros_like(galaPIX) # Correctly classified galaxies per pixel\n",
    "galaALL = np.zeros_like(galaPIX) # All galaxy injections per pixel.\n",
    "\n",
    "while galaInd < len(galaPIXRepeats):\n",
    "    if galaPIX[uniqInd] == galaPIXRepeats[galaInd]: # If the pixels match up in the arrays.\n",
    "        galaCOR[uniqInd] += galaCLASSRepeats[galaInd] # Add one if there was a detection at this location.\n",
    "        galaALL[uniqInd] += 1                # Add one to the corresponding spot in the balStar array.\n",
    "        galaInd += 1                         # Add one to the starInd to see if the next index in starPix is also the same.\n",
    "        # Since the last index of pixStar and starPix are the same, starInd will increase the last time through the loop,\n",
    "        # making this the index that we must restrict in the while loop.\n",
    "    else:\n",
    "        uniqInd += 1 # If the pixels are no longer the same, increase the index you check in the pixStar array.\n",
    "        \n",
    "galaCOR = galaCOR[pixCheck[galaPIX]]\n",
    "galaALL = galaALL[pixCheck[galaPIX]]\n",
    "galaPIX = galaPIX[pixCheck[galaPIX]]"
   ]
  },
  {
   "cell_type": "code",
   "execution_count": 8,
   "id": "3bab76be-53e2-4653-acf9-c738bb1659a7",
   "metadata": {},
   "outputs": [],
   "source": [
    "# This loads in all of the file names of the survey conditions\n",
    "directory = '/hdfs/bechtol/balrog/y3/y3a2_survey_conditions_maps/Kyle_Stuff/training/'+str(res)+'_'\n",
    "conditions = Config.conditions\n",
    "balrCondMaps = []\n",
    "\n",
    "# This loops over every condition file\n",
    "for cond in conditions:\n",
    "    condData = fitsio.read(directory + cond + '.fits') # This reads in the data\n",
    "    condSigExt = np.full(12*(res**2), -1.6375e+30) # Gives a default value\n",
    "    condSigExt[validPix] = condData['SIGNAL'] # Changes all valid pixels to their corresponding signals\n",
    "    condSigExt[np.where(condSigExt == -1.6375e+30)[0]] = hp.UNSEEN # Masks all non valid pixels\n",
    "    balrCondMaps.append(condSigExt[galaPIX]) # Only stores the values that are in pixels with injections\n",
    "\n",
    "balrCondMaps = np.array(balrCondMaps, dtype = object) # Converts to an array\n",
    "\n",
    "# Stores the original data for later comparisons\n",
    "originalGalaCOR = galaCOR\n",
    "originalGalaALL = galaALL\n",
    "aveAcc = np.sum(originalGalaCOR) / np.sum(originalGalaALL) # Average accuracy of detections."
   ]
  },
  {
   "cell_type": "code",
   "execution_count": 9,
   "id": "54a4cb00-dcb8-4436-9263-3fbae74f94ef",
   "metadata": {},
   "outputs": [],
   "source": [
    "balrStanMaps = []\n",
    "# This standardizes every map as a first step of PCA\n",
    "for i in range(len(balrCondMaps)):\n",
    "    # Store mean and std dev for later use.\n",
    "    condMean.append(np.average(balrCondMaps[i]))\n",
    "    condStds.append(np.std(balrCondMaps[i]))\n",
    "    balrStanMaps.append((balrCondMaps[i] - np.average(balrCondMaps[i])) / np.std(balrCondMaps[i]))\n",
    "    \n",
    "balrStanMaps = np.array(balrStanMaps)"
   ]
  },
  {
   "cell_type": "code",
   "execution_count": 10,
   "id": "f9d2e2cc-6ec4-4b7c-8c14-0d8c391e9154",
   "metadata": {},
   "outputs": [],
   "source": [
    "# This gives the covariance matrix of the standardized maps\n",
    "# Bias is true since the variance of each individual standardized map should be 1\n",
    "cov = np.cov(balrStanMaps.astype(float), bias = True)\n",
    "\n",
    "# This gives the eigenvalues and vectors of the covariance matrix\n",
    "evalues, evectors = np.linalg.eig(cov)\n",
    "\n",
    "# This cuts after the specified percentage of the variance has been achieved\n",
    "for i in range(len(evalues)):\n",
    "    if np.sum(evalues[0:i+1]) / np.sum(evalues) >= perVar:\n",
    "        cutoff = i + 1\n",
    "        break\n",
    "featVec = evectors[0:cutoff]"
   ]
  },
  {
   "cell_type": "code",
   "execution_count": 11,
   "id": "ab670bdc-9040-49d3-835f-f201c3ffd407",
   "metadata": {},
   "outputs": [],
   "source": [
    "balrRedMaps = np.matmul(featVec, balrStanMaps) # Reduces the maps to PCA maps"
   ]
  },
  {
   "cell_type": "code",
   "execution_count": 12,
   "id": "0297ed27-ae2e-4bcc-92df-b65c45de778f",
   "metadata": {},
   "outputs": [],
   "source": [
    "# Standard deviations will once more be stored for later use.\n",
    "# Maps are reduced to standard deviation of 1 for consistent x values in the following steps.\n",
    "redStds = []\n",
    "for i in np.arange(len(balrRedMaps)):\n",
    "    redStds.append(np.std(balrRedMaps[i]))\n",
    "    balrRedMaps[i] = balrRedMaps[i]/np.std(balrRedMaps[i])"
   ]
  },
  {
   "cell_type": "code",
   "execution_count": 13,
   "id": "0f08e5df-21aa-4170-ad7f-d5b9d6b9335e",
   "metadata": {},
   "outputs": [],
   "source": [
    "# Goal of this method is to find the index of the map that has the largest impact on detection rates.\n",
    "def mostSigPCMap(redMaps, corGALA, galaALL = galaALL, sigma = sigma, numBins = 100):\n",
    "    \n",
    "    maxAdjustment = []\n",
    "\n",
    "    for i in range(len(redMaps)):\n",
    "        \n",
    "        onePC = redMaps[i] # Load up a PC map\n",
    "\n",
    "        x = np.linspace(-3, 3, 100) # xValues for plot, goes out to 3 standard deviation.\n",
    "        y = []\n",
    "        \n",
    "        for xi in x:\n",
    "            # Gaussian weighting the values close by to each x value.\n",
    "            totCor = np.sum(corGALA * np.exp(-1*(((onePC.astype(float) - xi) / sigma)**2)))\n",
    "            totAll = np.sum(galaALL * np.exp(-1*(((onePC.astype(float) - xi) / sigma)**2)))\n",
    "            y.append((totCor / totAll) / aveAcc)\n",
    "\n",
    "        y = np.array(y)\n",
    "        \n",
    "        # Make the error the sum of the squared difference between the binned values and 1.\n",
    "        maxAdjustment.append(np.sum((y - 1)**2))\n",
    "        \n",
    "    maxAdjustment = np.array(maxAdjustment)\n",
    "    \n",
    "    mostSigIndex = np.where(maxAdjustment == np.max(maxAdjustment))[0]\n",
    "    \n",
    "    return mostSigIndex[0] # Return wherever the error is the largest"
   ]
  },
  {
   "cell_type": "code",
   "execution_count": 14,
   "id": "0c263e44-3b15-4923-b5bd-cf1e82fe65c6",
   "metadata": {},
   "outputs": [],
   "source": [
    "galaCOR = originalGalaCOR\n",
    "yValues = []\n",
    "corrIndices = []"
   ]
  },
  {
   "cell_type": "code",
   "execution_count": 15,
   "id": "17b8f308-f845-4c3d-b443-51299e2ec747",
   "metadata": {},
   "outputs": [],
   "source": [
    "trimBalrRedMaps = np.copy(balrRedMaps)\n",
    "\n",
    "# Iterate however many times is called for.\n",
    "iterations = int(perMap * len(balrRedMaps))\n",
    "\n",
    "for _ in np.arange(iterations):\n",
    "    \n",
    "    # Figure out the most significant map.\n",
    "    index = mostSigPCMap(trimBalrRedMaps, galaCOR)\n",
    "    \n",
    "    # Store this index for later use.\n",
    "    corrIndices.append(index)\n",
    "    \n",
    "    # Use this map to generate values.\n",
    "    onePC = trimBalrRedMaps[index]\n",
    "    \n",
    "    x = np.linspace(-3, 3, 100)\n",
    "    y = []\n",
    "\n",
    "    for xi in x:\n",
    "        # Gaussian weight the values when determining y Values.\n",
    "        totCor = np.sum(galaCOR * np.exp(-1*(((onePC.astype(float) - xi) / sigma)**2)))\n",
    "        totAll = np.sum(galaALL * np.exp(-1*(((onePC.astype(float) - xi) / sigma)**2)))\n",
    "        y.append((totCor / totAll) / aveAcc)\n",
    "\n",
    "    y = np.array(y)\n",
    "    \n",
    "    yValues.append(y)\n",
    "    \n",
    "    # Generate an interpolation function with constant extrapolation around the ends.\n",
    "    f = inter.interp1d(x, y, bounds_error = False, fill_value = (y[0], y[-1]))\n",
    "\n",
    "    correction = f(trimBalrRedMaps[index].astype('float'))\n",
    "\n",
    "    correction = 1 / correction\n",
    "\n",
    "    # Apply correction and remove whichever principal component was used.\n",
    "    galaCOR = galaCOR * correction\n",
    "\n",
    "    pcMapCutoff = np.full(len(trimBalrRedMaps), True, dtype = bool)\n",
    "    pcMapCutoff[index] = False\n",
    "    trimBalrRedMaps = trimBalrRedMaps[pcMapCutoff]"
   ]
  },
  {
   "cell_type": "code",
   "execution_count": 16,
   "id": "e5d54e5d-34a1-40e5-a691-388b745f8a8a",
   "metadata": {},
   "outputs": [],
   "source": [
    "# This is used to find th original indices used accounting for the fact that maps were removed throughout.\n",
    "actualCorrIndices = []\n",
    "originalIndices = np.arange(len(balrRedMaps))\n",
    "\n",
    "for index in corrIndices:\n",
    "    actualCorrIndices.append(originalIndices[index])\n",
    "    originalIndices = np.delete(originalIndices, index)\n",
    "    \n",
    "actualCorrIndices = np.array(actualCorrIndices)"
   ]
  },
  {
   "cell_type": "code",
   "execution_count": 17,
   "id": "0c4cc3a9-bf12-45d6-a16b-d51a66ba2c30",
   "metadata": {},
   "outputs": [
    {
     "name": "stdout",
     "output_type": "stream",
     "text": [
      "0.9560199431309158\n"
     ]
    }
   ],
   "source": [
    "print(aveAcc)"
   ]
  },
  {
   "cell_type": "code",
   "execution_count": 18,
   "id": "b42600fc-2f2a-44ca-b3e1-5660a5afc7b0",
   "metadata": {},
   "outputs": [],
   "source": [
    "# These next bits all save data, with different formatting when the data size is small.\n",
    "savetxt(galaDir + str(res) + '_20-22_Means.csv', condMean, delimiter=',')"
   ]
  },
  {
   "cell_type": "code",
   "execution_count": 19,
   "id": "e293653f-65b1-4626-b45b-d52f43d1ed3b",
   "metadata": {},
   "outputs": [],
   "source": [
    "savetxt(galaDir + str(res) + '_20-22_Standard_Deviations.csv', condStds, delimiter=',')"
   ]
  },
  {
   "cell_type": "code",
   "execution_count": 20,
   "id": "ea0cc90b-66ff-4b60-9df1-215e572d4c5b",
   "metadata": {},
   "outputs": [],
   "source": [
    "savetxt(galaDir + str(res) + '_20-22_Red_Standard_Deviations.csv', redStds, delimiter=',')"
   ]
  },
  {
   "cell_type": "code",
   "execution_count": 21,
   "id": "823cc4fc-8795-4245-a80c-41a5c4ab9890",
   "metadata": {},
   "outputs": [],
   "source": [
    "savetxt(galaDir + str(res) + '_20-22_Indices.csv', actualCorrIndices, delimiter=',')"
   ]
  },
  {
   "cell_type": "code",
   "execution_count": 22,
   "id": "ee5f7851-d37a-4501-98a7-b4bad560b067",
   "metadata": {},
   "outputs": [],
   "source": [
    "savetxt(galaDir + str(res) + '_20-22_Feature_Vectors.csv', featVec, delimiter='\\t', fmt='%s')"
   ]
  },
  {
   "cell_type": "code",
   "execution_count": 23,
   "id": "00f6f790-cad8-417d-b1d7-fd59534f4087",
   "metadata": {},
   "outputs": [],
   "source": [
    "my_table = Table()\n",
    "for i in np.arange(len(actualCorrIndices)):\n",
    "    my_table[str(actualCorrIndices[i])] = yValues[i]\n",
    "my_table.write(galaDir + str(res) + '_20-22_y_Values' + '.fits', overwrite = True)"
   ]
  },
  {
   "cell_type": "code",
   "execution_count": null,
   "id": "79c2821d-8fdd-49b1-9dde-8f477bc8417e",
   "metadata": {},
   "outputs": [],
   "source": []
  }
 ],
 "metadata": {
  "kernelspec": {
   "display_name": "Python 3 (ipykernel)",
   "language": "python",
   "name": "python3"
  },
  "language_info": {
   "codemirror_mode": {
    "name": "ipython",
    "version": 3
   },
   "file_extension": ".py",
   "mimetype": "text/x-python",
   "name": "python",
   "nbconvert_exporter": "python",
   "pygments_lexer": "ipython3",
   "version": "3.9.12"
  }
 },
 "nbformat": 4,
 "nbformat_minor": 5
}
