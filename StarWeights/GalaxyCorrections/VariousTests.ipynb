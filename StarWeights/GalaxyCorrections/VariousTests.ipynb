{
 "cells": [
  {
   "cell_type": "code",
   "execution_count": 1,
   "id": "6944ce20-50e9-4e3f-98b4-debbd15cd848",
   "metadata": {},
   "outputs": [],
   "source": [
    "import numpy as np\n",
    "import fitsio"
   ]
  },
  {
   "cell_type": "code",
   "execution_count": 2,
   "id": "a9d50fb9-47b9-49b2-9509-7acfee9fffd7",
   "metadata": {},
   "outputs": [],
   "source": [
    "starObsStar = 150\n",
    "galaObsGala = 1000\n",
    "starObsGala = 50\n",
    "galaObsStar = 200"
   ]
  },
  {
   "cell_type": "code",
   "execution_count": 3,
   "id": "f78a8333-acaf-400e-a1e3-00d6bde61ea2",
   "metadata": {},
   "outputs": [
    {
     "data": {
      "text/plain": [
       "0.42857142857142855"
      ]
     },
     "execution_count": 3,
     "metadata": {},
     "output_type": "execute_result"
    }
   ],
   "source": [
    "PTSOS = starObsStar / (starObsStar + galaObsStar)\n",
    "PTSOS"
   ]
  },
  {
   "cell_type": "code",
   "execution_count": 4,
   "id": "dc194bfd-5861-492a-86ce-c901514ed1bc",
   "metadata": {},
   "outputs": [],
   "source": [
    "POSTS = starObsStar / (starObsStar + starObsGala)\n",
    "POSTG = galaObsStar / (galaObsStar + galaObsGala)\n",
    "POGTG = galaObsGala / (galaObsStar + galaObsGala)\n",
    "POS = (starObsStar + galaObsStar) / (starObsStar + galaObsStar + starObsGala + galaObsGala)\n",
    "POG = (starObsGala + galaObsGala) / (starObsStar + galaObsStar + starObsGala + galaObsGala)"
   ]
  },
  {
   "cell_type": "code",
   "execution_count": 5,
   "id": "39933d90-349f-4e2d-989f-742df7d8a845",
   "metadata": {},
   "outputs": [
    {
     "data": {
      "text/plain": [
       "0.42857142857142855"
      ]
     },
     "execution_count": 5,
     "metadata": {},
     "output_type": "execute_result"
    }
   ],
   "source": [
    "BayesRule = (POSTS*POSTG - POS*POSTS) / (POS*(POSTG-POSTS))\n",
    "BayesRule"
   ]
  },
  {
   "cell_type": "code",
   "execution_count": 6,
   "id": "ac8df702-b244-4f4b-8909-d17930dba1d6",
   "metadata": {},
   "outputs": [
    {
     "data": {
      "text/plain": [
       "0.4285714285714292"
      ]
     },
     "execution_count": 6,
     "metadata": {},
     "output_type": "execute_result"
    }
   ],
   "source": [
    "BayesSub = POSTS * (POGTG + POS - 1) / (POS * (POGTG + POSTS - 1))\n",
    "BayesSub"
   ]
  },
  {
   "cell_type": "code",
   "execution_count": 7,
   "id": "d0b1ff9f-379d-48d1-93a5-a774eff24bb0",
   "metadata": {},
   "outputs": [
    {
     "data": {
      "text/plain": [
       "0.047619047619047616"
      ]
     },
     "execution_count": 7,
     "metadata": {},
     "output_type": "execute_result"
    }
   ],
   "source": [
    "PTSOG = starObsGala / (starObsGala + galaObsGala)\n",
    "PTSOG"
   ]
  },
  {
   "cell_type": "code",
   "execution_count": 8,
   "id": "0078bc44-1b84-44b7-807f-df273a705aa1",
   "metadata": {},
   "outputs": [
    {
     "data": {
      "text/plain": [
       "0.04761904761904769"
      ]
     },
     "execution_count": 8,
     "metadata": {},
     "output_type": "execute_result"
    }
   ],
   "source": [
    "BayesSubGala =  (1 - POSTS) * (POGTG + POS - 1) / (POG * (POGTG + POSTS - 1))\n",
    "BayesSubGala"
   ]
  },
  {
   "cell_type": "code",
   "execution_count": 9,
   "id": "0d91f913-29a0-4616-963b-c61d81f5b622",
   "metadata": {},
   "outputs": [],
   "source": [
    "# data = fitsio.read('/afs/hep.wisc.edu/bechtol-group/MegansThings/balrog_matched_catalog_sof_run2_stars_v1.4.fits')['meas_cm_mag']"
   ]
  },
  {
   "cell_type": "code",
   "execution_count": 10,
   "id": "bc5aa2c1-6241-4208-ad90-0cf3c1b6a00f",
   "metadata": {},
   "outputs": [],
   "source": [
    "# len(data[:,0])"
   ]
  },
  {
   "cell_type": "code",
   "execution_count": 11,
   "id": "2a193cec-c4a4-4506-b7c5-1c8357d4b215",
   "metadata": {},
   "outputs": [
    {
     "name": "stdout",
     "output_type": "stream",
     "text": [
      "[1 3 8]\n"
     ]
    }
   ],
   "source": [
    "id1 = np.array([1, 3, 8, 7])\n",
    "id2 = np.array([0, 1, 2, 3, 4, 5, 6, 7, 8, 9])\n",
    "parallelIndex = 0\n",
    "cropInds = []\n",
    "for i in np.arange(len(id2)):\n",
    "    if parallelIndex >= len(id1):\n",
    "        break\n",
    "    if id2[i] == id1[parallelIndex]:\n",
    "        cropInds.append(i)\n",
    "        parallelIndex += 1\n",
    "print(id2[cropInds])"
   ]
  },
  {
   "cell_type": "code",
   "execution_count": 12,
   "id": "e216be24-1c69-4004-9550-fcfa37ab4f43",
   "metadata": {},
   "outputs": [
    {
     "name": "stdout",
     "output_type": "stream",
     "text": [
      "200.00000000000028\n"
     ]
    }
   ],
   "source": [
    "trueStar=(starObsStar+galaObsStar)*(POGTG+POS-1)/(POGTG+POSTS-1)\n",
    "trueStar+=(starObsGala+galaObsGala)*(POGTG+POS-1)/(POGTG+POSTS-1)\n",
    "print(trueStar)"
   ]
  },
  {
   "cell_type": "code",
   "execution_count": 13,
   "id": "883bf4b8-215b-4dcf-b3c5-c5bcedd8a430",
   "metadata": {},
   "outputs": [
    {
     "name": "stdout",
     "output_type": "stream",
     "text": [
      "200.0\n"
     ]
    }
   ],
   "source": [
    "trueStar = (starObsStar+galaObsStar)*(POGTG)/(POGTG+POSTS-1)\n",
    "trueStar += (starObsGala+galaObsGala)*(POGTG-1)/(POGTG+POSTS-1)\n",
    "print(trueStar)"
   ]
  }
 ],
 "metadata": {
  "kernelspec": {
   "display_name": "Python 3 (ipykernel)",
   "language": "python",
   "name": "python3"
  },
  "language_info": {
   "codemirror_mode": {
    "name": "ipython",
    "version": 3
   },
   "file_extension": ".py",
   "mimetype": "text/x-python",
   "name": "python",
   "nbconvert_exporter": "python",
   "pygments_lexer": "ipython3",
   "version": "3.9.12"
  }
 },
 "nbformat": 4,
 "nbformat_minor": 5
}
