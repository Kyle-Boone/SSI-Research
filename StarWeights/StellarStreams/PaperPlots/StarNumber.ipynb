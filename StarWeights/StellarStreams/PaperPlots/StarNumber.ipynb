{
 "cells": [
  {
   "cell_type": "markdown",
   "id": "cbd26fb7-d4df-4faa-9686-ef7af4fd58c1",
   "metadata": {},
   "source": [
    "# Next Steps:\n",
    "\n",
    "Once this run completes, if the general form still seems to be fitting, start working on magnitude bins. Make sure to also consider that both stars and galaxies (both classified as stars) need to have a good significance when their count is multiplied by 5."
   ]
  },
  {
   "cell_type": "code",
   "execution_count": 1,
   "id": "5c5edf02-4ad4-4a4a-bd33-73154c10658f",
   "metadata": {},
   "outputs": [],
   "source": [
    "import sys\n",
    "sys.path.insert(1, '/afs/hep.wisc.edu/home/kkboone/software/StarWeights/StellarStreams')\n",
    "\n",
    "import fitsio\n",
    "import numpy as np\n",
    "import healpy as hp\n",
    "import matplotlib.pyplot as plt\n",
    "import matplotlib.style\n",
    "import matplotlib\n",
    "from scipy import interpolate as inter\n",
    "from astropy.table import Table\n",
    "import BalrogTestConfig as balrConfig\n",
    "import Config\n",
    "from TrainAndFullMap import *\n",
    "from timeit import default_timer as timer\n",
    "matplotlib.style.use('des_dr1')"
   ]
  },
  {
   "cell_type": "code",
   "execution_count": 2,
   "id": "5b3dca7b-e50a-4e95-b860-2fb344e6bc0e",
   "metadata": {},
   "outputs": [],
   "source": [
    "cutOffPercent = .01\n",
    "res = 4096\n",
    "binNum = 10"
   ]
  },
  {
   "cell_type": "code",
   "execution_count": 3,
   "id": "cebc9ef2-5a99-4e29-abac-054ead8e3687",
   "metadata": {},
   "outputs": [],
   "source": [
    "persToUse = np.logspace(0, 2, 20)"
   ]
  },
  {
   "cell_type": "code",
   "execution_count": 4,
   "id": "7b179d59-7054-40dd-9c4a-9e31fd9c909d",
   "metadata": {},
   "outputs": [],
   "source": [
    "def mostSigInd(y):\n",
    "    maxSquaredDiff = 0\n",
    "    index = -1\n",
    "    \n",
    "    maxSingError = np.max(np.abs(y - 1))\n",
    "    \n",
    "    if maxSingError <= cutOffPercent:\n",
    "        return index, maxSingError\n",
    "    \n",
    "    for i in range(len(y)):\n",
    "        yi = y[i]\n",
    "        \n",
    "        diff = np.sum((yi - 1)**2)\n",
    "        \n",
    "        if diff > maxSquaredDiff:\n",
    "            maxSquaredDiff = diff\n",
    "            index = i\n",
    "            \n",
    "    return index, maxSingError"
   ]
  },
  {
   "cell_type": "code",
   "execution_count": 5,
   "id": "3e970b08-ff3a-4a98-99f4-8ac241a49d64",
   "metadata": {},
   "outputs": [],
   "source": [
    "# allPixFile = balrConfig.test1AllPixFile\n",
    "# starFile = balrConfig.test1StarFile\n",
    "# validPixFile = balrConfig.test1ValidPixFile\n",
    "# condFiles = balrConfig.test1CondFiles\n",
    "\n",
    "# origCondMaps = []\n",
    "\n",
    "# # This loops over every condition file\n",
    "# for condFile in condFiles:\n",
    "#     condData = fitsio.read(condFile) # This reads in the data\n",
    "#     origCondMaps.append(condData['SIGNAL']) # Only stores the values that are in pixels with injections\n",
    "\n",
    "# origCondMaps = np.array(origCondMaps) # Converts to an array\n",
    "\n",
    "# origInjData = fitsio.read(allPixFile)\n",
    "\n",
    "# origInjPix = hp.ang2pix(res, origInjData['RA'], origInjData['DEC'], nest = True, lonlat = True)\n",
    "# origValidPix = np.unique(origInjPix)\n",
    "\n",
    "# # Begin Comment Region\n",
    "# # testSubset = np.full(len(origValidPix), False, dtype = bool)\n",
    "# # testSubset[0:int(0.2*len(testSubset))] = True\n",
    "# # np.random.shuffle(testSubset)\n",
    "# # testPixels = origValidPix[testSubset]\n",
    "# # End Comment Region\n",
    "\n",
    "# origDetData = fitsio.read(starFile)\n",
    "\n",
    "# origDetPix = hp.ang2pix(res, origDetData['RA'], origDetData['DEC'], nest = True, lonlat = True)\n",
    "\n",
    "# origInjPix = np.sort(origInjPix)\n",
    "\n",
    "# origDetPix = np.sort(origDetPix)\n",
    "\n",
    "# # Begin Comment Region\n",
    "# # injTestInds = np.isin(origInjPix, testPixels)\n",
    "# # potentialInjTrainInds = ~injTestInds\n",
    "# # End Comment Region\n",
    "\n",
    "# # Everything from here until the main loop is to generate matchInds\n",
    "\n",
    "# origInjPixUnique, origInjPixCounts = np.unique(origInjPix, return_counts = True)\n",
    "\n",
    "# _, origAllDetPixCounts = np.unique(np.append(origDetPix, origValidPix), return_counts = True)\n",
    "# origAllDetPixCounts = origAllDetPixCounts - 1\n",
    "\n",
    "# matchInds = np.zeros(len(origDetPix), dtype = int)\n",
    "\n",
    "# startInjInds = np.append(np.array([0]), np.cumsum(origInjPixCounts)[:-1])\n",
    "\n",
    "# startDetInds = np.append(np.array([0]), np.cumsum(origAllDetPixCounts)[:-1])\n",
    "\n",
    "# for i in np.arange(len(origAllDetPixCounts)):\n",
    "#     if origAllDetPixCounts[i] == 0:\n",
    "#         continue\n",
    "#     matchInds[startDetInds[i]: startDetInds[i] + origAllDetPixCounts[i]] = np.arange(origAllDetPixCounts[i]).astype(int) + startInjInds[i]\n",
    "    \n",
    "# for perObjectsToUse in persToUse:\n",
    "    \n",
    "#     includeInds = np.full(len(origInjPix), False, dtype = bool)\n",
    "#     includeInds[0:int((float(perObjectsToUse)*len(includeInds)) / 100)] = True\n",
    "#     np.random.shuffle(includeInds)\n",
    "    \n",
    "#     # Begin Comment Region\n",
    "# #     includeInds = np.full(np.sum(potentialInjTrainInds), False, dtype = bool)\n",
    "# #     includeInds[0:int((float(perObjectsToUse)*len(includeInds)) / 100)] = True\n",
    "# #     np.random.shuffle(includeInds)\n",
    "    \n",
    "# #     injTrainInds = np.copy(potentialInjTrainInds)\n",
    "# #     injTrainInds[np.where(injTrainInds)[0]] = includeInds\n",
    "#     # End Comment Region\n",
    "    \n",
    "#     detPix = origDetPix[includeInds[matchInds]]\n",
    "#     injPix = origInjPix[includeInds]\n",
    "    \n",
    "#     # Begin Comment Region\n",
    "# #     detPixTest = origDetPix[injTestInds[matchInds]]\n",
    "# #     injPixTest = origInjPix[injTestInds]\n",
    "    \n",
    "# #     detPixTrain = origDetPix[injTrainInds[matchInds]]\n",
    "# #     injPixTrain = origInjPix[injTrainInds]\n",
    "    \n",
    "# #     detPix = np.sort(np.append(detPixTest, detPixTrain))\n",
    "# #     injPix = np.sort(np.append(injPixTest, injPixTrain))\n",
    "#     # End Comment Region\n",
    "\n",
    "#     validPix =  np.unique(injPix)\n",
    "    \n",
    "#     condCrop = np.isin(origValidPix, validPix)\n",
    "    \n",
    "#     constantTrainPixIndicator, origDetPixCounts = np.unique(np.append(validPix, detPix), return_counts = True)\n",
    "#     origDetPixCounts = origDetPixCounts - 1\n",
    "    \n",
    "#     condMaps = []\n",
    "\n",
    "#     # This loops over every condition file\n",
    "#     for origCondMap in origCondMaps:\n",
    "#         condMaps.append(origCondMap[condCrop]) # Only stores the values that are in pixels with injections\n",
    "\n",
    "#     condMaps = np.array(condMaps)\n",
    "    \n",
    "#     trainInds = np.full(len(condMaps[0]), False, dtype = bool)\n",
    "#     trainInds[0:int(0.8*len(trainInds))] = True\n",
    "#     np.random.shuffle(trainInds)\n",
    "    \n",
    "#     # Begin Comment Region\n",
    "#     # trainInds = np.isin(constantTrainPixIndicator, np.unique(injPixTrain))\n",
    "#     # End Comment Region\n",
    "    \n",
    "#     # trainInds = np.isin(constantTrainPixIndicator, np.unique(injPixTrain))\n",
    "    \n",
    "#     aveDetTrain = np.sum(origDetPixCounts[trainInds]) / len(origDetPixCounts[trainInds])\n",
    "\n",
    "#     sortInds = []\n",
    "#     for i in range(len(condMaps)):\n",
    "#         sortInds.append(condMaps[i][trainInds].argsort())\n",
    "#     sortInds = np.array(sortInds)\n",
    "    \n",
    "#     binIndLims = [0]\n",
    "\n",
    "#     for j in range(binNum):\n",
    "#         binIndLims.append(int((np.sum(trainInds) - binIndLims[-1]) / (binNum - j)) + (binIndLims[-1]))\n",
    "        \n",
    "#     xBins = []\n",
    "\n",
    "#     for i in range(len(condMaps)):\n",
    "#         cond_Map_Sort = condMaps[i][trainInds][sortInds[i][::1]]\n",
    "#         condBins = []\n",
    "#         for j in range(binNum):\n",
    "#             condBins.append(cond_Map_Sort[binIndLims[j]:binIndLims[j+1]])\n",
    "#         indXBin = []\n",
    "\n",
    "#         for j in range(binNum):\n",
    "#             indXBin.append(np.sum(condBins[j]) / len(condBins[j]))\n",
    "\n",
    "#         xBins.append(np.array(indXBin))\n",
    "\n",
    "#     xBins = np.array(xBins)\n",
    "    \n",
    "#     yBinsOrig = []\n",
    "#     for i in range(len(condMaps)):\n",
    "#         detSort = origDetPixCounts[trainInds][sortInds[i][::1]]\n",
    "#         detBins = []\n",
    "#         for j in range(binNum):\n",
    "#             detBins.append(detSort[binIndLims[j]:binIndLims[j+1]])\n",
    "#         indYBinOrig = []\n",
    "\n",
    "#         for j in range(binNum):\n",
    "#             indYBinOrig.append(np.sum(detBins[j]) / (aveDetTrain * len(detBins[j])))\n",
    "\n",
    "#         yBinsOrig.append(np.array(indYBinOrig))\n",
    "\n",
    "#     yBinsOrig = np.array(yBinsOrig)\n",
    "    \n",
    "#     detPixCounts = np.copy(origDetPixCounts)\n",
    "    \n",
    "#     allErrors = []\n",
    "\n",
    "#     while(True):\n",
    "\n",
    "#         yBins = []\n",
    "#         for i in range(len(condMaps)):\n",
    "#             detSort = detPixCounts[trainInds][sortInds[i][::1]]\n",
    "#             detBins = []\n",
    "#             for j in range(binNum):\n",
    "#                 detBins.append(detSort[binIndLims[j]:binIndLims[j+1]])\n",
    "#             indYBin = []\n",
    "\n",
    "#             for j in range(binNum):\n",
    "#                 indYBin.append(np.sum(detBins[j]) / (aveDetTrain * len(detBins[j])))\n",
    "\n",
    "#             yBins.append(np.array(indYBin))\n",
    "\n",
    "#         yBins = np.array(yBins)\n",
    "\n",
    "#         index, maxErr = mostSigInd(yBins)\n",
    "#         if index == -1:\n",
    "#             break\n",
    "\n",
    "#         allErrors.append(maxErr)\n",
    "\n",
    "#         corrFunc = inter.interp1d(xBins[index], yBins[index], bounds_error = False, fill_value = (yBins[index][0], yBins[index][-1]))\n",
    "\n",
    "#         detPixCounts = detPixCounts / (corrFunc(condMaps[index]))\n",
    "\n",
    "#         detPixCounts = detPixCounts * aveDetTrain / (np.sum(detPixCounts[trainInds]) / len(detPixCounts[trainInds]))\n",
    "        \n",
    "#     binIndLims = [0]\n",
    "\n",
    "#     for j in range(binNum):\n",
    "#         binIndLims.append(int((np.sum(~trainInds) - binIndLims[-1]) / (binNum - j)) + (binIndLims[-1]))\n",
    "        \n",
    "#     condMaxErrors = []\n",
    "    \n",
    "#     aveDetTest = np.sum(detPixCounts[~trainInds]) / len(detPixCounts[~trainInds])\n",
    "\n",
    "#     for condInd in range(len(condMaps)):\n",
    "#         condMap = condMaps[condInd]\n",
    "#         condSortInds = condMap[~trainInds].argsort()\n",
    "\n",
    "#         detStarTemp = detPixCounts[~trainInds][condSortInds[::1]]\n",
    "\n",
    "#         detBins = []\n",
    "\n",
    "#         for j in range(10):\n",
    "#             detBins.append(detStarTemp[binIndLims[j]:binIndLims[j+1]])\n",
    "\n",
    "#         yBinCond = []\n",
    "\n",
    "#         for j in range(10):\n",
    "#             yBinCond.append(np.sum(detBins[j]) / (aveDetTest * len(detBins[j])))\n",
    "\n",
    "#         yBinCond = np.array(yBinCond)\n",
    "\n",
    "#         condMaxErrors.append(np.max(np.abs(yBinCond - 1)))\n",
    "        \n",
    "#     condErrorsFile = balrConfig.test1Dir + 'LogConstantTest/More_Points_' + str(round(perObjectsToUse / 100, 3)) + '_Cond_Errors_' + str(cutOffPercent) + '.fits'\n",
    "#     my_table = Table()\n",
    "#     my_table['Errors'] = condMaxErrors\n",
    "#     my_table.write(condErrorsFile, overwrite = True)\n",
    "#     print(str(round(perObjectsToUse / 100, 3)) + ': ' + str(np.average(condMaxErrors)))"
   ]
  },
  {
   "cell_type": "code",
   "execution_count": 6,
   "id": "2d06e8c9-6e64-45e9-9e8f-e82c5a8b2053",
   "metadata": {},
   "outputs": [],
   "source": [
    "maxDevs = []\n",
    "for per in persToUse:\n",
    "    file = balrConfig.test1Dir + 'LogRegularAccuracy/' + str(round(per / 100, 3)) + '_Cond_Errors_' + str(0.01) + '.fits'\n",
    "    maxDevs.append(fitsio.read(file)['Errors'])"
   ]
  },
  {
   "cell_type": "code",
   "execution_count": 7,
   "id": "1ce133df-db7e-4e3e-88fe-8b18b6d07b54",
   "metadata": {},
   "outputs": [],
   "source": [
    "aveMaxDev = []\n",
    "for maxDev in maxDevs:\n",
    "    aveMaxDev.append(np.average(maxDev))"
   ]
  },
  {
   "cell_type": "code",
   "execution_count": 8,
   "id": "d2f33132-1589-455c-b592-c242e2a01708",
   "metadata": {},
   "outputs": [],
   "source": [
    "import scipy as sc"
   ]
  },
  {
   "cell_type": "code",
   "execution_count": 9,
   "id": "3ab11241-920b-472b-b280-d10ccf639d5e",
   "metadata": {},
   "outputs": [],
   "source": [
    "def func(x, C, b, k):\n",
    "    return C*(x**(-1*k)) + b"
   ]
  },
  {
   "cell_type": "code",
   "execution_count": 10,
   "id": "badb0eb0-0831-4d40-a468-ca988fdf2459",
   "metadata": {},
   "outputs": [],
   "source": [
    "popt, pcov = sc.optimize.curve_fit(func, persToUse, aveMaxDev, bounds=([0., 0., 0], [0.1, 0.01, 2]))"
   ]
  },
  {
   "cell_type": "code",
   "execution_count": 11,
   "id": "3149fdce-826c-4415-bb64-a1bcab558e23",
   "metadata": {},
   "outputs": [
    {
     "data": {
      "text/plain": [
       "array([0.04967648, 0.00505517, 0.61442025])"
      ]
     },
     "execution_count": 11,
     "metadata": {},
     "output_type": "execute_result"
    }
   ],
   "source": [
    "popt"
   ]
  },
  {
   "cell_type": "code",
   "execution_count": 12,
   "id": "bf054cc9-ddc1-4d61-b3d6-dd3fc8eb148c",
   "metadata": {},
   "outputs": [
    {
     "data": {
      "text/plain": [
       "array([0.00100024, 0.00098865, 0.03669308])"
      ]
     },
     "execution_count": 12,
     "metadata": {},
     "output_type": "execute_result"
    }
   ],
   "source": [
    "perr = np.sqrt(np.diag(pcov))\n",
    "perr"
   ]
  },
  {
   "cell_type": "code",
   "execution_count": 13,
   "id": "d1718ecc-c079-40f9-a9ad-1c44b212afda",
   "metadata": {},
   "outputs": [
    {
     "data": {
      "image/png": "[encoded data removed]",
      "text/plain": [
       "<Figure size 800x600 with 1 Axes>"
      ]
     },
     "metadata": {},
     "output_type": "display_data"
    }
   ],
   "source": [
    "plt.figure()\n",
    "plt.scatter(persToUse, aveMaxDev, zorder = 3, label = 'Calculated')\n",
    "plt.plot(np.linspace(0.01, 100, 10000), func(np.linspace(0.01, 100, 10000), *popt), color = 'r', zorder = 3, label = 'Fit')\n",
    "plt.text(20, 0.036, r'$y = Cx^{-k} + b$' '\\n' r'$k = 0.61\\pm 0.04$', bbox={'facecolor': 'white', 'alpha': 1, 'pad': 10}, zorder = 3)\n",
    "plt.legend()\n",
    "plt.ylim([0, 0.06])\n",
    "plt.xlim([0, 100])\n",
    "plt.grid(zorder = 0)\n",
    "plt.ylabel('Average Maximum Deviation')\n",
    "plt.xlabel('Percentage of Balrog Stars Used')\n",
    "plt.title('Constant Test Data Size')\n",
    "plt.show()"
   ]
  },
  {
   "cell_type": "code",
   "execution_count": 14,
   "id": "94678e7d-70c0-4746-9cf0-af00b28bed27",
   "metadata": {},
   "outputs": [],
   "source": [
    "x_test = np.linspace(100, 500, 10000)"
   ]
  },
  {
   "cell_type": "code",
   "execution_count": 15,
   "id": "55316698-614a-4768-bc6a-f4f9552dff47",
   "metadata": {},
   "outputs": [],
   "source": [
    "y_test = func(x_test, *popt)"
   ]
  },
  {
   "cell_type": "code",
   "execution_count": 16,
   "id": "e87e120d-880c-4024-b4da-2d6bbc1f8f8e",
   "metadata": {},
   "outputs": [
    {
     "name": "stdout",
     "output_type": "stream",
     "text": [
      "100.0\n"
     ]
    }
   ],
   "source": [
    "if len(np.where(y_test < 0.025)[0]) == 0:\n",
    "    print('Too High Precision')\n",
    "else:\n",
    "    print(x_test[np.where(y_test < 0.025)[0][0]])"
   ]
  }
 ],
 "metadata": {
  "kernelspec": {
   "display_name": "Python 3 (ipykernel)",
   "language": "python",
   "name": "python3"
  },
  "language_info": {
   "codemirror_mode": {
    "name": "ipython",
    "version": 3
   },
   "file_extension": ".py",
   "mimetype": "text/x-python",
   "name": "python",
   "nbconvert_exporter": "python",
   "pygments_lexer": "ipython3",
   "version": "3.9.12"
  }
 },
 "nbformat": 4,
 "nbformat_minor": 5
}
