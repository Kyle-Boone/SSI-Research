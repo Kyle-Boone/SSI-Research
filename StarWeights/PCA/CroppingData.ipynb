{
 "cells": [
  {
   "cell_type": "code",
   "execution_count": 1,
   "id": "ed09c2ee-0c64-4d7c-983a-3b775a56baa8",
   "metadata": {},
   "outputs": [],
   "source": [
    "# This program serves to crop each of the survey property maps to the valid pixels\n",
    "# previously determined."
   ]
  },
  {
   "cell_type": "code",
   "execution_count": 2,
   "id": "84417d0b-89c6-4ef6-add5-3d20dc062007",
   "metadata": {},
   "outputs": [],
   "source": [
    "import numpy as np\n",
    "from numpy import savetxt\n",
    "from numpy import loadtxt\n",
    "import fitsio\n",
    "import healpy as hp\n",
    "import matplotlib.pyplot as plt\n",
    "import Config\n",
    "from astropy.table import Table"
   ]
  },
  {
   "cell_type": "code",
   "execution_count": 3,
   "id": "6c0ce31e-9d79-4991-8465-4a1da54f7111",
   "metadata": {},
   "outputs": [],
   "source": [
    "condFiles = Config.files\n",
    "conditions = Config.conditions"
   ]
  },
  {
   "cell_type": "code",
   "execution_count": 4,
   "id": "325f2cba-6630-45f5-9cf2-372496121b21",
   "metadata": {},
   "outputs": [],
   "source": [
    "# This loads in the previously determined valid pixels.\n",
    "validPix = fitsio.read(\"/hdfs/bechtol/balrog/y3/y3a2_survey_conditions_maps/Kyle_Stuff/training/Valid_4096_Pixels.fits\")['PIXEL']"
   ]
  },
  {
   "cell_type": "code",
   "execution_count": 5,
   "id": "c03b61d9-99d2-47f2-ac25-2b06f429b966",
   "metadata": {},
   "outputs": [],
   "source": [
    "# Loops over everything except for stellar density (different default format).\n",
    "for i in range(len(Config.files) - 1):\n",
    "    condData = fitsio.read(condFiles[i]) # This reads in the data.\n",
    "    condSigExt = np.full(12*(4096**2), -1.6375e+30) # Gives a default value.\n",
    "    condSigExt[condData['PIXEL']] = condData['SIGNAL'] # Changes all valid pixels to their corresponding signals.\n",
    "    # condSigExt = hp.ud_grade(condSigExt, 512, order_in = 'NESTED', order_out = 'NESTED') # Degrades to 512 resolution.\n",
    "    condSig = condSigExt[validPix] # Crops to the desired pixels.\n",
    "    # Writes data.\n",
    "    my_table = Table()\n",
    "    my_table['SIGNAL'] = condSig\n",
    "    my_table.write('/hdfs/bechtol/balrog/y3/y3a2_survey_conditions_maps/Kyle_Stuff/training/4096_' + conditions[i] + '.fits', overwrite = True)"
   ]
  },
  {
   "cell_type": "code",
   "execution_count": 6,
   "id": "414c47e4-ceb5-4447-b591-6d8d7557dee7",
   "metadata": {},
   "outputs": [],
   "source": [
    "# Same as block above but for stellar density.\n",
    "stelDensExt = fitsio.read(condFiles[-1])['I'].flatten() # Loads in the stellar density\n",
    "# stelDensExt = hp.ud_grade(stelDensExt, 512, order_in = 'NESTED', order_out = 'NESTED')\n",
    "condSig = stelDensExt[validPix]\n",
    "my_table = Table()\n",
    "my_table['SIGNAL'] = condSig\n",
    "my_table.write('/hdfs/bechtol/balrog/y3/y3a2_survey_conditions_maps/Kyle_Stuff/training/4096_' + conditions[-1] + '.fits', overwrite = True)"
   ]
  },
  {
   "cell_type": "code",
   "execution_count": null,
   "id": "e708c9aa-aa4f-4cba-a4ce-5ffb559756a1",
   "metadata": {},
   "outputs": [],
   "source": []
  }
 ],
 "metadata": {
  "kernelspec": {
   "display_name": "Python 3 (ipykernel)",
   "language": "python",
   "name": "python3"
  },
  "language_info": {
   "codemirror_mode": {
    "name": "ipython",
    "version": 3
   },
   "file_extension": ".py",
   "mimetype": "text/x-python",
   "name": "python",
   "nbconvert_exporter": "python",
   "pygments_lexer": "ipython3",
   "version": "3.9.12"
  }
 },
 "nbformat": 4,
 "nbformat_minor": 5
}
