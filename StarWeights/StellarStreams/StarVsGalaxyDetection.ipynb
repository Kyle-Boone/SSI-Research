{
 "cells": [
  {
   "cell_type": "markdown",
   "id": "222653b8-34bf-49b1-a92e-7af6e74cdfaf",
   "metadata": {},
   "source": [
    "## New Pipeline Algorithm:\n",
    "\n",
    "For this new pipeline, I will be attempting to calculate four different functions of $N/\\langle N\\rangle$. The four types of objects will be: balrog detected stars, balrog detected stars that were classified as stars, balrog detected galaxies, and balrog detected galaxies that were classified as galaxies. For the first two, my overall pixel sample will include every pixel where a good quality star injection occured. By this I mean that I will look at pixels where at least one star injection passed my typical four quality cuts. For the last two, it will be synonymous but for balrog galaxy injections. Perform some color magnitude cuts, and only look at measured psf magnitude. The color magnitude cut does not have to be based on the isochrone."
   ]
  },
  {
   "cell_type": "code",
   "execution_count": 1,
   "id": "0ae88bf4-fb42-475d-a18a-7a98b2bd57b5",
   "metadata": {},
   "outputs": [],
   "source": [
    "import numpy as np\n",
    "import matplotlib.pyplot as plt\n",
    "import fitsio\n",
    "import healpy as hp\n",
    "import Config\n",
    "import StellarConfig as strConfig\n",
    "from scipy import interpolate as inter"
   ]
  },
  {
   "cell_type": "markdown",
   "id": "32a24f47-d197-4416-a39c-2f30826042b2",
   "metadata": {},
   "source": [
    "## Getting Objects\n",
    "\n",
    "This will be a bit different than previous methods, for one I will be using a full 4096 resolution (although this would change in the regular pipeline back to 512). I also want the pixels for every object, as well as the color and magnitude for detected objects so that I can later perform a color magnitude cut."
   ]
  },
  {
   "cell_type": "code",
   "execution_count": 2,
   "id": "9487831e-a569-47de-b217-0ab5cd64cda9",
   "metadata": {},
   "outputs": [],
   "source": [
    "matBalrGalaFile = strConfig.matBalrFile\n",
    "detBalrGalaFile = strConfig.detBalrFile\n",
    "matBalrStarFile = strConfig.matBalrStarFile\n",
    "detBalrStarFile = strConfig.detBalrStarFile\n",
    "\n",
    "deepFiles = strConfig.deepFiles\n",
    "\n",
    "pixFile = strConfig.pixFile\n",
    "\n",
    "classCutoff = strConfig.classCutoff\n",
    "gCut = strConfig.gCut"
   ]
  },
  {
   "cell_type": "markdown",
   "id": "8bb9eb26-530a-4391-bca7-4381076d480f",
   "metadata": {},
   "source": [
    "## Stars"
   ]
  },
  {
   "cell_type": "code",
   "execution_count": 3,
   "id": "807dfe98-7acf-402b-ac52-0cf52751df21",
   "metadata": {},
   "outputs": [],
   "source": [
    "# This reads in all of the data. Most of these are just flags, but the g magnitude, ra, dec, detected\n",
    "# flag, and others will be stored for later use.\n",
    "starData = fitsio.read(detBalrStarFile, columns = ['bal_id', 'flags_foreground', 'flags_badregions', \n",
    "                                            'flags_footprint', 'match_flag_1.5_asec', 'true_ra', 'true_dec'])\n",
    "FOREGROUND = starData['flags_foreground']\n",
    "BADREGIONS = starData['flags_badregions']\n",
    "FOOTPRINT = starData['flags_footprint']\n",
    "ARCSECONDS = starData['match_flag_1.5_asec']\n",
    "\n",
    "ALL_STAR_RA = starData['true_ra']\n",
    "ALL_STAR_DEC = starData['true_dec']\n",
    "\n",
    "qualityCut = np.where((FOREGROUND == 0) & \n",
    "                      (BADREGIONS < 2) & \n",
    "                      (FOOTPRINT == 1) & \n",
    "                      (ARCSECONDS < 2))[0]\n",
    "\n",
    "ALL_STAR_RA = ALL_STAR_RA[qualityCut]\n",
    "ALL_STAR_DEC = ALL_STAR_DEC[qualityCut]\n",
    "\n",
    "measStarData = fitsio.read(matBalrStarFile, columns = ['meas_ra', 'meas_dec', 'meas_EXTENDED_CLASS_SOF',\n",
    "                                            'meas_psf_mag', 'bal_id'])\n",
    "\n",
    "RA = measStarData['meas_ra']\n",
    "DEC = measStarData['meas_dec']\n",
    "# PSF Magnitudes\n",
    "GMAG_PSF = measStarData['meas_psf_mag'][:,0]\n",
    "RMAG_PSF = measStarData['meas_psf_mag'][:,1]\n",
    "# This is the class that the object was measured as.\n",
    "CLASS = measStarData['meas_EXTENDED_CLASS_SOF']\n",
    "# This is the ID from the measured catalog.\n",
    "MEAS_ID  = measStarData['bal_id']\n",
    "\n",
    "sortInds = MEAS_ID.argsort()\n",
    "MEAS_ID = MEAS_ID[sortInds[::1]]\n",
    "RA = RA[sortInds[::1]]\n",
    "DEC = DEC[sortInds[::1]]\n",
    "GMAG_PSF = GMAG_PSF[sortInds[::1]]\n",
    "RMAG_PSF = RMAG_PSF[sortInds[::1]]\n",
    "CLASS = CLASS[sortInds[::1]]\n",
    "\n",
    "# Everything from here on out is simply used in order to filter the data\n",
    "FLAG_ID = starData['bal_id']\n",
    "\n",
    "sortInds = FLAG_ID.argsort()\n",
    "FLAG_ID = FLAG_ID[sortInds[::1]]\n",
    "FOREGROUND = FOREGROUND[sortInds[::1]]\n",
    "BADREGIONS = BADREGIONS[sortInds[::1]]\n",
    "FOOTPRINT = FOOTPRINT[sortInds[::1]]\n",
    "ARCSECONDS = ARCSECONDS[sortInds[::1]]\n",
    "\n",
    "cropInds = np.isin(FLAG_ID, MEAS_ID)\n",
    "\n",
    "# This will serve to align the flags with their measured counterpart.\n",
    "# parallelInd = 0\n",
    "# cropInds = []\n",
    "# for i in np.arange(len(FLAG_ID)):\n",
    "#     if parallelInd >= len(MEAS_ID):\n",
    "#         break\n",
    "#     if MEAS_ID[parallelInd] == FLAG_ID[i]:\n",
    "#         cropInds.append(i)\n",
    "#         parallelInd += 1\n",
    "\n",
    "FOREGROUND = FOREGROUND[cropInds]\n",
    "BADREGIONS = BADREGIONS[cropInds]\n",
    "FOOTPRINT = FOOTPRINT[cropInds]\n",
    "ARCSECONDS = ARCSECONDS[cropInds]\n",
    "\n",
    "# This is used to filter out any injections that had flags raised.\n",
    "cutIndices = np.where((FOREGROUND == 0) & \n",
    "                      (BADREGIONS < 2) & \n",
    "                      (FOOTPRINT == 1) & \n",
    "                      (ARCSECONDS < 2) &\n",
    "                      (CLASS >= 0) &\n",
    "                      # Isochrone cuts\n",
    "                      (GMAG_PSF < gCut))[0]\n",
    "\n",
    "# This reduced the data down to the actually valid pixels.\n",
    "STAR_RA = RA[cutIndices]\n",
    "STAR_DEC = DEC[cutIndices]\n",
    "STAR_GMAG = GMAG_PSF[cutIndices]\n",
    "STAR_RMAG = RMAG_PSF[cutIndices]\n",
    "STAR_CLASS = CLASS[cutIndices]"
   ]
  },
  {
   "cell_type": "code",
   "execution_count": 4,
   "id": "bbfa3f8a-aa33-413f-8ee0-d6a931cd9eb9",
   "metadata": {
    "tags": []
   },
   "outputs": [],
   "source": [
    "# All I need from the deep fields is the ID numbers and original KNN classification.\n",
    "deepCols  = ['KNN_CLASS', 'ID']\n",
    "deepID = []\n",
    "deepClass= []\n",
    "\n",
    "for deepFile in deepFiles:\n",
    "    deepData = fitsio.read(deepFile, columns = deepCols)\n",
    "    deepID.extend(deepData['ID'])\n",
    "    deepClass.extend(deepData['KNN_CLASS'])\n",
    "\n",
    "deepID = np.array(deepID)\n",
    "deepClass = np.array(deepClass)\n",
    "\n",
    "# This serves to make it easier to check the original classification of an object.\n",
    "# This way I can simply check the classification by indexing to an ID number minus\n",
    "# the minimum ID number to find the classification. This prevented having an overly\n",
    "# large array but still has the speed advantage of indexing.\n",
    "minID = np.min(deepID)\n",
    "deepGalID = np.zeros(np.max(deepID) - minID + 1)\n",
    "deepGalID[deepID - minID] = deepClass\n",
    "\n",
    "# This is from the detected dataset\n",
    "balrData = fitsio.read(detBalrGalaFile, columns = ['true_ra', 'true_dec', 'true_id', 'bal_id', 'flags_foreground', 'flags_badregions', 'flags_footprint', 'match_flag_1.5_asec'])\n",
    "\n",
    "# These are the data values useful for cropping the data.\n",
    "FOREGROUND = balrData['flags_foreground']\n",
    "BADREGIONS = balrData['flags_badregions']\n",
    "FOOTPRINT = balrData['flags_footprint']\n",
    "ARCSECONDS = balrData['match_flag_1.5_asec']\n",
    "\n",
    "ALL_GALA_ID = balrData['true_id']\n",
    "ALL_GALA_RA = balrData['true_ra']\n",
    "ALL_GALA_DEC = balrData['true_dec']\n",
    "\n",
    "qualityCut = np.where((FOREGROUND == 0) & \n",
    "                      (BADREGIONS < 2) & \n",
    "                      (FOOTPRINT == 1) & \n",
    "                      (ARCSECONDS < 2) &\n",
    "                      (deepGalID[ALL_GALA_ID - minID] == 1))[0]\n",
    "\n",
    "ALL_GALA_RA = ALL_GALA_RA[qualityCut]\n",
    "ALL_GALA_DEC = ALL_GALA_DEC[qualityCut]\n",
    "\n",
    "wideCols = ['true_id', 'bal_id', 'meas_ra', 'meas_dec', 'meas_EXTENDED_CLASS_SOF', 'meas_psf_mag']\n",
    "measBalrData = fitsio.read(matBalrGalaFile, columns = wideCols)\n",
    "\n",
    "# This will be used to match galaxies to their deep field counterparts.\n",
    "ID = measBalrData['true_id']\n",
    "\n",
    "# This is the Balrog Object ID\n",
    "BALR_ID = measBalrData['bal_id']\n",
    "\n",
    "# These are some of the data points I will be storing for valid data.\n",
    "RA = measBalrData['meas_ra']\n",
    "DEC = measBalrData['meas_dec']\n",
    "CLASS = measBalrData['meas_EXTENDED_CLASS_SOF']\n",
    "\n",
    "GMAG_PSF = measBalrData['meas_psf_mag'][:,0]\n",
    "RMAG_PSF = measBalrData['meas_psf_mag'][:,1]\n",
    "\n",
    "sortInds = BALR_ID.argsort()\n",
    "BALR_ID = BALR_ID[sortInds[::1]]\n",
    "ID = ID[sortInds[::1]]\n",
    "RA = RA[sortInds[::1]]\n",
    "DEC = DEC[sortInds[::1]]\n",
    "GMAG_PSF = GMAG_PSF[sortInds[::1]]\n",
    "RMAG_PSF = RMAG_PSF[sortInds[::1]]\n",
    "CLASS = CLASS[sortInds[::1]]\n",
    "\n",
    "# This is the Balrog Object ID for all data, not just matches\n",
    "FLAG_ID = balrData['bal_id']\n",
    "\n",
    "sortInds = FLAG_ID.argsort()\n",
    "FLAG_ID = FLAG_ID[sortInds[::1]]\n",
    "FOREGROUND = FOREGROUND[sortInds[::1]]\n",
    "BADREGIONS = BADREGIONS[sortInds[::1]]\n",
    "FOOTPRINT = FOOTPRINT[sortInds[::1]]\n",
    "ARCSECONDS = ARCSECONDS[sortInds[::1]]\n",
    "\n",
    "# This will serve to align the flags with their measured counterpart.\n",
    "# Try sorting both with an argsort and then running this method.\n",
    "\n",
    "cropInds = np.isin(FLAG_ID, BALR_ID)\n",
    "\n",
    "# parallelInd = 0\n",
    "# cropInds = []\n",
    "# for i in np.arange(len(FLAG_ID)):\n",
    "#     if parallelInd >= len(BALR_ID):\n",
    "#         break\n",
    "#     if BALR_ID[parallelInd] == FLAG_ID[i]:\n",
    "#         cropInds.append(i)\n",
    "#         parallelInd += 1\n",
    "\n",
    "FOREGROUND = FOREGROUND[cropInds]\n",
    "BADREGIONS = BADREGIONS[cropInds]\n",
    "FOOTPRINT = FOOTPRINT[cropInds]\n",
    "ARCSECONDS = ARCSECONDS[cropInds]\n",
    "\n",
    "cutIndices = np.where(# Quality cuts\n",
    "                      (FOREGROUND == 0) & \n",
    "                      (BADREGIONS < 2) & \n",
    "                      (FOOTPRINT == 1) & \n",
    "                      (ARCSECONDS < 2) &\n",
    "                      (CLASS >= 0) &\n",
    "                      # Isochrone cuts\n",
    "                      (GMAG_PSF < gCut))[0]\n",
    "\n",
    "ID = ID[cutIndices]\n",
    "RA = RA[cutIndices]\n",
    "DEC = DEC[cutIndices]\n",
    "GMAG_PSF = GMAG_PSF[cutIndices]\n",
    "RMAG_PSF = RMAG_PSF[cutIndices]\n",
    "CLASS = CLASS[cutIndices]\n",
    "\n",
    "# This makes it so I only store objects that were initially labeled as galaxies in the deep fields.\n",
    "# It also performs some cuts on extreme values.\n",
    "trueClass = deepGalID[ID - minID]\n",
    "useInds = np.where((trueClass == 1))[0]\n",
    "\n",
    "GALA_RA = RA[useInds]\n",
    "GALA_DEC = DEC[useInds]\n",
    "GALA_GMAG = GMAG_PSF[useInds]\n",
    "GALA_RMAG = RMAG_PSF[useInds]\n",
    "GALA_CLASS = CLASS[useInds]"
   ]
  },
  {
   "cell_type": "code",
   "execution_count": 99,
   "id": "ee637fbe-a87c-47ad-b733-66c88022d6d9",
   "metadata": {},
   "outputs": [],
   "source": [
    "# At this point, change ra and dec to pix resolution of choice.\n",
    "res = 4096"
   ]
  },
  {
   "cell_type": "code",
   "execution_count": 100,
   "id": "7e26b374-5e19-45ea-bd27-b9098c0b1def",
   "metadata": {},
   "outputs": [],
   "source": [
    "ALL_STAR_PIX = hp.ang2pix(res, ALL_STAR_RA, ALL_STAR_DEC, nest = True, lonlat = True)\n",
    "STAR_PIX = hp.ang2pix(res, STAR_RA, STAR_DEC, nest = True, lonlat = True)\n",
    "STAR_GR = STAR_GMAG - STAR_RMAG\n",
    "\n",
    "ALL_GALA_PIX = hp.ang2pix(res, ALL_GALA_RA, ALL_GALA_DEC, nest = True, lonlat = True)\n",
    "GALA_PIX = hp.ang2pix(res, GALA_RA, GALA_DEC, nest = True, lonlat = True)\n",
    "GALA_GR = GALA_GMAG - GALA_RMAG"
   ]
  },
  {
   "cell_type": "code",
   "execution_count": 101,
   "id": "74eb5ef4-2b24-44c8-9593-0af817d7f41f",
   "metadata": {},
   "outputs": [],
   "source": [
    "rMagCut = [24, 24.5]\n",
    "grCut = [0, 1]\n",
    "\n",
    "detStarPix = STAR_PIX[np.where((STAR_GR >= grCut[0]) & (STAR_GR <= grCut[1]) & (STAR_RMAG >= rMagCut[0]) & (STAR_RMAG <= rMagCut[1]))[0]]\n",
    "claStarPix = STAR_PIX[np.where((STAR_GR >= grCut[0]) & (STAR_GR <= grCut[1]) & (STAR_RMAG >= rMagCut[0]) & (STAR_RMAG <= rMagCut[1]) & (STAR_CLASS <= classCutoff))[0]]\n",
    "\n",
    "detGalaPix = GALA_PIX[np.where((GALA_GR >= grCut[0]) & (GALA_GR <= grCut[1]) & (GALA_RMAG >= rMagCut[0]) & (GALA_RMAG <= rMagCut[1]))[0]]\n",
    "claGalaPix = GALA_PIX[np.where((GALA_GR >= grCut[0]) & (GALA_GR <= grCut[1]) & (GALA_RMAG >= rMagCut[0]) & (GALA_RMAG <= rMagCut[1]) & (GALA_CLASS <= classCutoff))[0]]"
   ]
  },
  {
   "cell_type": "code",
   "execution_count": 102,
   "id": "3955f3cb-056e-47c4-85ce-ebc2e8a6d741",
   "metadata": {},
   "outputs": [],
   "source": [
    "index = 38\n",
    "# condSignal = fitsio.read(strConfig.condFiles[index])['SIGNAL']\n",
    "# condPix = fitsio.read(pixFile)['PIXEL']\n",
    "condition = Config.conditions[index]\n",
    "condData = fitsio.read(Config.files[index])\n",
    "condPix = condData['PIXEL']\n",
    "condSignal = condData['SIGNAL']\n",
    "\n",
    "condPix = condPix[np.where(condSignal > -100)[0]]\n",
    "condSignal = condSignal[np.where(condSignal > -100)[0]]"
   ]
  },
  {
   "cell_type": "code",
   "execution_count": 103,
   "id": "21516861-2557-45d1-88a2-080060bbfdd9",
   "metadata": {},
   "outputs": [],
   "source": [
    "allStarPix = ALL_STAR_PIX[np.isin(ALL_STAR_PIX, condPix)]\n",
    "detStarPix = detStarPix[np.isin(detStarPix, condPix)]\n",
    "claStarPix = claStarPix[np.isin(claStarPix, condPix)]\n",
    "\n",
    "allGalaPix = ALL_GALA_PIX[np.isin(ALL_GALA_PIX, condPix)]\n",
    "detGalaPix = detGalaPix[np.isin(detGalaPix, condPix)]\n",
    "claGalaPix = claGalaPix[np.isin(claGalaPix, condPix)]"
   ]
  },
  {
   "cell_type": "code",
   "execution_count": 104,
   "id": "ef143afa-0a36-46f9-bc31-c3d3a9c31bd3",
   "metadata": {},
   "outputs": [],
   "source": [
    "fullCond = np.zeros(12*res**2)\n",
    "fullCond[condPix] = condSignal\n",
    "\n",
    "starCond = fullCond[np.unique(allStarPix)]\n",
    "galaCond = fullCond[np.unique(allGalaPix)]"
   ]
  },
  {
   "cell_type": "code",
   "execution_count": 105,
   "id": "ae2b568f-f24e-44b4-a972-ce10e50718d0",
   "metadata": {},
   "outputs": [],
   "source": [
    "detStarCounts = np.zeros(12*res**2)\n",
    "for pix in detStarPix:\n",
    "    detStarCounts[pix] += 1\n",
    "detStarCounts = detStarCounts[np.unique(allStarPix)]\n",
    "\n",
    "claStarCounts = np.zeros(12*res**2)\n",
    "for pix in claStarPix:\n",
    "    claStarCounts[pix] += 1\n",
    "claStarCounts = claStarCounts[np.unique(allStarPix)]\n",
    "\n",
    "detGalaCounts = np.zeros(12*res**2)\n",
    "for pix in detGalaPix:\n",
    "    detGalaCounts[pix] += 1\n",
    "detGalaCounts = detGalaCounts[np.unique(allGalaPix)]\n",
    "\n",
    "claGalaCounts = np.zeros(12*res**2)\n",
    "for pix in claGalaPix:\n",
    "    claGalaCounts[pix] += 1\n",
    "claGalaCounts = claGalaCounts[np.unique(allGalaPix)]"
   ]
  },
  {
   "cell_type": "code",
   "execution_count": 106,
   "id": "fb1b902e-f59f-4a46-b9ea-a7c5e52326f8",
   "metadata": {},
   "outputs": [],
   "source": [
    "aveDetStar = np.sum(detStarCounts) / len(detStarCounts)\n",
    "aveClaStar = np.sum(claStarCounts) / len(claStarCounts)\n",
    "\n",
    "aveDetGala = np.sum(detGalaCounts) / len(detGalaCounts)\n",
    "aveClaGala = np.sum(claGalaCounts) / len(claGalaCounts)"
   ]
  },
  {
   "cell_type": "code",
   "execution_count": 107,
   "id": "645bee9e-94f7-4137-a230-82f89ba61806",
   "metadata": {},
   "outputs": [],
   "source": [
    "sigma = 0.5\n",
    "numBins = 100"
   ]
  },
  {
   "cell_type": "code",
   "execution_count": 108,
   "id": "ceb706d9-7b10-4279-b59b-d075bfe1e7d4",
   "metadata": {
    "tags": []
   },
   "outputs": [],
   "source": [
    "xStar = np.linspace(np.average(starCond)-3*np.std(starCond), np.average(starCond)+3*np.std(starCond), numBins)\n",
    "xStar = xStar[np.where(xStar <= np.max(starCond))[0]]\n",
    "xStar = xStar[np.where(xStar >= np.min(starCond))[0]]\n",
    "starSigma = sigma * np.std(starCond)\n",
    "yDetStar = []\n",
    "yClaStar = []\n",
    "\n",
    "for xi in xStar:\n",
    "    # Gaussian weighting the values close by to each x value.\n",
    "    totDetWeightedCounts = np.sum(detStarCounts * np.exp(-1*(((starCond - xi) / starSigma)**2)))\n",
    "    totDetWeightedPixels = np.sum(np.exp(-1*(((starCond - xi) / starSigma)**2)))\n",
    "    yDetStar.append((totDetWeightedCounts / totDetWeightedPixels) / aveDetStar)\n",
    "\n",
    "    totClaWeightedCounts = np.sum(claStarCounts * np.exp(-1*(((starCond - xi) / starSigma)**2)))\n",
    "    totClaWeightedPixels = np.sum(np.exp(-1*(((starCond - xi) / starSigma)**2)))\n",
    "    yClaStar.append((totClaWeightedCounts / totClaWeightedPixels) / aveClaStar)\n",
    "\n",
    "yDetStar = np.array(yDetStar)\n",
    "yClaStar = np.array(yClaStar)\n",
    "\n",
    "xGala = np.linspace(np.average(galaCond)-3*np.std(galaCond), np.average(galaCond)+3*np.std(galaCond), numBins)\n",
    "xGala = xGala[np.where(xGala <= np.max(galaCond))[0]]\n",
    "xGala = xGala[np.where(xGala >= np.min(galaCond))[0]]\n",
    "galaSigma = sigma * np.std(galaCond)\n",
    "yDetGala = []\n",
    "yClaGala = []\n",
    "\n",
    "for xi in xGala:\n",
    "    # Gaussian weighting the values close by to each x value.\n",
    "    totDetWeightedCounts = np.sum(detGalaCounts * np.exp(-1*(((galaCond - xi) / galaSigma)**2)))\n",
    "    totDetWeightedPixels = np.sum(np.exp(-1*(((galaCond - xi) / galaSigma)**2)))\n",
    "    yDetGala.append((totDetWeightedCounts / totDetWeightedPixels) / aveDetGala)\n",
    "\n",
    "    totClaWeightedCounts = np.sum(claGalaCounts * np.exp(-1*(((galaCond - xi) / galaSigma)**2)))\n",
    "    totClaWeightedPixels = np.sum(np.exp(-1*(((galaCond - xi) / galaSigma)**2)))\n",
    "    yClaGala.append((totClaWeightedCounts / totClaWeightedPixels) / aveClaGala)\n",
    "\n",
    "yDetGala = np.array(yDetGala)\n",
    "yClaGala = np.array(yClaGala)"
   ]
  },
  {
   "cell_type": "code",
   "execution_count": 109,
   "id": "dc42ea8a-47a1-44cb-9756-7365ee321e79",
   "metadata": {},
   "outputs": [
    {
     "data": {
      "image/png": "[encoded data removed]",
      "text/plain": [
       "<Figure size 640x480 with 3 Axes>"
      ]
     },
     "metadata": {},
     "output_type": "display_data"
    }
   ],
   "source": [
    "cmap = plt.get_cmap(\"tab10\")\n",
    "\n",
    "fig, ax1 = plt.subplots()\n",
    "\n",
    "ax1.set_xlabel(condition)\n",
    "ax1.tick_params(axis='y')\n",
    "ax1.set_ylabel('Variation in Detection Rate')\n",
    "ax1.plot(xStar, yDetStar, label = 'Detected Balrog Stars', color = cmap(0), linestyle = '--')\n",
    "ax1.plot(xStar, yClaStar, label = 'Detected Balrog Stars Classified as Star', color = cmap(0))\n",
    "ax1.plot(xGala, yDetGala, label = 'Detected Balrog Galaxies', color = cmap(1), linestyle = '--')\n",
    "ax1.plot(xGala, yClaGala, label = 'Detected Balrog Galaxies Classified as Star', color = cmap(1))\n",
    "ax1.axhline(y = 1, color = 'black', linestyle = '--')\n",
    "ax1.grid()\n",
    "ax1.legend()\n",
    "\n",
    "ax2 = ax1.twinx()  # instantiate a second axes that shares the same x-axis\n",
    "\n",
    "ax2.tick_params(axis='y')\n",
    "ax2.set_ylabel('Fraction of Pixels in Condition Bin')\n",
    "ax2.hist(condSignal, bins = np.linspace(np.min([np.min(xStar), np.min(xGala)]), np.max([np.max(xStar), np.max(xGala)]), 21), color = 'green', rwidth = 0.923, alpha = 0.2, weights = np.ones(len(condSignal)) / len(condSignal))\n",
    "\n",
    "ax3 = ax1.twinx()\n",
    "ax3.tick_params(axis='y', right = False, labelright = False)\n",
    "ax3.plot(xStar, yDetStar, color = cmap(0), linestyle = '--')\n",
    "ax3.plot(xStar, yClaStar, color = cmap(0))\n",
    "ax3.plot(xGala, yDetGala, color = cmap(1), linestyle = '--')\n",
    "ax3.plot(xGala, yClaGala, color = cmap(1))\n",
    "ax3.axhline(y = 1, color = 'black', linestyle = '--')\n",
    "\n",
    "\n",
    "fig.tight_layout()  # otherwise the right y-label is slightly clipped\n",
    "plt.title('Detection Rate Dependencies on Survey Property')\n",
    "plt.show()"
   ]
  },
  {
   "cell_type": "code",
   "execution_count": 16,
   "id": "6300c60e-2cdc-4774-9545-b60c0653ec73",
   "metadata": {
    "jupyter": {
     "source_hidden": true
    },
    "tags": []
   },
   "outputs": [],
   "source": [
    "# plt.figure(dpi = 120)\n",
    "# nStars = plt.hist(starRMAG, bins = np.linspace(lowerLim, upperLim, 11), alpha = 0.5)\n",
    "# binLims = nStars[1]\n",
    "# nStars = nStars[0]\n",
    "# nGalas = plt.hist(galaRMAG, bins = np.linspace(lowerLim, upperLim, 11), alpha = 0.5)\n",
    "# nGalas = nGalas[0]\n",
    "# plt.show()"
   ]
  },
  {
   "cell_type": "code",
   "execution_count": 17,
   "id": "7b9b441f-6773-406f-a724-6c08d86fd9d8",
   "metadata": {
    "jupyter": {
     "source_hidden": true
    },
    "tags": []
   },
   "outputs": [],
   "source": [
    "# starPerBin = int(np.min(nStars))\n",
    "# galaPerBin = int(np.min(nGalas))"
   ]
  },
  {
   "cell_type": "code",
   "execution_count": 18,
   "id": "144c07e8-1d82-4831-be51-61ae399b1cdd",
   "metadata": {
    "jupyter": {
     "source_hidden": true
    },
    "tags": []
   },
   "outputs": [],
   "source": [
    "# allStarInds = np.array([])\n",
    "# allGalaInds = []\n",
    "# for i in np.arange(len(binLims) - 1):\n",
    "#     starInds = np.where((starRMAG >= binLims[i]) & (starRMAG <= binLims[i+1]))[0]\n",
    "#     np.random.shuffle(starInds)\n",
    "#     starInds = starInds[:starPerBin]\n",
    "#     allStarInds = np.append(allStarInds, starInds)\n",
    "    \n",
    "#     galaInds = np.where((galaRMAG >= binLims[i]) & (galaRMAG <= binLims[i+1]))[0]\n",
    "#     np.random.permutation(galaInds)\n",
    "#     galaInds = galaInds[:galaPerBin]\n",
    "#     allGalaInds = np.append(allGalaInds, galaInds)"
   ]
  },
  {
   "cell_type": "code",
   "execution_count": 19,
   "id": "af36de71-e1c4-48b8-98db-066c2fff9900",
   "metadata": {
    "jupyter": {
     "source_hidden": true
    },
    "tags": []
   },
   "outputs": [],
   "source": [
    "# starDET = starDET[allStarInds.astype(int)]\n",
    "# starPIX = starPIX[allStarInds.astype(int)]\n",
    "# starRMAG = starRMAG[allStarInds.astype(int)]"
   ]
  },
  {
   "cell_type": "code",
   "execution_count": 20,
   "id": "f658128c-d86c-40fc-ac0e-e830e15f4061",
   "metadata": {
    "jupyter": {
     "source_hidden": true
    },
    "tags": []
   },
   "outputs": [],
   "source": [
    "# galaDET = galaDET[allGalaInds.astype(int)]\n",
    "# galaPIX = galaPIX[allGalaInds.astype(int)]\n",
    "# galaRMAG = galaRMAG[allGalaInds.astype(int)]"
   ]
  },
  {
   "cell_type": "code",
   "execution_count": 21,
   "id": "6ef46da0-7e4a-4328-8c60-16e2f1108400",
   "metadata": {
    "jupyter": {
     "source_hidden": true
    },
    "tags": []
   },
   "outputs": [],
   "source": [
    "# plt.figure(dpi = 120)\n",
    "# plt.hist(starRMAG, bins = binLims, alpha = 0.5)#, density = True)\n",
    "# plt.hist(galaRMAG, bins = binLims, alpha = 0.5)#, density = True)\n",
    "# plt.show()"
   ]
  },
  {
   "cell_type": "code",
   "execution_count": null,
   "id": "633826a0-48e2-46a0-997c-500d28c3f3db",
   "metadata": {},
   "outputs": [],
   "source": []
  }
 ],
 "metadata": {
  "kernelspec": {
   "display_name": "Python 3 (ipykernel)",
   "language": "python",
   "name": "python3"
  },
  "language_info": {
   "codemirror_mode": {
    "name": "ipython",
    "version": 3
   },
   "file_extension": ".py",
   "mimetype": "text/x-python",
   "name": "python",
   "nbconvert_exporter": "python",
   "pygments_lexer": "ipython3",
   "version": "3.9.12"
  }
 },
 "nbformat": 4,
 "nbformat_minor": 5
}
