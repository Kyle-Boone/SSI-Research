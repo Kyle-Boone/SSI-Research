{
 "cells": [
  {
   "cell_type": "markdown",
   "id": "98bfe572-a7c0-46f1-ab0d-cb05972746ec",
   "metadata": {},
   "source": [
    "# Overview of Changes\n",
    "\n",
    "This pipeline will do away with binning based on magnitude. Besides that, the survey property portion of the correction will be identical. Relative probabilities will also be calculated based on object properties. From there, the total conditional probability will just be the product of these two conditional probabilities that depend on fewer inputs (the function will act like a tensor product from 561). Object properties that get used need to be available both for Balrog objects and general gold catalog objects. These properties will then go through PCA just like the survey properties. This puts assumptions in place that other properties don't play a role. RA and DEC will not be used as these are not really properties of the object itself and could easily have overlap with survey properties. The object properties that will be used are (note that more properties will be read in such as class, RA, DEC, flags, ID numbers, etc., but these will not really be inputs to the probability function):\n",
    "\n",
    "meas_cm_mag/SOF_CM_MAG_band, meas_psf_mag/SOF_PSF_MAG_band, meas_cm_T/SOF_CM_T, corresponding error term for size, and more to come if necessary.\n",
    "\n",
    "Right now, the only correction that will be performed is a galaxy contamination correction as the detection rate correction was already working well. For this correction, only two probability functions need to be calculated: $P\\left(O_S|T_S\\right)$, and $P\\left(O_G|T_G\\right)$. Once these are calculated in terms of survey conditions and object properties, we will have the following multiplicative correction for observed stars:\n",
    "\n",
    "$$\\frac{P\\left(O_G|T_G\\right)}{P\\left(O_S|T_S\\right) + P\\left(O_G|T_G\\right) - 1}$$\n",
    "\n",
    "The following multiplicative correction will be applied to observed galaxies:\n",
    "\n",
    "$$\\frac{P\\left(O_G|T_G\\right) - 1}{P\\left(O_S|T_S\\right) + P\\left(O_G|T_G\\right) - 1}$$\n",
    "\n",
    "The key piece to this will be seeing if making these probability functions dependent on object properties eliminates the issue of getting negative counts for stars in certain regions of the sky."
   ]
  },
  {
   "cell_type": "code",
   "execution_count": 1,
   "id": "a648d285-41a8-478f-b0c3-8d3d8b887f25",
   "metadata": {},
   "outputs": [],
   "source": [
    "import numpy as np\n",
    "import matplotlib.pyplot as plt\n",
    "import fitsio\n",
    "import astropy.io.fits as fits\n",
    "from astropy.table import Table\n",
    "import healpy as hp\n",
    "from GetObjectProperties import *\n",
    "from TrainAndExtend import *\n",
    "import Config"
   ]
  },
  {
   "cell_type": "code",
   "execution_count": 2,
   "id": "64b6fdac-ca5f-40d1-9dfb-456fbf8cb33c",
   "metadata": {},
   "outputs": [],
   "source": [
    "minGR = -0.3 # Minimum G-R color\n",
    "maxGR = 1 # Maximum G-R color\n",
    "res = 512 # Healpixel resolution\n",
    "perCovered = 0.6 # Percent of healpixel that must have valid survey properties at the 4096 scale\n",
    "sigma = 0.5 # Sigma used for gaussian weighting\n",
    "perVar = 0.98 # Percent of the variance to be captured\n",
    "perMap = 0.625 # Percent of the PC maps to use, adjust this later\n",
    "numBins = 100 # Number of points in interpolation"
   ]
  },
  {
   "cell_type": "code",
   "execution_count": 3,
   "id": "f06170ae-3a89-4308-b46b-c3b397c6f61e",
   "metadata": {},
   "outputs": [],
   "source": [
    "conditions = Config.conditions\n",
    "oldGalaDir = '/hdfs/bechtol/balrog/y3/y3a2_survey_conditions_maps/Kyle_Stuff/GalaxyContamination/'"
   ]
  },
  {
   "cell_type": "code",
   "execution_count": 4,
   "id": "40ca6af3-a11b-423a-9bd7-290b83011e5d",
   "metadata": {},
   "outputs": [],
   "source": [
    "deepFiles = ['/hdfs/bechtol/balrog/y3_deep_fields/y3_deep_fields_catalog/deepfields_000001.fits', \n",
    "             '/hdfs/bechtol/balrog/y3_deep_fields/y3_deep_fields_catalog/deepfields_000002.fits', \n",
    "             '/hdfs/bechtol/balrog/y3_deep_fields/y3_deep_fields_catalog/deepfields_000003.fits',\n",
    "             '/hdfs/bechtol/balrog/y3_deep_fields/y3_deep_fields_catalog/deepfields_000004.fits',\n",
    "             '/hdfs/bechtol/balrog/y3_deep_fields/y3_deep_fields_catalog/deepfields_000005.fits']"
   ]
  },
  {
   "cell_type": "code",
   "execution_count": 5,
   "id": "0710e7f3-70a0-4daa-be4e-9ae4cfacd490",
   "metadata": {},
   "outputs": [],
   "source": [
    "newGalaDir = '/hdfs/bechtol/balrog/y3/y3a2_survey_conditions_maps/Kyle_Stuff/ObjectPropertyGalaxyContamination/'"
   ]
  },
  {
   "cell_type": "code",
   "execution_count": 6,
   "id": "d3f381c8-c358-4e26-b9da-926e449130a6",
   "metadata": {},
   "outputs": [],
   "source": [
    "balrFile = '/hdfs/bechtol/balrog/y3/balrog_detection_catalog_sof_y3-merged_v1.2.fits'\n",
    "measBalrFile = '/hdfs/bechtol/balrog/y3/balrog_matched_catalog_sof_y3-merged_v1.2.fits'\n",
    "galaFile = newGalaDir + 'Blue_Galaxies.fits'"
   ]
  },
  {
   "cell_type": "code",
   "execution_count": 7,
   "id": "23e6ef41-81de-46e8-9805-f3cd8d4152d6",
   "metadata": {},
   "outputs": [],
   "source": [
    "balrStarFile = '/afs/hep.wisc.edu/bechtol-group/MegansThings/balrog_detection_catalog_sof_run2_stars_v1.4_avg_added_match_flags.fits'\n",
    "measBalrStarFile = '/afs/hep.wisc.edu/bechtol-group/MegansThings/balrog_matched_catalog_sof_run2_stars_v1.4.fits'\n",
    "starFile = newGalaDir + 'Blue_Stars.fits'"
   ]
  },
  {
   "cell_type": "markdown",
   "id": "54747f2e-5615-43d2-b858-f0ebfff7dfda",
   "metadata": {},
   "source": [
    "### Location of Valid Pixels and Survey Conditions\n",
    "\n",
    "This was calculated in a different piece of software, namely in the GalaxyContamination folder."
   ]
  },
  {
   "cell_type": "code",
   "execution_count": 8,
   "id": "a1da6e71-30e8-4eb2-b63f-345207bbc8a0",
   "metadata": {},
   "outputs": [],
   "source": [
    "origCondFiles = Config.files[:-1]\n",
    "stelFile = Config.files[-1]\n",
    "pixFile = oldGalaDir + 'Valid_'+str(res)+'_Pixels.fits'\n",
    "condFiles = []\n",
    "for cond in conditions:\n",
    "    condFiles.append(oldGalaDir + str(res) + '_' + cond + '.fits')\n",
    "condFiles = np.array(condFiles)"
   ]
  },
  {
   "cell_type": "code",
   "execution_count": 9,
   "id": "428fad0a-a173-48dd-a5b3-06ac5e6b6b80",
   "metadata": {},
   "outputs": [],
   "source": [
    "# getGalaxies(minGR, maxGR, deepFiles, measBalrFile, balrFile, galaFile)"
   ]
  },
  {
   "cell_type": "code",
   "execution_count": 10,
   "id": "000a0257-21ec-43f1-b407-ed1a5891cee1",
   "metadata": {},
   "outputs": [],
   "source": [
    "# getStars(minGR, maxGR, measBalrStarFile, balrStarFile, starFile)"
   ]
  },
  {
   "cell_type": "markdown",
   "id": "9fe2d51a-580e-46c1-89d9-582ee0d96a25",
   "metadata": {},
   "source": [
    "## Two Potential Methods\n",
    "\n",
    "There are multiple potential methods that could be used for a correction that takes survey and object properties into mind. One of the two methods is mentioned at the beginning, where the two corrections would be assumed to be independent, so they're found independently and applied one after the other. Another method would be to simply treat the object properties in the same vein as survey properties and figure out one single correction that relies on all of these. Both of these algorithmic choices have pros and cons.\n",
    "\n",
    "The initial, separate corrections method that was described has the definite pro of being significantly faster to apply to the full sky once training and extending the survey property corrections to the full map is complete. This is because the survey property correction actually can be extended to the full map since the correction does not depend on object properties. This is not the case for the one overarching correction, in which the correction is not separated into survey and object pieces, so no extension can be made. This means that when applying the correction, it must all be done at the time of the correction itself, by taking the object and survey properties from each star and galaxy, performing the same PCA procedure, and applying the trained correction. This is much more time consuming than just doing this for the far fewer object properties that are being used.\n",
    "\n",
    "The other main difference is in the robustness of the method. In the overarching correction, correlations between object properties and survey properties are not an issue as PCA is applied to orthogonalize all of these properties. However, in the case of separate corrections, a correlation could lead to an overcorrection since the same correction would effectively be applied twice.\n",
    "\n",
    "Algorithmically, it seems to me that the one overarching correction would be easier to apply, but I'm not really sure about this, and either way it would not be too terribly complicated."
   ]
  },
  {
   "cell_type": "markdown",
   "id": "14892274-532d-46d3-9b53-a4df348d4e8b",
   "metadata": {},
   "source": [
    "## Cropping Values\n",
    "\n",
    "Values were cropped, so there are no magnitudes of 37.5. For stars, size was cropped at 2 and size error was cropped at 1. For galaxies, size was cropped at 90 and size error was cropped at 20. These were done to keep over 99% from each crop."
   ]
  },
  {
   "cell_type": "code",
   "execution_count": 11,
   "id": "c4159d32-ed0f-40d1-907c-fe83ec2e8ec2",
   "metadata": {},
   "outputs": [],
   "source": [
    "starTrainFile = newGalaDir + 'Star_Train.fits'\n",
    "galaTrainFile = newGalaDir + 'Gala_Train.fits'"
   ]
  },
  {
   "cell_type": "markdown",
   "id": "b9c23f77-ac5d-47bc-8369-1316c05a70d0",
   "metadata": {},
   "source": [
    "## Train Stars"
   ]
  },
  {
   "cell_type": "code",
   "execution_count": 12,
   "id": "6ef0d73e-27ad-49e4-9012-be011db4a699",
   "metadata": {},
   "outputs": [],
   "source": [
    "# singleCorrectionTrain(starFile, condFiles, pixFile, starTrainFile, sigma, perMap, perVar, numBins, res, True)"
   ]
  },
  {
   "cell_type": "markdown",
   "id": "3baf6a97-439e-4a24-94f7-67acd8f366de",
   "metadata": {},
   "source": [
    "## Train Galaxies"
   ]
  },
  {
   "cell_type": "code",
   "execution_count": 13,
   "id": "dea6ad0f-89dc-411e-8fa2-d174be490f46",
   "metadata": {},
   "outputs": [],
   "source": [
    "# singleCorrectionTrain(galaFile, condFiles, pixFile, galaTrainFile, sigma, perMap, perVar, numBins, res, False)"
   ]
  },
  {
   "cell_type": "code",
   "execution_count": 14,
   "id": "f3d6257e-b0e1-416a-bb40-d71687ae606b",
   "metadata": {},
   "outputs": [],
   "source": [
    "galas = fitsio.read(galaFile)"
   ]
  },
  {
   "cell_type": "code",
   "execution_count": 15,
   "id": "a2aa6a92-e54b-46c2-aa53-77ab88ebc98a",
   "metadata": {},
   "outputs": [
    {
     "data": {
      "text/plain": [
       "4381987"
      ]
     },
     "execution_count": 15,
     "metadata": {},
     "output_type": "execute_result"
    }
   ],
   "source": [
    "len(galas)"
   ]
  },
  {
   "cell_type": "code",
   "execution_count": 16,
   "id": "f030bff1-4599-4e8a-a971-ed295dae4212",
   "metadata": {},
   "outputs": [],
   "source": [
    "stars = fitsio.read(starFile)"
   ]
  },
  {
   "cell_type": "code",
   "execution_count": 17,
   "id": "5175d580-9fcf-4a25-80c7-148368ca4188",
   "metadata": {},
   "outputs": [
    {
     "data": {
      "text/plain": [
       "541275"
      ]
     },
     "execution_count": 17,
     "metadata": {},
     "output_type": "execute_result"
    }
   ],
   "source": [
    "len(stars)"
   ]
  },
  {
   "cell_type": "markdown",
   "id": "faa30b9d-4e42-4ff3-b24b-c16c2fcf12f9",
   "metadata": {},
   "source": [
    "## Get the Real Stars and Galaxies"
   ]
  },
  {
   "cell_type": "code",
   "execution_count": 18,
   "id": "c5b52824-2b62-4f13-8fcb-8cd2cdddbbad",
   "metadata": {},
   "outputs": [],
   "source": [
    "import healsparse as hsp\n",
    "import skyproj\n",
    "from os import listdir"
   ]
  },
  {
   "cell_type": "code",
   "execution_count": 19,
   "id": "8c757f70-dce8-4d6b-81ee-c108e2b2cd8a",
   "metadata": {},
   "outputs": [],
   "source": [
    "dirStars = '/hdfs/bechtol/balrog/y3/y3a2_gold_v2p2_skim/healpixel2/'\n",
    "files = listdir(dirStars)\n",
    "croppedStarsDirectory = '/hdfs/bechtol/balrog/y3/y3a2_survey_conditions_maps/Kyle_Stuff/ObjectPropertyGalaxyContamination/GoldData/Stars/'\n",
    "croppedGalasDirectory = '/hdfs/bechtol/balrog/y3/y3a2_survey_conditions_maps/Kyle_Stuff/ObjectPropertyGalaxyContamination/GoldData/Galaxies/'\n",
    "equalSizeFileDir = '/hdfs/bechtol/balrog/y3/y3a2_survey_conditions_maps/Kyle_Stuff/ObjectPropertyGalaxyContamination/GoldData/EqualSize/'\n",
    "usedCols = ['RA', 'DEC', 'FLAGS_FOREGROUND', 'FLAGS_BADREGIONS', 'FLAGS_FOOTPRINT', 'EXTENDED_CLASS_SOF', 'SOF_PSF_MAG_G', 'SOF_PSF_MAG_R', 'SOF_PSF_MAG_I', 'SOF_PSF_MAG_Z', 'SOF_CM_MAG_G', 'SOF_CM_MAG_R', 'SOF_CM_MAG_I', 'SOF_CM_MAG_Z', 'SOF_CM_T', 'SOF_CM_T_ERR']\n",
    "validPix = fitsio.read(pixFile)['PIXEL']\n",
    "pixCheck = np.full(12*(res**2), False, dtype = bool)\n",
    "pixCheck[validPix] = True"
   ]
  },
  {
   "cell_type": "code",
   "execution_count": 20,
   "id": "44740e7f-17a4-45f4-9690-2e067556d088",
   "metadata": {},
   "outputs": [],
   "source": [
    "# galaCount = 0\n",
    "# starCount = 0\n",
    "\n",
    "# for i in range(len(files)):\n",
    "    \n",
    "#     obsData = fitsio.read(dirStars + files[i], columns = usedCols)\n",
    "    \n",
    "#     RA = obsData[usedCols[0]]\n",
    "#     DEC = obsData[usedCols[1]]\n",
    "    \n",
    "#     PIX = hp.ang2pix(res, RA, DEC, lonlat = True, nest = True)\n",
    "    \n",
    "#     FOREGROUND = obsData[usedCols[2]]\n",
    "#     BADREGIONS = obsData[usedCols[3]]\n",
    "#     FOOTPRINT = obsData[usedCols[4]]\n",
    "    \n",
    "#     CLASS = obsData[usedCols[5]]\n",
    "    \n",
    "#     GMAG_PSF = obsData[usedCols[6]]\n",
    "#     RMAG_PSF = obsData[usedCols[7]]\n",
    "#     IMAG_PSF = obsData[usedCols[8]]\n",
    "#     ZMAG_PSF = obsData[usedCols[9]]\n",
    "#     GMAG_CM = obsData[usedCols[10]]\n",
    "#     RMAG_CM = obsData[usedCols[11]]\n",
    "#     IMAG_CM = obsData[usedCols[12]]\n",
    "#     ZMAG_CM = obsData[usedCols[13]]\n",
    "#     SIZE = obsData[usedCols[14]]\n",
    "#     SIZE_ERR = obsData[usedCols[15]]\n",
    "\n",
    "#     magCut = 37\n",
    "    \n",
    "#     starCut = np.where((CLASS <= 1) &\n",
    "#                        (CLASS >= 0) &\n",
    "#                        (FOREGROUND == 0) & \n",
    "#                        (BADREGIONS < 2) & \n",
    "#                        (FOOTPRINT == 1) &\n",
    "#                        (pixCheck[PIX]) &\n",
    "#                        (GMAG_PSF < magCut) & \n",
    "#                        (RMAG_PSF < magCut) &\n",
    "#                        (IMAG_PSF < magCut) &\n",
    "#                        (ZMAG_PSF < magCut) &\n",
    "#                        (GMAG_CM < magCut) &\n",
    "#                        (RMAG_CM < magCut) &\n",
    "#                        (IMAG_CM < magCut) &\n",
    "#                        (ZMAG_CM < magCut) &\n",
    "#                        (GMAG_PSF - RMAG_PSF >= minGR) &\n",
    "#                        (GMAG_PSF - RMAG_PSF <= maxGR))[0]\n",
    "    \n",
    "#     galaCut = np.where((CLASS <= 3) &\n",
    "#                        (CLASS >= 2) &\n",
    "#                        (FOREGROUND == 0) & \n",
    "#                        (BADREGIONS < 2) & \n",
    "#                        (FOOTPRINT == 1) &\n",
    "#                        (pixCheck[PIX]) &\n",
    "#                        (GMAG_PSF < magCut) & \n",
    "#                        (RMAG_PSF < magCut) &\n",
    "#                        (IMAG_PSF < magCut) &\n",
    "#                        (ZMAG_PSF < magCut) &\n",
    "#                        (GMAG_CM < magCut) &\n",
    "#                        (RMAG_CM < magCut) &\n",
    "#                        (IMAG_CM < magCut) &\n",
    "#                        (ZMAG_CM < magCut) &\n",
    "#                        (GMAG_CM - RMAG_CM >= minGR) &\n",
    "#                        (GMAG_CM - RMAG_CM <= maxGR))[0]\n",
    "\n",
    "#     starCount += len(starCut)\n",
    "#     galaCount += len(galaCut)\n",
    "    \n",
    "#     star_table =  Table()\n",
    "#     star_table['PIX'] = PIX[starCut]\n",
    "#     star_table['GMAG_PSF'] = GMAG_PSF[starCut]\n",
    "#     star_table['RMAG_PSF'] = RMAG_PSF[starCut]\n",
    "#     star_table['IMAG_PSF'] = IMAG_PSF[starCut]\n",
    "#     star_table['ZMAG_PSF'] = ZMAG_PSF[starCut]\n",
    "#     star_table['GMAG_CM'] = GMAG_CM[starCut]\n",
    "#     star_table['RMAG_CM'] = RMAG_CM[starCut]\n",
    "#     star_table['IMAG_CM'] = IMAG_CM[starCut]\n",
    "#     star_table['ZMAG_CM'] = ZMAG_CM[starCut]\n",
    "#     star_table['SIZE'] = SIZE[starCut]\n",
    "#     star_table['SIZE_ERR'] = SIZE_ERR[starCut]\n",
    "#     writeToStarFile = croppedStarsDirectory + (\"0\" * (4 - len(str(i)))) + str(i) + '.fits'\n",
    "#     star_table.write(writeToStarFile, overwrite = True)\n",
    "    \n",
    "#     gala_table =  Table()\n",
    "#     gala_table['PIX'] = PIX[galaCut]\n",
    "#     gala_table['GMAG_PSF'] = GMAG_PSF[galaCut]\n",
    "#     gala_table['RMAG_PSF'] = RMAG_PSF[galaCut]\n",
    "#     gala_table['IMAG_PSF'] = IMAG_PSF[galaCut]\n",
    "#     gala_table['ZMAG_PSF'] = ZMAG_PSF[galaCut]\n",
    "#     gala_table['GMAG_CM'] = GMAG_CM[galaCut]\n",
    "#     gala_table['RMAG_CM'] = RMAG_CM[galaCut]\n",
    "#     gala_table['IMAG_CM'] = IMAG_CM[galaCut]\n",
    "#     gala_table['ZMAG_CM'] = ZMAG_CM[galaCut]\n",
    "#     gala_table['SIZE'] = SIZE[galaCut]\n",
    "#     gala_table['SIZE_ERR'] = SIZE_ERR[galaCut]\n",
    "#     writeToGalaFile = croppedGalasDirectory + (\"0\" * (4 - len(str(i)))) + str(i) + '.fits'\n",
    "#     gala_table.write(writeToGalaFile, overwrite = True)"
   ]
  },
  {
   "cell_type": "code",
   "execution_count": 21,
   "id": "b683ac4f-48e3-42a6-b193-64c6664a0db0",
   "metadata": {},
   "outputs": [],
   "source": [
    "totStar = 20297262\n",
    "totGala = 188368270\n",
    "totProc = 5000\n",
    "\n",
    "starFileCount = np.round(totStar / (totGala + totStar) * totProc).astype(int)\n",
    "galaFileCount = np.round(totGala / (totGala + totStar) * totProc).astype(int)\n",
    "\n",
    "starPerFile = np.ceil(totStar / starFileCount).astype(int)\n",
    "galaPerFile = np.ceil(totGala / galaFileCount).astype(int)"
   ]
  },
  {
   "cell_type": "code",
   "execution_count": 22,
   "id": "0a561d24-761a-4f35-9238-fa372fd96634",
   "metadata": {},
   "outputs": [
    {
     "name": "stdout",
     "output_type": "stream",
     "text": [
      "[0 1 2 3 4]\n",
      "[5 6 7 8 9]\n",
      "[10 11 12 13 14]\n",
      "[15 16 17 18 19]\n",
      "[20 21 22 23 24]\n",
      "[25 26 27 28 29]\n",
      "[30 31 32 33 34]\n",
      "[35 36 37 38 39]\n",
      "[40 41 42 43 44]\n",
      "[45 46 47 48 49]\n",
      "0\n"
     ]
    }
   ],
   "source": [
    "testArray = np.arange(47)\n",
    "take = 5\n",
    "while len(testArray) > take:\n",
    "    small = testArray[0:5]\n",
    "    testArray = np.delete(testArray, np.arange(5))\n",
    "    print(small)\n",
    "excess = testArray\n",
    "excess = np.append(excess, np.array([47, 48, 49]))\n",
    "print(excess)\n",
    "excess = np.delete(excess, np.arange(5))\n",
    "print(len(excess))"
   ]
  },
  {
   "cell_type": "code",
   "execution_count": 23,
   "id": "75056d3a-3b2b-4a6d-8a47-5721217bae6d",
   "metadata": {},
   "outputs": [],
   "source": [
    "# starIndex = 0\n",
    "# galaIndex = 0\n",
    "\n",
    "# starPIXExtra = np.array([])\n",
    "# starGMAG_PSFExtra = np.array([])\n",
    "# starRMAG_PSFExtra = np.array([])\n",
    "# starIMAG_PSFExtra = np.array([])\n",
    "# starZMAG_PSFExtra = np.array([])\n",
    "# starGMAG_CMExtra = np.array([])\n",
    "# starRMAG_CMExtra = np.array([])\n",
    "# starIMAG_CMExtra = np.array([])\n",
    "# starZMAG_CMExtra = np.array([])\n",
    "# starSIZEExtra = np.array([])\n",
    "# starSIZE_ERRExtra = np.array([])\n",
    "\n",
    "# galaPIXExtra = np.array([])\n",
    "# galaGMAG_PSFExtra = np.array([])\n",
    "# galaRMAG_PSFExtra = np.array([])\n",
    "# galaIMAG_PSFExtra = np.array([])\n",
    "# galaZMAG_PSFExtra = np.array([])\n",
    "# galaGMAG_CMExtra = np.array([])\n",
    "# galaRMAG_CMExtra = np.array([])\n",
    "# galaIMAG_CMExtra = np.array([])\n",
    "# galaZMAG_CMExtra = np.array([])\n",
    "# galaSIZEExtra = np.array([])\n",
    "# galaSIZE_ERRExtra = np.array([])\n",
    "\n",
    "# for i in range(len(files)):\n",
    "    \n",
    "#     obsData = fitsio.read(dirStars + files[i], columns = usedCols)\n",
    "    \n",
    "#     RA = obsData[usedCols[0]]\n",
    "#     DEC = obsData[usedCols[1]]\n",
    "    \n",
    "#     PIX = hp.ang2pix(res, RA, DEC, lonlat = True, nest = True)\n",
    "    \n",
    "#     FOREGROUND = obsData[usedCols[2]]\n",
    "#     BADREGIONS = obsData[usedCols[3]]\n",
    "#     FOOTPRINT = obsData[usedCols[4]]\n",
    "    \n",
    "#     CLASS = obsData[usedCols[5]]\n",
    "    \n",
    "#     GMAG_PSF = obsData[usedCols[6]]\n",
    "#     RMAG_PSF = obsData[usedCols[7]]\n",
    "#     IMAG_PSF = obsData[usedCols[8]]\n",
    "#     ZMAG_PSF = obsData[usedCols[9]]\n",
    "#     GMAG_CM = obsData[usedCols[10]]\n",
    "#     RMAG_CM = obsData[usedCols[11]]\n",
    "#     IMAG_CM = obsData[usedCols[12]]\n",
    "#     ZMAG_CM = obsData[usedCols[13]]\n",
    "#     SIZE = obsData[usedCols[14]]\n",
    "#     SIZE_ERR = obsData[usedCols[15]]\n",
    "\n",
    "#     magCut = 37\n",
    "    \n",
    "#     starCut = np.where((CLASS <= 1) &\n",
    "#                        (CLASS >= 0) &\n",
    "#                        (FOREGROUND == 0) & \n",
    "#                        (BADREGIONS < 2) & \n",
    "#                        (FOOTPRINT == 1) &\n",
    "#                        (pixCheck[PIX]) &\n",
    "#                        (GMAG_PSF < magCut) & \n",
    "#                        (RMAG_PSF < magCut) &\n",
    "#                        (IMAG_PSF < magCut) &\n",
    "#                        (ZMAG_PSF < magCut) &\n",
    "#                        (GMAG_CM < magCut) &\n",
    "#                        (RMAG_CM < magCut) &\n",
    "#                        (IMAG_CM < magCut) &\n",
    "#                        (ZMAG_CM < magCut) &\n",
    "#                        (GMAG_PSF - RMAG_PSF >= minGR) &\n",
    "#                        (GMAG_PSF - RMAG_PSF <= maxGR))[0]\n",
    "    \n",
    "#     galaCut = np.where((CLASS <= 3) &\n",
    "#                        (CLASS >= 2) &\n",
    "#                        (FOREGROUND == 0) & \n",
    "#                        (BADREGIONS < 2) & \n",
    "#                        (FOOTPRINT == 1) &\n",
    "#                        (pixCheck[PIX]) &\n",
    "#                        (GMAG_PSF < magCut) & \n",
    "#                        (RMAG_PSF < magCut) &\n",
    "#                        (IMAG_PSF < magCut) &\n",
    "#                        (ZMAG_PSF < magCut) &\n",
    "#                        (GMAG_CM < magCut) &\n",
    "#                        (RMAG_CM < magCut) &\n",
    "#                        (IMAG_CM < magCut) &\n",
    "#                        (ZMAG_CM < magCut) &\n",
    "#                        (GMAG_CM - RMAG_CM >= minGR) &\n",
    "#                        (GMAG_CM - RMAG_CM <= maxGR))[0]\n",
    "    \n",
    "#     starPIX = PIX[starCut]\n",
    "#     starGMAG_PSF = GMAG_PSF[starCut]\n",
    "#     starRMAG_PSF = RMAG_PSF[starCut]\n",
    "#     starIMAG_PSF = IMAG_PSF[starCut]\n",
    "#     starZMAG_PSF = ZMAG_PSF[starCut]\n",
    "#     starGMAG_CM = GMAG_CM[starCut]\n",
    "#     starRMAG_CM = RMAG_CM[starCut]\n",
    "#     starIMAG_CM = IMAG_CM[starCut]\n",
    "#     starZMAG_CM = ZMAG_CM[starCut]\n",
    "#     starSIZE = SIZE[starCut]\n",
    "#     starSIZE_ERR = SIZE_ERR[starCut]\n",
    "    \n",
    "#     galaPIX = PIX[galaCut]\n",
    "#     galaGMAG_PSF = GMAG_PSF[galaCut]\n",
    "#     galaRMAG_PSF = RMAG_PSF[galaCut]\n",
    "#     galaIMAG_PSF = IMAG_PSF[galaCut]\n",
    "#     galaZMAG_PSF = ZMAG_PSF[galaCut]\n",
    "#     galaGMAG_CM = GMAG_CM[galaCut]\n",
    "#     galaRMAG_CM = RMAG_CM[galaCut]\n",
    "#     galaIMAG_CM = IMAG_CM[galaCut]\n",
    "#     galaZMAG_CM = ZMAG_CM[galaCut]\n",
    "#     galaSIZE = SIZE[galaCut]\n",
    "#     galaSIZE_ERR = SIZE_ERR[galaCut]\n",
    "    \n",
    "#     if (len(starPIXExtra) > 0) & (len(starPIXExtra) < starPerFile):\n",
    "#         if len(starPIXExtra) + len(starPIX) >= starPerFile:\n",
    "#             starsToAdd = starPerFile - len(starPIXExtra)\n",
    "#             starPIXExtra = np.append(starPIXExtra, starPIX[0:starsToAdd])\n",
    "#             starGMAG_PSFExtra = np.append(starGMAG_PSFExtra, starGMAG_PSF[0:starsToAdd])\n",
    "#             starRMAG_PSFExtra = np.append(starRMAG_PSFExtra, starRMAG_PSF[0:starsToAdd])\n",
    "#             starIMAG_PSFExtra = np.append(starIMAG_PSFExtra, starIMAG_PSF[0:starsToAdd])\n",
    "#             starZMAG_PSFExtra = np.append(starZMAG_PSFExtra, starZMAG_PSF[0:starsToAdd])\n",
    "#             starGMAG_CMExtra = np.append(starGMAG_CMExtra, starGMAG_CM[0:starsToAdd])\n",
    "#             starRMAG_CMExtra = np.append(starRMAG_CMExtra, starRMAG_CM[0:starsToAdd])\n",
    "#             starIMAG_CMExtra = np.append(starIMAG_CMExtra, starIMAG_CM[0:starsToAdd])\n",
    "#             starZMAG_CMExtra = np.append(starZMAG_CMExtra, starZMAG_CM[0:starsToAdd])\n",
    "#             starSIZEExtra = np.append(starSIZEExtra, starSIZE[0:starsToAdd])\n",
    "#             starSIZE_ERRExtra = np.append(starSIZE_ERRExtra, starSIZE_ERR[0:starsToAdd])\n",
    "\n",
    "#             star_table =  Table()\n",
    "#             star_table['PIX'] = starPIXExtra\n",
    "#             star_table['GMAG_PSF'] = starGMAG_PSFExtra\n",
    "#             star_table['RMAG_PSF'] = starRMAG_PSFExtra\n",
    "#             star_table['IMAG_PSF'] = starIMAG_PSFExtra\n",
    "#             star_table['ZMAG_PSF'] = starZMAG_PSFExtra\n",
    "#             star_table['GMAG_CM'] = starGMAG_CMExtra\n",
    "#             star_table['RMAG_CM'] = starRMAG_CMExtra\n",
    "#             star_table['IMAG_CM'] = starIMAG_CMExtra\n",
    "#             star_table['ZMAG_CM'] = starZMAG_CMExtra\n",
    "#             star_table['SIZE'] = starSIZEExtra\n",
    "#             star_table['SIZE_ERR'] = starSIZE_ERRExtra\n",
    "#             writeToStarFile = equalSizeFileDir + \"Stars\" + (\"0\" * (4 - len(str(starIndex)))) + str(starIndex) + '.fits'\n",
    "#             star_table.write(writeToStarFile, overwrite = True)\n",
    "#             starIndex += 1\n",
    "\n",
    "#             starPIX = np.delete(starPIX, np.arange(starsToAdd))\n",
    "#             starGMAG_PSF = np.delete(starGMAG_PSF, np.arange(starsToAdd))\n",
    "#             starRMAG_PSF = np.delete(starRMAG_PSF, np.arange(starsToAdd))\n",
    "#             starIMAG_PSF = np.delete(starIMAG_PSF, np.arange(starsToAdd))\n",
    "#             starZMAG_PSF = np.delete(starZMAG_PSF, np.arange(starsToAdd))\n",
    "#             starGMAG_CM = np.delete(starGMAG_CM, np.arange(starsToAdd))\n",
    "#             starRMAG_CM = np.delete(starRMAG_CM, np.arange(starsToAdd))\n",
    "#             starIMAG_CM = np.delete(starIMAG_CM, np.arange(starsToAdd))\n",
    "#             starZMAG_CM = np.delete(starZMAG_CM, np.arange(starsToAdd))\n",
    "#             starSIZE = np.delete(starSIZE, np.arange(starsToAdd))\n",
    "#             starSIZE_ERR = np.delete(starSIZE_ERR, np.arange(starsToAdd))\n",
    "#         else:\n",
    "#             starsToAdd = len(starPIX)\n",
    "#             starPIXExtra = np.append(starPIXExtra, starPIX[0:starsToAdd])\n",
    "#             starGMAG_PSFExtra = np.append(starGMAG_PSFExtra, starGMAG_PSF[0:starsToAdd])\n",
    "#             starRMAG_PSFExtra = np.append(starRMAG_PSFExtra, starRMAG_PSF[0:starsToAdd])\n",
    "#             starIMAG_PSFExtra = np.append(starIMAG_PSFExtra, starIMAG_PSF[0:starsToAdd])\n",
    "#             starZMAG_PSFExtra = np.append(starZMAG_PSFExtra, starZMAG_PSF[0:starsToAdd])\n",
    "#             starGMAG_CMExtra = np.append(starGMAG_CMExtra, starGMAG_CM[0:starsToAdd])\n",
    "#             starRMAG_CMExtra = np.append(starRMAG_CMExtra, starRMAG_CM[0:starsToAdd])\n",
    "#             starIMAG_CMExtra = np.append(starIMAG_CMExtra, starIMAG_CM[0:starsToAdd])\n",
    "#             starZMAG_CMExtra = np.append(starZMAG_CMExtra, starZMAG_CM[0:starsToAdd])\n",
    "#             starSIZEExtra = np.append(starSIZEExtra, starSIZE[0:starsToAdd])\n",
    "#             starSIZE_ERRExtra = np.append(starSIZE_ERRExtra, starSIZE_ERR[0:starsToAdd])\n",
    "\n",
    "#             starPIX = np.delete(starPIX, np.arange(starsToAdd))\n",
    "#             starGMAG_PSF = np.delete(starGMAG_PSF, np.arange(starsToAdd))\n",
    "#             starRMAG_PSF = np.delete(starRMAG_PSF, np.arange(starsToAdd))\n",
    "#             starIMAG_PSF = np.delete(starIMAG_PSF, np.arange(starsToAdd))\n",
    "#             starZMAG_PSF = np.delete(starZMAG_PSF, np.arange(starsToAdd))\n",
    "#             starGMAG_CM = np.delete(starGMAG_CM, np.arange(starsToAdd))\n",
    "#             starRMAG_CM = np.delete(starRMAG_CM, np.arange(starsToAdd))\n",
    "#             starIMAG_CM = np.delete(starIMAG_CM, np.arange(starsToAdd))\n",
    "#             starZMAG_CM = np.delete(starZMAG_CM, np.arange(starsToAdd))\n",
    "#             starSIZE = np.delete(starSIZE, np.arange(starsToAdd))\n",
    "#             starSIZE_ERR = np.delete(starSIZE_ERR, np.arange(starsToAdd))\n",
    "\n",
    "            \n",
    "#     if (len(galaPIXExtra) > 0) & (len(galaPIXExtra) < galaPerFile):\n",
    "#         if len(galaPIXExtra) + len(galaPIX) >= galaPerFile:\n",
    "#             galasToAdd = galaPerFile - len(galaPIXExtra)\n",
    "#             galaPIXExtra = np.append(galaPIXExtra, galaPIX[0:galasToAdd])\n",
    "#             galaGMAG_PSFExtra = np.append(galaGMAG_PSFExtra, galaGMAG_PSF[0:galasToAdd])\n",
    "#             galaRMAG_PSFExtra = np.append(galaRMAG_PSFExtra, galaRMAG_PSF[0:galasToAdd])\n",
    "#             galaIMAG_PSFExtra = np.append(galaIMAG_PSFExtra, galaIMAG_PSF[0:galasToAdd])\n",
    "#             galaZMAG_PSFExtra = np.append(galaZMAG_PSFExtra, galaZMAG_PSF[0:galasToAdd])\n",
    "#             galaGMAG_CMExtra = np.append(galaGMAG_CMExtra, galaGMAG_CM[0:galasToAdd])\n",
    "#             galaRMAG_CMExtra = np.append(galaRMAG_CMExtra, galaRMAG_CM[0:galasToAdd])\n",
    "#             galaIMAG_CMExtra = np.append(galaIMAG_CMExtra, galaIMAG_CM[0:galasToAdd])\n",
    "#             galaZMAG_CMExtra = np.append(galaZMAG_CMExtra, galaZMAG_CM[0:galasToAdd])\n",
    "#             galaSIZEExtra = np.append(galaSIZEExtra, galaSIZE[0:galasToAdd])\n",
    "#             galaSIZE_ERRExtra = np.append(galaSIZE_ERRExtra, galaSIZE_ERR[0:galasToAdd])\n",
    "\n",
    "#             gala_table =  Table()\n",
    "#             gala_table['PIX'] = galaPIXExtra\n",
    "#             gala_table['GMAG_PSF'] = galaGMAG_PSFExtra\n",
    "#             gala_table['RMAG_PSF'] = galaRMAG_PSFExtra\n",
    "#             gala_table['IMAG_PSF'] = galaIMAG_PSFExtra\n",
    "#             gala_table['ZMAG_PSF'] = galaZMAG_PSFExtra\n",
    "#             gala_table['GMAG_CM'] = galaGMAG_CMExtra\n",
    "#             gala_table['RMAG_CM'] = galaRMAG_CMExtra\n",
    "#             gala_table['IMAG_CM'] = galaIMAG_CMExtra\n",
    "#             gala_table['ZMAG_CM'] = galaZMAG_CMExtra\n",
    "#             gala_table['SIZE'] = galaSIZEExtra\n",
    "#             gala_table['SIZE_ERR'] = galaSIZE_ERRExtra\n",
    "#             writeToGalaFile = equalSizeFileDir + \"Galaxies\" + (\"0\" * (4 - len(str(galaIndex)))) + str(galaIndex) + '.fits'\n",
    "#             gala_table.write(writeToGalaFile, overwrite = True)\n",
    "#             galaIndex += 1\n",
    "\n",
    "#             galaPIX = np.delete(galaPIX, np.arange(galasToAdd))\n",
    "#             galaGMAG_PSF = np.delete(galaGMAG_PSF, np.arange(galasToAdd))\n",
    "#             galaRMAG_PSF = np.delete(galaRMAG_PSF, np.arange(galasToAdd))\n",
    "#             galaIMAG_PSF = np.delete(galaIMAG_PSF, np.arange(galasToAdd))\n",
    "#             galaZMAG_PSF = np.delete(galaZMAG_PSF, np.arange(galasToAdd))\n",
    "#             galaGMAG_CM = np.delete(galaGMAG_CM, np.arange(galasToAdd))\n",
    "#             galaRMAG_CM = np.delete(galaRMAG_CM, np.arange(galasToAdd))\n",
    "#             galaIMAG_CM = np.delete(galaIMAG_CM, np.arange(galasToAdd))\n",
    "#             galaZMAG_CM = np.delete(galaZMAG_CM, np.arange(galasToAdd))\n",
    "#             galaSIZE = np.delete(galaSIZE, np.arange(galasToAdd))\n",
    "#             galaSIZE_ERR = np.delete(galaSIZE_ERR, np.arange(galasToAdd))\n",
    "#         else:\n",
    "#             galasToAdd = len(galaPIX)\n",
    "#             galaPIXExtra = np.append(galaPIXExtra, galaPIX[0:galasToAdd])\n",
    "#             galaGMAG_PSFExtra = np.append(galaGMAG_PSFExtra, galaGMAG_PSF[0:galasToAdd])\n",
    "#             galaRMAG_PSFExtra = np.append(galaRMAG_PSFExtra, galaRMAG_PSF[0:galasToAdd])\n",
    "#             galaIMAG_PSFExtra = np.append(galaIMAG_PSFExtra, galaIMAG_PSF[0:galasToAdd])\n",
    "#             galaZMAG_PSFExtra = np.append(galaZMAG_PSFExtra, galaZMAG_PSF[0:galasToAdd])\n",
    "#             galaGMAG_CMExtra = np.append(galaGMAG_CMExtra, galaGMAG_CM[0:galasToAdd])\n",
    "#             galaRMAG_CMExtra = np.append(galaRMAG_CMExtra, galaRMAG_CM[0:galasToAdd])\n",
    "#             galaIMAG_CMExtra = np.append(galaIMAG_CMExtra, galaIMAG_CM[0:galasToAdd])\n",
    "#             galaZMAG_CMExtra = np.append(galaZMAG_CMExtra, galaZMAG_CM[0:galasToAdd])\n",
    "#             galaSIZEExtra = np.append(galaSIZEExtra, galaSIZE[0:galasToAdd])\n",
    "#             galaSIZE_ERRExtra = np.append(galaSIZE_ERRExtra, galaSIZE_ERR[0:galasToAdd])\n",
    "\n",
    "#             galaPIX = np.delete(galaPIX, np.arange(galasToAdd))\n",
    "#             galaGMAG_PSF = np.delete(galaGMAG_PSF, np.arange(galasToAdd))\n",
    "#             galaRMAG_PSF = np.delete(galaRMAG_PSF, np.arange(galasToAdd))\n",
    "#             galaIMAG_PSF = np.delete(galaIMAG_PSF, np.arange(galasToAdd))\n",
    "#             galaZMAG_PSF = np.delete(galaZMAG_PSF, np.arange(galasToAdd))\n",
    "#             galaGMAG_CM = np.delete(galaGMAG_CM, np.arange(galasToAdd))\n",
    "#             galaRMAG_CM = np.delete(galaRMAG_CM, np.arange(galasToAdd))\n",
    "#             galaIMAG_CM = np.delete(galaIMAG_CM, np.arange(galasToAdd))\n",
    "#             galaZMAG_CM = np.delete(galaZMAG_CM, np.arange(galasToAdd))\n",
    "#             galaSIZE = np.delete(galaSIZE, np.arange(galasToAdd))\n",
    "#             galaSIZE_ERR = np.delete(galaSIZE_ERR, np.arange(galasToAdd))\n",
    "            \n",
    "        \n",
    "#     while len(starPIX) >= starPerFile:\n",
    "#         star_table =  Table()\n",
    "#         star_table['PIX'] = starPIX[0:starPerFile]\n",
    "#         star_table['GMAG_PSF'] = starGMAG_PSF[0:starPerFile]\n",
    "#         star_table['RMAG_PSF'] = starRMAG_PSF[0:starPerFile]\n",
    "#         star_table['IMAG_PSF'] = starIMAG_PSF[0:starPerFile]\n",
    "#         star_table['ZMAG_PSF'] = starZMAG_PSF[0:starPerFile]\n",
    "#         star_table['GMAG_CM'] = starGMAG_CM[0:starPerFile]\n",
    "#         star_table['RMAG_CM'] = starRMAG_CM[0:starPerFile]\n",
    "#         star_table['IMAG_CM'] = starIMAG_CM[0:starPerFile]\n",
    "#         star_table['ZMAG_CM'] = starZMAG_CM[0:starPerFile]\n",
    "#         star_table['SIZE'] = starSIZE[0:starPerFile]\n",
    "#         star_table['SIZE_ERR'] = starSIZE_ERR[0:starPerFile]\n",
    "#         writeToStarFile = equalSizeFileDir + \"Stars\" + (\"0\" * (4 - len(str(starIndex)))) + str(starIndex) + '.fits'\n",
    "#         star_table.write(writeToStarFile, overwrite = True)\n",
    "#         starIndex += 1\n",
    "        \n",
    "#         starPIX = np.delete(starPIX, np.arange(starPerFile))\n",
    "#         starGMAG_PSF = np.delete(starGMAG_PSF, np.arange(starPerFile))\n",
    "#         starRMAG_PSF = np.delete(starRMAG_PSF, np.arange(starPerFile))\n",
    "#         starIMAG_PSF = np.delete(starIMAG_PSF, np.arange(starPerFile))\n",
    "#         starZMAG_PSF = np.delete(starZMAG_PSF, np.arange(starPerFile))\n",
    "#         starGMAG_CM = np.delete(starGMAG_CM, np.arange(starPerFile))\n",
    "#         starRMAG_CM = np.delete(starRMAG_CM, np.arange(starPerFile))\n",
    "#         starIMAG_CM = np.delete(starIMAG_CM, np.arange(starPerFile))\n",
    "#         starZMAG_CM = np.delete(starZMAG_CM, np.arange(starPerFile))\n",
    "#         starSIZE = np.delete(starSIZE, np.arange(starPerFile))\n",
    "#         starSIZE_ERR = np.delete(starSIZE_ERR, np.arange(starPerFile))\n",
    "        \n",
    "#     while len(galaPIX) >= galaPerFile:\n",
    "#         gala_table =  Table()\n",
    "#         gala_table['PIX'] = galaPIX[0:galaPerFile]\n",
    "#         gala_table['GMAG_PSF'] = galaGMAG_PSF[0:galaPerFile]\n",
    "#         gala_table['RMAG_PSF'] = galaRMAG_PSF[0:galaPerFile]\n",
    "#         gala_table['IMAG_PSF'] = galaIMAG_PSF[0:galaPerFile]\n",
    "#         gala_table['ZMAG_PSF'] = galaZMAG_PSF[0:galaPerFile]\n",
    "#         gala_table['GMAG_CM'] = galaGMAG_CM[0:galaPerFile]\n",
    "#         gala_table['RMAG_CM'] = galaRMAG_CM[0:galaPerFile]\n",
    "#         gala_table['IMAG_CM'] = galaIMAG_CM[0:galaPerFile]\n",
    "#         gala_table['ZMAG_CM'] = galaZMAG_CM[0:galaPerFile]\n",
    "#         gala_table['SIZE'] = galaSIZE[0:galaPerFile]\n",
    "#         gala_table['SIZE_ERR'] = galaSIZE_ERR[0:galaPerFile]\n",
    "#         writeToGalaFile = equalSizeFileDir + \"Galaxies\" + (\"0\" * (4 - len(str(galaIndex)))) + str(galaIndex) + '.fits'\n",
    "#         gala_table.write(writeToGalaFile, overwrite = True)\n",
    "#         galaIndex += 1\n",
    "        \n",
    "#         galaPIX = np.delete(galaPIX, np.arange(galaPerFile))\n",
    "#         galaGMAG_PSF = np.delete(galaGMAG_PSF, np.arange(galaPerFile))\n",
    "#         galaRMAG_PSF = np.delete(galaRMAG_PSF, np.arange(galaPerFile))\n",
    "#         galaIMAG_PSF = np.delete(galaIMAG_PSF, np.arange(galaPerFile))\n",
    "#         galaZMAG_PSF = np.delete(galaZMAG_PSF, np.arange(galaPerFile))\n",
    "#         galaGMAG_CM = np.delete(galaGMAG_CM, np.arange(galaPerFile))\n",
    "#         galaRMAG_CM = np.delete(galaRMAG_CM, np.arange(galaPerFile))\n",
    "#         galaIMAG_CM = np.delete(galaIMAG_CM, np.arange(galaPerFile))\n",
    "#         galaZMAG_CM = np.delete(galaZMAG_CM, np.arange(galaPerFile))\n",
    "#         galaSIZE = np.delete(galaSIZE, np.arange(galaPerFile))\n",
    "#         galaSIZE_ERR = np.delete(galaSIZE_ERR, np.arange(galaPerFile))\n",
    "        \n",
    "#     if len(starPIX) > 0:\n",
    "#         starPIXExtra = starPIX\n",
    "#         starGMAG_PSFExtra = starGMAG_PSF\n",
    "#         starRMAG_PSFExtra = starRMAG_PSF\n",
    "#         starIMAG_PSFExtra = starIMAG_PSF\n",
    "#         starZMAG_PSFExtra = starZMAG_PSF\n",
    "#         starGMAG_CMExtra = starGMAG_CM\n",
    "#         starRMAG_CMExtra = starRMAG_CM\n",
    "#         starIMAG_CMExtra = starIMAG_CM\n",
    "#         starZMAG_CMExtra = starZMAG_CM\n",
    "#         starSIZEExtra = starSIZE\n",
    "#         starSIZE_ERRExtra = starSIZE_ERR\n",
    "        \n",
    "#     if len(galaPIX) > 0:\n",
    "#         galaPIXExtra = galaPIX\n",
    "#         galaGMAG_PSFExtra = galaGMAG_PSF\n",
    "#         galaRMAG_PSFExtra = galaRMAG_PSF\n",
    "#         galaIMAG_PSFExtra = galaIMAG_PSF\n",
    "#         galaZMAG_PSFExtra = galaZMAG_PSF\n",
    "#         galaGMAG_CMExtra = galaGMAG_CM\n",
    "#         galaRMAG_CMExtra = galaRMAG_CM\n",
    "#         galaIMAG_CMExtra = galaIMAG_CM\n",
    "#         galaZMAG_CMExtra = galaZMAG_CM\n",
    "#         galaSIZEExtra = galaSIZE\n",
    "#         galaSIZE_ERRExtra = galaSIZE_ERR\n",
    "        \n",
    "# star_table =  Table()\n",
    "# star_table['PIX'] = starPIXExtra\n",
    "# star_table['GMAG_PSF'] = starGMAG_PSFExtra\n",
    "# star_table['RMAG_PSF'] = starRMAG_PSFExtra\n",
    "# star_table['IMAG_PSF'] = starIMAG_PSFExtra\n",
    "# star_table['ZMAG_PSF'] = starZMAG_PSFExtra\n",
    "# star_table['GMAG_CM'] = starGMAG_CMExtra\n",
    "# star_table['RMAG_CM'] = starRMAG_CMExtra\n",
    "# star_table['IMAG_CM'] = starIMAG_CMExtra\n",
    "# star_table['ZMAG_CM'] = starZMAG_CMExtra\n",
    "# star_table['SIZE'] = starSIZEExtra\n",
    "# star_table['SIZE_ERR'] = starSIZE_ERRExtra\n",
    "# writeToStarFile = equalSizeFileDir + \"Stars\" + (\"0\" * (4 - len(str(starIndex)))) + str(starIndex) + '.fits'\n",
    "# star_table.write(writeToStarFile, overwrite = True)\n",
    "\n",
    "# gala_table =  Table()\n",
    "# gala_table['PIX'] = galaPIXExtra\n",
    "# gala_table['GMAG_PSF'] = galaGMAG_PSFExtra\n",
    "# gala_table['RMAG_PSF'] = galaRMAG_PSFExtra\n",
    "# gala_table['IMAG_PSF'] = galaIMAG_PSFExtra\n",
    "# gala_table['ZMAG_PSF'] = galaZMAG_PSFExtra\n",
    "# gala_table['GMAG_CM'] = galaGMAG_CMExtra\n",
    "# gala_table['RMAG_CM'] = galaRMAG_CMExtra\n",
    "# gala_table['IMAG_CM'] = galaIMAG_CMExtra\n",
    "# gala_table['ZMAG_CM'] = galaZMAG_CMExtra\n",
    "# gala_table['SIZE'] = galaSIZEExtra\n",
    "# gala_table['SIZE_ERR'] = galaSIZE_ERRExtra\n",
    "# writeToGalaFile = equalSizeFileDir + \"Galaxies\" + (\"0\" * (4 - len(str(galaIndex)))) + str(galaIndex) + '.fits'\n",
    "# star_table.write(writeToGalaFile, overwrite = True)"
   ]
  },
  {
   "cell_type": "markdown",
   "id": "077581cd-9815-45fe-b9e7-5b7bd2cd5bfe",
   "metadata": {},
   "source": [
    "# Testing\n",
    "\n",
    "Everything from here on out is just testing for now."
   ]
  },
  {
   "cell_type": "code",
   "execution_count": 24,
   "id": "4b90bda7-c3bc-452d-b1a2-334b19772280",
   "metadata": {},
   "outputs": [],
   "source": [
    "galaTest = fitsio.read(croppedGalasDirectory + '1482.fits')"
   ]
  },
  {
   "cell_type": "markdown",
   "id": "afcd7a0d-7319-4308-8d39-447ebc76fbca",
   "metadata": {},
   "source": [
    "This means each object takes up a space of about 0.087 kB in memory. Use this to get an \n",
    "estimate of the time necessary to run just on this computer by checking how long this takes to run. It takes about 0.23 seconds for each object to run."
   ]
  },
  {
   "cell_type": "code",
   "execution_count": 25,
   "id": "8d7dc0b9-a02a-4e65-9fc9-8f16b055ed42",
   "metadata": {},
   "outputs": [
    {
     "data": {
      "text/plain": [
       "array([2155682, 2155682, 2155682, ..., 2155602, 2155602, 2155602])"
      ]
     },
     "execution_count": 25,
     "metadata": {},
     "output_type": "execute_result"
    }
   ],
   "source": [
    "galaTest['PIX']"
   ]
  },
  {
   "cell_type": "code",
   "execution_count": 26,
   "id": "ee2d0d17-c735-412b-a78f-529574a06a68",
   "metadata": {},
   "outputs": [],
   "source": [
    "quickIndex = np.full(validPix[-1] + 1, validPix[-1] + 1)"
   ]
  },
  {
   "cell_type": "code",
   "execution_count": 27,
   "id": "694839dc-e36d-48a4-9650-fdd991e0dc38",
   "metadata": {},
   "outputs": [],
   "source": [
    "quickIndex[validPix] = np.arange(len(validPix))"
   ]
  },
  {
   "cell_type": "code",
   "execution_count": 28,
   "id": "14f05a99-512d-409d-a90e-1fb7c7b0161e",
   "metadata": {},
   "outputs": [
    {
     "data": {
      "text/plain": [
       "True"
      ]
     },
     "execution_count": 28,
     "metadata": {},
     "output_type": "execute_result"
    }
   ],
   "source": [
    "np.min(validPix[quickIndex[validPix]] == validPix)"
   ]
  },
  {
   "cell_type": "code",
   "execution_count": 29,
   "id": "4ff75928-7526-4c35-9dbd-9520f0de424e",
   "metadata": {},
   "outputs": [],
   "source": [
    "propMaps = []\n",
    "for condFile in condFiles:\n",
    "    condData = fitsio.read(condFile)['SIGNAL'] # This reads in the data\n",
    "    propMaps.append(condData) # Only stores the values that are in pixels with injections"
   ]
  },
  {
   "cell_type": "code",
   "execution_count": 30,
   "id": "4a0ed4ce-cf93-4e71-be23-9da824d3cb11",
   "metadata": {},
   "outputs": [],
   "source": [
    "starY = fitsio.read(starTrainFile)\n",
    "starAcc = loadtxt(starTrainFile[0:-5] + '_Ave_Acc.csv', delimiter=',')\n",
    "starInds = loadtxt(starTrainFile[0:-5] + '_Indices.csv', delimiter=',').astype(int)\n",
    "starMeans = loadtxt(starTrainFile[0:-5] + '_Means.csv', delimiter=',')\n",
    "starSTDs = loadtxt(starTrainFile[0:-5] + '_Stds.csv', delimiter=',')\n",
    "starRedSTDs = loadtxt(starTrainFile[0:-5] + '_Red_Stds.csv', delimiter=',')\n",
    "\n",
    "# This reads in the feature vector and converts it to floating points.\n",
    "strFeatVec = loadtxt(starTrainFile[0:-5] + '_Feat_Vec.csv', delimiter = '\\t', dtype = object)\n",
    "starFeatVec = []\n",
    "for j in range(len(strFeatVec)):\n",
    "\n",
    "    indVec = []\n",
    "\n",
    "    for k in range(len(strFeatVec[j])):\n",
    "\n",
    "        indVec.append(float(strFeatVec[j][k]))\n",
    "\n",
    "    indVec = np.array(indVec)\n",
    "    starFeatVec.append(indVec)\n",
    "\n",
    "starFeatVec = np.array(starFeatVec, dtype = object)"
   ]
  },
  {
   "cell_type": "code",
   "execution_count": 31,
   "id": "a66682ec-ff37-40fd-8b81-3f0424ffbc22",
   "metadata": {},
   "outputs": [],
   "source": [
    "galaY = fitsio.read(galaTrainFile)\n",
    "galaAcc = loadtxt(galaTrainFile[0:-5] + '_Ave_Acc.csv', delimiter=',')\n",
    "galaInds = loadtxt(galaTrainFile[0:-5] + '_Indices.csv', delimiter=',').astype(int)\n",
    "galaMeans = loadtxt(galaTrainFile[0:-5] + '_Means.csv', delimiter=',')\n",
    "galaSTDs = loadtxt(galaTrainFile[0:-5] + '_Stds.csv', delimiter=',')\n",
    "galaRedSTDs = loadtxt(galaTrainFile[0:-5] + '_Red_Stds.csv', delimiter=',')\n",
    "\n",
    "# This reads in the feature vector and converts it to floating points.\n",
    "strFeatVec = loadtxt(galaTrainFile[0:-5] + '_Feat_Vec.csv', delimiter = '\\t', dtype = object)\n",
    "galaFeatVec = []\n",
    "for j in range(len(strFeatVec)):\n",
    "\n",
    "    indVec = []\n",
    "\n",
    "    for k in range(len(strFeatVec[j])):\n",
    "\n",
    "        indVec.append(float(strFeatVec[j][k]))\n",
    "\n",
    "    indVec = np.array(indVec)\n",
    "    galaFeatVec.append(indVec)\n",
    "\n",
    "galaFeatVec = np.array(galaFeatVec, dtype = object)"
   ]
  },
  {
   "cell_type": "code",
   "execution_count": 32,
   "id": "928c085e-3619-4576-87b9-c6ceb47353ec",
   "metadata": {},
   "outputs": [],
   "source": [
    "testGalaTrainFile = newGalaDir + 'Gala_Test_1-4.fits'"
   ]
  },
  {
   "cell_type": "code",
   "execution_count": 33,
   "id": "7bd78958-d93a-43c6-a212-e1b7ae0c5001",
   "metadata": {},
   "outputs": [],
   "source": [
    "# timeThrough = 0\n",
    "# for galaxy in galaTest:\n",
    "#     timeThrough += 1\n",
    "#     if timeThrough % 100 == 0:\n",
    "#         print(timeThrough)\n",
    "#     allProps = []\n",
    "#     allProps.append(galaxy['GMAG_PSF'])\n",
    "#     allProps.append(galaxy['RMAG_PSF'])\n",
    "#     allProps.append(galaxy['IMAG_PSF'])\n",
    "#     allProps.append(galaxy['ZMAG_PSF'])\n",
    "#     allProps.append(galaxy['GMAG_CM'])\n",
    "#     allProps.append(galaxy['RMAG_CM'])\n",
    "#     allProps.append(galaxy['IMAG_CM'])\n",
    "#     allProps.append(galaxy['ZMAG_CM'])\n",
    "#     allProps.append(galaxy['SIZE'])\n",
    "#     allProps.append(galaxy['SIZE_ERR'])\n",
    "#     for prop in propMaps:\n",
    "#         allProps.append(prop[quickIndex[galaxy['PIX']]])\n",
    "#     check = singleObjectCorrection(allProps, starTrainFile, newGalaDir + 'Gala_Train_1-22.fits', False, starY, starAcc, starInds, starMeans, starSTDs, starRedSTDs, starFeatVec,  galaY, galaAcc, galaInds, galaMeans, galaSTDs, galaRedSTDs, galaFeatVec)"
   ]
  },
  {
   "cell_type": "code",
   "execution_count": null,
   "id": "380ac6ab-5e02-4fdd-9d92-e4e7dad72beb",
   "metadata": {},
   "outputs": [],
   "source": []
  }
 ],
 "metadata": {
  "kernelspec": {
   "display_name": "Python 3 (ipykernel)",
   "language": "python",
   "name": "python3"
  },
  "language_info": {
   "codemirror_mode": {
    "name": "ipython",
    "version": 3
   },
   "file_extension": ".py",
   "mimetype": "text/x-python",
   "name": "python",
   "nbconvert_exporter": "python",
   "pygments_lexer": "ipython3",
   "version": "3.9.12"
  }
 },
 "nbformat": 4,
 "nbformat_minor": 5
}
