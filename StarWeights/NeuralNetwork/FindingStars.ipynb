{
 "cells": [
  {
   "cell_type": "code",
   "execution_count": 1,
   "id": "3dfbf1b2-1362-46e2-8363-649a168e8928",
   "metadata": {},
   "outputs": [],
   "source": [
    "# import numpy as np\n",
    "# import fitsio\n",
    "# import matplotlib.pyplot as plt\n",
    "# from matplotlib.colors import LogNorm"
   ]
  },
  {
   "cell_type": "code",
   "execution_count": 2,
   "id": "eff7f23c-a3df-4a63-a361-e16dd2ef1889",
   "metadata": {},
   "outputs": [],
   "source": [
    "# matchedFile = '/afs/hep.wisc.edu/home/kkboone/data/temp/Balrog_Matched_Filtered.fits'\n",
    "# ssiFile = '/afs/hep.wisc.edu/home/kkboone/data/perm/InjectionsWithinTiles.fits'"
   ]
  },
  {
   "cell_type": "code",
   "execution_count": 3,
   "id": "9d746466-72c5-444b-a185-065ac1ea0980",
   "metadata": {},
   "outputs": [],
   "source": [
    "# matchedData = fitsio.read(matchedFile, columns = ['meas_EXTENDED_CLASS_SOF', 'true_ra', 'true_dec', 'true_bdf_T'])\n",
    "# ssiData = fitsio.read(ssiFile, columns = ['meas_EXTENDED_CLASS_SOF', 'true_ra', 'true_dec'])"
   ]
  },
  {
   "cell_type": "code",
   "execution_count": 4,
   "id": "857504f2-5882-41e4-86bd-a2cc7bd5a1de",
   "metadata": {},
   "outputs": [],
   "source": [
    "# plt.hist(matchedData['meas_EXTENDED_CLASS_SOF'], bins = np.linspace(-0.5, 3.5, 5))"
   ]
  },
  {
   "cell_type": "code",
   "execution_count": 5,
   "id": "699efd40-afae-4c2f-9ea0-1cf32a09a291",
   "metadata": {},
   "outputs": [],
   "source": [
    "# star0Indices = np.where(matchedData['meas_EXTENDED_CLASS_SOF'] == 0)[0]\n",
    "# star1Indices = np.where(matchedData['meas_EXTENDED_CLASS_SOF'] == 1)[0]\n",
    "# galaxy2Indices = np.where(matchedData['meas_EXTENDED_CLASS_SOF'] == 2)[0]\n",
    "# galaxy3Indices = np.where(matchedData['meas_EXTENDED_CLASS_SOF'] == 3)[0]"
   ]
  },
  {
   "cell_type": "code",
   "execution_count": 6,
   "id": "e2069518-26f5-461e-89a1-26b159d7dbc6",
   "metadata": {},
   "outputs": [],
   "source": [
    "# star0BDF = matchedData['true_bdf_T'][star0Indices]\n",
    "# star1BDF = matchedData['true_bdf_T'][star1Indices]\n",
    "# galaxy2BDF = matchedData['true_bdf_T'][galaxy2Indices]\n",
    "# galaxy3BDF = matchedData['true_bdf_T'][galaxy3Indices]\n",
    "\n",
    "# star0RA = matchedData['true_ra'][star0Indices]\n",
    "# star1BDF = matchedData['true_bdf_T'][star1Indices]\n",
    "# galaxy2BDF = matchedData['true_bdf_T'][galaxy2Indices]\n",
    "# galaxy3RA = matchedData['true_ra'][galaxy3Indices]\n",
    "\n",
    "# star0DEC = matchedData['true_dec'][star0Indices]\n",
    "# star1BDF = matchedData['true_bdf_T'][star1Indices]\n",
    "# galaxy2BDF = matchedData['true_bdf_T'][galaxy2Indices]\n",
    "# galaxy3DEC = matchedData['true_dec'][galaxy3Indices]"
   ]
  },
  {
   "cell_type": "code",
   "execution_count": 7,
   "id": "98c9d047-b503-4e4f-99f3-cb61783263b3",
   "metadata": {},
   "outputs": [],
   "source": [
    "# plt.figure(dpi=150)\n",
    "# plt.hist(star0BDF, bins = np.linspace(0, 1, 100), edgecolor='black', linewidth=.2)\n",
    "# plt.show()"
   ]
  },
  {
   "cell_type": "code",
   "execution_count": 8,
   "id": "d3b76795-3d5c-41b3-9860-960a843846b2",
   "metadata": {},
   "outputs": [],
   "source": [
    "# plt.figure(dpi=150)\n",
    "# plt.hist(star1BDF, bins = np.linspace(0, 1, 100), color = 'g', edgecolor='black', linewidth=.2)\n",
    "# plt.show()"
   ]
  },
  {
   "cell_type": "code",
   "execution_count": 9,
   "id": "465832d8-9772-4e16-a41e-a8dc20c94731",
   "metadata": {},
   "outputs": [],
   "source": [
    "# plt.figure(dpi=150)\n",
    "# plt.hist(galaxy2BDF, bins = np.linspace(0, 1, 100), color = 'y', edgecolor='black', linewidth=.2)\n",
    "# plt.show()"
   ]
  },
  {
   "cell_type": "code",
   "execution_count": 10,
   "id": "71f57ea4-6c5a-4b29-ba93-ec267ad1c910",
   "metadata": {},
   "outputs": [],
   "source": [
    "# plt.figure(dpi=150)\n",
    "# plt.hist(galaxy3BDF, bins = np.linspace(0, 1, 100), color = 'r', edgecolor='black', linewidth=.2)\n",
    "# plt.show()"
   ]
  },
  {
   "cell_type": "code",
   "execution_count": 11,
   "id": "47cd8eb8-d510-4997-b7bf-f3e88257c773",
   "metadata": {},
   "outputs": [],
   "source": [
    "#plt.figure(dpi=150)\n",
    "#plt.hist2d(galaxyRA, galaxyDEC, \n",
    "#           bins = (np.linspace(21.85,23.1,100, endpoint=True), np.linspace(-53.2,-52.42,100, endpoint=True)),\n",
    "#           cmap=plt.cm.Blues)\n",
    "#plt.colorbar()\n",
    "#plt.show()"
   ]
  },
  {
   "cell_type": "code",
   "execution_count": 12,
   "id": "0ebfd841-4d17-4c40-bf87-e698a07dfec2",
   "metadata": {},
   "outputs": [],
   "source": [
    "# len(star0BDF)*100"
   ]
  },
  {
   "cell_type": "code",
   "execution_count": 13,
   "id": "4ebbd55e-f6be-4323-b9b6-678adf2260b5",
   "metadata": {},
   "outputs": [
    {
     "name": "stderr",
     "output_type": "stream",
     "text": [
      "\n",
      "WARNING: version mismatch between CFITSIO header (v4.000999999999999) and linked library (v4.01).\n",
      "\n",
      "\n",
      "WARNING: version mismatch between CFITSIO header (v4.000999999999999) and linked library (v4.01).\n",
      "\n",
      "\n",
      "WARNING: version mismatch between CFITSIO header (v4.000999999999999) and linked library (v4.01).\n",
      "\n"
     ]
    }
   ],
   "source": [
    "import numpy as np\n",
    "import fitsio\n",
    "import healpy as hp"
   ]
  },
  {
   "cell_type": "code",
   "execution_count": 14,
   "id": "0eba938d-bf10-49e5-89da-9d2efe51d8cf",
   "metadata": {},
   "outputs": [],
   "source": [
    "starFile = '/afs/hep.wisc.edu/bechtol-group/MegansThings/balrog_detection_catalog_sof_run2_stars_v1.4_avg_added_match_flags.fits'\n",
    "# This reads in all of the data. Most of these are just flags, the only pieces that get used much outside\n",
    "# of filtering are true_ra and true_dec which get used to convert into healPixels.\n",
    "starData = fitsio.read(starFile, columns = ['detected', 'true_ra', 'true_dec',\n",
    "                                            'flags_foreground', 'flags_badregions', 'flags_footprint',\n",
    "                                            'meas_FLAGS_GOLD_SOF_ONLY', 'match_flag_1.5_asec'])"
   ]
  },
  {
   "cell_type": "code",
   "execution_count": 15,
   "id": "73cf2c04-5516-4dd6-a149-9e3591907d39",
   "metadata": {},
   "outputs": [
    {
     "name": "stdout",
     "output_type": "stream",
     "text": [
      "0.7282926019070762\n"
     ]
    }
   ],
   "source": [
    "# These are in degrees which is why lonlat is set to True in the next cell.\n",
    "RA = starData['true_ra']\n",
    "DEC = starData['true_dec']\n",
    "# Everything from here on out is simply used in order to filter the data\n",
    "DETECTED = starData['detected'] # This specifically is used for now to filter out any non detected injection.\n",
    "FOREGROUND = starData['flags_foreground']\n",
    "BADREGIONS = starData['flags_badregions']\n",
    "FOOTPRINT = starData['flags_footprint']\n",
    "GOLDSOF = starData['meas_FLAGS_GOLD_SOF_ONLY']\n",
    "ARCSECONDS = starData['match_flag_1.5_asec']\n",
    "# i_mag = starData['meas_cm_mag_deredden'][:,2] This gets used if we filter at all based on i magnitude.\n",
    "\n",
    "# This is used to filter out any injections that either weren't detected or had flags raised.\n",
    "cutIndices = np.where((FOREGROUND == 0) & \n",
    "                      (BADREGIONS < 2) & \n",
    "                      (FOOTPRINT == 1) & \n",
    "                      # (GOLDSOF < 2) &\n",
    "                      (ARCSECONDS < 2))[0]\n",
    "\n",
    "aveEff = np.sum(DETECTED) / len(DETECTED)\n",
    "\n",
    "DETECTED = DETECTED[cutIndices]\n",
    "RA = RA[cutIndices]\n",
    "DEC = DEC[cutIndices]\n",
    "\n",
    "print(aveEff)"
   ]
  },
  {
   "cell_type": "code",
   "execution_count": 16,
   "id": "770f29f6-0905-4f95-aadf-548b666dd7cf",
   "metadata": {},
   "outputs": [],
   "source": [
    "res = 2048\n",
    "# This converts the RA and DEC values from above to healpixels so we can compare to the sky condition.\n",
    "starPixels = hp.ang2pix(res, RA, DEC, lonlat = True, nest = True)"
   ]
  },
  {
   "cell_type": "code",
   "execution_count": 17,
   "id": "b7c7e101-a180-4716-bcdd-ed369fa72eba",
   "metadata": {},
   "outputs": [],
   "source": [
    "# Here I consider a valid pixel any pixel that has a non \"bad value\" for the condition and fracDet \n",
    "# and that has at least one of the filtered stars in it.\n",
    "pix = fitsio.read('/hdfs/bechtol/balrog/y3/y3a2_survey_conditions_maps/Kyle_Stuff/valid_pixel_2048_conditions.fits')['PIX_2048']\n",
    "validPixels = np.full(12*(res**2), False, dtype = bool)\n",
    "validPixels[pix] = True"
   ]
  },
  {
   "cell_type": "code",
   "execution_count": 18,
   "id": "d4cc794b-e98d-4df4-a586-e95bee1d1c67",
   "metadata": {},
   "outputs": [],
   "source": [
    "# This gets the indices of the stars that are at valid pixels (this shouldn't filter out many at all).\n",
    "starIndices = np.where(validPixels[starPixels])[0]"
   ]
  },
  {
   "cell_type": "code",
   "execution_count": 19,
   "id": "d420b9d8-2d8f-42f7-8860-bc6fcccbdbf0",
   "metadata": {},
   "outputs": [],
   "source": [
    "# This tells me which pixels correspond to the values above.\n",
    "condPix = np.where(validPixels)[0]\n",
    "\n",
    "# This tells me the pixels for the stars, it will be the same as condPix but have repeats if multiple stars are detected\n",
    "# on one pixel. By default these will not be sorted.\n",
    "starPix = starPixels[starIndices]\n",
    "DETVALIDPIX = DETECTED[starIndices]\n",
    "\n",
    "# This sorts the pixels. This may seem like an unnecessarily difficult way to do it but it could be useful for future projects\n",
    "# and it doesn't take much more space or time so I chose to leave it in.\n",
    "sortInds = starPix.argsort()\n",
    "starPix = starPix[sortInds[::1]]\n",
    "DET = DETVALIDPIX[sortInds[::1]]"
   ]
  },
  {
   "cell_type": "code",
   "execution_count": 20,
   "id": "ceaaac62-ab6f-433c-8f76-f9d302e9a68a",
   "metadata": {},
   "outputs": [],
   "source": [
    "# These are indices that will be looping through the condPix and starPix arrays in parallel.\n",
    "condInd = 0\n",
    "starInd = 0\n",
    "\n",
    "# This will be used to store the number of stars at each pixel.\n",
    "detStar = np.zeros_like(condPix) + 1 # Laplace's Rule of Succession\n",
    "injStar = np.zeros_like(condPix) + 2 # Laplace's Rule of Succession\n",
    "\n",
    "while starInd < len(starPix):\n",
    "    if condPix[condInd] == starPix[starInd]: # If the pixels match up in the arrays.\n",
    "        detStar[condInd] += DET[starInd]\n",
    "        injStar[condInd] += 1                # Add one to the corresponding spot in the balStar array.\n",
    "        starInd += 1                         # Add one to the starInd to see if the next index in starPix is also the same.\n",
    "        # Since the last index of condPix and starPix are the same, starInd will increase the last time through the loop,\n",
    "        # making this the index that we must restrict in the while loop.\n",
    "    else:\n",
    "        condInd += 1 # If the pixels are no longer the same, increase the index you check in the condPix array."
   ]
  },
  {
   "cell_type": "code",
   "execution_count": 21,
   "id": "5599de7a-2ff4-4640-9478-c52429e8083e",
   "metadata": {},
   "outputs": [
    {
     "data": {
      "text/plain": [
       "array([3, 3, 4, ..., 5, 5, 3])"
      ]
     },
     "execution_count": 21,
     "metadata": {},
     "output_type": "execute_result"
    }
   ],
   "source": [
    "injStar"
   ]
  },
  {
   "cell_type": "code",
   "execution_count": 22,
   "id": "1b70b33d-1715-4750-98bc-9230556330b1",
   "metadata": {},
   "outputs": [],
   "source": [
    "from astropy.table import Table"
   ]
  },
  {
   "cell_type": "code",
   "execution_count": 23,
   "id": "331139b0-b7c0-4895-b505-9377aec20259",
   "metadata": {},
   "outputs": [],
   "source": [
    "my_table = Table()\n",
    "# add columns to the table:\n",
    "my_table['PIX_2048'] = condPix\n",
    "# e.g. my_table['pixels'] = pixel_array"
   ]
  },
  {
   "cell_type": "code",
   "execution_count": 24,
   "id": "f13bb836-4ec9-40c8-80cc-b1bc97ea398a",
   "metadata": {},
   "outputs": [],
   "source": [
    "my_table['DETECTIONS'] = detStar\n",
    "my_table['INJECTIONS'] = injStar"
   ]
  },
  {
   "cell_type": "code",
   "execution_count": 25,
   "id": "23b748f2-4185-49f2-b279-dab93b48c972",
   "metadata": {},
   "outputs": [],
   "source": [
    "my_table.write(\"/hdfs/bechtol/balrog/y3/y3a2_survey_conditions_maps/Kyle_Stuff/valid_pixel_2048_stars.fits\", overwrite = True)"
   ]
  }
 ],
 "metadata": {
  "kernelspec": {
   "display_name": "Python 3 (ipykernel)",
   "language": "python",
   "name": "python3"
  },
  "language_info": {
   "codemirror_mode": {
    "name": "ipython",
    "version": 3
   },
   "file_extension": ".py",
   "mimetype": "text/x-python",
   "name": "python",
   "nbconvert_exporter": "python",
   "pygments_lexer": "ipython3",
   "version": "3.9.12"
  }
 },
 "nbformat": 4,
 "nbformat_minor": 5
}
