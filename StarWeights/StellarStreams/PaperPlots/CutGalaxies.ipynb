{
 "cells": [
  {
   "cell_type": "markdown",
   "id": "6bd350bd-cbed-441c-ad7a-623e53b3e37d",
   "metadata": {},
   "source": [
    "# Balrog Galaxies Classified as Stars\n",
    "\n",
    "## ALWAYS USE TEST1A"
   ]
  },
  {
   "cell_type": "code",
   "execution_count": 1,
   "id": "fa77ba81-fe6c-472b-8617-60030b12c8d6",
   "metadata": {},
   "outputs": [],
   "source": [
    "import sys\n",
    "sys.path.insert(1, '/afs/hep.wisc.edu/home/kkboone/software/StarWeights/StellarStreams')\n",
    "\n",
    "import fitsio\n",
    "import numpy as np\n",
    "import healpy as hp\n",
    "import scipy as sc\n",
    "import matplotlib.pyplot as plt\n",
    "import matplotlib.style\n",
    "import matplotlib\n",
    "from scipy import interpolate as inter\n",
    "from astropy.table import Table\n",
    "import BalrogTestConfig as balrConfig\n",
    "import Config\n",
    "from TrainAndFullMap import *\n",
    "from timeit import default_timer as timer\n",
    "import StellarConfig as strConfig\n",
    "from matplotlib.path import Path\n",
    "matplotlib.style.use('des_dr1')"
   ]
  },
  {
   "cell_type": "code",
   "execution_count": 2,
   "id": "35fadb2f-022d-4ad1-a680-ce5219ea295c",
   "metadata": {},
   "outputs": [],
   "source": [
    "cutOffPercent = .01\n",
    "res = 4096\n",
    "binNum = 10\n",
    "classCut = 1.5\n",
    "path = strConfig.path\n",
    "mu = strConfig.mu\n",
    "rMagCut = [0, 22.9]"
   ]
  },
  {
   "cell_type": "code",
   "execution_count": 3,
   "id": "28bf51a7-873e-4cb1-b46d-46acf4224704",
   "metadata": {},
   "outputs": [],
   "source": [
    "validPixFile = balrConfig.test1aValidPixFile\n",
    "\n",
    "matBalrGalaFile = strConfig.matBalrFile\n",
    "\n",
    "deepFiles = balrConfig.deepFiles"
   ]
  },
  {
   "cell_type": "code",
   "execution_count": 4,
   "id": "f4ac908f-359b-4a5b-8878-95da9edc812b",
   "metadata": {},
   "outputs": [],
   "source": [
    "# All I need from the deep fields is the ID numbers and original KNN classification.\n",
    "deepCols  = ['KNN_CLASS', 'ID']\n",
    "deepID = []\n",
    "deepClass= []\n",
    "\n",
    "for deepFile in deepFiles:\n",
    "    deepData = fitsio.read(deepFile, columns = deepCols)\n",
    "    deepID.extend(deepData['ID'])\n",
    "    deepClass.extend(deepData['KNN_CLASS'])\n",
    "\n",
    "deepID = np.array(deepID)\n",
    "deepClass = np.array(deepClass)\n",
    "\n",
    "# This serves to make it easier to check the original classification of an object.\n",
    "# This way I can simply check the classification by indexing to an ID number minus\n",
    "# the minimum ID number to find the classification. This prevented having an overly\n",
    "# large array but still has the speed advantage of indexing.\n",
    "minID = np.min(deepID)\n",
    "deepGalID = np.zeros(np.max(deepID) - minID + 1)\n",
    "deepGalID[deepID - minID] = deepClass"
   ]
  },
  {
   "cell_type": "code",
   "execution_count": 5,
   "id": "c9535257-b841-400b-b300-6dd3f1001a67",
   "metadata": {},
   "outputs": [],
   "source": [
    "validPix = fitsio.read(validPixFile)['PIXEL']"
   ]
  },
  {
   "cell_type": "code",
   "execution_count": 6,
   "id": "8c8ca549-d99a-4c8b-8b29-0499e0342ec1",
   "metadata": {},
   "outputs": [],
   "source": [
    "galaData = fitsio.read(matBalrGalaFile, columns = ['true_ra', 'true_dec', 'meas_EXTENDED_CLASS_SOF', 'meas_psf_mag', 'true_id'])"
   ]
  },
  {
   "cell_type": "code",
   "execution_count": 7,
   "id": "5263d591-c505-4fc0-8699-66eb0cece745",
   "metadata": {},
   "outputs": [],
   "source": [
    "ID = galaData['true_id']\n",
    "matRa = galaData['true_ra']\n",
    "matDec = galaData['true_dec']\n",
    "matRmag = galaData['meas_psf_mag'][:,1]\n",
    "matGmag = galaData['meas_psf_mag'][:,0]\n",
    "matClass = galaData['meas_EXTENDED_CLASS_SOF']"
   ]
  },
  {
   "cell_type": "code",
   "execution_count": 8,
   "id": "6e3a4794-fac8-443e-8610-cbcd3b959342",
   "metadata": {},
   "outputs": [],
   "source": [
    "matPix = hp.ang2pix(res, matRa, matDec, nest = True, lonlat = True)"
   ]
  },
  {
   "cell_type": "code",
   "execution_count": 9,
   "id": "16f18c2c-ccf1-47a6-8a31-107e9ad72466",
   "metadata": {},
   "outputs": [],
   "source": [
    "pixCut = np.isin(matPix, validPix)\n",
    "ID = ID[pixCut]\n",
    "matPix = matPix[pixCut]\n",
    "matRmag = matRmag[pixCut]\n",
    "matGmag = matGmag[pixCut]\n",
    "matClass = matClass[pixCut]"
   ]
  },
  {
   "cell_type": "code",
   "execution_count": 10,
   "id": "4556f15f-bfe0-4e12-9f40-fbb1c268f5a1",
   "metadata": {},
   "outputs": [
    {
     "data": {
      "text/plain": [
       "0.9860116284599068"
      ]
     },
     "execution_count": 10,
     "metadata": {},
     "output_type": "execute_result"
    }
   ],
   "source": [
    "len(matPix) / len(matRa)"
   ]
  },
  {
   "cell_type": "code",
   "execution_count": 11,
   "id": "c82fe947-2339-4d92-8249-b7d4933da321",
   "metadata": {},
   "outputs": [],
   "source": [
    "idCut = np.where(deepGalID[ID - minID] == 1)[0]\n",
    "matPix = matPix[idCut]\n",
    "matRmag = matRmag[idCut]\n",
    "matGmag = matGmag[idCut]\n",
    "matClass = matClass[idCut]"
   ]
  },
  {
   "cell_type": "code",
   "execution_count": 12,
   "id": "d6a96edf-0f3a-4b1c-98a9-116c4c2c86d8",
   "metadata": {},
   "outputs": [
    {
     "data": {
      "text/plain": [
       "0.6844482347770323"
      ]
     },
     "execution_count": 12,
     "metadata": {},
     "output_type": "execute_result"
    }
   ],
   "source": [
    "len(matPix) / len(matRa)"
   ]
  },
  {
   "cell_type": "code",
   "execution_count": 13,
   "id": "99836196-480e-428a-88cd-b43f757e9bd9",
   "metadata": {},
   "outputs": [],
   "source": [
    "magCut = np.where((matRmag <= rMagCut[1]) &\n",
    "                  (matRmag > rMagCut[0]))[0]\n",
    "\n",
    "matPix = matPix[magCut]\n",
    "matRmag = matRmag[magCut]\n",
    "matGmag = matGmag[magCut]\n",
    "matClass = matClass[magCut]"
   ]
  },
  {
   "cell_type": "code",
   "execution_count": 14,
   "id": "57244aae-6200-4c3e-8125-b9e3647adc0c",
   "metadata": {},
   "outputs": [
    {
     "data": {
      "text/plain": [
       "0.15052407174749985"
      ]
     },
     "execution_count": 14,
     "metadata": {},
     "output_type": "execute_result"
    }
   ],
   "source": [
    "len(matPix) / len(matRa)"
   ]
  },
  {
   "cell_type": "code",
   "execution_count": 15,
   "id": "99c264f3-fa3d-49af-b3d5-b99bac183c30",
   "metadata": {},
   "outputs": [],
   "source": [
    "MG = matGmag - mu\n",
    "GR = matGmag - matRmag\n",
    "\n",
    "filterSelection=Path.contains_points(path,np.vstack((GR,MG)).T)\n",
    "\n",
    "matClass = matClass[filterSelection]\n",
    "matPix = matPix[filterSelection]"
   ]
  },
  {
   "cell_type": "code",
   "execution_count": 16,
   "id": "a13b176c-637a-457e-baf5-38bbbbc4bff8",
   "metadata": {},
   "outputs": [
    {
     "data": {
      "text/plain": [
       "0.02711894084399883"
      ]
     },
     "execution_count": 16,
     "metadata": {},
     "output_type": "execute_result"
    }
   ],
   "source": [
    "len(matPix) / len(matRa)"
   ]
  },
  {
   "cell_type": "code",
   "execution_count": 17,
   "id": "591abb40-578c-40de-983f-7f093b4036cb",
   "metadata": {},
   "outputs": [],
   "source": [
    "classCuts = np.where((matClass >= 0) &\n",
    "                     (matClass <= classCut))[0]"
   ]
  },
  {
   "cell_type": "code",
   "execution_count": 18,
   "id": "5c141c5d-86e5-4ccf-b83f-19fa69a109db",
   "metadata": {},
   "outputs": [],
   "source": [
    "matPix = matPix[classCuts]\n",
    "origDetPix = np.copy(matPix)\n",
    "origDetPix = np.sort(origDetPix)"
   ]
  },
  {
   "cell_type": "code",
   "execution_count": 19,
   "id": "5ec7bee6-e1e3-4553-934a-83086963047b",
   "metadata": {},
   "outputs": [
    {
     "data": {
      "text/plain": [
       "0.001173334091794883"
      ]
     },
     "execution_count": 19,
     "metadata": {},
     "output_type": "execute_result"
    }
   ],
   "source": [
    "len(matPix) / len(matRa)"
   ]
  },
  {
   "cell_type": "code",
   "execution_count": 20,
   "id": "1e9f6423-342e-48f4-ab38-62d790087737",
   "metadata": {},
   "outputs": [],
   "source": [
    "_, origAllDetPixCounts = np.unique(np.append(validPix, origDetPix), return_counts = True)\n",
    "origAllDetPixCounts = origAllDetPixCounts - 1"
   ]
  },
  {
   "cell_type": "code",
   "execution_count": 21,
   "id": "5d7b8039-60d7-48be-a300-ab9f7c670a58",
   "metadata": {},
   "outputs": [],
   "source": [
    "origCondFiles = balrConfig.test1aCondFiles\n",
    "\n",
    "origCondMaps = []\n",
    "\n",
    "# This loops over every condition file\n",
    "for condFile in origCondFiles:\n",
    "    condData = fitsio.read(condFile) # This reads in the data\n",
    "    origCondMaps.append(condData['SIGNAL']) # Only stores the values that are in pixels with injections\n",
    "\n",
    "origCondMaps = np.array(origCondMaps)"
   ]
  },
  {
   "cell_type": "code",
   "execution_count": 22,
   "id": "95bc773a-e40f-4d62-9db8-eb8a686efaa5",
   "metadata": {},
   "outputs": [],
   "source": [
    "persToUse = np.logspace(1, 2, 20)"
   ]
  },
  {
   "cell_type": "code",
   "execution_count": 23,
   "id": "8dc1fabc-d037-4252-b155-520a338273f8",
   "metadata": {},
   "outputs": [],
   "source": [
    "def mostSigInd(y):\n",
    "    maxSquaredDiff = 0\n",
    "    index = -1\n",
    "    \n",
    "    maxSingError = np.max(np.abs(y - 1))\n",
    "    \n",
    "    if maxSingError <= cutOffPercent:\n",
    "        return index, maxSingError\n",
    "    \n",
    "    for i in range(len(y)):\n",
    "        yi = y[i]\n",
    "        \n",
    "        diff = np.sum((yi - 1)**2)\n",
    "        \n",
    "        if diff > maxSquaredDiff:\n",
    "            maxSquaredDiff = diff\n",
    "            index = i\n",
    "            \n",
    "    return index, maxSingError"
   ]
  },
  {
   "cell_type": "code",
   "execution_count": null,
   "id": "7cf04a32-415e-4a25-ab8d-20991ada9941",
   "metadata": {},
   "outputs": [],
   "source": [
    "allPixFile = balrConfig.test1aAllPixFile\n",
    "\n",
    "origInjData = fitsio.read(allPixFile)\n",
    "\n",
    "origInjPix = hp.ang2pix(res, origInjData['RA'], origInjData['DEC'], nest = True, lonlat = True)\n",
    "origValidPix = np.unique(origInjPix)\n",
    "\n",
    "origInjPix = np.sort(origInjPix)\n",
    "\n",
    "# Everything from here until the main loop is to generate matchInds\n",
    "\n",
    "origInjPixUnique, origInjPixCounts = np.unique(origInjPix, return_counts = True)\n",
    "\n",
    "matchInds = np.zeros(len(origDetPix), dtype = int)\n",
    "\n",
    "startInjInds = np.append(np.array([0]), np.cumsum(origInjPixCounts)[:-1])\n",
    "\n",
    "startDetInds = np.append(np.array([0]), np.cumsum(origAllDetPixCounts)[:-1])\n",
    "\n",
    "for i in np.arange(len(origAllDetPixCounts)):\n",
    "    if origAllDetPixCounts[i] == 0:\n",
    "        continue\n",
    "    matchInds[startDetInds[i]: startDetInds[i] + origAllDetPixCounts[i]] = np.arange(origAllDetPixCounts[i]).astype(int) + startInjInds[i]\n",
    "    \n",
    "for perObjectsToUse in persToUse:\n",
    "    \n",
    "    includeInds = np.full(len(origInjPix), False, dtype = bool)\n",
    "    includeInds[0:int((float(perObjectsToUse)*len(includeInds)) / 100)] = True\n",
    "    np.random.shuffle(includeInds)\n",
    "    \n",
    "    # Begin Comment Region\n",
    "#     includeInds = np.full(np.sum(potentialInjTrainInds), False, dtype = bool)\n",
    "#     includeInds[0:int((float(perObjectsToUse)*len(includeInds)) / 100)] = True\n",
    "#     np.random.shuffle(includeInds)\n",
    "    \n",
    "#     injTrainInds = np.copy(potentialInjTrainInds)\n",
    "#     injTrainInds[np.where(injTrainInds)[0]] = includeInds\n",
    "    # End Comment Region\n",
    "    \n",
    "    detPix = origDetPix[includeInds[matchInds]]\n",
    "    injPix = origInjPix[includeInds]\n",
    "    \n",
    "    # Begin Comment Region\n",
    "#     detPixTest = origDetPix[injTestInds[matchInds]]\n",
    "#     injPixTest = origInjPix[injTestInds]\n",
    "    \n",
    "#     detPixTrain = origDetPix[injTrainInds[matchInds]]\n",
    "#     injPixTrain = origInjPix[injTrainInds]\n",
    "    \n",
    "#     detPix = np.sort(np.append(detPixTest, detPixTrain))\n",
    "#     injPix = np.sort(np.append(injPixTest, injPixTrain))\n",
    "    # End Comment Region\n",
    "\n",
    "    validPix =  np.unique(injPix)\n",
    "    \n",
    "    condCrop = np.isin(origValidPix, validPix)\n",
    "    \n",
    "    constantTrainPixIndicator, origDetPixCounts = np.unique(np.append(validPix, detPix), return_counts = True)\n",
    "    origDetPixCounts = origDetPixCounts - 1\n",
    "    \n",
    "    condMaps = []\n",
    "\n",
    "    # This loops over every condition file\n",
    "    for origCondMap in origCondMaps:\n",
    "        condMaps.append(origCondMap[condCrop]) # Only stores the values that are in pixels with injections\n",
    "\n",
    "    condMaps = np.array(condMaps)\n",
    "    \n",
    "    trainInds = np.full(len(condMaps[0]), False, dtype = bool)\n",
    "    trainInds[0:int(0.8*len(trainInds))] = True\n",
    "    np.random.shuffle(trainInds)\n",
    "    \n",
    "    # Begin Comment Region\n",
    "    # trainInds = np.isin(constantTrainPixIndicator, np.unique(injPixTrain))\n",
    "    # End Comment Region\n",
    "    \n",
    "    # trainInds = np.isin(constantTrainPixIndicator, np.unique(injPixTrain))\n",
    "    \n",
    "    aveDetTrain = np.sum(origDetPixCounts[trainInds]) / len(origDetPixCounts[trainInds])\n",
    "\n",
    "    sortInds = []\n",
    "    for i in range(len(condMaps)):\n",
    "        sortInds.append(condMaps[i][trainInds].argsort())\n",
    "    sortInds = np.array(sortInds)\n",
    "    \n",
    "    binIndLims = [0]\n",
    "\n",
    "    for j in range(binNum):\n",
    "        binIndLims.append(int((np.sum(trainInds) - binIndLims[-1]) / (binNum - j)) + (binIndLims[-1]))\n",
    "        \n",
    "    xBins = []\n",
    "\n",
    "    for i in range(len(condMaps)):\n",
    "        cond_Map_Sort = condMaps[i][trainInds][sortInds[i][::1]]\n",
    "        condBins = []\n",
    "        for j in range(binNum):\n",
    "            condBins.append(cond_Map_Sort[binIndLims[j]:binIndLims[j+1]])\n",
    "        indXBin = []\n",
    "\n",
    "        for j in range(binNum):\n",
    "            indXBin.append(np.sum(condBins[j]) / len(condBins[j]))\n",
    "\n",
    "        xBins.append(np.array(indXBin))\n",
    "\n",
    "    xBins = np.array(xBins)\n",
    "    \n",
    "    yBinsOrig = []\n",
    "    for i in range(len(condMaps)):\n",
    "        detSort = origDetPixCounts[trainInds][sortInds[i][::1]]\n",
    "        detBins = []\n",
    "        for j in range(binNum):\n",
    "            detBins.append(detSort[binIndLims[j]:binIndLims[j+1]])\n",
    "        indYBinOrig = []\n",
    "\n",
    "        for j in range(binNum):\n",
    "            indYBinOrig.append(np.sum(detBins[j]) / (aveDetTrain * len(detBins[j])))\n",
    "\n",
    "        yBinsOrig.append(np.array(indYBinOrig))\n",
    "\n",
    "    yBinsOrig = np.array(yBinsOrig)\n",
    "    \n",
    "    detPixCounts = np.copy(origDetPixCounts)\n",
    "    \n",
    "    allErrors = []\n",
    "\n",
    "    while(True):\n",
    "\n",
    "        yBins = []\n",
    "        for i in range(len(condMaps)):\n",
    "            detSort = detPixCounts[trainInds][sortInds[i][::1]]\n",
    "            detBins = []\n",
    "            for j in range(binNum):\n",
    "                detBins.append(detSort[binIndLims[j]:binIndLims[j+1]])\n",
    "            indYBin = []\n",
    "\n",
    "            for j in range(binNum):\n",
    "                indYBin.append(np.sum(detBins[j]) / (aveDetTrain * len(detBins[j])))\n",
    "\n",
    "            yBins.append(np.array(indYBin))\n",
    "\n",
    "        yBins = np.array(yBins)\n",
    "\n",
    "        index, maxErr = mostSigInd(yBins)\n",
    "        if index == -1:\n",
    "            break\n",
    "\n",
    "        allErrors.append(maxErr)\n",
    "\n",
    "        corrFunc = inter.interp1d(xBins[index], yBins[index], bounds_error = False, fill_value = (yBins[index][0], yBins[index][-1]))\n",
    "\n",
    "        detPixCounts = detPixCounts / (corrFunc(condMaps[index]))\n",
    "\n",
    "        detPixCounts = detPixCounts * aveDetTrain / (np.sum(detPixCounts[trainInds]) / len(detPixCounts[trainInds]))\n",
    "        \n",
    "    binIndLims = [0]\n",
    "\n",
    "    for j in range(binNum):\n",
    "        binIndLims.append(int((np.sum(~trainInds) - binIndLims[-1]) / (binNum - j)) + (binIndLims[-1]))\n",
    "        \n",
    "    condMaxErrors = []\n",
    "    \n",
    "    aveDetTest = np.sum(detPixCounts[~trainInds]) / len(detPixCounts[~trainInds])\n",
    "\n",
    "    for condInd in range(len(condMaps)):\n",
    "        condMap = condMaps[condInd]\n",
    "        condSortInds = condMap[~trainInds].argsort()\n",
    "\n",
    "        detStarTemp = detPixCounts[~trainInds][condSortInds[::1]]\n",
    "\n",
    "        detBins = []\n",
    "\n",
    "        for j in range(10):\n",
    "            detBins.append(detStarTemp[binIndLims[j]:binIndLims[j+1]])\n",
    "\n",
    "        yBinCond = []\n",
    "\n",
    "        for j in range(10):\n",
    "            yBinCond.append(np.sum(detBins[j]) / (aveDetTest * len(detBins[j])))\n",
    "\n",
    "        yBinCond = np.array(yBinCond)\n",
    "\n",
    "        condMaxErrors.append(np.max(np.abs(yBinCond - 1)))\n",
    "        \n",
    "    condErrorsFile = balrConfig.test1aDir + 'MagCutTests/22.9MagCut/' + str(round(perObjectsToUse / 100, 3)) + '_Cond_Errors_' + str(cutOffPercent) + '.fits'\n",
    "    my_table = Table()\n",
    "    my_table['Errors'] = condMaxErrors\n",
    "    my_table.write(condErrorsFile, overwrite = True)\n",
    "    print(str(round(perObjectsToUse / 100, 3)) + ': ' + str(np.average(condMaxErrors)))"
   ]
  },
  {
   "cell_type": "code",
   "execution_count": null,
   "id": "e5703ab4-c1f3-4ad6-bc3b-80e990816f17",
   "metadata": {},
   "outputs": [],
   "source": [
    "maxDevs = []\n",
    "for per in persToUse:\n",
    "    file = balrConfig.test1aDir + 'MagCutTests/22.9MagCut/' + str(round(per / 100, 3)) + '_Cond_Errors_' + str(0.01) + '.fits'\n",
    "    maxDevs.append(fitsio.read(file)['Errors'])"
   ]
  },
  {
   "cell_type": "code",
   "execution_count": null,
   "id": "bd11cfc3-52df-487f-bb98-2ed433a65537",
   "metadata": {},
   "outputs": [],
   "source": [
    "aveMaxDev = []\n",
    "for maxDev in maxDevs:\n",
    "    aveMaxDev.append(np.average(maxDev))"
   ]
  },
  {
   "cell_type": "code",
   "execution_count": null,
   "id": "ef36c80d-b769-402c-bb66-f4ee32c3c88d",
   "metadata": {},
   "outputs": [],
   "source": [
    "def func(x, C, b, k):\n",
    "    return C*(x**(-1*k)) + b"
   ]
  },
  {
   "cell_type": "code",
   "execution_count": null,
   "id": "ff222edf-41e7-4def-9b9d-da3384b9805b",
   "metadata": {},
   "outputs": [],
   "source": [
    "popt, pcov = sc.optimize.curve_fit(func, persToUse, aveMaxDev, bounds=([0., 0., 0], [20, 0.1, 2]))"
   ]
  },
  {
   "cell_type": "code",
   "execution_count": null,
   "id": "0aba81ae-a207-4452-b1d5-54193c7e7f79",
   "metadata": {},
   "outputs": [],
   "source": [
    "popt"
   ]
  },
  {
   "cell_type": "code",
   "execution_count": null,
   "id": "a09ffaf8-96d9-4aa9-ae13-1b1e87b0a7fd",
   "metadata": {},
   "outputs": [],
   "source": [
    "perr = np.sqrt(np.diag(pcov))\n",
    "perr"
   ]
  },
  {
   "cell_type": "code",
   "execution_count": null,
   "id": "852741d5-2d80-46c9-b395-5abb95a756c8",
   "metadata": {},
   "outputs": [],
   "source": [
    "plt.figure()\n",
    "plt.scatter(persToUse, aveMaxDev, zorder = 3, label = 'Calculated')\n",
    "plt.plot(np.linspace(0.01, 100, 10000), func(np.linspace(0.01, 100, 10000), *popt), color = 'r', zorder = 3, label = 'Fit')\n",
    "plt.text(20, 0.3, r'$y = Cx^{-k} + b$', bbox={'facecolor': 'white', 'alpha': 1, 'pad': 10}, zorder = 3)\n",
    "plt.legend()\n",
    "plt.ylim([0, 0.5])\n",
    "plt.xlim([0, 100])\n",
    "plt.grid(zorder = 0)\n",
    "plt.ylabel('Average Maximum Deviation')\n",
    "plt.xlabel('Percentage of Balrog Galaxies Used')\n",
    "plt.title('Varying Test Data Size')\n",
    "plt.show()"
   ]
  },
  {
   "cell_type": "code",
   "execution_count": null,
   "id": "797043ec-0735-4861-bad2-adbc7decddaa",
   "metadata": {},
   "outputs": [],
   "source": [
    "x_test = np.linspace(100, 500, 10000)"
   ]
  },
  {
   "cell_type": "code",
   "execution_count": null,
   "id": "4f8be0c5-f8f5-40fe-a557-8b7107fe4683",
   "metadata": {},
   "outputs": [],
   "source": [
    "y_test = func(x_test, *popt)"
   ]
  },
  {
   "cell_type": "code",
   "execution_count": null,
   "id": "7c09d7e6-4cbd-44ee-b336-2311ad2c0890",
   "metadata": {},
   "outputs": [],
   "source": [
    "if len(np.where(y_test < 0.03)[0]) == 0:\n",
    "    print('Too High Precision')\n",
    "else:\n",
    "    print(x_test[np.where(y_test < 0.03)[0][0]])"
   ]
  },
  {
   "cell_type": "code",
   "execution_count": null,
   "id": "20d89afe-ad2e-441f-bfaa-58783cbc7c57",
   "metadata": {},
   "outputs": [],
   "source": [
    "y_test[-1]"
   ]
  },
  {
   "cell_type": "code",
   "execution_count": null,
   "id": "de727a8e-4b1d-4201-8390-41b96efb12ac",
   "metadata": {},
   "outputs": [],
   "source": []
  }
 ],
 "metadata": {
  "kernelspec": {
   "display_name": "Python 3 (ipykernel)",
   "language": "python",
   "name": "python3"
  },
  "language_info": {
   "codemirror_mode": {
    "name": "ipython",
    "version": 3
   },
   "file_extension": ".py",
   "mimetype": "text/x-python",
   "name": "python",
   "nbconvert_exporter": "python",
   "pygments_lexer": "ipython3",
   "version": "3.9.12"
  }
 },
 "nbformat": 4,
 "nbformat_minor": 5
}
