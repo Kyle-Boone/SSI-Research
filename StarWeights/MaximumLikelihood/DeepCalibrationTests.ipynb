{
 "cells": [
  {
   "cell_type": "code",
   "execution_count": 1,
   "id": "97cd4e30-e5f7-484b-8a27-fd16fbe88f88",
   "metadata": {},
   "outputs": [],
   "source": [
    "import numpy as np\n",
    "from numpy import loadtxt\n",
    "import fitsio\n",
    "import healpy as hp\n",
    "import healsparse as hsp\n",
    "import skyproj\n",
    "import matplotlib.pyplot as plt\n",
    "import Config\n",
    "from os import listdir\n",
    "from astropy.table import Table\n",
    "import astropy.units as u\n",
    "from astropy.coordinates import SkyCoord"
   ]
  },
  {
   "cell_type": "code",
   "execution_count": 2,
   "id": "70cac612-48ed-45d2-8849-53e089585fd6",
   "metadata": {},
   "outputs": [],
   "source": [
    "res = 512"
   ]
  },
  {
   "cell_type": "markdown",
   "id": "364d670a-40d7-49b3-bd7e-e4e946bb1f66",
   "metadata": {},
   "source": [
    "Check the number of galaxies that get correctly classified as galaxies. Based on pixel locations, get an idea for what the expectation value for this would be given the galaxy correct classification probabilities that were calculated out. The ratio of these two is a multiplicative factor to be applied to the galaxy correct classification probability map. Same goes for stars."
   ]
  },
  {
   "cell_type": "code",
   "execution_count": 3,
   "id": "12c033df-a5df-4324-a9db-96bed9998a85",
   "metadata": {},
   "outputs": [],
   "source": [
    "deepCols  = ['KNN_CLASS', 'RA', 'DEC', 'BDF_MAG_DERED_G', 'BDF_MAG_DERED_R', 'MASK_FLAGS', 'MASK_FLAGS_NIR']\n",
    "deepRA = np.array([])\n",
    "deepDEC = np.array([])\n",
    "deepG = np.array([])\n",
    "deepGR = np.array([])\n",
    "deepMasks = np.array([])\n",
    "deepClass = np.array([])\n",
    "deepFlag = np.array([])\n",
    "deepFlagNir = np.array([])\n",
    "\n",
    "for i in (np.arange(5) + 1):\n",
    "    deepFile = '/hdfs/bechtol/balrog/y3_deep_fields/y3_deep_fields_catalog/deepfields_00000' + str(i) + '.fits'\n",
    "\n",
    "    deepData = fitsio.read(deepFile, columns = deepCols)\n",
    "\n",
    "    deepRA = np.append(deepRA, deepData['RA'])\n",
    "    deepDEC = np.append(deepDEC, deepData['DEC'])\n",
    "    deepG = np.append(deepG, deepData['BDF_MAG_DERED_G'])\n",
    "    deepGR = np.append(deepGR, deepData['BDF_MAG_DERED_G'] - deepData['BDF_MAG_DERED_R'])\n",
    "    deepClass = np.append(deepClass, deepData['KNN_CLASS'])\n",
    "    deepFlag = np.append(deepFlag, deepData['MASK_FLAGS'])\n",
    "    deepFlagNir = np.append(deepFlagNir, deepData['MASK_FLAGS_NIR'])\n",
    "\n",
    "cutIndices = np.where((deepFlag == 0) &\n",
    "                      (deepFlagNir == 0) &\n",
    "                      (deepGR <= 1) &\n",
    "                      (deepGR >= -0.3) &\n",
    "                      (deepG <= 25) &\n",
    "                      (deepG > 24) &\n",
    "                      (deepRA < 120) &\n",
    "                      (deepClass > 0) &\n",
    "                      (deepClass < 3))[0]\n",
    "\n",
    "deepG = deepG[cutIndices]\n",
    "deepClass = deepClass[cutIndices]\n",
    "deepRA = deepRA[cutIndices]\n",
    "deepDEC = deepDEC[cutIndices]\n",
    "\n",
    "deepPix = np.unique(hp.ang2pix(res, deepRA, deepDEC, lonlat = True, nest = True))\n",
    "\n",
    "deepPixCheck = np.full(12*(res**2), False, dtype = bool)\n",
    "deepPixCheck[deepPix] = True"
   ]
  },
  {
   "cell_type": "code",
   "execution_count": 4,
   "id": "4a5cd362-362f-48bd-8f0b-e21dc848e584",
   "metadata": {},
   "outputs": [],
   "source": [
    "# likeDir = '/hdfs/bechtol/balrog/y3/y3a2_survey_conditions_maps/Kyle_Stuff/MaximumLikelihood/'\n",
    "# caliDir = likeDir + 'Calibration/'\n",
    "# minGR = -0.3\n",
    "# maxGR = 1\n",
    "# pixFile = likeDir + 'PixAndConds/Valid_'+str(res)+'_Pixels.fits'\n",
    "# validPix = fitsio.read(pixFile)['PIXEL']\n",
    "# dirStars = '/hdfs/bechtol/balrog/y3/y3a2_gold_v2p2_skim/healpixel2/'\n",
    "# files = listdir(dirStars)\n",
    "# usedCols = ['FLAGS_FOREGROUND', 'FLAGS_BADREGIONS', 'FLAGS_FOOTPRINT', 'EXTENDED_CLASS_SOF', 'SOF_PSF_MAG_G', 'SOF_PSF_MAG_R', 'SOF_CM_MAG_G', 'SOF_CM_MAG_R', 'RA', 'DEC']\n",
    "# pixCheck = np.full(12*(res**2), False, dtype = bool)\n",
    "# pixCheck[validPix] = True\n",
    "\n",
    "# magBins = [[23, 24], [24, 25], [-1000, 20], [20, 22], [22, 23], [23, 24], [24, 25]]\n",
    "# classCutoffs = [2.5, 2.5, 0.5, 0.5, 0.5, 0.5, 0.5]\n",
    "# starPosFiles = [caliDir + 'Class_2.5_Star_Pos_23-24.fits', caliDir + 'Class_2.5_Star_Pos_24-25.fits', caliDir + 'Class_0.5_Star_Pos_<20.fits', caliDir + 'Class_0.5_Star_Pos_20-22.fits', caliDir + 'Class_0.5_Star_Pos_22-23.fits', caliDir + 'Class_0.5_Star_Pos_23-24.fits', caliDir + 'Class_0.5_Star_Pos_24-25.fits']\n",
    "# galaPosFiles = [caliDir + 'Class_2.5_Gala_Pos_23-24.fits', caliDir + 'Class_2.5_Gala_Pos_24-25.fits', caliDir + 'Class_0.5_Gala_Pos_<20.fits', caliDir + 'Class_0.5_Gala_Pos_20-22.fits', caliDir + 'Class_0.5_Gala_Pos_22-23.fits', caliDir + 'Class_0.5_Gala_Pos_23-24.fits', caliDir + 'Class_0.5_Gala_Pos_24-25.fits']\n",
    "\n",
    "# for i in np.arange(len(classCutoffs)):\n",
    "    \n",
    "#     magBin = magBins[i]\n",
    "#     classCutoff = classCutoffs[i]\n",
    "#     starPosFile = starPosFiles[i]\n",
    "#     galaPosFile = galaPosFiles[i]\n",
    "    \n",
    "#     StarRA = []\n",
    "#     StarDEC = []\n",
    "\n",
    "#     GalaRA = []\n",
    "#     GalaDEC = []\n",
    "\n",
    "#     for file in files:\n",
    "#         obsData = fitsio.read(dirStars + file, columns = usedCols)\n",
    "#         FOREGROUND = obsData[usedCols[0]]\n",
    "#         BADREGIONS = obsData[usedCols[1]]\n",
    "#         FOOTPRINT = obsData[usedCols[2]]\n",
    "#         CLASS = obsData[usedCols[3]]\n",
    "#         GMAG = obsData[usedCols[4]]\n",
    "#         RMAG = obsData[usedCols[5]]\n",
    "#         GMAG_GALA = obsData[usedCols[6]]\n",
    "#         RMAG_GALA = obsData[usedCols[7]]\n",
    "#         RA = obsData[usedCols[8]]\n",
    "#         DEC = obsData[usedCols[9]]\n",
    "\n",
    "#         magCut = np.where((GMAG <= magBin[1]) & (GMAG > magBin[0]))[0]\n",
    "\n",
    "#         boolMagCut = np.zeros(len(GMAG))\n",
    "#         boolMagCut[magCut] = 1\n",
    "\n",
    "#         galaMagCut = np.where((GMAG_GALA <= magBin[1]) & (GMAG_GALA > magBin[0]))[0]\n",
    "\n",
    "#         boolGalaMagCut = np.zeros(len(GMAG_GALA))\n",
    "#         boolGalaMagCut[galaMagCut] = 1\n",
    "\n",
    "#         # Observed Star Objects\n",
    "\n",
    "#         blueStarCut = np.where((FOREGROUND == 0) & \n",
    "#                           (BADREGIONS < 2) & \n",
    "#                           (FOOTPRINT == 1) & \n",
    "#                           (CLASS <= classCutoff) & \n",
    "#                           (CLASS >= 0) &\n",
    "#                           (boolMagCut > 0) &\n",
    "#                           ((GMAG - RMAG) <= maxGR) &\n",
    "#                           ((GMAG - RMAG) >= minGR))[0]\n",
    "\n",
    "#         STARRA = RA[blueStarCut]\n",
    "#         STARDEC = DEC[blueStarCut]\n",
    "\n",
    "#         STARPIX = hp.ang2pix(res, STARRA, STARDEC, lonlat = True, nest = True)\n",
    "\n",
    "#         STARRA = STARRA[np.where((pixCheck[STARPIX]) & (deepPixCheck[STARPIX]))[0]]\n",
    "#         STARDEC = STARDEC[np.where((pixCheck[STARPIX]) & (deepPixCheck[STARPIX]))[0]]\n",
    "\n",
    "#         StarRA.extend(STARRA)\n",
    "#         StarDEC.extend(STARDEC)\n",
    "\n",
    "#         # Observed Galaxy Objects\n",
    "\n",
    "#         blueGalaCut = np.where((FOREGROUND == 0) & \n",
    "#                           (BADREGIONS < 2) & \n",
    "#                           (FOOTPRINT == 1) & \n",
    "#                           (CLASS <= 3) & \n",
    "#                           (CLASS >= classCutoff) &\n",
    "#                           (boolGalaMagCut > 0) &\n",
    "#                           ((GMAG_GALA - RMAG_GALA) <= maxGR) &\n",
    "#                           ((GMAG_GALA - RMAG_GALA) >= minGR))[0]\n",
    "\n",
    "#         GALARA = RA[blueGalaCut]\n",
    "#         GALADEC = DEC[blueGalaCut]\n",
    "\n",
    "#         GALAPIX = hp.ang2pix(res, GALARA, GALADEC, lonlat = True, nest = True)\n",
    "\n",
    "#         GALARA = GALARA[np.where((pixCheck[GALAPIX]) & (deepPixCheck[GALAPIX]))[0]]\n",
    "#         GALADEC = GALADEC[np.where((pixCheck[GALAPIX]) & (deepPixCheck[GALAPIX]))[0]]\n",
    "\n",
    "#         GalaRA.extend(GALARA)\n",
    "#         GalaDEC.extend(GALADEC)\n",
    "\n",
    "#     StarRA = np.array(StarRA, dtype = object)\n",
    "#     StarDEC = np.array(StarDEC, dtype = object)\n",
    "\n",
    "#     GalaRA = np.array(GalaRA, dtype = object)\n",
    "#     GalaDEC = np.array(GalaDEC, dtype = object)\n",
    "    \n",
    "#     my_table = Table()\n",
    "#     my_table['RA'] = StarRA.astype(float)\n",
    "#     my_table['DEC'] = StarDEC.astype(float)\n",
    "#     my_table.write(starPosFile, overwrite = True)\n",
    "    \n",
    "#     my_table = Table()\n",
    "#     my_table['RA'] = GalaRA.astype(float)\n",
    "#     my_table['DEC'] = GalaDEC.astype(float)\n",
    "#     my_table.write(galaPosFile, overwrite = True)"
   ]
  },
  {
   "cell_type": "code",
   "execution_count": 15,
   "id": "243c7ee1-5d87-42fb-9408-c53f01782034",
   "metadata": {},
   "outputs": [],
   "source": [
    "likeDir = '/hdfs/bechtol/balrog/y3/y3a2_survey_conditions_maps/Kyle_Stuff/MaximumLikelihood/'\n",
    "minGR = -0.3\n",
    "maxGR = 1\n",
    "magBin = [22, 23]\n",
    "pixFile = likeDir + 'PixAndConds/Valid_'+str(res)+'_Pixels.fits'\n",
    "validPix = fitsio.read(pixFile)['PIXEL']\n",
    "dirStars = '/hdfs/bechtol/balrog/y3/y3a2_gold_v2p2_skim/healpixel2/'\n",
    "files = listdir(dirStars)\n",
    "usedCols = ['FLAGS_FOREGROUND', 'FLAGS_BADREGIONS', 'FLAGS_FOOTPRINT', 'EXTENDED_CLASS_SOF', 'SOF_PSF_MAG_G', 'SOF_PSF_MAG_R', 'SOF_CM_MAG_G', 'SOF_CM_MAG_R', 'RA', 'DEC']\n",
    "pixCheck = np.full(12*(res**2), False, dtype = bool)\n",
    "pixCheck[validPix] = True"
   ]
  },
  {
   "cell_type": "code",
   "execution_count": 16,
   "id": "564f6a99-08f2-47c2-b1bc-d75b431367ca",
   "metadata": {},
   "outputs": [],
   "source": [
    "StarRA = []\n",
    "StarDEC = []\n",
    "\n",
    "GalaRA = []\n",
    "GalaDEC = []\n",
    "\n",
    "for file in files:\n",
    "    obsData = fitsio.read(dirStars + file, columns = usedCols)\n",
    "    FOREGROUND = obsData[usedCols[0]]\n",
    "    BADREGIONS = obsData[usedCols[1]]\n",
    "    FOOTPRINT = obsData[usedCols[2]]\n",
    "    CLASS = obsData[usedCols[3]]\n",
    "    GMAG = obsData[usedCols[4]]\n",
    "    RMAG = obsData[usedCols[5]]\n",
    "    GMAG_GALA = obsData[usedCols[6]]\n",
    "    RMAG_GALA = obsData[usedCols[7]]\n",
    "    RA = obsData[usedCols[8]]\n",
    "    DEC = obsData[usedCols[9]]\n",
    "\n",
    "    magCut = np.where((GMAG <= magBin[1]) & (GMAG > magBin[0]))[0]\n",
    "\n",
    "    boolMagCut = np.zeros(len(GMAG))\n",
    "    boolMagCut[magCut] = 1\n",
    "    \n",
    "    galaMagCut = np.where((GMAG_GALA <= magBin[1]) & (GMAG_GALA > magBin[0]))[0]\n",
    "    \n",
    "    boolGalaMagCut = np.zeros(len(GMAG_GALA))\n",
    "    boolGalaMagCut[galaMagCut] = 1\n",
    "\n",
    "    # Observed Star Objects\n",
    "\n",
    "    blueStarCut = np.where((FOREGROUND == 0) & \n",
    "                      (BADREGIONS < 2) & \n",
    "                      (FOOTPRINT == 1) & \n",
    "                      (CLASS <= 2) & \n",
    "                      (CLASS >= 0) &\n",
    "                      (boolMagCut > 0) &\n",
    "                      ((GMAG - RMAG) <= maxGR) &\n",
    "                      ((GMAG - RMAG) >= minGR))[0]\n",
    "\n",
    "    STARRA = RA[blueStarCut]\n",
    "    STARDEC = DEC[blueStarCut]\n",
    "    \n",
    "    STARPIX = hp.ang2pix(res, STARRA, STARDEC, lonlat = True, nest = True)\n",
    "\n",
    "    STARRA = STARRA[np.where((pixCheck[STARPIX]) & (deepPixCheck[STARPIX]))[0]]\n",
    "    STARDEC = STARDEC[np.where((pixCheck[STARPIX]) & (deepPixCheck[STARPIX]))[0]]\n",
    "\n",
    "    StarRA.extend(STARRA)\n",
    "    StarDEC.extend(STARDEC)\n",
    "\n",
    "    # Observed Galaxy Objects\n",
    "\n",
    "    blueGalaCut = np.where((FOREGROUND == 0) & \n",
    "                      (BADREGIONS < 2) & \n",
    "                      (FOOTPRINT == 1) & \n",
    "                      (CLASS <= 3) & \n",
    "                      (CLASS >= 3) &\n",
    "                      (boolGalaMagCut > 0) &\n",
    "                      ((GMAG_GALA - RMAG_GALA) <= maxGR) &\n",
    "                      ((GMAG_GALA - RMAG_GALA) >= minGR))[0]\n",
    "\n",
    "    GALARA = RA[blueGalaCut]\n",
    "    GALADEC = DEC[blueGalaCut]\n",
    "\n",
    "    GALAPIX = hp.ang2pix(res, GALARA, GALADEC, lonlat = True, nest = True)\n",
    "\n",
    "    GALARA = GALARA[np.where((pixCheck[GALAPIX]) & (deepPixCheck[GALAPIX]))[0]]\n",
    "    GALADEC = GALADEC[np.where((pixCheck[GALAPIX]) & (deepPixCheck[GALAPIX]))[0]]\n",
    "\n",
    "    GalaRA.extend(GALARA)\n",
    "    GalaDEC.extend(GALADEC)\n",
    "    \n",
    "StarRA = np.array(StarRA, dtype = object)\n",
    "StarDEC = np.array(StarDEC, dtype = object)\n",
    "\n",
    "GalaRA = np.array(GalaRA, dtype = object)\n",
    "GalaDEC = np.array(GalaDEC, dtype = object)"
   ]
  },
  {
   "cell_type": "code",
   "execution_count": 17,
   "id": "e40f24eb-6432-4645-968e-bb5daee09d70",
   "metadata": {},
   "outputs": [],
   "source": [
    "caliDir = likeDir + 'Calibration/'\n",
    "\n",
    "starPosFile = caliDir + 'Class_2.5_Star_Pos_22-23.fits'\n",
    "galaPosFile = caliDir + 'Class_2.5_Gala_Pos_22-23.fits'"
   ]
  },
  {
   "cell_type": "code",
   "execution_count": 18,
   "id": "76b08f79-40e1-4d7d-99ca-4af0d949e72d",
   "metadata": {},
   "outputs": [],
   "source": [
    "my_table = Table()\n",
    "my_table['RA'] = StarRA.astype(float)\n",
    "my_table['DEC'] = StarDEC.astype(float)\n",
    "my_table.write(starPosFile, overwrite = True)"
   ]
  },
  {
   "cell_type": "code",
   "execution_count": 19,
   "id": "06e33176-7652-44b7-8033-4d0a28398b59",
   "metadata": {},
   "outputs": [],
   "source": [
    "my_table = Table()\n",
    "my_table['RA'] = GalaRA.astype(float)\n",
    "my_table['DEC'] = GalaDEC.astype(float)\n",
    "my_table.write(galaPosFile, overwrite = True)"
   ]
  },
  {
   "cell_type": "code",
   "execution_count": 14,
   "id": "a0784c54-4b79-4361-8fe3-c7c06c38e312",
   "metadata": {},
   "outputs": [],
   "source": [
    "def findMatches(angleCutoff, RASource, DECSource, RAMatchCatalog, DECMatchCatalog, nthneighbor=1):\n",
    "    c = SkyCoord(ra=RASource*u.degree, dec=DECSource*u.degree)\n",
    "    catalog = SkyCoord(ra=RAMatchCatalog*u.degree, dec=DECMatchCatalog*u.degree)\n",
    "    idx, d2d, d3d = c.match_to_catalog_sky(catalog, nthneighbor=nthneighbor)\n",
    "    matches = d2d < angleCutoff\n",
    "    return matches, d2d"
   ]
  },
  {
   "cell_type": "code",
   "execution_count": 15,
   "id": "600c74a9-8643-44d2-ad14-16dcd75356c7",
   "metadata": {},
   "outputs": [],
   "source": [
    "allStarData = fitsio.read(starPosFile)\n",
    "allStarRA = allStarData['RA']\n",
    "allStarDEC = allStarData['DEC']\n",
    "\n",
    "allGalaData = fitsio.read(galaPosFile)\n",
    "allGalaRA = allGalaData['RA']\n",
    "allGalaDEC = allGalaData['DEC']"
   ]
  },
  {
   "cell_type": "code",
   "execution_count": 16,
   "id": "ed8bf454-38d1-4a42-9807-395c44ae0d11",
   "metadata": {},
   "outputs": [],
   "source": [
    "# matchedStars, _ = findMatches(0.5*u.arcsec, allStarRA, allStarDEC, deepRA, deepDEC)\n",
    "# matchedStarRA = allStarRA[matchedStars]\n",
    "# matchedStarDEC = allStarDEC[matchedStars]\n",
    "\n",
    "# matchedGalas, _ = findMatches(0.5*u.arcsec, allGalaRA, allGalaDEC, deepRA, deepDEC)\n",
    "# matchedGalaRA = allGalaRA[matchedGalas]\n",
    "# matchedGalaDEC = allGalaDEC[matchedGalas]"
   ]
  },
  {
   "cell_type": "code",
   "execution_count": 17,
   "id": "8e4976a1-307b-4380-8739-b262acd27b06",
   "metadata": {},
   "outputs": [],
   "source": [
    "# doubleGalas, _ = findMatches(0.5*u.arcsec, matchedGalaRA, matchedGalaDEC, matchedGalaRA, matchedGalaDEC, nthneighbor = 2)\n",
    "# matchedGalaRA = matchedGalaRA[~doubleGalas]\n",
    "# matchedGalaDEC = matchedGalaDEC[~doubleGalas]"
   ]
  },
  {
   "cell_type": "code",
   "execution_count": 18,
   "id": "948363ab-59e2-4d0c-b058-fad602bafd14",
   "metadata": {},
   "outputs": [],
   "source": [
    "deepStarMatches, _ = findMatches(0.5*u.arcsec, deepRA, deepDEC, allStarRA, allStarDEC)\n",
    "deepGalaMatches, _ = findMatches(0.5*u.arcsec, deepRA, deepDEC, allGalaRA, allGalaDEC)\n",
    "\n",
    "matchedDeepStarRA = deepRA[deepStarMatches]\n",
    "matchedDeepStarDEC = deepDEC[deepStarMatches]\n",
    "matchedDeepStarClass = deepClass[deepStarMatches]\n",
    "\n",
    "matchedDeepGalaRA = deepRA[deepGalaMatches]\n",
    "matchedDeepGalaDEC = deepDEC[deepGalaMatches]\n",
    "matchedDeepGalaClass = deepClass[deepGalaMatches]\n",
    "\n",
    "# if len(matchedDeepRA) != (len(matchedGalaRA) + len(matchedStarRA)):\n",
    "#     raise Exception('Mismatch in objects')"
   ]
  },
  {
   "cell_type": "code",
   "execution_count": 19,
   "id": "f075c0c9-663f-4dd2-b9fa-8ccd67ec1808",
   "metadata": {},
   "outputs": [],
   "source": [
    "# TS = True Star, FS = False Star (misclassified galaxy as a star), same for galaxy\n",
    "\n",
    "TSPIX = hp.ang2pix(res, matchedDeepStarRA[np.where(matchedDeepStarClass == 2)[0]], matchedDeepStarDEC[np.where(matchedDeepStarClass == 2)[0]], lonlat = True, nest = True)\n",
    "FSPIX = hp.ang2pix(res, matchedDeepStarRA[np.where(matchedDeepStarClass == 1)[0]], matchedDeepStarDEC[np.where(matchedDeepStarClass == 1)[0]], lonlat = True, nest = True)\n",
    "\n",
    "TGPIX = hp.ang2pix(res, matchedDeepGalaRA[np.where(matchedDeepGalaClass == 1)[0]], matchedDeepGalaDEC[np.where(matchedDeepGalaClass == 1)[0]], lonlat = True, nest = True)\n",
    "FGPIX = hp.ang2pix(res, matchedDeepGalaRA[np.where(matchedDeepGalaClass == 2)[0]], matchedDeepGalaDEC[np.where(matchedDeepGalaClass == 2)[0]], lonlat = True, nest = True)"
   ]
  },
  {
   "cell_type": "code",
   "execution_count": 20,
   "id": "cb053aa7-09da-4789-8f82-1b7a8d4ee1cb",
   "metadata": {},
   "outputs": [
    {
     "data": {
      "text/plain": [
       "0.3895809739524349"
      ]
     },
     "execution_count": 20,
     "metadata": {},
     "output_type": "execute_result"
    }
   ],
   "source": [
    "len(TSPIX) / (len(TSPIX) + len(FGPIX))"
   ]
  },
  {
   "cell_type": "code",
   "execution_count": 21,
   "id": "e411225a-c8b3-4ca9-901d-13a0aa7676db",
   "metadata": {},
   "outputs": [
    {
     "data": {
      "text/plain": [
       "0.9388040455512918"
      ]
     },
     "execution_count": 21,
     "metadata": {},
     "output_type": "execute_result"
    }
   ],
   "source": [
    "len(TGPIX) / (len(TGPIX) + len(FSPIX))"
   ]
  },
  {
   "cell_type": "code",
   "execution_count": 22,
   "id": "3abfa488-35cb-4ab8-9ce4-c79d89b095c9",
   "metadata": {},
   "outputs": [],
   "source": [
    "# TGPIX"
   ]
  },
  {
   "cell_type": "code",
   "execution_count": 23,
   "id": "881ae7a4-328b-488a-ba68-5604070b059d",
   "metadata": {},
   "outputs": [],
   "source": [
    "# test = np.full(12*(res**2), hp.UNSEEN)\n",
    "# test[validPix] = 0\n",
    "# test[TSPIX] = 1\n",
    "# nside_coverage = 32\n",
    "# hspTest = hsp.HealSparseMap(nside_coverage=nside_coverage, healpix_map=test)"
   ]
  },
  {
   "cell_type": "code",
   "execution_count": 24,
   "id": "6a1009d8-be70-49c3-93e3-ac4f360147ca",
   "metadata": {},
   "outputs": [],
   "source": [
    "# # The default DES projection is a McBrydeSkymap.\n",
    "# fig = plt.figure(1, figsize=(8, 6))\n",
    "# ax = fig.add_subplot(111)\n",
    "# sp = skyproj.DESSkyproj(ax=ax)\n",
    "# sp.draw_hspmap(hspTest, cmap = 'bwr')\n",
    "# plt.clim(0, 1)\n",
    "# plt.colorbar(location = 'bottom', label = 'Pixels With Matches')\n",
    "# fig.suptitle('Locations of Deep Field Matches')\n",
    "# plt.show()"
   ]
  },
  {
   "cell_type": "code",
   "execution_count": 25,
   "id": "3f6ea1b5-91d0-45cf-a6e5-fa4b712d953b",
   "metadata": {},
   "outputs": [],
   "source": [
    "starDir = likeDir + 'Stars/'\n",
    "\n",
    "starProbFile = starDir + 'Star_Prob_24-25.fits'"
   ]
  },
  {
   "cell_type": "code",
   "execution_count": 26,
   "id": "99c081c4-467c-4cff-89c0-e55ad93ed1b5",
   "metadata": {},
   "outputs": [],
   "source": [
    "galaDir = likeDir + 'Galaxies/'\n",
    "\n",
    "galaProbFile = galaDir + 'Gala_Prob_24-25.fits'"
   ]
  },
  {
   "cell_type": "code",
   "execution_count": 27,
   "id": "e64e0450-5fee-478f-867f-daa94caf340d",
   "metadata": {},
   "outputs": [],
   "source": [
    "starCorrProb = np.clip(fitsio.read(starProbFile)['SIGNAL'], 0, 1)\n",
    "fullStarProb = np.full(12*(res**2), hp.UNSEEN)\n",
    "fullStarProb[validPix] = starCorrProb\n",
    "\n",
    "galaCorrProb = np.clip(fitsio.read(galaProbFile)['SIGNAL'], 0, 1)\n",
    "fullGalaProb = np.full(12*(res**2), hp.UNSEEN)\n",
    "fullGalaProb[validPix] = galaCorrProb"
   ]
  },
  {
   "cell_type": "code",
   "execution_count": 28,
   "id": "be1b0c97-55c8-4054-818b-15a5a8418921",
   "metadata": {},
   "outputs": [
    {
     "data": {
      "text/plain": [
       "0.8106019195650382"
      ]
     },
     "execution_count": 28,
     "metadata": {},
     "output_type": "execute_result"
    }
   ],
   "source": [
    "len(TSPIX) / (np.sum(fullStarProb[TSPIX[np.where(pixCheck[TSPIX])[0]]]) + np.sum(fullStarProb[FGPIX[np.where(pixCheck[FGPIX])[0]]]))"
   ]
  },
  {
   "cell_type": "code",
   "execution_count": 29,
   "id": "b499c00f-2d2c-454a-b5ac-020362d1be13",
   "metadata": {},
   "outputs": [
    {
     "data": {
      "text/plain": [
       "1.0257101791939418"
      ]
     },
     "execution_count": 29,
     "metadata": {},
     "output_type": "execute_result"
    }
   ],
   "source": [
    "len(TGPIX) / (np.sum(fullGalaProb[TGPIX[np.where(pixCheck[TGPIX])[0]]]) + np.sum(fullGalaProb[FSPIX[np.where(pixCheck[FSPIX])[0]]]))"
   ]
  },
  {
   "cell_type": "code",
   "execution_count": null,
   "id": "2dae3c2a-ef4f-44b4-923c-6d56d1cc54a4",
   "metadata": {},
   "outputs": [],
   "source": []
  }
 ],
 "metadata": {
  "kernelspec": {
   "display_name": "Python 3 (ipykernel)",
   "language": "python",
   "name": "python3"
  },
  "language_info": {
   "codemirror_mode": {
    "name": "ipython",
    "version": 3
   },
   "file_extension": ".py",
   "mimetype": "text/x-python",
   "name": "python",
   "nbconvert_exporter": "python",
   "pygments_lexer": "ipython3",
   "version": "3.9.12"
  }
 },
 "nbformat": 4,
 "nbformat_minor": 5
}
