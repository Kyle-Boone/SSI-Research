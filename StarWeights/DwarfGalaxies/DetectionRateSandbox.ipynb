{
 "cells": [
  {
   "cell_type": "code",
   "execution_count": 1,
   "id": "e56211ca-0bad-46ce-bf83-cebfc949aa13",
   "metadata": {},
   "outputs": [
    {
     "name": "stdout",
     "output_type": "stream",
     "text": [
      "Reading fracdet map /hdfs/bechtol/balrog/y3/y3a2_survey_conditions_maps/fracdet/y3a2_griz_o.4096_t.32768_coverfoot_EQU.fits.gz ...\n",
      "NSIDE = 4096\n",
      "ORDERING = NESTED in fits file\n",
      "INDXSCHM = EXPLICIT\n",
      "Ordering converted to RING\n"
     ]
    }
   ],
   "source": [
    "import ugali\n",
    "import numpy as np\n",
    "from os import listdir\n",
    "import matplotlib.pyplot as plt\n",
    "import fitsio\n",
    "from astropy.table import Table\n",
    "import healpy as hp\n",
    "import healsparse as hsp\n",
    "import skyproj\n",
    "import IsochroneConfig as isoConfig"
   ]
  },
  {
   "cell_type": "code",
   "execution_count": 2,
   "id": "9443ee63-cddb-459f-973b-42d6c22a26e8",
   "metadata": {},
   "outputs": [],
   "source": [
    "res = isoConfig.res\n",
    "perCovered = isoConfig.perCovered\n",
    "numMagBins = isoConfig.numMagBins\n",
    "sigma = isoConfig.sigma\n",
    "perMap = isoConfig.perMap\n",
    "perVar = isoConfig.perVar\n",
    "numBins = isoConfig.numBins\n",
    "Class_Cutoff = isoConfig.classCutoff\n",
    "goldCols = isoConfig.goldCols\n",
    "qualityCuts = isoConfig.qualityCuts"
   ]
  },
  {
   "cell_type": "code",
   "execution_count": 3,
   "id": "79bc8b90-ff73-4a0b-b301-cd883fe02d82",
   "metadata": {},
   "outputs": [],
   "source": [
    "dataPath = '/hdfs/bechtol/balrog/y3/y3a2_survey_conditions_maps/Kyle_Stuff/MaximumLikelihood/DwarfGalaxySandboxes/OnlyDetectionRates/'"
   ]
  },
  {
   "cell_type": "code",
   "execution_count": 4,
   "id": "da683745-7f7b-4d42-bd3f-98d3dfbd138e",
   "metadata": {},
   "outputs": [],
   "source": [
    "# Try out 30, -35 for central pixel. \"Why this pixel?\" you might ask. It came to me in a dream lol.\n",
    "center_ra, center_dec = 30, -35\n",
    "proj = ugali.utils.projector.Projector(center_ra, center_dec)"
   ]
  },
  {
   "cell_type": "code",
   "execution_count": 5,
   "id": "75218820-1319-4480-8836-f4872b6ab097",
   "metadata": {},
   "outputs": [],
   "source": [
    "center_pix = hp.ang2pix(32, center_ra, center_dec, lonlat = True, nest = True)"
   ]
  },
  {
   "cell_type": "code",
   "execution_count": 6,
   "id": "a998b55b-c787-4716-b9fd-195b94b7f4ee",
   "metadata": {},
   "outputs": [],
   "source": [
    "# These are the 9 healpix at 32 resolution simple search would use.\n",
    "pixels = np.append(hp.pixelfunc.get_all_neighbours(32, center_pix, nest=True), center_pix)\n",
    "pix32 = np.zeros(12*(32**2))\n",
    "pix32[pixels] = 1"
   ]
  },
  {
   "cell_type": "code",
   "execution_count": 7,
   "id": "341c9c40-c861-4466-8e22-33f169e65e0c",
   "metadata": {},
   "outputs": [],
   "source": [
    "pix4096 = np.where(hp.ud_grade(pix32, 4096, order_in = 'NESTED', order_out = 'NESTED') > 0)[0]\n",
    "pix512 = np.where(hp.ud_grade(pix32, 512, order_in = 'NESTED', order_out = 'NESTED') > 0)[0]\n",
    "pix512Check = np.zeros(12*(512**2))\n",
    "pix512Check[pix512] = 1\n",
    "pixRes = np.where(hp.ud_grade(pix32, res, order_in = 'NESTED', order_out = 'NESTED') > 0)[0]\n",
    "pixResCheck = np.zeros(12*(res**2))\n",
    "pixResCheck[pixRes] = 1\n",
    "ra4096, dec4096 = hp.pix2ang(4096, pix4096, lonlat = True, nest = True)\n",
    "x4096, y4096 = proj.sphereToImage(ra4096, dec4096)\n",
    "xMax = np.max(x4096) + 0.1\n",
    "xMin = np.min(x4096) - 0.1\n",
    "yMax = np.max(y4096) + 0.1\n",
    "yMin = np.min(y4096) - 0.1"
   ]
  },
  {
   "cell_type": "code",
   "execution_count": 8,
   "id": "a6d22eb6-1eef-4789-ad11-ccb7b4630f6e",
   "metadata": {},
   "outputs": [],
   "source": [
    "CSBinsCountFile = isoConfig.CSBinsCountFile"
   ]
  },
  {
   "cell_type": "code",
   "execution_count": 9,
   "id": "56496c8c-7b52-4dfe-aa85-60b4cfc8e9dc",
   "metadata": {},
   "outputs": [],
   "source": [
    "CS_Sum_Counts = []\n",
    "\n",
    "for i in range(numMagBins):\n",
    "    countsPix = fitsio.read(CSBinsCountFile)['PIX']\n",
    "    fullCounts = np.full(12*(512**2), hp.UNSEEN)\n",
    "    fullCounts[countsPix] = fitsio.read(CSBinsCountFile)[str(i)]\n",
    "    croppedCounts = fullCounts[pix512]\n",
    "    CS_Sum_Counts.append(int(np.round_(np.sum(croppedCounts[np.where(croppedCounts >= 0)[0]]) * len(croppedCounts) / len(np.where(croppedCounts >= 0)[0]))))"
   ]
  },
  {
   "cell_type": "code",
   "execution_count": 10,
   "id": "da6e39fe-c5df-47c5-8ff0-839474f7cceb",
   "metadata": {},
   "outputs": [],
   "source": [
    "# starMockRa = []\n",
    "# starMockDec = []\n",
    "# starMockPix = []\n",
    "\n",
    "# for sumIndex in range(len(CS_Sum_Counts)):\n",
    "\n",
    "#     for i in range(1000):\n",
    "\n",
    "#         keepLooping = True\n",
    "\n",
    "#         mockRa = np.array([])\n",
    "#         mockDec = np.array([])\n",
    "#         mockPix = np.array([])\n",
    "\n",
    "#         while keepLooping:\n",
    "#             drawsX = (np.random.rand(100) * (xMax - xMin)) + xMin\n",
    "#             drawsY = (np.random.rand(100) * (yMax - yMin)) + yMin\n",
    "#             drawsRa, drawsDec = proj.imageToSphere(drawsX, drawsY)\n",
    "#             drawsPix = hp.ang2pix(res, drawsRa, drawsDec, lonlat = True, nest = True)\n",
    "#             mockRa = np.append(mockRa, drawsRa[np.where(pixResCheck[drawsPix] > 0)[0]])\n",
    "#             mockDec = np.append(mockDec, drawsDec[np.where(pixResCheck[drawsPix] > 0)[0]])\n",
    "#             mockPix = np.append(mockPix, drawsPix[np.where(pixResCheck[drawsPix] > 0)[0]])\n",
    "#             if len(mockRa) >= CS_Sum_Counts[sumIndex]:\n",
    "#                 keepLooping = False\n",
    "#         mockRa = mockRa[:CS_Sum_Counts[sumIndex]]\n",
    "#         mockDec = mockDec[:CS_Sum_Counts[sumIndex]]\n",
    "#         mockPix = mockPix[:CS_Sum_Counts[sumIndex]]\n",
    "\n",
    "#         if i == 0:\n",
    "#             manyMockRaBin = np.atleast_2d(mockRa)\n",
    "#             manyMockDecBin = np.atleast_2d(mockDec)\n",
    "#             manyMockPixBin = np.atleast_2d(mockPix)\n",
    "#         else:\n",
    "#             manyMockRaBin = np.append(manyMockRaBin, np.atleast_2d(mockRa), axis = 0)\n",
    "#             manyMockDecBin = np.append(manyMockDecBin, np.atleast_2d(mockDec), axis = 0)\n",
    "#             manyMockPixBin = np.append(manyMockPixBin, np.atleast_2d(mockPix), axis = 0)\n",
    "        \n",
    "#     starMockRa.append(manyMockRaBin)\n",
    "#     starMockDec.append(manyMockDecBin)\n",
    "#     starMockPix.append(manyMockPixBin)"
   ]
  },
  {
   "cell_type": "code",
   "execution_count": 11,
   "id": "c29911fc-e87b-44f7-bb14-93da0ff7e543",
   "metadata": {},
   "outputs": [],
   "source": [
    "starDetProbFiles = isoConfig.starDetProbFiles"
   ]
  },
  {
   "cell_type": "code",
   "execution_count": 12,
   "id": "bd55009a-e5de-4235-8b61-4fa529c0928d",
   "metadata": {},
   "outputs": [],
   "source": [
    "pixFile = isoConfig.pixFile\n",
    "validPix = fitsio.read(pixFile)['PIXEL']\n",
    "pixCheck = np.full(12*(512**2), False, dtype = bool)\n",
    "pixCheck[validPix] = True"
   ]
  },
  {
   "cell_type": "code",
   "execution_count": 13,
   "id": "7696261e-5190-44c1-8923-fba3d04a2fff",
   "metadata": {},
   "outputs": [],
   "source": [
    "starDetProbs = []\n",
    "for i in range(len(starDetProbFiles)):\n",
    "    fullSkyProb = np.full(12*(512**2), np.average(np.clip(fitsio.read(starDetProbFiles[i])['SIGNAL'], 0, 1)))\n",
    "    fullSkyProb[validPix] = np.clip(fitsio.read(starDetProbFiles[i])['SIGNAL'], 0, 1)\n",
    "    fullSkyProb = hp.ud_grade(fullSkyProb, res, order_in = 'NESTED', order_out = 'NESTED')\n",
    "    starDetProbs.append(fullSkyProb)"
   ]
  },
  {
   "cell_type": "code",
   "execution_count": 14,
   "id": "54878ada-a0dd-480a-8236-7563b285a9b4",
   "metadata": {},
   "outputs": [],
   "source": [
    "firstTestPath = dataPath + 'FirstTest/'\n",
    "secondTestPath = dataPath + 'SecondTest/'"
   ]
  },
  {
   "cell_type": "code",
   "execution_count": 15,
   "id": "1391ddb4-9f70-462d-8a08-baed1fe2c818",
   "metadata": {},
   "outputs": [],
   "source": [
    "# classifiedStarMockRa = []\n",
    "# classifiedStarMockDec = []\n",
    "\n",
    "# for magIndex in np.arange(len(starMockPix)):\n",
    "    \n",
    "#     manyMockStarClassRaBin = []\n",
    "#     manyMockStarClassDecBin = []\n",
    "    \n",
    "#     for realization in np.arange(len(starMockPix[magIndex])):\n",
    "#         # Random draws to assign classifications\n",
    "#         randStarDet = np.random.rand(len(starMockPix[magIndex][realization]))\n",
    "        \n",
    "#         mockStarRa = starMockRa[magIndex][realization][np.where(randStarDet <= starDetProbs[magIndex][starMockPix[magIndex][realization].astype(int)])[0]]\n",
    "#         mockStarDec = starMockDec[magIndex][realization][np.where(randStarDet <= starDetProbs[magIndex][starMockPix[magIndex][realization].astype(int)])[0]]\n",
    "        \n",
    "#         manyMockStarClassRaBin.append(mockStarRa)\n",
    "#         manyMockStarClassDecBin.append(mockStarDec)\n",
    "    \n",
    "#     classifiedStarMockRa.append(manyMockStarClassRaBin)\n",
    "#     classifiedStarMockDec.append(manyMockStarClassDecBin)"
   ]
  },
  {
   "cell_type": "code",
   "execution_count": 16,
   "id": "ae44273a-de92-47aa-bdff-0364a4928846",
   "metadata": {},
   "outputs": [],
   "source": [
    "CLASS = 0\n",
    "GMAG = [19.5, 20.5, 22.25, 23.25, 23.75]\n",
    "RMAG = [19, 20, 22, 23, 23.5]\n",
    "IMAG = 20\n",
    "ZMAG = 20\n",
    "MAG_ERR = 0\n",
    "SIZE = 0.01"
   ]
  },
  {
   "cell_type": "code",
   "execution_count": 17,
   "id": "c7a11f81-2fee-4347-8945-beb70ab225e7",
   "metadata": {},
   "outputs": [],
   "source": [
    "# for realization in np.arange(len(classifiedStarMockRa[0])):\n",
    "#     my_table = Table()\n",
    "    \n",
    "#     RA_store = np.array([])\n",
    "#     DEC_store = np.array([])\n",
    "#     GMAG_store = np.array([])\n",
    "#     RMAG_store = np.array([])\n",
    "    \n",
    "#     for magIndex in np.arange(len(classifiedStarMockRa)):\n",
    "#         RA_store = np.append(RA_store, classifiedStarMockRa[magIndex][realization])\n",
    "#         DEC_store = np.append(DEC_store, classifiedStarMockDec[magIndex][realization])\n",
    "#         GMAG_store = np.append(GMAG_store, np.full(len(classifiedStarMockRa[magIndex][realization]), GMAG[magIndex]))\n",
    "#         RMAG_store = np.append(RMAG_store, np.full(len(classifiedStarMockRa[magIndex][realization]), RMAG[magIndex]))\n",
    "    \n",
    "#     my_table['RA'] = RA_store\n",
    "#     my_table['DEC'] = DEC_store\n",
    "#     my_table['EXTENDED_CLASS_SOF'] = np.full(len(RA_store), CLASS)\n",
    "#     my_table['SOF_PSF_MAG_G'] = GMAG_store\n",
    "#     my_table['SOF_PSF_MAG_R'] = RMAG_store\n",
    "#     my_table['SOF_PSF_MAG_I'] = np.full(len(RA_store), IMAG)\n",
    "#     my_table['SOF_PSF_MAG_Z'] = np.full(len(RA_store), ZMAG)\n",
    "#     my_table['SOF_CM_T'] = np.full(len(RA_store), SIZE)\n",
    "#     my_table['SOF_PSF_MAG_ERR_G'] = np.full(len(RA_store), MAG_ERR)\n",
    "#     my_table['SOF_PSF_MAG_ERR_R'] = np.full(len(RA_store), MAG_ERR)\n",
    "#     my_table['SOF_PSF_MAG_ERR_I'] = np.full(len(RA_store), MAG_ERR)\n",
    "#     my_table['SOF_PSF_MAG_ERR_Z'] = np.full(len(RA_store), MAG_ERR)\n",
    "#     my_table.write(secondTestPath + \"Classified_Star_\" + str(realization) + \".fits\", overwrite = True)"
   ]
  },
  {
   "cell_type": "code",
   "execution_count": 18,
   "id": "180d3fb1-60e3-4da8-b450-8dcd5c5958fb",
   "metadata": {},
   "outputs": [],
   "source": [
    "# for realization in np.arange(len(starMockRa[0])):\n",
    "#     my_table = Table()\n",
    "    \n",
    "#     RA_store = np.array([])\n",
    "#     DEC_store = np.array([])\n",
    "#     GMAG_store = np.array([])\n",
    "#     RMAG_store = np.array([])\n",
    "    \n",
    "#     for magIndex in np.arange(len(starMockRa)):\n",
    "#         RA_store = np.append(RA_store, starMockRa[magIndex][realization])\n",
    "#         DEC_store = np.append(DEC_store, starMockDec[magIndex][realization])\n",
    "#         GMAG_store = np.append(GMAG_store, np.full(len(starMockRa[magIndex][realization]), GMAG[magIndex]))\n",
    "#         RMAG_store = np.append(RMAG_store, np.full(len(starMockRa[magIndex][realization]), RMAG[magIndex]))\n",
    "    \n",
    "#     my_table['RA'] = RA_store\n",
    "#     my_table['DEC'] = DEC_store\n",
    "#     my_table['EXTENDED_CLASS_SOF'] = np.full(len(RA_store), CLASS)\n",
    "#     my_table['SOF_PSF_MAG_G'] = GMAG_store\n",
    "#     my_table['SOF_PSF_MAG_R'] = RMAG_store\n",
    "#     my_table['SOF_PSF_MAG_I'] = np.full(len(RA_store), IMAG)\n",
    "#     my_table['SOF_PSF_MAG_Z'] = np.full(len(RA_store), ZMAG)\n",
    "#     my_table['SOF_CM_T'] = np.full(len(RA_store), SIZE)\n",
    "#     my_table['SOF_PSF_MAG_ERR_G'] = np.full(len(RA_store), MAG_ERR)\n",
    "#     my_table['SOF_PSF_MAG_ERR_R'] = np.full(len(RA_store), MAG_ERR)\n",
    "#     my_table['SOF_PSF_MAG_ERR_I'] = np.full(len(RA_store), MAG_ERR)\n",
    "#     my_table['SOF_PSF_MAG_ERR_Z'] = np.full(len(RA_store), MAG_ERR)\n",
    "#     my_table.write(firstTestPath + \"True_Star_\" + str(realization) + \".fits\", overwrite = True)"
   ]
  },
  {
   "cell_type": "code",
   "execution_count": 19,
   "id": "e257dec7-f50a-4e89-aedf-8c08d9b71407",
   "metadata": {},
   "outputs": [],
   "source": [
    "secondTestStarFiles = listdir(secondTestPath)"
   ]
  },
  {
   "cell_type": "code",
   "execution_count": 20,
   "id": "8b19308c-7a34-4ca7-a8e0-9b3fa0b76c73",
   "metadata": {},
   "outputs": [],
   "source": [
    "thirdTestPath = dataPath + 'ThirdTest/'"
   ]
  },
  {
   "cell_type": "code",
   "execution_count": 21,
   "id": "95ca00ce-5d84-434a-97eb-b01863fdc394",
   "metadata": {},
   "outputs": [],
   "source": [
    "# for i in range(len(secondTestStarFiles)):\n",
    "#     starData = fitsio.read(secondTestPath + secondTestStarFiles[i], columns = ['RA', 'DEC', 'SOF_PSF_MAG_R'])\n",
    "#     starRA = starData['RA']\n",
    "#     starDEC = starData['DEC']\n",
    "#     starRMAG = starData['SOF_PSF_MAG_R']\n",
    "#     starPIX = hp.ang2pix(res, starRA, starDEC, lonlat = True, nest = True)\n",
    "    \n",
    "#     starPixBins = []\n",
    "    \n",
    "#     for j in range(len(RMAG)):\n",
    "#         starPixBins.append(starPIX[np.where(starRMAG == RMAG[j])[0]])\n",
    "        \n",
    "#     sumOrigStar = []\n",
    "#     sumRecoStar = []\n",
    "    \n",
    "#     for j in range(len(starPixBins)):\n",
    "#         fullOrigStar = np.zeros(12*(res**2))\n",
    "#         for pix in starPixBins[j]:\n",
    "#             fullOrigStar[pix] += 1\n",
    "        \n",
    "#         origStar = fullOrigStar[pixRes]\n",
    "         \n",
    "#         trueStarRecovered = origStar / starDetProbs[j][pixRes].astype(float)\n",
    "        \n",
    "#         sumOrigStar.append(origStar)\n",
    "#         sumRecoStar.append(trueStarRecovered)\n",
    "        \n",
    "#     sumOrigStar = np.sum(sumOrigStar, axis = 0)\n",
    "#     sumRecoStar = np.sum(sumRecoStar, axis = 0)\n",
    "#     weights = sumRecoStar / sumOrigStar\n",
    "    \n",
    "#     strNum = ''\n",
    "#     for char in secondTestStarFiles[i]:\n",
    "#         if char.isdigit():\n",
    "#             strNum += char\n",
    "    \n",
    "#     my_table = Table()\n",
    "#     my_table['PIX'] = pixRes\n",
    "#     my_table['CORRECTION'] = weights\n",
    "#     my_table.write(thirdTestPath + \"Weights_\" + strNum + \".fits\", overwrite = True)"
   ]
  },
  {
   "cell_type": "code",
   "execution_count": 22,
   "id": "31057589-fa1e-4837-91b9-e958dc248988",
   "metadata": {},
   "outputs": [],
   "source": [
    "first_sigs_file = dataPath + 'FirstTestSigs.fits'\n",
    "first_sigs = fitsio.read(first_sigs_file)['SIGS']\n",
    "\n",
    "second_sigs_file = dataPath + 'SecondTestSigs.fits'\n",
    "second_sigs = fitsio.read(second_sigs_file)['SIGS']\n",
    "\n",
    "third_sigs_file = dataPath + 'ThirdTestSigs.fits'\n",
    "third_sigs = fitsio.read(third_sigs_file)['SIGS']"
   ]
  },
  {
   "cell_type": "code",
   "execution_count": 23,
   "id": "7ad53c67-ce7e-4d15-8ec0-92cca18c303e",
   "metadata": {},
   "outputs": [
    {
     "data": {
      "image/png": "[encoded data removed]",
      "text/plain": [
       "<Figure size 768x576 with 1 Axes>"
      ]
     },
     "metadata": {},
     "output_type": "display_data"
    }
   ],
   "source": [
    "plt.figure(dpi = 120)\n",
    "plt.hist(third_sigs, bins = np.linspace(0, 10, 26), alpha = 0.5, label = 'Third Test', zorder = 3)\n",
    "plt.hist(second_sigs, bins = np.linspace(0, 10, 26), alpha = 0.5, label = 'Second Test', zorder = 3)\n",
    "plt.hist(first_sigs, bins = np.linspace(0, 10, 26), alpha = 0.5, label = 'First Test', zorder = 3)\n",
    "plt.legend()\n",
    "plt.grid(zorder = 0)\n",
    "plt.xlabel('Significance of Detection')\n",
    "plt.ylabel('Number of Detections')\n",
    "plt.title('Results of Simulated Data (Low Resolution, Constant Probabilities)')\n",
    "# plt.yscale('log')\n",
    "plt.show()"
   ]
  }
 ],
 "metadata": {
  "kernelspec": {
   "display_name": "Python 3 (ipykernel)",
   "language": "python",
   "name": "python3"
  },
  "language_info": {
   "codemirror_mode": {
    "name": "ipython",
    "version": 3
   },
   "file_extension": ".py",
   "mimetype": "text/x-python",
   "name": "python",
   "nbconvert_exporter": "python",
   "pygments_lexer": "ipython3",
   "version": "3.9.12"
  }
 },
 "nbformat": 4,
 "nbformat_minor": 5
}
