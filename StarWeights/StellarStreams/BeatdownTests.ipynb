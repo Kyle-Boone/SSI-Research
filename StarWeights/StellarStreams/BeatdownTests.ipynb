{
 "cells": [
  {
   "cell_type": "code",
   "execution_count": 1,
   "id": "e2634510-bc6c-452a-b900-4bfc403724ba",
   "metadata": {},
   "outputs": [],
   "source": [
    "import fitsio\n",
    "import numpy as np\n",
    "import healpy as hp\n",
    "import matplotlib.pyplot as plt\n",
    "import matplotlib.style\n",
    "import matplotlib\n",
    "from scipy import interpolate as inter\n",
    "from astropy.table import Table\n",
    "import BalrogTestConfig as balrConfig\n",
    "import Config\n",
    "from TrainAndFullMap import *\n",
    "from timeit import default_timer as timer\n",
    "matplotlib.style.use('des_dr1')"
   ]
  },
  {
   "cell_type": "code",
   "execution_count": 2,
   "id": "3e58450f-b048-4a03-8158-804c5d63517c",
   "metadata": {},
   "outputs": [],
   "source": [
    "cutOffPercent = .01\n",
    "perObjectsToUse = 0\n",
    "res = 4096\n",
    "binNum = 10"
   ]
  },
  {
   "cell_type": "code",
   "execution_count": 3,
   "id": "6d5aa20f-4ed4-42ce-a0d3-dfeb6d591516",
   "metadata": {},
   "outputs": [],
   "source": [
    "persToUse = np.logspace(0, 2, 20)"
   ]
  },
  {
   "cell_type": "code",
   "execution_count": 6,
   "id": "cc329f3f-5cce-4489-badd-275c80604c12",
   "metadata": {},
   "outputs": [],
   "source": [
    "def mostSigInd(y):\n",
    "    maxSquaredDiff = 0\n",
    "    index = -1\n",
    "    \n",
    "    maxSingError = np.max(np.abs(y - 1))\n",
    "    \n",
    "    if maxSingError <= cutOffPercent:\n",
    "        return index, maxSingError\n",
    "    \n",
    "    for i in range(len(y)):\n",
    "        yi = y[i]\n",
    "        \n",
    "        diff = np.sum((yi - 1)**2)\n",
    "        \n",
    "        if diff > maxSquaredDiff:\n",
    "            maxSquaredDiff = diff\n",
    "            index = i\n",
    "            \n",
    "    return index, maxSingError"
   ]
  },
  {
   "cell_type": "code",
   "execution_count": 7,
   "id": "bb1c12f9-e1ec-4601-978b-bd61c9b3daf2",
   "metadata": {
    "tags": []
   },
   "outputs": [
    {
     "name": "stdout",
     "output_type": "stream",
     "text": [
      "0.379: 0.00883071291918088\n",
      "0.483: 0.008642825891582055\n",
      "0.616: 0.008023877817149331\n",
      "0.785: 0.007696055274313049\n",
      "1.0: 0.007270465100813872\n"
     ]
    }
   ],
   "source": [
    "allPixFile = balrConfig.test1aAllPixFile\n",
    "galaFile = balrConfig.test1aGalaFile\n",
    "validPixFile = balrConfig.test1aValidPixFile\n",
    "condFiles = balrConfig.test1aCondFiles\n",
    "\n",
    "origCondMaps = []\n",
    "\n",
    "# This loops over every condition file\n",
    "for condFile in condFiles:\n",
    "    condData = fitsio.read(condFile) # This reads in the data\n",
    "    origCondMaps.append(condData['SIGNAL']) # Only stores the values that are in pixels with injections\n",
    "\n",
    "origCondMaps = np.array(origCondMaps) # Converts to an array\n",
    "\n",
    "origInjData = fitsio.read(allPixFile)\n",
    "\n",
    "origInjPix = hp.ang2pix(res, origInjData['RA'], origInjData['DEC'], nest = True, lonlat = True)\n",
    "origValidPix = np.unique(origInjPix)\n",
    "\n",
    "# testSubset = np.full(len(origValidPix), False, dtype = bool)\n",
    "# testSubset[0:int(0.2*len(testSubset))] = True\n",
    "# np.random.shuffle(testSubset)\n",
    "# testPixels = origValidPix[testSubset]\n",
    "\n",
    "origDetData = fitsio.read(galaFile)\n",
    "\n",
    "origDetPix = hp.ang2pix(res, origDetData['RA'], origDetData['DEC'], nest = True, lonlat = True)\n",
    "\n",
    "origInjPix = np.sort(origInjPix)\n",
    "\n",
    "origDetPix = np.sort(origDetPix)\n",
    "\n",
    "# injTestInds = np.isin(origInjPix, testPixels)\n",
    "# potentialInjTrainInds = ~injTestInds\n",
    "\n",
    "# Everything from here until the main loop is to generate matchInds\n",
    "\n",
    "origInjPixUnique, origInjPixCounts = np.unique(origInjPix, return_counts = True)\n",
    "\n",
    "_, origAllDetPixCounts = np.unique(np.append(origDetPix, origValidPix), return_counts = True)\n",
    "origAllDetPixCounts = origAllDetPixCounts - 1\n",
    "\n",
    "matchInds = np.zeros(len(origDetPix), dtype = int)\n",
    "\n",
    "startInjInds = np.append(np.array([0]), np.cumsum(origInjPixCounts)[:-1])\n",
    "\n",
    "startDetInds = np.append(np.array([0]), np.cumsum(origAllDetPixCounts)[:-1])\n",
    "\n",
    "for i in np.arange(len(origAllDetPixCounts)):\n",
    "    if origAllDetPixCounts[i] == 0:\n",
    "        continue\n",
    "    matchInds[startDetInds[i]: startDetInds[i] + origAllDetPixCounts[i]] = np.arange(origAllDetPixCounts[i]).astype(int) + startInjInds[i]\n",
    "    \n",
    "for perObjectsToUse in persToUse:\n",
    "    \n",
    "    # perObjectsToUse += 1\n",
    "    \n",
    "    includeInds = np.full(len(origInjPix), False, dtype = bool)\n",
    "    includeInds[0:int((float(perObjectsToUse)*len(includeInds)) / 100)] = True\n",
    "    np.random.shuffle(includeInds)\n",
    "    \n",
    "#     includeInds = np.full(np.sum(potentialInjTrainInds), False, dtype = bool)\n",
    "#     includeInds[0:int((float(perObjectsToUse)*len(includeInds)) / 100)] = True\n",
    "#     np.random.shuffle(includeInds)\n",
    "    \n",
    "#     injTrainInds = np.copy(potentialInjTrainInds)\n",
    "#     injTrainInds[np.where(injTrainInds)[0]] = includeInds\n",
    "    \n",
    "    detPix = origDetPix[includeInds[matchInds]]\n",
    "    injPix = origInjPix[includeInds]\n",
    "    \n",
    "#     detPixTest = origDetPix[injTestInds[matchInds]]\n",
    "#     injPixTest = origInjPix[injTestInds]\n",
    "    \n",
    "#     detPixTrain = origDetPix[injTrainInds[matchInds]]\n",
    "#     injPixTrain = origInjPix[injTrainInds]\n",
    "    \n",
    "#     detPix = np.sort(np.append(detPixTest, detPixTrain))\n",
    "#     injPix = np.sort(np.append(injPixTest, injPixTrain))\n",
    "\n",
    "    validPix =  np.unique(injPix)\n",
    "    \n",
    "    condCrop = np.isin(origValidPix, validPix)\n",
    "    \n",
    "    constantTrainPixIndicator, origDetPixCounts = np.unique(np.append(validPix, detPix), return_counts = True)\n",
    "    origDetPixCounts = origDetPixCounts - 1\n",
    "    \n",
    "    condMaps = []\n",
    "\n",
    "    # This loops over every condition file\n",
    "    for origCondMap in origCondMaps:\n",
    "        condMaps.append(origCondMap[condCrop]) # Only stores the values that are in pixels with injections\n",
    "\n",
    "    condMaps = np.array(condMaps)\n",
    "    \n",
    "    trainInds = np.full(len(condMaps[0]), False, dtype = bool)\n",
    "    trainInds[0:int(0.8*len(trainInds))] = True\n",
    "    np.random.shuffle(trainInds)\n",
    "    \n",
    "    # trainInds = np.isin(constantTrainPixIndicator, np.unique(injPixTrain))\n",
    "    \n",
    "    aveDetTrain = np.sum(origDetPixCounts[trainInds]) / len(origDetPixCounts[trainInds])\n",
    "\n",
    "    sortInds = []\n",
    "    for i in range(len(condMaps)):\n",
    "        sortInds.append(condMaps[i][trainInds].argsort())\n",
    "    sortInds = np.array(sortInds)\n",
    "    \n",
    "    binIndLims = [0]\n",
    "\n",
    "    for j in range(binNum):\n",
    "        binIndLims.append(int((np.sum(trainInds) - binIndLims[-1]) / (binNum - j)) + (binIndLims[-1]))\n",
    "        \n",
    "    xBins = []\n",
    "\n",
    "    for i in range(len(condMaps)):\n",
    "        cond_Map_Sort = condMaps[i][trainInds][sortInds[i][::1]]\n",
    "        condBins = []\n",
    "        for j in range(binNum):\n",
    "            condBins.append(cond_Map_Sort[binIndLims[j]:binIndLims[j+1]])\n",
    "        indXBin = []\n",
    "\n",
    "        for j in range(binNum):\n",
    "            indXBin.append(np.sum(condBins[j]) / len(condBins[j]))\n",
    "\n",
    "        xBins.append(np.array(indXBin))\n",
    "\n",
    "    xBins = np.array(xBins)\n",
    "    \n",
    "    yBinsOrig = []\n",
    "    for i in range(len(condMaps)):\n",
    "        detSort = origDetPixCounts[trainInds][sortInds[i][::1]]\n",
    "        detBins = []\n",
    "        for j in range(binNum):\n",
    "            detBins.append(detSort[binIndLims[j]:binIndLims[j+1]])\n",
    "        indYBinOrig = []\n",
    "\n",
    "        for j in range(binNum):\n",
    "            indYBinOrig.append(np.sum(detBins[j]) / (aveDetTrain * len(detBins[j])))\n",
    "\n",
    "        yBinsOrig.append(np.array(indYBinOrig))\n",
    "\n",
    "    yBinsOrig = np.array(yBinsOrig)\n",
    "    \n",
    "    detPixCounts = np.copy(origDetPixCounts)\n",
    "    \n",
    "    allErrors = []\n",
    "\n",
    "    while(True):\n",
    "\n",
    "        yBins = []\n",
    "        for i in range(len(condMaps)):\n",
    "            detSort = detPixCounts[trainInds][sortInds[i][::1]]\n",
    "            detBins = []\n",
    "            for j in range(binNum):\n",
    "                detBins.append(detSort[binIndLims[j]:binIndLims[j+1]])\n",
    "            indYBin = []\n",
    "\n",
    "            for j in range(binNum):\n",
    "                indYBin.append(np.sum(detBins[j]) / (aveDetTrain * len(detBins[j])))\n",
    "\n",
    "            yBins.append(np.array(indYBin))\n",
    "\n",
    "        yBins = np.array(yBins)\n",
    "\n",
    "        index, maxErr = mostSigInd(yBins)\n",
    "        if index == -1:\n",
    "            break\n",
    "\n",
    "        allErrors.append(maxErr)\n",
    "\n",
    "        corrFunc = inter.interp1d(xBins[index], yBins[index], bounds_error = False, fill_value = (yBins[index][0], yBins[index][-1]))\n",
    "\n",
    "        detPixCounts = detPixCounts / (corrFunc(condMaps[index]))\n",
    "\n",
    "        detPixCounts = detPixCounts * aveDetTrain / (np.sum(detPixCounts[trainInds]) / len(detPixCounts[trainInds]))\n",
    "        \n",
    "    binIndLims = [0]\n",
    "\n",
    "    for j in range(binNum):\n",
    "        binIndLims.append(int((np.sum(~trainInds) - binIndLims[-1]) / (binNum - j)) + (binIndLims[-1]))\n",
    "        \n",
    "    condMaxErrors = []\n",
    "    \n",
    "    aveDetTest = np.sum(detPixCounts[~trainInds]) / len(detPixCounts[~trainInds])\n",
    "\n",
    "    for condInd in range(len(condMaps)):\n",
    "        condMap = condMaps[condInd]\n",
    "        condSortInds = condMap[~trainInds].argsort()\n",
    "\n",
    "        detStarTemp = detPixCounts[~trainInds][condSortInds[::1]]\n",
    "\n",
    "        detBins = []\n",
    "\n",
    "        for j in range(10):\n",
    "            detBins.append(detStarTemp[binIndLims[j]:binIndLims[j+1]])\n",
    "\n",
    "        yBinCond = []\n",
    "\n",
    "        for j in range(10):\n",
    "            yBinCond.append(np.sum(detBins[j]) / (aveDetTest * len(detBins[j])))\n",
    "\n",
    "        yBinCond = np.array(yBinCond)\n",
    "\n",
    "        condMaxErrors.append(np.max(np.abs(yBinCond - 1)))\n",
    "        \n",
    "    condErrorsFile = balrConfig.test1aDir + 'LogRegularAccuracy/' + str(round(perObjectsToUse / 100, 3)) + '_Cond_Errors_' + str(cutOffPercent) + '.fits'\n",
    "    my_table = Table()\n",
    "    my_table['Errors'] = condMaxErrors\n",
    "    my_table.write(condErrorsFile, overwrite = True)\n",
    "    print(str(round(perObjectsToUse / 100, 3)) + ': ' + str(np.average(condMaxErrors)))"
   ]
  },
  {
   "cell_type": "code",
   "execution_count": 9,
   "id": "9ebad98a-1865-4957-826b-c7b8a61b15cb",
   "metadata": {},
   "outputs": [],
   "source": [
    "# usedPers = np.arange(100) + 1"
   ]
  },
  {
   "cell_type": "code",
   "execution_count": 13,
   "id": "aa80ff54-ce48-4878-82af-cf287b1e1bbe",
   "metadata": {},
   "outputs": [],
   "source": [
    "maxDevs = []\n",
    "for per in persToUse:\n",
    "    # if per < 100:\n",
    "    #     file = balrConfig.test1Dir + 'PartialInclusion/' + str(per / 100) + '_Cond_Errors_' + str(cutOffPercent) + '.fits'\n",
    "    # else:\n",
    "    #     file = balrConfig.test1Dir + 'PartialInclusion/1_Cond_Errors_' + str(cutOffPercent) + '.fits'\n",
    "    file = balrConfig.test1Dir + 'LogRegularAccuracy/' + str(np.round(per * 10)/1000) + '_Cond_Errors_' + str(0.01) + '.fits'\n",
    "    maxDevs.append(fitsio.read(file)['Errors'])"
   ]
  },
  {
   "cell_type": "code",
   "execution_count": 14,
   "id": "5009e8b5-f3fa-47db-80a0-b06ad5d8df08",
   "metadata": {},
   "outputs": [],
   "source": [
    "aveMaxDev = []\n",
    "for maxDev in maxDevs:\n",
    "    aveMaxDev.append(np.average(maxDev))"
   ]
  },
  {
   "cell_type": "code",
   "execution_count": 15,
   "id": "17a8abbf-90eb-4241-a857-941f039ae3ca",
   "metadata": {},
   "outputs": [],
   "source": [
    "import scipy as sc"
   ]
  },
  {
   "cell_type": "code",
   "execution_count": 16,
   "id": "3af5448e-b889-4310-9a43-eae9d9e6fe71",
   "metadata": {},
   "outputs": [],
   "source": [
    "def func(x, C, b, k):\n",
    "    return C*(x**(-1*k)) + b"
   ]
  },
  {
   "cell_type": "code",
   "execution_count": 17,
   "id": "45aaea73-cea7-4a39-98cc-ad12fae350ed",
   "metadata": {},
   "outputs": [],
   "source": [
    "popt, pcov = sc.optimize.curve_fit(func, persToUse, aveMaxDev, bounds=([0., 0., 0], [0.1, 0.01, 2]))"
   ]
  },
  {
   "cell_type": "code",
   "execution_count": 18,
   "id": "98990cd1-d995-479c-9521-5f6d7e0f2cbb",
   "metadata": {},
   "outputs": [
    {
     "data": {
      "text/plain": [
       "array([0.04967648, 0.00505517, 0.61442025])"
      ]
     },
     "execution_count": 18,
     "metadata": {},
     "output_type": "execute_result"
    }
   ],
   "source": [
    "popt"
   ]
  },
  {
   "cell_type": "code",
   "execution_count": 19,
   "id": "79282e34-839c-4a0a-8843-0587c98377f8",
   "metadata": {},
   "outputs": [
    {
     "data": {
      "text/plain": [
       "array([0.00100024, 0.00098865, 0.03669308])"
      ]
     },
     "execution_count": 19,
     "metadata": {},
     "output_type": "execute_result"
    }
   ],
   "source": [
    "perr = np.sqrt(np.diag(pcov))\n",
    "perr"
   ]
  },
  {
   "cell_type": "code",
   "execution_count": 21,
   "id": "8a03b97d-253c-4251-ae1c-93255adc3898",
   "metadata": {},
   "outputs": [
    {
     "data": {
      "image/png": "[encoded data removed]",
      "text/plain": [
       "<Figure size 800x600 with 1 Axes>"
      ]
     },
     "metadata": {},
     "output_type": "display_data"
    }
   ],
   "source": [
    "plt.figure()\n",
    "plt.scatter(persToUse, aveMaxDev, zorder = 3, label = 'Calculated')\n",
    "plt.plot(np.linspace(0.01, 100, 10000), func(np.linspace(0.01, 100, 10000), *popt), color = 'r', zorder = 3, label = 'Fit')\n",
    "plt.text(20, 0.015, r'$y = Cx^{-k} + b$',\n",
    "        \n",
    "        bbox={'facecolor': 'white', 'alpha': 1, 'pad': 10}, zorder = 3)\n",
    "plt.legend()\n",
    "plt.ylim([0, 0.02])\n",
    "plt.xlim([0, 100])\n",
    "plt.grid(zorder = 0)\n",
    "plt.ylabel('Average Maximum Deviation')\n",
    "plt.xlabel('Percentage of Balrog Stars Used')\n",
    "plt.title('Accuracy Increases with Data Size')\n",
    "plt.show()"
   ]
  },
  {
   "cell_type": "code",
   "execution_count": 3,
   "id": "3518e179-56ed-423b-8625-f4a74489106f",
   "metadata": {},
   "outputs": [],
   "source": [
    "allPixFile = balrConfig.test1aAllPixFile\n",
    "galaFile = balrConfig.test1aGalaFile\n",
    "validPixFile = balrConfig.test1ValidPixFile"
   ]
  },
  {
   "cell_type": "code",
   "execution_count": 4,
   "id": "a7a74e1d-96b9-4c77-baf7-8f730a6437c4",
   "metadata": {},
   "outputs": [],
   "source": [
    "PCA_Store_File = balrConfig.test1aDir + 'PCA_Maps.fits'"
   ]
  },
  {
   "cell_type": "code",
   "execution_count": 5,
   "id": "7170b058-0b6f-4cac-b34d-6278e46d60d6",
   "metadata": {},
   "outputs": [],
   "source": [
    "injData = fitsio.read(allPixFile)"
   ]
  },
  {
   "cell_type": "code",
   "execution_count": 6,
   "id": "7fbd3d8d-bd06-4402-9376-efdf15d61f0e",
   "metadata": {},
   "outputs": [],
   "source": [
    "injPix = hp.ang2pix(res, injData['RA'], injData['DEC'], nest = True, lonlat = True)\n",
    "origValidPix = np.unique(injPix)"
   ]
  },
  {
   "cell_type": "code",
   "execution_count": 7,
   "id": "e7b88536-474c-4e72-98c8-7a8b3c444ee4",
   "metadata": {},
   "outputs": [],
   "source": [
    "detData = fitsio.read(galaFile)"
   ]
  },
  {
   "cell_type": "code",
   "execution_count": 8,
   "id": "e70d1a01-b37b-4b31-897c-02cab6cd9ebb",
   "metadata": {},
   "outputs": [],
   "source": [
    "detPix = hp.ang2pix(res, detData['RA'], detData['DEC'], nest = True, lonlat = True)"
   ]
  },
  {
   "cell_type": "code",
   "execution_count": 9,
   "id": "d1462925-5488-4d9d-83c9-b92522389c0f",
   "metadata": {},
   "outputs": [],
   "source": [
    "injPix = np.sort(injPix)\n",
    "\n",
    "detPix = np.sort(detPix)"
   ]
  },
  {
   "cell_type": "code",
   "execution_count": 10,
   "id": "998125bf-f946-4a25-9112-1b0bb1cd0f25",
   "metadata": {},
   "outputs": [],
   "source": [
    "injPixUnique, injPixCounts = np.unique(injPix, return_counts = True)\n",
    "\n",
    "_, detPixCounts = np.unique(np.append(detPix, origValidPix), return_counts = True)\n",
    "detPixCounts = detPixCounts - 1"
   ]
  },
  {
   "cell_type": "code",
   "execution_count": 11,
   "id": "b30d399e-d5a7-441e-a405-e7ad19cc0966",
   "metadata": {},
   "outputs": [
    {
     "data": {
      "text/plain": [
       "array([1, 5, 2, ..., 2, 1, 2])"
      ]
     },
     "execution_count": 11,
     "metadata": {},
     "output_type": "execute_result"
    }
   ],
   "source": [
    "injPixCounts"
   ]
  },
  {
   "cell_type": "code",
   "execution_count": 12,
   "id": "2a4f9063-e524-47e4-8142-cb0face08a8f",
   "metadata": {},
   "outputs": [
    {
     "data": {
      "text/plain": [
       "array([0, 2, 1, ..., 1, 0, 1])"
      ]
     },
     "execution_count": 12,
     "metadata": {},
     "output_type": "execute_result"
    }
   ],
   "source": [
    "detPixCounts"
   ]
  },
  {
   "cell_type": "code",
   "execution_count": 13,
   "id": "46f707d6-62f2-47f9-b24e-c72d59b8ae18",
   "metadata": {},
   "outputs": [],
   "source": [
    "matchInds = np.zeros(len(detPix), dtype = int)"
   ]
  },
  {
   "cell_type": "code",
   "execution_count": 14,
   "id": "d9bee617-6125-4edf-b7e4-8dbcc383b8df",
   "metadata": {},
   "outputs": [],
   "source": [
    "startInjInds = np.append(np.array([0]), np.cumsum(injPixCounts)[:-1])"
   ]
  },
  {
   "cell_type": "code",
   "execution_count": 15,
   "id": "5f984f7e-da97-49ae-a5f3-b3f5c88d337f",
   "metadata": {},
   "outputs": [],
   "source": [
    "startDetInds = np.append(np.array([0]), np.cumsum(detPixCounts)[:-1])"
   ]
  },
  {
   "cell_type": "code",
   "execution_count": 16,
   "id": "5a076562-c684-4b53-8b2f-5f3ffeea687f",
   "metadata": {},
   "outputs": [],
   "source": [
    "for i in np.arange(len(detPixCounts)):\n",
    "    if detPixCounts[i] == 0:\n",
    "        continue\n",
    "    matchInds[startDetInds[i]: startDetInds[i] + detPixCounts[i]] = np.arange(detPixCounts[i]).astype(int) + startInjInds[i]"
   ]
  },
  {
   "cell_type": "code",
   "execution_count": 17,
   "id": "fcba6dbe-f93e-48b8-85e4-366f649b6539",
   "metadata": {},
   "outputs": [],
   "source": [
    "includeInds = np.full(len(injPix), False, dtype = bool)\n",
    "includeInds[0:int(perObjectsToUse*len(includeInds))] = True\n",
    "np.random.shuffle(includeInds)"
   ]
  },
  {
   "cell_type": "code",
   "execution_count": 18,
   "id": "95ad0132-5ba2-46cb-8da8-fcb82eb09a1a",
   "metadata": {},
   "outputs": [],
   "source": [
    "detPix = detPix[includeInds[matchInds]]\n",
    "injPix = injPix[includeInds]\n",
    "\n",
    "validPix =  np.unique(injPix)"
   ]
  },
  {
   "cell_type": "code",
   "execution_count": 19,
   "id": "b2c4803a-d419-4876-b252-3da48a914291",
   "metadata": {},
   "outputs": [],
   "source": [
    "pcCrop = np.isin(origValidPix, validPix)"
   ]
  },
  {
   "cell_type": "code",
   "execution_count": 20,
   "id": "130d5e26-8335-454e-9927-010c284c9135",
   "metadata": {},
   "outputs": [],
   "source": [
    "_, origDetPixCounts = np.unique(np.append(validPix, detPix), return_counts = True)\n",
    "origDetPixCounts = origDetPixCounts - 1"
   ]
  },
  {
   "cell_type": "code",
   "execution_count": 21,
   "id": "e33f7b37-20b4-4387-ab34-0440f9c8790d",
   "metadata": {},
   "outputs": [],
   "source": [
    "condFiles = balrConfig.test1aCondFiles\n",
    "\n",
    "pcMaps = []\n",
    "\n",
    "# This loops over every condition file\n",
    "for condFile in condFiles:\n",
    "    condData = fitsio.read(condFile) # This reads in the data\n",
    "    pcMaps.append(condData['SIGNAL'][pcCrop]) # Only stores the values that are in pixels with injections\n",
    "\n",
    "pcMaps = np.array(pcMaps) # Converts to an array\n",
    "\n",
    "# PC_Maps = fitsio.read(PCA_Store_File)\n",
    "# pcMaps = []\n",
    "# for i in np.arange(50):\n",
    "#     pcMaps.append(PC_Maps[str(i)])\n",
    "# pcMaps = np.array(pcMaps)"
   ]
  },
  {
   "cell_type": "markdown",
   "id": "93297140-5ff5-4f6b-9e6e-44a842af441f",
   "metadata": {},
   "source": [
    "## Make sure to normalize to this aveDet after each step just in case."
   ]
  },
  {
   "cell_type": "code",
   "execution_count": 22,
   "id": "0cb01fa2-71d8-466c-b96c-365940f70ae3",
   "metadata": {},
   "outputs": [],
   "source": [
    "aveDet = np.sum(origDetPixCounts) / len(origDetPixCounts)"
   ]
  },
  {
   "cell_type": "code",
   "execution_count": 23,
   "id": "276e3831-11a2-4339-bbab-723c25b52edd",
   "metadata": {},
   "outputs": [],
   "source": [
    "# sortInds = []\n",
    "# for i in range(len(pcMaps)):\n",
    "#     sortInds.append(pcMaps[i].argsort())\n",
    "# sortInds = np.array(sortInds)\n",
    "\n",
    "# 80% Test\n",
    "trainInds = np.full(len(pcMaps[0]), False, dtype = bool)\n",
    "trainInds[0:int(0.8*len(trainInds))] = True\n",
    "np.random.shuffle(trainInds)\n",
    "\n",
    "sortInds = []\n",
    "for i in range(len(pcMaps)):\n",
    "    sortInds.append(pcMaps[i][trainInds].argsort())\n",
    "sortInds = np.array(sortInds)"
   ]
  },
  {
   "cell_type": "code",
   "execution_count": 24,
   "id": "07ce205f-85b1-418a-bc91-3fa4cbf5eb00",
   "metadata": {},
   "outputs": [],
   "source": [
    "binIndLims = [0]\n",
    "\n",
    "for j in range(binNum):\n",
    "    binIndLims.append(int((np.sum(trainInds) - binIndLims[-1]) / (binNum - j)) + (binIndLims[-1]))\n",
    "    # binIndLims.append(int((len(pcMaps[0]) - binIndLims[-1]) / (binNum - j)) + (binIndLims[-1]))"
   ]
  },
  {
   "cell_type": "code",
   "execution_count": 25,
   "id": "ced382a4-d4fb-4edf-9284-c4f6d15bfd4e",
   "metadata": {},
   "outputs": [],
   "source": [
    "xBins = []\n",
    "\n",
    "for i in range(len(pcMaps)):\n",
    "    PC_Map_Sort = pcMaps[i][trainInds][sortInds[i][::1]]\n",
    "    pcBins = []\n",
    "    for j in range(binNum):\n",
    "        pcBins.append(PC_Map_Sort[binIndLims[j]:binIndLims[j+1]])\n",
    "    indXBin = []\n",
    "\n",
    "    for j in range(binNum):\n",
    "        indXBin.append(np.sum(pcBins[j]) / len(pcBins[j]))\n",
    "        \n",
    "    xBins.append(np.array(indXBin))\n",
    "\n",
    "xBins = np.array(xBins)"
   ]
  },
  {
   "cell_type": "code",
   "execution_count": 26,
   "id": "06cdf9f4-18a3-4f11-a200-f57476ac9904",
   "metadata": {},
   "outputs": [],
   "source": [
    "yBinsOrig = []\n",
    "for i in range(len(pcMaps)):\n",
    "    detSort = origDetPixCounts[trainInds][sortInds[i][::1]]\n",
    "    detBins = []\n",
    "    for j in range(binNum):\n",
    "        detBins.append(detSort[binIndLims[j]:binIndLims[j+1]])\n",
    "    indYBinOrig = []\n",
    "\n",
    "    for j in range(binNum):\n",
    "        indYBinOrig.append(np.sum(detBins[j]) / (aveDet * len(detBins[j])))\n",
    "\n",
    "    yBinsOrig.append(np.array(indYBinOrig))\n",
    "\n",
    "yBinsOrig = np.array(yBinsOrig)"
   ]
  },
  {
   "cell_type": "code",
   "execution_count": 28,
   "id": "971c07d5-bcf5-4b69-98c8-f71e367c3dbd",
   "metadata": {},
   "outputs": [],
   "source": [
    "detPixCounts = np.copy(origDetPixCounts)"
   ]
  },
  {
   "cell_type": "code",
   "execution_count": 29,
   "id": "fc8205d2-5798-4951-9cd0-34ae2fe2c741",
   "metadata": {},
   "outputs": [
    {
     "name": "stdout",
     "output_type": "stream",
     "text": [
      "3.106606442015618 seconds per loop\n",
      "20\n",
      "40\n",
      "60\n",
      "80\n",
      "100\n"
     ]
    }
   ],
   "source": [
    "timeThrough = 0\n",
    "allErrors = []\n",
    "\n",
    "start = timer()\n",
    "\n",
    "while(True):\n",
    "    \n",
    "    timeThrough += 1\n",
    "    if timeThrough % 20 == 0:\n",
    "        print(timeThrough)\n",
    "    \n",
    "    yBins = []\n",
    "    for i in range(len(pcMaps)):\n",
    "        detSort = detPixCounts[trainInds][sortInds[i][::1]]\n",
    "        detBins = []\n",
    "        for j in range(binNum):\n",
    "            detBins.append(detSort[binIndLims[j]:binIndLims[j+1]])\n",
    "        indYBin = []\n",
    "\n",
    "        for j in range(binNum):\n",
    "            indYBin.append(np.sum(detBins[j]) / (aveDet * len(detBins[j])))\n",
    "\n",
    "        yBins.append(np.array(indYBin))\n",
    "\n",
    "    yBins = np.array(yBins)\n",
    "    \n",
    "    index, maxErr = mostSigInd(yBins)\n",
    "    if index == -1:\n",
    "        break\n",
    "        \n",
    "    allErrors.append(maxErr)\n",
    "        \n",
    "    corrFunc = inter.interp1d(xBins[index], yBins[index], bounds_error = False, fill_value = (yBins[index][0], yBins[index][-1]))\n",
    "    \n",
    "    detPixCounts = detPixCounts / (corrFunc(pcMaps[index]))\n",
    "    \n",
    "    detPixCounts = detPixCounts * aveDet / (np.sum(detPixCounts) / len(detPixCounts))\n",
    "    \n",
    "    if timeThrough == 1:\n",
    "        end = timer()\n",
    "        print(str(end - start) + ' seconds per loop') # time in seconds"
   ]
  },
  {
   "cell_type": "code",
   "execution_count": 30,
   "id": "46f01738-17e2-422d-a740-a9ca5751954b",
   "metadata": {},
   "outputs": [],
   "source": [
    "errorsFile = balrConfig.test1Dir + str(perObjectsToUse) + '_Errors_' + str(cutOffPercent) + '.fits'\n",
    "detPixFile = balrConfig.test1Dir + str(perObjectsToUse) + '_Pix_Counts_' + str(cutOffPercent) + '.fits'\n",
    "trainIndsFile = balrConfig.test1Dir + str(perObjectsToUse) + '_Train_Inds_' + str(cutOffPercent) + '.fits'"
   ]
  },
  {
   "cell_type": "code",
   "execution_count": 31,
   "id": "3b831639-3ffd-4272-8f5c-c7992f6597b3",
   "metadata": {},
   "outputs": [],
   "source": [
    "my_table = Table()\n",
    "my_table['Errors'] = allErrors\n",
    "my_table.write(errorsFile, overwrite = True)"
   ]
  },
  {
   "cell_type": "code",
   "execution_count": 32,
   "id": "a147e85f-8934-4859-873a-b3e56bdd6481",
   "metadata": {},
   "outputs": [],
   "source": [
    "my_table = Table()\n",
    "my_table['Counts'] = detPixCounts\n",
    "my_table.write(detPixFile, overwrite = True)"
   ]
  },
  {
   "cell_type": "code",
   "execution_count": 33,
   "id": "25c435c0-017b-4a18-a1aa-837804b00364",
   "metadata": {},
   "outputs": [],
   "source": [
    "my_table = Table()\n",
    "my_table['Inds'] = trainInds\n",
    "my_table.write(trainIndsFile, overwrite = True)"
   ]
  },
  {
   "cell_type": "code",
   "execution_count": 34,
   "id": "d72d95e9-3d35-42b5-a63e-2ebfed023859",
   "metadata": {},
   "outputs": [],
   "source": [
    "allErrors = fitsio.read(errorsFile)['Errors']\n",
    "detPixCounts = fitsio.read(detPixFile)['Counts']\n",
    "trainInds = fitsio.read(trainIndsFile)['Inds']"
   ]
  },
  {
   "cell_type": "code",
   "execution_count": 35,
   "id": "29f98af1-1eeb-4bc1-b555-19e7eb53776d",
   "metadata": {},
   "outputs": [
    {
     "data": {
      "image/png": "[encoded data removed]",
      "text/plain": [
       "<Figure size 768x576 with 1 Axes>"
      ]
     },
     "metadata": {},
     "output_type": "display_data"
    }
   ],
   "source": [
    "plt.figure(dpi = 120)\n",
    "plt.scatter(np.arange(len(allErrors)), allErrors, s = 0.25)\n",
    "plt.show()"
   ]
  },
  {
   "cell_type": "code",
   "execution_count": 36,
   "id": "dcae3886-cf9d-4b02-8b29-79711f130ef5",
   "metadata": {},
   "outputs": [],
   "source": [
    "condFiles = balrConfig.test1aCondFiles\n",
    "conditions = Config.conditions"
   ]
  },
  {
   "cell_type": "code",
   "execution_count": 37,
   "id": "a6a33e3d-fd3c-44e5-b3ba-38f72a1a5087",
   "metadata": {},
   "outputs": [],
   "source": [
    "condMaps = np.copy(pcMaps)\n",
    "\n",
    "# # This loops over every condition file\n",
    "# for condFile in condFiles:\n",
    "#     condData = fitsio.read(condFile) # This reads in the data\n",
    "#     condMaps.append(condData['SIGNAL']) # Only stores the values that are in pixels with injections\n",
    "\n",
    "# condMaps = np.array(condMaps, dtype = object) # Converts to an array"
   ]
  },
  {
   "cell_type": "markdown",
   "id": "2db22806-a6a4-4187-825e-a091da19aa26",
   "metadata": {},
   "source": [
    "## 1D Cases"
   ]
  },
  {
   "cell_type": "code",
   "execution_count": 38,
   "id": "42ab34fc-2c10-47ef-8f3d-d77ae5061071",
   "metadata": {},
   "outputs": [],
   "source": [
    "binIndLims = [0]\n",
    "\n",
    "for j in range(binNum):\n",
    "    binIndLims.append(int((np.sum(~trainInds) - binIndLims[-1]) / (binNum - j)) + (binIndLims[-1]))\n",
    "    # binIndLims.append(int((len(pcMaps[0]) - binIndLims[-1]) / (binNum - j)) + (binIndLims[-1]))"
   ]
  },
  {
   "cell_type": "code",
   "execution_count": 39,
   "id": "801d6100-c843-490c-a054-678c89d4a612",
   "metadata": {},
   "outputs": [],
   "source": [
    "condMaxErrors = []\n",
    "\n",
    "for condInd in range(len(condMaps)):\n",
    "    condMap = condMaps[condInd]\n",
    "    condSortInds = condMap[~trainInds].argsort()\n",
    "    \n",
    "    condSort = condMap[~trainInds][condSortInds[::1]]\n",
    "    detStarTemp = detPixCounts[~trainInds][condSortInds[::1]]\n",
    "    origDetStarTemp = origDetPixCounts[~trainInds][condSortInds[::1]]\n",
    "\n",
    "    origDetBins = []\n",
    "    detBins = []\n",
    "    condBins = []\n",
    "\n",
    "    for j in range(10):\n",
    "        origDetBins.append(origDetStarTemp[binIndLims[j]:binIndLims[j+1]])\n",
    "        detBins.append(detStarTemp[binIndLims[j]:binIndLims[j+1]])\n",
    "        condBins.append(condSort[binIndLims[j]:binIndLims[j+1]])\n",
    "\n",
    "    yBinCondOrig = []\n",
    "    yBinCond = []\n",
    "    xBinCond = []\n",
    "\n",
    "    for j in range(10):\n",
    "        yBinCondOrig.append(np.sum(origDetBins[j]) / (aveDet * len(origDetBins[j])))\n",
    "        yBinCond.append(np.sum(detBins[j]) / (aveDet * len(detBins[j])))\n",
    "        xBinCond.append(np.sum(condBins[j]) / len(condBins[j]))\n",
    "\n",
    "    xBinCond = np.array(xBinCond)\n",
    "    yBinCond = np.array(yBinCond)\n",
    "    yBinCondOrig = np.array(yBinCondOrig)\n",
    "    \n",
    "    condMaxErrors.append(np.max(np.abs(yBinCond - 1)))\n",
    "    \n",
    "    # plt.figure(dpi = 120)\n",
    "    # plt.plot(xBinCond, yBinCond, marker = 'o', label = r'Corrected Dependency, ' + r'$\\sigma = $' + str(np.round(np.std(yBinCond), decimals = 3)), zorder = 4)\n",
    "    # plt.plot(xBinCond, yBinCondOrig, marker = 'o', label = r'Original Dependency, ' + r'$\\sigma = $' + str(np.round(np.std(yBinCondOrig), decimals = 3)), zorder = 4)\n",
    "    # plt.axhline(y = 1, color = 'black', linestyle = '--', zorder = 3)\n",
    "    # plt.legend()\n",
    "    # plt.title('Stellar Detection Rate Dependencies')\n",
    "    # plt.grid(zorder = 0)\n",
    "    # plt.xlabel(conditions[condInd])\n",
    "    # plt.ylabel(r'$N/\\langle N\\rangle$')\n",
    "    # plt.savefig('80PerTrainStarsBetter/' + conditions[condInd])"
   ]
  },
  {
   "cell_type": "code",
   "execution_count": 40,
   "id": "861b4f0a-5908-4943-9998-632ffcbb95ad",
   "metadata": {},
   "outputs": [],
   "source": [
    "condErrorsFile = balrConfig.test1Dir + 'PartialInclusion/' + str(perObjectsToUse) + '_Cond_Errors_' + str(cutOffPercent) + '.fits'\n",
    "my_table = Table()\n",
    "my_table['Errors'] = condMaxErrors\n",
    "my_table.write(condErrorsFile, overwrite = True)"
   ]
  },
  {
   "cell_type": "markdown",
   "id": "4c532008-7395-42bd-9215-675ed82af1a4",
   "metadata": {},
   "source": [
    "## 2D Cases"
   ]
  },
  {
   "cell_type": "code",
   "execution_count": 41,
   "id": "921fc8c5-8a2e-466b-8a4e-a4a592ba9f1d",
   "metadata": {},
   "outputs": [],
   "source": [
    "# index_one = 37\n",
    "# index_two = 75"
   ]
  },
  {
   "cell_type": "code",
   "execution_count": 42,
   "id": "17429734-cb47-4832-902e-61e6425b6277",
   "metadata": {},
   "outputs": [],
   "source": [
    "# condSortInds = condMaps[index_one][~trainInds].argsort()\n",
    "# sortedFirst = condMaps[index_one][~trainInds][condSortInds[::1]]\n",
    "# first_bin_lims = []\n",
    "# for i in range(binNum):\n",
    "#     first_bin_lims.append(sortedFirst[binIndLims[i]])\n",
    "# first_bin_lims.append(sortedFirst[-1])\n",
    "\n",
    "# condSortInds = condMaps[index_two][~trainInds].argsort()\n",
    "# sortedSecond = condMaps[index_two][~trainInds][condSortInds[::1]]\n",
    "# second_bin_lims = []\n",
    "# for i in range(binNum):\n",
    "#     second_bin_lims.append(sortedSecond[binIndLims[i]])\n",
    "# second_bin_lims.append(sortedSecond[-1])\n",
    "\n",
    "# # sortedFirst = condMaps[index_one][sortInds[index_one][::1]]\n",
    "# # first_bin_lims = []\n",
    "# # for i in range(binNum):\n",
    "# #     first_bin_lims.append(sortedFirst[binIndLims[i]])\n",
    "# # first_bin_lims.append(sortedFirst[-1])\n",
    "\n",
    "# # sortedSecond = condMaps[index_two][sortInds[index_two][::1]]\n",
    "# # second_bin_lims = []\n",
    "# # for i in range(binNum):\n",
    "# #     second_bin_lims.append(sortedSecond[binIndLims[i]])\n",
    "# # second_bin_lims.append(sortedSecond[-1])"
   ]
  },
  {
   "cell_type": "code",
   "execution_count": 43,
   "id": "62839ae8-af09-445d-8f27-dee1ece4fb91",
   "metadata": {},
   "outputs": [],
   "source": [
    "# plt.figure(dpi = 120)\n",
    "# bins = plt.hist2d(condMaps[index_one][~trainInds], condMaps[index_two][~trainInds], bins = (first_bin_lims, second_bin_lims))\n",
    "# countBins = bins[0]\n",
    "# plt.xlabel(conditions[index_one])\n",
    "# plt.ylabel(conditions[index_two])\n",
    "# plt.title('Distribution of Pixels with Survey Property')\n",
    "# plt.colorbar()\n",
    "# plt.show()"
   ]
  },
  {
   "cell_type": "code",
   "execution_count": 44,
   "id": "573496fe-3813-4218-9d1e-626555396cc9",
   "metadata": {},
   "outputs": [],
   "source": [
    "# normWeights = np.ones_like(condMaps[index_one][~trainInds])\n",
    "# for i in np.arange(len(first_bin_lims) - 1):\n",
    "#     for j in np.arange(len(second_bin_lims) - 1):\n",
    "#         inds = np.where((condMaps[index_one][~trainInds] <= first_bin_lims[i + 1]) & (condMaps[index_one][~trainInds] >= first_bin_lims[i]) & (condMaps[index_two][~trainInds] <= second_bin_lims[j + 1]) & (condMaps[index_two][~trainInds] >= second_bin_lims[j]))[0]\n",
    "#         if countBins[i][j] != 0:\n",
    "#             normWeights[inds] = 1 / (countBins[i][j])"
   ]
  },
  {
   "cell_type": "code",
   "execution_count": 45,
   "id": "c6c12f7f-dce7-437b-8f74-ba137880b997",
   "metadata": {},
   "outputs": [],
   "source": [
    "# xHist = np.linspace(0, 100, 10)\n",
    "# yHist = np.linspace(0, 100, 10)\n",
    "# mesh = np.meshgrid(xHist, yHist)\n",
    "# xHist = mesh[0].flatten()\n",
    "# yHist = mesh[1].flatten()\n",
    "# pixCountBins = (countBins.T).flatten()\n",
    "\n",
    "# plt.figure(dpi = 120)\n",
    "# origCountBins = plt.hist2d(xHist, yHist, weights = pixCountBins)\n",
    "# origCountBins = origCountBins[0].flatten()\n",
    "# plt.xlabel(conditions[index_one] + ' Percentile')\n",
    "# plt.ylabel(conditions[index_two] + ' Percentile')\n",
    "# plt.title('Distribution of Pixels with Survey Property')\n",
    "# plt.colorbar()\n",
    "# plt.show()"
   ]
  },
  {
   "cell_type": "code",
   "execution_count": 46,
   "id": "1b412f8a-6372-489c-a64a-fb11b7bea708",
   "metadata": {},
   "outputs": [],
   "source": [
    "# plt.figure(dpi = 120)\n",
    "# countBins = plt.hist2d(condMaps[index_one][~trainInds], condMaps[index_two][~trainInds], bins = (first_bin_lims, second_bin_lims), weights = origDetPixCounts[~trainInds] * normWeights / aveDet)\n",
    "# countBins = countBins[0]\n",
    "# plt.xlabel(conditions[index_one])\n",
    "# plt.ylabel(conditions[index_two])\n",
    "# plt.title('Distribution of Detection Rates with Survey Property')\n",
    "# plt.colorbar()\n",
    "# plt.show()"
   ]
  },
  {
   "cell_type": "code",
   "execution_count": 47,
   "id": "2da71448-3909-4bfe-b2e8-e0af19c4495b",
   "metadata": {},
   "outputs": [],
   "source": [
    "# xHist = np.linspace(0, 100, 10)\n",
    "# yHist = np.linspace(0, 100, 10)\n",
    "# mesh = np.meshgrid(xHist, yHist)\n",
    "# xHist = mesh[0].flatten()\n",
    "# yHist = mesh[1].flatten()\n",
    "# countBins = (countBins.T).flatten()\n",
    "\n",
    "# plt.figure(dpi = 120)\n",
    "# origCountBins = plt.hist2d(xHist, yHist, weights = countBins)\n",
    "# origCountBins = (origCountBins[0].T).flatten()\n",
    "# plt.xlabel(conditions[index_one] + ' Percentile')\n",
    "# plt.ylabel(conditions[index_two] + ' Percentile')\n",
    "# plt.title('Distribution of Detection Rates with Survey Property')\n",
    "# plt.colorbar()\n",
    "# plt.show()"
   ]
  },
  {
   "cell_type": "code",
   "execution_count": 48,
   "id": "4db8468a-404a-45f6-b272-435ffa5d9aff",
   "metadata": {},
   "outputs": [],
   "source": [
    "# plt.figure(dpi = 120)\n",
    "# countBins = plt.hist2d(condMaps[index_one][~trainInds], condMaps[index_two][~trainInds], bins = (first_bin_lims, second_bin_lims), weights = detPixCounts[~trainInds] * normWeights / aveDet)\n",
    "# countBins = countBins[0]\n",
    "# plt.xlabel(conditions[index_one])\n",
    "# plt.ylabel(conditions[index_two])\n",
    "# plt.title('Corrected Distribution of Detection Rates with Survey Property')\n",
    "# plt.colorbar()\n",
    "# plt.show()"
   ]
  },
  {
   "cell_type": "code",
   "execution_count": 49,
   "id": "992f8dc4-5001-40b6-a809-8e08851cbad5",
   "metadata": {},
   "outputs": [],
   "source": [
    "# xHist = np.linspace(0, 100, 10)\n",
    "# yHist = np.linspace(0, 100, 10)\n",
    "# mesh = np.meshgrid(xHist, yHist)\n",
    "# xHist = mesh[0].flatten()\n",
    "# yHist = mesh[1].flatten()\n",
    "# countBins = (countBins.T).flatten()\n",
    "\n",
    "# plt.figure(dpi = 120)\n",
    "# corrCountBins = plt.hist2d(xHist, yHist, weights = countBins)\n",
    "# corrCountBins = (corrCountBins[0].T).flatten()\n",
    "# plt.xlabel(conditions[index_one] + ' Percentile')\n",
    "# plt.ylabel(conditions[index_two] + ' Percentile')\n",
    "# plt.title('Corrected Distribution of Detection Rates with Survey Property')\n",
    "# plt.colorbar()\n",
    "# plt.show()"
   ]
  },
  {
   "cell_type": "markdown",
   "id": "be9a9a29-1279-4b4d-b84a-bf3e8fff527f",
   "metadata": {},
   "source": [
    "## Metrics to Gauge Success:\n",
    "\n",
    "Want to look at variations from one while also considering the fact that we don't really care about regions with hardly any pixels. My current plan is to do a (1 - bin) squared for the above plot as well as the pre correction plot, weight each one by the number of pixels in that bin from the initial plots, and then finally divide out by the total count of pixels."
   ]
  },
  {
   "cell_type": "code",
   "execution_count": 50,
   "id": "0f70425f-8bad-46ec-840d-63bd88aabd97",
   "metadata": {},
   "outputs": [],
   "source": [
    "# 1 - (np.sum(pixCountBins * ((corrCountBins - 1)**2)) / np.sum(pixCountBins * ((origCountBins - 1)**2)))"
   ]
  },
  {
   "cell_type": "code",
   "execution_count": 51,
   "id": "33e2f5e5-27c5-44d3-9c1e-750dbd0dade8",
   "metadata": {},
   "outputs": [],
   "source": [
    "# np.sum(pixCountBins * ((origCountBins - 1)**2)) / np.sum(pixCountBins)"
   ]
  },
  {
   "cell_type": "markdown",
   "id": "ef72552a-96e8-4eec-b9dc-5cce261a55e5",
   "metadata": {},
   "source": [
    "## Random Tests Done First"
   ]
  },
  {
   "cell_type": "code",
   "execution_count": 52,
   "id": "137d7832-1458-41b8-b306-9272f5036031",
   "metadata": {},
   "outputs": [],
   "source": [
    "# metricFile = balrConfig.test1aDir + '2D_Metrics_' + str(cutOffPercent) + '.fits'"
   ]
  },
  {
   "cell_type": "code",
   "execution_count": 53,
   "id": "0e640987-5b77-4664-a580-4bb0850d01c8",
   "metadata": {},
   "outputs": [],
   "source": [
    "# ind_ones = np.arange(92)\n",
    "# ind_twos = np.arange(92)\n",
    "# mesh = np.meshgrid(ind_ones, ind_twos)\n",
    "# ind_ones = mesh[0].flatten()\n",
    "# ind_twos = mesh[1].flatten()\n",
    "# cutInds = np.where(ind_ones < ind_twos)[0]\n",
    "# allIndOnes = ind_ones[cutInds]\n",
    "# allIndTwos = ind_twos[cutInds]\n",
    "\n",
    "# # allMetrics = 2.0 * np.ones_like(allIndOnes)\n",
    "# # allMetricWeights = -1.0 * np.ones_like(allIndOnes)\n",
    "\n",
    "# metricData = fitsio.read(metricFile)\n",
    "# allMetrics = metricData['Metric']\n",
    "# allMetricWeights = metricData['Weight']"
   ]
  },
  {
   "cell_type": "code",
   "execution_count": 54,
   "id": "9e5e6ec1-4ba2-49a2-bca9-18f32109423e",
   "metadata": {},
   "outputs": [],
   "source": [
    "# for ind in np.arange(len(allIndOnes)):\n",
    "#     index_one = allIndOnes[ind]\n",
    "#     index_two = allIndTwos[ind]\n",
    "    \n",
    "#     if allMetrics[ind] < 1.5:\n",
    "#         if allMetricWeights[ind] > -0.5:\n",
    "#             continue\n",
    "        \n",
    "#     condSortInds = condMaps[index_one][~trainInds].argsort()\n",
    "#     sortedFirst = condMaps[index_one][~trainInds][condSortInds[::1]]\n",
    "#     first_bin_lims = []\n",
    "#     for i in range(binNum):\n",
    "#         first_bin_lims.append(sortedFirst[binIndLims[i]])\n",
    "#     first_bin_lims.append(sortedFirst[-1])\n",
    "\n",
    "#     condSortInds = condMaps[index_two][~trainInds].argsort()\n",
    "#     sortedSecond = condMaps[index_two][~trainInds][condSortInds[::1]]\n",
    "#     second_bin_lims = []\n",
    "#     for i in range(binNum):\n",
    "#         second_bin_lims.append(sortedSecond[binIndLims[i]])\n",
    "#     second_bin_lims.append(sortedSecond[-1])\n",
    "    \n",
    "#     plt.figure(dpi = 20)\n",
    "#     bins = plt.hist2d(condMaps[index_one][~trainInds], condMaps[index_two][~trainInds], bins = (first_bin_lims, second_bin_lims))\n",
    "#     countBins = bins[0]\n",
    "#     plt.xlabel(conditions[index_one])\n",
    "#     plt.ylabel(conditions[index_two])\n",
    "#     plt.title('Distribution of Pixels with Survey Property')\n",
    "#     plt.colorbar()\n",
    "#     plt.show()\n",
    "    \n",
    "#     normWeights = np.ones_like(condMaps[index_one][~trainInds])\n",
    "#     for i in np.arange(len(first_bin_lims) - 1):\n",
    "#         for j in np.arange(len(second_bin_lims) - 1):\n",
    "#             inds = np.where((condMaps[index_one][~trainInds] <= first_bin_lims[i + 1]) & (condMaps[index_one][~trainInds] >= first_bin_lims[i]) & (condMaps[index_two][~trainInds] <= second_bin_lims[j + 1]) & (condMaps[index_two][~trainInds] >= second_bin_lims[j]))[0]\n",
    "#             if countBins[i][j] != 0:\n",
    "#                 normWeights[inds] = 1 / (countBins[i][j])\n",
    "                \n",
    "#     xHist = np.linspace(0, 100, 10)\n",
    "#     yHist = np.linspace(0, 100, 10)\n",
    "#     mesh = np.meshgrid(xHist, yHist)\n",
    "#     xHist = mesh[0].flatten()\n",
    "#     yHist = mesh[1].flatten()\n",
    "#     pixCountBins = (countBins.T).flatten()\n",
    "\n",
    "#     plt.figure(dpi = 20)\n",
    "#     origCountBins = plt.hist2d(xHist, yHist, weights = pixCountBins)\n",
    "#     origCountBins = origCountBins[0].flatten()\n",
    "#     plt.xlabel(conditions[index_one] + ' Percentile')\n",
    "#     plt.ylabel(conditions[index_two] + ' Percentile')\n",
    "#     plt.title('Distribution of Pixels with Survey Property')\n",
    "#     plt.colorbar()\n",
    "#     plt.show()\n",
    "    \n",
    "#     plt.figure(dpi = 20)\n",
    "#     countBins = plt.hist2d(condMaps[index_one][~trainInds], condMaps[index_two][~trainInds], bins = (first_bin_lims, second_bin_lims), weights = origDetPixCounts[~trainInds] * normWeights / aveDet)\n",
    "#     countBins = countBins[0]\n",
    "#     plt.xlabel(conditions[index_one])\n",
    "#     plt.ylabel(conditions[index_two])\n",
    "#     plt.title('Distribution of Detection Rates with Survey Property')\n",
    "#     plt.colorbar()\n",
    "#     plt.show()\n",
    "    \n",
    "#     xHist = np.linspace(0, 100, 10)\n",
    "#     yHist = np.linspace(0, 100, 10)\n",
    "#     mesh = np.meshgrid(xHist, yHist)\n",
    "#     xHist = mesh[0].flatten()\n",
    "#     yHist = mesh[1].flatten()\n",
    "#     countBins = (countBins.T).flatten()\n",
    "\n",
    "#     plt.figure(dpi = 20)\n",
    "#     origCountBins = plt.hist2d(xHist, yHist, weights = countBins)\n",
    "#     origCountBins = (origCountBins[0].T).flatten()\n",
    "#     plt.xlabel(conditions[index_one] + ' Percentile')\n",
    "#     plt.ylabel(conditions[index_two] + ' Percentile')\n",
    "#     plt.title('Distribution of Detection Rates with Survey Property')\n",
    "#     plt.colorbar()\n",
    "#     plt.show()\n",
    "    \n",
    "#     plt.figure(dpi = 20)\n",
    "#     countBins = plt.hist2d(condMaps[index_one][~trainInds], condMaps[index_two][~trainInds], bins = (first_bin_lims, second_bin_lims), weights = detPixCounts[~trainInds] * normWeights / aveDet)\n",
    "#     countBins = countBins[0]\n",
    "#     plt.xlabel(conditions[index_one])\n",
    "#     plt.ylabel(conditions[index_two])\n",
    "#     plt.title('Corrected Distribution of Detection Rates with Survey Property')\n",
    "#     plt.colorbar()\n",
    "#     plt.show()\n",
    "    \n",
    "#     xHist = np.linspace(0, 100, 10)\n",
    "#     yHist = np.linspace(0, 100, 10)\n",
    "#     mesh = np.meshgrid(xHist, yHist)\n",
    "#     xHist = mesh[0].flatten()\n",
    "#     yHist = mesh[1].flatten()\n",
    "#     countBins = (countBins.T).flatten()\n",
    "\n",
    "#     plt.figure(dpi = 20)\n",
    "#     corrCountBins = plt.hist2d(xHist, yHist, weights = countBins)\n",
    "#     corrCountBins = (corrCountBins[0].T).flatten()\n",
    "#     plt.xlabel(conditions[index_one] + ' Percentile')\n",
    "#     plt.ylabel(conditions[index_two] + ' Percentile')\n",
    "#     plt.title('Corrected Distribution of Detection Rates with Survey Property')\n",
    "#     plt.colorbar()\n",
    "#     plt.show()\n",
    "    \n",
    "#     metric = 1 - (np.sum(pixCountBins * ((corrCountBins - 1)**2)) / np.sum(pixCountBins * ((origCountBins - 1)**2)))\n",
    "    \n",
    "#     allMetrics[ind] = metric\n",
    "#     allMetricWeights[ind] = np.sum(pixCountBins * ((origCountBins - 1)**2)) / np.sum(pixCountBins)\n",
    "    \n",
    "#     my_table = Table()\n",
    "#     my_table['Metric'] = allMetrics\n",
    "#     my_table['Weight'] = allMetricWeights\n",
    "#     my_table.write(metricFile, overwrite = True)"
   ]
  },
  {
   "cell_type": "code",
   "execution_count": 55,
   "id": "3519b2b3-f445-4bb0-a26f-bc63162e682a",
   "metadata": {},
   "outputs": [],
   "source": [
    "# plt.figure(dpi = 120)\n",
    "# plt.hist(allMetrics[np.where(allMetrics < 1.5)[0]], bins = np.linspace(0.6, 1, 101), weights = allMetricWeights[np.where(allMetrics < 1.5)[0]], zorder = 3, density = True)\n",
    "# plt.xlabel('Metric Improvement Value')\n",
    "# plt.ylabel('Weighted Distribution')\n",
    "# plt.title('Galaxy Detection 2D Relation Improvements')\n",
    "# plt.grid(zorder = 0)\n",
    "# plt.show()"
   ]
  },
  {
   "cell_type": "code",
   "execution_count": 56,
   "id": "06016c96-b03c-4587-a95b-d938035d49f6",
   "metadata": {},
   "outputs": [],
   "source": [
    "# my_table = Table()\n",
    "# my_table['Metric'] = allMetrics\n",
    "# my_table['Weight'] = allMetricWeights\n",
    "# my_table.write(metricFile, overwrite = True)"
   ]
  },
  {
   "cell_type": "code",
   "execution_count": 57,
   "id": "cbfc82bf-7d41-4aa7-bb6e-fc749d76c57e",
   "metadata": {},
   "outputs": [],
   "source": [
    "# len(np.where(allMetrics<1.5)[0])"
   ]
  },
  {
   "cell_type": "code",
   "execution_count": 58,
   "id": "c4f3484a-709c-4a3a-bd5c-7a669b0dff91",
   "metadata": {},
   "outputs": [],
   "source": [
    "# np.min(allMetrics[np.where(allMetrics<1.5)[0]])"
   ]
  },
  {
   "cell_type": "code",
   "execution_count": null,
   "id": "74dd8d20-9efb-475b-9d6e-90274f00d851",
   "metadata": {},
   "outputs": [],
   "source": []
  }
 ],
 "metadata": {
  "kernelspec": {
   "display_name": "Python 3 (ipykernel)",
   "language": "python",
   "name": "python3"
  },
  "language_info": {
   "codemirror_mode": {
    "name": "ipython",
    "version": 3
   },
   "file_extension": ".py",
   "mimetype": "text/x-python",
   "name": "python",
   "nbconvert_exporter": "python",
   "pygments_lexer": "ipython3",
   "version": "3.9.12"
  }
 },
 "nbformat": 4,
 "nbformat_minor": 5
}
