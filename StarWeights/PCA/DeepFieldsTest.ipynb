{
 "cells": [
  {
   "cell_type": "code",
   "execution_count": 1,
   "id": "9a93cd7f-294b-4083-929b-d9cd8158fd9b",
   "metadata": {},
   "outputs": [],
   "source": [
    "# Corrected: 5.41657570658928 5.754928795369966\n",
    "# Original: 5.385416666666667 5.363143631436315"
   ]
  },
  {
   "cell_type": "code",
   "execution_count": 2,
   "id": "757505d2-34dd-484f-9796-c1df7c949e52",
   "metadata": {},
   "outputs": [],
   "source": [
    "import numpy as np\n",
    "from numpy import loadtxt\n",
    "import fitsio\n",
    "import healpy as hp\n",
    "import healsparse as hsp\n",
    "import skyproj\n",
    "import matplotlib.pyplot as plt\n",
    "import Config"
   ]
  },
  {
   "cell_type": "code",
   "execution_count": 3,
   "id": "3299afc6-d693-4dd1-b4bb-26d29f7666c3",
   "metadata": {},
   "outputs": [],
   "source": [
    "res = 512"
   ]
  },
  {
   "cell_type": "code",
   "execution_count": 4,
   "id": "dfad0629-d53e-437e-a88d-5e70809bd0c3",
   "metadata": {},
   "outputs": [],
   "source": [
    "deepFile = '/hdfs/bechtol/balrog/y3_deep_fields/y3_deep_fields_catalog/deepfields_000005.fits'\n",
    "deepCols  = ['KNN_CLASS', 'RA', 'DEC', 'MASK_FLAGS', 'BDF_MAG_DERED_G', 'BDF_MAG_DERED_R']\n",
    "deepData = fitsio.read(deepFile, columns = deepCols)\n",
    "\n",
    "deepRA = deepData['RA']\n",
    "deepDEC = deepData['DEC']\n",
    "deepG = deepData['BDF_MAG_DERED_G']\n",
    "deepGR = deepData['BDF_MAG_DERED_G'] - deepData['BDF_MAG_DERED_R']\n",
    "deepMasks = deepData['MASK_FLAGS']\n",
    "deepClass = deepData['KNN_CLASS']\n",
    "\n",
    "cutIndices = np.where((deepMasks == 0) &\n",
    "                      (deepGR <= 1) &\n",
    "                      (deepGR >= -0.3) &\n",
    "                      (deepClass == 2) &\n",
    "                      (deepG <= 25) &\n",
    "                      (deepG > 24))[0]\n",
    "\n",
    "deepRA = deepRA[cutIndices]\n",
    "deepDEC = deepDEC[cutIndices]\n",
    "deepPIXRepeats = hp.ang2pix(res, deepRA, deepDEC, lonlat = True, nest = True)"
   ]
  },
  {
   "cell_type": "code",
   "execution_count": 5,
   "id": "eb9e96bd-db7d-407e-9462-a41cddeac35f",
   "metadata": {},
   "outputs": [
    {
     "data": {
      "text/plain": [
       "441"
      ]
     },
     "execution_count": 5,
     "metadata": {},
     "output_type": "execute_result"
    }
   ],
   "source": [
    "len(deepRA)"
   ]
  },
  {
   "cell_type": "code",
   "execution_count": 6,
   "id": "af1f4ec4-0557-4a1c-b80a-7c9506f02f48",
   "metadata": {},
   "outputs": [],
   "source": [
    "dirTrain = '/hdfs/bechtol/balrog/y3/y3a2_survey_conditions_maps/Kyle_Stuff/training/'\n",
    "validPix = fitsio.read(dirTrain + 'Valid_512_Pixels.fits')['PIXEL']\n",
    "origStar = fitsio.read(dirTrain + 'Blue_24-25_Original_Map.fits')['SIGNAL']\n",
    "corrections = fitsio.read(dirTrain + 'Inter_Blue_24-25_Corrections_Map.fits')['SIGNAL']\n",
    "corrStar = origStar * corrections\n",
    "\n",
    "fullOrig = np.full(12*(res**2), hp.UNSEEN)\n",
    "fullOrig[validPix] = origStar\n",
    "\n",
    "fullCorr = np.full(12*(res**2), hp.UNSEEN)\n",
    "fullCorr[validPix] = corrStar"
   ]
  },
  {
   "cell_type": "code",
   "execution_count": 7,
   "id": "dd7339e4-99c0-456f-b968-25c55d68804b",
   "metadata": {},
   "outputs": [],
   "source": [
    "pixCut = []\n",
    "for i in range(len(deepPIXRepeats)):\n",
    "    if fullCorr[deepPIXRepeats[i]] != hp.UNSEEN:\n",
    "        pixCut.append(i)\n",
    "pixCut = np.array(pixCut) # Length of this will correspond to the number of deep objects.\n",
    "\n",
    "usedPix = np.unique(deepPIXRepeats[pixCut])"
   ]
  },
  {
   "cell_type": "code",
   "execution_count": 8,
   "id": "0e2af5eb-e27d-4f6b-bcf5-62179a16a5fb",
   "metadata": {},
   "outputs": [
    {
     "name": "stdout",
     "output_type": "stream",
     "text": [
      "5.573033707865169\n",
      "5.891030065731868\n"
     ]
    }
   ],
   "source": [
    "print(np.sum(fullOrig[usedPix]) / len(pixCut))\n",
    "print(np.sum(fullCorr[usedPix]) / len(pixCut))"
   ]
  }
 ],
 "metadata": {
  "kernelspec": {
   "display_name": "Python 3 (ipykernel)",
   "language": "python",
   "name": "python3"
  },
  "language_info": {
   "codemirror_mode": {
    "name": "ipython",
    "version": 3
   },
   "file_extension": ".py",
   "mimetype": "text/x-python",
   "name": "python",
   "nbconvert_exporter": "python",
   "pygments_lexer": "ipython3",
   "version": "3.9.12"
  }
 },
 "nbformat": 4,
 "nbformat_minor": 5
}
