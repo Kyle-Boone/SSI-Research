{
 "cells": [
  {
   "cell_type": "markdown",
   "id": "4c7c7c52-22e6-4fd4-8957-851f7fb56baf",
   "metadata": {},
   "source": [
    "# Overview and Goals:\n",
    "\n",
    "This will be an early iteration to see if I can get any improvement of classification schemes. For inputs, it will be important to consider the ratio of training stars to training galaxies. I'm not sure exactly what I want to do yet, but it will be a factor. Include quality and isochrone cuts, just like the real data would have. After that, inputs will consist of the psf (if I can obtain some numbers for this), different bands and different types of magnitude, measured size, original class given, essentially any object property that I also have access to in the GOLD catalog, probably flux, and every survey property from the measured detection pixel. Hold out a testing dataset, and when testing MAKE SURE to look at stars and galaxies separately. A high accuracy because everything is classified as a galaxy is unacceptable. Compare accuracy results to pre correction results. Consider doing an RNN, this should make the classification scheme unable to perform worse since it is already given the original class. For outputs, do a binary system. We could do floating points, but I think categorical cross entropy might work better for what I want to get out of this. For testing, also look at rates within multiple different color magnitude bins."
   ]
  },
  {
   "cell_type": "code",
   "execution_count": 1,
   "id": "d9ff5acf-2444-4897-9941-12671a087f03",
   "metadata": {},
   "outputs": [],
   "source": [
    "import numpy as np\n",
    "import tensorflow as tf\n",
    "# import keras\n",
    "# from keras import layers\n",
    "import StellarConfig as strConfig\n",
    "from matplotlib.path import Path\n",
    "import BalrogTestConfig as balrConfig\n",
    "import fitsio\n",
    "import healpy as hp\n",
    "import matplotlib.pyplot as plt"
   ]
  },
  {
   "cell_type": "code",
   "execution_count": 2,
   "id": "145d1104-c2d4-40c0-a520-9c8141cceed7",
   "metadata": {},
   "outputs": [],
   "source": [
    "baseDirectory = '/hdfs/bechtol/balrog/y3/y3a2_survey_conditions_maps/Kyle_Stuff/NeuralNetworkClassification/'"
   ]
  },
  {
   "cell_type": "code",
   "execution_count": 3,
   "id": "9d8cd123-757e-4b84-9e17-e77f89cc35da",
   "metadata": {},
   "outputs": [],
   "source": [
    "# This includes relevant object properties AND POSITIONS TO GET PIXELS\n",
    "starDataFile = baseDirectory + 'Star_Balrog_Data.fits'\n",
    "galaDataFile = baseDirectory + 'Galaxy_Balrog_Data.fits'"
   ]
  },
  {
   "cell_type": "markdown",
   "id": "8a10f998-5063-41c5-bf70-6f533763ae40",
   "metadata": {},
   "source": [
    "### 4096 Valid Pix (Only Run Once to Generate)"
   ]
  },
  {
   "cell_type": "code",
   "execution_count": 4,
   "id": "90273e5d-8540-4040-9041-408c90b26f50",
   "metadata": {},
   "outputs": [],
   "source": [
    "validPixFile = baseDirectory + 'Valid_Pixels_4096.fits'"
   ]
  },
  {
   "cell_type": "code",
   "execution_count": 5,
   "id": "633ddf27-abd4-4a64-acfe-889cc27e70fc",
   "metadata": {
    "jupyter": {
     "source_hidden": true
    },
    "tags": []
   },
   "outputs": [],
   "source": [
    "# origCondFiles = balrConfig.origCondFiles\n",
    "# stelFile = balrConfig.stelFile\n",
    "\n",
    "# validPix = np.full(12*(4096**2), True, dtype = bool)\n",
    "    \n",
    "# for file in origCondFiles:\n",
    "#     condData = fitsio.read(file) # This reads in the data.\n",
    "#     condSigExt = np.full(12*(4096**2), -1.6375e+30) # Gives a default value.\n",
    "#     condSigExt[condData['PIXEL']] = condData['SIGNAL'] # Changes all valid pixels to their corresponding signals.\n",
    "#     validPix[np.where(condSigExt < -100)] = False # An invalid survey property marks this pixel as false.\n",
    "\n",
    "# stelDensExt = fitsio.read(stelFile)['I'].flatten() # Loads in the stellar density.\n",
    "# validPix[np.where(stelDensExt < -100)] = False # Any non valid pixel has its value changed to False.\n",
    "\n",
    "# validPix = np.where(validPix)[0]"
   ]
  },
  {
   "cell_type": "code",
   "execution_count": 6,
   "id": "98054988-c910-4062-b5c4-ada0a23a01ad",
   "metadata": {
    "jupyter": {
     "source_hidden": true
    },
    "tags": []
   },
   "outputs": [],
   "source": [
    "# from astropy.table import Table\n",
    "\n",
    "# my_table = Table()\n",
    "# my_table['PIXELS'] = validPix\n",
    "# my_table.write(validPixFile, overwrite = True)"
   ]
  },
  {
   "cell_type": "code",
   "execution_count": 7,
   "id": "d85584df-cdbc-4e80-8c24-aac8adc06476",
   "metadata": {},
   "outputs": [],
   "source": [
    "validPix = fitsio.read(validPixFile)['PIXELS']"
   ]
  },
  {
   "cell_type": "code",
   "execution_count": 8,
   "id": "bffb35f7-96e2-4469-9b1a-9ecf6384f2ff",
   "metadata": {},
   "outputs": [],
   "source": [
    "def trainValTest(length, trainPer, valPer):\n",
    "    indices = np.arange(length)\n",
    "    np.random.shuffle(indices)\n",
    "    trainIndices = indices[0:int(trainPer*length)]\n",
    "    valIndices = indices[int(trainPer*length):int((trainPer + valPer)*length)]\n",
    "    testIndices = indices[int((trainPer + valPer)*length):]\n",
    "    return trainIndices, valIndices, testIndices"
   ]
  },
  {
   "cell_type": "markdown",
   "id": "f8880f1a-5dbc-42f9-aba1-30beb78a0eb4",
   "metadata": {},
   "source": [
    "### Parameters to Use (Appeared in Both Star and Galaxy Catalogs)\n",
    "\n",
    "meas_nimage_tot (4 bands)\n",
    "\n",
    "meas_flags OBSOLETE DO NOT USE (all the same value on my data).\n",
    "\n",
    "meas_box_size\n",
    "\n",
    "meas_obj_flags OBSOLETE DO NOT USE (all the same value on my data).\n",
    "\n",
    "meas_psf_flags (4 bands) OBSOLETE DO NOT USE (all the same value on my data).\n",
    "\n",
    "meas_psf_flux (4 bands)\n",
    "\n",
    "meas_psf_flux_err (4 bands)\n",
    "\n",
    "meas_psf_mag (4 bands)\n",
    "\n",
    "meas_psf_flux_s2n (4 bands)\n",
    "\n",
    "meas_nimage_use (4 bands)\n",
    "\n",
    "meas_mask_frac\n",
    "\n",
    "meas_gapflux (4 bands)\n",
    "\n",
    "meas_gapflags (4 bands) OBSOLETE DO NOT USE (all the same value on my data).\n",
    "\n",
    "meas_cm_flags OBSOLETE DO NOT USE (all the same value on my data).\n",
    "\n",
    "meas_cm_T\n",
    "\n",
    "meas_cm_T_err\n",
    "\n",
    "meas_cm_T_s2n\n",
    "\n",
    "meas_cm_flux (4 bands)\n",
    "\n",
    "meas_cm_flux_s2n (4 bands)\n",
    "\n",
    "meas_cm_mag (4 bands)\n",
    "\n",
    "meas_cm_logsb (4 bands)\n",
    "\n",
    "meas_cm_g (2 components)\n",
    "\n",
    "meas_cm_weight OBSOLETE DO NOT USE (all the same value on my data).\n",
    "\n",
    "meas_cm_chi2per\n",
    "\n",
    "meas_cm_dof\n",
    "\n",
    "meas_cm_fracdev\n",
    "\n",
    "meas_cm_fracdev_err\n",
    "\n",
    "meas_cm_TdByTe\n",
    "\n",
    "meas_EXTENDED_CLASS_SOF\n",
    "\n",
    "57 total object properties\n",
    "\n",
    "All 92 survey properties"
   ]
  },
  {
   "cell_type": "code",
   "execution_count": 9,
   "id": "d910953b-791c-4db4-9353-c3f650ce8e33",
   "metadata": {},
   "outputs": [],
   "source": [
    "parameterCount = 149"
   ]
  },
  {
   "cell_type": "code",
   "execution_count": 10,
   "id": "02185a20-bf15-40fa-a902-9bd1137193fa",
   "metadata": {},
   "outputs": [],
   "source": [
    "objectProps = ['meas_nimage_tot', 'meas_box_size',\n",
    "               'meas_psf_flux', 'meas_psf_flux_err', 'meas_psf_mag',\n",
    "               'meas_psf_flux_s2n', 'meas_nimage_use', 'meas_mask_frac', 'meas_gapflux',\n",
    "               'meas_cm_T', 'meas_cm_T_err',\n",
    "               'meas_cm_T_s2n', 'meas_cm_flux', 'meas_cm_flux_s2n', 'meas_cm_mag',\n",
    "               'meas_cm_logsb', 'meas_cm_g', 'meas_cm_chi2per',\n",
    "               'meas_cm_dof', 'meas_cm_fracdev', 'meas_cm_fracdev_err', 'meas_cm_TdByTe',\n",
    "               'meas_EXTENDED_CLASS_SOF']\n",
    "\n",
    "# Unnecessary for network, but needed for quality cuts\n",
    "positionProps = ['meas_ra', 'meas_dec']\n",
    "balrogID = ['bal_id']\n",
    "cutFlags = ['flags_foreground', 'flags_badregions', 'flags_footprint', 'match_flag_1.5_asec']\n",
    "\n",
    "# For galaxies only, to match to deep fields\n",
    "trueID = ['true_id']"
   ]
  },
  {
   "cell_type": "markdown",
   "id": "0a520eaf-e293-44e2-9e9a-8e95f6bd107b",
   "metadata": {},
   "source": [
    "### Cuts to Make:\n",
    "\n",
    "Color cut: cut to the phoenix isochrone. This model is not intended to be super general. Rather, it would be trained individually for each stellar stream. (Use magnitude corresponding to original class of star or galaxy).\n",
    "\n",
    "Magnitude cut: perform a maximum r magnitude cut at 24.5, as in current algorithms. (Use magnitude corresponding to original class of star or galaxy).\n",
    "\n",
    "Valid pix cut: self explanatory, cut to where the objects are in valid 4096 pixels.\n",
    "\n",
    "Quality cut: perform the quality cuts performed at other points in this algorithm (foreground, badregions, footprint, arcseconds, and class being above or equal to 0).\n",
    "\n",
    "Galaxy cut: obviously for balrog galaxies make sure they're modeled off of deep field galaxies."
   ]
  },
  {
   "cell_type": "code",
   "execution_count": 11,
   "id": "69322866-00c9-4dcf-bee1-e10291e90ffb",
   "metadata": {},
   "outputs": [],
   "source": [
    "res = 4096\n",
    "classCutoff = 1.5\n",
    "rMagCut = 24.5\n",
    "path = strConfig.path\n",
    "mu = strConfig.mu"
   ]
  },
  {
   "cell_type": "code",
   "execution_count": 12,
   "id": "5969770b-e658-4386-91a6-2522faaa3dfe",
   "metadata": {
    "jupyter": {
     "source_hidden": true
    },
    "tags": []
   },
   "outputs": [],
   "source": [
    "# matBalrStarFile = strConfig.matBalrStarFile\n",
    "# detBalrStarFile = strConfig.detBalrStarFile\n",
    "\n",
    "# matBalrGalaFile = strConfig.matBalrFile\n",
    "# detBalrGalaFile = strConfig.detBalrFile"
   ]
  },
  {
   "cell_type": "code",
   "execution_count": 13,
   "id": "1afeeeac-a713-4ceb-bd30-f465ca3e140b",
   "metadata": {
    "jupyter": {
     "source_hidden": true
    },
    "tags": []
   },
   "outputs": [],
   "source": [
    "# matStarData = fitsio.read(matBalrStarFile, columns = objectProps)\n",
    "# starCutFlags = fitsio.read(detBalrStarFile, columns = cutFlags)\n",
    "# starPositions = fitsio.read(matBalrStarFile, columns = positionProps)\n",
    "# matStarID = fitsio.read(matBalrStarFile, columns = balrogID)\n",
    "# detStarID = fitsio.read(detBalrStarFile, columns = balrogID)"
   ]
  },
  {
   "cell_type": "code",
   "execution_count": 14,
   "id": "7a7e8683-eace-4b01-811b-6cbc965117b3",
   "metadata": {
    "jupyter": {
     "source_hidden": true
    },
    "tags": []
   },
   "outputs": [],
   "source": [
    "# matGalaData = fitsio.read(matBalrGalaFile, columns = objectProps)\n",
    "# galaCutFlags = fitsio.read(detBalrGalaFile, columns = cutFlags)\n",
    "# galaPositions = fitsio.read(matBalrGalaFile, columns = positionProps)\n",
    "# matGalaID = fitsio.read(matBalrGalaFile, columns = balrogID)\n",
    "# detGalaID = fitsio.read(detBalrGalaFile, columns = balrogID)\n",
    "# galaTrueID = fitsio.read(matBalrGalaFile, columns = trueID)"
   ]
  },
  {
   "cell_type": "markdown",
   "id": "20bc31b1-bd67-4b4b-8d11-d8e93c8e567c",
   "metadata": {},
   "source": [
    "## Star Data"
   ]
  },
  {
   "cell_type": "code",
   "execution_count": 15,
   "id": "42251726-1750-4839-bcb6-a4ff751c3bbf",
   "metadata": {
    "jupyter": {
     "source_hidden": true
    },
    "tags": []
   },
   "outputs": [],
   "source": [
    "# STAR_GMAG = matStarData['meas_psf_mag'][:,0]\n",
    "# STAR_RMAG = matStarData['meas_psf_mag'][:,1]\n",
    "\n",
    "# STAR_CLASS = matStarData['meas_EXTENDED_CLASS_SOF']\n",
    "\n",
    "# STAR_GMAG_CM = matStarData['meas_cm_mag'][:,0]\n",
    "# STAR_RMAG_CM = matStarData['meas_cm_mag'][:,1]\n",
    "\n",
    "# STAR_GMAG[np.where(STAR_CLASS >= classCutoff)[0]] = STAR_GMAG_CM[np.where(STAR_CLASS >= classCutoff)[0]]\n",
    "# STAR_RMAG[np.where(STAR_CLASS >= classCutoff)[0]] = STAR_RMAG_CM[np.where(STAR_CLASS >= classCutoff)[0]]\n",
    "\n",
    "# STAR_RA = starPositions['meas_ra']\n",
    "# STAR_DEC = starPositions['meas_dec']\n",
    "# STAR_PIX = hp.ang2pix(res, STAR_RA, STAR_DEC, nest = True, lonlat = True)\n",
    "\n",
    "# STAR_MAT_ID = matStarID['bal_id']\n",
    "# STAR_MAT_SORT = STAR_MAT_ID.argsort()\n",
    "\n",
    "# STAR_FLAG_ID = detStarID['bal_id']\n",
    "\n",
    "# FOREGROUND = starCutFlags['flags_foreground']\n",
    "# BADREGIONS = starCutFlags['flags_badregions']\n",
    "# FOOTPRINT = starCutFlags['flags_footprint']\n",
    "# ARCSECONDS = starCutFlags['match_flag_1.5_asec']\n",
    "\n",
    "# FLAG_SORT = STAR_FLAG_ID.argsort()\n",
    "# STAR_FLAG_ID = STAR_FLAG_ID[FLAG_SORT]\n",
    "# FOREGROUND = FOREGROUND[FLAG_SORT]\n",
    "# BADREGIONS = BADREGIONS[FLAG_SORT]\n",
    "# FOOTPRINT = FOOTPRINT[FLAG_SORT]\n",
    "# ARCSECONDS = ARCSECONDS[FLAG_SORT]\n",
    "    \n",
    "# FLAG_CROP = np.isin(STAR_FLAG_ID, STAR_MAT_ID)\n",
    "\n",
    "# FOREGROUND = FOREGROUND[FLAG_CROP]\n",
    "# BADREGIONS = BADREGIONS[FLAG_CROP]\n",
    "# FOOTPRINT = FOOTPRINT[FLAG_CROP]\n",
    "# ARCSECONDS = ARCSECONDS[FLAG_CROP]\n",
    "\n",
    "# FOREGROUND_PAR = np.zeros_like(FOREGROUND)\n",
    "# BADREGIONS_PAR = np.zeros_like(FOREGROUND)\n",
    "# FOOTPRINT_PAR = np.zeros_like(FOREGROUND)\n",
    "# ARCSECONDS_PAR = np.zeros_like(FOREGROUND)\n",
    "\n",
    "# FOREGROUND_PAR[STAR_MAT_SORT] = FOREGROUND\n",
    "# BADREGIONS_PAR[STAR_MAT_SORT] = BADREGIONS\n",
    "# FOOTPRINT_PAR[STAR_MAT_SORT] = FOOTPRINT\n",
    "# ARCSECONDS_PAR[STAR_MAT_SORT] = ARCSECONDS\n",
    "\n",
    "# STAR_MG = STAR_GMAG - mu\n",
    "# STAR_GR = STAR_GMAG - STAR_RMAG\n",
    "\n",
    "# filterSelection=Path.contains_points(path,np.vstack((STAR_GR,STAR_MG)).T)\n",
    "\n",
    "# PIX_CUT = np.isin(STAR_PIX, validPix)\n",
    "\n",
    "# starCrop = np.where((FOREGROUND_PAR == 0) &\n",
    "#                     (BADREGIONS_PAR < 2) & \n",
    "#                     (FOOTPRINT_PAR == 1) &\n",
    "#                     (ARCSECONDS < 2) &\n",
    "#                     (STAR_RMAG <= rMagCut) &\n",
    "#                     (STAR_CLASS >= 0) &\n",
    "#                     (STAR_CLASS <= 3) & \n",
    "#                     (PIX_CUT) & \n",
    "#                     (filterSelection))[0]"
   ]
  },
  {
   "cell_type": "code",
   "execution_count": 16,
   "id": "ecc27577-fb14-4b0b-82d4-898addbd3c3e",
   "metadata": {
    "jupyter": {
     "source_hidden": true
    },
    "tags": []
   },
   "outputs": [],
   "source": [
    "# from astropy.table import Table\n",
    "\n",
    "# star_table = Table()\n",
    "# for prop in objectProps:\n",
    "#     star_table[prop] = matStarData[prop][starCrop]\n",
    "# for posProp in positionProps:\n",
    "#     star_table[posProp] = starPositions[posProp][starCrop]\n",
    "# star_table.write(starDataFile, overwrite = True)"
   ]
  },
  {
   "cell_type": "code",
   "execution_count": 17,
   "id": "7a712dec-9a32-4cc2-a32d-cd6d7e89907f",
   "metadata": {},
   "outputs": [],
   "source": [
    "starData = fitsio.read(starDataFile)"
   ]
  },
  {
   "cell_type": "markdown",
   "id": "b8b9cf8a-01cc-4e18-ac7e-23ead61ca6d1",
   "metadata": {},
   "source": [
    "## Galaxy Data"
   ]
  },
  {
   "cell_type": "code",
   "execution_count": 18,
   "id": "b29f45b0-bb9b-46dc-a4c1-e9477fe024b6",
   "metadata": {
    "jupyter": {
     "source_hidden": true
    },
    "tags": []
   },
   "outputs": [],
   "source": [
    "# deepFiles = strConfig.deepFiles\n",
    "\n",
    "# deepCols  = ['KNN_CLASS', 'ID']\n",
    "# deepID = []\n",
    "# deepClass= []\n",
    "\n",
    "# for deepFile in deepFiles:\n",
    "#     deepData = fitsio.read(deepFile, columns = deepCols)\n",
    "#     deepID.extend(deepData['ID'])\n",
    "#     deepClass.extend(deepData['KNN_CLASS'])\n",
    "\n",
    "# deepID = np.array(deepID)\n",
    "# deepClass = np.array(deepClass)\n",
    "\n",
    "# # This serves to make it easier to check the original classification of an object.\n",
    "# # This way I can simply check the classification by indexing to an ID number minus\n",
    "# # the minimum ID number to find the classification. This prevented having an overly\n",
    "# # large array but still has the speed advantage of indexing.\n",
    "# minID = np.min(deepID)\n",
    "# deepGalID = np.zeros(np.max(deepID) - minID + 1)\n",
    "# deepGalID[deepID - minID] = deepClass\n",
    "\n",
    "# GALA_GMAG = matGalaData['meas_psf_mag'][:,0]\n",
    "# GALA_RMAG = matGalaData['meas_psf_mag'][:,1]\n",
    "\n",
    "# GALA_CLASS = matGalaData['meas_EXTENDED_CLASS_SOF']\n",
    "\n",
    "# GALA_GMAG_CM = matGalaData['meas_cm_mag'][:,0]\n",
    "# GALA_RMAG_CM = matGalaData['meas_cm_mag'][:,1]\n",
    "\n",
    "# GALA_GMAG[np.where(GALA_CLASS >= classCutoff)[0]] = GALA_GMAG_CM[np.where(GALA_CLASS >= classCutoff)[0]]\n",
    "# GALA_RMAG[np.where(GALA_CLASS >= classCutoff)[0]] = GALA_RMAG_CM[np.where(GALA_CLASS >= classCutoff)[0]]\n",
    "\n",
    "# GALA_RA = galaPositions['meas_ra']\n",
    "# GALA_DEC = galaPositions['meas_dec']\n",
    "# GALA_PIX = hp.ang2pix(res, GALA_RA, GALA_DEC, nest = True, lonlat = True)\n",
    "\n",
    "# GALA_MAT_ID = matGalaID['bal_id']\n",
    "# GALA_TRUE_ID = galaTrueID['true_id']\n",
    "# GALA_MAT_SORT = GALA_MAT_ID.argsort()\n",
    "\n",
    "# GALA_FLAG_ID = detGalaID['bal_id']\n",
    "\n",
    "# FOREGROUND = galaCutFlags['flags_foreground']\n",
    "# BADREGIONS = galaCutFlags['flags_badregions']\n",
    "# FOOTPRINT = galaCutFlags['flags_footprint']\n",
    "# ARCSECONDS = galaCutFlags['match_flag_1.5_asec']\n",
    "\n",
    "# FLAG_SORT = GALA_FLAG_ID.argsort()\n",
    "# GALA_FLAG_ID = GALA_FLAG_ID[FLAG_SORT]\n",
    "# FOREGROUND = FOREGROUND[FLAG_SORT]\n",
    "# BADREGIONS = BADREGIONS[FLAG_SORT]\n",
    "# FOOTPRINT = FOOTPRINT[FLAG_SORT]\n",
    "# ARCSECONDS = ARCSECONDS[FLAG_SORT]\n",
    "    \n",
    "# FLAG_CROP = np.isin(GALA_FLAG_ID, GALA_MAT_ID)\n",
    "\n",
    "# FOREGROUND = FOREGROUND[FLAG_CROP]\n",
    "# BADREGIONS = BADREGIONS[FLAG_CROP]\n",
    "# FOOTPRINT = FOOTPRINT[FLAG_CROP]\n",
    "# ARCSECONDS = ARCSECONDS[FLAG_CROP]\n",
    "\n",
    "# FOREGROUND_PAR = np.zeros_like(FOREGROUND)\n",
    "# BADREGIONS_PAR = np.zeros_like(FOREGROUND)\n",
    "# FOOTPRINT_PAR = np.zeros_like(FOREGROUND)\n",
    "# ARCSECONDS_PAR = np.zeros_like(FOREGROUND)\n",
    "\n",
    "# FOREGROUND_PAR[GALA_MAT_SORT] = FOREGROUND\n",
    "# BADREGIONS_PAR[GALA_MAT_SORT] = BADREGIONS\n",
    "# FOOTPRINT_PAR[GALA_MAT_SORT] = FOOTPRINT\n",
    "# ARCSECONDS_PAR[GALA_MAT_SORT] = ARCSECONDS\n",
    "\n",
    "# GALA_MG = GALA_GMAG - mu\n",
    "# GALA_GR = GALA_GMAG - GALA_RMAG\n",
    "\n",
    "# filterSelection=Path.contains_points(path,np.vstack((GALA_GR,GALA_MG)).T)\n",
    "\n",
    "# PIX_CUT = np.isin(GALA_PIX, validPix)\n",
    "\n",
    "# galaCrop = np.where((FOREGROUND_PAR == 0) &\n",
    "#                     (BADREGIONS_PAR < 2) & \n",
    "#                     (FOOTPRINT_PAR == 1) &\n",
    "#                     (ARCSECONDS < 2) &\n",
    "#                     (GALA_RMAG <= rMagCut) &\n",
    "#                     (GALA_CLASS >= 0) &\n",
    "#                     (GALA_CLASS <= 3) & \n",
    "#                     (PIX_CUT) & \n",
    "#                     (filterSelection) &\n",
    "#                     (deepGalID[GALA_TRUE_ID - minID] == 1))[0]"
   ]
  },
  {
   "cell_type": "code",
   "execution_count": 19,
   "id": "6dad44c7-880b-4625-abe5-a8f085f4ed62",
   "metadata": {
    "jupyter": {
     "source_hidden": true
    },
    "tags": []
   },
   "outputs": [],
   "source": [
    "# from astropy.table import Table\n",
    "\n",
    "# gala_table = Table()\n",
    "# for prop in objectProps:\n",
    "#     gala_table[prop] = matGalaData[prop][galaCrop]\n",
    "# for posProp in positionProps:\n",
    "#     gala_table[posProp] = galaPositions[posProp][galaCrop]\n",
    "# gala_table.write(galaDataFile, overwrite = True)"
   ]
  },
  {
   "cell_type": "code",
   "execution_count": 20,
   "id": "faf1df9f-7252-4726-ac6b-f1b6adb27a87",
   "metadata": {},
   "outputs": [],
   "source": [
    "galaDataExt = fitsio.read(galaDataFile)"
   ]
  },
  {
   "cell_type": "code",
   "execution_count": 21,
   "id": "ce86f54b-6861-4166-9d6f-37fb13b5008e",
   "metadata": {},
   "outputs": [
    {
     "name": "stderr",
     "output_type": "stream",
     "text": [
      "2023-12-13 18:34:35.204408: I tensorflow/core/common_runtime/process_util.cc:146] Creating new thread pool with default inter op setting: 2. Tune using inter_op_parallelism_threads for best performance.\n"
     ]
    }
   ],
   "source": [
    "inputs = tf.keras.Input(shape=(parameterCount))\n",
    "\n",
    "x = tf.keras.layers.Dense(300, activation=\"relu\")(inputs)\n",
    "x = tf.keras.layers.Dense(300, activation=\"relu\")(x)\n",
    "skip_connection = inputs\n",
    "x = tf.keras.layers.concatenate([x, skip_connection])\n",
    "\n",
    "x = tf.keras.layers.Dense(100, activation=\"relu\")(x)\n",
    "x = tf.keras.layers.Dense(100, activation=\"relu\")(x)\n",
    "x = tf.keras.layers.concatenate([x, skip_connection])\n",
    "\n",
    "x = tf.keras.layers.Dense(30, activation=\"relu\")(x)\n",
    "x = tf.keras.layers.Dense(30, activation=\"relu\")(x)\n",
    "x = tf.keras.layers.concatenate([x, skip_connection])\n",
    "\n",
    "outputs = tf.keras.layers.Dense(2, activation = 'softmax')(x)"
   ]
  },
  {
   "cell_type": "code",
   "execution_count": 22,
   "id": "886b9613-c871-4c7f-be47-59d7a55182a0",
   "metadata": {},
   "outputs": [],
   "source": [
    "model = tf.keras.Model(inputs=inputs, outputs=outputs)"
   ]
  },
  {
   "cell_type": "code",
   "execution_count": 23,
   "id": "ca963730-01c6-49e6-8975-f08c98876f53",
   "metadata": {},
   "outputs": [],
   "source": [
    "# Two purposes of this: first, a speed up to not use every galaxy.\n",
    "# Secondly, it will make star and galaxy counts more similar to make the network perform more evenly?\n",
    "perGalasToUse = 0.6"
   ]
  },
  {
   "cell_type": "code",
   "execution_count": 24,
   "id": "7cbb4d29-f47d-4278-86d9-3bfbf36ef9fc",
   "metadata": {},
   "outputs": [
    {
     "data": {
      "text/plain": [
       "0.1977569426495906"
      ]
     },
     "execution_count": 24,
     "metadata": {},
     "output_type": "execute_result"
    }
   ],
   "source": [
    "len(starData) / (perGalasToUse*len(galaDataExt) + len(starData))"
   ]
  },
  {
   "cell_type": "code",
   "execution_count": 25,
   "id": "00fc0ead-b709-47de-aabf-cef6b0f88073",
   "metadata": {},
   "outputs": [],
   "source": [
    "useGalaInds = np.full(len(galaDataExt), False, dtype = bool)\n",
    "useGalaInds[0:int(perGalasToUse*len(galaDataExt))] = True\n",
    "np.random.shuffle(useGalaInds)"
   ]
  },
  {
   "cell_type": "code",
   "execution_count": 26,
   "id": "c2b9983a-7d7e-4bcc-a837-f8f2a46e1a39",
   "metadata": {},
   "outputs": [],
   "source": [
    "galaData = galaDataExt[useGalaInds]"
   ]
  },
  {
   "cell_type": "code",
   "execution_count": 27,
   "id": "7f7419ec-0aac-42db-bc96-62a1a2e562b8",
   "metadata": {},
   "outputs": [],
   "source": [
    "trainGala, valGala, testGala = trainValTest(len(galaData), 0.8, 0.1)"
   ]
  },
  {
   "cell_type": "code",
   "execution_count": 28,
   "id": "b72dc782-93d4-447a-89a9-0a09f2384688",
   "metadata": {},
   "outputs": [],
   "source": [
    "trainStar, valStar, testStar = trainValTest(len(starData), 0.8, 0.1)"
   ]
  },
  {
   "cell_type": "markdown",
   "id": "5ca1e777-1bfc-4877-a5a7-f702df117449",
   "metadata": {},
   "source": [
    "# NEXT STEPS:\n",
    "\n",
    "Crop data, maybe do some shuffling to get a random distribution (not entirely sure how batches are picked by keras). Then add in survey property data based on positional data and run some training."
   ]
  },
  {
   "cell_type": "code",
   "execution_count": 29,
   "id": "42188c85-2e67-4afb-8327-2d12fa437f31",
   "metadata": {},
   "outputs": [],
   "source": [
    "galaPix = hp.ang2pix(res, galaData[positionProps[0]], galaData[positionProps[1]], nest = True, lonlat = True)"
   ]
  },
  {
   "cell_type": "code",
   "execution_count": 30,
   "id": "194a4e4b-04b7-4347-bf86-331d94662690",
   "metadata": {},
   "outputs": [],
   "source": [
    "starPix = hp.ang2pix(res, starData[positionProps[0]], starData[positionProps[1]], nest = True, lonlat = True)"
   ]
  },
  {
   "cell_type": "code",
   "execution_count": 31,
   "id": "8a4d5d0b-d741-4831-bb7f-4535995aafad",
   "metadata": {},
   "outputs": [],
   "source": [
    "galaSurveyProps = np.zeros((92, len(galaPix)), dtype = float)\n",
    "starSurveyProps = np.zeros((92, len(starPix)), dtype = float)\n",
    "\n",
    "origCondFiles = balrConfig.origCondFiles\n",
    "stelFile = balrConfig.stelFile\n",
    "    \n",
    "for i in range(len(origCondFiles)):\n",
    "    condData = fitsio.read(origCondFiles[i]) # This reads in the data.\n",
    "    condSigExt = np.full(12*(4096**2), -1.6375e+30) # Gives a default value.\n",
    "    condSigExt[condData['PIXEL']] = condData['SIGNAL'] # Changes all valid pixels to their corresponding signals.\n",
    "    galaSurveyProps[i] = condSigExt[galaPix]\n",
    "    starSurveyProps[i] = condSigExt[starPix]\n",
    "\n",
    "stelDensExt = fitsio.read(stelFile)['I'].flatten() # Loads in the stellar density.\n",
    "galaSurveyProps[-1] = stelDensExt[galaPix]\n",
    "starSurveyProps[-1] = stelDensExt[starPix]"
   ]
  },
  {
   "cell_type": "code",
   "execution_count": 32,
   "id": "e27012d8-8641-4538-87dc-160e3fe5d7cc",
   "metadata": {},
   "outputs": [],
   "source": [
    "galaObjectProps = np.zeros((parameterCount - 92, len(galaPix)), dtype = float)\n",
    "initial_index = 0\n",
    "final_index = 0\n",
    "while initial_index < len(objectProps):\n",
    "    \n",
    "    if type(galaData[objectProps[initial_index]][0]) == np.ndarray:\n",
    "        for j in range(len(galaData[objectProps[initial_index]][0])):\n",
    "            galaObjectProps[final_index] = galaData[objectProps[initial_index]][:,j]\n",
    "            final_index += 1\n",
    "    else:\n",
    "        galaObjectProps[final_index] = galaData[objectProps[initial_index]]\n",
    "        final_index += 1\n",
    "        \n",
    "    initial_index += 1"
   ]
  },
  {
   "cell_type": "code",
   "execution_count": 33,
   "id": "b3bdc72a-3413-43f8-a3bf-40201244e101",
   "metadata": {},
   "outputs": [],
   "source": [
    "starObjectProps = np.zeros((parameterCount - 92, len(starPix)), dtype = float)\n",
    "initial_index = 0\n",
    "final_index = 0\n",
    "while initial_index < len(objectProps):\n",
    "    \n",
    "    if type(starData[objectProps[initial_index]][0]) == np.ndarray:\n",
    "        for j in range(len(starData[objectProps[initial_index]][0])):\n",
    "            starObjectProps[final_index] = starData[objectProps[initial_index]][:,j]\n",
    "            final_index += 1\n",
    "    else:\n",
    "        starObjectProps[final_index] = starData[objectProps[initial_index]]\n",
    "        final_index += 1\n",
    "        \n",
    "    initial_index += 1"
   ]
  },
  {
   "cell_type": "code",
   "execution_count": 34,
   "id": "8d5c2d7c-9c32-4a82-9ee0-cb8904bb82fc",
   "metadata": {},
   "outputs": [],
   "source": [
    "condMeans = np.zeros(92, dtype = float)\n",
    "condStds = np.zeros(92, dtype = float)\n",
    "\n",
    "objMeans = np.zeros(parameterCount - 92, dtype = float)\n",
    "objStds = np.zeros(parameterCount - 92, dtype = float)\n",
    "\n",
    "for i in range(len(condMeans)):\n",
    "    condMeans[i] = np.average(np.append(galaSurveyProps[i], starSurveyProps[i]))\n",
    "    condStds[i] = np.std(np.append(galaSurveyProps[i], starSurveyProps[i]))\n",
    "    \n",
    "for i in range(len(objMeans)):\n",
    "    objMeans[i] = np.average(np.append(galaObjectProps[i], starObjectProps[i]))\n",
    "    objStds[i] = np.std(np.append(galaObjectProps[i], starObjectProps[i]))"
   ]
  },
  {
   "cell_type": "code",
   "execution_count": 35,
   "id": "3050a1e3-f03e-4fd6-99eb-50e3a9eeff42",
   "metadata": {},
   "outputs": [],
   "source": [
    "normedGalaData = np.zeros((parameterCount, len(galaPix)), dtype = float)\n",
    "for i in range(parameterCount):\n",
    "    if i < 92:\n",
    "        normedGalaData[i] = (galaSurveyProps[i] - condMeans[i]) / condStds[i]\n",
    "    else:\n",
    "        normedGalaData[i] = (galaObjectProps[i-92] - objMeans[i-92]) / objStds[i-92]\n",
    "normedGalaData = normedGalaData.T\n",
    "        \n",
    "normedStarData = np.zeros((parameterCount, len(starPix)), dtype = float)\n",
    "for i in range(parameterCount):\n",
    "    if i < 92:\n",
    "        normedStarData[i] = (starSurveyProps[i] - condMeans[i]) / condStds[i]\n",
    "    else:\n",
    "        normedStarData[i] = (starObjectProps[i-92] - objMeans[i-92]) / objStds[i-92]\n",
    "normedStarData = normedStarData.T"
   ]
  },
  {
   "cell_type": "code",
   "execution_count": 36,
   "id": "c7a18d92-b138-4c56-bbba-bdb525c661d0",
   "metadata": {},
   "outputs": [],
   "source": [
    "galaTrain = normedGalaData[trainGala]\n",
    "galaVal = normedGalaData[valGala]\n",
    "galaTest = normedGalaData[testGala]\n",
    "\n",
    "starTrain = normedStarData[trainStar]\n",
    "starVal = normedStarData[valStar]\n",
    "starTest = normedStarData[testStar]"
   ]
  },
  {
   "cell_type": "markdown",
   "id": "209aaf15-9c8d-42e2-b2f1-f05cbcf2c6e7",
   "metadata": {},
   "source": [
    "## Classification Scheme:\n",
    "\n",
    "[1, 0] = Galaxy\n",
    "\n",
    "[0, 1] = Star"
   ]
  },
  {
   "cell_type": "code",
   "execution_count": 37,
   "id": "0b06f3a9-f057-4e83-bcb2-aa0590a3cb19",
   "metadata": {},
   "outputs": [],
   "source": [
    "newClassifiers = np.unique(starTest[:,-1])"
   ]
  },
  {
   "cell_type": "code",
   "execution_count": 38,
   "id": "710ab715-c5f0-467b-8b12-2e836de11076",
   "metadata": {},
   "outputs": [],
   "source": [
    "XTrain = np.append(galaTrain, starTrain, axis = 0)\n",
    "\n",
    "YTrain0 = np.full(len(XTrain), True, dtype = bool)\n",
    "YTrain0[len(galaTrain):] = False\n",
    "\n",
    "YTrain1 = ~YTrain0\n",
    "\n",
    "YTrain = np.zeros((len(XTrain), 2))\n",
    "YTrain[:,0] = YTrain0.astype(int)\n",
    "YTrain[:,1] = YTrain1.astype(int)\n",
    "\n",
    "trainShuffle = np.arange(len(YTrain))\n",
    "np.random.shuffle(trainShuffle)\n",
    "\n",
    "XTrain = XTrain[trainShuffle]\n",
    "YTrain = YTrain[trainShuffle]\n",
    "\n",
    "XVal = np.append(galaVal, starVal, axis = 0)\n",
    "\n",
    "YVal0 = np.full(len(XVal), True, dtype = bool)\n",
    "YVal0[len(galaVal):] = False\n",
    "\n",
    "YVal1 = ~YVal0\n",
    "\n",
    "YVal = np.zeros((len(XVal), 2))\n",
    "YVal[:,0] = YVal0.astype(int)\n",
    "YVal[:,1] = YVal1.astype(int)"
   ]
  },
  {
   "cell_type": "code",
   "execution_count": 39,
   "id": "0eecb223-a661-4f61-8f95-2635e75a8fb1",
   "metadata": {},
   "outputs": [],
   "source": [
    "model.compile(loss='categorical_crossentropy', optimizer='adam', metrics=['accuracy'])"
   ]
  },
  {
   "cell_type": "code",
   "execution_count": 40,
   "id": "fb25f7dc-1de6-4ff4-9b99-43b177a52a80",
   "metadata": {},
   "outputs": [
    {
     "data": {
      "text/plain": [
       "0.7099513341164625"
      ]
     },
     "execution_count": 40,
     "metadata": {},
     "output_type": "execute_result"
    }
   ],
   "source": [
    "initialStarAccuracy = len(np.where(starTest[:,-1] < np.average(newClassifiers))[0]) / len(starTest)\n",
    "initialStarAccuracy"
   ]
  },
  {
   "cell_type": "code",
   "execution_count": 41,
   "id": "ef50687a-70a8-4d6c-aa7a-32ddc5606f49",
   "metadata": {},
   "outputs": [
    {
     "data": {
      "text/plain": [
       "0.9300890227355462"
      ]
     },
     "execution_count": 41,
     "metadata": {},
     "output_type": "execute_result"
    }
   ],
   "source": [
    "initialGalaAccuracy = len(np.where(galaTest[:,-1] > np.average(newClassifiers))[0]) / len(galaTest)\n",
    "initialGalaAccuracy"
   ]
  },
  {
   "cell_type": "code",
   "execution_count": null,
   "id": "b6b0bf62-f9c0-4d58-a91e-8297f195f2d0",
   "metadata": {
    "tags": []
   },
   "outputs": [
    {
     "name": "stdout",
     "output_type": "stream",
     "text": [
      "Epoch 1/30\n",
      "24106/24106 [==============================] - ETA: 0s - loss: 0.2440 - accuracy: 0.9058\n",
      "Epoch 1: val_accuracy improved from -inf to 0.91019, saving model to SavedModels/60_Percent_of_Galaxies\n",
      "24106/24106 [==============================] - 558s 23ms/step - loss: 0.2440 - accuracy: 0.9058 - val_loss: 0.2331 - val_accuracy: 0.9102\n",
      "Epoch 2/30\n",
      "24105/24106 [============================>.] - ETA: 0s - loss: 0.2297 - accuracy: 0.9111\n",
      "Epoch 2: val_accuracy improved from 0.91019 to 0.91156, saving model to SavedModels/60_Percent_of_Galaxies\n",
      "24106/24106 [==============================] - 580s 24ms/step - loss: 0.2297 - accuracy: 0.9111 - val_loss: 0.2291 - val_accuracy: 0.9116\n",
      "Epoch 3/30\n",
      "24106/24106 [==============================] - ETA: 0s - loss: 0.2251 - accuracy: 0.9127\n",
      "Epoch 3: val_accuracy improved from 0.91156 to 0.91243, saving model to SavedModels/60_Percent_of_Galaxies\n",
      "24106/24106 [==============================] - 588s 24ms/step - loss: 0.2251 - accuracy: 0.9127 - val_loss: 0.2277 - val_accuracy: 0.9124\n",
      "Epoch 4/30\n",
      "24105/24106 [============================>.] - ETA: 0s - loss: 0.2217 - accuracy: 0.9140\n",
      "Epoch 4: val_accuracy improved from 0.91243 to 0.91352, saving model to SavedModels/60_Percent_of_Galaxies\n",
      "24106/24106 [==============================] - 601s 25ms/step - loss: 0.2217 - accuracy: 0.9140 - val_loss: 0.2254 - val_accuracy: 0.9135\n",
      "Epoch 5/30\n",
      "24104/24106 [============================>.] - ETA: 0s - loss: 0.2182 - accuracy: 0.9151\n",
      "Epoch 5: val_accuracy did not improve from 0.91352\n",
      "24106/24106 [==============================] - 586s 24ms/step - loss: 0.2182 - accuracy: 0.9151 - val_loss: 0.2272 - val_accuracy: 0.9135\n",
      "Epoch 6/30\n",
      "24106/24106 [==============================] - ETA: 0s - loss: 0.2151 - accuracy: 0.9162\n",
      "Epoch 6: val_accuracy improved from 0.91352 to 0.91452, saving model to SavedModels/60_Percent_of_Galaxies\n",
      "24106/24106 [==============================] - 556s 23ms/step - loss: 0.2151 - accuracy: 0.9162 - val_loss: 0.2240 - val_accuracy: 0.9145\n",
      "Epoch 7/30\n",
      "24105/24106 [============================>.] - ETA: 0s - loss: 0.2125 - accuracy: 0.9170\n",
      "Epoch 7: val_accuracy improved from 0.91452 to 0.91523, saving model to SavedModels/60_Percent_of_Galaxies\n",
      "24106/24106 [==============================] - 465s 19ms/step - loss: 0.2125 - accuracy: 0.9170 - val_loss: 0.2209 - val_accuracy: 0.9152\n",
      "Epoch 8/30\n",
      "24106/24106 [==============================] - ETA: 0s - loss: 0.2101 - accuracy: 0.9177\n",
      "Epoch 8: val_accuracy did not improve from 0.91523\n",
      "24106/24106 [==============================] - 465s 19ms/step - loss: 0.2101 - accuracy: 0.9177 - val_loss: 0.2185 - val_accuracy: 0.9146\n",
      "Epoch 9/30\n",
      "24104/24106 [============================>.] - ETA: 0s - loss: 0.2079 - accuracy: 0.9184\n",
      "Epoch 9: val_accuracy improved from 0.91523 to 0.91588, saving model to SavedModels/60_Percent_of_Galaxies\n",
      "24106/24106 [==============================] - 473s 20ms/step - loss: 0.2079 - accuracy: 0.9184 - val_loss: 0.2154 - val_accuracy: 0.9159\n",
      "Epoch 10/30\n",
      "24106/24106 [==============================] - ETA: 0s - loss: 0.2178 - accuracy: 0.9191\n",
      "Epoch 10: val_accuracy improved from 0.91588 to 0.91601, saving model to SavedModels/60_Percent_of_Galaxies\n",
      "24106/24106 [==============================] - 468s 19ms/step - loss: 0.2178 - accuracy: 0.9191 - val_loss: 0.2152 - val_accuracy: 0.9160\n",
      "Epoch 11/30\n",
      "24106/24106 [==============================] - ETA: 0s - loss: 0.2045 - accuracy: 0.9196\n",
      "Epoch 11: val_accuracy improved from 0.91601 to 0.91692, saving model to SavedModels/60_Percent_of_Galaxies\n",
      "24106/24106 [==============================] - 464s 19ms/step - loss: 0.2045 - accuracy: 0.9196 - val_loss: 0.2199 - val_accuracy: 0.9169\n",
      "Epoch 12/30\n",
      "16888/24106 [====================>.........] - ETA: 2:14 - loss: 0.2028 - accuracy: 0.9196"
     ]
    }
   ],
   "source": [
    "checkpointFile = r'SavedModels/60_Percent_of_Galaxies'\n",
    "\n",
    "modelCheckpointCallback = tf.keras.callbacks.ModelCheckpoint(\n",
    "    filepath=checkpointFile,\n",
    "    monitor='val_accuracy',\n",
    "    verbose=1,\n",
    "    mode='max',\n",
    "    save_best_only=True,\n",
    "    save_weights_only=True)\n",
    "\n",
    "model.fit(XTrain, YTrain, epochs=30, batch_size=50, validation_data=(XVal, YVal), callbacks=[modelCheckpointCallback])\n",
    "# model.fit(XTrain, YTrain, epochs=30, batch_size=100, validation_data=(XVal, YVal), callbacks=[modelCheckpointCallback])\n",
    "# model.fit(XTrain, YTrain, epochs=30, batch_size=500, validation_data=(XVal, YVal), callbacks=[modelCheckpointCallback])\n",
    "# model.fit(XTrain, YTrain, epochs=30, batch_size=2500, validation_data=(XVal, YVal), callbacks=[modelCheckpointCallback])"
   ]
  },
  {
   "cell_type": "code",
   "execution_count": null,
   "id": "e3f29c5b-da22-4b75-8663-752f991ba18a",
   "metadata": {},
   "outputs": [],
   "source": [
    "YStarTest0 = np.zeros(len(starTest))\n",
    "YStarTest1 = np.ones(len(starTest))\n",
    "YStarTest = np.zeros((len(starTest), 2))\n",
    "YStarTest[:,0] = YStarTest0\n",
    "YStarTest[:,1] = YStarTest1"
   ]
  },
  {
   "cell_type": "code",
   "execution_count": null,
   "id": "f5c04fe7-5f51-4e61-acf2-186ebe3a4cba",
   "metadata": {},
   "outputs": [],
   "source": [
    "starScore = model.evaluate(starTest, YStarTest, verbose=0)\n",
    "print(\"Test loss:\", format(starScore[0],\".4f\"))\n",
    "print(\"Test accuracy:\", format(starScore[1],\".5f\"))"
   ]
  },
  {
   "cell_type": "code",
   "execution_count": null,
   "id": "b9e62c82-476a-438b-9dc8-ff644285f68f",
   "metadata": {},
   "outputs": [],
   "source": [
    "YGalaTest0 = np.ones(len(galaTest))\n",
    "YGalaTest1 = np.zeros(len(galaTest))\n",
    "YGalaTest = np.zeros((len(galaTest), 2))\n",
    "YGalaTest[:,0] = YGalaTest0\n",
    "YGalaTest[:,1] = YGalaTest1"
   ]
  },
  {
   "cell_type": "code",
   "execution_count": null,
   "id": "c1eeab66-b4ab-4722-a89b-d795f018171e",
   "metadata": {},
   "outputs": [],
   "source": [
    "galaScore = model.evaluate(galaTest, YGalaTest, verbose=0)\n",
    "print(\"Test loss:\", format(galaScore[0],\".4f\"))\n",
    "print(\"Test accuracy:\", format(galaScore[1],\".5f\"))"
   ]
  },
  {
   "cell_type": "code",
   "execution_count": null,
   "id": "5e702725-d035-4af0-8b37-794c2118b588",
   "metadata": {},
   "outputs": [],
   "source": []
  }
 ],
 "metadata": {
  "kernelspec": {
   "display_name": "Python 3 (ipykernel)",
   "language": "python",
   "name": "python3"
  },
  "language_info": {
   "codemirror_mode": {
    "name": "ipython",
    "version": 3
   },
   "file_extension": ".py",
   "mimetype": "text/x-python",
   "name": "python",
   "nbconvert_exporter": "python",
   "pygments_lexer": "ipython3",
   "version": "3.9.12"
  }
 },
 "nbformat": 4,
 "nbformat_minor": 5
}
