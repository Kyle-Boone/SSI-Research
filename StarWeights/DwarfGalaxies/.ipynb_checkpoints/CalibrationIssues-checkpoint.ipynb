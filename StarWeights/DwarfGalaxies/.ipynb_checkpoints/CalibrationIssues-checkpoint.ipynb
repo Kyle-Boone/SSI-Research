{
 "cells": [
  {
   "cell_type": "markdown",
   "id": "2f49dc30-4c8c-4eba-a2d1-ad72a563f8fa",
   "metadata": {},
   "source": [
    "# Objective:\n",
    "\n",
    "This is trying to determine if our current methods will decrease the number of false positives "
   ]
  }
 ],
 "metadata": {
  "kernelspec": {
   "display_name": "Python 3 (ipykernel)",
   "language": "python",
   "name": "python3"
  },
  "language_info": {
   "codemirror_mode": {
    "name": "ipython",
    "version": 3
   },
   "file_extension": ".py",
   "mimetype": "text/x-python",
   "name": "python",
   "nbconvert_exporter": "python",
   "pygments_lexer": "ipython3",
   "version": "3.9.12"
  }
 },
 "nbformat": 4,
 "nbformat_minor": 5
}
