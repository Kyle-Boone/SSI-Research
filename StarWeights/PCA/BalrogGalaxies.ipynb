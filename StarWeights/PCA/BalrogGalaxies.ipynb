{
 "cells": [
  {
   "cell_type": "code",
   "execution_count": 1,
   "id": "541df816-e40d-4557-9101-aa47d6f3b4c3",
   "metadata": {},
   "outputs": [],
   "source": [
    "# This program serves to isolate and store the balrog galaxies that pass quality cuts."
   ]
  },
  {
   "cell_type": "code",
   "execution_count": 2,
   "id": "99632b60-6b88-4012-9c47-bdb3f95addbb",
   "metadata": {},
   "outputs": [],
   "source": [
    "import numpy as np\n",
    "import fitsio\n",
    "import astropy.io.fits as fits\n",
    "from astropy.table import Table"
   ]
  },
  {
   "cell_type": "code",
   "execution_count": 3,
   "id": "700db0e1-ffbb-44f3-b224-733df49c5b57",
   "metadata": {},
   "outputs": [],
   "source": [
    "deepFile1 = '/hdfs/bechtol/balrog/y3_deep_fields/y3_deep_fields_catalog/deepfields_000001.fits'\n",
    "deepFile2 = '/hdfs/bechtol/balrog/y3_deep_fields/y3_deep_fields_catalog/deepfields_000002.fits'\n",
    "deepFile3 = '/hdfs/bechtol/balrog/y3_deep_fields/y3_deep_fields_catalog/deepfields_000003.fits'\n",
    "deepFile4 = '/hdfs/bechtol/balrog/y3_deep_fields/y3_deep_fields_catalog/deepfields_000004.fits'\n",
    "deepFile5 = '/hdfs/bechtol/balrog/y3_deep_fields/y3_deep_fields_catalog/deepfields_000005.fits'\n",
    "deepCols  = ['KNN_CLASS', 'ID']\n",
    "deepData1 = fitsio.read(deepFile1, columns = deepCols)\n",
    "deepData2 = fitsio.read(deepFile2, columns = deepCols)\n",
    "deepData3 = fitsio.read(deepFile3, columns = deepCols)\n",
    "deepData4 = fitsio.read(deepFile4, columns = deepCols)\n",
    "deepData5 = fitsio.read(deepFile5, columns = deepCols)\n",
    "\n",
    "deepID = []\n",
    "deepID.extend(list(deepData1['ID']))\n",
    "deepID.extend(deepData2['ID'])\n",
    "deepID.extend(deepData3['ID'])\n",
    "deepID.extend(deepData4['ID'])\n",
    "deepID.extend(deepData5['ID'])\n",
    "deepID = np.array(deepID)\n",
    "\n",
    "deepClass = []\n",
    "deepClass.extend(deepData1['KNN_CLASS'])\n",
    "deepClass.extend(deepData2['KNN_CLASS'])\n",
    "deepClass.extend(deepData3['KNN_CLASS'])\n",
    "deepClass.extend(deepData4['KNN_CLASS'])\n",
    "deepClass.extend(deepData5['KNN_CLASS'])\n",
    "deepClass = np.array(deepClass)"
   ]
  },
  {
   "cell_type": "code",
   "execution_count": 4,
   "id": "3983d300-8a8c-47f8-99c3-19696bae25a3",
   "metadata": {},
   "outputs": [],
   "source": [
    "minID = np.min(deepID)\n",
    "deepGalID = np.zeros(np.max(deepID) - minID + 1)\n",
    "deepGalID[deepID - minID] = deepClass # To access the class at an id, do id - minID for indexing."
   ]
  },
  {
   "cell_type": "code",
   "execution_count": 5,
   "id": "d5352d0a-1cbe-4d25-864b-43cc60003673",
   "metadata": {},
   "outputs": [],
   "source": [
    "# ssiFile = '/hdfs/bechtol/balrog/y3/balrog_matched_catalog_sof_y3-merged_v1.2.fits'\n",
    "# ssiCols = ['true_id', 'bal_id', true_bdf_mag_deredden', 'meas_EXTENDED_CLASS_SOF', 'true_ra', 'true_dec']\n",
    "# ssiData = fitsio.read(ssiFile, columnns = ssiCols)"
   ]
  },
  {
   "cell_type": "code",
   "execution_count": 6,
   "id": "b2341a36-2b1d-49bc-95be-0ce73fb7a77c",
   "metadata": {},
   "outputs": [],
   "source": [
    "balrData = fits.open(\"/hdfs/bechtol/balrog/y3/balrog_detection_catalog_sof_y3-merged_v1.2.fits\")[1].data"
   ]
  },
  {
   "cell_type": "code",
   "execution_count": 7,
   "id": "08789c75-7ecb-449c-af13-877906496493",
   "metadata": {},
   "outputs": [],
   "source": [
    "ssiID = balrData['true_id']\n",
    "RA = balrData['true_ra']\n",
    "DEC = balrData['true_dec']\n",
    "CLASS = balrData['meas_EXTENDED_CLASS_SOF']\n",
    "GMAG = balrData['true_bdf_mag_deredden'][:,0]\n",
    "\n",
    "RMAG = balrData['true_bdf_mag_deredden'][:,1]\n",
    "DETECTED = balrData['detected']\n",
    "FOREGROUND = balrData['flags_foreground']\n",
    "BADREGIONS = balrData['flags_badregions']\n",
    "FOOTPRINT = balrData['flags_footprint']\n",
    "ARCSECONDS = balrData['match_flag_1.5_asec']\n",
    "\n",
    "cutIndices = np.where((DETECTED == 1) &\n",
    "                      (FOREGROUND == 0) & \n",
    "                      (BADREGIONS < 2) & \n",
    "                      (FOOTPRINT == 1) & \n",
    "                      (ARCSECONDS < 2) &\n",
    "                      (CLASS >= 0) &\n",
    "                      (GMAG - RMAG >= -0.3) &\n",
    "                      (GMAG - RMAG <= 1))[0]\n",
    "\n",
    "ssiID = ssiID[cutIndices]\n",
    "RA = RA[cutIndices]\n",
    "DEC = DEC[cutIndices]\n",
    "CLASS = CLASS[cutIndices]\n",
    "GMAG = GMAG[cutIndices]\n",
    "\n",
    "ssiTrueClass = deepGalID[ssiID - minID]\n",
    "useInds = np.where(ssiTrueClass == 1)[0]\n",
    "\n",
    "RA = RA[useInds]\n",
    "DEC = DEC[useInds]\n",
    "CLASS = CLASS[useInds]\n",
    "GMAG = GMAG[useInds]"
   ]
  },
  {
   "cell_type": "code",
   "execution_count": 8,
   "id": "1d286723-bad7-4b50-a920-a74173882e69",
   "metadata": {},
   "outputs": [],
   "source": [
    "file = '/hdfs/bechtol/balrog/y3/y3a2_survey_conditions_maps/Kyle_Stuff/GalaxyContamination/'"
   ]
  },
  {
   "cell_type": "code",
   "execution_count": 9,
   "id": "5bd5241f-53f5-4a95-b69e-d7c152df4a6b",
   "metadata": {},
   "outputs": [],
   "source": [
    "my_table = Table()\n",
    "my_table['RA'] = RA\n",
    "my_table['DEC'] = DEC\n",
    "my_table['GMAG'] = GMAG\n",
    "my_table['CLASS'] = CLASS\n",
    "my_table.write(file + 'Blue_Galaxies.fits', overwrite = True)"
   ]
  },
  {
   "cell_type": "code",
   "execution_count": 12,
   "id": "cb7023a2-f861-4bcd-89ad-ff8c8de6e1c6",
   "metadata": {},
   "outputs": [],
   "source": [
    "# This leaves about 5 million objects to perform analysis on."
   ]
  },
  {
   "cell_type": "code",
   "execution_count": null,
   "id": "af215452-c660-4cb7-83b8-0c58d47e7324",
   "metadata": {},
   "outputs": [],
   "source": []
  }
 ],
 "metadata": {
  "kernelspec": {
   "display_name": "Python 3 (ipykernel)",
   "language": "python",
   "name": "python3"
  },
  "language_info": {
   "codemirror_mode": {
    "name": "ipython",
    "version": 3
   },
   "file_extension": ".py",
   "mimetype": "text/x-python",
   "name": "python",
   "nbconvert_exporter": "python",
   "pygments_lexer": "ipython3",
   "version": "3.9.12"
  }
 },
 "nbformat": 4,
 "nbformat_minor": 5
}
