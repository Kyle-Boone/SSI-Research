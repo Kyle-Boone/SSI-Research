{
 "cells": [
  {
   "cell_type": "markdown",
   "id": "4675f3f5-2a93-42ba-9ef2-56cb3e7cc5ae",
   "metadata": {},
   "source": [
    "# ORDER TO RUN\n",
    "\n",
    "ValidPixels\n",
    "\n",
    "CroppingData\n",
    "\n",
    "Training\n",
    "\n",
    "FullMap\n",
    "\n",
    "Correcting"
   ]
  },
  {
   "cell_type": "code",
   "execution_count": 1,
   "id": "e6800ef3-94a9-44b7-a183-13ad375dac10",
   "metadata": {},
   "outputs": [],
   "source": [
    "import numpy as np\n",
    "from numpy import savetxt\n",
    "from numpy import loadtxt\n",
    "import fitsio\n",
    "import healpy as hp\n",
    "import matplotlib.pyplot as plt\n",
    "import Config"
   ]
  },
  {
   "cell_type": "code",
   "execution_count": 2,
   "id": "0172b189-93d0-4633-a02d-2b75a002785b",
   "metadata": {},
   "outputs": [],
   "source": [
    "res = 4096 # Resolution of the heal pixels\n",
    "numBins = 100 # Number of bins in fitting\n",
    "perVar = 0.98 # Percent of the variance to be captured\n",
    "perMap = 0.625 # Percent of the PC maps to use, adjust this later"
   ]
  },
  {
   "cell_type": "code",
   "execution_count": 3,
   "id": "aff7ec65-073b-4339-b0dd-ae159a10e511",
   "metadata": {},
   "outputs": [],
   "source": [
    "condMean = []\n",
    "condStds = []"
   ]
  },
  {
   "cell_type": "code",
   "execution_count": 4,
   "id": "d53ca4ac-a7db-446b-bb8d-97a6d4b12eb1",
   "metadata": {},
   "outputs": [],
   "source": [
    "validPix = fitsio.read(\"/hdfs/bechtol/balrog/y3/y3a2_survey_conditions_maps/Kyle_Stuff/training/Valid_4096_Pixels.fits\")['PIXEL']\n",
    "pixCheck = np.full(12*(4096**2), False, dtype = bool)\n",
    "pixCheck[validPix] = True"
   ]
  },
  {
   "cell_type": "code",
   "execution_count": 5,
   "id": "9dcecdc9-72a0-4ea4-951e-8aa55897588f",
   "metadata": {},
   "outputs": [],
   "source": [
    "# This is the actual file containing all of the data\n",
    "balrFile = '/afs/hep.wisc.edu/bechtol-group/MegansThings/balrog_detection_catalog_sof_run2_stars_v1.4_avg_added_match_flags.fits'\n",
    "# This reads in all of the data. Most of these are just flags, the only pieces that get used much outside\n",
    "# of filtering are detected, true_ra and true_dec which get used to convert into healPixels.\n",
    "balrData = fitsio.read(balrFile, columns = ['detected', 'true_ra', 'true_dec',\n",
    "                                            'flags_foreground', 'flags_badregions', 'flags_footprint',\n",
    "                                            'match_flag_1.5_asec'])\n",
    "\n",
    "# These are in degrees which is why lonlat is set to True in the next cell.\n",
    "balrRA = balrData['true_ra']\n",
    "balrDEC = balrData['true_dec']\n",
    "# This is used for detection rates, each point is either a 0 (no detection) or a 1 (detection)\n",
    "balrDETRepeats = balrData['detected']\n",
    "# Everything from here on out is simply used in order to filter the data\n",
    "FOREGROUND = balrData['flags_foreground']\n",
    "BADREGIONS = balrData['flags_badregions']\n",
    "FOOTPRINT = balrData['flags_footprint']\n",
    "ARCSECONDS = balrData['match_flag_1.5_asec']\n",
    "\n",
    "# This is used to filter out any injections that either weren't detected or had flags raised.\n",
    "cutIndices = np.where((FOREGROUND == 0) & \n",
    "                      (BADREGIONS < 2) & \n",
    "                      (FOOTPRINT == 1) & \n",
    "                      (ARCSECONDS < 2))[0]\n",
    "\n",
    "# This reduced the data down to the actually valid pixels.\n",
    "balrDETRepeats = balrDETRepeats[cutIndices]\n",
    "balrRA = balrRA[cutIndices]\n",
    "balrDEC = balrDEC[cutIndices]\n",
    "\n",
    "# This converts the RA and DEC values from above to healpixels so we can compare to the sky condition.\n",
    "balrPIXRepeats = hp.ang2pix(res, balrRA, balrDEC, lonlat = True, nest = True)\n",
    "\n",
    "# This sorts by the pixel in order to make following methods more efficient.\n",
    "sortInds = balrPIXRepeats.argsort()\n",
    "balrPIXRepeats = balrPIXRepeats[sortInds[::1]]\n",
    "balrDETRepeats = balrDETRepeats[sortInds[::1]]\n",
    "\n",
    "# These are indices that will be looping through the pixStar and starPix arrays in parallel.\n",
    "uniqInd = 0\n",
    "balrInd = 0\n",
    "\n",
    "# This will be used to store the number of stars at each pixel.\n",
    "balrPIX = np.unique(balrPIXRepeats) # The unique pixels, with no repeats.\n",
    "balrDET = np.zeros_like(balrPIX)\n",
    "balrINJ = np.zeros_like(balrPIX)\n",
    "\n",
    "while balrInd < len(balrPIXRepeats):\n",
    "    if balrPIX[uniqInd] == balrPIXRepeats[balrInd]: # If the pixels match up in the arrays.\n",
    "        balrDET[uniqInd] += balrDETRepeats[balrInd] # Add one if there was a detection at this location.\n",
    "        balrINJ[uniqInd] += 1                # Add one to the corresponding spot in the balStar array.\n",
    "        balrInd += 1                         # Add one to the starInd to see if the next index in starPix is also the same.\n",
    "        # Since the last index of pixStar and starPix are the same, starInd will increase the last time through the loop,\n",
    "        # making this the index that we must restrict in the while loop.\n",
    "    else:\n",
    "        uniqInd += 1 # If the pixels are no longer the same, increase the index you check in the pixStar array.\n",
    "        \n",
    "balrDET = balrDET[pixCheck[balrPIX]]\n",
    "balrINJ = balrINJ[pixCheck[balrPIX]]\n",
    "balrPIX = balrPIX[pixCheck[balrPIX]]"
   ]
  },
  {
   "cell_type": "code",
   "execution_count": 6,
   "id": "9d29cfe9-3c92-4f74-ad39-3db11da30cd2",
   "metadata": {},
   "outputs": [],
   "source": [
    "# This loads in all of the file names of the survey conditions\n",
    "directory = '/hdfs/bechtol/balrog/y3/y3a2_survey_conditions_maps/Kyle_Stuff/training/'\n",
    "conditions = Config.conditions\n",
    "balrCondMaps = []\n",
    "# fullCondMaps = []\n",
    "\n",
    "# This loops over every condition file except for stellar density which has a different format\n",
    "for cond in conditions:\n",
    "    condData = fitsio.read(directory + cond + '.fits') # This reads in the data\n",
    "    condSigExt = np.full(12*(4096**2), -1.6375e+30) # Gives a default value\n",
    "    condSigExt[validPix] = condData['SIGNAL'] # Changes all valid pixels to their corresponding signals\n",
    "    condSigExt[np.where(condSigExt == -1.6375e+30)[0]] = hp.UNSEEN # Masks all non valid pixels\n",
    "    if res != 4096:\n",
    "        condSigExt=hp.ud_grade(condSigExt, res) # Only degrades if necessary (this is very time consuming)\n",
    "    balrCondMaps.append(condSigExt[balrPIX]) # Only stores the values that are in pixels with injections\n",
    "\n",
    "balrCondMaps = np.array(balrCondMaps, dtype = object) # Converts to an array\n",
    "\n",
    "# Stores the original data for later comparisons\n",
    "originalBalrDET = balrDET\n",
    "originalBalrINJ = balrINJ\n",
    "aveEff = np.sum(originalBalrDET) / np.sum(originalBalrINJ)"
   ]
  },
  {
   "cell_type": "code",
   "execution_count": 7,
   "id": "0e741e45-c4d4-4101-83ef-aa9bfa7ac59f",
   "metadata": {},
   "outputs": [],
   "source": [
    "balrStanMaps = []\n",
    "# This standardizes every map as a first step of PCA\n",
    "for i in range(len(balrCondMaps)):\n",
    "    condMean.append(np.average(balrCondMaps[i]))\n",
    "    condStds.append(np.std(balrCondMaps[i]))\n",
    "    balrStanMaps.append((balrCondMaps[i] - np.average(balrCondMaps[i])) / np.std(balrCondMaps[i]))\n",
    "    \n",
    "    \n",
    "balrStanMaps = np.array(balrStanMaps)"
   ]
  },
  {
   "cell_type": "code",
   "execution_count": 8,
   "id": "187bfb43-c4de-49a1-b10d-cebe1fbe32b9",
   "metadata": {},
   "outputs": [],
   "source": [
    "# This gives the covariance matrix of the standardized maps\n",
    "# Bias is true since the variance of each individual standardized map should be 1\n",
    "cov = np.cov(balrStanMaps.astype(float), bias = True)\n",
    "\n",
    "# This gives the eigenvalues and vectors of the covariance matrix\n",
    "evalues, evectors = np.linalg.eig(cov)\n",
    "\n",
    "# This cuts after the specified percentage of the variance has been achieved\n",
    "for i in range(len(evalues)):\n",
    "    if np.sum(evalues[0:i+1]) / np.sum(evalues) >= perVar:\n",
    "        cutoff = i + 1\n",
    "        break\n",
    "featVec = evectors[0:cutoff]"
   ]
  },
  {
   "cell_type": "code",
   "execution_count": 9,
   "id": "785f97ef-40e8-480c-9eb4-1daa47cbf6a5",
   "metadata": {},
   "outputs": [],
   "source": [
    "balrRedMaps = np.matmul(featVec, balrStanMaps) # Reduces the maps to PCA maps"
   ]
  },
  {
   "cell_type": "code",
   "execution_count": 10,
   "id": "e51dcb14-84df-462c-988d-2b6152c88ff1",
   "metadata": {},
   "outputs": [],
   "source": [
    "# Goal of this method is to find the index of the map that has the largest impact on detection rates.\n",
    "def mostSigPCMap(redMaps, balrDET, balrINJ = balrINJ, numBins = numBins):\n",
    "    \n",
    "    maxAdjustment = []\n",
    "\n",
    "    for i in range(len(redMaps)):\n",
    "        \n",
    "        onePC = redMaps[i] # Load up a PC map\n",
    "\n",
    "        binIndLims = [0]\n",
    "\n",
    "        for j in range(numBins):\n",
    "            binIndLims.append(int((len(onePC) - binIndLims[-1]) / (numBins - j)) + (binIndLims[-1]))\n",
    "\n",
    "        # Sort detections and injections by the PC map value.\n",
    "        sortInds = onePC.argsort()\n",
    "        balrDETTemp = balrDET[sortInds[::1]]\n",
    "        balrINJTemp = balrINJ[sortInds[::1]]\n",
    "\n",
    "        detBins = []\n",
    "        injBins = []\n",
    "\n",
    "        # Bin up these detections and injections.\n",
    "        for j in range(numBins):\n",
    "            detBins.append(balrDETTemp[binIndLims[j]:binIndLims[j+1]])\n",
    "            injBins.append(balrINJTemp[binIndLims[j]:binIndLims[j+1]])\n",
    "\n",
    "        yValues = []\n",
    "\n",
    "        # For each bin find the detection rate relative to the average.\n",
    "        for j in range(numBins):\n",
    "            yValues.append((np.sum(detBins[j]) / np.sum(injBins[j])) / aveEff)\n",
    "\n",
    "        yValues = np.array(yValues)\n",
    "        \n",
    "        # Make the error the sum of the squared difference between the binned values and 1.\n",
    "        maxAdjustment.append(np.sum((yValues - 1)**2))\n",
    "        \n",
    "    maxAdjustment = np.array(maxAdjustment)\n",
    "    \n",
    "    mostSigIndex = np.where(maxAdjustment == np.max(maxAdjustment))[0]\n",
    "    \n",
    "    return mostSigIndex[0] # Return wherever the error is the largest"
   ]
  },
  {
   "cell_type": "code",
   "execution_count": 11,
   "id": "6ac127b1-2acc-4c55-a447-541af96fb692",
   "metadata": {},
   "outputs": [],
   "source": [
    "# Goal is to find the best degree for fitting the data between one and five.\n",
    "def findBestDegree(index, redMaps, balrDET, balrINJ = balrINJ, numBins = numBins):\n",
    "    \n",
    "    onePC = redMaps[index] # Load up a PC map\n",
    "    \n",
    "    # Gives the errors at each fit\n",
    "    errors = []\n",
    "    \n",
    "    for potDegrees in (np.arange(5) + 1): # Potential degrees between 1 and 5\n",
    "        \n",
    "        balrDETTemp = np.copy(balrDET)\n",
    "        \n",
    "        fitParams = getFitParams(index, redMaps, potDegrees, balrDET)\n",
    "        \n",
    "        correction = np.full(len(balrDET), 0.0)\n",
    "            \n",
    "        for i in range(len(fitParams)):\n",
    "            correction = correction + (fitParams[i] * (redMaps[index]**(len(fitParams) - 1 - i)))\n",
    "                \n",
    "        correction = 1 / correction\n",
    "        \n",
    "        balrDETTemp = balrDETTemp * correction # Apply the correction at the certain degree\n",
    "        \n",
    "        onePC = redMaps[index]\n",
    "    \n",
    "        binIndLims = [0]\n",
    "\n",
    "        for j in range(numBins):\n",
    "            binIndLims.append(int((len(onePC) - binIndLims[-1]) / (numBins - j)) + (binIndLims[-1]))\n",
    "\n",
    "        sortInds = onePC.argsort()\n",
    "        balrDETTemp = balrDETTemp[sortInds[::1]]\n",
    "        balrINJTemp = balrINJ[sortInds[::1]]\n",
    "\n",
    "        detBins = []\n",
    "        injBins = []\n",
    "\n",
    "        for j in range(numBins):\n",
    "            detBins.append(balrDETTemp[binIndLims[j]:binIndLims[j+1]])\n",
    "            injBins.append(balrINJTemp[binIndLims[j]:binIndLims[j+1]])\n",
    "\n",
    "        yValues = []\n",
    "\n",
    "        for j in range(numBins):\n",
    "            yValues.append((np.sum(detBins[j]) / np.sum(injBins[j])) / aveEff)\n",
    "\n",
    "        yValues = np.array(yValues)\n",
    "        \n",
    "        errors.append(np.sum((yValues - 1)**2)) # See how far off the calculated y Values are\n",
    "        \n",
    "    errors = np.array(errors)\n",
    "        \n",
    "    return (np.where(errors == np.min(errors))[0] + 1)"
   ]
  },
  {
   "cell_type": "code",
   "execution_count": 12,
   "id": "3f7d01bf-8d09-4b9e-b2cc-3ccb7966992f",
   "metadata": {},
   "outputs": [],
   "source": [
    "def getFitParams(index, redMaps, fitDegree, balrDET, balrINJ = balrINJ, numBins = numBins):\n",
    "    \n",
    "    onePC = redMaps[index] # This loads up the PC Map we'll be using\n",
    "    \n",
    "    binIndLims = [0]\n",
    "\n",
    "    for j in range(numBins):\n",
    "        binIndLims.append(int((len(onePC) - binIndLims[-1]) / (numBins - j)) + (binIndLims[-1]))\n",
    "        \n",
    "    # This gives the limits (in index) of the bins\n",
    "\n",
    "    # Sorts the data according to the value of the PC map\n",
    "    sortInds = onePC.argsort()\n",
    "    onePC = onePC[sortInds[::1]]\n",
    "    balrDETTemp = balrDET[sortInds[::1]]\n",
    "    balrINJTemp = balrINJ[sortInds[::1]]\n",
    "\n",
    "    detBins = []\n",
    "    injBins = []\n",
    "    pcBins = []\n",
    "    \n",
    "    # Generates the bins\n",
    "    for j in range(numBins):\n",
    "        detBins.append(balrDETTemp[binIndLims[j]:binIndLims[j+1]])\n",
    "        injBins.append(balrINJTemp[binIndLims[j]:binIndLims[j+1]])\n",
    "        pcBins.append(onePC[binIndLims[j]:binIndLims[j+1]])\n",
    "\n",
    "    yValues = []\n",
    "    xValues = []\n",
    "\n",
    "    # The x values are a weighted average of the PC values with weights in terms of how many injections were on that pixel\n",
    "    # The y values are the detection rate relative to theaverage efficiency\n",
    "    for j in range(numBins):\n",
    "        yValues.append((np.sum(detBins[j]) / np.sum(injBins[j])) / aveEff)\n",
    "        xValues.append(np.sum(pcBins[j] * injBins[j]) / np.sum(injBins[j]))\n",
    "\n",
    "    xValues = np.array(xValues)\n",
    "    yValues = np.array(yValues)\n",
    "    \n",
    "    # This fits the data to a polynomial of specified degree\n",
    "    p = np.polyfit(xValues, yValues, fitDegree)\n",
    "    \n",
    "    return p"
   ]
  },
  {
   "cell_type": "code",
   "execution_count": 13,
   "id": "4edc7694-d734-4e12-98aa-caa1cebc933b",
   "metadata": {},
   "outputs": [],
   "source": [
    "# This method does the same thing as the one above it but doesn't plot out a fit line.\n",
    "# As well as this, no parameters are returned since no fit was performed.\n",
    "def plotNoFit(index, redMaps, balrDET, size = 100, balrINJ = balrINJ, numBins = numBins):\n",
    "    \n",
    "    onePC = redMaps[index]\n",
    "    \n",
    "    binIndLims = [0]\n",
    "\n",
    "    for j in range(numBins):\n",
    "        binIndLims.append(int((len(onePC) - binIndLims[-1]) / (numBins - j)) + (binIndLims[-1]))\n",
    "\n",
    "    sortInds = onePC.argsort()\n",
    "    onePC = onePC[sortInds[::1]]\n",
    "    detStarTemp = balrDET[sortInds[::1]]\n",
    "    injStarTemp = balrINJ[sortInds[::1]]\n",
    "\n",
    "    detBins = []\n",
    "    injBins = []\n",
    "    pcBins = []\n",
    "    \n",
    "    for j in range(numBins):\n",
    "        detBins.append(detStarTemp[binIndLims[j]:binIndLims[j+1]])\n",
    "        injBins.append(injStarTemp[binIndLims[j]:binIndLims[j+1]])\n",
    "        pcBins.append(onePC[binIndLims[j]:binIndLims[j+1]])\n",
    "\n",
    "    yValues = []\n",
    "    xValues = []\n",
    "\n",
    "    for j in range(numBins):\n",
    "        yValues.append((np.sum(detBins[j]) / np.sum(injBins[j])) / aveEff)\n",
    "        xValues.append(np.sum(pcBins[j] * injBins[j]) / np.sum(injBins[j]))\n",
    "\n",
    "    xValues = np.array(xValues)\n",
    "    yValues = np.array(yValues)\n",
    "\n",
    "    plt.figure(dpi = size)\n",
    "    plt.plot(xValues, yValues, marker = '.', ms = 10, zorder = 4)\n",
    "    plt.axhline(y = 1,color = 'k', linestyle = '--', zorder = 2)\n",
    "    plt.xlabel('PC Value')\n",
    "    plt.ylabel('N/⟨N⟩')\n",
    "    plt.title('Detection Rate vs PC Map Value')\n",
    "    plt.grid(zorder = 0)\n",
    "    plt.show()"
   ]
  },
  {
   "cell_type": "code",
   "execution_count": 14,
   "id": "05b1f7b9-0c29-4e86-99ba-67439417f81d",
   "metadata": {},
   "outputs": [],
   "source": [
    "def plotFit(index, redMaps, fitDegree, balrDET, size = 100, balrINJ = balrINJ, numBins = numBins):\n",
    "    \n",
    "    onePC = redMaps[index]\n",
    "    \n",
    "    binIndLims = [0]\n",
    "\n",
    "    for j in range(numBins):\n",
    "        binIndLims.append(int((len(onePC) - binIndLims[-1]) / (numBins - j)) + (binIndLims[-1]))\n",
    "\n",
    "    sortInds = onePC.argsort()\n",
    "    onePC = onePC[sortInds[::1]]\n",
    "    detStarTemp = balrDET[sortInds[::1]]\n",
    "    injStarTemp = balrINJ[sortInds[::1]]\n",
    "\n",
    "    detBins = []\n",
    "    injBins = []\n",
    "    pcBins = []\n",
    "    \n",
    "    for j in range(numBins):\n",
    "        detBins.append(detStarTemp[binIndLims[j]:binIndLims[j+1]])\n",
    "        injBins.append(injStarTemp[binIndLims[j]:binIndLims[j+1]])\n",
    "        pcBins.append(onePC[binIndLims[j]:binIndLims[j+1]])\n",
    "\n",
    "    yValues = []\n",
    "    xValues = []\n",
    "\n",
    "    for j in range(numBins):\n",
    "        yValues.append((np.sum(detBins[j]) / np.sum(injBins[j])) / aveEff)\n",
    "        xValues.append(np.sum(pcBins[j] * injBins[j]) / np.sum(injBins[j]))\n",
    "\n",
    "    xValues = np.array(xValues)\n",
    "    yValues = np.array(yValues)\n",
    "    \n",
    "    p = np.polyfit(xValues, yValues, fitDegree)\n",
    "    # Up until this point, the method is identical to the one above\n",
    "    \n",
    "    yFitValues = np.zeros_like(xValues)\n",
    "    \n",
    "    # Here we generate what the fit values are going to be\n",
    "    for i in range(len(p)):\n",
    "        yFitValues += p[i] * (xValues**(len(p) - 1 - i))\n",
    "\n",
    "    # This plots out the data and fit line\n",
    "    plt.figure(dpi = size)\n",
    "    plt.plot(xValues, yValues, marker = '.', ms = 10, zorder = 4, label = 'Data')\n",
    "    plt.axhline(y = 1,color = 'k', linestyle = '--', zorder = 2)\n",
    "    plt.plot(xValues, yFitValues, zorder = 3, label = 'Fit')\n",
    "    plt.legend()\n",
    "    plt.xlabel('PC Value')\n",
    "    plt.ylabel('N/⟨N⟩')\n",
    "    plt.title('Degree ' + str(len(p) - 1) + ' Fit, Index ' + str(index))\n",
    "    plt.grid(zorder = 0)\n",
    "    plt.show()\n",
    "    \n",
    "    # This returns the fit parameters\n",
    "    return p"
   ]
  },
  {
   "cell_type": "code",
   "execution_count": 15,
   "id": "999cdcb5-9da5-43db-8e23-f3ab6d0c49e6",
   "metadata": {},
   "outputs": [],
   "source": [
    "balrDET = originalBalrDET\n",
    "corrIndices = []\n",
    "corrFitParams = []"
   ]
  },
  {
   "cell_type": "code",
   "execution_count": 16,
   "id": "73696515-50e8-4588-9751-d9625524f10e",
   "metadata": {},
   "outputs": [],
   "source": [
    "# CORRECTIONS = np.ones(len(PIX_4096))"
   ]
  },
  {
   "cell_type": "code",
   "execution_count": 17,
   "id": "dbad90ee-cde2-443c-be3f-16e57ea1b431",
   "metadata": {},
   "outputs": [],
   "source": [
    "trimBalrRedMaps = np.copy(balrRedMaps)\n",
    "# trimFullRedMaps = np.copy(FullRedMaps)\n",
    "\n",
    "iterations = int(perMap * len(balrRedMaps))\n",
    "\n",
    "for _ in range(iterations):\n",
    "\n",
    "    index = mostSigPCMap(trimBalrRedMaps, balrDET)\n",
    "    \n",
    "    corrIndices.append(index)\n",
    "\n",
    "    degree = findBestDegree(index, trimBalrRedMaps, balrDET)\n",
    "\n",
    "    # plotFit(index, trimBalrRedMaps, degree, balrDET)\n",
    "\n",
    "    fitParams = getFitParams(index, trimBalrRedMaps, degree, balrDET)\n",
    "    \n",
    "    corrFitParams.append(fitParams)\n",
    "\n",
    "    balrCorr = np.full(len(balrDET), 0.0)\n",
    "\n",
    "    for i in range(len(fitParams)):\n",
    "        balrCorr = balrCorr + (fitParams[i] * (trimBalrRedMaps[index]**(len(fitParams) - 1 - i)))\n",
    "\n",
    "    balrCorr = 1 / balrCorr\n",
    "\n",
    "    balrDET = balrDET * balrCorr\n",
    "\n",
    "    # plotNoFit(index, trimBalrRedMaps, balrDET)\n",
    "\n",
    "    # fullCorr = np.full(len(CORRECTIONS), 0.0)\n",
    "\n",
    "    # for i in range(len(fitParams)):\n",
    "    #     fullCorr = fullCorr + (fitParams[i] * (trimFullRedMaps[index]**(len(fitParams) - 1 - i)))\n",
    "\n",
    "    # fullCorr = 1 / fullCorr\n",
    "\n",
    "    # CORRECTIONS = CORRECTIONS * fullCorr\n",
    "    \n",
    "    pcMapCutoff = np.full(len(trimBalrRedMaps), True, dtype = bool)\n",
    "    pcMapCutoff[index] = False\n",
    "    trimBalrRedMaps = trimBalrRedMaps[pcMapCutoff]"
   ]
  },
  {
   "cell_type": "code",
   "execution_count": 18,
   "id": "0ba34fe6-72b7-4d97-981c-6bf97fc99b6c",
   "metadata": {},
   "outputs": [
    {
     "name": "stdout",
     "output_type": "stream",
     "text": [
      "30\n",
      "30\n"
     ]
    }
   ],
   "source": [
    "actualCorrIndices = []\n",
    "originalIndices = np.arange(len(balrRedMaps))\n",
    "\n",
    "for index in corrIndices:\n",
    "    actualCorrIndices.append(originalIndices[index])\n",
    "    originalIndices = np.delete(originalIndices, index)\n",
    "    \n",
    "actualCorrIndices = np.array(actualCorrIndices)\n",
    "print(len(actualCorrIndices))\n",
    "print(len(np.unique(actualCorrIndices)))"
   ]
  },
  {
   "cell_type": "code",
   "execution_count": 19,
   "id": "7b78836c-ce5d-4ae5-ab85-c78037bd70d8",
   "metadata": {},
   "outputs": [],
   "source": [
    "testBalrDET = originalBalrDET\n",
    "\n",
    "for i in range(len(actualCorrIndices)):\n",
    "    \n",
    "    balrCorr = np.full(len(testBalrDET), 0.0)\n",
    "    \n",
    "    for j in range(len(corrFitParams[i])):\n",
    "        balrCorr = balrCorr + (corrFitParams[i][j] * (balrRedMaps[actualCorrIndices[i]]**(len(corrFitParams[i]) - 1 - j)))\n",
    "        \n",
    "    balrCorr = 1 / balrCorr\n",
    "\n",
    "    testBalrDET = testBalrDET * balrCorr"
   ]
  },
  {
   "cell_type": "code",
   "execution_count": 20,
   "id": "60c9ec25-c015-4deb-b150-e2c99b5ff743",
   "metadata": {},
   "outputs": [],
   "source": [
    "corrFitParams = np.array(corrFitParams, dtype = object)"
   ]
  },
  {
   "cell_type": "code",
   "execution_count": 21,
   "id": "039a485b-642c-4f96-aa3d-2bc7a84700aa",
   "metadata": {},
   "outputs": [],
   "source": [
    "actualCorrFitParams = []\n",
    "\n",
    "for parameters in corrFitParams:\n",
    "    actualCorrFitParams.append(list(parameters))\n",
    "    \n",
    "actualCorrFitParams = np.array(actualCorrFitParams, dtype = object)"
   ]
  },
  {
   "cell_type": "code",
   "execution_count": 22,
   "id": "557598c1-6d45-4322-bdbb-256314fcc3c4",
   "metadata": {},
   "outputs": [
    {
     "data": {
      "text/plain": [
       "92"
      ]
     },
     "execution_count": 22,
     "metadata": {},
     "output_type": "execute_result"
    }
   ],
   "source": [
    "len(condMean)"
   ]
  },
  {
   "cell_type": "code",
   "execution_count": 23,
   "id": "9a2b3e87-9230-40ed-87d9-c36d867bf2f7",
   "metadata": {},
   "outputs": [],
   "source": [
    "savetxt('/hdfs/bechtol/balrog/y3/y3a2_survey_conditions_maps/Kyle_Stuff/training/Means' + str(numBins) + '.csv', condMean, delimiter=',')"
   ]
  },
  {
   "cell_type": "code",
   "execution_count": 24,
   "id": "12d11dae-5c6b-4d5b-9588-7b4d326d220c",
   "metadata": {},
   "outputs": [],
   "source": [
    "savetxt('/hdfs/bechtol/balrog/y3/y3a2_survey_conditions_maps/Kyle_Stuff/training/Standard_Deviations' + str(numBins) + '.csv', condStds, delimiter=',')"
   ]
  },
  {
   "cell_type": "code",
   "execution_count": 25,
   "id": "ec528c19-915b-4ec1-88a8-c9deea2ee430",
   "metadata": {},
   "outputs": [],
   "source": [
    "savetxt('/hdfs/bechtol/balrog/y3/y3a2_survey_conditions_maps/Kyle_Stuff/training/Indices' + str(numBins) + '.csv', actualCorrIndices, delimiter=',')"
   ]
  },
  {
   "cell_type": "code",
   "execution_count": 26,
   "id": "bda3bc4f-965f-4135-a8f5-9452e2a3ff60",
   "metadata": {},
   "outputs": [],
   "source": [
    "savetxt('/hdfs/bechtol/balrog/y3/y3a2_survey_conditions_maps/Kyle_Stuff/training/Fit_Parameters' + str(numBins) + '.csv', actualCorrFitParams, delimiter='\\t', fmt='%s')"
   ]
  },
  {
   "cell_type": "code",
   "execution_count": 27,
   "id": "6c685060-e722-402c-a2fc-823e1bdfadfc",
   "metadata": {},
   "outputs": [],
   "source": [
    "test = loadtxt('/hdfs/bechtol/balrog/y3/y3a2_survey_conditions_maps/Kyle_Stuff/training/Fit_Parameters' + str(numBins) + '.csv', delimiter = '\\t', dtype = object)"
   ]
  },
  {
   "cell_type": "code",
   "execution_count": 28,
   "id": "b680f228-5da4-472c-8d3f-3a4bd246f665",
   "metadata": {},
   "outputs": [],
   "source": [
    "conToArray = test[0]"
   ]
  },
  {
   "cell_type": "code",
   "execution_count": 29,
   "id": "3c14f31f-e805-4205-9ce7-dfbef789b9e1",
   "metadata": {},
   "outputs": [],
   "source": [
    "conToArray = conToArray[1:len(conToArray) - 1]"
   ]
  },
  {
   "cell_type": "code",
   "execution_count": 30,
   "id": "b7474ff8-f1f7-4428-9cd0-1d82df90218c",
   "metadata": {},
   "outputs": [
    {
     "data": {
      "text/plain": [
       "'-9.324767046645395e-05, -0.0005113468521127358, 0.0030724565988606302, -0.0011046211079423353, 0.022063290051698086, 1.0035955948761426'"
      ]
     },
     "execution_count": 30,
     "metadata": {},
     "output_type": "execute_result"
    }
   ],
   "source": [
    "conToArray"
   ]
  },
  {
   "cell_type": "code",
   "execution_count": 31,
   "id": "ae24aaf1-96bb-4720-9e0b-7e75e36a2485",
   "metadata": {},
   "outputs": [
    {
     "data": {
      "text/plain": [
       "-9.324767046645395e-05"
      ]
     },
     "execution_count": 31,
     "metadata": {},
     "output_type": "execute_result"
    }
   ],
   "source": [
    "float(conToArray.split(', ')[0])"
   ]
  },
  {
   "cell_type": "code",
   "execution_count": 32,
   "id": "f5b63b2d-7259-4c3c-b641-3a0fcf5b5717",
   "metadata": {},
   "outputs": [
    {
     "data": {
      "text/plain": [
       "array([[ 0.05705898, -0.19186478,  0.08102498, ..., -0.00932484,\n",
       "        -0.02231058, -0.00233181],\n",
       "       [ 0.04778338, -0.21311289,  0.07186065, ...,  0.04766   ,\n",
       "        -0.0112544 , -0.00703989],\n",
       "       [ 0.04619177, -0.22162086,  0.08329973, ..., -0.04620647,\n",
       "         0.0076669 ,  0.01655152],\n",
       "       ...,\n",
       "       [ 0.04020286,  0.16698352,  0.05507521, ...,  0.043096  ,\n",
       "        -0.00212672, -0.03468285],\n",
       "       [ 0.05448686,  0.07972472,  0.00935943, ..., -0.10243191,\n",
       "         0.02759082, -0.06562796],\n",
       "       [-0.13259782,  0.01085495,  0.1805411 , ..., -0.09978466,\n",
       "        -0.04357347,  0.13032148]])"
      ]
     },
     "execution_count": 32,
     "metadata": {},
     "output_type": "execute_result"
    }
   ],
   "source": [
    "featVec"
   ]
  },
  {
   "cell_type": "code",
   "execution_count": 33,
   "id": "bdf6d468-3ccc-4acb-94ff-012866e520cb",
   "metadata": {},
   "outputs": [],
   "source": [
    "savetxt('/hdfs/bechtol/balrog/y3/y3a2_survey_conditions_maps/Kyle_Stuff/training/Feature_Vectors' + str(numBins) + '.csv', featVec, delimiter='\\t', fmt='%s')"
   ]
  },
  {
   "cell_type": "code",
   "execution_count": null,
   "id": "c7e3f790-148c-46a0-af73-f910609bbcee",
   "metadata": {},
   "outputs": [],
   "source": []
  }
 ],
 "metadata": {
  "kernelspec": {
   "display_name": "Python 3 (ipykernel)",
   "language": "python",
   "name": "python3"
  },
  "language_info": {
   "codemirror_mode": {
    "name": "ipython",
    "version": 3
   },
   "file_extension": ".py",
   "mimetype": "text/x-python",
   "name": "python",
   "nbconvert_exporter": "python",
   "pygments_lexer": "ipython3",
   "version": "3.9.12"
  }
 },
 "nbformat": 4,
 "nbformat_minor": 5
}
