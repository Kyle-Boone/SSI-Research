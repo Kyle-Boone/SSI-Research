{
 "cells": [
  {
   "cell_type": "code",
   "execution_count": 1,
   "id": "2168bc1f-eb0e-46c5-85a1-ab0641c0699c",
   "metadata": {},
   "outputs": [],
   "source": [
    "import numpy as np\n",
    "from scipy.special import binom"
   ]
  },
  {
   "cell_type": "code",
   "execution_count": 2,
   "id": "c67e5cd8-8b52-44ac-a732-4e330678ff73",
   "metadata": {},
   "outputs": [],
   "source": [
    "def maxLike(CS, CG, PS, PG):\n",
    "    likelihoods = []\n",
    "    for OS in np.arange(CS + CG + 1):\n",
    "        # Now loop over number of classified stars actually coming from the observed stars\n",
    "        OG = CS + CG - OS\n",
    "        CSFOS = np.max([CS - OG, 0])\n",
    "        sumProb = 0\n",
    "        while (CSFOS <= OS) & (CSFOS <= CS):\n",
    "            sumProb += binom(OS, CSFOS) * (PS**(CSFOS)) * ((1-PS)**(OS-CSFOS)) * binom(OG, CS - CSFOS) * (PG**(OG - CS + CSFOS)) * ((1-PG)**(CS-CSFOS))\n",
    "            CSFOS += 1\n",
    "        likelihoods.append(sumProb)\n",
    "    return np.where(likelihoods == np.max(likelihoods))[0][0]"
   ]
  },
  {
   "cell_type": "code",
   "execution_count": 3,
   "id": "ba7738a3-02fc-4154-bdc6-3416cc12f312",
   "metadata": {},
   "outputs": [],
   "source": [
    "def probEqtn(CS, CG, PS, PG):\n",
    "    OS = ((CS+CG)*(1-PG) - CS) / (1-PS-PG)\n",
    "    if OS < 0:\n",
    "        return np.array([0])\n",
    "    elif OS > CS + CG:\n",
    "        return np.array([CS + CG])\n",
    "    else:\n",
    "        return np.array([np.floor(OS).astype(int), np.ceil(OS).astype(int)])"
   ]
  },
  {
   "cell_type": "code",
   "execution_count": null,
   "id": "21c70ac8-0b96-421b-9b8f-1f1ec5d720b3",
   "metadata": {},
   "outputs": [],
   "source": [
    "zero = False\n",
    "high = False\n",
    "for _ in np.arange(10000):\n",
    "    \n",
    "    CS = np.random.randint(100)\n",
    "    CG = np.random.randint(100)\n",
    "    \n",
    "    PS = np.random.rand()\n",
    "    PG = np.random.rand()\n",
    "    \n",
    "    methodOne = maxLike(CS, CG, PS, PG)\n",
    "    if methodOne == 0:\n",
    "        zero = True\n",
    "    if methodOne == CS + CG:\n",
    "        high = True\n",
    "    methodTwo = probEqtn(CS, CG, PS, PG)\n",
    "    \n",
    "    error = True\n",
    "    \n",
    "    if methodOne == methodTwo[0]:\n",
    "        error = False\n",
    "    if len(methodTwo) > 1:\n",
    "        if methodOne == methodTwo[1]:\n",
    "            error = False\n",
    "            \n",
    "    if error:\n",
    "        print('Mistake')\n",
    "        print(methodOne)\n",
    "        print(methodTwo[0])\n",
    "        print(CS)\n",
    "        print(CG)\n",
    "        print(PS)\n",
    "        print(PG)"
   ]
  },
  {
   "cell_type": "code",
   "execution_count": null,
   "id": "351a2bcc-f247-4a8f-ab8c-83d6dc13b5d9",
   "metadata": {},
   "outputs": [],
   "source": []
  }
 ],
 "metadata": {
  "kernelspec": {
   "display_name": "Python 3 (ipykernel)",
   "language": "python",
   "name": "python3"
  },
  "language_info": {
   "codemirror_mode": {
    "name": "ipython",
    "version": 3
   },
   "file_extension": ".py",
   "mimetype": "text/x-python",
   "name": "python",
   "nbconvert_exporter": "python",
   "pygments_lexer": "ipython3",
   "version": "3.9.12"
  }
 },
 "nbformat": 4,
 "nbformat_minor": 5
}
