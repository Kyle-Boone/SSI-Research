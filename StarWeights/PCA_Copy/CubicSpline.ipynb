{
 "cells": [
  {
   "cell_type": "code",
   "execution_count": 1,
   "id": "467cd8bf-02c1-452a-a808-674918b95955",
   "metadata": {},
   "outputs": [
    {
     "name": "stderr",
     "output_type": "stream",
     "text": [
      "\n",
      "WARNING: version mismatch between CFITSIO header (v4.000999999999999) and linked library (v4.01).\n",
      "\n",
      "\n",
      "WARNING: version mismatch between CFITSIO header (v4.000999999999999) and linked library (v4.01).\n",
      "\n",
      "\n",
      "WARNING: version mismatch between CFITSIO header (v4.000999999999999) and linked library (v4.01).\n",
      "\n"
     ]
    }
   ],
   "source": [
    "import numpy as np\n",
    "import fitsio\n",
    "import healpy as hp\n",
    "import matplotlib.pyplot as plt\n",
    "import Config\n",
    "from scipy.interpolate import CubicSpline"
   ]
  },
  {
   "cell_type": "markdown",
   "id": "58531ad3-6a29-46ce-b05d-623b6a756106",
   "metadata": {},
   "source": [
    "# CHANGE PERMAP TO 0.625"
   ]
  },
  {
   "cell_type": "code",
   "execution_count": 2,
   "id": "dbf00749-01bf-42ed-94e1-8909e5c05b18",
   "metadata": {},
   "outputs": [],
   "source": [
    "res = 4096 # Resolution of the heal pixels\n",
    "numBins = 10 # Number of bins to use\n",
    "perVar = 0.98 # Percent of the variance to be captured\n",
    "perMap = 0.625 # Percent of the PC maps to use, adjust this later"
   ]
  },
  {
   "cell_type": "code",
   "execution_count": 3,
   "id": "4b46f4ca-dbf4-43ac-86d0-04a270600f7f",
   "metadata": {},
   "outputs": [],
   "source": [
    "# This is the actual file containing all of the data\n",
    "starFile = '/afs/hep.wisc.edu/bechtol-group/MegansThings/balrog_detection_catalog_sof_run2_stars_v1.4_avg_added_match_flags.fits'\n",
    "# This reads in all of the data. Most of these are just flags, the only pieces that get used much outside\n",
    "# of filtering are detected, true_ra and true_dec which get used to convert into healPixels.\n",
    "starData = fitsio.read(starFile, columns = ['detected', 'true_ra', 'true_dec',\n",
    "                                            'flags_foreground', 'flags_badregions', 'flags_footprint',\n",
    "                                            'meas_FLAGS_GOLD_SOF_ONLY', 'match_flag_1.5_asec'])"
   ]
  },
  {
   "cell_type": "code",
   "execution_count": 4,
   "id": "6556d6f7-cbed-4f6f-b78c-5b6e199c4f99",
   "metadata": {},
   "outputs": [],
   "source": [
    "# These are in degrees which is why lonlat is set to True in the next cell.\n",
    "RA = starData['true_ra']\n",
    "DEC = starData['true_dec']\n",
    "# This is used for detection rates, each point is either a 0 (no detection) or a 1 (detection)\n",
    "DETECTED = starData['detected']\n",
    "# Everything from here on out is simply used in order to filter the data\n",
    "FOREGROUND = starData['flags_foreground']\n",
    "BADREGIONS = starData['flags_badregions']\n",
    "FOOTPRINT = starData['flags_footprint']\n",
    "GOLDSOF = starData['meas_FLAGS_GOLD_SOF_ONLY']\n",
    "ARCSECONDS = starData['match_flag_1.5_asec']\n",
    "\n",
    "# This is used to filter out any injections that either weren't detected or had flags raised.\n",
    "cutIndices = np.where((FOREGROUND == 0) & \n",
    "                      (BADREGIONS < 2) & \n",
    "                      (FOOTPRINT == 1) & \n",
    "                      (ARCSECONDS < 2))[0]\n",
    "\n",
    "# This reduced the data down to the actually valid pixels.\n",
    "DETECTED = DETECTED[cutIndices]\n",
    "RA = RA[cutIndices]\n",
    "DEC = DEC[cutIndices]"
   ]
  },
  {
   "cell_type": "code",
   "execution_count": 5,
   "id": "0fbe896f-403c-42da-90cc-29789a7cfe41",
   "metadata": {},
   "outputs": [],
   "source": [
    "# This converts the RA and DEC values from above to healpixels so we can compare to the sky condition.\n",
    "starPixels = hp.ang2pix(res, RA, DEC, lonlat = True, nest = True)"
   ]
  },
  {
   "cell_type": "code",
   "execution_count": 6,
   "id": "9a193588-4942-42c4-89c7-f85829939b48",
   "metadata": {},
   "outputs": [],
   "source": [
    "# This sorts by the pixel in order to make following methods more efficient.\n",
    "sortInds = starPixels.argsort()\n",
    "starPix = starPixels[sortInds[::1]]\n",
    "DET = DETECTED[sortInds[::1]]"
   ]
  },
  {
   "cell_type": "code",
   "execution_count": 7,
   "id": "405a53ed-a5b0-4c03-bad1-49ddad3aedcd",
   "metadata": {},
   "outputs": [],
   "source": [
    "# These are indices that will be looping through the pixStar and starPix arrays in parallel.\n",
    "uniqInd = 0\n",
    "starInd = 0\n",
    "\n",
    "# This will be used to store the number of stars at each pixel.\n",
    "pixStar = np.unique(starPix) # The unique pixels, with no repeats.\n",
    "detStar = np.zeros_like(pixStar)\n",
    "injStar = np.zeros_like(pixStar)\n",
    "\n",
    "while starInd < len(starPix):\n",
    "    if pixStar[uniqInd] == starPix[starInd]: # If the pixels match up in the arrays.\n",
    "        detStar[uniqInd] += DET[starInd]     # Add one if there was a detection at this location.\n",
    "        injStar[uniqInd] += 1                # Add one to the corresponding spot in the balStar array.\n",
    "        starInd += 1                         # Add one to the starInd to see if the next index in starPix is also the same.\n",
    "        # Since the last index of pixStar and starPix are the same, starInd will increase the last time through the loop,\n",
    "        # making this the index that we must restrict in the while loop.\n",
    "    else:\n",
    "        uniqInd += 1 # If the pixels are no longer the same, increase the index you check in the pixStar array.\n",
    "        \n",
    "# This loads in all of the file names of the survey conditions\n",
    "condFiles = Config.files\n",
    "condMapsExt = []\n",
    "\n",
    "# This loops over every condition file except for stellar density which has a different format\n",
    "for i in range(len(condFiles) - 1):\n",
    "    condData = fitsio.read(condFiles[i]) # This reads in the data\n",
    "    condSigExt = np.full(12*(4096**2), -1.6375e+30) # Gives a default value\n",
    "    condSigExt[condData['PIXEL']] = condData['SIGNAL'] # Changes all valid pixels to their corresponding signals\n",
    "    condSigExt[np.where(condSigExt == -1.6375e+30)[0]] = hp.UNSEEN # Masks all non valid pixels\n",
    "    if res != 4096:\n",
    "        condSigExt=hp.ud_grade(condSigExt, res) # Only degrades if necessary (this is very time consuming)\n",
    "    condMapsExt.append(condSigExt[pixStar]) # Only stores the values that are in pixels with injections\n",
    "    \n",
    "stelDensExt = fitsio.read(condFiles[-1])['I'].flatten() # Loads in the stellar density\n",
    "stelDensExt[np.where(stelDensExt < 0)[0]] = hp.UNSEEN # Masks all non valid pixels\n",
    "if res != 4096:\n",
    "    stelDensExt=hp.ud_grade(stelDensExt, res) # Degrades if necessary\n",
    "condMapsExt.append(stelDensExt[pixStar])\n",
    "\n",
    "condMapsExt = np.array(condMapsExt, dtype = object) # Converts to an array\n",
    "\n",
    "validIndices = np.full(len(pixStar), True, dtype = bool)\n",
    "# The only valid indices are ones where every survey property is unmasked\n",
    "for cond in condMapsExt:\n",
    "    tempValidIndices = np.full(len(pixStar), True, dtype = bool)\n",
    "    tempValidIndices[np.where(cond < -1000000000)[0]] = False\n",
    "    validIndices = validIndices & tempValidIndices\n",
    "    \n",
    "condMaps = []\n",
    "# Degrades all of the values to a common set of pixels\n",
    "pixStar = pixStar[validIndices]\n",
    "detStar = detStar[validIndices]\n",
    "injStar = injStar[validIndices]\n",
    "\n",
    "for cond in condMapsExt:\n",
    "    condMaps.append(cond[validIndices])\n",
    "    \n",
    "condMaps = np.array(condMaps)"
   ]
  },
  {
   "cell_type": "code",
   "execution_count": 8,
   "id": "58e16ffc-8270-4026-9f19-2ebf6d2f3b16",
   "metadata": {},
   "outputs": [],
   "source": [
    "stanMaps = []\n",
    "averages = []\n",
    "stanDevs = []\n",
    "# This standardizes every map as a first step of PCA\n",
    "for cond in condMaps:\n",
    "    averages.append(np.average(cond))\n",
    "    stanDevs.append(np.std(cond))\n",
    "    stanMaps.append((cond - np.average(cond)) / np.std(cond))\n",
    "    \n",
    "stanMaps = np.array(stanMaps)"
   ]
  },
  {
   "cell_type": "code",
   "execution_count": 9,
   "id": "00a40eb2-e85f-4702-b566-8963d72bc9cc",
   "metadata": {},
   "outputs": [],
   "source": [
    "# This gives the covariance matrix of the standardized maps\n",
    "# Bias is true since the variance of each individual standardized map should be 1\n",
    "cov = np.cov(stanMaps.astype(float), bias = True)"
   ]
  },
  {
   "cell_type": "code",
   "execution_count": 10,
   "id": "a1b0866e-1765-4e6d-bd7a-53a9f6bd1f07",
   "metadata": {},
   "outputs": [],
   "source": [
    "# This gives the eigenvalues and vectors of the covariance matrix\n",
    "evalues, evectors = np.linalg.eig(cov)"
   ]
  },
  {
   "cell_type": "code",
   "execution_count": 11,
   "id": "c6238b1b-fb1e-4472-a459-b09c20d577d2",
   "metadata": {},
   "outputs": [],
   "source": [
    "# This cuts after the specified percentage of the variance has been achieved\n",
    "for i in range(len(evalues)):\n",
    "    if np.sum(evalues[0:i+1]) / np.sum(evalues) >= perVar:\n",
    "        cutoff = i + 1\n",
    "        break\n",
    "featVec = evectors[0:cutoff]"
   ]
  },
  {
   "cell_type": "code",
   "execution_count": 12,
   "id": "16ca4c40-531d-4acf-85ad-a80c70b2c4c3",
   "metadata": {},
   "outputs": [],
   "source": [
    "redMaps = np.matmul(featVec, stanMaps) # Reduces the maps to PCA maps"
   ]
  },
  {
   "cell_type": "code",
   "execution_count": 13,
   "id": "a3078479-d43f-4013-956e-0174b49736cf",
   "metadata": {},
   "outputs": [],
   "source": [
    "# Stores the original data for later comparisons\n",
    "originalDetStar = detStar\n",
    "originalInjStar = injStar\n",
    "aveEff = np.sum(originalDetStar) / np.sum(originalInjStar)"
   ]
  },
  {
   "cell_type": "code",
   "execution_count": 14,
   "id": "642e1905-80b5-46b3-8110-b666099fdd6c",
   "metadata": {},
   "outputs": [],
   "source": [
    "# Goal of this method is to find the index of the map that has the largest impact on detection rates.\n",
    "def mostSigPCMap(redMaps, detStar, injStar = injStar, numBins = numBins):\n",
    "    \n",
    "    maxAdjustment = []\n",
    "\n",
    "    for i in range(len(redMaps)):\n",
    "        \n",
    "        onePC = redMaps[i] # Load up a PC map\n",
    "\n",
    "        binIndLims = [0]\n",
    "\n",
    "        for j in range(numBins):\n",
    "            binIndLims.append(int((len(onePC) - binIndLims[-1]) / (numBins - j)) + (binIndLims[-1]))\n",
    "\n",
    "        # Sort detections and injections by the PC map value.\n",
    "        sortInds = onePC.argsort()\n",
    "        detStarTemp = detStar[sortInds[::1]]\n",
    "        injStarTemp = injStar[sortInds[::1]]\n",
    "\n",
    "        detBins = []\n",
    "        injBins = []\n",
    "\n",
    "        # Bin up these detections and injections.\n",
    "        for j in range(numBins):\n",
    "            detBins.append(detStarTemp[binIndLims[j]:binIndLims[j+1]])\n",
    "            injBins.append(injStarTemp[binIndLims[j]:binIndLims[j+1]])\n",
    "\n",
    "        yValues = []\n",
    "\n",
    "        # For each bin find the detection rate relative to the average.\n",
    "        for j in range(numBins):\n",
    "            yValues.append((np.sum(detBins[j]) / np.sum(injBins[j])) / aveEff)\n",
    "\n",
    "        yValues = np.array(yValues)\n",
    "        \n",
    "        # Make the error the sum of the squared difference between the binned values and 1.\n",
    "        maxAdjustment.append(np.max((yValues - 1)**2))\n",
    "        \n",
    "    maxAdjustment = np.array(maxAdjustment)\n",
    "    \n",
    "    mostSigIndex = np.where(maxAdjustment == np.max(maxAdjustment))[0]\n",
    "    \n",
    "    return mostSigIndex[0] # Return wherever the error is the largest"
   ]
  },
  {
   "cell_type": "code",
   "execution_count": 21,
   "id": "e0c82e1c-d0f5-4b96-bce8-7ad7d8f4c2f6",
   "metadata": {},
   "outputs": [],
   "source": [
    "detStar = originalDetStar"
   ]
  },
  {
   "cell_type": "code",
   "execution_count": 22,
   "id": "7965b3ce-82eb-4bb2-b736-7defd2c74f45",
   "metadata": {},
   "outputs": [],
   "source": [
    "trimRedMaps = np.copy(redMaps)\n",
    "\n",
    "iterations = int(perMap * len(redMaps))\n",
    "\n",
    "for _ in range(iterations):\n",
    "        \n",
    "    index = mostSigPCMap(trimRedMaps, detStar)\n",
    "\n",
    "    onePC = trimRedMaps[index] # Load up a PC map\n",
    "\n",
    "    binIndLims = [0]\n",
    "\n",
    "    for j in range(numBins):\n",
    "        binIndLims.append(int((len(onePC) - binIndLims[-1]) / (numBins - j)) + (binIndLims[-1]))\n",
    "\n",
    "    # Sort detections and injections by the PC map value.\n",
    "    sortInds = onePC.argsort()\n",
    "    onePCTemp = onePC[sortInds[::1]]\n",
    "    detStarTemp = detStar[sortInds[::1]]\n",
    "    injStarTemp = injStar[sortInds[::1]]\n",
    "\n",
    "    detBins = []\n",
    "    injBins = []\n",
    "    pcBins = []\n",
    "\n",
    "    # Bin up these detections and injections.\n",
    "    for j in range(numBins):\n",
    "        detBins.append(detStarTemp[binIndLims[j]:binIndLims[j+1]])\n",
    "        injBins.append(injStarTemp[binIndLims[j]:binIndLims[j+1]])\n",
    "        pcBins.append(onePCTemp[binIndLims[j]:binIndLims[j+1]])\n",
    "\n",
    "    yValues = []\n",
    "    xValues = []\n",
    "\n",
    "    # The x values are a weighted average of the PC values with weights in terms of how many injections were on that pixel\n",
    "    # The y values are the detection rate relative to theaverage efficiency\n",
    "    for j in range(numBins):\n",
    "        yValues.append((np.sum(detBins[j]) / np.sum(injBins[j])) / aveEff)\n",
    "        xValues.append(np.sum(pcBins[j] * injBins[j]) / np.sum(injBins[j]))\n",
    "\n",
    "    xValues = np.array(xValues)\n",
    "    yValues = np.array(yValues)\n",
    "\n",
    "    cs = CubicSpline(xValues, yValues, bc_type = 'natural')\n",
    "\n",
    "    correction = 1 / cs(onePC)\n",
    "\n",
    "    detStar = detStar * correction\n",
    "\n",
    "    # plotNoFit(index, trimRedMaps, detStar)\n",
    "\n",
    "    pcMapCutoff = np.full(len(trimRedMaps), True, dtype = bool)\n",
    "    pcMapCutoff[index] = False\n",
    "    trimRedMaps = trimRedMaps[pcMapCutoff]"
   ]
  },
  {
   "cell_type": "code",
   "execution_count": 23,
   "id": "9b2db46f-55f1-4bdd-8d18-74b11ffa2f59",
   "metadata": {},
   "outputs": [
    {
     "data": {
      "image/png": "[encoded data removed]",
      "text/plain": [
       "<Figure size 900x600 with 1 Axes>"
      ]
     },
     "metadata": {
      "needs_background": "light"
     },
     "output_type": "display_data"
    }
   ],
   "source": [
    "oneMap = condMaps[Config.exptimeSUMi]\n",
    "\n",
    "numBinsTest = 10\n",
    "binIndLims = [0]\n",
    "\n",
    "for i in range(numBinsTest):\n",
    "    binIndLims.append(int((len(oneMap) - binIndLims[-1]) / (numBinsTest - i)) + (binIndLims[-1]))\n",
    "\n",
    "sortInds = oneMap.argsort()\n",
    "oneMap = oneMap[sortInds[::1]]\n",
    "detStarTemp = detStar[sortInds[::1]]\n",
    "injStarTemp = injStar[sortInds[::1]]\n",
    "\n",
    "detBins = []\n",
    "injBins = []\n",
    "mapBins = []\n",
    "\n",
    "for i in range(numBinsTest):\n",
    "    detBins.append(detStarTemp[binIndLims[i]:binIndLims[i+1]])\n",
    "    injBins.append(injStarTemp[binIndLims[i]:binIndLims[i+1]])\n",
    "    mapBins.append(oneMap[binIndLims[i]:binIndLims[i+1]])\n",
    "\n",
    "yValues = []\n",
    "xValues = []\n",
    "\n",
    "for i in range(numBinsTest):\n",
    "    yValues.append((np.sum(detBins[i]) / np.sum(injBins[i])) / aveEff)\n",
    "    xValues.append(np.sum(mapBins[i] * injBins[i]) / np.sum(injBins[i]))\n",
    "\n",
    "xValues = np.array(xValues)\n",
    "yValues = np.array(yValues)\n",
    "\n",
    "plt.figure(dpi = 150)\n",
    "plt.plot(xValues, yValues, marker = '.', ms = 10, zorder = 3, color = 'r')\n",
    "plt.axhline(y = 1, color = 'k', linestyle = '--', zorder = 2)\n",
    "plt.axhline(y = 1.01, color = '0.25', linestyle = '--', zorder = 2)\n",
    "plt.axhline(y = 0.99, color = '0.25', linestyle = '--', zorder = 2)\n",
    "plt.xlim(plt.gca().get_xlim())\n",
    "#plt.fill_between(plt.gca().get_xlim(), 0.98, 1.02, color = (176/256,141/256,87/256))\n",
    "#plt.fill_between(plt.gca().get_xlim(), 0.99, 1.01, color = (192/256,192/256,192/256))\n",
    "plt.fill_between(plt.gca().get_xlim(), 0.99, 1.01, color = 'gold')\n",
    "plt.ylim([0.98, 1.02])\n",
    "plt.xlabel('SP Value')\n",
    "plt.ylabel('N/⟨N⟩')\n",
    "plt.title('Corrected (i Exposure Time)')\n",
    "plt.grid(zorder = 0)\n",
    "plt.show()"
   ]
  },
  {
   "cell_type": "code",
   "execution_count": 24,
   "id": "7199df62-05b1-4b67-a66c-fe94d77b0558",
   "metadata": {},
   "outputs": [
    {
     "data": {
      "image/png": "[encoded data removed]",
      "text/plain": [
       "<Figure size 900x600 with 1 Axes>"
      ]
     },
     "metadata": {
      "needs_background": "light"
     },
     "output_type": "display_data"
    }
   ],
   "source": [
    "oneMap = condMaps[Config.exptimeSUMi]\n",
    "\n",
    "binIndLims = [0]\n",
    "\n",
    "for i in range(numBinsTest):\n",
    "    binIndLims.append(int((len(oneMap) - binIndLims[-1]) / (numBinsTest - i)) + (binIndLims[-1]))\n",
    "\n",
    "sortInds = oneMap.argsort()\n",
    "oneMap = oneMap[sortInds[::1]]\n",
    "detStarTemp = originalDetStar[sortInds[::1]]\n",
    "injStarTemp = injStar[sortInds[::1]]\n",
    "\n",
    "detBins = []\n",
    "injBins = []\n",
    "mapBins = []\n",
    "\n",
    "for i in range(numBinsTest):\n",
    "    detBins.append(detStarTemp[binIndLims[i]:binIndLims[i+1]])\n",
    "    injBins.append(injStarTemp[binIndLims[i]:binIndLims[i+1]])\n",
    "    mapBins.append(oneMap[binIndLims[i]:binIndLims[i+1]])\n",
    "\n",
    "yValues = []\n",
    "xValues = []\n",
    "\n",
    "for i in range(numBinsTest):\n",
    "    yValues.append((np.sum(detBins[i]) / np.sum(injBins[i])) / aveEff)\n",
    "    xValues.append(np.sum(mapBins[i] * injBins[i]) / np.sum(injBins[i]))\n",
    "\n",
    "xValues = np.array(xValues)\n",
    "yValues = np.array(yValues)\n",
    "\n",
    "plt.figure(dpi = 150)\n",
    "plt.plot(xValues, yValues, marker = '.', ms = 10, zorder = 3, color = 'r')\n",
    "plt.axhline(y = 1, color = 'k', linestyle = '--', zorder = 2)\n",
    "plt.axhline(y = 1.01, color = '0.25', linestyle = '--', zorder = 2)\n",
    "plt.axhline(y = 0.99, color = '0.25', linestyle = '--', zorder = 2)\n",
    "plt.xlim(plt.gca().get_xlim())\n",
    "# plt.fill_between(plt.gca().get_xlim(), 0.99, 1.01, color = 'silver')\n",
    "plt.fill_between(plt.gca().get_xlim(), 0.99, 1.01, color = 'gold')\n",
    "plt.xlabel('SP Value')\n",
    "plt.ylabel('N/⟨N⟩')\n",
    "plt.title('Original (i Exposure Time)')\n",
    "plt.grid(zorder = 0)\n",
    "plt.show()"
   ]
  },
  {
   "cell_type": "code",
   "execution_count": 25,
   "id": "aae3eefd-edb1-465c-9d71-ae657a7cc02b",
   "metadata": {},
   "outputs": [],
   "source": [
    "maxError = []\n",
    "\n",
    "for cond in condMaps:\n",
    "    \n",
    "    oneMap = cond\n",
    "    \n",
    "    binIndLims = [0]\n",
    "\n",
    "    for i in range(numBinsTest):\n",
    "        binIndLims.append(int((len(oneMap) - binIndLims[-1]) / (numBinsTest - i)) + (binIndLims[-1]))\n",
    "\n",
    "    sortInds = oneMap.argsort()\n",
    "    corDetStarTemp = detStar[sortInds[::1]]\n",
    "    injStarTemp = injStar[sortInds[::1]]\n",
    "\n",
    "    corDetBins = []\n",
    "    injBins = []\n",
    "\n",
    "    for i in range(numBinsTest):\n",
    "        corDetBins.append(corDetStarTemp[binIndLims[i]:binIndLims[i+1]])\n",
    "        injBins.append(injStarTemp[binIndLims[i]:binIndLims[i+1]])\n",
    "\n",
    "    yValuesCor = []\n",
    "\n",
    "    for i in range(numBinsTest):\n",
    "        yValuesCor.append((np.sum(corDetBins[i]) / np.sum(injBins[i])) / aveEff)\n",
    "\n",
    "    yValuesCor = np.array(yValuesCor)\n",
    "    \n",
    "    maxError.append(np.max(np.abs(yValuesCor - 1)))\n",
    "    \n",
    "maxError = np.array(maxError)"
   ]
  },
  {
   "cell_type": "code",
   "execution_count": 26,
   "id": "41a8be7c-a7db-478c-b371-18ab759d6fb5",
   "metadata": {},
   "outputs": [
    {
     "name": "stdout",
     "output_type": "stream",
     "text": [
      "0.006714834107648806\n",
      "0.016883743074442292\n"
     ]
    }
   ],
   "source": [
    "print(np.average(maxError))\n",
    "print(np.max(maxError))"
   ]
  },
  {
   "cell_type": "code",
   "execution_count": 27,
   "id": "98bcf952-85a0-4437-b853-0ce27c78205f",
   "metadata": {},
   "outputs": [],
   "source": [
    "aveError = []\n",
    "\n",
    "for cond in condMaps:\n",
    "    \n",
    "    oneMap = cond\n",
    "    \n",
    "    binIndLims = [0]\n",
    "\n",
    "    for i in range(numBinsTest):\n",
    "        binIndLims.append(int((len(oneMap) - binIndLims[-1]) / (numBinsTest - i)) + (binIndLims[-1]))\n",
    "\n",
    "    sortInds = oneMap.argsort()\n",
    "    corDetStarTemp = detStar[sortInds[::1]]\n",
    "    injStarTemp = injStar[sortInds[::1]]\n",
    "\n",
    "    corDetBins = []\n",
    "    injBins = []\n",
    "\n",
    "    for i in range(numBinsTest):\n",
    "        corDetBins.append(corDetStarTemp[binIndLims[i]:binIndLims[i+1]])\n",
    "        injBins.append(injStarTemp[binIndLims[i]:binIndLims[i+1]])\n",
    "\n",
    "    yValuesCor = []\n",
    "\n",
    "    for i in range(numBinsTest):\n",
    "        yValuesCor.append((np.sum(corDetBins[i]) / np.sum(injBins[i])) / aveEff)\n",
    "\n",
    "    yValuesCor = np.array(yValuesCor)\n",
    "    \n",
    "    aveError.append(np.average(np.abs(yValuesCor - 1)))\n",
    "    \n",
    "aveError = np.array(aveError)"
   ]
  },
  {
   "cell_type": "code",
   "execution_count": 28,
   "id": "ae442e74-3719-49dc-8f7a-e1040d472f36",
   "metadata": {},
   "outputs": [
    {
     "name": "stdout",
     "output_type": "stream",
     "text": [
      "0.002556866088146417\n",
      "0.005154963135974344\n"
     ]
    }
   ],
   "source": [
    "print(np.average(aveError))\n",
    "print(np.max(aveError))"
   ]
  },
  {
   "cell_type": "code",
   "execution_count": null,
   "id": "0086583c-519a-4cac-8609-84ee90e010d6",
   "metadata": {},
   "outputs": [],
   "source": []
  }
 ],
 "metadata": {
  "kernelspec": {
   "display_name": "Python 3 (ipykernel)",
   "language": "python",
   "name": "python3"
  },
  "language_info": {
   "codemirror_mode": {
    "name": "ipython",
    "version": 3
   },
   "file_extension": ".py",
   "mimetype": "text/x-python",
   "name": "python",
   "nbconvert_exporter": "python",
   "pygments_lexer": "ipython3",
   "version": "3.9.12"
  }
 },
 "nbformat": 4,
 "nbformat_minor": 5
}
