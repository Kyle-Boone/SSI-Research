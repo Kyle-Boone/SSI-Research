{
 "cells": [
  {
   "cell_type": "code",
   "execution_count": 1,
   "id": "b21c96c8-e2e2-428b-9578-8807c1b5c826",
   "metadata": {},
   "outputs": [],
   "source": [
    "import numpy as np\n",
    "from numpy import loadtxt\n",
    "import fitsio\n",
    "import healpy as hp\n",
    "import healsparse as hsp\n",
    "import matplotlib.pyplot as plt\n",
    "import Config"
   ]
  },
  {
   "cell_type": "code",
   "execution_count": 13,
   "id": "6489d3d8-1623-4d06-838f-a7c37ded00c6",
   "metadata": {},
   "outputs": [],
   "source": [
    "dirTrain = '/hdfs/bechtol/balrog/y3/y3a2_survey_conditions_maps/Kyle_Stuff/training/'\n",
    "numBins = 1000\n",
    "conditions = Config.conditions\n",
    "res = 4096"
   ]
  },
  {
   "cell_type": "code",
   "execution_count": 3,
   "id": "8ff4a9c7-cb89-4f75-8955-9484e7a9bb95",
   "metadata": {},
   "outputs": [],
   "source": [
    "validPix = fitsio.read(dirTrain + 'Valid_4096_Pixels.fits')['PIXEL']\n",
    "pixCheck = np.full(12*(4096**2), False, dtype = bool)\n",
    "pixCheck[validPix] = True"
   ]
  },
  {
   "cell_type": "code",
   "execution_count": 4,
   "id": "67052785-620c-4739-9be9-cc3778833c16",
   "metadata": {},
   "outputs": [],
   "source": [
    "stds = np.loadtxt(dirTrain + 'Standard_Deviations.csv', delimiter = ',')\n",
    "mean = np.loadtxt(dirTrain + 'Means.csv', delimiter = ',')\n",
    "inds = np.loadtxt(dirTrain + 'Indices.csv', delimiter = ',').astype(int)"
   ]
  },
  {
   "cell_type": "code",
   "execution_count": 5,
   "id": "794bf9d6-869c-45e2-b64f-758c09b4b66e",
   "metadata": {},
   "outputs": [],
   "source": [
    "strFeatVec = loadtxt(dirTrain + 'Feature_Vectors.csv', delimiter = '\\t', dtype = object)\n",
    "featVec = []\n",
    "for i in range(len(strFeatVec)):\n",
    "    \n",
    "    indVec = []\n",
    "    \n",
    "    for j in range(len(strFeatVec[i])):\n",
    "        \n",
    "        indVec.append(float(strFeatVec[i][j]))\n",
    "        \n",
    "    indVec = np.array(indVec)\n",
    "    featVec.append(indVec)\n",
    "    \n",
    "featVec = np.array(featVec, dtype = object)"
   ]
  },
  {
   "cell_type": "code",
   "execution_count": 6,
   "id": "68232a17-269b-48b1-a8b7-941689d1a1b2",
   "metadata": {},
   "outputs": [],
   "source": [
    "# This is the actual file containing all of the data\n",
    "balrFile = '/afs/hep.wisc.edu/bechtol-group/MegansThings/balrog_detection_catalog_sof_run2_stars_v1.4_avg_added_match_flags.fits'\n",
    "# This reads in all of the data. Most of these are just flags, the only pieces that get used much outside\n",
    "# of filtering are detected, true_ra and true_dec which get used to convert into healPixels.\n",
    "balrData = fitsio.read(balrFile, columns = ['detected', 'true_ra', 'true_dec',\n",
    "                                            'flags_foreground', 'flags_badregions', 'flags_footprint',\n",
    "                                            'match_flag_1.5_asec'])"
   ]
  },
  {
   "cell_type": "code",
   "execution_count": 7,
   "id": "da9a2f66-0441-41ab-b31c-ce3e99caded3",
   "metadata": {},
   "outputs": [],
   "source": [
    "# These are in degrees which is why lonlat is set to True in the next cell.\n",
    "balrRA = balrData['true_ra']\n",
    "balrDEC = balrData['true_dec']\n",
    "# This is used for detection rates, each point is either a 0 (no detection) or a 1 (detection)\n",
    "balrDETRepeats = balrData['detected']\n",
    "# Everything from here on out is simply used in order to filter the data\n",
    "FOREGROUND = balrData['flags_foreground']\n",
    "BADREGIONS = balrData['flags_badregions']\n",
    "FOOTPRINT = balrData['flags_footprint']\n",
    "ARCSECONDS = balrData['match_flag_1.5_asec']\n",
    "\n",
    "# This is used to filter out any injections that either weren't detected or had flags raised.\n",
    "cutIndices = np.where((FOREGROUND == 0) & \n",
    "                      (BADREGIONS < 2) & \n",
    "                      (FOOTPRINT == 1) & \n",
    "                      (ARCSECONDS < 2))[0]\n",
    "\n",
    "# This reduced the data down to the actually valid pixels.\n",
    "balrDETRepeats = balrDETRepeats[cutIndices]\n",
    "balrRA = balrRA[cutIndices]\n",
    "balrDEC = balrDEC[cutIndices]\n",
    "\n",
    "# This converts the RA and DEC values from above to healpixels so we can compare to the sky condition.\n",
    "balrPIXRepeats = hp.ang2pix(res, balrRA, balrDEC, lonlat = True, nest = True)\n",
    "\n",
    "# This sorts by the pixel in order to make following methods more efficient.\n",
    "sortInds = balrPIXRepeats.argsort()\n",
    "balrPIXRepeats = balrPIXRepeats[sortInds[::1]]\n",
    "balrDETRepeats = balrDETRepeats[sortInds[::1]]\n",
    "\n",
    "# These are indices that will be looping through the pixStar and starPix arrays in parallel.\n",
    "uniqInd = 0\n",
    "balrInd = 0\n",
    "\n",
    "# This will be used to store the number of stars at each pixel.\n",
    "balrPIX = np.unique(balrPIXRepeats) # The unique pixels, with no repeats.\n",
    "balrDET = np.zeros_like(balrPIX)\n",
    "balrINJ = np.zeros_like(balrPIX)\n",
    "\n",
    "while balrInd < len(balrPIXRepeats):\n",
    "    if balrPIX[uniqInd] == balrPIXRepeats[balrInd]: # If the pixels match up in the arrays.\n",
    "        balrDET[uniqInd] += balrDETRepeats[balrInd]     # Add one if there was a detection at this location.\n",
    "        balrINJ[uniqInd] += 1                # Add one to the corresponding spot in the balStar array.\n",
    "        balrInd += 1                         # Add one to the starInd to see if the next index in starPix is also the same.\n",
    "        # Since the last index of pixStar and starPix are the same, starInd will increase the last time through the loop,\n",
    "        # making this the index that we must restrict in the while loop.\n",
    "    else:\n",
    "        uniqInd += 1 # If the pixels are no longer the same, increase the index you check in the pixStar array.\n",
    "\n",
    "validIndices = np.full(len(balrPIX), False, dtype = bool)\n",
    "validIndices[np.where(pixCheck[balrPIX])[0]] = True\n",
    "    \n",
    "# Degrades all of the values to a common set of pixels\n",
    "balrPIX = balrPIX[validIndices]\n",
    "balrDET = balrDET[validIndices]\n",
    "balrINJ = balrINJ[validIndices]\n",
    "\n",
    "# Stores the original data for later comparisons\n",
    "originalBalrDET = balrDET\n",
    "originalBalrINJ = balrINJ\n",
    "aveEff = np.sum(originalBalrDET) / np.sum(originalBalrINJ)"
   ]
  },
  {
   "cell_type": "code",
   "execution_count": 8,
   "id": "64c9f49d-7050-4c9e-a18e-db92271048cd",
   "metadata": {},
   "outputs": [],
   "source": [
    "condMaps = []\n",
    "\n",
    "# This loops over every condition file except for stellar density which has a different format\n",
    "for i in range(len(conditions)):\n",
    "    condData = fitsio.read(dirTrain + conditions[i] + '.fits') # This reads in the data\n",
    "    condSigExt = np.full(12*(4096**2), 0.0) # Gives a default value\n",
    "    condSigExt[validPix] = condData['SIGNAL'] # Changes all valid pixels to their corresponding signals\n",
    "    condMaps.append(condSigExt[balrPIX]) # Only stores the values that are in pixels with injections\n",
    "\n",
    "condMaps = np.array(condMaps, dtype = object) # Converts to an array"
   ]
  },
  {
   "cell_type": "code",
   "execution_count": 9,
   "id": "c0c923e6-7059-4015-842e-5a38cfef69ab",
   "metadata": {},
   "outputs": [],
   "source": [
    "stanMaps = []\n",
    "\n",
    "for i in range(len(condMaps)):\n",
    "    stanMaps.append((condMaps[i] - mean[i]) / stds[i])\n",
    "\n",
    "stanMaps = np.array(stanMaps, dtype = object) # Converts to an array"
   ]
  },
  {
   "cell_type": "code",
   "execution_count": 10,
   "id": "fcb5f8c2-fc79-4842-9cd4-a7b8a297fcc7",
   "metadata": {},
   "outputs": [],
   "source": [
    "redMaps = np.matmul(featVec, stanMaps)"
   ]
  },
  {
   "cell_type": "code",
   "execution_count": 14,
   "id": "8b79ab1b-457e-4086-b357-3610141c11cb",
   "metadata": {},
   "outputs": [],
   "source": [
    "incPix = np.full(len(balrPIX), True, dtype = bool)\n",
    "\n",
    "for ind in inds:\n",
    "    \n",
    "    oneMap = redMaps[ind]\n",
    "\n",
    "    binIndLims = [0]\n",
    "\n",
    "    for i in range(numBins):\n",
    "        binIndLims.append(int((len(oneMap) - binIndLims[-1]) / (numBins - i)) + (binIndLims[-1]))\n",
    "\n",
    "    sortInds = oneMap.argsort()\n",
    "    oneMapTemp = oneMap[sortInds[::1]]\n",
    "    injStarTemp = balrINJ[sortInds[::1]]\n",
    "\n",
    "    injBins = []\n",
    "    mapBins = []\n",
    "    \n",
    "    for i in range(numBins):\n",
    "        injBins.append(injStarTemp[binIndLims[i]:binIndLims[i+1]])\n",
    "        mapBins.append(oneMapTemp[binIndLims[i]:binIndLims[i+1]])\n",
    "\n",
    "    xValues = []\n",
    "\n",
    "    for i in range(numBins):\n",
    "        xValues.append(np.sum(mapBins[i] * injBins[i]) / np.sum(injBins[i]))\n",
    "\n",
    "    xValues = np.array(xValues)\n",
    "    \n",
    "    incPix[np.where((oneMap < xValues[0]) | (oneMap > xValues[-1]))[0]] = False"
   ]
  },
  {
   "cell_type": "code",
   "execution_count": 15,
   "id": "25e0642c-9272-4d47-bd69-cb7ef8e2a85b",
   "metadata": {},
   "outputs": [
    {
     "name": "stdout",
     "output_type": "stream",
     "text": [
      "0.9833262918710901\n"
     ]
    }
   ],
   "source": [
    "print(np.sum(incPix)/len(incPix))"
   ]
  },
  {
   "cell_type": "code",
   "execution_count": 16,
   "id": "ae3a4e03-8428-4ce2-905d-9c67233241dd",
   "metadata": {},
   "outputs": [
    {
     "data": {
      "text/plain": [
       "30"
      ]
     },
     "execution_count": 16,
     "metadata": {},
     "output_type": "execute_result"
    }
   ],
   "source": [
    "len(inds)"
   ]
  },
  {
   "cell_type": "code",
   "execution_count": null,
   "id": "d1ab6ed6-e353-4480-a060-830fbee6eb4b",
   "metadata": {},
   "outputs": [],
   "source": []
  }
 ],
 "metadata": {
  "kernelspec": {
   "display_name": "Python 3 (ipykernel)",
   "language": "python",
   "name": "python3"
  },
  "language_info": {
   "codemirror_mode": {
    "name": "ipython",
    "version": 3
   },
   "file_extension": ".py",
   "mimetype": "text/x-python",
   "name": "python",
   "nbconvert_exporter": "python",
   "pygments_lexer": "ipython3",
   "version": "3.9.12"
  }
 },
 "nbformat": 4,
 "nbformat_minor": 5
}
