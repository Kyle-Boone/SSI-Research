{
 "cells": [
  {
   "cell_type": "code",
   "execution_count": 1,
   "id": "0ae88bf4-fb42-475d-a18a-7a98b2bd57b5",
   "metadata": {},
   "outputs": [],
   "source": [
    "import numpy as np\n",
    "import matplotlib.pyplot as plt\n",
    "import fitsio\n",
    "from astropy.table import Table\n",
    "import healpy as hp\n",
    "from GetObjects import *\n",
    "import Config"
   ]
  },
  {
   "cell_type": "code",
   "execution_count": 2,
   "id": "1819a9bd-7e3b-4666-9b41-596e619a9e8b",
   "metadata": {},
   "outputs": [],
   "source": [
    "from ugali.analysis.isochrone import factory as isochrone_factory\n",
    "from matplotlib.path import Path\n",
    "import matplotlib.patches as patches\n",
    "from matplotlib.collections import PatchCollection\n",
    "\n",
    "def mkpol(mu, age=12., z=0.0004, dmu=0.5, C=[0.05, 0.05], E=4., err=None, survey='DECaLS', clip=None):\n",
    "    if err == None:\n",
    "        print('Using DES err!')\n",
    "        err = surveys.surveys['DES_DR1']['err']\n",
    "    \"\"\" Builds ordered polygon for masking \"\"\"\n",
    "\n",
    "    iso = isochrone_factory('Bressan2012', survey='des',\n",
    "                            age=age, distance_modulus=mu, z=z)\n",
    "    c = iso.color\n",
    "    m = iso.mag\n",
    "\n",
    "    # clip=4\n",
    "    # clip = 3.4\n",
    "    if clip is not None:\n",
    "        # Clip for plotting, use gmin otherwise\n",
    "        # clip abs mag\n",
    "        cut = (m > clip) & ((m + mu) < 240) & (c > 0) & (c < 1)\n",
    "        c = c[cut]\n",
    "        m = m[cut]\n",
    "\n",
    "    mnear = m + mu - dmu / 2.\n",
    "    mfar = m + mu + dmu / 2.\n",
    "    C = np.r_[c + E * err(mfar) + C[1], c[::-1] -  E * err(mnear[::-1]) - C[0]]\n",
    "    M = np.r_[m, m[::-1]]\n",
    "    return np.c_[C, M],iso\n",
    "err=lambda x: (0.0010908679647672335 + np.exp((x - 27.091072029215375) / 1.0904624484538419))\n",
    "\n",
    "def feh2z( feh):\n",
    "        # Section 3 of Dotter et al. 2008\n",
    "        Y_p     = 0.245            # Primordial He abundance (WMAP, 2003)\n",
    "        c       = 1.54             # He enrichment ratio \n",
    "\n",
    "        # This is not well defined...\n",
    "        #Z_solar/X_solar = 0.0229  # Solar metal fraction (Grevesse 1998)\n",
    "        ZX_solar = 0.0229\n",
    "        return (1 - Y_p)/( (1 + c) + (1/ZX_solar) * 10**(-feh))\n",
    "    \n",
    "def dist_fu(ra):\n",
    "    # given ra in deg return distance of 300s in kpc from fu et al.  \n",
    "    return 48.9952-0.2083*ra\n",
    "\n",
    "def dist2mod(dist):\n",
    "    return np.log10(dist*1e3)*5-5"
   ]
  },
  {
   "cell_type": "code",
   "execution_count": 3,
   "id": "3955f3cb-056e-47c4-85ce-ebc2e8a6d741",
   "metadata": {},
   "outputs": [],
   "source": [
    "index = 38\n",
    "condData = fitsio.read(Config.files[index])\n",
    "condition = Config.conditions[index]\n",
    "condPix = condData['PIXEL']\n",
    "condSignal = condData['SIGNAL']\n",
    "\n",
    "condPix = condPix[np.where(condSignal > -100)[0]]\n",
    "condSignal = condSignal[np.where(condSignal > -100)[0]]"
   ]
  },
  {
   "cell_type": "code",
   "execution_count": 4,
   "id": "32437d91-60df-4487-9bcd-cd6a707248c5",
   "metadata": {},
   "outputs": [],
   "source": [
    "gCut = 37\n",
    "\n",
    "detBalrStarFile = '/afs/hep.wisc.edu/bechtol-group/MegansThings/balrog_detection_catalog_sof_run2_stars_v1.4_avg_added_match_flags.fits'\n",
    "detStarFile = '/hdfs/bechtol/balrog/y3/y3a2_survey_conditions_maps/Kyle_Stuff/MaximumLikelihood/StellarStreamFirstTest/BalrogStarData.fits'\n",
    "\n",
    "detBalrFile = '/hdfs/bechtol/balrog/y3/balrog_detection_catalog_sof_y3-merged_v1.2.fits'\n",
    "deepFiles = ['/hdfs/bechtol/balrog/y3_deep_fields/y3_deep_fields_catalog/deepfields_000001.fits', \n",
    "             '/hdfs/bechtol/balrog/y3_deep_fields/y3_deep_fields_catalog/deepfields_000002.fits', \n",
    "             '/hdfs/bechtol/balrog/y3_deep_fields/y3_deep_fields_catalog/deepfields_000003.fits',\n",
    "             '/hdfs/bechtol/balrog/y3_deep_fields/y3_deep_fields_catalog/deepfields_000004.fits',\n",
    "             '/hdfs/bechtol/balrog/y3_deep_fields/y3_deep_fields_catalog/deepfields_000005.fits']\n",
    "detGalaFile = '/hdfs/bechtol/balrog/y3/y3a2_survey_conditions_maps/Kyle_Stuff/MaximumLikelihood/StellarStreamFirstTest/BalrogGalaxyData.fits'\n",
    "\n",
    "mu = 16.2\n",
    "age=12.8\n",
    "feh=-2.5\n",
    "z=feh2z(feh)\n",
    "mk,iso=mkpol(mu,age,z,dmu=0.5,C=[0.01,0.1],E=2,err=err, survey=\"DES_Y3A2\")#, clip=0.3)\n",
    "pth=Path(mk)\n",
    "\n",
    "# getDetGalas(pth, mu, deepFiles, detBalrFile, detGalaFile, gCut)\n",
    "# getDetStar(pth, mu, detBalrStarFile, detStarFile, gCut)"
   ]
  },
  {
   "cell_type": "code",
   "execution_count": 5,
   "id": "30dbb4e4-ae91-4799-89c7-438a1f77272f",
   "metadata": {},
   "outputs": [],
   "source": [
    "starData = fitsio.read(detStarFile)\n",
    "galaData = fitsio.read(detGalaFile)"
   ]
  },
  {
   "cell_type": "code",
   "execution_count": 6,
   "id": "32a0277d-a6ab-4fda-a17c-64941f805006",
   "metadata": {},
   "outputs": [],
   "source": [
    "isoDir = '/hdfs/bechtol/balrog/y3/y3a2_survey_conditions_maps/Kyle_Stuff/MaximumLikelihood/Isochrone_DistMod18.5_Class2.5_Res512/'\n",
    "\n",
    "conditions = Config.conditions\n",
    "pixFile = isoDir + 'PixAndConds/Valid_Pixels.fits'\n",
    "condFiles = []\n",
    "for cond in conditions:\n",
    "    condFiles.append(isoDir + 'PixAndConds/' + cond + '.fits')\n",
    "condFiles = np.array(condFiles)\n",
    "\n",
    "# validPix = fitsio.read(pixFile)['PIXEL']\n",
    "# pixCheck = np.full(12*(512**2), False, dtype = bool)\n",
    "# pixCheck[validPix] = True"
   ]
  },
  {
   "cell_type": "code",
   "execution_count": 7,
   "id": "9985e40c-621a-4237-8fbc-3db9e20328f8",
   "metadata": {},
   "outputs": [],
   "source": [
    "starRMAG = starData['RMAG']\n",
    "starDET = np.zeros_like(starRMAG)\n",
    "starDET[np.where((starData['CLASS'] <= 0) & (starData['CLASS'] >= 0))[0]] = 1\n",
    "starRA = starData['RA']\n",
    "starDEC = starData['DEC']\n",
    "starPIX = hp.ang2pix(4096, starRA, starDEC, lonlat = True, nest = True)\n",
    "\n",
    "galaRMAG = galaData['RMAG']\n",
    "galaDET = np.zeros_like(galaRMAG)\n",
    "galaDET[np.where((galaData['CLASS'] <= 0) & (galaData['CLASS'] >= 0))[0]] = 1\n",
    "galaRA = galaData['RA']\n",
    "galaDEC = galaData['DEC']\n",
    "galaPIX = hp.ang2pix(4096, galaRA, galaDEC, lonlat = True, nest = True)"
   ]
  },
  {
   "cell_type": "code",
   "execution_count": 8,
   "id": "0d7f82b1-fe33-417c-a17c-76dae6448fff",
   "metadata": {},
   "outputs": [],
   "source": [
    "starPIX = starPIX[np.where(starDET == 1)[0]]\n",
    "starRMAG = starRMAG[np.where(starDET == 1)[0]]\n",
    "\n",
    "galaPIX = galaPIX[np.where(galaDET == 1)[0]]\n",
    "galaRMAG = galaRMAG[np.where(galaDET == 1)[0]]"
   ]
  },
  {
   "cell_type": "code",
   "execution_count": 9,
   "id": "957c5761-fbdd-4ca2-94a7-c24b161be8ef",
   "metadata": {
    "jupyter": {
     "source_hidden": true
    },
    "tags": []
   },
   "outputs": [],
   "source": [
    "# pixCut = np.where(pixCheck[starPIX])[0]\n",
    "\n",
    "# # starDET = starDET[pixCut]\n",
    "# starPIX = starPIX[pixCut]\n",
    "# starRMAG = starRMAG[pixCut]"
   ]
  },
  {
   "cell_type": "code",
   "execution_count": 10,
   "id": "b599b33c-44e9-4d73-a0ed-a1c2a6267193",
   "metadata": {
    "jupyter": {
     "source_hidden": true
    },
    "tags": []
   },
   "outputs": [],
   "source": [
    "# pixCut = np.where(pixCheck[galaPIX])[0]\n",
    "\n",
    "# # galaDET = galaDET[pixCut]\n",
    "# galaPIX = galaPIX[pixCut]\n",
    "# galaRMAG = galaRMAG[pixCut]"
   ]
  },
  {
   "cell_type": "code",
   "execution_count": 11,
   "id": "645bee9e-94f7-4137-a230-82f89ba61806",
   "metadata": {},
   "outputs": [],
   "source": [
    "sigma = 0.5\n",
    "numBins = 100"
   ]
  },
  {
   "cell_type": "code",
   "execution_count": 12,
   "id": "f3078033-4411-4d31-a0c2-51609857a752",
   "metadata": {
    "jupyter": {
     "source_hidden": true
    },
    "tags": []
   },
   "outputs": [],
   "source": [
    "# xStar = np.linspace(np.average(starRMAG)-3*np.std(starRMAG), np.average(starRMAG)+3*np.std(starRMAG), numBins)\n",
    "# xStar = xStar[np.where(xStar <= np.max(starRMAG))[0]]\n",
    "# starSigma = sigma * np.std(starRMAG)\n",
    "# yStar = []\n",
    "\n",
    "# for xi in xStar:\n",
    "#     # Gaussian weighting the values close by to each x value.\n",
    "#     totCor = np.sum(starDET * np.exp(-1*(((starRMAG - xi) / starSigma)**2)))\n",
    "#     totAll = np.sum(np.exp(-1*(((starRMAG - xi) / starSigma)**2)))\n",
    "#     yStar.append(totCor / totAll)\n",
    "\n",
    "# yStar = np.array(yStar)"
   ]
  },
  {
   "cell_type": "code",
   "execution_count": 13,
   "id": "fe1cf603-4eb9-4429-848a-c493815d31dd",
   "metadata": {
    "jupyter": {
     "source_hidden": true
    },
    "tags": []
   },
   "outputs": [],
   "source": [
    "# xGala = np.linspace(np.average(galaRMAG)-3*np.std(galaRMAG), np.average(galaRMAG)+3*np.std(galaRMAG), numBins)\n",
    "# xGala = xGala[np.where(xGala <= np.max(galaRMAG))[0]]\n",
    "# galaSigma = sigma * np.std(galaRMAG)\n",
    "# yGala = []\n",
    "\n",
    "# for xi in xGala:\n",
    "#     # Gaussian weighting the values close by to each x value.\n",
    "#     totCor = np.sum(galaDET * np.exp(-1*(((galaRMAG - xi) / galaSigma)**2)))\n",
    "#     totAll = np.sum(np.exp(-1*(((galaRMAG - xi) / galaSigma)**2)))\n",
    "#     yGala.append(totCor / totAll)\n",
    "\n",
    "# yGala = np.array(yGala)"
   ]
  },
  {
   "cell_type": "code",
   "execution_count": 14,
   "id": "f8697103-02a2-453e-b151-000809a2f3bc",
   "metadata": {
    "jupyter": {
     "source_hidden": true
    },
    "tags": []
   },
   "outputs": [],
   "source": [
    "# plt.figure(dpi = 120)\n",
    "# plt.plot(xStar, yStar, zorder = 3, label = 'Star Stellar Detection Rate')\n",
    "# plt.xlabel('r Band Magnitude')\n",
    "# plt.ylabel('Percent')\n",
    "# plt.legend()\n",
    "# plt.grid(zorder = 0)\n",
    "# # plt.ylim([0, 1])\n",
    "# plt.show()"
   ]
  },
  {
   "cell_type": "code",
   "execution_count": 15,
   "id": "23d6f48c-c630-455d-8d92-238758c3d273",
   "metadata": {
    "jupyter": {
     "source_hidden": true
    },
    "tags": []
   },
   "outputs": [],
   "source": [
    "# plt.figure(dpi = 120)\n",
    "# plt.plot(xGala, yGala, zorder = 3, label = 'Galaxy Stellar Detection Rate')\n",
    "# plt.xlabel('r Band Magnitude')\n",
    "# plt.ylabel('Percent')\n",
    "# plt.legend()\n",
    "# plt.grid(zorder = 0)\n",
    "# # plt.ylim([0, 1])\n",
    "# plt.show()"
   ]
  },
  {
   "cell_type": "code",
   "execution_count": 16,
   "id": "d6cd8354-933c-47ed-ae27-248464db30f2",
   "metadata": {},
   "outputs": [],
   "source": [
    "# starRMAG = starRMAG# - 0.75"
   ]
  },
  {
   "cell_type": "code",
   "execution_count": 17,
   "id": "55dfdc02-52f7-4bff-9b3a-cce613768e9e",
   "metadata": {},
   "outputs": [],
   "source": [
    "lowerLim = 24\n",
    "upperLim = 24.5"
   ]
  },
  {
   "cell_type": "code",
   "execution_count": 18,
   "id": "19dfff3c-23a0-4b96-8bed-abdef74b07ea",
   "metadata": {},
   "outputs": [
    {
     "data": {
      "text/plain": [
       "31550"
      ]
     },
     "execution_count": 18,
     "metadata": {},
     "output_type": "execute_result"
    }
   ],
   "source": [
    "len(np.where((starRMAG >= lowerLim) & (starRMAG <= upperLim))[0])"
   ]
  },
  {
   "cell_type": "code",
   "execution_count": 19,
   "id": "5a7533a6-8969-46f0-8691-c3e8a34291ed",
   "metadata": {},
   "outputs": [
    {
     "data": {
      "text/plain": [
       "6623"
      ]
     },
     "execution_count": 19,
     "metadata": {},
     "output_type": "execute_result"
    }
   ],
   "source": [
    "len(np.where((galaRMAG >= lowerLim) & (galaRMAG <= upperLim))[0])"
   ]
  },
  {
   "cell_type": "code",
   "execution_count": 20,
   "id": "8b484248-893c-4d15-ac33-caefa4a973fc",
   "metadata": {},
   "outputs": [],
   "source": [
    "# starDET = starDET[np.where((starRMAG >= lowerLim) & (starRMAG <= upperLim))[0]]\n",
    "starPIX = starPIX[np.where((starRMAG >= lowerLim) & (starRMAG <= upperLim))[0]]\n",
    "starRMAG = starRMAG[np.where((starRMAG >= lowerLim) & (starRMAG <= upperLim))[0]]"
   ]
  },
  {
   "cell_type": "code",
   "execution_count": 21,
   "id": "3964bd55-0af2-459b-9d16-3310cc96ae40",
   "metadata": {},
   "outputs": [],
   "source": [
    "# galaDET = galaDET[np.where((galaRMAG >= lowerLim) & (galaRMAG <= upperLim))[0]]\n",
    "galaPIX = galaPIX[np.where((galaRMAG >= lowerLim) & (galaRMAG <= upperLim))[0]]\n",
    "galaRMAG = galaRMAG[np.where((galaRMAG >= lowerLim) & (galaRMAG <= upperLim))[0]]"
   ]
  },
  {
   "cell_type": "code",
   "execution_count": 22,
   "id": "6300c60e-2cdc-4774-9545-b60c0653ec73",
   "metadata": {},
   "outputs": [
    {
     "data": {
      "image/png": "[encoded data removed]",
      "text/plain": [
       "<Figure size 768x576 with 1 Axes>"
      ]
     },
     "metadata": {},
     "output_type": "display_data"
    }
   ],
   "source": [
    "plt.figure(dpi = 120)\n",
    "nStars = plt.hist(starRMAG, bins = np.linspace(lowerLim, upperLim, 11), alpha = 0.5)\n",
    "binLims = nStars[1]\n",
    "nStars = nStars[0]\n",
    "nGalas = plt.hist(galaRMAG, bins = np.linspace(lowerLim, upperLim, 11), alpha = 0.5)\n",
    "nGalas = nGalas[0]\n",
    "plt.show()"
   ]
  },
  {
   "cell_type": "code",
   "execution_count": 23,
   "id": "7b9b441f-6773-406f-a724-6c08d86fd9d8",
   "metadata": {},
   "outputs": [],
   "source": [
    "starPerBin = int(np.min(nStars))\n",
    "galaPerBin = int(np.min(nGalas))"
   ]
  },
  {
   "cell_type": "code",
   "execution_count": 24,
   "id": "144c07e8-1d82-4831-be51-61ae399b1cdd",
   "metadata": {},
   "outputs": [],
   "source": [
    "allStarInds = np.array([])\n",
    "allGalaInds = []\n",
    "for i in np.arange(len(binLims) - 1):\n",
    "    starInds = np.where((starRMAG >= binLims[i]) & (starRMAG <= binLims[i+1]))[0]\n",
    "    np.random.shuffle(starInds)\n",
    "    starInds = starInds[:starPerBin]\n",
    "    allStarInds = np.append(allStarInds, starInds)\n",
    "    \n",
    "    galaInds = np.where((galaRMAG >= binLims[i]) & (galaRMAG <= binLims[i+1]))[0]\n",
    "    np.random.permutation(galaInds)\n",
    "    galaInds = galaInds[:galaPerBin]\n",
    "    allGalaInds = np.append(allGalaInds, galaInds)"
   ]
  },
  {
   "cell_type": "code",
   "execution_count": 25,
   "id": "af36de71-e1c4-48b8-98db-066c2fff9900",
   "metadata": {},
   "outputs": [],
   "source": [
    "# starDET = starDET[allStarInds.astype(int)]\n",
    "starPIX = starPIX[allStarInds.astype(int)]\n",
    "starRMAG = starRMAG[allStarInds.astype(int)]"
   ]
  },
  {
   "cell_type": "code",
   "execution_count": 26,
   "id": "f658128c-d86c-40fc-ac0e-e830e15f4061",
   "metadata": {},
   "outputs": [],
   "source": [
    "# galaDET = galaDET[allGalaInds.astype(int)]\n",
    "galaPIX = galaPIX[allGalaInds.astype(int)]\n",
    "galaRMAG = galaRMAG[allGalaInds.astype(int)]"
   ]
  },
  {
   "cell_type": "code",
   "execution_count": 27,
   "id": "6ef46da0-7e4a-4328-8c60-16e2f1108400",
   "metadata": {},
   "outputs": [
    {
     "data": {
      "image/png": "[encoded data removed]",
      "text/plain": [
       "<Figure size 768x576 with 1 Axes>"
      ]
     },
     "metadata": {},
     "output_type": "display_data"
    }
   ],
   "source": [
    "plt.figure(dpi = 120)\n",
    "plt.hist(starRMAG, bins = binLims, alpha = 0.5)#, density = True)\n",
    "plt.hist(galaRMAG, bins = binLims, alpha = 0.5)#, density = True)\n",
    "plt.show()"
   ]
  },
  {
   "cell_type": "code",
   "execution_count": 28,
   "id": "dad389a8-b7c0-4da5-adf9-d61f694f451f",
   "metadata": {},
   "outputs": [],
   "source": [
    "# aveStar = len(starPIX) / len(np.unique(starPIX))#np.sum(starDET) / len(starDET)\n",
    "# aveGala = len(galaPIX) / len(np.unique(galaPIX))#np.sum(galaDET) / len(galaDET)"
   ]
  },
  {
   "cell_type": "code",
   "execution_count": 29,
   "id": "031bd7d4-97c2-40b7-bbb2-cc90edd66d6e",
   "metadata": {},
   "outputs": [],
   "source": [
    "starPixCounts = np.zeros(12*4096**2)\n",
    "for pix in starPIX:\n",
    "    starPixCounts[pix] += 1\n",
    "starPixCounts = starPixCounts[condPix]\n",
    "\n",
    "galaPixCounts = np.zeros(12*4096**2)\n",
    "for pix in galaPIX:\n",
    "    galaPixCounts[pix] += 1\n",
    "galaPixCounts = galaPixCounts[condPix]"
   ]
  },
  {
   "cell_type": "code",
   "execution_count": 30,
   "id": "6ade8411-2848-487f-b1d6-0b3fb6bd6455",
   "metadata": {},
   "outputs": [],
   "source": [
    "aveStar = np.sum(starPixCounts) / len(starPixCounts)\n",
    "aveGala = np.sum(galaPixCounts) / len(galaPixCounts)"
   ]
  },
  {
   "cell_type": "code",
   "execution_count": 31,
   "id": "406dcb95-6326-4b5b-b5be-14bfa4864441",
   "metadata": {},
   "outputs": [],
   "source": [
    "# conditionCheck = fitsio.read(condFiles[38])['SIGNAL']"
   ]
  },
  {
   "cell_type": "code",
   "execution_count": 32,
   "id": "24535793-9842-43d8-8d98-7684cb6c3366",
   "metadata": {},
   "outputs": [],
   "source": [
    "# fullSkyCond = np.zeros(12*(512**2))\n",
    "# fullSkyCond[validPix] = conditionCheck"
   ]
  },
  {
   "cell_type": "code",
   "execution_count": 33,
   "id": "907ac547-5812-42ea-9cbf-911031464538",
   "metadata": {},
   "outputs": [],
   "source": [
    "# starCond = fullSkyCond[np.unique(starPIX)]\n",
    "# galaCond = fullSkyCond[np.unique(galaPIX)]"
   ]
  },
  {
   "cell_type": "code",
   "execution_count": 34,
   "id": "2ca253aa-1fe8-4965-883b-d53555cb2201",
   "metadata": {},
   "outputs": [],
   "source": [
    "xStar = np.linspace(np.average(condSignal)-3*np.std(condSignal), np.average(condSignal)+3*np.std(condSignal), numBins)\n",
    "xStar = xStar[np.where(xStar <= np.max(condSignal))[0]]\n",
    "xStar = xStar[np.where(xStar >= np.min(condSignal))[0]]\n",
    "starSigma = sigma * np.std(condSignal)\n",
    "yStar = []\n",
    "\n",
    "for xi in xStar:\n",
    "    # Gaussian weighting the values close by to each x value.\n",
    "    totCor = np.sum(starPixCounts * np.exp(-1*(((condSignal - xi) / starSigma)**2)))\n",
    "    totAll = np.sum(np.exp(-1*(((condSignal - xi) / starSigma)**2)))\n",
    "    yStar.append((totCor / totAll) / aveStar)\n",
    "\n",
    "yStar = np.array(yStar)"
   ]
  },
  {
   "cell_type": "code",
   "execution_count": 35,
   "id": "31ed106b-dd98-49d4-909f-5300d5dcf0f9",
   "metadata": {},
   "outputs": [],
   "source": [
    "xGala = np.linspace(np.average(condSignal)-3*np.std(condSignal), np.average(condSignal)+3*np.std(condSignal), numBins)\n",
    "xGala = xGala[np.where(xGala <= np.max(condSignal))[0]]\n",
    "xGala = xGala[np.where(xGala >= np.min(condSignal))[0]]\n",
    "galaSigma = sigma * np.std(condSignal)\n",
    "yGala = []\n",
    "\n",
    "for xi in xGala:\n",
    "    # Gaussian weighting the values close by to each x value.\n",
    "    totCor = np.sum(galaPixCounts * np.exp(-1*(((condSignal - xi) / galaSigma)**2)))\n",
    "    totAll = np.sum(np.exp(-1*(((condSignal - xi) / galaSigma)**2)))\n",
    "    yGala.append((totCor / totAll) / aveGala)\n",
    "\n",
    "yGala = np.array(yGala)"
   ]
  },
  {
   "cell_type": "code",
   "execution_count": 36,
   "id": "c6345524-b78a-4a44-a406-11402fd57c28",
   "metadata": {},
   "outputs": [
    {
     "data": {
      "image/png": "[encoded data removed]",
      "text/plain": [
       "<Figure size 768x576 with 1 Axes>"
      ]
     },
     "metadata": {},
     "output_type": "display_data"
    }
   ],
   "source": [
    "plt.figure(dpi = 120)\n",
    "plt.plot(xStar, yStar, zorder = 3, label = 'Stars')\n",
    "plt.plot(xGala, yGala, zorder = 3, label = 'Galaxies')\n",
    "plt.xlabel(condition)\n",
    "plt.ylabel('Relative Stellar Detection Rate')\n",
    "plt.legend()\n",
    "plt.grid(zorder = 0)\n",
    "# plt.ylim([0, 1])\n",
    "plt.show()"
   ]
  },
  {
   "cell_type": "code",
   "execution_count": 37,
   "id": "e293d542-7a47-4a40-b285-7da1428506e1",
   "metadata": {},
   "outputs": [
    {
     "name": "stdout",
     "output_type": "stream",
     "text": [
      "0.0007327014860518321\n",
      "0.0001633885131997936\n"
     ]
    }
   ],
   "source": [
    "print(aveStar)\n",
    "print(aveGala)"
   ]
  },
  {
   "cell_type": "code",
   "execution_count": null,
   "id": "32f0042e-13b7-4ceb-b6cd-b57e03bdc51e",
   "metadata": {},
   "outputs": [],
   "source": []
  }
 ],
 "metadata": {
  "kernelspec": {
   "display_name": "Python 3 (ipykernel)",
   "language": "python",
   "name": "python3"
  },
  "language_info": {
   "codemirror_mode": {
    "name": "ipython",
    "version": 3
   },
   "file_extension": ".py",
   "mimetype": "text/x-python",
   "name": "python",
   "nbconvert_exporter": "python",
   "pygments_lexer": "ipython3",
   "version": "3.9.12"
  }
 },
 "nbformat": 4,
 "nbformat_minor": 5
}
