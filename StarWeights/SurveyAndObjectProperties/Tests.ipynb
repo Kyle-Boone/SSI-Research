{
 "cells": [
  {
   "cell_type": "code",
   "execution_count": 1,
   "id": "4f79279f-9f31-4c60-94a6-ac3b0236563d",
   "metadata": {},
   "outputs": [],
   "source": [
    "import numpy as np\n",
    "from scipy.special import binom\n",
    "import matplotlib.pyplot as plt\n",
    "import fitsio\n",
    "import Config"
   ]
  },
  {
   "cell_type": "code",
   "execution_count": 2,
   "id": "368fc51d-2343-4a6c-b231-55b5ac2d6012",
   "metadata": {},
   "outputs": [],
   "source": [
    "# newGalaDir = '/hdfs/bechtol/balrog/y3/y3a2_survey_conditions_maps/Kyle_Stuff/ObjectPropertyGalaxyContamination/'\n",
    "# galaFile = newGalaDir + 'Blue_Galaxies.fits'\n",
    "# starFile = newGalaDir + 'Blue_Stars.fits'"
   ]
  },
  {
   "cell_type": "code",
   "execution_count": 3,
   "id": "4f771b3a-69f2-46c8-a38b-7040ba9e7c93",
   "metadata": {},
   "outputs": [],
   "source": [
    "# stars = fitsio.read(starFile)\n",
    "# galas = fitsio.read(galaFile)"
   ]
  },
  {
   "cell_type": "code",
   "execution_count": 4,
   "id": "2083794e-f5cf-4e84-9f03-0863c534e47c",
   "metadata": {},
   "outputs": [],
   "source": [
    "# allProps = []\n",
    "# starG = stars['GMAG_PSF']\n",
    "# starR = stars['RMAG_PSF']"
   ]
  },
  {
   "cell_type": "code",
   "execution_count": 5,
   "id": "4f983b01-affe-46e9-b9f4-ce422a1d98ed",
   "metadata": {},
   "outputs": [],
   "source": [
    "# allProps.append(starG)\n",
    "# allProps.append(starR)"
   ]
  },
  {
   "cell_type": "code",
   "execution_count": 6,
   "id": "8753e066-aaac-443a-b20b-847aad6f6f44",
   "metadata": {},
   "outputs": [],
   "source": [
    "# allProps"
   ]
  },
  {
   "cell_type": "code",
   "execution_count": 7,
   "id": "ffb4395b-782b-4f80-b605-6635d2dbe8c1",
   "metadata": {},
   "outputs": [],
   "source": [
    "# largeArray = np.array([False, True, True, True, False, False, True, False])\n",
    "# check = np.array([0, 1, 3, 4])\n",
    "# np.where(largeArray[check])[0]"
   ]
  },
  {
   "cell_type": "code",
   "execution_count": 8,
   "id": "371f6a3f-ca35-43dd-ad41-10dd3b2a5f52",
   "metadata": {},
   "outputs": [],
   "source": [
    "# check[np.where(largeArray[check])[0]]"
   ]
  },
  {
   "cell_type": "code",
   "execution_count": 9,
   "id": "6c871e06-123d-4a8f-8a4a-c5fecd8bb875",
   "metadata": {},
   "outputs": [],
   "source": [
    "# ones = np.ones(5)\n",
    "# divisors = np.arange(5) + 1"
   ]
  },
  {
   "cell_type": "code",
   "execution_count": 10,
   "id": "f3ed582b-4fdc-41e1-b1ab-380210555e5f",
   "metadata": {},
   "outputs": [],
   "source": [
    "# print(np.atleast_2d(ones / divisors).T)"
   ]
  },
  {
   "cell_type": "code",
   "execution_count": 11,
   "id": "e94410f7-3a45-44a0-90d2-81fe4eaace46",
   "metadata": {},
   "outputs": [],
   "source": [
    "# featVec = np.array([[1, 2, 3, 4, 5], [2,4, 6, 8, 10]])"
   ]
  },
  {
   "cell_type": "code",
   "execution_count": 12,
   "id": "872a3451-9188-43d9-94af-f7bccd647415",
   "metadata": {},
   "outputs": [],
   "source": [
    "# featVec"
   ]
  },
  {
   "cell_type": "code",
   "execution_count": 13,
   "id": "1d581e78-aa38-4fd4-92ac-b3d4bbf74ffd",
   "metadata": {},
   "outputs": [],
   "source": [
    "# np.matmul(featVec, np.atleast_2d(ones / divisors).T).T[0]"
   ]
  },
  {
   "cell_type": "markdown",
   "id": "dd98c05e-c543-4378-bfd3-c8341feccaf3",
   "metadata": {},
   "source": [
    "## Maximum Likelihood Tests"
   ]
  },
  {
   "cell_type": "code",
   "execution_count": 14,
   "id": "2b89f376-ae81-4779-9902-d474c932df94",
   "metadata": {},
   "outputs": [],
   "source": [
    "PS = np.random.rand()\n",
    "PG = np.random.rand()\n",
    "CS = np.random.randint(100)\n",
    "CG = np.random.randint(200)\n",
    "\n",
    "PS = 0.7 + 0.3 * np.random.rand()\n",
    "PG = 0.85 + 0.15 * np.random.rand()"
   ]
  },
  {
   "cell_type": "code",
   "execution_count": 15,
   "id": "7231da50-185a-41e7-ab8c-c20efcdcdffd",
   "metadata": {},
   "outputs": [],
   "source": [
    "# # Overall Algorithm:\n",
    "# # For each possible configuration, figure out the likelihood of observing Cr and Cg as is.\n",
    "# likelihoods = []\n",
    "# # If Or is 0:\n",
    "# prob = binom(3, 1) * (PG**2) * (1-PG)\n",
    "# likelihoods.append(prob)\n",
    "# # If Or is 1:\n",
    "# prob = binom(1, 0) * (1-PS) * binom(2, 1) * (PG) * (1-PG) + binom(1, 1) * (PS) * binom(2, 0) * (PG**2)\n",
    "# likelihoods.append(prob)\n",
    "# # If Or is 2:\n",
    "# prob = binom(2, 0) * ((1-PS)**2) * binom(1, 1) * (1-PG) + binom(2, 1) * PS * (1-PS) * binom(1, 0) * PG\n",
    "# likelihoods.append(prob)\n",
    "# # If Or is 3:\n",
    "# prob = binom(3, 1) * PS * ((1-PS)**2)\n",
    "# likelihoods.append(prob)"
   ]
  },
  {
   "cell_type": "code",
   "execution_count": 16,
   "id": "99e38821-731e-4c8d-869d-50334f2d57aa",
   "metadata": {},
   "outputs": [],
   "source": [
    "# likelihoods"
   ]
  },
  {
   "cell_type": "code",
   "execution_count": 17,
   "id": "b877baae-6682-47ce-b0c5-2548a1b23d1c",
   "metadata": {},
   "outputs": [],
   "source": [
    "likelihoods = []\n",
    "for OS in np.arange(CS + CG + 1):\n",
    "    # Now loop over number of classified stars actually coming from the observed stars\n",
    "    OG = CS + CG - OS\n",
    "    CSFOS = np.max([CS - OG, 0])\n",
    "    sumProb = 0\n",
    "    while (CSFOS <= OS) & (CSFOS <= CS):\n",
    "        sumProb += binom(OS, CSFOS) * (PS**(CSFOS)) * ((1-PS)**(OS-CSFOS)) * binom(OG, CS - CSFOS) * (PG**(OG - CS + CSFOS)) * ((1-PG)**(CS-CSFOS))\n",
    "        CSFOS += 1\n",
    "    likelihoods.append(sumProb)"
   ]
  },
  {
   "cell_type": "code",
   "execution_count": 18,
   "id": "53a4ac98-f1cc-4ff9-b65c-2f7ef2ea1fcc",
   "metadata": {},
   "outputs": [
    {
     "data": {
      "text/plain": [
       "64"
      ]
     },
     "execution_count": 18,
     "metadata": {},
     "output_type": "execute_result"
    }
   ],
   "source": [
    "np.where(likelihoods == np.max(likelihoods))[0][0]"
   ]
  },
  {
   "cell_type": "code",
   "execution_count": 19,
   "id": "3a05d013-91a0-4ca1-a99e-ccadb2fcf0cc",
   "metadata": {},
   "outputs": [],
   "source": [
    "sherwinMethod = ((CS+CG)*(1-PG) - CS) / (1-PS-PG)"
   ]
  },
  {
   "cell_type": "code",
   "execution_count": 20,
   "id": "f8e5507f-6260-4110-ace8-382858c779e7",
   "metadata": {},
   "outputs": [
    {
     "name": "stdout",
     "output_type": "stream",
     "text": [
      "64.0 or 65.0\n"
     ]
    }
   ],
   "source": [
    "print(str(np.floor(sherwinMethod)) + ' or ' + str(np.ceil(sherwinMethod)))"
   ]
  },
  {
   "cell_type": "code",
   "execution_count": 21,
   "id": "5963ef7a-732d-4d20-9d2b-d59fdb1a419d",
   "metadata": {},
   "outputs": [
    {
     "name": "stdout",
     "output_type": "stream",
     "text": [
      "198\n"
     ]
    }
   ],
   "source": [
    "print(CS + CG)"
   ]
  },
  {
   "cell_type": "code",
   "execution_count": null,
   "id": "1b774776-9911-423e-bb3a-a58586d798a4",
   "metadata": {},
   "outputs": [],
   "source": []
  }
 ],
 "metadata": {
  "kernelspec": {
   "display_name": "Python 3 (ipykernel)",
   "language": "python",
   "name": "python3"
  },
  "language_info": {
   "codemirror_mode": {
    "name": "ipython",
    "version": 3
   },
   "file_extension": ".py",
   "mimetype": "text/x-python",
   "name": "python",
   "nbconvert_exporter": "python",
   "pygments_lexer": "ipython3",
   "version": "3.9.12"
  }
 },
 "nbformat": 4,
 "nbformat_minor": 5
}
