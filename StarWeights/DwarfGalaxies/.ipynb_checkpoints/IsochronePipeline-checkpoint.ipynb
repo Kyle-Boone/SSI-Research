{
 "cells": [
  {
   "cell_type": "code",
   "execution_count": 4,
   "id": "a186ddc1-9b99-46ea-83bb-459d25519551",
   "metadata": {},
   "outputs": [],
   "source": [
    "import numpy as np\n",
    "import matplotlib.pyplot as plt\n",
    "import fitsio\n",
    "import astropy.io.fits as fits\n",
    "from astropy.table import Table\n",
    "import healpy as hp\n",
    "import healsparse as hsp\n",
    "import skyproj\n",
    "from os import listdir\n",
    "import Config\n",
    "import IsochroneConfig as isoConfig\n",
    "from CropSurveyProperties import *\n",
    "from GetObjects import *\n",
    "from TrainAndFullMap import *"
   ]
  },
  {
   "cell_type": "code",
   "execution_count": null,
   "id": "e0854760-6ca5-4911-9631-a21c1cb34ddc",
   "metadata": {},
   "outputs": [],
   "source": []
  }
 ],
 "metadata": {
  "kernelspec": {
   "display_name": "Python 3 (ipykernel)",
   "language": "python",
   "name": "python3"
  },
  "language_info": {
   "codemirror_mode": {
    "name": "ipython",
    "version": 3
   },
   "file_extension": ".py",
   "mimetype": "text/x-python",
   "name": "python",
   "nbconvert_exporter": "python",
   "pygments_lexer": "ipython3",
   "version": "3.9.12"
  }
 },
 "nbformat": 4,
 "nbformat_minor": 5
}
