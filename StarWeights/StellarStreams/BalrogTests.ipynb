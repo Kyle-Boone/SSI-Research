{
 "cells": [
  {
   "cell_type": "markdown",
   "id": "3ee6913c-5a6f-4359-bfc8-aa72dde79c49",
   "metadata": {},
   "source": [
    "### Imports"
   ]
  },
  {
   "cell_type": "code",
   "execution_count": 1,
   "id": "142575cf-1c71-4fa3-86d7-c2edcf9b02bd",
   "metadata": {},
   "outputs": [],
   "source": [
    "import fitsio\n",
    "import numpy as np\n",
    "import healpy as hp\n",
    "import matplotlib.pyplot as plt\n",
    "import matplotlib.style\n",
    "import matplotlib\n",
    "from astropy.table import Table\n",
    "import BalrogTestConfig as balrConfig\n",
    "import Config\n",
    "from TrainAndFullMap import *"
   ]
  },
  {
   "cell_type": "markdown",
   "id": "2dcd01e9-9b86-4e99-99b6-afcaceb73436",
   "metadata": {},
   "source": [
    "### Universal Parameters"
   ]
  },
  {
   "cell_type": "code",
   "execution_count": 2,
   "id": "aa337b03-7ab5-47ee-8ad7-24ead4115ebc",
   "metadata": {},
   "outputs": [],
   "source": [
    "sigma = balrConfig.sigma\n",
    "perVar = balrConfig.perVar\n",
    "perMap = balrConfig.perMap\n",
    "numBins = balrConfig.numBins\n",
    "perCovered = balrConfig.perCovered"
   ]
  },
  {
   "cell_type": "markdown",
   "id": "5a484ffd-ebb2-43c7-aeb8-329679bfcea7",
   "metadata": {},
   "source": [
    "### Universal Files"
   ]
  },
  {
   "cell_type": "code",
   "execution_count": 3,
   "id": "000636e6-1c80-4896-a1b4-bd302de0d236",
   "metadata": {},
   "outputs": [],
   "source": [
    "detBalrStarFile = balrConfig.detBalrStarFile\n",
    "detBalrGalaFile = balrConfig.detBalrGalaFile\n",
    "\n",
    "deepFiles = balrConfig.deepFiles\n",
    "\n",
    "origCondFiles = balrConfig.origCondFiles\n",
    "stelFile = balrConfig.stelFile"
   ]
  },
  {
   "cell_type": "markdown",
   "id": "b2834aaf-040d-4f52-96a6-e61270c8378a",
   "metadata": {},
   "source": [
    "# Test 1\n",
    "\n",
    "This test will test the PCA method in general as well as the statistical significance of the balrog stellar sample. We will read in every star object first. The pixels from every injection will serve as our overall sample for calculating $\\langle N\\rangle$. A full 4096 resolution will be used. In order to increase efficiency at runtime, many methods which were optimized for the full pipeline will have to be slightly rewritten. I'll just have them here. Anywho, after we get that, we'll look at $\\langle N\\rangle$ plots for stars detected and given any classification. An N method correction will then be done on these counts, and new $\\langle N\\rangle$ plots will be produced. We are looking for a significant drop in dependence. Runtime will likely be on the order of hours. The full 4096 resolution will increase it, but only one probability needs to be calculated so that's pretty nice I guess.\n",
    "\n",
    "As a small matter, for this test I will use true_ra and true_dec values. This should not play a big role, but it will cause occasional mismatches."
   ]
  },
  {
   "cell_type": "markdown",
   "id": "5467f2c8-6162-4630-8b56-70eea726ce51",
   "metadata": {},
   "source": [
    "### Test 1 Files and Parameters"
   ]
  },
  {
   "cell_type": "code",
   "execution_count": 4,
   "id": "1dc7201f-a288-4fbb-a23a-96721c3fc112",
   "metadata": {},
   "outputs": [],
   "source": [
    "# test1Res = balrConfig.test1Res\n",
    "# test1MagBin = balrConfig.test1MagBin\n",
    "\n",
    "# test1AllPixFile = balrConfig.test1AllPixFile\n",
    "# test1StarFile = balrConfig.test1StarFile\n",
    "# test1ValidPixFile = balrConfig.test1ValidPixFile\n",
    "\n",
    "# test1CondFiles = balrConfig.test1CondFiles\n",
    "\n",
    "# test1TrainFile = balrConfig.test1TrainFile\n",
    "# test1ProbFile = balrConfig.test1ProbFile\n",
    "# test1ExtrFile = balrConfig.test1ExtrFile"
   ]
  },
  {
   "cell_type": "markdown",
   "id": "8fc0595a-9076-4dc5-bd4d-022119a46eec",
   "metadata": {},
   "source": [
    "### Get Balrog Data"
   ]
  },
  {
   "cell_type": "code",
   "execution_count": 5,
   "id": "0341fe35-f9b9-41d7-93b0-59f3adc08139",
   "metadata": {},
   "outputs": [],
   "source": [
    "# detStarData = fitsio.read(detBalrStarFile, columns = ['true_ra', 'true_dec', 'detected'])"
   ]
  },
  {
   "cell_type": "markdown",
   "id": "fa736325-4b75-40fb-98ba-7ef54f25f851",
   "metadata": {},
   "source": [
    "### Find Valid Pixels (All Valid Survey Properties and Injection)"
   ]
  },
  {
   "cell_type": "code",
   "execution_count": 6,
   "id": "44d78cfd-9044-49f7-b772-a0f323e8b23a",
   "metadata": {},
   "outputs": [],
   "source": [
    "# # balrPix = hp.ang2pix(test1Res, detStarData['true_ra'], detStarData['true_dec'], nest = True, lonlat = True)\n",
    "# # balrPixCheck = np.full(12*(test1Res**2), False, dtype = bool)\n",
    "# # balrPixCheck[balrPix] = True\n",
    "\n",
    "# # validPix = np.full(12*(test1Res**2), True, dtype = bool)\n",
    "    \n",
    "# # for file in origCondFiles:\n",
    "# #     condData = fitsio.read(file) # This reads in the data.\n",
    "# #     condSigExt = np.full(12*(test1Res**2), -1.6375e+30) # Gives a default value.\n",
    "# #     condSigExt[condData['PIXEL']] = condData['SIGNAL'] # Changes all valid pixels to their corresponding signals.\n",
    "# #     validPix[np.where(condSigExt < -100)] = False # An invalid survey property marks this pixel as false.\n",
    "\n",
    "# # stelDensExt = fitsio.read(stelFile)['I'].flatten() # Loads in the stellar density.\n",
    "# # validPix[np.where(stelDensExt < -100)] = False # Any non valid pixel has its value changed to False.\n",
    "\n",
    "# # validPix[~balrPixCheck] = False\n",
    "\n",
    "# # validPix = np.where(validPix)[0]\n",
    "\n",
    "# # my_table = Table()\n",
    "# # my_table['PIXEL'] = validPix\n",
    "# # my_table.write(test1ValidPixFile, overwrite = True)\n",
    "\n",
    "# validPix = fitsio.read(test1ValidPixFile)['PIXEL']"
   ]
  },
  {
   "cell_type": "markdown",
   "id": "f98ee3a4-6d69-41bc-8400-337a41f9082d",
   "metadata": {},
   "source": [
    "### Restrict Survey Properties to Valid Pixels"
   ]
  },
  {
   "cell_type": "code",
   "execution_count": 7,
   "id": "9c499f14-f00e-40cd-99fc-49f681d2d352",
   "metadata": {},
   "outputs": [],
   "source": [
    "# for i in range(len(origCondFiles)):\n",
    "#     condData = fitsio.read(origCondFiles[i]) # This reads in the data.\n",
    "#     condSigExt = np.full(12*(4096**2), -1.6375e+30) # Gives a default value.\n",
    "#     condSigExt[condData['PIXEL']] = condData['SIGNAL'] # Changes all valid pixels to their corresponding signals.\n",
    "#     condSig = condSigExt[validPix] # Crops to the desired pixels.\n",
    "#     # Writes data.\n",
    "#     my_table = Table()\n",
    "#     my_table['SIGNAL'] = condSig\n",
    "#     my_table.write(test1CondFiles[i], overwrite = True)\n",
    "\n",
    "# # Same as block above but for stellar density.\n",
    "# stelDensExt = fitsio.read(stelFile)['I'].flatten() # Loads in the stellar density\n",
    "# condSig = stelDensExt[validPix]\n",
    "# my_table = Table()\n",
    "# my_table['SIGNAL'] = condSig\n",
    "# my_table.write(test1CondFiles[-1], overwrite = True)"
   ]
  },
  {
   "cell_type": "markdown",
   "id": "773c6d2b-3464-47a7-b0ca-844cd5847cdc",
   "metadata": {},
   "source": [
    "### Save Location of Every Injection in a Valid Pixel"
   ]
  },
  {
   "cell_type": "code",
   "execution_count": 8,
   "id": "2d5439bf-7f91-40bb-a7ce-0ff751e1ba10",
   "metadata": {},
   "outputs": [],
   "source": [
    "# allRA = detStarData['true_ra']\n",
    "# allDEC = detStarData['true_dec']\n",
    "# allDET = detStarData['detected']\n",
    "\n",
    "# cropValidPix = np.isin(balrPix, validPix)\n",
    "\n",
    "# allRA = allRA[cropValidPix]\n",
    "# allDEC = allDEC[cropValidPix]\n",
    "# allDET = allDET[cropValidPix]\n",
    "\n",
    "# my_table = Table()\n",
    "# my_table['RA'] = allRA\n",
    "# my_table['DEC'] = allDEC\n",
    "# my_table.write(test1AllPixFile, overwrite = True)"
   ]
  },
  {
   "cell_type": "markdown",
   "id": "69ef0f6c-385b-4842-8ea4-4204fa171795",
   "metadata": {},
   "source": [
    "### Save Location of Every Detection in a Valid Pixel"
   ]
  },
  {
   "cell_type": "code",
   "execution_count": 9,
   "id": "279ec68f-bb63-4974-9760-dbe7695ea1f4",
   "metadata": {},
   "outputs": [],
   "source": [
    "# my_table = Table()\n",
    "# my_table['RA'] = allRA[np.where(allDET == 1)[0]]\n",
    "# my_table['DEC'] = allDEC[np.where(allDET == 1)[0]]\n",
    "# my_table['RMAG'] = 20*np.ones(np.sum(allDET))\n",
    "# my_table['CLASS'] = np.zeros(np.sum(allDET))\n",
    "# my_table.write(test1StarFile, overwrite = True)"
   ]
  },
  {
   "cell_type": "markdown",
   "id": "e3a93dfd-f349-4ce4-a083-55f2eaf52060",
   "metadata": {},
   "source": [
    "### Perform Probability Training"
   ]
  },
  {
   "cell_type": "code",
   "execution_count": 10,
   "id": "7aa12254-c5db-40a1-b6f1-6411b2ed4f32",
   "metadata": {},
   "outputs": [],
   "source": [
    "# singleCorrectionTrainNMethod(test1StarFile, test1CondFiles, test1ValidPixFile, test1MagBin, test1AllPixFile, test1TrainFile, test1ProbFile, test1ExtrFile, sigma, perMap, perVar, numBins, test1Res, True, 1.5)"
   ]
  },
  {
   "cell_type": "markdown",
   "id": "dccc0cb1-ca2e-491e-b7af-a2271d27b3bf",
   "metadata": {},
   "source": [
    "### Get Original and Corrected Counts"
   ]
  },
  {
   "cell_type": "code",
   "execution_count": 11,
   "id": "3ef91b74-960f-4f18-8523-edb1aae1499e",
   "metadata": {},
   "outputs": [],
   "source": [
    "# detPix = hp.ang2pix(test1Res, detStarData['true_ra'], detStarData['true_dec'], nest = True, lonlat = True)\n",
    "# detPix = detPix[np.where(detStarData['detected'] == 1)[0]]\n",
    "# detPix = detPix[np.isin(detPix, validPix)]\n",
    "\n",
    "# _, detStarCounts = np.unique(np.append(detPix, validPix), return_counts = True)\n",
    "# detStarCounts = detStarCounts - 1\n",
    "\n",
    "# aveProb = loadtxt(test1TrainFile[0][0:-5] + '_Ave_Acc.csv', delimiter=',').astype(float)\n",
    "# allProbs = fitsio.read(test1ProbFile[0])['SIGNAL']\n",
    "\n",
    "# corStarCounts = detStarCounts / (allProbs / aveProb)"
   ]
  },
  {
   "cell_type": "markdown",
   "id": "b778df92-1a72-48f3-9608-6364159af005",
   "metadata": {},
   "source": [
    "### Plot"
   ]
  },
  {
   "cell_type": "code",
   "execution_count": 12,
   "id": "fb3b8453-222a-4521-aa2a-b82b6a432223",
   "metadata": {},
   "outputs": [],
   "source": [
    "# aveCorrCount = np.sum(corStarCounts) / len(corStarCounts)\n",
    "# aveOrigCount = np.sum(detStarCounts) / len(detStarCounts)\n",
    "\n",
    "# matplotlib.style.use('des_dr1')\n",
    "\n",
    "# for condInd in [10]:#range(len(Config.conditions)):\n",
    "\n",
    "#     condition = Config.conditions[condInd]\n",
    "#     condValues = fitsio.read(test1CondFiles[condInd])['SIGNAL']\n",
    "\n",
    "#     x = np.linspace(np.average(condValues)-3*np.std(condValues), np.average(condValues)+3*np.std(condValues), numBins)\n",
    "#     x = x[np.where(x <= np.max(condValues))[0]]\n",
    "#     x = x[np.where(x >= np.min(condValues))[0]]\n",
    "#     condSigma = sigma * np.std(condValues)\n",
    "#     yOrig = []\n",
    "#     yCorr = []\n",
    "\n",
    "#     for xi in x:\n",
    "#         # Gaussian weighting the values close by to each x value.\n",
    "#         totOrigWeightedCounts = np.sum(detStarCounts * np.exp(-1*(((condValues - xi) / condSigma)**2)))\n",
    "#         totOrigWeightedPixels = np.sum(np.exp(-1*(((condValues - xi) / condSigma)**2)))\n",
    "#         yOrig.append((totOrigWeightedCounts / totOrigWeightedPixels) / aveOrigCount)\n",
    "\n",
    "#         totCorrWeightedCounts = np.sum(corStarCounts * np.exp(-1*(((condValues - xi) / condSigma)**2)))\n",
    "#         totCorrWeightedPixels = np.sum(np.exp(-1*(((condValues - xi) / condSigma)**2)))\n",
    "#         yCorr.append((totCorrWeightedCounts / totCorrWeightedPixels) / aveCorrCount)\n",
    "\n",
    "#     yOrig = np.array(yOrig)\n",
    "#     yCorr = np.array(yCorr)\n",
    "    \n",
    "#     fig, ax1 = plt.subplots()\n",
    "    \n",
    "#     # Major ticks every 20, minor ticks every 5\n",
    "#     major_ticks = np.arange(0, 2, 0.02)\n",
    "#     minor_ticks = np.arange(0, 2, 0.01)\n",
    "\n",
    "#     ax1.set_yticks(major_ticks)\n",
    "#     ax1.set_yticks(minor_ticks, minor=True)\n",
    "\n",
    "#     ax1.set_xlabel(condition)\n",
    "#     ax1.tick_params(axis='y')\n",
    "#     ax1.set_ylabel(r'$N / \\langle N\\rangle$')\n",
    "#     ax1.plot(x, yOrig, label = 'Balrog Detected Stars')\n",
    "#     ax1.plot(x, yCorr, label = 'Balrog Corrected Stars')\n",
    "#     ax1.axhline(y = 1, color = 'black', linestyle = '--')\n",
    "#     # And a corresponding grid\n",
    "#     ax1.grid(which='both')\n",
    "\n",
    "#     # Or if you want different settings for the grids:\n",
    "#     ax1.grid(which='minor', alpha=0.2)\n",
    "#     ax1.grid(which='major', alpha=0.5)\n",
    "#     # ax1.grid()\n",
    "#     ax1.legend()\n",
    "\n",
    "#     ax2 = ax1.twinx()  # instantiate a second axes that shares the same x-axis\n",
    "\n",
    "#     ax2.tick_params(axis='y')\n",
    "#     ax2.set_ylabel('Fraction of Pixels in Condition Bin')\n",
    "#     ax2.hist(condValues, bins = np.linspace(np.min(x), np.max(x), 21), color = 'green', rwidth = 0.923, alpha = 0.2, weights = np.ones(len(condValues)) / len(condValues))\n",
    "\n",
    "#     ax3 = ax1.twinx()\n",
    "#     ax3.tick_params(axis='y', right = False, labelright = False)\n",
    "#     ax3.plot(x, yOrig)\n",
    "#     ax3.plot(x, yCorr)\n",
    "#     ax3.axhline(y = 1, color = 'black', linestyle = '--')\n",
    "\n",
    "\n",
    "#     fig.tight_layout()  # otherwise the right y-label is slightly clipped\n",
    "#     plt.title('Test 1 Dependencies')\n",
    "#     plt.show()"
   ]
  },
  {
   "cell_type": "markdown",
   "id": "f426bba3-a2f5-4362-807e-5f498d6ddb1a",
   "metadata": {},
   "source": [
    "For 1b), calculate PCA maps at 4096 resolution. Then degrade to 512 to calculate out all of the corrections. Actually generate correction probability maps at a full 4096 resolution though."
   ]
  },
  {
   "cell_type": "markdown",
   "id": "c21bf530-6b1a-4724-991c-3df8f89ce598",
   "metadata": {},
   "source": [
    "# Test 1 Conclusions:\n",
    "\n",
    "The PCA linear approach that is being used seems to be limited in effectiveness. This is not too surprising, and unfortunately it is likely still the best option available. Evidence is overall clear that improvement is occurring in most plots, but there are some concerns about a couple of survey properties. Most of the areas of decreased performance occur in areas of incredibly low survey property density, which elleviates the concerns at least somewhat. Still, it seems that the proper corrections are not in fact perfectly linear with respect to the survey properties. Trying out single corrections could shed some light on the effectiveness of the Gaussian kernel binning that is currently being done. Switching over to binning could prove to be beneficial."
   ]
  },
  {
   "cell_type": "markdown",
   "id": "24d4ab24-3653-43ea-a704-fecfa50c888a",
   "metadata": {},
   "source": [
    "# Test 1a\n",
    "\n",
    "This is an extra test using the galactic balrog sample instead of the stellar sample. One thing to note is that we must make sure the balrog objects we look at have a deep field classification of galaxy."
   ]
  },
  {
   "cell_type": "markdown",
   "id": "3efe644c-22a2-464f-9b71-bf52f0fb138f",
   "metadata": {},
   "source": [
    "### Test 1a Files and Parameters"
   ]
  },
  {
   "cell_type": "code",
   "execution_count": 13,
   "id": "448966c7-f042-4edc-a44f-dbb0d131a5f4",
   "metadata": {},
   "outputs": [],
   "source": [
    "# test1aRes = balrConfig.test1aRes\n",
    "# test1aMagBin = balrConfig.test1aMagBin\n",
    "\n",
    "# test1aAllPixFile = balrConfig.test1aAllPixFile\n",
    "# test1aGalaFile = balrConfig.test1aGalaFile\n",
    "# test1aValidPixFile = balrConfig.test1aValidPixFile\n",
    "\n",
    "# test1aCondFiles = balrConfig.test1aCondFiles\n",
    "\n",
    "# test1aTrainFile = balrConfig.test1aTrainFile\n",
    "# test1aProbFile = balrConfig.test1aProbFile\n",
    "# test1aExtrFile = balrConfig.test1aExtrFile"
   ]
  },
  {
   "cell_type": "markdown",
   "id": "1a1f5e88-67dc-41d6-b9c7-03d31cfe4533",
   "metadata": {},
   "source": [
    "### Get Deep Fields Data"
   ]
  },
  {
   "cell_type": "code",
   "execution_count": 14,
   "id": "3ebac669-4eab-4b9c-8a0c-b830c5a3bf65",
   "metadata": {},
   "outputs": [],
   "source": [
    "# # All I need from the deep fields is the ID numbers and original KNN classification.\n",
    "# deepCols  = ['KNN_CLASS', 'ID']\n",
    "# deepID = []\n",
    "# deepClass= []\n",
    "\n",
    "# for deepFile in deepFiles:\n",
    "#     deepData = fitsio.read(deepFile, columns = deepCols)\n",
    "#     deepID.extend(deepData['ID'])\n",
    "#     deepClass.extend(deepData['KNN_CLASS'])\n",
    "\n",
    "# deepID = np.array(deepID)\n",
    "# deepClass = np.array(deepClass)\n",
    "\n",
    "# # This serves to make it easier to check the original classification of an object.\n",
    "# # This way I can simply check the classification by indexing to an ID number minus\n",
    "# # the minimum ID number to find the classification. This prevented having an overly\n",
    "# # large array but still has the speed advantage of indexing.\n",
    "# minID = np.min(deepID)\n",
    "# deepGalID = np.zeros(np.max(deepID) - minID + 1)\n",
    "# deepGalID[deepID - minID] = deepClass"
   ]
  },
  {
   "cell_type": "markdown",
   "id": "902227a7-03e2-4314-8dd3-d471942629dc",
   "metadata": {},
   "source": [
    "### Get Balrog Data"
   ]
  },
  {
   "cell_type": "code",
   "execution_count": 15,
   "id": "06bda4f6-84bc-465a-bb62-9265c48e73bf",
   "metadata": {},
   "outputs": [],
   "source": [
    "# detObjData = fitsio.read(detBalrGalaFile, columns = ['true_ra', 'true_dec', 'detected', 'true_id'])\n",
    "# trueClass = deepGalID[detObjData['true_id'] - minID]\n",
    "# useInds = np.where((trueClass == 1))[0]\n",
    "# detGalaData = detObjData[useInds]"
   ]
  },
  {
   "cell_type": "markdown",
   "id": "6deca75d-3066-481b-8d1f-4decc8d313e9",
   "metadata": {},
   "source": [
    "### Find Valid Pixels (All Valid Survey Properties and Injection)"
   ]
  },
  {
   "cell_type": "code",
   "execution_count": 16,
   "id": "720502b9-70eb-45d6-9c7a-7875852fdfca",
   "metadata": {},
   "outputs": [],
   "source": [
    "# balrPix = hp.ang2pix(test1aRes, detGalaData['true_ra'], detGalaData['true_dec'], nest = True, lonlat = True)\n",
    "# balrPixCheck = np.full(12*(test1aRes**2), False, dtype = bool)\n",
    "# balrPixCheck[balrPix] = True\n",
    "\n",
    "# validPix = np.full(12*(test1aRes**2), True, dtype = bool)\n",
    "    \n",
    "# for file in origCondFiles:\n",
    "#     condData = fitsio.read(file) # This reads in the data.\n",
    "#     condSigExt = np.full(12*(test1aRes**2), -1.6375e+30) # Gives a default value.\n",
    "#     condSigExt[condData['PIXEL']] = condData['SIGNAL'] # Changes all valid pixels to their corresponding signals.\n",
    "#     validPix[np.where(condSigExt < -100)] = False # An invalid survey property marks this pixel as false.\n",
    "\n",
    "# stelDensExt = fitsio.read(stelFile)['I'].flatten() # Loads in the stellar density.\n",
    "# validPix[np.where(stelDensExt < -100)] = False # Any non valid pixel has its value changed to False.\n",
    "\n",
    "# validPix[~balrPixCheck] = False\n",
    "\n",
    "# validPix = np.where(validPix)[0]\n",
    "\n",
    "# my_table = Table()\n",
    "# my_table['PIXEL'] = validPix\n",
    "# my_table.write(test1aValidPixFile, overwrite = True)\n",
    "\n",
    "# validPix = fitsio.read(test1aValidPixFile)['PIXEL']"
   ]
  },
  {
   "cell_type": "code",
   "execution_count": 17,
   "id": "6007319d-1378-4bbc-9623-70d5b1ea24ce",
   "metadata": {},
   "outputs": [],
   "source": [
    "# for i in range(len(origCondFiles)):\n",
    "#     condData = fitsio.read(origCondFiles[i]) # This reads in the data.\n",
    "#     condSigExt = np.full(12*(4096**2), -1.6375e+30) # Gives a default value.\n",
    "#     condSigExt[condData['PIXEL']] = condData['SIGNAL'] # Changes all valid pixels to their corresponding signals.\n",
    "#     condSig = condSigExt[validPix] # Crops to the desired pixels.\n",
    "#     # Writes data.\n",
    "#     my_table = Table()\n",
    "#     my_table['SIGNAL'] = condSig\n",
    "#     my_table.write(test1aCondFiles[i], overwrite = True)\n",
    "\n",
    "# # Same as block above but for stellar density.\n",
    "# stelDensExt = fitsio.read(stelFile)['I'].flatten() # Loads in the stellar density\n",
    "# condSig = stelDensExt[validPix]\n",
    "# my_table = Table()\n",
    "# my_table['SIGNAL'] = condSig\n",
    "# my_table.write(test1aCondFiles[-1], overwrite = True)"
   ]
  },
  {
   "cell_type": "markdown",
   "id": "2ed107c5-112d-49dd-a546-e8a5aee6e533",
   "metadata": {},
   "source": [
    "### Save Location of Every Injection in a Valid Pixel"
   ]
  },
  {
   "cell_type": "code",
   "execution_count": 18,
   "id": "cfeb0937-89c2-4421-8d0d-f9f03816971e",
   "metadata": {},
   "outputs": [],
   "source": [
    "# allRA = detGalaData['true_ra']\n",
    "# allDEC = detGalaData['true_dec']\n",
    "# allDET = detGalaData['detected']\n",
    "\n",
    "# cropValidPix = np.isin(balrPix, validPix)\n",
    "\n",
    "# allRA = allRA[cropValidPix]\n",
    "# allDEC = allDEC[cropValidPix]\n",
    "# allDET = allDET[cropValidPix]\n",
    "\n",
    "# my_table = Table()\n",
    "# my_table['RA'] = allRA\n",
    "# my_table['DEC'] = allDEC\n",
    "# my_table.write(test1aAllPixFile, overwrite = True)"
   ]
  },
  {
   "cell_type": "markdown",
   "id": "9dc9e939-ffb3-4669-bcc2-6b3bd14fd573",
   "metadata": {},
   "source": [
    "### Save Location of Every Detection in a Valid Pixel"
   ]
  },
  {
   "cell_type": "code",
   "execution_count": 19,
   "id": "5356ecb2-b5c6-4f9c-90b9-317188595610",
   "metadata": {},
   "outputs": [],
   "source": [
    "# my_table = Table()\n",
    "# my_table['RA'] = allRA[np.where(allDET == 1)[0]]\n",
    "# my_table['DEC'] = allDEC[np.where(allDET == 1)[0]]\n",
    "# my_table['RMAG'] = 20*np.ones(np.sum(allDET))\n",
    "# my_table['CLASS'] = 3*np.ones(np.sum(allDET))\n",
    "# my_table.write(test1aGalaFile, overwrite = True)"
   ]
  },
  {
   "cell_type": "markdown",
   "id": "c568a695-3a08-49a9-9309-91ddd5ecafdc",
   "metadata": {},
   "source": [
    "### Perform Probability Training"
   ]
  },
  {
   "cell_type": "code",
   "execution_count": 20,
   "id": "866aeca6-0ce7-463d-b870-d55f1afa17e0",
   "metadata": {},
   "outputs": [],
   "source": [
    "# singleCorrectionTrainNMethod(test1aGalaFile, test1aCondFiles, test1aValidPixFile, test1aMagBin, test1aAllPixFile, test1aTrainFile, test1aProbFile, test1aExtrFile, sigma, perMap, perVar, numBins, test1aRes, False, 1.5)"
   ]
  },
  {
   "cell_type": "markdown",
   "id": "bee9ce60-c993-4da0-889a-89b0194fe24e",
   "metadata": {},
   "source": [
    "### Get Original and Corrected Counts"
   ]
  },
  {
   "cell_type": "code",
   "execution_count": 21,
   "id": "bb45b3b3-3fae-4f8e-b90f-62caabfee580",
   "metadata": {},
   "outputs": [],
   "source": [
    "# detPix = hp.ang2pix(test1aRes, detGalaData['true_ra'], detGalaData['true_dec'], nest = True, lonlat = True)\n",
    "# detPix = detPix[np.where(detGalaData['detected'] == 1)[0]]\n",
    "# detPix = detPix[np.isin(detPix, validPix)]\n",
    "\n",
    "# _, detGalaCounts = np.unique(np.append(detPix, validPix), return_counts = True)\n",
    "# detGalaCounts = detGalaCounts - 1\n",
    "\n",
    "# aveProb = loadtxt(test1aTrainFile[0][0:-5] + '_Ave_Acc.csv', delimiter=',').astype(float)\n",
    "# allProbs = fitsio.read(test1aProbFile[0])['SIGNAL']\n",
    "\n",
    "# corGalaCounts = detGalaCounts / (allProbs / aveProb)"
   ]
  },
  {
   "cell_type": "markdown",
   "id": "cd31c4d0-a81f-490d-a681-5a978ea3236c",
   "metadata": {},
   "source": [
    "### Plot"
   ]
  },
  {
   "cell_type": "code",
   "execution_count": 22,
   "id": "7741a80e-fe13-414f-8f62-87f135adfcdb",
   "metadata": {},
   "outputs": [],
   "source": [
    "# aveCorrCount = np.sum(corGalaCounts) / len(corGalaCounts)\n",
    "# aveOrigCount = np.sum(detGalaCounts) / len(detGalaCounts)\n",
    "\n",
    "# matplotlib.style.use('des_dr1')\n",
    "\n",
    "# for condInd in range(len(Config.conditions)):\n",
    "    \n",
    "#     if condInd < 56:\n",
    "#         continue\n",
    "\n",
    "#     condition = Config.conditions[condInd]\n",
    "#     condValues = fitsio.read(test1aCondFiles[condInd])['SIGNAL']\n",
    "\n",
    "#     x = np.linspace(np.average(condValues)-3*np.std(condValues), np.average(condValues)+3*np.std(condValues), numBins)\n",
    "#     x = x[np.where(x <= np.max(condValues))[0]]\n",
    "#     x = x[np.where(x >= np.min(condValues))[0]]\n",
    "#     condSigma = sigma * np.std(condValues)\n",
    "#     yOrig = []\n",
    "#     yCorr = []\n",
    "\n",
    "#     for xi in x:\n",
    "#         # Gaussian weighting the values close by to each x value.\n",
    "#         totOrigWeightedCounts = np.sum(detGalaCounts * np.exp(-1*(((condValues - xi) / condSigma)**2)))\n",
    "#         totOrigWeightedPixels = np.sum(np.exp(-1*(((condValues - xi) / condSigma)**2)))\n",
    "#         yOrig.append((totOrigWeightedCounts / totOrigWeightedPixels) / aveOrigCount)\n",
    "\n",
    "#         totCorrWeightedCounts = np.sum(corGalaCounts * np.exp(-1*(((condValues - xi) / condSigma)**2)))\n",
    "#         totCorrWeightedPixels = np.sum(np.exp(-1*(((condValues - xi) / condSigma)**2)))\n",
    "#         yCorr.append((totCorrWeightedCounts / totCorrWeightedPixels) / aveCorrCount)\n",
    "\n",
    "#     yOrig = np.array(yOrig)\n",
    "#     yCorr = np.array(yCorr)\n",
    "    \n",
    "#     fig, ax1 = plt.subplots()\n",
    "    \n",
    "#     # Major ticks every 20, minor ticks every 5\n",
    "#     major_ticks = np.arange(0, 2, 0.02)\n",
    "#     minor_ticks = np.arange(0, 2, 0.01)\n",
    "\n",
    "#     ax1.set_yticks(major_ticks)\n",
    "#     ax1.set_yticks(minor_ticks, minor=True)\n",
    "\n",
    "#     ax1.set_xlabel(condition)\n",
    "#     ax1.tick_params(axis='y')\n",
    "#     ax1.set_ylabel(r'$N / \\langle N\\rangle$')\n",
    "#     ax1.plot(x, yOrig, label = 'Balrog Detected Galaxies')\n",
    "#     ax1.plot(x, yCorr, label = 'Balrog Corrected Galaxies')\n",
    "#     ax1.axhline(y = 1, color = 'black', linestyle = '--')\n",
    "#     # And a corresponding grid\n",
    "#     ax1.grid(which='both')\n",
    "\n",
    "#     # Or if you want different settings for the grids:\n",
    "#     ax1.grid(which='minor', alpha=0.2)\n",
    "#     ax1.grid(which='major', alpha=0.5)\n",
    "#     # ax1.grid()\n",
    "#     ax1.legend()\n",
    "\n",
    "#     ax2 = ax1.twinx()  # instantiate a second axes that shares the same x-axis\n",
    "\n",
    "#     ax2.tick_params(axis='y')\n",
    "#     ax2.set_ylabel('Fraction of Pixels in Condition Bin')\n",
    "#     ax2.hist(condValues, bins = np.linspace(np.min(x), np.max(x), 21), color = 'green', rwidth = 0.923, alpha = 0.2, weights = np.ones(len(condValues)) / len(condValues))\n",
    "\n",
    "#     ax3 = ax1.twinx()\n",
    "#     ax3.tick_params(axis='y', right = False, labelright = False)\n",
    "#     ax3.plot(x, yOrig)\n",
    "#     ax3.plot(x, yCorr)\n",
    "#     ax3.axhline(y = 1, color = 'black', linestyle = '--')\n",
    "\n",
    "\n",
    "#     fig.tight_layout()  # otherwise the right y-label is slightly clipped\n",
    "#     plt.title('Test 1a Dependencies')\n",
    "#     plt.savefig('Test1aPlots/' + condition)"
   ]
  },
  {
   "cell_type": "markdown",
   "id": "ea8dc443-f0e1-4532-9a55-fb6d2d237bf3",
   "metadata": {},
   "source": [
    "# Test 1b\n",
    "\n",
    "This test is done to see what the impact of dropping the resolution is on corrections. This will work in a slightly different way though compared to previous iterations. \n",
    "\n",
    "There will be two valid pixel files. One will be at 512, and one will be at 4096. I will make sure that these behave as one would want (ie, the 4096 pixels are subpixels of the 512 pixels). The 4096 pixels will be pixels that have valid survey properties, are part of a 512 pixel that has an injection, and cover some percent of that 512 pixel (I've been using 60%, so stick at this). The 512 pixels will be the downgraded version of those 4096 pixels. Star objects should only ever be viewed at 512 resolution until the final application of the correction. For them to be valid though, they will have to be in a valid 4096 pixel.\n",
    "\n",
    "PCA will be done with the survey property maps still at a full 4096 resolution. This will be done on all properties within the valid 4096 pixels, even those which don't have an injection in their own 4096 pixel. After the PCA is performed, the resolution will be downgraded all the way to 512 and corrections will be calculated. When applying to the full map however, the corrections will be calculated once again at the full 4096 resolution.\n",
    "\n",
    "Within the actual pipeline, once degradation has occured it's pretty much just business as usual. As a note, when degrading the PC maps, make sure all other non valid pixels have a value of hp.UNSEEN in order to make them not counted when looking at the average.\n",
    "\n",
    "After reading in the data, check how dense the injections are. Ideally, we would want a good amount of covereage of the full 512 pixel. (On average, each 512 pixel with an injection has about 23 of its 64 subpixels with an injection)."
   ]
  },
  {
   "cell_type": "markdown",
   "id": "b914c2f0-8377-4772-9683-06abe1019cee",
   "metadata": {},
   "source": [
    "### Test 1b Files and Parameters"
   ]
  },
  {
   "cell_type": "code",
   "execution_count": 23,
   "id": "b858d539-7b8c-4946-bc4d-73061c779c26",
   "metadata": {},
   "outputs": [],
   "source": [
    "# test1bRes = balrConfig.test1bRes\n",
    "# test1bDeRes = balrConfig.test1bDeRes\n",
    "# test1bMagBin = balrConfig.test1bMagBin\n",
    "\n",
    "# test1bAllPixFile = balrConfig.test1bAllPixFile\n",
    "# test1bStarFile = balrConfig.test1bStarFile\n",
    "\n",
    "# test1bValidPixFile = balrConfig.test1bValidPixFile\n",
    "# test1bValidPixDeResFile = balrConfig.test1bValidPixDeResFile\n",
    "\n",
    "# test1bCondFiles = balrConfig.test1bCondFiles\n",
    "\n",
    "# test1bTrainFile = balrConfig.test1bTrainFile\n",
    "# test1bProbFile = balrConfig.test1bProbFile\n",
    "# test1bExtrFile = balrConfig.test1bExtrFile"
   ]
  },
  {
   "cell_type": "markdown",
   "id": "921c8466-5e65-49f5-8d7d-ba7c7ca91b39",
   "metadata": {},
   "source": [
    "### Get Balrog Data"
   ]
  },
  {
   "cell_type": "code",
   "execution_count": 24,
   "id": "af495614-8eb9-4cb9-9952-fe39aafb4fec",
   "metadata": {},
   "outputs": [],
   "source": [
    "# detStarData = fitsio.read(detBalrStarFile, columns = ['true_ra', 'true_dec', 'detected'])"
   ]
  },
  {
   "cell_type": "markdown",
   "id": "b8ccfa7d-30de-4690-bccd-72d496d2405e",
   "metadata": {},
   "source": [
    "### Find Valid Pixels (All Valid Survey Properties and Injection in That 512 Pixel)"
   ]
  },
  {
   "cell_type": "code",
   "execution_count": 25,
   "id": "4fd9ebf8-4f6b-4003-84f3-9af94bcc0ffc",
   "metadata": {},
   "outputs": [],
   "source": [
    "# balrPix = hp.ang2pix(test1bDeRes, detStarData['true_ra'], detStarData['true_dec'], nest = True, lonlat = True)\n",
    "# balrPixCheck = np.full(12*(test1bDeRes**2), False, dtype = bool)\n",
    "# balrPixCheck[balrPix] = True\n",
    "# balrPixCheck = hp.ud_grade(balrPixCheck, test1bRes, order_in = 'NESTED', order_out = 'NESTED')\n",
    "\n",
    "# validPixFullRes = np.full(12*(test1bRes**2), True, dtype = bool)\n",
    "    \n",
    "# for file in origCondFiles:\n",
    "#     condData = fitsio.read(file) # This reads in the data.\n",
    "#     condSigExt = np.full(12*(test1b**2), -1.6375e+30) # Gives a default value.\n",
    "#     condSigExt[condData['PIXEL']] = condData['SIGNAL'] # Changes all valid pixels to their corresponding signals.\n",
    "#     validPixFullRes[np.where(condSigExt < -100)] = False # An invalid survey property marks this pixel as false.\n",
    "\n",
    "# stelDensExt = fitsio.read(stelFile)['I'].flatten() # Loads in the stellar density.\n",
    "# validPixFullRes[np.where(stelDensExt < -100)] = False # Any non valid pixel has its value changed to False.\n",
    "\n",
    "# validPixFullRes[~balrPixCheck] = False\n",
    "\n",
    "# perCoveredInds = np.zeros_like(validPixFullRes)\n",
    "# perCoveredInds[validPixFullRes] = 1\n",
    "# perCoveredInds = hp.ud_grade(perCoveredInds, test1bDeRes, order_in = 'NESTED', order_out = 'NESTED')\n",
    "# perCoveredInds = np.where(perCoveredInds >= perCovered)[0]\n",
    "\n",
    "# perCoveredCheck = np.full(12*(test1bDeRes**2), False, dtype = bool)\n",
    "# perCoveredCheck[perCoveredInds] = True\n",
    "# perCoveredCheck = hp.ud_grade(perCoveredCheck, test1bRes, order_in = 'NESTED', order_out = 'NESTED')\n",
    "\n",
    "# validPixFullRes[~perCoveredCheck] = False\n",
    "\n",
    "# validPixFullRes = np.where(validPixFullRes)[0]\n",
    "\n",
    "# my_table = Table()\n",
    "# my_table['PIXEL'] = validPixFullRes\n",
    "# my_table.write(test1bValidPixFile, overwrite = True)\n",
    "\n",
    "# validPix = fitsio.read(test1bValidPixFile)['PIXEL']"
   ]
  },
  {
   "cell_type": "code",
   "execution_count": 26,
   "id": "7863080b-3a5c-498c-85d0-1a39c7483f10",
   "metadata": {},
   "outputs": [],
   "source": [
    "# validPixDeRes = np.full(12*(test1bRes**2), False, dtype = bool)\n",
    "# validPixDeRes[validPix] = True\n",
    "# validPixDeRes = hp.ud_grade(validPixDeRes, test1bDeRes, order_in = 'NESTED', order_out = 'NESTED')\n",
    "\n",
    "# validPixDeRes = np.where(validPixDeRes)[0]\n",
    "\n",
    "# my_table = Table()\n",
    "# my_table['PIXEL'] = validPixDeRes\n",
    "# my_table.write(test1bValidPixDeResFile, overwrite = True)\n",
    "\n",
    "# validPixDeRes = fitsio.read(test1bValidPixDeResFile)['PIXEL']"
   ]
  },
  {
   "cell_type": "markdown",
   "id": "be7a7970-92ef-40c1-9e8a-99484e8713ff",
   "metadata": {},
   "source": [
    "### Restrict Survey Properties to Valid Pixels"
   ]
  },
  {
   "cell_type": "code",
   "execution_count": 27,
   "id": "de3cfa64-25ce-4e28-97b3-054c104a8c1f",
   "metadata": {},
   "outputs": [],
   "source": [
    "# for i in range(len(origCondFiles)):\n",
    "#     condData = fitsio.read(origCondFiles[i]) # This reads in the data.\n",
    "#     condSigExt = np.full(12*(4096**2), -1.6375e+30) # Gives a default value.\n",
    "#     condSigExt[condData['PIXEL']] = condData['SIGNAL'] # Changes all valid pixels to their corresponding signals.\n",
    "#     condSig = condSigExt[validPix] # Crops to the desired pixels.\n",
    "#     # Writes data.\n",
    "#     my_table = Table()\n",
    "#     my_table['SIGNAL'] = condSig\n",
    "#     my_table.write(test1bCondFiles[i], overwrite = True)\n",
    "\n",
    "# # Same as block above but for stellar density.\n",
    "# stelDensExt = fitsio.read(stelFile)['I'].flatten() # Loads in the stellar density\n",
    "# condSig = stelDensExt[validPix]\n",
    "# my_table = Table()\n",
    "# my_table['SIGNAL'] = condSig\n",
    "# my_table.write(test1bCondFiles[-1], overwrite = True)"
   ]
  },
  {
   "cell_type": "markdown",
   "id": "61c27d23-8d2d-456b-beed-d25a38dd4738",
   "metadata": {},
   "source": [
    "### Save Location of Every Injection in a Valid Pixel"
   ]
  },
  {
   "cell_type": "code",
   "execution_count": 28,
   "id": "b0148b41-d83e-4a06-90d9-d93a971899a4",
   "metadata": {},
   "outputs": [],
   "source": [
    "# allRA = detStarData['true_ra']\n",
    "# allDEC = detStarData['true_dec']\n",
    "\n",
    "# allPIX = hp.ang2pix(test1bDeRes, allRA, allDEC, nest = True, lonlat = True)\n",
    "\n",
    "# allDET = detStarData['detected']\n",
    "\n",
    "# cropValidPix = np.isin(allPIX, validPixDeRes)\n",
    "\n",
    "# allRA = allRA[cropValidPix]\n",
    "# allDEC = allDEC[cropValidPix]\n",
    "# allDET = allDET[cropValidPix]\n",
    "\n",
    "# my_table = Table()\n",
    "# my_table['RA'] = allRA\n",
    "# my_table['DEC'] = allDEC\n",
    "# my_table.write(test1bAllPixFile, overwrite = True)"
   ]
  },
  {
   "cell_type": "markdown",
   "id": "67cdff2b-fcd0-4330-b687-0dd19349a695",
   "metadata": {},
   "source": [
    "### Save Location of Every Detection in a Valid Pixel"
   ]
  },
  {
   "cell_type": "code",
   "execution_count": 29,
   "id": "e08d835e-e4d7-4a93-9153-b9d02ec232f3",
   "metadata": {},
   "outputs": [],
   "source": [
    "# my_table = Table()\n",
    "# my_table['RA'] = allRA[np.where(allDET == 1)[0]]\n",
    "# my_table['DEC'] = allDEC[np.where(allDET == 1)[0]]\n",
    "# my_table['RMAG'] = 20*np.ones(np.sum(allDET))\n",
    "# my_table['CLASS'] = np.zeros(np.sum(allDET))\n",
    "# my_table.write(test1bStarFile, overwrite = True)"
   ]
  },
  {
   "cell_type": "markdown",
   "id": "a2db00fe-b5eb-4e8f-92a0-c346fc057eed",
   "metadata": {},
   "source": [
    "### Perform Probability Training"
   ]
  },
  {
   "cell_type": "code",
   "execution_count": 30,
   "id": "47cf90b8-ad49-4422-a12b-044a0caab863",
   "metadata": {},
   "outputs": [],
   "source": [
    "# singleCorrectionTrainNMethodDeRes(test1bStarFile, test1bCondFiles, test1bValidPixFile, test1bValidPixDeResFile, test1bMagBin, test1bAllPixFile, test1bTrainFile, test1bProbFile, test1bExtrFile, sigma, perMap, perVar, numBins, test1bRes, test1bDeRes, True, 1.5)"
   ]
  },
  {
   "cell_type": "markdown",
   "id": "e4c896eb-727f-4d7d-88c2-0c42f4f1247c",
   "metadata": {},
   "source": [
    "### Get Original and Corrected Counts"
   ]
  },
  {
   "cell_type": "code",
   "execution_count": 31,
   "id": "a9bc9385-2458-4a6b-8550-1cb592b13d45",
   "metadata": {},
   "outputs": [],
   "source": [
    "# detPix = hp.ang2pix(test1bRes, detStarData['true_ra'], detStarData['true_dec'], nest = True, lonlat = True)\n",
    "# condPix = validPix[np.isin(validPix, detPix)]\n",
    "# detPix = detPix[np.where(detStarData['detected'] == 1)[0]]\n",
    "# detPix = detPix[np.isin(detPix, validPix)]\n",
    "\n",
    "# _, detStarCounts = np.unique(np.append(detPix, condPix), return_counts = True)\n",
    "# detStarCounts = detStarCounts - 1\n",
    "\n",
    "# aveProb = loadtxt(test1bTrainFile[0][0:-5] + '_Ave_Acc.csv', delimiter=',').astype(float)\n",
    "# allProbsValidPix = fitsio.read(test1bProbFile[0])['SIGNAL']\n",
    "# fullProb = np.zeros(12*(test1bRes**2))\n",
    "# fullProb[validPix] = allProbsValidPix\n",
    "# allProbs = fullProb[condPix]\n",
    "\n",
    "# corStarCounts = detStarCounts / (allProbs / aveProb)"
   ]
  },
  {
   "cell_type": "markdown",
   "id": "8fb464f3-2214-4d3e-8298-efdbdf2a9a08",
   "metadata": {},
   "source": [
    "### Plot"
   ]
  },
  {
   "cell_type": "code",
   "execution_count": 32,
   "id": "defbaefc-49f2-418b-9ad0-70e6e1bd011c",
   "metadata": {},
   "outputs": [],
   "source": [
    "# aveCorrCount = np.sum(corStarCounts) / len(corStarCounts)\n",
    "# aveOrigCount = np.sum(detStarCounts) / len(detStarCounts)\n",
    "\n",
    "# matplotlib.style.use('des_dr1')\n",
    "\n",
    "# for condInd in range(len(Config.conditions)):\n",
    "\n",
    "#     condition = Config.conditions[condInd]\n",
    "#     validPixCondValues = fitsio.read(test1bCondFiles[condInd])['SIGNAL']\n",
    "#     fullCondValues = np.zeros(12*(test1bRes**2))\n",
    "#     fullCondValues[validPix] = validPixCondValues\n",
    "#     condValues = fullCondValues[condPix]\n",
    "\n",
    "#     x = np.linspace(np.average(condValues)-3*np.std(condValues), np.average(condValues)+3*np.std(condValues), numBins)\n",
    "#     x = x[np.where(x <= np.max(condValues))[0]]\n",
    "#     x = x[np.where(x >= np.min(condValues))[0]]\n",
    "#     condSigma = sigma * np.std(condValues)\n",
    "#     yOrig = []\n",
    "#     yCorr = []\n",
    "\n",
    "#     for xi in x:\n",
    "#         # Gaussian weighting the values close by to each x value.\n",
    "#         totOrigWeightedCounts = np.sum(detStarCounts * np.exp(-1*(((condValues - xi) / condSigma)**2)))\n",
    "#         totOrigWeightedPixels = np.sum(np.exp(-1*(((condValues - xi) / condSigma)**2)))\n",
    "#         yOrig.append((totOrigWeightedCounts / totOrigWeightedPixels) / aveOrigCount)\n",
    "\n",
    "#         totCorrWeightedCounts = np.sum(corStarCounts * np.exp(-1*(((condValues - xi) / condSigma)**2)))\n",
    "#         totCorrWeightedPixels = np.sum(np.exp(-1*(((condValues - xi) / condSigma)**2)))\n",
    "#         yCorr.append((totCorrWeightedCounts / totCorrWeightedPixels) / aveCorrCount)\n",
    "\n",
    "#     yOrig = np.array(yOrig)\n",
    "#     yCorr = np.array(yCorr)\n",
    "    \n",
    "#     fig, ax1 = plt.subplots()\n",
    "    \n",
    "#     # Major ticks every 20, minor ticks every 5\n",
    "#     major_ticks = np.arange(0, 2, 0.02)\n",
    "#     minor_ticks = np.arange(0, 2, 0.01)\n",
    "\n",
    "#     ax1.set_yticks(major_ticks)\n",
    "#     ax1.set_yticks(minor_ticks, minor=True)\n",
    "\n",
    "#     ax1.set_xlabel(condition)\n",
    "#     ax1.tick_params(axis='y')\n",
    "#     ax1.set_ylabel(r'$N / \\langle N\\rangle$')\n",
    "#     ax1.plot(x, yOrig, label = 'Balrog Detected Stars')\n",
    "#     ax1.plot(x, yCorr, label = 'Balrog Corrected Stars')\n",
    "#     ax1.axhline(y = 1, color = 'black', linestyle = '--')\n",
    "#     # And a corresponding grid\n",
    "#     ax1.grid(which='both')\n",
    "\n",
    "#     # Or if you want different settings for the grids:\n",
    "#     ax1.grid(which='minor', alpha=0.2)\n",
    "#     ax1.grid(which='major', alpha=0.5)\n",
    "#     # ax1.grid()\n",
    "#     ax1.legend()\n",
    "\n",
    "#     ax2 = ax1.twinx()  # instantiate a second axes that shares the same x-axis\n",
    "\n",
    "#     ax2.tick_params(axis='y')\n",
    "#     ax2.set_ylabel('Fraction of Pixels in Condition Bin')\n",
    "#     ax2.hist(condValues, bins = np.linspace(np.min(x), np.max(x), 21), color = 'green', rwidth = 0.923, alpha = 0.2, weights = np.ones(len(condValues)) / len(condValues))\n",
    "\n",
    "#     ax3 = ax1.twinx()\n",
    "#     ax3.tick_params(axis='y', right = False, labelright = False)\n",
    "#     ax3.plot(x, yOrig)\n",
    "#     ax3.plot(x, yCorr)\n",
    "#     ax3.axhline(y = 1, color = 'black', linestyle = '--')\n",
    "\n",
    "\n",
    "#     fig.tight_layout()  # otherwise the right y-label is slightly clipped\n",
    "#     plt.title('Test 1b Dependencies')\n",
    "#     plt.savefig('Test1bPlots/' + condition)"
   ]
  },
  {
   "cell_type": "markdown",
   "id": "8c2a6b3a-ece4-4de2-8d04-546eacd972d4",
   "metadata": {},
   "source": [
    "# Test 1c\n",
    "\n",
    "This test will be the same as Test1b but with added criteria cuts. Apply the quality cuts like before to the data on flags, apply a class cutoff, and apply a rudimentary color magnitude cut (gr between -0.3 and 1, r between 22 and 24 maybe).\n",
    "\n",
    "Besides this selection, the test will be identical to Test1b."
   ]
  },
  {
   "cell_type": "markdown",
   "id": "c67e7002-2e3d-4b21-9bc9-d3418b2f7d16",
   "metadata": {},
   "source": [
    "### Test 1c Files and Parameters"
   ]
  },
  {
   "cell_type": "code",
   "execution_count": 33,
   "id": "e67d3881-d82b-43d2-aa74-c73380f15622",
   "metadata": {},
   "outputs": [],
   "source": [
    "# test1cRes = balrConfig.test1cRes\n",
    "# test1cDeRes = balrConfig.test1cDeRes\n",
    "# test1cMagBin = balrConfig.test1cMagBin\n",
    "\n",
    "# test1cMagCut = balrConfig.test1cMagCut\n",
    "# test1cColorCut = balrConfig.test1cColorCut\n",
    "# test1cClassCut = balrConfig.test1cClassCut\n",
    "\n",
    "# test1cAllPixFile = balrConfig.test1cAllPixFile\n",
    "# test1cStarFile = balrConfig.test1cStarFile\n",
    "\n",
    "# test1cValidPixFile = balrConfig.test1cValidPixFile\n",
    "# test1cValidPixDeResFile = balrConfig.test1cValidPixDeResFile\n",
    "\n",
    "# test1cCondFiles = balrConfig.test1cCondFiles\n",
    "\n",
    "# test1cTrainFile = balrConfig.test1cTrainFile\n",
    "# test1cProbFile = balrConfig.test1cProbFile\n",
    "# test1cExtrFile = balrConfig.test1cExtrFile"
   ]
  },
  {
   "cell_type": "markdown",
   "id": "675d4215-e290-4bf4-9dc4-8b91af3fdb7f",
   "metadata": {},
   "source": [
    "### Get Balrog Data"
   ]
  },
  {
   "cell_type": "code",
   "execution_count": 34,
   "id": "03766361-8a6b-4fb8-97e8-2d903bb23e52",
   "metadata": {},
   "outputs": [],
   "source": [
    "# detStarData = fitsio.read(detBalrStarFile, columns = ['true_ra', 'true_dec', 'detected', \n",
    "#                                                      'flags_foreground', 'flags_badregions', \n",
    "#                                                      'flags_footprint', 'match_flag_1.5_asec',\n",
    "#                                                       'true_g_Corr', 'true_gr_Corr',\n",
    "#                                                       'meas_EXTENDED_CLASS_SOF'])\n",
    "\n",
    "# detStarData = detStarData[np.where((detStarData['flags_foreground'] == 0) & \n",
    "#                                     (detStarData['flags_badregions'] < 2) & \n",
    "#                                     (detStarData['flags_footprint'] == 1) & \n",
    "#                                     (detStarData['match_flag_1.5_asec'] < 2))[0]]"
   ]
  },
  {
   "cell_type": "markdown",
   "id": "eeff9c23-c7c9-4f95-8b54-5f9183becc44",
   "metadata": {},
   "source": [
    "### Find Valid Pixels (All Valid Survey Properties and Injection in That 512 Pixel)"
   ]
  },
  {
   "cell_type": "code",
   "execution_count": 35,
   "id": "51b35c8d-a252-4a46-b627-402d5d414b4f",
   "metadata": {},
   "outputs": [],
   "source": [
    "# balrPix = hp.ang2pix(test1cDeRes, detStarData['true_ra'], detStarData['true_dec'], nest = True, lonlat = True)\n",
    "# balrPixCheck = np.full(12*(test1cDeRes**2), False, dtype = bool)\n",
    "# balrPixCheck[balrPix] = True\n",
    "# balrPixCheck = hp.ud_grade(balrPixCheck, test1cRes, order_in = 'NESTED', order_out = 'NESTED')\n",
    "\n",
    "# validPixFullRes = np.full(12*(test1cRes**2), True, dtype = bool)\n",
    "    \n",
    "# for file in origCondFiles:\n",
    "#     condData = fitsio.read(file) # This reads in the data.\n",
    "#     condSigExt = np.full(12*(test1cRes**2), -1.6375e+30) # Gives a default value.\n",
    "#     condSigExt[condData['PIXEL']] = condData['SIGNAL'] # Changes all valid pixels to their corresponding signals.\n",
    "#     validPixFullRes[np.where(condSigExt < -100)] = False # An invalid survey property marks this pixel as false.\n",
    "\n",
    "# stelDensExt = fitsio.read(stelFile)['I'].flatten() # Loads in the stellar density.\n",
    "# validPixFullRes[np.where(stelDensExt < -100)] = False # Any non valid pixel has its value changed to False.\n",
    "\n",
    "# validPixFullRes[~balrPixCheck] = False\n",
    "\n",
    "# perCoveredInds = np.zeros_like(validPixFullRes)\n",
    "# perCoveredInds[validPixFullRes] = 1\n",
    "# perCoveredInds = hp.ud_grade(perCoveredInds, test1cDeRes, order_in = 'NESTED', order_out = 'NESTED')\n",
    "# perCoveredInds = np.where(perCoveredInds >= perCovered)[0]\n",
    "\n",
    "# perCoveredCheck = np.full(12*(test1cDeRes**2), False, dtype = bool)\n",
    "# perCoveredCheck[perCoveredInds] = True\n",
    "# perCoveredCheck = hp.ud_grade(perCoveredCheck, test1cRes, order_in = 'NESTED', order_out = 'NESTED')\n",
    "\n",
    "# validPixFullRes[~perCoveredCheck] = False\n",
    "\n",
    "# validPixFullRes = np.where(validPixFullRes)[0]\n",
    "\n",
    "# my_table = Table()\n",
    "# my_table['PIXEL'] = validPixFullRes\n",
    "# my_table.write(test1cValidPixFile, overwrite = True)\n",
    "\n",
    "# validPix = fitsio.read(test1cValidPixFile)['PIXEL']"
   ]
  },
  {
   "cell_type": "code",
   "execution_count": 36,
   "id": "45d8a8a5-6b19-4b17-93b7-73a0691cccac",
   "metadata": {},
   "outputs": [],
   "source": [
    "# validPixDeRes = np.full(12*(test1cRes**2), False, dtype = bool)\n",
    "# validPixDeRes[validPix] = True\n",
    "# validPixDeRes = hp.ud_grade(validPixDeRes, test1cDeRes, order_in = 'NESTED', order_out = 'NESTED')\n",
    "\n",
    "# validPixDeRes = np.where(validPixDeRes)[0]\n",
    "\n",
    "# my_table = Table()\n",
    "# my_table['PIXEL'] = validPixDeRes\n",
    "# my_table.write(test1cValidPixDeResFile, overwrite = True)\n",
    "\n",
    "# validPixDeRes = fitsio.read(test1cValidPixDeResFile)['PIXEL']"
   ]
  },
  {
   "cell_type": "markdown",
   "id": "69a199aa-c7eb-414d-912f-d166ab4642a8",
   "metadata": {},
   "source": [
    "### Restrict Survey Properties to Valid Pixels"
   ]
  },
  {
   "cell_type": "code",
   "execution_count": 37,
   "id": "463a7ae9-80d7-4187-a482-917e34b952f8",
   "metadata": {},
   "outputs": [],
   "source": [
    "# for i in range(len(origCondFiles)):\n",
    "#     condData = fitsio.read(origCondFiles[i]) # This reads in the data.\n",
    "#     condSigExt = np.full(12*(4096**2), -1.6375e+30) # Gives a default value.\n",
    "#     condSigExt[condData['PIXEL']] = condData['SIGNAL'] # Changes all valid pixels to their corresponding signals.\n",
    "#     condSig = condSigExt[validPix] # Crops to the desired pixels.\n",
    "#     # Writes data.\n",
    "#     my_table = Table()\n",
    "#     my_table['SIGNAL'] = condSig\n",
    "#     my_table.write(test1cCondFiles[i], overwrite = True)\n",
    "\n",
    "# # Same as block above but for stellar density.\n",
    "# stelDensExt = fitsio.read(stelFile)['I'].flatten() # Loads in the stellar density\n",
    "# condSig = stelDensExt[validPix]\n",
    "# my_table = Table()\n",
    "# my_table['SIGNAL'] = condSig\n",
    "# my_table.write(test1cCondFiles[-1], overwrite = True)"
   ]
  },
  {
   "cell_type": "markdown",
   "id": "26652ca5-2cc5-4833-9de8-c3b046201aca",
   "metadata": {},
   "source": [
    "### Save Location of Every Injection in a Valid Pixel"
   ]
  },
  {
   "cell_type": "code",
   "execution_count": 38,
   "id": "173ce217-8d4b-4580-8a94-ec6f820a4a07",
   "metadata": {},
   "outputs": [],
   "source": [
    "# allRA = detStarData['true_ra']\n",
    "# allDEC = detStarData['true_dec']\n",
    "\n",
    "# allPIX = hp.ang2pix(test1cDeRes, allRA, allDEC, nest = True, lonlat = True)\n",
    "\n",
    "# allDET = detStarData['detected']\n",
    "\n",
    "# cropValidPix = np.isin(allPIX, validPixDeRes)\n",
    "\n",
    "# allRA = allRA[cropValidPix]\n",
    "# allDEC = allDEC[cropValidPix]\n",
    "# allDET = allDET[cropValidPix]\n",
    "\n",
    "# my_table = Table()\n",
    "# my_table['RA'] = allRA\n",
    "# my_table['DEC'] = allDEC\n",
    "# my_table.write(test1cAllPixFile, overwrite = True)"
   ]
  },
  {
   "cell_type": "markdown",
   "id": "f7f18133-9aa3-4024-888d-dc203f9e99c6",
   "metadata": {},
   "source": [
    "### Save Location of Every Detection in a Valid Pixel"
   ]
  },
  {
   "cell_type": "code",
   "execution_count": 39,
   "id": "3558e264-083d-42fa-8ff6-841f37970b52",
   "metadata": {},
   "outputs": [],
   "source": [
    "# Crop based on color and a lower bound on the magnitude, upper bound will be taken care of in algorithm. No class cut is necessary."
   ]
  },
  {
   "cell_type": "code",
   "execution_count": null,
   "id": "d76555db-1e0e-4081-ad24-fb28e90a2323",
   "metadata": {},
   "outputs": [],
   "source": []
  }
 ],
 "metadata": {
  "kernelspec": {
   "display_name": "Python 3 (ipykernel)",
   "language": "python",
   "name": "python3"
  },
  "language_info": {
   "codemirror_mode": {
    "name": "ipython",
    "version": 3
   },
   "file_extension": ".py",
   "mimetype": "text/x-python",
   "name": "python",
   "nbconvert_exporter": "python",
   "pygments_lexer": "ipython3",
   "version": "3.9.12"
  }
 },
 "nbformat": 4,
 "nbformat_minor": 5
}
