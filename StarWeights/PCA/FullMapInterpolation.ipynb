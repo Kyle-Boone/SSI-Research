{
 "cells": [
  {
   "cell_type": "code",
   "execution_count": 1,
   "id": "e1a1d596-2071-4bfa-9b76-5bbe7b814fe4",
   "metadata": {},
   "outputs": [],
   "source": [
    "# This program extends the training data out to the full map of valid pixels."
   ]
  },
  {
   "cell_type": "code",
   "execution_count": 2,
   "id": "f0ed37d3-6667-44ab-b3bc-af9ad8f15c2e",
   "metadata": {},
   "outputs": [],
   "source": [
    "import numpy as np\n",
    "from numpy import savetxt\n",
    "from numpy import loadtxt\n",
    "import fitsio\n",
    "import healpy as hp\n",
    "import matplotlib.pyplot as plt\n",
    "import Config\n",
    "from scipy import interpolate as inter\n",
    "from astropy.table import Table"
   ]
  },
  {
   "cell_type": "code",
   "execution_count": 3,
   "id": "24b2784a-a8bb-4fac-bb0d-ec26210b1dc5",
   "metadata": {},
   "outputs": [],
   "source": [
    "res =4096\n",
    "numBins = 100 # This is used to determine how many subbins to use to avoid crashing memory.\n",
    "conditions = Config.conditions\n",
    "file = '/hdfs/bechtol/balrog/y3/y3a2_survey_conditions_maps/Kyle_Stuff/training/'"
   ]
  },
  {
   "cell_type": "code",
   "execution_count": 4,
   "id": "7e028bb5-b172-4db1-aa9b-b6f0b595eb83",
   "metadata": {},
   "outputs": [],
   "source": [
    "validPix = fitsio.read(file + 'Valid_'+str(res)+'_Pixels.fits')['PIXEL']"
   ]
  },
  {
   "cell_type": "code",
   "execution_count": 5,
   "id": "483bbdbc-4419-42cc-9fe3-82dfe18d2acb",
   "metadata": {},
   "outputs": [],
   "source": [
    "stds = np.loadtxt(file + str(res) + '_Inter_Blue_>26_Standard_Deviations.csv', delimiter = ',') # Standard devs\n",
    "redStds = np.loadtxt(file + str(res) + '_Inter_Blue_>26_Red_Standard_Deviations.csv', delimiter = ',') # Standard devs of reduced maps\n",
    "mean = np.loadtxt(file + str(res) + '_Inter_Blue_>26_Means.csv', delimiter = ',') # Means\n",
    "inds = np.loadtxt(file + str(res) + '_Inter_Blue_>26_Indices.csv', delimiter = ',').astype(int) # Indices of corrections principal comps."
   ]
  },
  {
   "cell_type": "code",
   "execution_count": 6,
   "id": "be35f719-73ed-48a6-a53f-31ca1d3a4a49",
   "metadata": {},
   "outputs": [],
   "source": [
    "# Ths reads in the feature vector and converts it to floating points.\n",
    "strFeatVec = loadtxt(file + str(res) + '_Inter_Blue_>26_Feature_Vectors.csv', delimiter = '\\t', dtype = object)\n",
    "featVec = []\n",
    "for i in range(len(strFeatVec)):\n",
    "    \n",
    "    indVec = []\n",
    "    \n",
    "    for j in range(len(strFeatVec[i])):\n",
    "        \n",
    "        indVec.append(float(strFeatVec[i][j]))\n",
    "        \n",
    "    indVec = np.array(indVec)\n",
    "    featVec.append(indVec)\n",
    "    \n",
    "featVec = np.array(featVec, dtype = object)"
   ]
  },
  {
   "cell_type": "code",
   "execution_count": 7,
   "id": "6e0d2881-c800-40c4-a7b3-59aa30025c9d",
   "metadata": {},
   "outputs": [],
   "source": [
    "x = np.linspace(-3, 3, 100)"
   ]
  },
  {
   "cell_type": "code",
   "execution_count": 8,
   "id": "92d10511-792c-4194-847b-b9f790442f9c",
   "metadata": {},
   "outputs": [],
   "source": [
    "yValues = fitsio.read(file + str(res) + '_Inter_Blue_>26_y_Values.fits')"
   ]
  },
  {
   "cell_type": "code",
   "execution_count": 9,
   "id": "53a9877b-69cf-41a5-a891-edd06a820f75",
   "metadata": {},
   "outputs": [],
   "source": [
    "# This makes sure we only read in 1% of the full sky at a time to avoid overflow.\n",
    "binLims = [0]\n",
    "\n",
    "for i in range(numBins):\n",
    "    binLims.append(int((len(validPix) - binLims[-1]) / (numBins - i)) + (binLims[-1]))"
   ]
  },
  {
   "cell_type": "code",
   "execution_count": 10,
   "id": "2ed92470-e5d8-4ce9-92de-5c2780a7a09e",
   "metadata": {},
   "outputs": [],
   "source": [
    "# This will be used to record extrapolations.\n",
    "extrMap = []\n",
    "for i in range(len(inds)):\n",
    "    extrMap.append([])"
   ]
  },
  {
   "cell_type": "code",
   "execution_count": null,
   "id": "483dce8c-1589-4e75-a5bf-fde53154e17f",
   "metadata": {},
   "outputs": [],
   "source": [
    "# This will be the corrections map.\n",
    "corrMap = []\n",
    "\n",
    "for i in range(len(binLims) - 1):\n",
    "    \n",
    "    condMaps = []\n",
    "    # This loops over every condition file.\n",
    "    for cond in conditions:\n",
    "        condMaps.append(fitsio.read(file + str(res) + '_' + cond + '.fits', rows = np.arange(binLims[i], binLims[i + 1]))['SIGNAL'])\n",
    "        # This reads in the data.\n",
    "    condMaps = np.array(condMaps, dtype = object)    \n",
    "    \n",
    "    stanMaps = []\n",
    "    for j in range(len(condMaps)):\n",
    "        stanMaps.append((condMaps[j] - mean[j]) / stds[j])\n",
    "        # Create the standardized maps, using the means and stds from last time.\n",
    "    stanMaps = np.array(stanMaps, dtype = object)\n",
    "    \n",
    "    redMaps = np.matmul(featVec, stanMaps)\n",
    "    # This created the reduced maps using PCA and then standardizes them with standard deviations from training.\n",
    "    for j in range(len(redMaps)):\n",
    "        redMaps[j] = redMaps[j] / redStds[j]\n",
    "    \n",
    "    sectCorr = np.ones(len(stanMaps[0]))\n",
    "    # This is the corrections for this specific section of pixels read in.\n",
    "    \n",
    "    for j in range(len(inds)):\n",
    "        \n",
    "        # Finds all places where extrapolation is necessary and marks them\n",
    "        extrapolation = np.zeros(len(redMaps[inds[j]]))\n",
    "        extrapolation[np.where((redMaps[inds[j]] > 3) | (redMaps[inds[j]] < -3))[0]] = 1\n",
    "        \n",
    "        # Generates y values\n",
    "        y = yValues[str(inds[j])]\n",
    "        \n",
    "        # Generates the function via extrapolation\n",
    "        f = inter.interp1d(x, y, bounds_error = False, fill_value = (y[0], y[-1]))\n",
    "        \n",
    "        # Generates the inverse correction\n",
    "        corr = f(redMaps[inds[j]].astype('float'))\n",
    "\n",
    "        corr = 1 / corr\n",
    "        \n",
    "        # Applies the correction to this section.\n",
    "        sectCorr = sectCorr * corr\n",
    "        \n",
    "        # For this index, expands out the extrapolation map.\n",
    "        extrMap[j].extend(extrapolation)\n",
    "        \n",
    "    corrMap.extend(sectCorr)\n",
    "    \n",
    "corrMap = np.array(corrMap)\n",
    "# Everything past here is testing and writing to files."
   ]
  },
  {
   "cell_type": "code",
   "execution_count": null,
   "id": "2f584a48-1bbc-451a-8522-11f32332ddfe",
   "metadata": {},
   "outputs": [],
   "source": [
    "import healsparse as hsp\n",
    "import skyproj"
   ]
  },
  {
   "cell_type": "code",
   "execution_count": null,
   "id": "2508ee21-19f6-47e2-b940-1b3178194d5d",
   "metadata": {},
   "outputs": [],
   "source": [
    "correctionMap = np.full(12*(res**2), hp.UNSEEN)\n",
    "correctionMap[validPix] = corrMap\n",
    "corrHSP = hsp.HealSparseMap(nside_coverage=32, healpix_map=correctionMap)"
   ]
  },
  {
   "cell_type": "code",
   "execution_count": null,
   "id": "60204b05-8fb6-4f36-b3be-5cbb2a99cfdd",
   "metadata": {},
   "outputs": [],
   "source": [
    "# The default DES projection is a McBrydeSkymap.\n",
    "fig = plt.figure(1, figsize=(8, 6))\n",
    "ax = fig.add_subplot(111)\n",
    "sp = skyproj.DESSkyproj(ax=ax)\n",
    "sp.draw_des(label='DES')\n",
    "sp.draw_hspmap(corrHSP, cmap = 'viridis')\n",
    "plt.clim(0.9, 1.2)\n",
    "plt.colorbar(location = 'bottom', label = 'Multiplicative Correction')\n",
    "fig.suptitle('Correction Map')\n",
    "sp.legend()\n",
    "plt.show()"
   ]
  },
  {
   "cell_type": "code",
   "execution_count": null,
   "id": "d976afee-ffc8-49f7-bce3-9f58cf59241f",
   "metadata": {},
   "outputs": [],
   "source": [
    "extrapolationMap = np.full(12*(res**2), hp.UNSEEN)\n",
    "extrapolationMap[validPix] = extrMap[0]\n",
    "extrHSP = hsp.HealSparseMap(nside_coverage=32, healpix_map=extrapolationMap)"
   ]
  },
  {
   "cell_type": "code",
   "execution_count": null,
   "id": "c1a86855-9343-4563-93ef-cfb7ddfbc0ac",
   "metadata": {},
   "outputs": [],
   "source": [
    "# The default DES projection is a McBrydeSkymap.\n",
    "fig = plt.figure(1, figsize=(8, 6))\n",
    "ax = fig.add_subplot(111)\n",
    "sp = skyproj.DESSkyproj(ax=ax, linestyle = '--', linewidth = 0.5)\n",
    "sp.draw_des(label='DES')\n",
    "sp.draw_hspmap(extrHSP, cmap = 'Greys')\n",
    "plt.clim(0, 1)\n",
    "fig.suptitle('Extrapolation Map')\n",
    "sp.legend()\n",
    "plt.show()"
   ]
  },
  {
   "cell_type": "code",
   "execution_count": null,
   "id": "692fda55-598c-45f0-aa6d-bc29207ce547",
   "metadata": {},
   "outputs": [],
   "source": [
    "my_table = Table()\n",
    "my_table['SIGNAL'] = corrMap\n",
    "my_table.write(file + str(res) + '_Inter_Blue_>26_Corrections_Map.fits', overwrite = True)"
   ]
  },
  {
   "cell_type": "code",
   "execution_count": null,
   "id": "758a88aa-f21e-45b6-900f-50eb5f8c10e6",
   "metadata": {},
   "outputs": [],
   "source": [
    "ext_table = Table()\n",
    "for i in range(len(inds)):\n",
    "    ext_table[str(inds[i])] = extrMap[i]\n",
    "ext_table.write(file + str(res) + '_Extrapolation_Blue_>26_Maps.fits', overwrite = True)"
   ]
  },
  {
   "cell_type": "code",
   "execution_count": null,
   "id": "b284357b-e524-4fa1-a53d-e738decc354a",
   "metadata": {},
   "outputs": [],
   "source": [
    "corrMap = fitsio.read(file + str(res) + '_Inter_Blue_>26_Corrections_Map.fits')['SIGNAL']"
   ]
  },
  {
   "cell_type": "code",
   "execution_count": null,
   "id": "e5f655bf-cff6-4a30-a256-f97f616f7c9e",
   "metadata": {},
   "outputs": [],
   "source": [
    "correctionMap = np.full(12*(res**2), hp.UNSEEN)\n",
    "correctionMap[validPix] = corrMap\n",
    "corrHSP = hsp.HealSparseMap(nside_coverage=32, healpix_map=correctionMap)"
   ]
  },
  {
   "cell_type": "code",
   "execution_count": null,
   "id": "5841cb75-c999-4618-8c9b-f13872ef3a92",
   "metadata": {},
   "outputs": [],
   "source": [
    "# The default DES projection is a McBrydeSkymap.\n",
    "fig = plt.figure(1, figsize=(8, 6))\n",
    "ax = fig.add_subplot(111)\n",
    "sp = skyproj.DESSkyproj(ax=ax)\n",
    "sp.draw_hspmap(corrHSP, cmap = 'viridis')\n",
    "plt.clim(0.9, 1.2)\n",
    "plt.colorbar(location = 'bottom', label = 'Multiplicative Correction')\n",
    "fig.suptitle('Correction Map')\n",
    "plt.show()"
   ]
  },
  {
   "cell_type": "code",
   "execution_count": null,
   "id": "68a333f6-ac86-452a-acab-a9dd2472d04d",
   "metadata": {},
   "outputs": [],
   "source": []
  }
 ],
 "metadata": {
  "kernelspec": {
   "display_name": "Python 3 (ipykernel)",
   "language": "python",
   "name": "python3"
  },
  "language_info": {
   "codemirror_mode": {
    "name": "ipython",
    "version": 3
   },
   "file_extension": ".py",
   "mimetype": "text/x-python",
   "name": "python",
   "nbconvert_exporter": "python",
   "pygments_lexer": "ipython3",
   "version": "3.9.12"
  }
 },
 "nbformat": 4,
 "nbformat_minor": 5
}
