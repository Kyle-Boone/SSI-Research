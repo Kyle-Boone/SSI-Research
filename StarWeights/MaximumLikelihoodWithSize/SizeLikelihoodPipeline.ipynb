{
 "cells": [
  {
   "cell_type": "code",
   "execution_count": 1,
   "id": "9bc04a66-08cf-44d4-9e6d-ffd4efc082a3",
   "metadata": {},
   "outputs": [],
   "source": [
    "import numpy as np\n",
    "import matplotlib.pyplot as plt\n",
    "import fitsio\n",
    "import astropy.io.fits as fits\n",
    "from astropy.table import Table\n",
    "import healpy as hp\n",
    "import matplotlib.pyplot as plt\n",
    "import healsparse as hsp\n",
    "import skyproj\n",
    "import Config\n",
    "from GetObjectsSize import *\n",
    "# from TrainAndFullMapSize import *"
   ]
  },
  {
   "cell_type": "code",
   "execution_count": 2,
   "id": "57fc60f8-85fb-4f2d-8cd3-cc800e24c2c8",
   "metadata": {},
   "outputs": [],
   "source": [
    "minGR = -0.3 # Minimum G-R color\n",
    "maxGR = 1 # Maximum G-R color\n",
    "res = 512 # Healpixel resolution\n",
    "perCovered = 0.6 # Percent of healpixel that must have valid survey properties at the 4096 scale\n",
    "sigma = 0.5 # Sigma used for gaussian weighting\n",
    "perVar = 0.98 # Percent of the variance to be captured\n",
    "perMap = 0.625 # Percent of the PC maps to use, adjust this later\n",
    "numBins = 100 # Number of points in interpolation\n",
    "magBins = [20, 22, 23, 24, 25, 26] # G magnitude bins\n",
    "sizeBins = None"
   ]
  },
  {
   "cell_type": "code",
   "execution_count": 3,
   "id": "2218e78b-8605-4cdf-83e4-daed3f4e6b5e",
   "metadata": {},
   "outputs": [],
   "source": [
    "conditions = Config.conditions\n",
    "likeDir = '/hdfs/bechtol/balrog/y3/y3a2_survey_conditions_maps/Kyle_Stuff/MaximumLikelihoodSize/'\n",
    "oldGalaDir = '/hdfs/bechtol/balrog/y3/y3a2_survey_conditions_maps/Kyle_Stuff/GalaxyContamination/'"
   ]
  },
  {
   "cell_type": "code",
   "execution_count": 4,
   "id": "ba1bfa2b-022c-460f-ba74-4d08ee9a992d",
   "metadata": {},
   "outputs": [],
   "source": [
    "deepFiles = ['/hdfs/bechtol/balrog/y3_deep_fields/y3_deep_fields_catalog/deepfields_000001.fits', \n",
    "             '/hdfs/bechtol/balrog/y3_deep_fields/y3_deep_fields_catalog/deepfields_000002.fits', \n",
    "             '/hdfs/bechtol/balrog/y3_deep_fields/y3_deep_fields_catalog/deepfields_000003.fits',\n",
    "             '/hdfs/bechtol/balrog/y3_deep_fields/y3_deep_fields_catalog/deepfields_000004.fits',\n",
    "             '/hdfs/bechtol/balrog/y3_deep_fields/y3_deep_fields_catalog/deepfields_000005.fits']"
   ]
  },
  {
   "cell_type": "code",
   "execution_count": 5,
   "id": "ce982423-995c-46c8-9645-ca75cb637caa",
   "metadata": {},
   "outputs": [],
   "source": [
    "detBalrFile = '/hdfs/bechtol/balrog/y3/balrog_detection_catalog_sof_y3-merged_v1.2.fits'\n",
    "matBalrFile = '/hdfs/bechtol/balrog/y3/balrog_matched_catalog_sof_y3-merged_v1.2.fits'\n",
    "galaFile = likeDir + 'InjectionData/Galaxies.fits'"
   ]
  },
  {
   "cell_type": "code",
   "execution_count": 6,
   "id": "9a9f3d02-255b-4076-8821-55c2503b9b9c",
   "metadata": {},
   "outputs": [],
   "source": [
    "detBalrStarFile = '/afs/hep.wisc.edu/bechtol-group/MegansThings/balrog_detection_catalog_sof_run2_stars_v1.4_avg_added_match_flags.fits'\n",
    "detStarFile = likeDir + 'InjectionData/Det_Stars.fits'\n",
    "\n",
    "matBalrStarFile = '/afs/hep.wisc.edu/bechtol-group/MegansThings/balrog_matched_catalog_sof_run2_stars_v1.4.fits'\n",
    "matStarFile = likeDir + 'InjectionData/Mat_Stars.fits'"
   ]
  },
  {
   "cell_type": "code",
   "execution_count": 7,
   "id": "e10bcfd7-be63-4905-b9cf-5291f0ff15cf",
   "metadata": {},
   "outputs": [],
   "source": [
    "origCondFiles = Config.files[:-1]\n",
    "stelFile = Config.files[-1]\n",
    "# This step was already done in an identical way\n",
    "pixCondDir = '/hdfs/bechtol/balrog/y3/y3a2_survey_conditions_maps/Kyle_Stuff/MaximumLikelihood/PixAndConds/'\n",
    "pixFile = pixCondDir + 'Valid_'+str(res)+'_Pixels.fits'\n",
    "validPix = fitsio.read(pixFile)['PIXEL']\n",
    "condFiles = []\n",
    "for cond in conditions:\n",
    "    condFiles.append(pixCondDir + str(res) + '_' + cond + '.fits')\n",
    "condFiles = np.array(condFiles)"
   ]
  },
  {
   "cell_type": "code",
   "execution_count": 8,
   "id": "bf4c9e7d-1e3c-4ac2-96a9-9aedab501c49",
   "metadata": {},
   "outputs": [],
   "source": [
    "# getMatStars(minGR, maxGR, matBalrStarFile, detBalrStarFile, matStarFile)"
   ]
  },
  {
   "cell_type": "code",
   "execution_count": 9,
   "id": "5507d08f-6012-43dc-ab7b-2a1c7a1a0801",
   "metadata": {},
   "outputs": [],
   "source": [
    "# getDetStar(minGR, maxGR, detBalrStarFile, detStarFile)"
   ]
  },
  {
   "cell_type": "code",
   "execution_count": 10,
   "id": "b67e6ed6-6803-4e40-b324-883422b6f92f",
   "metadata": {},
   "outputs": [],
   "source": [
    "# getGalaxies(minGR, maxGR, deepFiles, matBalrFile, detBalrFile, galaFile)"
   ]
  },
  {
   "cell_type": "code",
   "execution_count": 11,
   "id": "c8026710-3824-4b5f-adbf-9d1cc09a1171",
   "metadata": {},
   "outputs": [],
   "source": [
    "starData = fitsio.read(matStarFile)"
   ]
  },
  {
   "cell_type": "code",
   "execution_count": 12,
   "id": "5aa2bd53-bb32-4ccc-946e-e252c8620bf1",
   "metadata": {},
   "outputs": [],
   "source": [
    "size = starData['SIZE']\n",
    "gmag = starData['GMAG']"
   ]
  },
  {
   "cell_type": "code",
   "execution_count": 13,
   "id": "360ea7d8-c1cf-4454-9a92-91a0b8cf6c80",
   "metadata": {},
   "outputs": [],
   "source": [
    "import matplotlib.pyplot as plt"
   ]
  },
  {
   "cell_type": "code",
   "execution_count": 14,
   "id": "8ef8fbe6-0b53-4c38-bd56-3816922d4dbb",
   "metadata": {},
   "outputs": [
    {
     "data": {
      "image/png": "[encoded data removed]",
      "text/plain": [
       "<Figure size 768x576 with 1 Axes>"
      ]
     },
     "metadata": {},
     "output_type": "display_data"
    }
   ],
   "source": [
    "plt.figure(dpi = 120)\n",
    "plt.hist(size[np.where(gmag <= 20)[0]], bins = np.linspace(-0.015, 0.005, 41), alpha = 0.5, label = r'$g\\leq 20$', density = True)\n",
    "plt.hist(size[np.where((gmag <= 22) & (gmag > 20))[0]], bins = np.linspace(-0.025, 0.025, 41), alpha = 0.5, label = r'$20<g\\leq 22$', density = True)\n",
    "plt.hist(size[np.where((gmag <= 23) & (gmag > 22))[0]], bins = np.linspace(-0.05, 0.05, 41), alpha = 0.5, label = r'$22<g\\leq 23$', density = True)\n",
    "plt.hist(size[np.where((gmag <= 24) & (gmag > 23))[0]], bins = np.linspace(-0.05, 0.15, 41), alpha = 0.5, label = r'$23<g\\leq 24$', density = True)\n",
    "plt.hist(size[np.where((gmag <= 25) & (gmag > 24))[0]], bins = np.linspace(-0.1, 0.3, 41), alpha = 0.5, label = r'$24<g\\leq 25$', density = True)\n",
    "plt.hist(size[np.where((gmag <= 26) & (gmag > 25))[0]], bins = np.linspace(-0.1, 0.3, 41), alpha = 0.5, label = r'$25<g\\leq 26$', density = True)\n",
    "plt.legend()\n",
    "plt.show()"
   ]
  },
  {
   "cell_type": "code",
   "execution_count": null,
   "id": "7bcd389f-121e-4220-bd9e-002801440302",
   "metadata": {},
   "outputs": [],
   "source": []
  }
 ],
 "metadata": {
  "kernelspec": {
   "display_name": "Python 3 (ipykernel)",
   "language": "python",
   "name": "python3"
  },
  "language_info": {
   "codemirror_mode": {
    "name": "ipython",
    "version": 3
   },
   "file_extension": ".py",
   "mimetype": "text/x-python",
   "name": "python",
   "nbconvert_exporter": "python",
   "pygments_lexer": "ipython3",
   "version": "3.9.12"
  }
 },
 "nbformat": 4,
 "nbformat_minor": 5
}
