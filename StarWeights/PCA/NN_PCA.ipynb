{
 "cells": [
  {
   "cell_type": "code",
   "execution_count": 1,
   "id": "98eef21f-9264-485d-9241-b2f659467c7c",
   "metadata": {},
   "outputs": [
    {
     "name": "stderr",
     "output_type": "stream",
     "text": [
      "\n",
      "WARNING: version mismatch between CFITSIO header (v4.000999999999999) and linked library (v4.01).\n",
      "\n",
      "\n",
      "WARNING: version mismatch between CFITSIO header (v4.000999999999999) and linked library (v4.01).\n",
      "\n",
      "\n",
      "WARNING: version mismatch between CFITSIO header (v4.000999999999999) and linked library (v4.01).\n",
      "\n"
     ]
    }
   ],
   "source": [
    "import numpy as np\n",
    "import fitsio\n",
    "import healpy as hp\n",
    "import matplotlib.pyplot as plt\n",
    "import Config\n",
    "import tensorflow as tf\n",
    "from matplotlib.colors import LogNorm"
   ]
  },
  {
   "cell_type": "markdown",
   "id": "bdd4dc6e-2de6-47cd-ab67-9f21248cd465",
   "metadata": {},
   "source": [
    "# CHANGE THESE PARAMETERS AS NEEDED"
   ]
  },
  {
   "cell_type": "code",
   "execution_count": 2,
   "id": "87257a1b-322f-44cb-a7f5-c8e4b038eeb6",
   "metadata": {},
   "outputs": [],
   "source": [
    "res = 4096 # Resolution of the heal pixels\n",
    "widthBins = 0.025 # Width of the bins\n",
    "numBins = 2500 # Number of bins to use\n",
    "perVar = 0.98 # Percent of the variance to be captured\n",
    "perMap = 0.625 # Percent of the PC maps to use, adjust this later"
   ]
  },
  {
   "cell_type": "code",
   "execution_count": 3,
   "id": "458eb552-6a62-4868-ac17-75d04b439f09",
   "metadata": {},
   "outputs": [],
   "source": [
    "# This is the actual file containing all of the data\n",
    "starFile = '/afs/hep.wisc.edu/bechtol-group/MegansThings/balrog_detection_catalog_sof_run2_stars_v1.4_avg_added_match_flags.fits'\n",
    "# This reads in all of the data. Most of these are just flags, the only pieces that get used much outside\n",
    "# of filtering are detected, true_ra and true_dec which get used to convert into healPixels.\n",
    "starData = fitsio.read(starFile, columns = ['detected', 'true_ra', 'true_dec',\n",
    "                                            'flags_foreground', 'flags_badregions', 'flags_footprint',\n",
    "                                            'meas_FLAGS_GOLD_SOF_ONLY', 'match_flag_1.5_asec'])"
   ]
  },
  {
   "cell_type": "code",
   "execution_count": 4,
   "id": "e082b86c-aea8-4275-aec1-f9a850f9a061",
   "metadata": {},
   "outputs": [],
   "source": [
    "# These are in degrees which is why lonlat is set to True in the next cell.\n",
    "RA = starData['true_ra']\n",
    "DEC = starData['true_dec']\n",
    "# This is used for detection rates, each point is either a 0 (no detection) or a 1 (detection)\n",
    "DETECTED = starData['detected']\n",
    "# Everything from here on out is simply used in order to filter the data\n",
    "FOREGROUND = starData['flags_foreground']\n",
    "BADREGIONS = starData['flags_badregions']\n",
    "FOOTPRINT = starData['flags_footprint']\n",
    "GOLDSOF = starData['meas_FLAGS_GOLD_SOF_ONLY']\n",
    "ARCSECONDS = starData['match_flag_1.5_asec']\n",
    "\n",
    "# This is used to filter out any injections that either weren't detected or had flags raised.\n",
    "cutIndices = np.where((FOREGROUND == 0) & \n",
    "                      (BADREGIONS < 2) & \n",
    "                      (FOOTPRINT == 1) & \n",
    "                      (ARCSECONDS < 2))[0]\n",
    "\n",
    "# This reduced the data down to the actually valid pixels.\n",
    "DETECTED = DETECTED[cutIndices]\n",
    "RA = RA[cutIndices]\n",
    "DEC = DEC[cutIndices]"
   ]
  },
  {
   "cell_type": "code",
   "execution_count": 5,
   "id": "253eec4b-48a1-4df8-8423-26302d55a92d",
   "metadata": {},
   "outputs": [],
   "source": [
    "# This converts the RA and DEC values from above to healpixels so we can compare to the sky condition.\n",
    "starPixels = hp.ang2pix(res, RA, DEC, lonlat = True, nest = True)"
   ]
  },
  {
   "cell_type": "code",
   "execution_count": 6,
   "id": "dbe545a3-fff2-4cd5-baff-f8c509b15f61",
   "metadata": {},
   "outputs": [],
   "source": [
    "# This sorts by the pixel in order to make following methods more efficient.\n",
    "sortInds = starPixels.argsort()\n",
    "starPix = starPixels[sortInds[::1]]\n",
    "DET = DETECTED[sortInds[::1]]"
   ]
  },
  {
   "cell_type": "code",
   "execution_count": 7,
   "id": "f67824d3-4c5b-44f2-8ac2-78b9b1a455aa",
   "metadata": {},
   "outputs": [],
   "source": [
    "# These are indices that will be looping through the pixStar and starPix arrays in parallel.\n",
    "uniqInd = 0\n",
    "starInd = 0\n",
    "\n",
    "# This will be used to store the number of stars at each pixel.\n",
    "pixStar = np.unique(starPix) # The unique pixels, with no repeats.\n",
    "detStar = np.zeros_like(pixStar)\n",
    "injStar = np.zeros_like(pixStar)\n",
    "\n",
    "while starInd < len(starPix):\n",
    "    if pixStar[uniqInd] == starPix[starInd]: # If the pixels match up in the arrays.\n",
    "        detStar[uniqInd] += DET[starInd]     # Add one if there was a detection at this location.\n",
    "        injStar[uniqInd] += 1                # Add one to the corresponding spot in the balStar array.\n",
    "        starInd += 1                         # Add one to the starInd to see if the next index in starPix is also the same.\n",
    "        # Since the last index of pixStar and starPix are the same, starInd will increase the last time through the loop,\n",
    "        # making this the index that we must restrict in the while loop.\n",
    "    else:\n",
    "        uniqInd += 1 # If the pixels are no longer the same, increase the index you check in the pixStar array.\n",
    "        \n",
    "# This loads in all of the file names of the survey conditions\n",
    "condFiles = Config.files\n",
    "condMapsExt = []\n",
    "\n",
    "# This loops over every condition file except for stellar density which has a different format\n",
    "for i in range(len(condFiles) - 1):\n",
    "    condData = fitsio.read(condFiles[i]) # This reads in the data\n",
    "    condSigExt = np.full(12*(4096**2), -1.6375e+30) # Gives a default value\n",
    "    condSigExt[condData['PIXEL']] = condData['SIGNAL'] # Changes all valid pixels to their corresponding signals\n",
    "    condSigExt[np.where(condSigExt == -1.6375e+30)[0]] = hp.UNSEEN # Masks all non valid pixels\n",
    "    if res != 4096:\n",
    "        condSigExt=hp.ud_grade(condSigExt, res) # Only degrades if necessary (this is very time consuming)\n",
    "    condMapsExt.append(condSigExt[pixStar]) # Only stores the values that are in pixels with injections\n",
    "    \n",
    "stelDensExt = fitsio.read(condFiles[-1])['I'].flatten() # Loads in the stellar density\n",
    "stelDensExt[np.where(stelDensExt < 0)[0]] = hp.UNSEEN # Masks all non valid pixels\n",
    "if res != 4096:\n",
    "    stelDensExt=hp.ud_grade(stelDensExt, res) # Degrades if necessary\n",
    "condMapsExt.append(stelDensExt[pixStar])\n",
    "\n",
    "condMapsExt = np.array(condMapsExt, dtype = object) # Converts to an array\n",
    "\n",
    "validIndices = np.full(len(pixStar), True, dtype = bool)\n",
    "# The only valid indices are ones where every survey property is unmasked\n",
    "for cond in condMapsExt:\n",
    "    tempValidIndices = np.full(len(pixStar), True, dtype = bool)\n",
    "    tempValidIndices[np.where(cond < -1000000000)[0]] = False\n",
    "    validIndices = validIndices & tempValidIndices\n",
    "    \n",
    "condMaps = []\n",
    "# Degrades all of the values to a common set of pixels\n",
    "pixStar = pixStar[validIndices]\n",
    "detStar = detStar[validIndices]\n",
    "injStar = injStar[validIndices]\n",
    "\n",
    "for cond in condMapsExt:\n",
    "    condMaps.append(cond[validIndices])\n",
    "    \n",
    "condMaps = np.array(condMaps)"
   ]
  },
  {
   "cell_type": "code",
   "execution_count": 8,
   "id": "19efbcae-f416-4c24-9d55-25e46ac658d7",
   "metadata": {},
   "outputs": [],
   "source": [
    "stanMaps = []\n",
    "averages = []\n",
    "stanDevs = []\n",
    "# This standardizes every map as a first step of PCA\n",
    "for cond in condMaps:\n",
    "    averages.append(np.average(cond))\n",
    "    stanDevs.append(np.std(cond))\n",
    "    stanMaps.append((cond - np.average(cond)) / np.std(cond))\n",
    "    \n",
    "stanMaps = np.array(stanMaps)"
   ]
  },
  {
   "cell_type": "code",
   "execution_count": 9,
   "id": "48ad992a-d102-42ad-bc20-dae06b609ea8",
   "metadata": {},
   "outputs": [],
   "source": [
    "# This gives the covariance matrix of the standardized maps\n",
    "# Bias is true since the variance of each individual standardized map should be 1\n",
    "cov = np.cov(stanMaps.astype(float), bias = True)"
   ]
  },
  {
   "cell_type": "code",
   "execution_count": 10,
   "id": "469d9dc3-d2da-4108-8334-a34c1c547a9f",
   "metadata": {},
   "outputs": [],
   "source": [
    "# This gives the eigenvalues and vectors of the covariance matrix\n",
    "evalues, evectors = np.linalg.eig(cov)"
   ]
  },
  {
   "cell_type": "code",
   "execution_count": 11,
   "id": "7c39a30d-fa04-4302-ae46-b83a51f370be",
   "metadata": {},
   "outputs": [],
   "source": [
    "# This cuts after the specified percentage of the variance has been achieved\n",
    "for i in range(len(evalues)):\n",
    "    if np.sum(evalues[0:i+1]) / np.sum(evalues) >= perVar:\n",
    "        cutoff = i + 1\n",
    "        break\n",
    "featVec = evectors[0:cutoff]"
   ]
  },
  {
   "cell_type": "code",
   "execution_count": 12,
   "id": "4362c097-e5f8-43ae-8675-0ae4b09c3d39",
   "metadata": {},
   "outputs": [],
   "source": [
    "redMaps = np.matmul(featVec, stanMaps) # Reduces the maps to PCA maps"
   ]
  },
  {
   "cell_type": "code",
   "execution_count": 13,
   "id": "24416db7-0d87-4ba9-b9f3-40e7e3e192a9",
   "metadata": {},
   "outputs": [],
   "source": [
    "# Stores the original data for later comparisons\n",
    "originalDetStar = detStar\n",
    "originalInjStar = injStar\n",
    "aveEff = np.sum(originalDetStar) / np.sum(originalInjStar)"
   ]
  },
  {
   "cell_type": "code",
   "execution_count": 14,
   "id": "67ab05ab-094d-4627-aed6-6deb1e40b9c2",
   "metadata": {},
   "outputs": [],
   "source": [
    "# Goal of this method is to find the index of the map that has the largest impact on detection rates.\n",
    "def mostSigPCMap(redMaps, detStar, injStar = injStar, numBins = numBins, widthBins = widthBins):\n",
    "    \n",
    "    maxAdjustment = []\n",
    "\n",
    "    for i in range(len(redMaps)):\n",
    "        \n",
    "        onePC = redMaps[i] # Load up a PC map\n",
    "\n",
    "        binIndLims = []\n",
    "\n",
    "        binSize = int(widthBins * len(onePC))\n",
    "        binIndLims.append([0, binSize])\n",
    "\n",
    "        binsRemaining = numBins - 1\n",
    "\n",
    "        while binsRemaining > 0:\n",
    "            endSpot = int((len(onePC) - binIndLims[-1][1]) / binsRemaining) + binIndLims[-1][1]\n",
    "            binIndLims.append([endSpot - binSize, endSpot])\n",
    "            binsRemaining -= 1\n",
    "\n",
    "        # Sort detections and injections by the PC map value.\n",
    "        sortInds = onePC.argsort()\n",
    "        detStarTemp = detStar[sortInds[::1]]\n",
    "        injStarTemp = injStar[sortInds[::1]]\n",
    "\n",
    "        detBins = []\n",
    "        injBins = []\n",
    "\n",
    "        # Bin up these detections and injections.\n",
    "        for j in range(numBins):\n",
    "            detBins.append(detStarTemp[binIndLims[j][0]:binIndLims[j][1]])\n",
    "            injBins.append(injStarTemp[binIndLims[j][0]:binIndLims[j][1]])\n",
    "\n",
    "        yValues = []\n",
    "\n",
    "        # For each bin find the detection rate relative to the average.\n",
    "        for j in range(numBins):\n",
    "            yValues.append((np.sum(detBins[j]) / np.sum(injBins[j])) / aveEff)\n",
    "\n",
    "        yValues = np.array(yValues)\n",
    "        \n",
    "        # Make the error the sum of the squared difference between the binned values and 1.\n",
    "        maxAdjustment.append(np.sum((yValues - 1)**2))\n",
    "        \n",
    "    maxAdjustment = np.array(maxAdjustment)\n",
    "    \n",
    "    mostSigIndex = np.where(maxAdjustment == np.max(maxAdjustment))[0]\n",
    "    \n",
    "    return mostSigIndex[0] # Return wherever the error is the largest"
   ]
  },
  {
   "cell_type": "code",
   "execution_count": 15,
   "id": "b751b4f3-1c63-47da-9216-243ca5f903eb",
   "metadata": {},
   "outputs": [],
   "source": [
    "detStar = originalDetStar"
   ]
  },
  {
   "cell_type": "code",
   "execution_count": 16,
   "id": "601a2c41-c4c8-4cc0-aa90-8b4ed4d62d54",
   "metadata": {
    "tags": []
   },
   "outputs": [
    {
     "name": "stderr",
     "output_type": "stream",
     "text": [
      "2022-08-25 17:13:23.218857: I tensorflow/core/common_runtime/process_util.cc:146] Creating new thread pool with default inter op setting: 2. Tune using inter_op_parallelism_threads for best performance.\n"
     ]
    }
   ],
   "source": [
    "trimRedMaps = np.copy(redMaps)\n",
    "\n",
    "iterations = int(perMap * len(redMaps))\n",
    "    \n",
    "for _ in range(iterations):\n",
    "\n",
    "    index = mostSigPCMap(trimRedMaps, detStar)\n",
    "    \n",
    "    condMapIndex = np.array(trimRedMaps[index])\n",
    "    \n",
    "    sortInds = condMapIndex.argsort()\n",
    "    condMap = condMapIndex[sortInds[::1]]\n",
    "    detStarTemp = detStar[sortInds[::1]]\n",
    "    injStarTemp = injStar[sortInds[::1]]\n",
    "    \n",
    "    binIndLims = []\n",
    "\n",
    "    binSize = int(widthBins * len(condMap))\n",
    "    binIndLims.append([0, binSize])\n",
    "\n",
    "    binsRemaining = numBins - 1\n",
    "\n",
    "    while binsRemaining > 0:\n",
    "        endSpot = int((len(condMap) - binIndLims[-1][1]) / binsRemaining) + binIndLims[-1][1]\n",
    "        binIndLims.append([endSpot - binSize, endSpot])\n",
    "        binsRemaining -= 1\n",
    "        \n",
    "    detBins = []\n",
    "    injBins = []\n",
    "    condBins = []\n",
    "\n",
    "    for j in range(len(binIndLims)):\n",
    "        detBins.append(detStarTemp[binIndLims[j][0]:binIndLims[j][1]])\n",
    "        injBins.append(injStarTemp[binIndLims[j][0]:binIndLims[j][1]])\n",
    "        condBins.append(condMap[binIndLims[j][0]:binIndLims[j][1]])\n",
    "\n",
    "    yValues = []\n",
    "    xValues = []\n",
    "\n",
    "    for j in range(len(binIndLims)):\n",
    "        yValues.append((np.sum(detBins[j]) / np.sum(injBins[j])) / aveEff)\n",
    "        xValues.append(np.sum(condBins[j] * injBins[j]) / np.sum(injBins[j]))\n",
    "\n",
    "    xValues = np.array(xValues)\n",
    "    yValues = np.array(yValues)\n",
    "    \n",
    "    model = tf.keras.models.Sequential([\n",
    "      tf.keras.layers.Dense(20, activation='relu', input_shape = (1,)),\n",
    "      tf.keras.layers.Dense(20, activation='relu'),\n",
    "      tf.keras.layers.Dense(20, activation='relu'),\n",
    "      tf.keras.layers.Dense(1)\n",
    "    ])\n",
    "    \n",
    "    inValues = (xValues - np.average(xValues)) / np.std(xValues)\n",
    "    outValues = (yValues - np.average(yValues)) / np.std(yValues)\n",
    "    \n",
    "    model.compile(optimizer = 'adam', loss = 'mean_squared_error')\n",
    "    model.fit(x = inValues, y = outValues, epochs = 150, verbose = 0)\n",
    "    \n",
    "    corrValues = ((np.array(model(((condMapIndex - np.average(xValues)) / np.std(xValues)).astype(float))) * np.std(yValues)) + np.average(yValues))[:,0]\n",
    "    \n",
    "    detStar = detStar / corrValues\n",
    "\n",
    "    pcMapCutoff = np.full(len(trimRedMaps), True, dtype = bool)\n",
    "    pcMapCutoff[index] = False\n",
    "    trimRedMaps = trimRedMaps[pcMapCutoff]"
   ]
  },
  {
   "cell_type": "code",
   "execution_count": 17,
   "id": "58aa33c6-cd45-4ed1-b113-1480e34ce6b7",
   "metadata": {},
   "outputs": [
    {
     "data": {
      "image/png": "[encoded data removed]",
      "text/plain": [
       "<Figure size 900x600 with 1 Axes>"
      ]
     },
     "metadata": {
      "needs_background": "light"
     },
     "output_type": "display_data"
    }
   ],
   "source": [
    "oneMap = condMaps[Config.exptimeSUMi]\n",
    "\n",
    "numBinsTest = 250\n",
    "binIndLims = [0]\n",
    "\n",
    "for i in range(numBinsTest):\n",
    "    binIndLims.append(int((len(oneMap) - binIndLims[-1]) / (numBinsTest - i)) + (binIndLims[-1]))\n",
    "\n",
    "sortInds = oneMap.argsort()\n",
    "oneMap = oneMap[sortInds[::1]]\n",
    "detStarTemp = detStar[sortInds[::1]]\n",
    "injStarTemp = injStar[sortInds[::1]]\n",
    "\n",
    "detBins = []\n",
    "injBins = []\n",
    "mapBins = []\n",
    "\n",
    "for i in range(numBinsTest):\n",
    "    detBins.append(detStarTemp[binIndLims[i]:binIndLims[i+1]])\n",
    "    injBins.append(injStarTemp[binIndLims[i]:binIndLims[i+1]])\n",
    "    mapBins.append(oneMap[binIndLims[i]:binIndLims[i+1]])\n",
    "\n",
    "yValues = []\n",
    "xValues = []\n",
    "\n",
    "for i in range(numBinsTest):\n",
    "    yValues.append((np.sum(detBins[i]) / np.sum(injBins[i])) / aveEff)\n",
    "    xValues.append(np.sum(mapBins[i] * injBins[i]) / np.sum(injBins[i]))\n",
    "\n",
    "xValues = np.array(xValues)\n",
    "yValues = np.array(yValues)\n",
    "\n",
    "plt.figure(dpi = 150)\n",
    "plt.scatter(xValues, yValues, s = 1, zorder = 3, color = 'r')\n",
    "plt.axhline(y = 1, color = 'k', linestyle = '--', zorder = 2)\n",
    "plt.axhline(y = 1.01, color = '0.25', linestyle = '--', zorder = 2)\n",
    "plt.axhline(y = 0.99, color = '0.25', linestyle = '--', zorder = 2)\n",
    "plt.xlim(plt.gca().get_xlim())\n",
    "#plt.fill_between(plt.gca().get_xlim(), 0.98, 1.02, color = (176/256,141/256,87/256))\n",
    "#plt.fill_between(plt.gca().get_xlim(), 0.99, 1.01, color = (192/256,192/256,192/256))\n",
    "plt.fill_between(plt.gca().get_xlim(), 0.99, 1.01, color = 'gold')\n",
    "# plt.ylim([0.98, 1.02])\n",
    "plt.xlabel('SP Value')\n",
    "plt.ylabel('N/⟨N⟩')\n",
    "plt.title('Corrected (Exptime Sum i)')\n",
    "plt.grid(zorder = 0)\n",
    "plt.show()"
   ]
  },
  {
   "cell_type": "code",
   "execution_count": 18,
   "id": "bb21f914-5528-48cc-98d1-6f267cec129f",
   "metadata": {},
   "outputs": [
    {
     "data": {
      "image/png": "[encoded data removed]",
      "text/plain": [
       "<Figure size 900x600 with 1 Axes>"
      ]
     },
     "metadata": {
      "needs_background": "light"
     },
     "output_type": "display_data"
    }
   ],
   "source": [
    "oneMap = condMaps[Config.exptimeSUMi]\n",
    "\n",
    "binIndLims = [0]\n",
    "\n",
    "for i in range(numBinsTest):\n",
    "    binIndLims.append(int((len(oneMap) - binIndLims[-1]) / (numBinsTest - i)) + (binIndLims[-1]))\n",
    "\n",
    "sortInds = oneMap.argsort()\n",
    "oneMap = oneMap[sortInds[::1]]\n",
    "detStarTemp = originalDetStar[sortInds[::1]]\n",
    "injStarTemp = injStar[sortInds[::1]]\n",
    "\n",
    "detBins = []\n",
    "injBins = []\n",
    "mapBins = []\n",
    "\n",
    "for i in range(numBinsTest):\n",
    "    detBins.append(detStarTemp[binIndLims[i]:binIndLims[i+1]])\n",
    "    injBins.append(injStarTemp[binIndLims[i]:binIndLims[i+1]])\n",
    "    mapBins.append(oneMap[binIndLims[i]:binIndLims[i+1]])\n",
    "\n",
    "yValues = []\n",
    "xValues = []\n",
    "\n",
    "for i in range(numBinsTest):\n",
    "    yValues.append((np.sum(detBins[i]) / np.sum(injBins[i])) / aveEff)\n",
    "    xValues.append(np.sum(mapBins[i] * injBins[i]) / np.sum(injBins[i]))\n",
    "\n",
    "xValues = np.array(xValues)\n",
    "yValues = np.array(yValues)\n",
    "\n",
    "plt.figure(dpi = 150)\n",
    "plt.plot(xValues, yValues, marker = '.', ms = 10, zorder = 3, color = 'r')\n",
    "plt.axhline(y = 1, color = 'k', linestyle = '--', zorder = 2)\n",
    "plt.axhline(y = 1.01, color = '0.25', linestyle = '--', zorder = 2)\n",
    "plt.axhline(y = 0.99, color = '0.25', linestyle = '--', zorder = 2)\n",
    "plt.xlim(plt.gca().get_xlim())\n",
    "# plt.fill_between(plt.gca().get_xlim(), 0.99, 1.01, color = 'silver')\n",
    "plt.fill_between(plt.gca().get_xlim(), 0.99, 1.01, color = 'gold')\n",
    "plt.xlabel('SP Value')\n",
    "plt.ylabel('N/⟨N⟩')\n",
    "plt.title('Original (Exptime Sum i)')\n",
    "plt.grid(zorder = 0)\n",
    "plt.show()"
   ]
  },
  {
   "cell_type": "code",
   "execution_count": 19,
   "id": "d7e1323c-0023-49f7-a8fb-a175cbe45e16",
   "metadata": {},
   "outputs": [],
   "source": [
    "maxError = []\n",
    "\n",
    "for cond in condMaps:\n",
    "    \n",
    "    oneMap = cond\n",
    "    \n",
    "    binIndLims = [0]\n",
    "\n",
    "    for i in range(numBinsTest):\n",
    "        binIndLims.append(int((len(oneMap) - binIndLims[-1]) / (numBinsTest - i)) + (binIndLims[-1]))\n",
    "\n",
    "    sortInds = oneMap.argsort()\n",
    "    corDetStarTemp = detStar[sortInds[::1]]\n",
    "    injStarTemp = injStar[sortInds[::1]]\n",
    "\n",
    "    corDetBins = []\n",
    "    injBins = []\n",
    "\n",
    "    for i in range(numBinsTest):\n",
    "        corDetBins.append(corDetStarTemp[binIndLims[i]:binIndLims[i+1]])\n",
    "        injBins.append(injStarTemp[binIndLims[i]:binIndLims[i+1]])\n",
    "\n",
    "    yValuesCor = []\n",
    "\n",
    "    for i in range(numBinsTest):\n",
    "        yValuesCor.append((np.sum(corDetBins[i]) / np.sum(injBins[i])) / aveEff)\n",
    "\n",
    "    yValuesCor = np.array(yValuesCor)\n",
    "    \n",
    "    maxError.append(np.max(np.abs(yValuesCor - 1)))\n",
    "    \n",
    "maxError = np.array(maxError)"
   ]
  },
  {
   "cell_type": "code",
   "execution_count": 20,
   "id": "74ba42ec-9eeb-45c3-8371-5b3b134d04d1",
   "metadata": {},
   "outputs": [
    {
     "name": "stdout",
     "output_type": "stream",
     "text": [
      "0.06506228593239168\n",
      "0.2829503530144448\n"
     ]
    }
   ],
   "source": [
    "print(np.average(maxError))\n",
    "print(np.max(maxError))"
   ]
  },
  {
   "cell_type": "code",
   "execution_count": 21,
   "id": "fa8b25dd-6c2d-4b42-bde7-510abd47b3b1",
   "metadata": {},
   "outputs": [],
   "source": [
    "aveError = []\n",
    "\n",
    "for cond in condMaps:\n",
    "    \n",
    "    oneMap = cond\n",
    "    \n",
    "    binIndLims = [0]\n",
    "\n",
    "    for i in range(numBinsTest):\n",
    "        binIndLims.append(int((len(oneMap) - binIndLims[-1]) / (numBinsTest - i)) + (binIndLims[-1]))\n",
    "\n",
    "    sortInds = oneMap.argsort()\n",
    "    corDetStarTemp = detStar[sortInds[::1]]\n",
    "    injStarTemp = injStar[sortInds[::1]]\n",
    "\n",
    "    corDetBins = []\n",
    "    injBins = []\n",
    "\n",
    "    for i in range(numBinsTest):\n",
    "        corDetBins.append(corDetStarTemp[binIndLims[i]:binIndLims[i+1]])\n",
    "        injBins.append(injStarTemp[binIndLims[i]:binIndLims[i+1]])\n",
    "\n",
    "    yValuesCor = []\n",
    "\n",
    "    for i in range(numBinsTest):\n",
    "        yValuesCor.append((np.sum(corDetBins[i]) / np.sum(injBins[i])) / aveEff)\n",
    "\n",
    "    yValuesCor = np.array(yValuesCor)\n",
    "    \n",
    "    aveError.append(np.average(np.abs(yValuesCor - 1)))\n",
    "    \n",
    "aveError = np.array(aveError)"
   ]
  },
  {
   "cell_type": "code",
   "execution_count": 22,
   "id": "137880a8-3950-4839-8d79-7a92e1335954",
   "metadata": {},
   "outputs": [
    {
     "name": "stdout",
     "output_type": "stream",
     "text": [
      "0.00671656036468498\n",
      "0.009458294593800126\n"
     ]
    }
   ],
   "source": [
    "print(np.average(aveError))\n",
    "print(np.max(aveError))"
   ]
  },
  {
   "cell_type": "code",
   "execution_count": 23,
   "id": "e75929fc-1632-4cf1-a30b-8b327775be55",
   "metadata": {},
   "outputs": [
    {
     "data": {
      "text/plain": [
       "array([60])"
      ]
     },
     "execution_count": 23,
     "metadata": {},
     "output_type": "execute_result"
    }
   ],
   "source": [
    "np.where(aveError == np.min(aveError))[0]"
   ]
  },
  {
   "cell_type": "code",
   "execution_count": null,
   "id": "f625905e-db32-4d63-b82e-b99f0ddc8969",
   "metadata": {},
   "outputs": [],
   "source": []
  }
 ],
 "metadata": {
  "kernelspec": {
   "display_name": "Python 3 (ipykernel)",
   "language": "python",
   "name": "python3"
  },
  "language_info": {
   "codemirror_mode": {
    "name": "ipython",
    "version": 3
   },
   "file_extension": ".py",
   "mimetype": "text/x-python",
   "name": "python",
   "nbconvert_exporter": "python",
   "pygments_lexer": "ipython3",
   "version": "3.9.12"
  }
 },
 "nbformat": 4,
 "nbformat_minor": 5
}
