{
 "cells": [
  {
   "cell_type": "markdown",
   "id": "7a75b2a4-6642-4617-8705-4c908d2ba6f3",
   "metadata": {},
   "source": [
    "# Test:\n",
    "\n",
    "Just go right to 1c. The corrections are currently fast enough to where a downgrade to 512 is not necessary, especially when actual corrections will still occur at the 4096 level. Run the 1c test with a couple different cuts, then move on to test 2 (get some ideas for relative distributions using stellar stream pipeline). Then, make a new folder which will house the final product, do a bit of work, and then be done.\n",
    "\n",
    "# To Do:\n",
    "\n",
    "The only information that's useful is when a non complete train run is done, with something like 80%. Redo this after a certain point to keep that in mind."
   ]
  },
  {
   "cell_type": "code",
   "execution_count": 1,
   "id": "a9c0a045-653d-4a98-b1e0-22fa91dd9e0b",
   "metadata": {},
   "outputs": [],
   "source": [
    "import fitsio\n",
    "import numpy as np\n",
    "import healpy as hp\n",
    "import matplotlib.pyplot as plt\n",
    "import matplotlib.style\n",
    "import matplotlib\n",
    "from scipy import interpolate as inter\n",
    "from astropy.table import Table\n",
    "import BalrogTestConfig as balrConfig\n",
    "import Config\n",
    "from TrainAndFullMap import *\n",
    "from timeit import default_timer as timer\n",
    "import StellarConfig as strConfig\n",
    "from matplotlib.path import Path"
   ]
  },
  {
   "cell_type": "code",
   "execution_count": 2,
   "id": "815ad6bf-b882-4257-a4f0-f11b9eb06edf",
   "metadata": {},
   "outputs": [],
   "source": [
    "cutOffPercent = .01\n",
    "res = 4096\n",
    "# lowRes = 512\n",
    "binNum = 10"
   ]
  },
  {
   "cell_type": "code",
   "execution_count": 3,
   "id": "55495776-efe8-4ce6-84f7-17d8000cfa3e",
   "metadata": {},
   "outputs": [],
   "source": [
    "# allPixFile = balrConfig.test1AllPixFile # This is actually unneeded at this point\n",
    "validPixFile = balrConfig.test1ValidPixFile\n",
    "\n",
    "matBalrStarFile = balrConfig.matBalrStarFile"
   ]
  },
  {
   "cell_type": "code",
   "execution_count": 4,
   "id": "c947216b-9c11-48b9-835a-a9176e212739",
   "metadata": {},
   "outputs": [],
   "source": [
    "# injPix = hp.ang2pix(4096, fitsio.read(allPixFile)['RA'], fitsio.read(allPixFile)['DEC'], nest = True, lonlat = True)\n",
    "validPix = fitsio.read(validPixFile)['PIXEL']"
   ]
  },
  {
   "cell_type": "markdown",
   "id": "2a8d1d2d-3e73-4294-bc4f-ffdfa9851562",
   "metadata": {},
   "source": [
    "## Applying Cuts:\n",
    "\n",
    "This is where some sort of cut is applied. Maybe start with a general color, magnitude, and class cut (has to be a classified star lets say). Later on, with some added complexity from another file, we should test adding in quality cuts on flags from the detBalrStarFile."
   ]
  },
  {
   "cell_type": "code",
   "execution_count": 5,
   "id": "ab4787c3-a69d-4b61-b70d-70fdd8561737",
   "metadata": {},
   "outputs": [],
   "source": [
    "classCut = 1.5\n",
    "path = strConfig.path\n",
    "mu = strConfig.mu"
   ]
  },
  {
   "cell_type": "code",
   "execution_count": 6,
   "id": "e8c051d4-bb61-4898-8a13-c744e773adad",
   "metadata": {},
   "outputs": [],
   "source": [
    "starData = fitsio.read(matBalrStarFile, columns = ['meas_ra', 'meas_dec', 'meas_EXTENDED_CLASS_SOF', 'meas_psf_mag'])"
   ]
  },
  {
   "cell_type": "code",
   "execution_count": 7,
   "id": "d35faa56-6b70-4644-ac9b-c2f6c9096cf4",
   "metadata": {},
   "outputs": [],
   "source": [
    "matRa = starData['meas_ra']\n",
    "matDec = starData['meas_dec']\n",
    "matRmag = starData['meas_psf_mag'][:,1]\n",
    "matGmag = starData['meas_psf_mag'][:,0]\n",
    "matClass = starData['meas_EXTENDED_CLASS_SOF']"
   ]
  },
  {
   "cell_type": "code",
   "execution_count": 8,
   "id": "954666ee-1ea1-4178-b6db-2590cdf7609d",
   "metadata": {},
   "outputs": [],
   "source": [
    "matPix = hp.ang2pix(res, matRa, matDec, nest = True, lonlat = True)"
   ]
  },
  {
   "cell_type": "code",
   "execution_count": 9,
   "id": "8ee3d807-1331-49b4-91d4-ce29d453e25f",
   "metadata": {},
   "outputs": [
    {
     "data": {
      "text/plain": [
       "0.9877826288174058"
      ]
     },
     "execution_count": 9,
     "metadata": {},
     "output_type": "execute_result"
    }
   ],
   "source": [
    "# If this is non one, some matched pixels aren't in the valid pix, which is to be expected.\n",
    "# This is the first cut to perform.\n",
    "np.average(np.isin(matPix, validPix))"
   ]
  },
  {
   "cell_type": "code",
   "execution_count": 10,
   "id": "af771d9f-129c-4854-a79b-e9e0c27be98a",
   "metadata": {},
   "outputs": [],
   "source": [
    "pixCut = np.isin(matPix, validPix)\n",
    "matPix = matPix[pixCut]\n",
    "matRmag = matRmag[pixCut]\n",
    "matGmag = matGmag[pixCut]\n",
    "matClass = matClass[pixCut]"
   ]
  },
  {
   "cell_type": "code",
   "execution_count": 11,
   "id": "98970793-6199-4f07-a1e4-87f13bdbeba6",
   "metadata": {},
   "outputs": [],
   "source": [
    "magCut = np.where(matRmag <= 25)[0]\n",
    "\n",
    "matPix = matPix[magCut]\n",
    "matRmag = matRmag[magCut]\n",
    "matGmag = matGmag[magCut]\n",
    "matClass = matClass[magCut]"
   ]
  },
  {
   "cell_type": "code",
   "execution_count": 12,
   "id": "091aa364-d047-49e6-bf7a-5a633118ee23",
   "metadata": {},
   "outputs": [],
   "source": [
    "MG = matGmag - mu\n",
    "GR = matGmag - matRmag\n",
    "\n",
    "filterSelection=Path.contains_points(path,np.vstack((GR,MG)).T)\n",
    "\n",
    "matClass = matClass[filterSelection]\n",
    "matPix = matPix[filterSelection]"
   ]
  },
  {
   "cell_type": "code",
   "execution_count": 13,
   "id": "380c7a20-e735-48d2-90df-2bc24e71245c",
   "metadata": {},
   "outputs": [],
   "source": [
    "classCuts = np.where((matClass >= 0) &\n",
    "                     (matClass <= classCut))[0]"
   ]
  },
  {
   "cell_type": "code",
   "execution_count": 14,
   "id": "7e086941-0e23-48a6-93b0-7973d60aef6a",
   "metadata": {},
   "outputs": [],
   "source": [
    "matPix = matPix[classCuts]"
   ]
  },
  {
   "cell_type": "code",
   "execution_count": 15,
   "id": "48014841-e7a5-434b-99af-712391ff0ff3",
   "metadata": {},
   "outputs": [
    {
     "data": {
      "text/plain": [
       "0.15666683394389522"
      ]
     },
     "execution_count": 15,
     "metadata": {},
     "output_type": "execute_result"
    }
   ],
   "source": [
    "# This is the percent of matched stars left for the procedure\n",
    "len(matPix) / len(matRa)"
   ]
  },
  {
   "cell_type": "code",
   "execution_count": 16,
   "id": "7a66995a-ae92-4254-9a45-590410fb2eac",
   "metadata": {},
   "outputs": [],
   "source": [
    "_, origDetPixCounts = np.unique(np.append(validPix, matPix), return_counts = True)\n",
    "origDetPixCounts = origDetPixCounts - 1"
   ]
  },
  {
   "cell_type": "code",
   "execution_count": 17,
   "id": "24d4d434-e62a-4f86-8a82-73ee86f1f176",
   "metadata": {},
   "outputs": [],
   "source": [
    "condFiles = balrConfig.test1CondFiles\n",
    "\n",
    "pcMaps = []\n",
    "\n",
    "# This loops over every condition file\n",
    "for condFile in condFiles:\n",
    "    condData = fitsio.read(condFile) # This reads in the data\n",
    "    pcMaps.append(condData['SIGNAL']) # Only stores the values that are in pixels with injections\n",
    "\n",
    "pcMaps = np.array(pcMaps)"
   ]
  },
  {
   "cell_type": "code",
   "execution_count": 18,
   "id": "125a73f3-7936-41e5-a77b-f4192fae24bf",
   "metadata": {},
   "outputs": [],
   "source": [
    "aveDet = np.sum(origDetPixCounts) / len(origDetPixCounts)"
   ]
  },
  {
   "cell_type": "code",
   "execution_count": 19,
   "id": "9f5f642c-8499-48ee-8dc0-aa15aa2e09e3",
   "metadata": {},
   "outputs": [],
   "source": [
    "trainInds = np.full(len(pcMaps[0]), False, dtype = bool)\n",
    "trainInds[0:int(0.8*len(trainInds))] = True\n",
    "np.random.shuffle(trainInds)\n",
    "\n",
    "sortInds = []\n",
    "for i in range(len(pcMaps)):\n",
    "    sortInds.append(pcMaps[i][trainInds].argsort())\n",
    "sortInds = np.array(sortInds)"
   ]
  },
  {
   "cell_type": "code",
   "execution_count": 20,
   "id": "35f8475f-53a4-4f62-9692-cf5a85a51271",
   "metadata": {},
   "outputs": [],
   "source": [
    "binIndLims = [0]\n",
    "\n",
    "for j in range(binNum):\n",
    "    binIndLims.append(int((np.sum(trainInds) - binIndLims[-1]) / (binNum - j)) + (binIndLims[-1]))"
   ]
  },
  {
   "cell_type": "code",
   "execution_count": 21,
   "id": "8499ca3e-d9ec-46d9-ad38-e71197b42293",
   "metadata": {},
   "outputs": [],
   "source": [
    "xBins = []\n",
    "\n",
    "for i in range(len(pcMaps)):\n",
    "    PC_Map_Sort = pcMaps[i][trainInds][sortInds[i][::1]]\n",
    "    pcBins = []\n",
    "    for j in range(binNum):\n",
    "        pcBins.append(PC_Map_Sort[binIndLims[j]:binIndLims[j+1]])\n",
    "    indXBin = []\n",
    "\n",
    "    for j in range(binNum):\n",
    "        indXBin.append(np.sum(pcBins[j]) / len(pcBins[j]))\n",
    "        \n",
    "    xBins.append(np.array(indXBin))\n",
    "\n",
    "xBins = np.array(xBins)"
   ]
  },
  {
   "cell_type": "code",
   "execution_count": 22,
   "id": "1b1a48e8-2345-4e5b-92b8-f0784b320013",
   "metadata": {},
   "outputs": [],
   "source": [
    "yBinsOrig = []\n",
    "for i in range(len(pcMaps)):\n",
    "    detSort = origDetPixCounts[trainInds][sortInds[i][::1]]\n",
    "    detBins = []\n",
    "    for j in range(binNum):\n",
    "        detBins.append(detSort[binIndLims[j]:binIndLims[j+1]])\n",
    "    indYBinOrig = []\n",
    "\n",
    "    for j in range(binNum):\n",
    "        indYBinOrig.append(np.sum(detBins[j]) / (aveDet * len(detBins[j])))\n",
    "\n",
    "    yBinsOrig.append(np.array(indYBinOrig))\n",
    "\n",
    "yBinsOrig = np.array(yBinsOrig)"
   ]
  },
  {
   "cell_type": "code",
   "execution_count": 23,
   "id": "3e70c0b5-49a2-4f41-a221-47c064d5cc5c",
   "metadata": {},
   "outputs": [],
   "source": [
    "def mostSigInd(y):\n",
    "    maxSquaredDiff = 0\n",
    "    index = -1\n",
    "    \n",
    "    maxSingError = np.max(np.abs(y - 1))\n",
    "    \n",
    "    if maxSingError <= cutOffPercent:\n",
    "        return index, maxSingError\n",
    "    \n",
    "    for i in range(len(y)):\n",
    "        yi = y[i]\n",
    "        \n",
    "        diff = np.sum((yi - 1)**2)\n",
    "        \n",
    "        if diff > maxSquaredDiff:\n",
    "            maxSquaredDiff = diff\n",
    "            index = i\n",
    "            \n",
    "    return index, maxSingError"
   ]
  },
  {
   "cell_type": "code",
   "execution_count": 24,
   "id": "1947a8b5-ba19-4260-b51a-dc30cbe8efc7",
   "metadata": {},
   "outputs": [],
   "source": [
    "detPixCounts = np.copy(origDetPixCounts)"
   ]
  },
  {
   "cell_type": "code",
   "execution_count": 25,
   "id": "e8f1d252-6444-433f-b0b8-27fc8257ceb0",
   "metadata": {},
   "outputs": [
    {
     "name": "stdout",
     "output_type": "stream",
     "text": [
      "4.201010743621737 seconds per loop\n",
      "20\n",
      "40\n",
      "60\n",
      "80\n",
      "100\n"
     ]
    }
   ],
   "source": [
    "timeThrough = 0\n",
    "allErrors = []\n",
    "\n",
    "start = timer()\n",
    "\n",
    "while(True):\n",
    "    \n",
    "    timeThrough += 1\n",
    "    if timeThrough % 20 == 0:\n",
    "        print(timeThrough)\n",
    "    \n",
    "    yBins = []\n",
    "    for i in range(len(pcMaps)):\n",
    "        detSort = detPixCounts[trainInds][sortInds[i][::1]]\n",
    "        detBins = []\n",
    "        for j in range(binNum):\n",
    "            detBins.append(detSort[binIndLims[j]:binIndLims[j+1]])\n",
    "        indYBin = []\n",
    "\n",
    "        for j in range(binNum):\n",
    "            indYBin.append(np.sum(detBins[j]) / (aveDet * len(detBins[j])))\n",
    "\n",
    "        yBins.append(np.array(indYBin))\n",
    "\n",
    "    yBins = np.array(yBins)\n",
    "    \n",
    "    index, maxErr = mostSigInd(yBins)\n",
    "    if index == -1:\n",
    "        break\n",
    "        \n",
    "    allErrors.append(maxErr)\n",
    "        \n",
    "    corrFunc = inter.interp1d(xBins[index], yBins[index], bounds_error = False, fill_value = (yBins[index][0], yBins[index][-1]))\n",
    "    \n",
    "    detPixCounts = detPixCounts / (corrFunc(pcMaps[index]))\n",
    "    \n",
    "    detPixCounts = detPixCounts * aveDet / (np.sum(detPixCounts) / len(detPixCounts))\n",
    "    \n",
    "    if timeThrough == 1:\n",
    "        end = timer()\n",
    "        print(str(end - start) + ' seconds per loop') # time in seconds"
   ]
  },
  {
   "cell_type": "code",
   "execution_count": 26,
   "id": "e93d4f6a-a0d4-4de1-9c0e-3dd3c45fa80c",
   "metadata": {},
   "outputs": [],
   "source": [
    "# errorsFile = balrConfig.test1cDir + 'Errors_' + str(cutOffPercent) + '.fits'\n",
    "# detPixFile = balrConfig.test1cDir + 'Pix_Counts_' + str(cutOffPercent) + '.fits'\n",
    "# trainIndsFile = balrConfig.test1cDir + 'Train_Inds_' + str(cutOffPercent) + '.fits'"
   ]
  },
  {
   "cell_type": "code",
   "execution_count": 27,
   "id": "f2e44541-773e-4996-b142-c8edb688aec0",
   "metadata": {},
   "outputs": [],
   "source": [
    "# my_table = Table()\n",
    "# my_table['Errors'] = allErrors\n",
    "# my_table.write(errorsFile, overwrite = True)"
   ]
  },
  {
   "cell_type": "code",
   "execution_count": 28,
   "id": "fb0fc050-76e2-49d3-886f-9e7e96412774",
   "metadata": {},
   "outputs": [],
   "source": [
    "# my_table = Table()\n",
    "# my_table['Counts'] = detPixCounts\n",
    "# my_table.write(detPixFile, overwrite = True)"
   ]
  },
  {
   "cell_type": "code",
   "execution_count": 29,
   "id": "fd94a810-3dc1-4035-82de-e929d9c4ab1a",
   "metadata": {},
   "outputs": [],
   "source": [
    "# my_table = Table()\n",
    "# my_table['Inds'] = trainInds\n",
    "# my_table.write(trainIndsFile, overwrite = True)"
   ]
  },
  {
   "cell_type": "code",
   "execution_count": 30,
   "id": "2821cc43-34ee-447b-a27a-8488c55a2557",
   "metadata": {},
   "outputs": [],
   "source": [
    "# allErrors = fitsio.read(errorsFile)['Errors']\n",
    "# detPixCounts = fitsio.read(detPixFile)['Counts']\n",
    "# trainInds = fitsio.read(trainIndsFile)['Inds']"
   ]
  },
  {
   "cell_type": "code",
   "execution_count": 31,
   "id": "8af6b5ec-9f95-4618-9950-17a5afd3701d",
   "metadata": {},
   "outputs": [
    {
     "data": {
      "image/png": "[encoded data removed]",
      "text/plain": [
       "<Figure size 768x576 with 1 Axes>"
      ]
     },
     "metadata": {},
     "output_type": "display_data"
    }
   ],
   "source": [
    "plt.figure(dpi = 120)\n",
    "plt.scatter(np.arange(len(allErrors)), allErrors, s = 0.25)\n",
    "plt.show()"
   ]
  },
  {
   "cell_type": "code",
   "execution_count": 32,
   "id": "26a9a412-33f0-4fb0-8c5e-3b44daba00a5",
   "metadata": {},
   "outputs": [],
   "source": [
    "condFiles = balrConfig.test1CondFiles\n",
    "conditions = Config.conditions"
   ]
  },
  {
   "cell_type": "code",
   "execution_count": 33,
   "id": "e685b2ac-cb91-422f-82c6-0baefd4309c2",
   "metadata": {},
   "outputs": [],
   "source": [
    "condMaps = np.copy(pcMaps)"
   ]
  },
  {
   "cell_type": "code",
   "execution_count": 34,
   "id": "4d77501a-5cab-4332-a80f-10bb55582784",
   "metadata": {},
   "outputs": [],
   "source": [
    "binIndLims = [0]\n",
    "\n",
    "for j in range(binNum):\n",
    "    binIndLims.append(int((np.sum(~trainInds) - binIndLims[-1]) / (binNum - j)) + (binIndLims[-1]))"
   ]
  },
  {
   "cell_type": "code",
   "execution_count": 35,
   "id": "da163d4c-cd9d-4cb7-b5c4-40dbe4713465",
   "metadata": {},
   "outputs": [],
   "source": [
    "condMaxErrors = []\n",
    "condMaxErrorsOrig = []\n",
    "\n",
    "for condInd in range(len(condMaps)):\n",
    "    condMap = condMaps[condInd]\n",
    "    condSortInds = condMap[~trainInds].argsort()\n",
    "    \n",
    "    condSort = condMap[~trainInds][condSortInds[::1]]\n",
    "    detStarTemp = detPixCounts[~trainInds][condSortInds[::1]]\n",
    "    origDetStarTemp = origDetPixCounts[~trainInds][condSortInds[::1]]\n",
    "\n",
    "    origDetBins = []\n",
    "    detBins = []\n",
    "    condBins = []\n",
    "\n",
    "    for j in range(10):\n",
    "        origDetBins.append(origDetStarTemp[binIndLims[j]:binIndLims[j+1]])\n",
    "        detBins.append(detStarTemp[binIndLims[j]:binIndLims[j+1]])\n",
    "        condBins.append(condSort[binIndLims[j]:binIndLims[j+1]])\n",
    "\n",
    "    yBinCondOrig = []\n",
    "    yBinCond = []\n",
    "    xBinCond = []\n",
    "\n",
    "    for j in range(10):\n",
    "        yBinCondOrig.append(np.sum(origDetBins[j]) / (aveDet * len(origDetBins[j])))\n",
    "        yBinCond.append(np.sum(detBins[j]) / (aveDet * len(detBins[j])))\n",
    "        xBinCond.append(np.sum(condBins[j]) / len(condBins[j]))\n",
    "\n",
    "    xBinCond = np.array(xBinCond)\n",
    "    yBinCond = np.array(yBinCond)\n",
    "    yBinCondOrig = np.array(yBinCondOrig)\n",
    "    \n",
    "    condMaxErrorsOrig.append(np.max(np.abs(yBinCondOrig - 1)))\n",
    "    condMaxErrors.append(np.max(np.abs(yBinCond - 1)))\n",
    "    \n",
    "    # plt.figure(dpi = 120)\n",
    "    # plt.plot(xBinCond, yBinCond, marker = 'o', label = r'Corrected Dependency, ' + r'$\\sigma = $' + str(np.round(np.std(yBinCond), decimals = 3)), zorder = 4)\n",
    "    # plt.plot(xBinCond, yBinCondOrig, marker = 'o', label = r'Original Dependency, ' + r'$\\sigma = $' + str(np.round(np.std(yBinCondOrig), decimals = 3)), zorder = 4)\n",
    "    # plt.axhline(y = 1, color = 'black', linestyle = '--', zorder = 3)\n",
    "    # plt.legend()\n",
    "    # plt.title('Stellar Detection Rate Dependencies')\n",
    "    # plt.grid(zorder = 0)\n",
    "    # plt.xlabel(conditions[condInd])\n",
    "    # plt.ylabel(r'$N/\\langle N\\rangle$')\n",
    "    # plt.savefig('80PerTrain1c/' + conditions[condInd])"
   ]
  },
  {
   "cell_type": "code",
   "execution_count": 36,
   "id": "34b04327-e5c3-4ab3-9b49-1b78c5ce6c91",
   "metadata": {},
   "outputs": [
    {
     "data": {
      "text/plain": [
       "0.02507034452330897"
      ]
     },
     "execution_count": 36,
     "metadata": {},
     "output_type": "execute_result"
    }
   ],
   "source": [
    "np.average(condMaxErrors)"
   ]
  },
  {
   "cell_type": "code",
   "execution_count": 37,
   "id": "6dcc5158-4055-4c83-84c3-4392cd1a2718",
   "metadata": {},
   "outputs": [
    {
     "data": {
      "text/plain": [
       "0.3008979773860907"
      ]
     },
     "execution_count": 37,
     "metadata": {},
     "output_type": "execute_result"
    }
   ],
   "source": [
    "np.average(np.array(condMaxErrors) / np.array(condMaxErrorsOrig))"
   ]
  },
  {
   "cell_type": "code",
   "execution_count": 38,
   "id": "e50f7d24-4997-4338-9740-a22ea7829796",
   "metadata": {},
   "outputs": [
    {
     "data": {
      "text/plain": [
       "0.21645594490030445"
      ]
     },
     "execution_count": 38,
     "metadata": {},
     "output_type": "execute_result"
    }
   ],
   "source": [
    "np.sum(condMaxErrors) / np.sum(condMaxErrorsOrig)"
   ]
  },
  {
   "cell_type": "markdown",
   "id": "53e86af4-bfa0-40e2-b6d8-e371131b8d2d",
   "metadata": {},
   "source": [
    "## Issue (From Earlier):\n",
    "\n",
    "This shows an issue not yet considered, what happens if the balrog injection is in a valid 512 pixel, but not in a valid 4096 pixel? An easy potential fix would be just only considering 512 pixels which have complete 4096 coverage. I'll take a look at what the full footprint looks like when that is done. Another potential fix would be have ones in an invalid 4096 pixel get \"fill in\" values, but this might lead to some issues (leave this for someone else if it looks like it'll be fine)."
   ]
  },
  {
   "cell_type": "code",
   "execution_count": 39,
   "id": "bbbfde38-ab5f-4b5c-9597-ce5cfafdb040",
   "metadata": {},
   "outputs": [],
   "source": [
    "# import StellarConfig as strConfig"
   ]
  },
  {
   "cell_type": "code",
   "execution_count": 40,
   "id": "cddd5aaf-0252-4fb3-a990-4eb761e34831",
   "metadata": {},
   "outputs": [],
   "source": [
    "# origCondFiles = strConfig.origCondFiles\n",
    "# stelFile = strConfig.stelFile"
   ]
  },
  {
   "cell_type": "code",
   "execution_count": 41,
   "id": "938a9a14-0652-444e-8b3a-ddcf68957c40",
   "metadata": {},
   "outputs": [],
   "source": [
    "# # This will be used to check where valid pixels are.\n",
    "# validPix = np.full(12*(4096**2), True, dtype = bool)\n",
    "\n",
    "# for file in origCondFiles:\n",
    "#     condData = fitsio.read(file) # This reads in the data.\n",
    "#     condSigExt = np.full(12*(4096**2), -1.6375e+30) # Gives a default value.\n",
    "#     condSigExt[condData['PIXEL']] = condData['SIGNAL'] # Changes all valid pixels to their corresponding signals.\n",
    "#     validPix[np.where(condSigExt < -100)] = False # An invalid survey property marks this pixel as false.\n",
    "\n",
    "# stelDensExt = fitsio.read(stelFile)['I'].flatten() # Loads in the stellar density.\n",
    "# validPix[np.where(stelDensExt < -100)] = False # Any non valid pixel has its value changed to False.\n",
    "\n",
    "# # This reduces the healpixel resolution to the requested size.\n",
    "# validPixRes = np.full(12*(4096**2), 0.0)\n",
    "# validPixRes[validPix] = 1.0\n",
    "# validPixRes = hp.ud_grade(validPixRes, 512, order_in = 'NESTED', order_out = 'NESTED')\n",
    "\n",
    "# # This provides a cutoff for what percent of the superpixel has to be covered to be considered valid.\n",
    "# PIX = np.where(validPixRes >= 0.999)[0]"
   ]
  },
  {
   "cell_type": "code",
   "execution_count": 42,
   "id": "4be8ac00-b810-440f-b1be-4847d3ac967f",
   "metadata": {},
   "outputs": [],
   "source": [
    "# fullPix = np.full(12*(512**2), hp.UNSEEN)\n",
    "# fullPix[PIX] = 0"
   ]
  },
  {
   "cell_type": "code",
   "execution_count": 43,
   "id": "ce9ed091-2c56-4a26-8202-f0074c043001",
   "metadata": {},
   "outputs": [],
   "source": [
    "# import healsparse as hsp\n",
    "# import skyproj"
   ]
  },
  {
   "cell_type": "code",
   "execution_count": 44,
   "id": "974645b3-e5c6-4cc0-bed8-270a5283df59",
   "metadata": {},
   "outputs": [],
   "source": [
    "# nside_coverage = 32\n",
    "# hspPix = hsp.HealSparseMap(nside_coverage=nside_coverage, healpix_map=fullPix)"
   ]
  },
  {
   "cell_type": "code",
   "execution_count": 45,
   "id": "c247e790-9713-4e48-ac3f-5554dc4f77ed",
   "metadata": {},
   "outputs": [],
   "source": [
    "# fig = plt.figure(1, figsize=(8, 6))\n",
    "# ax = fig.add_subplot(111)\n",
    "# sp = skyproj.DESSkyproj(ax=ax)\n",
    "# sp.draw_hspmap(hspPix, cmap = 'bwr')\n",
    "# plt.clim(0, 1)\n",
    "# # plt.colorbar(location = 'bottom', label = '512 Pixels with Full 4096 Coverage')\n",
    "# fig.suptitle(r'512 Pixels with Full 4096 Coverage')\n",
    "# plt.show()"
   ]
  },
  {
   "cell_type": "code",
   "execution_count": null,
   "id": "ca54001b-eb51-4c28-b376-6e7fd984a26a",
   "metadata": {},
   "outputs": [],
   "source": []
  }
 ],
 "metadata": {
  "kernelspec": {
   "display_name": "Python 3 (ipykernel)",
   "language": "python",
   "name": "python3"
  },
  "language_info": {
   "codemirror_mode": {
    "name": "ipython",
    "version": 3
   },
   "file_extension": ".py",
   "mimetype": "text/x-python",
   "name": "python",
   "nbconvert_exporter": "python",
   "pygments_lexer": "ipython3",
   "version": "3.9.12"
  }
 },
 "nbformat": 4,
 "nbformat_minor": 5
}
