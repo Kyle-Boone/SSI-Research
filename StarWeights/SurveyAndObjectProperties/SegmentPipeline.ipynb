{
 "cells": [
  {
   "cell_type": "code",
   "execution_count": 1,
   "id": "b704eac1-1dd1-4cfa-a860-c2b02503615b",
   "metadata": {},
   "outputs": [],
   "source": [
    "import numpy as np\n",
    "import matplotlib.pyplot as plt\n",
    "import fitsio\n",
    "import astropy.io.fits as fits\n",
    "from astropy.table import Table\n",
    "import healpy as hp\n",
    "from GetObjectProperties import *\n",
    "from TrainAndExtend import *\n",
    "from SegmentedGalaxyTrain import *\n",
    "import Config"
   ]
  },
  {
   "cell_type": "code",
   "execution_count": 2,
   "id": "2cd04627-897b-4690-a975-d2337ece0538",
   "metadata": {},
   "outputs": [],
   "source": [
    "minGR = -0.3 # Minimum G-R color\n",
    "maxGR = 1 # Maximum G-R color\n",
    "res = 512 # Healpixel resolution\n",
    "perCovered = 0.6 # Percent of healpixel that must have valid survey properties at the 4096 scale\n",
    "sigma = 0.5 # Sigma used for gaussian weighting\n",
    "perVar = 0.98 # Percent of the variance to be captured\n",
    "perMap = 0.625 # Percent of the PC maps to use, adjust this later\n",
    "numBins = 100 # Number of points in interpolation"
   ]
  },
  {
   "cell_type": "code",
   "execution_count": 3,
   "id": "b4e7af2b-0844-4553-a37d-191d970cd594",
   "metadata": {},
   "outputs": [],
   "source": [
    "conditions = Config.conditions\n",
    "oldGalaDir = '/hdfs/bechtol/balrog/y3/y3a2_survey_conditions_maps/Kyle_Stuff/GalaxyContamination/'\n",
    "\n",
    "deepFiles = ['/hdfs/bechtol/balrog/y3_deep_fields/y3_deep_fields_catalog/deepfields_000001.fits', \n",
    "             '/hdfs/bechtol/balrog/y3_deep_fields/y3_deep_fields_catalog/deepfields_000002.fits', \n",
    "             '/hdfs/bechtol/balrog/y3_deep_fields/y3_deep_fields_catalog/deepfields_000003.fits',\n",
    "             '/hdfs/bechtol/balrog/y3_deep_fields/y3_deep_fields_catalog/deepfields_000004.fits',\n",
    "             '/hdfs/bechtol/balrog/y3_deep_fields/y3_deep_fields_catalog/deepfields_000005.fits']\n",
    "\n",
    "newGalaDir = '/hdfs/bechtol/balrog/y3/y3a2_survey_conditions_maps/Kyle_Stuff/ObjectPropertyGalaxyContamination/'\n",
    "\n",
    "balrFile = '/hdfs/bechtol/balrog/y3/balrog_detection_catalog_sof_y3-merged_v1.2.fits'\n",
    "measBalrFile = '/hdfs/bechtol/balrog/y3/balrog_matched_catalog_sof_y3-merged_v1.2.fits'\n",
    "galaFile = newGalaDir + 'Blue_Galaxies.fits'\n",
    "\n",
    "balrStarFile = '/afs/hep.wisc.edu/bechtol-group/MegansThings/balrog_detection_catalog_sof_run2_stars_v1.4_avg_added_match_flags.fits'\n",
    "measBalrStarFile = '/afs/hep.wisc.edu/bechtol-group/MegansThings/balrog_matched_catalog_sof_run2_stars_v1.4.fits'\n",
    "starFile = newGalaDir + 'Blue_Stars.fits'\n",
    "\n",
    "origCondFiles = Config.files[:-1]\n",
    "stelFile = Config.files[-1]\n",
    "pixFile = oldGalaDir + 'Valid_'+str(res)+'_Pixels.fits'\n",
    "condFiles = []\n",
    "for cond in conditions:\n",
    "    condFiles.append(oldGalaDir + str(res) + '_' + cond + '.fits')\n",
    "condFiles = np.array(condFiles)\n",
    "\n",
    "starTrainFile = newGalaDir + 'Star_Train.fits'"
   ]
  },
  {
   "cell_type": "code",
   "execution_count": 4,
   "id": "f2237cad-e862-41aa-8aa9-e11264cdddcd",
   "metadata": {},
   "outputs": [],
   "source": [
    "prevGalaTrainFile = newGalaDir + 'Gala_Train_1-27.fits' # This should've been called Gala_Train_1-2\n",
    "newGalaTrainFile = newGalaDir + 'Gala_Train.fits'\n",
    "testGalaTrainFile = newGalaDir + 'Gala_Test_1-4.fits'"
   ]
  },
  {
   "cell_type": "code",
   "execution_count": 5,
   "id": "51cdcf85-1f92-4388-a6d2-28336f4b8052",
   "metadata": {},
   "outputs": [
    {
     "name": "stdout",
     "output_type": "stream",
     "text": [
      "1\n",
      "2\n",
      "3\n",
      "4\n"
     ]
    }
   ],
   "source": [
    "firstSingleCorrectionTrain(galaFile, condFiles, pixFile, testGalaTrainFile, sigma, perMap, perVar, numBins, res, iterations = 4)"
   ]
  },
  {
   "cell_type": "code",
   "execution_count": null,
   "id": "af916f5f-53c0-4b71-b1d6-269169624452",
   "metadata": {},
   "outputs": [],
   "source": []
  }
 ],
 "metadata": {
  "kernelspec": {
   "display_name": "Python 3 (ipykernel)",
   "language": "python",
   "name": "python3"
  },
  "language_info": {
   "codemirror_mode": {
    "name": "ipython",
    "version": 3
   },
   "file_extension": ".py",
   "mimetype": "text/x-python",
   "name": "python",
   "nbconvert_exporter": "python",
   "pygments_lexer": "ipython3",
   "version": "3.9.12"
  }
 },
 "nbformat": 4,
 "nbformat_minor": 5
}
