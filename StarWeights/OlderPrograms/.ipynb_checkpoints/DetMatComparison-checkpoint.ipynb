{
 "cells": [
  {
   "cell_type": "code",
   "execution_count": 1,
   "id": "9ff1e946-cd59-4f35-93b7-c86003119323",
   "metadata": {},
   "outputs": [],
   "source": [
    "import numpy as np\n",
    "import fitsio"
   ]
  },
  {
   "cell_type": "code",
   "execution_count": 2,
   "id": "bbfbcf32-6c1c-4549-a074-e98a782f4832",
   "metadata": {},
   "outputs": [],
   "source": [
    "matFile = '/hdfs/bechtol/balrog/y3/balrog_matched_catalog_sof_y3-merged_v1.2.fits'\n",
    "detFile = '/hdfs/bechtol/balrog/y3/balrog_detection_catalog_sof_y3-merged_v1.2.fits'"
   ]
  },
  {
   "cell_type": "code",
   "execution_count": 3,
   "id": "b2067fc3-e2f4-4733-99b5-fee028202413",
   "metadata": {},
   "outputs": [],
   "source": [
    "matData = fitsio.read(matFile, columns = ['true_id'])\n",
    "detData = fitsio.read(detFile, columns = ['detected', 'true_id'])"
   ]
  },
  {
   "cell_type": "code",
   "execution_count": 7,
   "id": "79880bfa-6004-4f97-9e2f-0a8406aa1cc5",
   "metadata": {},
   "outputs": [],
   "source": [
    "matID = matData['true_id']\n",
    "detID = detData['true_id'][np.where(detData['detected'] == 1)[0]]"
   ]
  },
  {
   "cell_type": "code",
   "execution_count": 15,
   "id": "44fc2f99-7a54-4fe5-91a4-8e3bf3a2c5e7",
   "metadata": {},
   "outputs": [
    {
     "data": {
      "text/plain": [
       "True"
      ]
     },
     "execution_count": 15,
     "metadata": {},
     "output_type": "execute_result"
    }
   ],
   "source": [
    "np.min(np.sort(matID) == np.sort(detID))"
   ]
  },
  {
   "cell_type": "markdown",
   "id": "e1cf273d-cccb-4e60-a5bf-5e8f5dd7a022",
   "metadata": {},
   "source": [
    "### Implication From Above\n",
    "\n",
    "The implication (IASIP reference?) is that these are the same objects as expected, but in order to do a one to one comparison I must first sort them by true_id. This will then be applied so that I can get all of the flags set properly.\n",
    "\n",
    "The above paragraph is only really necessary if I actually start making use of the magnitude as a way to filter the data, which as far as I can tell isn't happening, so maybe only the one file is necessary (that file being the detection file)."
   ]
  },
  {
   "cell_type": "code",
   "execution_count": null,
   "id": "9e5a836a-c73e-4b69-a769-472d3c4652b7",
   "metadata": {},
   "outputs": [],
   "source": []
  }
 ],
 "metadata": {
  "kernelspec": {
   "display_name": "Python 3 (ipykernel)",
   "language": "python",
   "name": "python3"
  },
  "language_info": {
   "codemirror_mode": {
    "name": "ipython",
    "version": 3
   },
   "file_extension": ".py",
   "mimetype": "text/x-python",
   "name": "python",
   "nbconvert_exporter": "python",
   "pygments_lexer": "ipython3",
   "version": "3.9.12"
  }
 },
 "nbformat": 4,
 "nbformat_minor": 5
}
