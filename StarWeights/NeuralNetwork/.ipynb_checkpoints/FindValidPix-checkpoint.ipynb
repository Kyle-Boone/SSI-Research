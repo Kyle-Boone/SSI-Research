{
 "cells": [
  {
   "cell_type": "code",
   "execution_count": 1,
   "id": "3b019156-d947-4fc9-b99e-b145dbbd9f9a",
   "metadata": {},
   "outputs": [
    {
     "name": "stderr",
     "output_type": "stream",
     "text": [
      "\n",
      "WARNING: version mismatch between CFITSIO header (v4.000999999999999) and linked library (v4.01).\n",
      "\n",
      "\n",
      "WARNING: version mismatch between CFITSIO header (v4.000999999999999) and linked library (v4.01).\n",
      "\n",
      "\n",
      "WARNING: version mismatch between CFITSIO header (v4.000999999999999) and linked library (v4.01).\n",
      "\n"
     ]
    }
   ],
   "source": [
    "import numpy as np\n",
    "import fitsio\n",
    "import healpy as hp\n",
    "import Config"
   ]
  },
  {
   "cell_type": "code",
   "execution_count": 2,
   "id": "979891f7-9fd7-473d-8023-5e2a2455b61a",
   "metadata": {},
   "outputs": [],
   "source": [
    "G, R, I, Z = 0, 1, 2, 3\n",
    "bands = [G, R, I, Z]\n",
    "exp = 8\n",
    "res = 2**exp"
   ]
  },
  {
   "cell_type": "code",
   "execution_count": 3,
   "id": "8f37a60b-42e3-4c83-82c6-88d516ab1d99",
   "metadata": {},
   "outputs": [],
   "source": [
    "validPixels = np.full(12*(res**2), True, dtype = bool)"
   ]
  },
  {
   "cell_type": "code",
   "execution_count": 4,
   "id": "98ae4621-1fd0-4108-b685-bc3b9a94b6fa",
   "metadata": {},
   "outputs": [],
   "source": [
    "for band in bands:\n",
    "    condFile = Config.orgAirFiles[band]\n",
    "    condMap = hp.fitsfunc.read_map(condFile, nest = True)\n",
    "    condMap[condMap==-1.6375e+30]=hp.UNSEEN\n",
    "    condSigExt=hp.ud_grade(condMap, res)\n",
    "    tempValidPixels = np.full(12*(res**2), False, dtype = bool)\n",
    "    tempValidPixels[np.where((condSigExt >= 0))[0]] = True\n",
    "    validPixels = validPixels & tempValidPixels"
   ]
  },
  {
   "cell_type": "code",
   "execution_count": 5,
   "id": "efe0a631-dc38-4e8a-980c-ffc658c6fdd8",
   "metadata": {},
   "outputs": [],
   "source": [
    "for band in bands:\n",
    "    condFile = Config.orgExpFiles[band]\n",
    "    condMap = hp.fitsfunc.read_map(condFile, nest = True)\n",
    "    condMap[condMap==-1.6375e+30]=hp.UNSEEN\n",
    "    condSigExt=hp.ud_grade(condMap, res)\n",
    "    tempValidPixels = np.full(12*(res**2), False, dtype = bool)\n",
    "    tempValidPixels[np.where((condSigExt >= 0))[0]] = True\n",
    "    validPixels = validPixels & tempValidPixels"
   ]
  },
  {
   "cell_type": "code",
   "execution_count": 6,
   "id": "ee717048-6148-4d60-a049-d2c2ae5aaa2c",
   "metadata": {},
   "outputs": [],
   "source": [
    "for band in bands:\n",
    "    condFile = Config.orgVarFiles[band]\n",
    "    condMap = hp.fitsfunc.read_map(condFile, nest = True)\n",
    "    condMap[condMap==-1.6375e+30]=hp.UNSEEN\n",
    "    condSigExt=hp.ud_grade(condMap, res)\n",
    "    tempValidPixels = np.full(12*(res**2), False, dtype = bool)\n",
    "    tempValidPixels[np.where((condSigExt >= 0))[0]] = True\n",
    "    validPixels = validPixels & tempValidPixels"
   ]
  },
  {
   "cell_type": "code",
   "execution_count": 7,
   "id": "da743760-cf65-49ca-8332-6fd7966a4ee7",
   "metadata": {},
   "outputs": [],
   "source": [
    "for band in bands:\n",
    "    condFile = Config.orgBriFiles[band]\n",
    "    condMap = hp.fitsfunc.read_map(condFile, nest = True)\n",
    "    condMap[condMap==-1.6375e+30]=hp.UNSEEN\n",
    "    condSigExt=hp.ud_grade(condMap, res)\n",
    "    tempValidPixels = np.full(12*(res**2), False, dtype = bool)\n",
    "    tempValidPixels[np.where((condSigExt >= 0))[0]] = True\n",
    "    validPixels = validPixels & tempValidPixels"
   ]
  },
  {
   "cell_type": "code",
   "execution_count": 8,
   "id": "66652580-8d11-4571-84c5-eaeb01b468fc",
   "metadata": {},
   "outputs": [],
   "source": [
    "for band in bands:\n",
    "    condFile = Config.orgSeeFiles[band]\n",
    "    condMap = hp.fitsfunc.read_map(condFile, nest = True)\n",
    "    condMap[condMap==-1.6375e+30]=hp.UNSEEN\n",
    "    condSigExt=hp.ud_grade(condMap, res)\n",
    "    tempValidPixels = np.full(12*(res**2), False, dtype = bool)\n",
    "    tempValidPixels[np.where((condSigExt >= 0))[0]] = True\n",
    "    validPixels = validPixels & tempValidPixels"
   ]
  },
  {
   "cell_type": "code",
   "execution_count": 9,
   "id": "1ac14f88-7bfa-4ff0-ac0f-dea13ab26e27",
   "metadata": {},
   "outputs": [],
   "source": [
    "for band in bands:\n",
    "    condFile = Config.orgZptFiles[band]\n",
    "    condMap = hp.fitsfunc.read_map(condFile, nest = True)\n",
    "    condMap[condMap==-1.6375e+30]=hp.UNSEEN\n",
    "    condSigExt=hp.ud_grade(condMap, res)\n",
    "    tempValidPixels = np.full(12*(res**2), False, dtype = bool)\n",
    "    tempValidPixels[np.where((condSigExt >= 0))[0]] = True\n",
    "    validPixels = validPixels & tempValidPixels"
   ]
  },
  {
   "cell_type": "code",
   "execution_count": 10,
   "id": "3358e9be-a4f1-4a06-9408-4312d66f740d",
   "metadata": {},
   "outputs": [],
   "source": [
    "stelData = fitsio.read(Config.orgDensFile)\n",
    "stelDensExt = stelData['I'].flatten()\n",
    "stelDensExt[stelDensExt==-1.6375e+30]=hp.UNSEEN\n",
    "condSigExt=hp.ud_grade(stelDensExt,res)\n",
    "tempValidPixels = np.full(12*(res**2), False, dtype = bool)\n",
    "tempValidPixels[np.where((condSigExt >= 0))[0]] = True\n",
    "validPixels = validPixels & tempValidPixels"
   ]
  },
  {
   "cell_type": "code",
   "execution_count": 12,
   "id": "a4153704-12bc-4334-a82d-0d498840dc89",
   "metadata": {},
   "outputs": [],
   "source": [
    "starFile = '/afs/hep.wisc.edu/bechtol-group/MegansThings/balrog_detection_catalog_sof_run2_stars_v1.4_avg_added_match_flags.fits'\n",
    "# This reads in all of the data. Most of these are just flags, the only pieces that get used much outside\n",
    "# of filtering are true_ra and true_dec which get used to convert into healPixels.\n",
    "starData = fitsio.read(starFile, columns = ['detected', 'true_ra', 'true_dec',\n",
    "                                            'flags_foreground', 'flags_badregions', 'flags_footprint',\n",
    "                                            'meas_FLAGS_GOLD_SOF_ONLY', 'match_flag_1.5_asec'])\n",
    "# These are in degrees which is why lonlat is set to True in the next cell.\n",
    "RA = starData['true_ra']\n",
    "DEC = starData['true_dec']\n",
    "# Everything from here on out is simply used in order to filter the data\n",
    "DETECTED = starData['detected'] # This specifically is used for now to filter out any non detected injection.\n",
    "FOREGROUND = starData['flags_foreground']\n",
    "BADREGIONS = starData['flags_badregions']\n",
    "FOOTPRINT = starData['flags_footprint']\n",
    "GOLDSOF = starData['meas_FLAGS_GOLD_SOF_ONLY']\n",
    "ARCSECONDS = starData['match_flag_1.5_asec']\n",
    "# i_mag = starData['meas_cm_mag_deredden'][:,2] This gets used if we filter at all based on i magnitude.\n",
    "\n",
    "# This is used to filter out any injections that either weren't detected or had flags raised.\n",
    "cutIndices = np.where((FOREGROUND == 0) & \n",
    "                      (BADREGIONS < 2) & \n",
    "                      (FOOTPRINT == 1) & \n",
    "                      # (GOLDSOF < 2) &\n",
    "                      (ARCSECONDS < 2))[0]\n",
    "\n",
    "aveEff = np.sum(DETECTED) / len(DETECTED)\n",
    "\n",
    "DETECTED = DETECTED[cutIndices]\n",
    "RA = RA[cutIndices]\n",
    "DEC = DEC[cutIndices]\n",
    "# This converts the RA and DEC values from above to healpixels so we can compare to the sky condition.\n",
    "starPixels = hp.ang2pix(res, RA, DEC, lonlat = True, nest = True)\n",
    "starPixels = starPixels[np.where(DETECTED == 1)[0]] # This ensures at least one detection was made\n",
    "tempValidPixels = np.full(12*(res**2), False, dtype = bool)\n",
    "tempValidPixels[starPixels] = True\n",
    "\n",
    "validStarPixels = validPixels & tempValidPixels"
   ]
  },
  {
   "cell_type": "code",
   "execution_count": 13,
   "id": "c68da0f4-749c-447d-8b57-312a1e90db50",
   "metadata": {},
   "outputs": [
    {
     "name": "stdout",
     "output_type": "stream",
     "text": [
      "24340\n",
      "147743\n"
     ]
    }
   ],
   "source": [
    "print(np.sum(validStarPixels))\n",
    "print(np.sum(validPixels))"
   ]
  },
  {
   "cell_type": "code",
   "execution_count": 14,
   "id": "f75f5afc-a8c3-4233-9418-28556d0d6336",
   "metadata": {},
   "outputs": [
    {
     "name": "stdout",
     "output_type": "stream",
     "text": [
      "[    40     42     43 ... 770086 770088 770089]\n"
     ]
    }
   ],
   "source": [
    "print(np.where(validStarPixels)[0])"
   ]
  },
  {
   "cell_type": "code",
   "execution_count": 15,
   "id": "d81b7728-b30d-404a-925b-9169eb013ab2",
   "metadata": {},
   "outputs": [],
   "source": [
    "from astropy.table import Table"
   ]
  },
  {
   "cell_type": "code",
   "execution_count": 16,
   "id": "7627d62c-6556-4b56-8c1b-21a010c99d07",
   "metadata": {},
   "outputs": [],
   "source": [
    "my_table = Table()\n",
    "# add columns to the table:\n",
    "my_table['PIX_256'] = np.where(validStarPixels)[0]\n",
    "# e.g. my_table['pixels'] = pixel_array"
   ]
  },
  {
   "cell_type": "code",
   "execution_count": 17,
   "id": "649cf7ef-1c75-4de9-9ebd-e50314b05872",
   "metadata": {},
   "outputs": [],
   "source": [
    "condFile = Config.orgAirFiles[G]\n",
    "condMap = hp.fitsfunc.read_map(condFile, nest = True)\n",
    "condMap[condMap==-1.6375e+30]=hp.UNSEEN\n",
    "condSigExt=hp.ud_grade(condMap, res)\n",
    "condSig = condSigExt[validStarPixels]\n",
    "my_table['AIRMASS_G'] = condSig"
   ]
  },
  {
   "cell_type": "code",
   "execution_count": 18,
   "id": "d17504be-67e0-4e37-bf8a-e165bc012d15",
   "metadata": {},
   "outputs": [],
   "source": [
    "condFile = Config.orgAirFiles[R]\n",
    "condMap = hp.fitsfunc.read_map(condFile, nest = True)\n",
    "condMap[condMap==-1.6375e+30]=hp.UNSEEN\n",
    "condSigExt=hp.ud_grade(condMap, res)\n",
    "condSig = condSigExt[validStarPixels]\n",
    "my_table['AIRMASS_R'] = condSig"
   ]
  },
  {
   "cell_type": "code",
   "execution_count": 19,
   "id": "a1b2420d-b613-4982-8f91-dd3e186f15f5",
   "metadata": {},
   "outputs": [],
   "source": [
    "condFile = Config.orgAirFiles[I]\n",
    "condMap = hp.fitsfunc.read_map(condFile, nest = True)\n",
    "condMap[condMap==-1.6375e+30]=hp.UNSEEN\n",
    "condSigExt=hp.ud_grade(condMap, res)\n",
    "condSig = condSigExt[validStarPixels]\n",
    "my_table['AIRMASS_I'] = condSig"
   ]
  },
  {
   "cell_type": "code",
   "execution_count": 20,
   "id": "2c039762-6430-4d37-be66-501f58d5f1cf",
   "metadata": {},
   "outputs": [],
   "source": [
    "condFile = Config.orgAirFiles[Z]\n",
    "condMap = hp.fitsfunc.read_map(condFile, nest = True)\n",
    "condMap[condMap==-1.6375e+30]=hp.UNSEEN\n",
    "condSigExt=hp.ud_grade(condMap, res)\n",
    "condSig = condSigExt[validStarPixels]\n",
    "my_table['AIRMASS_Z'] = condSig"
   ]
  },
  {
   "cell_type": "code",
   "execution_count": 21,
   "id": "748be540-405a-4681-ad8e-c5fe67168b97",
   "metadata": {},
   "outputs": [],
   "source": [
    "condFile = Config.orgExpFiles[G]\n",
    "condMap = hp.fitsfunc.read_map(condFile, nest = True)\n",
    "condMap[condMap==-1.6375e+30]=hp.UNSEEN\n",
    "condSigExt=hp.ud_grade(condMap, res)\n",
    "condSig = condSigExt[validStarPixels]\n",
    "my_table['EXP_TIME_G'] = condSig"
   ]
  },
  {
   "cell_type": "code",
   "execution_count": 22,
   "id": "1a16b601-2c95-4272-bd77-af71100a2309",
   "metadata": {},
   "outputs": [],
   "source": [
    "condFile = Config.orgExpFiles[R]\n",
    "condMap = hp.fitsfunc.read_map(condFile, nest = True)\n",
    "condMap[condMap==-1.6375e+30]=hp.UNSEEN\n",
    "condSigExt=hp.ud_grade(condMap, res)\n",
    "condSig = condSigExt[validStarPixels]\n",
    "my_table['EXP_TIME_R'] = condSig"
   ]
  },
  {
   "cell_type": "code",
   "execution_count": 23,
   "id": "dc92b62e-5195-4619-801f-7e1b58039be3",
   "metadata": {},
   "outputs": [],
   "source": [
    "condFile = Config.orgExpFiles[I]\n",
    "condMap = hp.fitsfunc.read_map(condFile, nest = True)\n",
    "condMap[condMap==-1.6375e+30]=hp.UNSEEN\n",
    "condSigExt=hp.ud_grade(condMap, res)\n",
    "condSig = condSigExt[validStarPixels]\n",
    "my_table['EXP_TIME_I'] = condSig"
   ]
  },
  {
   "cell_type": "code",
   "execution_count": 24,
   "id": "ddce2d22-1dbb-40ac-bd00-bb35b934e543",
   "metadata": {},
   "outputs": [],
   "source": [
    "condFile = Config.orgExpFiles[Z]\n",
    "condMap = hp.fitsfunc.read_map(condFile, nest = True)\n",
    "condMap[condMap==-1.6375e+30]=hp.UNSEEN\n",
    "condSigExt=hp.ud_grade(condMap, res)\n",
    "condSig = condSigExt[validStarPixels]\n",
    "my_table['EXP_TIME_Z'] = condSig"
   ]
  },
  {
   "cell_type": "code",
   "execution_count": 25,
   "id": "7c78193b-2cb7-4386-a620-5b3a422b6c9f",
   "metadata": {},
   "outputs": [],
   "source": [
    "condFile = Config.orgVarFiles[G]\n",
    "condMap = hp.fitsfunc.read_map(condFile, nest = True)\n",
    "condMap[condMap==-1.6375e+30]=hp.UNSEEN\n",
    "condSigExt=hp.ud_grade(condMap, res)\n",
    "condSig = condSigExt[validStarPixels]\n",
    "my_table['SKY_VARIANCE_G'] = condSig\n",
    "\n",
    "condFile = Config.orgVarFiles[R]\n",
    "condMap = hp.fitsfunc.read_map(condFile, nest = True)\n",
    "condMap[condMap==-1.6375e+30]=hp.UNSEEN\n",
    "condSigExt=hp.ud_grade(condMap, res)\n",
    "condSig = condSigExt[validStarPixels]\n",
    "my_table['SKY_VARIANCE_R'] = condSig\n",
    "\n",
    "condFile = Config.orgVarFiles[I]\n",
    "condMap = hp.fitsfunc.read_map(condFile, nest = True)\n",
    "condMap[condMap==-1.6375e+30]=hp.UNSEEN\n",
    "condSigExt=hp.ud_grade(condMap, res)\n",
    "condSig = condSigExt[validStarPixels]\n",
    "my_table['SKY_VARIANCE_I'] = condSig\n",
    "\n",
    "condFile = Config.orgVarFiles[Z]\n",
    "condMap = hp.fitsfunc.read_map(condFile, nest = True)\n",
    "condMap[condMap==-1.6375e+30]=hp.UNSEEN\n",
    "condSigExt=hp.ud_grade(condMap, res)\n",
    "condSig = condSigExt[validStarPixels]\n",
    "my_table['SKY_VARIANCE_Z'] = condSig"
   ]
  },
  {
   "cell_type": "code",
   "execution_count": 26,
   "id": "4414a36c-9be6-4dad-8447-9a4dd5b653d0",
   "metadata": {},
   "outputs": [],
   "source": [
    "condFile = Config.orgBriFiles[G]\n",
    "condMap = hp.fitsfunc.read_map(condFile, nest = True)\n",
    "condMap[condMap==-1.6375e+30]=hp.UNSEEN\n",
    "condSigExt=hp.ud_grade(condMap, res)\n",
    "condSig = condSigExt[validStarPixels]\n",
    "my_table['SKYBRITE_G'] = condSig\n",
    "\n",
    "condFile = Config.orgBriFiles[R]\n",
    "condMap = hp.fitsfunc.read_map(condFile, nest = True)\n",
    "condMap[condMap==-1.6375e+30]=hp.UNSEEN\n",
    "condSigExt=hp.ud_grade(condMap, res)\n",
    "condSig = condSigExt[validStarPixels]\n",
    "my_table['SKYBRITE_R'] = condSig\n",
    "\n",
    "condFile = Config.orgBriFiles[I]\n",
    "condMap = hp.fitsfunc.read_map(condFile, nest = True)\n",
    "condMap[condMap==-1.6375e+30]=hp.UNSEEN\n",
    "condSigExt=hp.ud_grade(condMap, res)\n",
    "condSig = condSigExt[validStarPixels]\n",
    "my_table['SKYBRITE_I'] = condSig\n",
    "\n",
    "condFile = Config.orgBriFiles[Z]\n",
    "condMap = hp.fitsfunc.read_map(condFile, nest = True)\n",
    "condMap[condMap==-1.6375e+30]=hp.UNSEEN\n",
    "condSigExt=hp.ud_grade(condMap, res)\n",
    "condSig = condSigExt[validStarPixels]\n",
    "my_table['SKYBRITE_Z'] = condSig"
   ]
  },
  {
   "cell_type": "code",
   "execution_count": 27,
   "id": "c065844a-ba1b-4bc2-b068-0d7c6b742aa4",
   "metadata": {},
   "outputs": [],
   "source": [
    "condFile = Config.orgSeeFiles[G]\n",
    "condMap = hp.fitsfunc.read_map(condFile, nest = True)\n",
    "condMap[condMap==-1.6375e+30]=hp.UNSEEN\n",
    "condSigExt=hp.ud_grade(condMap, res)\n",
    "condSig = condSigExt[validStarPixels]\n",
    "my_table['SEEING_G'] = condSig\n",
    "\n",
    "condFile = Config.orgSeeFiles[R]\n",
    "condMap = hp.fitsfunc.read_map(condFile, nest = True)\n",
    "condMap[condMap==-1.6375e+30]=hp.UNSEEN\n",
    "condSigExt=hp.ud_grade(condMap, res)\n",
    "condSig = condSigExt[validStarPixels]\n",
    "my_table['SEEING_R'] = condSig\n",
    "\n",
    "condFile = Config.orgSeeFiles[I]\n",
    "condMap = hp.fitsfunc.read_map(condFile, nest = True)\n",
    "condMap[condMap==-1.6375e+30]=hp.UNSEEN\n",
    "condSigExt=hp.ud_grade(condMap, res)\n",
    "condSig = condSigExt[validStarPixels]\n",
    "my_table['SEEING_I'] = condSig\n",
    "\n",
    "condFile = Config.orgSeeFiles[Z]\n",
    "condMap = hp.fitsfunc.read_map(condFile, nest = True)\n",
    "condMap[condMap==-1.6375e+30]=hp.UNSEEN\n",
    "condSigExt=hp.ud_grade(condMap, res)\n",
    "condSig = condSigExt[validStarPixels]\n",
    "my_table['SEEING_Z'] = condSig"
   ]
  },
  {
   "cell_type": "code",
   "execution_count": 28,
   "id": "43e9b10b-eac7-4873-a1e0-c5bcc814265e",
   "metadata": {},
   "outputs": [],
   "source": [
    "condFile = Config.orgZptFiles[G]\n",
    "condMap = hp.fitsfunc.read_map(condFile, nest = True)\n",
    "condMap[condMap==-1.6375e+30]=hp.UNSEEN\n",
    "condSigExt=hp.ud_grade(condMap, res)\n",
    "condSig = condSigExt[validStarPixels]\n",
    "my_table['ZPT_G'] = condSig\n",
    "\n",
    "condFile = Config.orgZptFiles[R]\n",
    "condMap = hp.fitsfunc.read_map(condFile, nest = True)\n",
    "condMap[condMap==-1.6375e+30]=hp.UNSEEN\n",
    "condSigExt=hp.ud_grade(condMap, res)\n",
    "condSig = condSigExt[validStarPixels]\n",
    "my_table['ZPT_R'] = condSig\n",
    "\n",
    "condFile = Config.orgZptFiles[I]\n",
    "condMap = hp.fitsfunc.read_map(condFile, nest = True)\n",
    "condMap[condMap==-1.6375e+30]=hp.UNSEEN\n",
    "condSigExt=hp.ud_grade(condMap, res)\n",
    "condSig = condSigExt[validStarPixels]\n",
    "my_table['ZPT_I'] = condSig\n",
    "\n",
    "condFile = Config.orgZptFiles[Z]\n",
    "condMap = hp.fitsfunc.read_map(condFile, nest = True)\n",
    "condMap[condMap==-1.6375e+30]=hp.UNSEEN\n",
    "condSigExt=hp.ud_grade(condMap, res)\n",
    "condSig = condSigExt[validStarPixels]\n",
    "my_table['ZPT_Z'] = condSig"
   ]
  },
  {
   "cell_type": "code",
   "execution_count": 29,
   "id": "a66e997d-bb4a-4a52-9b4e-564c2796da6c",
   "metadata": {},
   "outputs": [],
   "source": [
    "stelData = fitsio.read(Config.orgDensFile)\n",
    "stelDensExt = stelData['I'].flatten()\n",
    "stelDensExt[stelDensExt==-1.6375e+30]=hp.UNSEEN\n",
    "condSigExt=hp.ud_grade(stelDensExt,res)\n",
    "condSig = condSigExt[validStarPixels]\n",
    "my_table['STELLAR_DENSITY'] = condSig"
   ]
  },
  {
   "cell_type": "code",
   "execution_count": 31,
   "id": "99627e28-6911-4a0d-be9a-3f18b0fc0607",
   "metadata": {},
   "outputs": [],
   "source": [
    "my_table.write(\"/hdfs/bechtol/balrog/y3/y3a2_survey_conditions_maps/Kyle_Stuff/valid_pixel_256_conditions.fits\", overwrite = True)"
   ]
  },
  {
   "cell_type": "code",
   "execution_count": 32,
   "id": "55fec27c-455b-4d31-823e-96e611350436",
   "metadata": {},
   "outputs": [
    {
     "data": {
      "image/png": "[encoded data removed]",
      "text/plain": [
       "<Figure size 612x388.8 with 2 Axes>"
      ]
     },
     "metadata": {
      "needs_background": "light"
     },
     "output_type": "display_data"
    }
   ],
   "source": [
    "hp.mollview(validStarPixels, nest=True, title=\"Stellar Density\", max = 1, min = 0, badcolor = 'black', cmap = 'inferno')"
   ]
  },
  {
   "cell_type": "code",
   "execution_count": null,
   "id": "d5dee201-4193-4819-8f2b-e538e829b3d3",
   "metadata": {},
   "outputs": [],
   "source": []
  }
 ],
 "metadata": {
  "kernelspec": {
   "display_name": "Python 3 (ipykernel)",
   "language": "python",
   "name": "python3"
  },
  "language_info": {
   "codemirror_mode": {
    "name": "ipython",
    "version": 3
   },
   "file_extension": ".py",
   "mimetype": "text/x-python",
   "name": "python",
   "nbconvert_exporter": "python",
   "pygments_lexer": "ipython3",
   "version": "3.9.12"
  }
 },
 "nbformat": 4,
 "nbformat_minor": 5
}
