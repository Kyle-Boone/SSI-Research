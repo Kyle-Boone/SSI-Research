{
 "cells": [
  {
   "cell_type": "code",
   "execution_count": 1,
   "id": "49bab93c-d64f-4453-b8fc-7ae8c0dcbb38",
   "metadata": {},
   "outputs": [],
   "source": [
    "import numpy as np\n",
    "from numpy import loadtxt\n",
    "import fitsio\n",
    "import healpy as hp\n",
    "import healsparse as hsp\n",
    "import skyproj\n",
    "import matplotlib.pyplot as plt\n",
    "import Config\n",
    "from os import listdir\n",
    "from astropy.table import Table"
   ]
  },
  {
   "cell_type": "code",
   "execution_count": 2,
   "id": "3200b8da-caed-4806-8854-f74b6c3103e5",
   "metadata": {},
   "outputs": [],
   "source": [
    "res = 512"
   ]
  },
  {
   "cell_type": "code",
   "execution_count": 3,
   "id": "07fa14d2-acaf-41a9-bf72-fd0fcb2fa7bd",
   "metadata": {},
   "outputs": [],
   "source": [
    "deepCols  = ['KNN_CLASS', 'RA', 'DEC', 'BDF_MAG_DERED_G', 'BDF_MAG_DERED_R', 'MASK_FLAGS', 'MASK_FLAGS_NIR']\n",
    "deepRA = np.array([])\n",
    "deepDEC = np.array([])\n",
    "deepG = np.array([])\n",
    "deepGR = np.array([])\n",
    "deepMasks = np.array([])\n",
    "deepClass = np.array([])\n",
    "deepFlag = np.array([])\n",
    "deepFlagNir = np.array([])\n",
    "\n",
    "for i in (np.arange(5) + 1):\n",
    "    deepFile = '/hdfs/bechtol/balrog/y3_deep_fields/y3_deep_fields_catalog/deepfields_00000' + str(i) + '.fits'\n",
    "\n",
    "    deepData = fitsio.read(deepFile, columns = deepCols)\n",
    "\n",
    "    deepRA = np.append(deepRA, deepData['RA'])\n",
    "    deepDEC = np.append(deepDEC, deepData['DEC'])\n",
    "    deepG = np.append(deepG, deepData['BDF_MAG_DERED_G'])\n",
    "    deepGR = np.append(deepGR, deepData['BDF_MAG_DERED_G'] - deepData['BDF_MAG_DERED_R'])\n",
    "    deepMasks = np.append(deepMasks, deepData['MASK_FLAGS'])\n",
    "    deepClass = np.append(deepClass, deepData['KNN_CLASS'])\n",
    "    deepFlag = np.append(deepFlag, deepData['MASK_FLAGS'])\n",
    "    deepFlagNir = np.append(deepFlagNir, deepData['MASK_FLAGS_NIR'])\n",
    "\n",
    "cutIndices = np.where((deepMasks == 0) &\n",
    "                      (deepGR <= 1) &\n",
    "                      (deepGR >= -0.3) &\n",
    "                      (deepG <= 25) &\n",
    "                      (deepG > 24) &\n",
    "                      (deepRA < 120))[0]# &\n",
    "                      #(deepClass > 0) &\n",
    "                      #(deepClass < 3))[0]\n",
    "\n",
    "deepG = deepG[cutIndices]\n",
    "deepClass = deepClass[cutIndices]\n",
    "deepRA = deepRA[cutIndices]\n",
    "deepDEC = deepDEC[cutIndices]\n",
    "\n",
    "deepPix = np.sort(np.unique(hp.ang2pix(res, deepRA, deepDEC, lonlat = True, nest = True)))"
   ]
  },
  {
   "cell_type": "code",
   "execution_count": 4,
   "id": "709ae504-f25c-4ae0-8ab0-08b3896f1a5d",
   "metadata": {},
   "outputs": [
    {
     "data": {
      "text/plain": [
       "2.0"
      ]
     },
     "execution_count": 4,
     "metadata": {},
     "output_type": "execute_result"
    }
   ],
   "source": [
    "np.max(deepClass)"
   ]
  },
  {
   "cell_type": "code",
   "execution_count": 5,
   "id": "1690c0a5-4df4-4fd3-b287-2e15c5b0b06a",
   "metadata": {},
   "outputs": [],
   "source": [
    "stellarRatio = len(np.where(deepClass == 2)[0]) / len(np.where((deepClass == 1) | (deepClass == 2))[0])"
   ]
  },
  {
   "cell_type": "code",
   "execution_count": 6,
   "id": "d59af4d5-0f62-413c-a9f5-15774fed6923",
   "metadata": {},
   "outputs": [
    {
     "data": {
      "text/plain": [
       "2398.1248463935667"
      ]
     },
     "execution_count": 6,
     "metadata": {},
     "output_type": "execute_result"
    }
   ],
   "source": [
    "len(np.where(deepClass == 2)[0]) + stellarRatio * len(np.where(deepClass == 0)[0])"
   ]
  },
  {
   "cell_type": "code",
   "execution_count": 7,
   "id": "8783dba1-5a84-423d-9966-7e9f7daeddc9",
   "metadata": {},
   "outputs": [
    {
     "data": {
      "text/plain": [
       "1.0"
      ]
     },
     "execution_count": 7,
     "metadata": {},
     "output_type": "execute_result"
    }
   ],
   "source": [
    "np.min((np.where(deepFlag != 0)[0])/(np.where(deepFlagNir != 0)[0]))"
   ]
  },
  {
   "cell_type": "code",
   "execution_count": 8,
   "id": "87c2f17a-cd00-4ca7-a3b6-603616a893f4",
   "metadata": {},
   "outputs": [
    {
     "data": {
      "image/png": "[encoded data removed]",
      "text/plain": [
       "<Figure size 640x480 with 1 Axes>"
      ]
     },
     "metadata": {},
     "output_type": "display_data"
    }
   ],
   "source": [
    "plt.figure(dpi = 100)\n",
    "plt.hist(deepClass)\n",
    "plt.show()"
   ]
  },
  {
   "cell_type": "markdown",
   "id": "aa8f9998-a12b-458f-8c15-4e9b26644cea",
   "metadata": {},
   "source": [
    "# Algorithm for Checks\n",
    "\n",
    "### 1.)\n",
    "Look at deep field objects within desired magnitude ranges (for now less than or equal to 24). Done.\n",
    "\n",
    "###  2.)\n",
    "Within these objects, only keep those which were given a class (either 1 for galaxy or 2 for star, not 0 for missing bands). Done.\n",
    "\n",
    "### 3.)\n",
    "Read in wide field objects, and only look at objects that are in the deep field object list. Match them via separation. THE OBJECTS DO NOT HAVE TO HAVE THE SAME CLASSIFICATION.\n",
    "\n",
    "### 4.)\n",
    "Only keep the deep field objects which match location wise with one of these wide field objects, so we should in theory have the same objects, just with one set given their deep field classification, and one set given their wide field classification.\n",
    "\n",
    "### 5.)\n",
    "Look at the number of wide field objects called stars vs the number of deep field stars. Then apply multiplicative, magnitude bin corrections and see how the numbers change.\n",
    "\n",
    "### 6.)\n",
    "Check if the objects that were given a classification of \"Missing Bands\" were classified as stars at a higher rate in the wide fields, to see if this is causing a bias."
   ]
  },
  {
   "cell_type": "code",
   "execution_count": 5,
   "id": "1d17ab69-377f-4015-86c5-d427ab55b6e7",
   "metadata": {},
   "outputs": [],
   "source": [
    "minGR = -0.3\n",
    "maxGR = 1\n",
    "galaDir = '/hdfs/bechtol/balrog/y3/y3a2_survey_conditions_maps/Kyle_Stuff/GalaxyContamination/'\n",
    "magBins = [20, 22, 23, 24]\n",
    "pixFile = galaDir + 'Valid_'+str(res)+'_Pixels.fits'\n",
    "dirStars = '/hdfs/bechtol/balrog/y3/y3a2_gold_v2p2_skim/healpixel/'\n",
    "files = listdir(dirStars)\n",
    "usedCols = ['HPIX_4096', 'FLAGS_FOREGROUND', 'FLAGS_BADREGIONS', 'FLAGS_FOOTPRINT', 'EXTENDED_CLASS_SOF', 'SOF_PSF_MAG_G', 'SOF_PSF_MAG_R', 'RA', 'DEC']\n",
    "validPix = fitsio.read(pixFile)['PIXEL']\n",
    "pixCheck = np.full(12*(res**2), False, dtype = bool)\n",
    "pixCheck[validPix] = True"
   ]
  },
  {
   "cell_type": "code",
   "execution_count": 6,
   "id": "89fa685a-c933-4d5e-8e5d-03518431194f",
   "metadata": {},
   "outputs": [],
   "source": [
    "# StarRA = []\n",
    "# StarDEC = []\n",
    "\n",
    "# GalaRA = []\n",
    "# GalaDEC = []\n",
    "\n",
    "# for i in range(len(magBins)):\n",
    "    \n",
    "#     magStarRA = []\n",
    "#     magStarDEC = []\n",
    "    \n",
    "#     magGalaRA = []\n",
    "#     magGalaDEC = []\n",
    "    \n",
    "#     for file in files:\n",
    "#         obsData = fitsio.read(dirStars + file, columns = usedCols)\n",
    "#         FOREGROUND = obsData[usedCols[1]]\n",
    "#         BADREGIONS = obsData[usedCols[2]]\n",
    "#         FOOTPRINT = obsData[usedCols[3]]\n",
    "#         CLASS = obsData[usedCols[4]]\n",
    "#         GMAG = obsData[usedCols[5]]\n",
    "#         RMAG = obsData[usedCols[6]]\n",
    "#         RA = obsData[usedCols[7]]\n",
    "#         DEC = obsData[usedCols[8]]\n",
    "        \n",
    "#         if i == 0:\n",
    "#             magCut = np.where(GMAG <= magBins[i])[0]\n",
    "#         else:\n",
    "#             magCut = np.where((GMAG <= magBins[i]) & (GMAG > magBins[i - 1]))[0]\n",
    "        \n",
    "#         boolMagCut = np.zeros(len(GMAG))\n",
    "#         boolMagCut[magCut] = 1\n",
    "        \n",
    "#         # Observed Star Objects\n",
    "\n",
    "#         blueStarCut = np.where((FOREGROUND == 0) & \n",
    "#                           (BADREGIONS < 2) & \n",
    "#                           (FOOTPRINT == 1) & \n",
    "#                           (CLASS <= 1) & \n",
    "#                           (CLASS >= 0) &\n",
    "#                           (boolMagCut > 0) &\n",
    "#                           ((GMAG - RMAG) <= maxGR) &\n",
    "#                           ((GMAG - RMAG) >= minGR))[0]\n",
    "        \n",
    "#         STARRA = RA[blueStarCut]\n",
    "#         STARDEC = DEC[blueStarCut]\n",
    "\n",
    "#         thetaStar, phiStar = hp.pix2ang(4096, obsData[usedCols[0]][blueStarCut], nest = True, lonlat = True)\n",
    "\n",
    "#         allStarPIX = hp.ang2pix(res, thetaStar, phiStar, nest = True, lonlat = True)\n",
    "\n",
    "#         STARRA = STARRA[np.where(pixCheck[allStarPIX])[0]]\n",
    "#         STARDEC = STARDEC[np.where(pixCheck[allStarPIX])[0]]\n",
    "\n",
    "#         magStarRA.extend(STARRA)\n",
    "#         magStarDEC.extend(STARDEC)\n",
    "        \n",
    "#         # Observed Galaxy Objects\n",
    "        \n",
    "#         blueGalaCut = np.where((FOREGROUND == 0) & \n",
    "#                           (BADREGIONS < 2) & \n",
    "#                           (FOOTPRINT == 1) & \n",
    "#                           (CLASS <= 3) & \n",
    "#                           (CLASS >= 2) &\n",
    "#                           (boolMagCut > 0) &\n",
    "#                           ((GMAG - RMAG) <= maxGR) &\n",
    "#                           ((GMAG - RMAG) >= minGR))[0]\n",
    "        \n",
    "#         GALARA = RA[blueGalaCut]\n",
    "#         GALADEC = DEC[blueGalaCut]\n",
    "\n",
    "#         thetaGala, phiGala = hp.pix2ang(4096, obsData[usedCols[0]][blueGalaCut], nest = True, lonlat = True)\n",
    "\n",
    "#         allGalaPIX = hp.ang2pix(res, thetaGala, phiGala, nest = True, lonlat = True)\n",
    "\n",
    "#         GALARA = GALARA[np.where(pixCheck[allGalaPIX])[0]]\n",
    "#         GALADEC = GALADEC[np.where(pixCheck[allGalaPIX])[0]]\n",
    "\n",
    "#         magGalaRA.extend(GALARA)\n",
    "#         magGalaDEC.extend(GALADEC)\n",
    "        \n",
    "#     StarRA.append(np.array(magStarRA))\n",
    "#     StarDEC.append(np.array(magStarDEC))\n",
    "    \n",
    "#     GalaRA.append(np.array(magGalaRA))\n",
    "#     GalaDEC.append(np.array(magGalaDEC))\n",
    "    \n",
    "# StarRA = np.array(StarRA, dtype = object)\n",
    "# StarDEC = np.array(StarDEC, dtype = object)\n",
    "\n",
    "# GalaRA = np.array(GalaRA, dtype = object)\n",
    "# GalaDEC = np.array(GalaDEC, dtype = object)"
   ]
  },
  {
   "cell_type": "code",
   "execution_count": 7,
   "id": "fa74c2b2-db22-402b-b055-d80334dfe9a4",
   "metadata": {},
   "outputs": [],
   "source": [
    "starPosFiles = [galaDir + 'Star_Pos_<20.fits', galaDir + 'Star_Pos_20-22.fits', galaDir + 'Star_Pos_22-23.fits',\n",
    "                 galaDir + 'Star_Pos_23-24.fits']\n",
    "galaPosFiles = [galaDir + 'Gala_Pos_<20.fits', galaDir + 'Gala_Pos_20-22.fits', galaDir + 'Gala_Pos_22-23.fits',\n",
    "                 galaDir + 'Gala_Pos_23-24.fits']"
   ]
  },
  {
   "cell_type": "code",
   "execution_count": 8,
   "id": "cf1c63a4-9e92-4188-ba4b-7a5f482bab2e",
   "metadata": {},
   "outputs": [],
   "source": [
    "# for i in range(len(starPosFiles)):\n",
    "#     my_table = Table()\n",
    "#     my_table['RA'] = StarRA[i]\n",
    "#     my_table['DEC'] = StarDEC[i]\n",
    "#     my_table.write(starPosFiles[i], overwrite = True)"
   ]
  },
  {
   "cell_type": "code",
   "execution_count": 9,
   "id": "61a96c32-7929-4811-a503-540be5c42c70",
   "metadata": {},
   "outputs": [],
   "source": [
    "# for i in range(len(galaPosFiles)):\n",
    "#     my_table = Table()\n",
    "#     my_table['RA'] = GalaRA[i]\n",
    "#     my_table['DEC'] = GalaDEC[i]\n",
    "#     my_table.write(galaPosFiles[i], overwrite = True)"
   ]
  },
  {
   "cell_type": "code",
   "execution_count": 10,
   "id": "3a9a37a8-8ec0-4331-a141-a8e84fb1bae1",
   "metadata": {},
   "outputs": [],
   "source": [
    "RARanges = [[5, 15], [35, 40], [50, 55]]\n",
    "DECRanges = [[-50, -40], [-10, 0], [-30, -25]]"
   ]
  },
  {
   "cell_type": "code",
   "execution_count": 11,
   "id": "d3c819c6-fe61-461f-ae04-f9b1b2a08e98",
   "metadata": {},
   "outputs": [],
   "source": [
    "import astropy.units as u\n",
    "from astropy.coordinates import SkyCoord"
   ]
  },
  {
   "cell_type": "code",
   "execution_count": 12,
   "id": "405f7e88-57da-46fd-b6d2-458a8945e0bc",
   "metadata": {},
   "outputs": [],
   "source": [
    "wideStarRA = []\n",
    "wideStarDEC = []\n",
    "\n",
    "for file in starPosFiles:\n",
    "    magRA = fitsio.read(file)['RA']\n",
    "    magDEC = fitsio.read(file)['DEC']\n",
    "    deepCut = np.where(((magRA >= (RARanges[0][0] - 1)) & (magRA <= (RARanges[0][1] + 1)) & \n",
    "                        (magDEC >= (DECRanges[0][0] - 1)) & (magDEC <= (DECRanges[0][1] + 1))) | \n",
    "                       ((magRA >= (RARanges[1][0] - 1)) & (magRA <= (RARanges[1][1] + 1)) & \n",
    "                        (magDEC >= (DECRanges[1][0] - 1)) & (magDEC <= (DECRanges[1][1] + 1))) | \n",
    "                       ((magRA >= (RARanges[2][0] - 1)) & (magRA <= (RARanges[2][1] + 1)) & \n",
    "                        (magDEC >= (DECRanges[2][0] - 1)) & (magDEC <= (DECRanges[2][1] + 1))))[0]\n",
    "    wideStarRA.append(magRA[deepCut])\n",
    "    wideStarDEC.append(magDEC[deepCut])"
   ]
  },
  {
   "cell_type": "code",
   "execution_count": 13,
   "id": "689b3a8c-67cd-4689-b325-56ab0eab1855",
   "metadata": {},
   "outputs": [],
   "source": [
    "wideGalaRA = []\n",
    "wideGalaDEC = []\n",
    "\n",
    "for file in galaPosFiles:\n",
    "    magRA = fitsio.read(file)['RA']\n",
    "    magDEC = fitsio.read(file)['DEC']\n",
    "    deepCut = np.where(((magRA >= (RARanges[0][0] - 1)) & (magRA <= (RARanges[0][1] + 1)) & \n",
    "                        (magDEC >= (DECRanges[0][0] - 1)) & (magDEC <= (DECRanges[0][1] + 1))) | \n",
    "                       ((magRA >= (RARanges[1][0] - 1)) & (magRA <= (RARanges[1][1] + 1)) & \n",
    "                        (magDEC >= (DECRanges[1][0] - 1)) & (magDEC <= (DECRanges[1][1] + 1))) | \n",
    "                       ((magRA >= (RARanges[2][0] - 1)) & (magRA <= (RARanges[2][1] + 1)) & \n",
    "                        (magDEC >= (DECRanges[2][0] - 1)) & (magDEC <= (DECRanges[2][1] + 1))))[0]\n",
    "    wideGalaRA.append(magRA[deepCut])\n",
    "    wideGalaDEC.append(magDEC[deepCut])"
   ]
  },
  {
   "cell_type": "code",
   "execution_count": 14,
   "id": "6b21bc8b-9475-4b5e-879f-1358518e01a5",
   "metadata": {},
   "outputs": [],
   "source": [
    "def findMatches(angleCutoff, RASource, DECSource, RAMatchCatalog, DECMatchCatalog):\n",
    "    c = SkyCoord(ra=RASource*u.degree, dec=DECSource*u.degree)\n",
    "    catalog = SkyCoord(ra=RAMatchCatalog*u.degree, dec=DECMatchCatalog*u.degree)\n",
    "    idx, d2d, d3d = c.match_to_catalog_sky(catalog)\n",
    "    matches = d2d < angleCutoff\n",
    "    return matches, d2d"
   ]
  },
  {
   "cell_type": "code",
   "execution_count": 15,
   "id": "ba036e6e-ed7a-47f3-b71d-ce801122a364",
   "metadata": {},
   "outputs": [],
   "source": [
    "matchedStars = []\n",
    "for i in range(len(wideStarRA)):\n",
    "    matches, _ = findMatches(0.5*u.arcsec, wideStarRA[i], wideStarDEC[i], deepRA, deepDEC)\n",
    "    matchedStars.append(matches)"
   ]
  },
  {
   "cell_type": "code",
   "execution_count": 16,
   "id": "6106f18d-92e5-4c06-b8b1-54f4cdbb2054",
   "metadata": {},
   "outputs": [],
   "source": [
    "matchedGalas = []\n",
    "for i in range(len(wideGalaRA)):\n",
    "    matches, _ = findMatches(0.5*u.arcsec, wideGalaRA[i], wideGalaDEC[i], deepRA, deepDEC)\n",
    "    matchedGalas.append(matches)"
   ]
  },
  {
   "cell_type": "code",
   "execution_count": 17,
   "id": "33d40ebb-b015-42a8-a151-eaa70a422a89",
   "metadata": {},
   "outputs": [],
   "source": [
    "matchStarRA = []\n",
    "matchStarDEC = []\n",
    "\n",
    "for i in range(len(matchedStars)):\n",
    "    matchStarRA.append(wideStarRA[i][matchedStars[i]])\n",
    "    matchStarDEC.append(wideStarDEC[i][matchedStars[i]])"
   ]
  },
  {
   "cell_type": "code",
   "execution_count": 18,
   "id": "6d085e4d-a970-437d-970c-7cbd81c7eda9",
   "metadata": {},
   "outputs": [],
   "source": [
    "matchGalaRA = []\n",
    "matchGalaDEC = []\n",
    "\n",
    "for i in range(len(matchedGalas)):\n",
    "    matchGalaRA.append(wideGalaRA[i][matchedGalas[i]])\n",
    "    matchGalaDEC.append(wideGalaDEC[i][matchedGalas[i]])"
   ]
  },
  {
   "cell_type": "code",
   "execution_count": 19,
   "id": "87260d1a-c80e-4f8f-8d98-162741cf8278",
   "metadata": {},
   "outputs": [],
   "source": [
    "deepMatches = []\n",
    "for i in range(len(matchStarRA)):\n",
    "    matches, _ = findMatches(0.5*u.arcsec, deepRA, deepDEC, matchStarRA[i], matchStarDEC[i])\n",
    "    deepMatches.extend(list(np.where(matches)[0]))\n",
    "for i in range(len(matchGalaRA)):\n",
    "    matches, _ = findMatches(0.5*u.arcsec, deepRA, deepDEC, matchGalaRA[i], matchGalaDEC[i])\n",
    "    deepMatches.extend(list(np.where(matches)[0]))\n",
    "deepMatches = np.array(deepMatches)\n",
    "\n",
    "deepG = deepG[deepMatches]\n",
    "deepClass = deepClass[deepMatches]\n",
    "deepRA = deepRA[deepMatches]\n",
    "deepDEC = deepDEC[deepMatches]"
   ]
  },
  {
   "cell_type": "code",
   "execution_count": 20,
   "id": "d15ccafd-859b-44ca-a74a-bbfffff281db",
   "metadata": {},
   "outputs": [
    {
     "name": "stdout",
     "output_type": "stream",
     "text": [
      "14454\n"
     ]
    }
   ],
   "source": [
    "print(len(deepClass))"
   ]
  },
  {
   "cell_type": "code",
   "execution_count": 21,
   "id": "d70baeeb-42a9-46b6-a970-f0e4ae1a658b",
   "metadata": {},
   "outputs": [
    {
     "name": "stdout",
     "output_type": "stream",
     "text": [
      "1072.0\n"
     ]
    }
   ],
   "source": [
    "deepStars = np.sum(deepClass - 1)\n",
    "print(deepStars)"
   ]
  },
  {
   "cell_type": "code",
   "execution_count": 22,
   "id": "7c5b5bd7-e978-4f3e-85b6-417dfc883943",
   "metadata": {},
   "outputs": [],
   "source": [
    "origStars = []\n",
    "for i in range(len(matchStarRA)):\n",
    "    origStars.append(len(matchStarRA[i]))"
   ]
  },
  {
   "cell_type": "code",
   "execution_count": 23,
   "id": "dbec56dd-7409-423e-a521-52122fb0d718",
   "metadata": {},
   "outputs": [],
   "source": [
    "origGalas = []\n",
    "for i in range(len(matchGalaRA)):\n",
    "    origGalas.append(len(matchGalaRA[i]))"
   ]
  },
  {
   "cell_type": "code",
   "execution_count": 24,
   "id": "2c5e6ba0-0c9c-40ca-bd87-db2aa108b726",
   "metadata": {},
   "outputs": [],
   "source": [
    "corrFiles = [galaDir + 'Star_Correction_<20.fits', galaDir + 'Star_Correction_20-22.fits', \n",
    "             galaDir + 'Star_Correction_22-23.fits', galaDir + 'Star_Correction_23-24.fits']"
   ]
  },
  {
   "cell_type": "code",
   "execution_count": 25,
   "id": "27be70a6-38ca-4613-b098-df2effdd4b22",
   "metadata": {},
   "outputs": [],
   "source": [
    "corrPix = []\n",
    "corrs = []"
   ]
  },
  {
   "cell_type": "code",
   "execution_count": 26,
   "id": "d28bc1ba-4baf-43f5-90c9-8c14fcd93c7f",
   "metadata": {},
   "outputs": [],
   "source": [
    "for file in corrFiles:\n",
    "    data = fitsio.read(file)\n",
    "    corrPix.append(data['PIX'])\n",
    "    corrs.append(data['CORRECTION'])"
   ]
  },
  {
   "cell_type": "code",
   "execution_count": 27,
   "id": "d492b4ed-25e9-4ab2-87d0-12c5b2db70c2",
   "metadata": {},
   "outputs": [],
   "source": [
    "# overallCorrFile = galaDir + 'Star_Correction_<24.fits'\n",
    "# overallData = fitsio.read(overallCorrFile)\n",
    "# overallCorrPix = overallData['PIX']\n",
    "# overallCorrs = overallData['CORRECTION']"
   ]
  },
  {
   "cell_type": "code",
   "execution_count": 28,
   "id": "ae1c82c0-f8b8-4817-9e19-89aefa32a4d3",
   "metadata": {},
   "outputs": [],
   "source": [
    "corrStars = []\n",
    "for i in range(len(matchStarRA)):\n",
    "    fullCorr = np.full(12*(res**2), hp.UNSEEN)\n",
    "    fullCorr[corrPix[i]] = corrs[i]\n",
    "    magPix = hp.ang2pix(res, (0.5*np.pi)-np.deg2rad(matchStarDEC[i]), np.deg2rad(matchStarRA[i]), nest = True, lonlat = True)\n",
    "    corrStars.append(np.sum(fullCorr[magPix]))"
   ]
  },
  {
   "cell_type": "markdown",
   "id": "c8568c66-c9ea-4889-9cc8-9eb33944709b",
   "metadata": {},
   "source": [
    "## $g\\leq 20$"
   ]
  },
  {
   "cell_type": "code",
   "execution_count": 29,
   "id": "461576a5-8628-45ee-9826-fef88174aa91",
   "metadata": {},
   "outputs": [
    {
     "name": "stdout",
     "output_type": "stream",
     "text": [
      "168.0\n",
      "179\n",
      "171.90366569850002\n"
     ]
    }
   ],
   "source": [
    "print(np.sum(deepClass[np.where(deepG <= 20)] - 1))\n",
    "print(origStars[0])\n",
    "print(corrStars[0])"
   ]
  },
  {
   "cell_type": "code",
   "execution_count": 30,
   "id": "d6f230bb-b43f-49d5-bd99-88521977f957",
   "metadata": {},
   "outputs": [
    {
     "name": "stdout",
     "output_type": "stream",
     "text": [
      "304.0\n",
      "26\n"
     ]
    }
   ],
   "source": [
    "print(-1 * np.sum(deepClass[np.where(deepG <= 20)] - 2))\n",
    "print(origGalas[0])"
   ]
  },
  {
   "cell_type": "markdown",
   "id": "f81ada37-a309-4c81-a569-2f951cc35831",
   "metadata": {},
   "source": [
    "## $20<g\\leq 22$"
   ]
  },
  {
   "cell_type": "code",
   "execution_count": 31,
   "id": "ef86c34c-e990-4ac6-8b19-806d1a380a3b",
   "metadata": {},
   "outputs": [
    {
     "name": "stdout",
     "output_type": "stream",
     "text": [
      "393.0\n",
      "461\n",
      "389.1173296927043\n"
     ]
    }
   ],
   "source": [
    "print(np.sum(deepClass[np.where((deepG > 20) & (deepG <= 22))] - 1))\n",
    "print(origStars[1])\n",
    "print(corrStars[1])"
   ]
  },
  {
   "cell_type": "code",
   "execution_count": 32,
   "id": "ee9b406c-ceae-4725-be48-2eed6ff15276",
   "metadata": {},
   "outputs": [
    {
     "name": "stdout",
     "output_type": "stream",
     "text": [
      "1962.0\n",
      "1098\n"
     ]
    }
   ],
   "source": [
    "print(-1 * np.sum(deepClass[np.where((deepG > 20) & (deepG <= 22))] - 2))\n",
    "print(origGalas[1])"
   ]
  },
  {
   "cell_type": "markdown",
   "id": "553aa2a6-3c39-48b1-95aa-9108a1d8c1a1",
   "metadata": {},
   "source": [
    "## $22<g\\leq 23$"
   ]
  },
  {
   "cell_type": "code",
   "execution_count": 33,
   "id": "0d201d5a-46d9-49c5-8186-c27c0b0da13b",
   "metadata": {},
   "outputs": [
    {
     "name": "stdout",
     "output_type": "stream",
     "text": [
      "255.0\n",
      "317\n",
      "206.6018455600887\n"
     ]
    }
   ],
   "source": [
    "print(np.sum(deepClass[np.where((deepG > 22) & (deepG <= 23))] - 1))\n",
    "print(origStars[2])\n",
    "print(corrStars[2])"
   ]
  },
  {
   "cell_type": "code",
   "execution_count": 34,
   "id": "dbe428f6-b088-4bee-8c62-7580ce871cce",
   "metadata": {},
   "outputs": [
    {
     "name": "stdout",
     "output_type": "stream",
     "text": [
      "3864.0\n",
      "2409\n"
     ]
    }
   ],
   "source": [
    "print(-1 * np.sum(deepClass[np.where((deepG > 22) & (deepG <= 23))] - 2))\n",
    "print(origGalas[2])"
   ]
  },
  {
   "cell_type": "markdown",
   "id": "9172c0be-dc7c-493a-bd8b-41dd12c28117",
   "metadata": {},
   "source": [
    "## $23<g\\leq 24$"
   ]
  },
  {
   "cell_type": "code",
   "execution_count": 35,
   "id": "172e68a1-773e-4429-9290-87a2e82e4dc2",
   "metadata": {},
   "outputs": [
    {
     "name": "stdout",
     "output_type": "stream",
     "text": [
      "256.0\n",
      "573\n",
      "-240.64105461231867\n"
     ]
    }
   ],
   "source": [
    "print(np.sum(deepClass[np.where((deepG > 23) & (deepG <= 24))] - 1))\n",
    "print(origStars[3])\n",
    "print(corrStars[3])"
   ]
  },
  {
   "cell_type": "code",
   "execution_count": 36,
   "id": "08fa0500-607d-4bc2-89b7-c0a484e6d50a",
   "metadata": {},
   "outputs": [
    {
     "name": "stdout",
     "output_type": "stream",
     "text": [
      "7252.0\n",
      "9390\n"
     ]
    }
   ],
   "source": [
    "print(-1 * np.sum(deepClass[np.where((deepG > 23) & (deepG <= 24))] - 2))\n",
    "print(origGalas[3])"
   ]
  },
  {
   "cell_type": "code",
   "execution_count": 37,
   "id": "1d9d9434-581c-4a51-9bc7-ee381c348648",
   "metadata": {},
   "outputs": [
    {
     "data": {
      "image/png": "[encoded data removed]",
      "text/plain": [
       "<Figure size 768x576 with 1 Axes>"
      ]
     },
     "metadata": {},
     "output_type": "display_data"
    }
   ],
   "source": [
    "plt.figure(dpi = 120)\n",
    "plt.hist(deepG, bins = np.linspace(18, 24, 60))\n",
    "plt.show()"
   ]
  },
  {
   "cell_type": "code",
   "execution_count": null,
   "id": "04b100ec-a0d0-4c67-821d-a7666cbfcbc2",
   "metadata": {},
   "outputs": [],
   "source": []
  }
 ],
 "metadata": {
  "kernelspec": {
   "display_name": "Python 3 (ipykernel)",
   "language": "python",
   "name": "python3"
  },
  "language_info": {
   "codemirror_mode": {
    "name": "ipython",
    "version": 3
   },
   "file_extension": ".py",
   "mimetype": "text/x-python",
   "name": "python",
   "nbconvert_exporter": "python",
   "pygments_lexer": "ipython3",
   "version": "3.9.12"
  }
 },
 "nbformat": 4,
 "nbformat_minor": 5
}
