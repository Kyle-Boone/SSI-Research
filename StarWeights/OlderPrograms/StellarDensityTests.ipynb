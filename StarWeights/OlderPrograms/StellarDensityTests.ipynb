{
 "cells": [
  {
   "cell_type": "code",
   "execution_count": 1,
   "id": "4241f738-859e-420e-9dc0-2e5ae90fb67c",
   "metadata": {},
   "outputs": [
    {
     "name": "stderr",
     "output_type": "stream",
     "text": [
      "\n",
      "WARNING: version mismatch between CFITSIO header (v4.000999999999999) and linked library (v4.01).\n",
      "\n",
      "\n",
      "WARNING: version mismatch between CFITSIO header (v4.000999999999999) and linked library (v4.01).\n",
      "\n",
      "\n",
      "WARNING: version mismatch between CFITSIO header (v4.000999999999999) and linked library (v4.01).\n",
      "\n"
     ]
    }
   ],
   "source": [
    "import numpy as np\n",
    "import astropy.io.fits as fits\n",
    "import fitsio\n",
    "import healpy as hp\n",
    "import matplotlib.pyplot as plt\n",
    "from matplotlib.colors import LogNorm"
   ]
  },
  {
   "cell_type": "code",
   "execution_count": 2,
   "id": "f5d489c8-0199-442f-b606-e0c90a392b54",
   "metadata": {},
   "outputs": [],
   "source": [
    "exp = 12 # 12 Corresponds to a resolution of 4096\n",
    "res = 2**exp"
   ]
  },
  {
   "cell_type": "code",
   "execution_count": 3,
   "id": "78407ecb-8f5f-49f8-92cd-9a2f68fc5bf5",
   "metadata": {},
   "outputs": [],
   "source": [
    "stelFile1 = '/hdfs/bechtol/balrog/y3/y3a2_survey_conditions_maps/stellar_density/psf_stellar_density_fracdet_binned_1024_nside_4096_cel.fits.gz'\n",
    "stelFile2 = '/hdfs/bechtol/balrog/y3/y3a2_survey_conditions_maps/stellar_density/psf_stellar_density_fracdet_binned_256_nside_4096_cel.fits.gz'"
   ]
  },
  {
   "cell_type": "code",
   "execution_count": 4,
   "id": "bc1df7ac-3949-42f7-a109-a46b9499ee64",
   "metadata": {},
   "outputs": [],
   "source": [
    "stelData = fitsio.read(stelFile2)"
   ]
  },
  {
   "cell_type": "code",
   "execution_count": 5,
   "id": "70eb63c3-d53f-4f64-b48d-b3a7f56d2e0c",
   "metadata": {},
   "outputs": [],
   "source": [
    "# stelData['I']"
   ]
  },
  {
   "cell_type": "code",
   "execution_count": 6,
   "id": "815e0ae5-efee-4020-bc45-f6547174122d",
   "metadata": {},
   "outputs": [],
   "source": [
    "stelDensExt = stelData['I'].flatten()"
   ]
  },
  {
   "cell_type": "code",
   "execution_count": 7,
   "id": "00e7a8db-b572-4423-8c23-849bc21cde8e",
   "metadata": {},
   "outputs": [],
   "source": [
    "# plt.figure(dpi = 150)\n",
    "# plt.hist(stelDensExt, bins = np.linspace(0, 5, 1000))\n",
    "# plt.yscale('log')\n",
    "# #for i in np.arange(11):\n",
    "# #    plt.axvline(x = i/2, color = 'k', linestyle = '--')\n",
    "# plt.show()"
   ]
  },
  {
   "cell_type": "code",
   "execution_count": 8,
   "id": "f9ffedf5-6ebb-455e-8309-2ab2cc9793ee",
   "metadata": {},
   "outputs": [],
   "source": [
    "stelDensExt[stelDensExt==-1.6375e+30]=hp.UNSEEN\n",
    "condSigExt=hp.ud_grade(stelDensExt,res)"
   ]
  },
  {
   "cell_type": "code",
   "execution_count": 9,
   "id": "f0708bc7-c193-4c3d-9248-6b6d405ea229",
   "metadata": {},
   "outputs": [],
   "source": [
    "# plt.figure(dpi = 150)\n",
    "# plt.hist(condSigExt, bins = np.linspace(0, 10, 100))\n",
    "# plt.yscale('log')\n",
    "# #for i in np.arange(11):\n",
    "# #    plt.axvline(x = i/2, color = 'k', linestyle = '--')\n",
    "# plt.show()"
   ]
  },
  {
   "cell_type": "code",
   "execution_count": 10,
   "id": "1a2d11fd-43ce-43f4-84d1-50869d2e6ccd",
   "metadata": {},
   "outputs": [],
   "source": [
    "# starFile = '/afs/hep.wisc.edu/bechtol-group/MegansThings/balrog_detection_catalog_sof_run2_stars_v1.4_avg_added_match_flags.fits'\n",
    "# # This reads in all of the data. Most of these are just flags, the only pieces that get used much outside\n",
    "# # of filtering are true_ra and true_dec which get used to convert into healPixels.\n",
    "# starData = fitsio.read(starFile, columns = ['detected', 'true_ra', 'true_dec',\n",
    "#                                             'flags_foreground', 'flags_badregions', 'flags_footprint',\n",
    "#                                             'meas_FLAGS_GOLD_SOF_ONLY', 'match_flag_1.5_asec'])"
   ]
  },
  {
   "cell_type": "code",
   "execution_count": 11,
   "id": "d4e0b010-49bf-4ff4-b601-ffc881a43052",
   "metadata": {},
   "outputs": [],
   "source": [
    "# # These are in degrees which is why lonlat is set to True in the next cell.\n",
    "# RA = starData['true_ra']\n",
    "# DEC = starData['true_dec']\n",
    "# # Everything from here on out is simply used in order to filter the data\n",
    "# DETECTED = starData['detected'] # This specifically is used for now to filter out any non detected injection.\n",
    "# FOREGROUND = starData['flags_foreground']\n",
    "# BADREGIONS = starData['flags_badregions']\n",
    "# FOOTPRINT = starData['flags_footprint']\n",
    "# GOLDSOF = starData['meas_FLAGS_GOLD_SOF_ONLY']\n",
    "# ARCSECONDS = starData['match_flag_1.5_asec']\n",
    "# # i_mag = starData['meas_cm_mag_deredden'][:,2] This gets used if we filter at all based on i magnitude.\n",
    "\n",
    "# # This is used to filter out any injections that either weren't detected or had flags raised.\n",
    "# cutIndices = np.where((FOREGROUND == 0) & \n",
    "#                       (BADREGIONS < 2) & \n",
    "#                       (FOOTPRINT == 1) & \n",
    "#                       # (GOLDSOF < 2) &\n",
    "#                       (ARCSECONDS < 2))[0]\n",
    "\n",
    "# aveEff = np.sum(DETECTED) / len(DETECTED)\n",
    "\n",
    "# DETECTED = DETECTED[cutIndices]\n",
    "# RA = RA[cutIndices]\n",
    "# DEC = DEC[cutIndices]"
   ]
  },
  {
   "cell_type": "code",
   "execution_count": 12,
   "id": "de582cf8-814d-4acf-96ff-68784e9e3d38",
   "metadata": {},
   "outputs": [],
   "source": [
    "# # This converts the RA and DEC values from above to healpixels so we can compare to the sky condition.\n",
    "# starPixels = hp.ang2pix(res, RA, DEC, lonlat = True, nest = True)"
   ]
  },
  {
   "cell_type": "code",
   "execution_count": 13,
   "id": "044af513-7272-4cd2-a267-e582c73a7e69",
   "metadata": {},
   "outputs": [],
   "source": [
    "# validPixels1 = np.full(12*(res**2), False, dtype = bool)\n",
    "# validPixels2 = np.full(12*(res**2), False, dtype = bool)\n",
    "# validPixels1[np.where(condSigExt > 0)[0]] = True\n",
    "# validPixels2[starPixels] = True\n",
    "\n",
    "# validPixels = validPixels1 & validPixels2"
   ]
  },
  {
   "cell_type": "code",
   "execution_count": 14,
   "id": "bb5154b3-8fac-4f84-b799-fb951b5a5655",
   "metadata": {},
   "outputs": [],
   "source": [
    "# starIndices = np.where(validPixels[starPixels])[0]"
   ]
  },
  {
   "cell_type": "code",
   "execution_count": 15,
   "id": "0bf162f0-8dc1-46c8-8324-473d9d3ac4ae",
   "metadata": {},
   "outputs": [],
   "source": [
    "# # This generates the condition values and fraction detected at the valid pixels.\n",
    "# condSig = condSigExt[validPixels]\n",
    "\n",
    "# # This tells me which pixels correspond to the values above.\n",
    "# condPix = np.where(validPixels)[0]\n",
    "\n",
    "# # This tells me the pixels for the stars, it will be the same as condPix but have repeats if multiple stars are detected\n",
    "# # on one pixel. By default these will not be sorted.\n",
    "# starPix = starPixels[starIndices]\n",
    "# DETVALIDPIX = DETECTED[starIndices]\n",
    "\n",
    "# # This sorts the pixels. This may seem like an unnecessarily difficult way to do it but it could be useful for future projects\n",
    "# # and it doesn't take much more space or time so I chose to leave it in.\n",
    "# sortInds = starPix.argsort()\n",
    "# starPix = starPix[sortInds[::1]]\n",
    "# DET = DETVALIDPIX[sortInds[::1]]"
   ]
  },
  {
   "cell_type": "code",
   "execution_count": 16,
   "id": "9d745956-ac94-4bbe-928c-62ee845fd0b2",
   "metadata": {},
   "outputs": [],
   "source": [
    "# # These are indices that will be looping through the condPix and starPix arrays in parallel.\n",
    "# condInd = 0\n",
    "# starInd = 0\n",
    "\n",
    "# # This will be used to store the number of stars at each pixel.\n",
    "# detStar = np.zeros_like(condPix)\n",
    "# injStar = np.zeros_like(condPix)\n",
    "\n",
    "# while starInd < len(starPix):\n",
    "#     if condPix[condInd] == starPix[starInd]: # If the pixels match up in the arrays.\n",
    "#         detStar[condInd] += DET[starInd]\n",
    "#         injStar[condInd] += 1                # Add one to the corresponding spot in the balStar array.\n",
    "#         starInd += 1                         # Add one to the starInd to see if the next index in starPix is also the same.\n",
    "#         # Since the last index of condPix and starPix are the same, starInd will increase the last time through the loop,\n",
    "#         # making this the index that we must restrict in the while loop.\n",
    "#     else:\n",
    "#         condInd += 1 # If the pixels are no longer the same, increase the index you check in the condPix array."
   ]
  },
  {
   "cell_type": "code",
   "execution_count": 17,
   "id": "36aea1c7-aba8-4cfd-a1c9-2702f2550122",
   "metadata": {},
   "outputs": [],
   "source": [
    "# # This generates a plot of the distribution of the condition, which is useful for seeing what bin size to use.\n",
    "# plt.figure(dpi = 150)\n",
    "# plt.grid(zorder = 0)\n",
    "# plt.hist(condSig, bins = 100, edgecolor='black', linewidth=.5, zorder = 3)\n",
    "# plt.xlabel('Condition Value')\n",
    "# plt.ylabel('Number of Pixels')\n",
    "# plt.title('Distribution of Condition Value')\n",
    "# plt.yscale('log')\n",
    "# plt.show()"
   ]
  },
  {
   "cell_type": "code",
   "execution_count": 18,
   "id": "3aab23c7-f04e-420a-be4f-17d7316453c5",
   "metadata": {},
   "outputs": [],
   "source": [
    "# condMin = 1\n",
    "# condMax = 6\n",
    "# numBins = 12"
   ]
  },
  {
   "cell_type": "code",
   "execution_count": 19,
   "id": "7b9c4747-c544-49f6-a918-7a0957a241a8",
   "metadata": {},
   "outputs": [],
   "source": [
    "# xValues = np.linspace(condMin, condMax, numBins, endpoint = False) + (condMax - condMin) / (2 * numBins)"
   ]
  },
  {
   "cell_type": "code",
   "execution_count": 20,
   "id": "8ae000e0-f234-4764-9513-b7419dbe0fc5",
   "metadata": {},
   "outputs": [],
   "source": [
    "# # This shows what the bins will actually look like, which can be useful in seeing if any of the bins are too small.\n",
    "# plt.figure(dpi = 150)\n",
    "# plt.grid(zorder = 0)\n",
    "# plt.hist(condSig, bins = np.linspace(condMin, condMax, numBins + 1), edgecolor='black', linewidth=.5, zorder = 3)\n",
    "# plt.yscale('log')\n",
    "# plt.title('Bins to Use')\n",
    "# plt.xlabel('Condition Value')\n",
    "# plt.ylabel('Number of Pixels')\n",
    "# plt.show()"
   ]
  },
  {
   "cell_type": "code",
   "execution_count": 21,
   "id": "0c6b03f5-195b-410c-afaf-750cc6f79f4c",
   "metadata": {},
   "outputs": [],
   "source": [
    "# def binIndicesByCondition(cond, condMin, condMax, numBins):\n",
    "#     binBounds = np.linspace(condMin, condMax, (numBins + 1), endpoint = True)\n",
    "#     indByBin = []\n",
    "#     for i in range(len(binBounds) - 1):\n",
    "#         validIndices = np.array(np.where((cond >= binBounds[i]) & (cond < binBounds[i + 1]))[0])\n",
    "#         indByBin.append(validIndices)\n",
    "#     return np.array(indByBin, dtype = object)"
   ]
  },
  {
   "cell_type": "code",
   "execution_count": 22,
   "id": "507794dc-c8bc-4b7a-b5f4-d0adaf8abcec",
   "metadata": {},
   "outputs": [],
   "source": [
    "# binInd = binIndicesByCondition(condSig, condMin, condMax, numBins)"
   ]
  },
  {
   "cell_type": "code",
   "execution_count": 23,
   "id": "759e5965-ca24-4eb1-b264-704beeba5363",
   "metadata": {},
   "outputs": [],
   "source": [
    "# percentBins = []\n",
    "\n",
    "# for i in range(len(binInd)):\n",
    "#     totalDet = np.sum(detStar[binInd[i]]) # Total number of detections within the bin.\n",
    "#     totalInj = np.sum(injStar[binInd[i]])\n",
    "#     percentBins.append(totalDet / totalInj) # Total effective area within the bin.\n",
    "\n",
    "# relPerBins = np.array(percentBins) / aveEff # This normalizes the data, relative percent bins.\n",
    "# corrValue = 1 / relPerBins"
   ]
  },
  {
   "cell_type": "code",
   "execution_count": 24,
   "id": "3aaa2eec-c76f-4c24-8e86-3bff8572bfde",
   "metadata": {},
   "outputs": [],
   "source": [
    "# # This is the final plot.\n",
    "# plt.figure(dpi = 150)\n",
    "# plt.plot(xValues, relPerBins, marker = '.', zorder = 3)\n",
    "# plt.plot(xValues, np.ones_like(xValues), color = 'k', linestyle = '--')\n",
    "# # plt.ylim([0.6, 1.3])\n",
    "# plt.ylabel('Relative Percent Detected')\n",
    "# plt.xlabel('Stellar Density')\n",
    "# plt.grid()\n",
    "# plt.show()"
   ]
  },
  {
   "cell_type": "code",
   "execution_count": 25,
   "id": "fda51d4c-f598-40ac-bf91-23269e8f8bdf",
   "metadata": {},
   "outputs": [
    {
     "data": {
      "image/png": "[encoded data removed]",
      "text/plain": [
       "<Figure size 612x388.8 with 2 Axes>"
      ]
     },
     "metadata": {
      "needs_background": "light"
     },
     "output_type": "display_data"
    }
   ],
   "source": [
    "hp.mollview(condSigExt, nest=True, title=\"Stellar Density\", min = 0, max = 5, badcolor = 'black', cmap = 'inferno', xsize = 10000)"
   ]
  },
  {
   "cell_type": "code",
   "execution_count": 26,
   "id": "3279d9dd-71a5-4079-a7ab-3e01a4fd6b10",
   "metadata": {},
   "outputs": [],
   "source": [
    "# print(np.sum(validPixels))"
   ]
  },
  {
   "cell_type": "code",
   "execution_count": 27,
   "id": "bd2327fb-774f-42fd-9f89-64a319dc8548",
   "metadata": {},
   "outputs": [],
   "source": [
    "# stelDensVal = np.copy(condSigExt)\n",
    "# stelDensVal[~validPixels] = hp.UNSEEN"
   ]
  },
  {
   "cell_type": "code",
   "execution_count": 28,
   "id": "4e855a23-3e47-466c-b43f-4acef05320ca",
   "metadata": {},
   "outputs": [],
   "source": [
    "# hp.mollview(stelDensVal, nest=True, title=\"Stellar Density\", max = 5, min = 0, badcolor = 'black', cmap = 'inferno')"
   ]
  },
  {
   "cell_type": "code",
   "execution_count": 29,
   "id": "675af24c-2373-40b9-a309-011885824e40",
   "metadata": {},
   "outputs": [],
   "source": [
    "# hp.mollview(validPixels, nest=True, title=\"Stellar Density\", max = 1, min = 0, badcolor = 'black', cmap = 'inferno')"
   ]
  },
  {
   "cell_type": "code",
   "execution_count": null,
   "id": "11a691f6-fa8d-48a5-85e4-55d0a4fdaaba",
   "metadata": {},
   "outputs": [],
   "source": []
  }
 ],
 "metadata": {
  "kernelspec": {
   "display_name": "Python 3 (ipykernel)",
   "language": "python",
   "name": "python3"
  },
  "language_info": {
   "codemirror_mode": {
    "name": "ipython",
    "version": 3
   },
   "file_extension": ".py",
   "mimetype": "text/x-python",
   "name": "python",
   "nbconvert_exporter": "python",
   "pygments_lexer": "ipython3",
   "version": "3.9.12"
  }
 },
 "nbformat": 4,
 "nbformat_minor": 5
}
