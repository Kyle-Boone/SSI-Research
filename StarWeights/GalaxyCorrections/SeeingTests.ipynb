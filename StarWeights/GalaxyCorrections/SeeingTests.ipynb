{
 "cells": [
  {
   "cell_type": "code",
   "execution_count": 1,
   "id": "809793ce-1a77-4038-baf9-5c77b3dbe2f5",
   "metadata": {},
   "outputs": [],
   "source": [
    "import numpy as np\n",
    "import fitsio\n",
    "import astropy.io.fits as fits\n",
    "from astropy.table import Table\n",
    "import healpy as hp\n",
    "import Config"
   ]
  },
  {
   "cell_type": "code",
   "execution_count": 2,
   "id": "2d1d45a8-8bd9-444b-af87-5b3c415144b6",
   "metadata": {},
   "outputs": [],
   "source": [
    "conditions = Config.conditions\n",
    "galaDir = '/hdfs/bechtol/balrog/y3/y3a2_survey_conditions_maps/Kyle_Stuff/GalaxyContamination/'"
   ]
  },
  {
   "cell_type": "code",
   "execution_count": 3,
   "id": "3e14d59d-4243-4505-84cd-43551bd8a2ef",
   "metadata": {},
   "outputs": [],
   "source": [
    "measGalaFile = galaDir + 'Blue_Meas_Galaxies.fits'"
   ]
  },
  {
   "cell_type": "code",
   "execution_count": 4,
   "id": "1e9cd0f9-76c2-4964-aa84-2b9214739092",
   "metadata": {},
   "outputs": [],
   "source": [
    "data = fitsio.read(measGalaFile)"
   ]
  },
  {
   "cell_type": "code",
   "execution_count": 5,
   "id": "3766976f-388b-4c28-bef2-d80cb6f3afe5",
   "metadata": {},
   "outputs": [],
   "source": [
    "res = 512\n",
    "pixFile = galaDir + 'Valid_'+str(res)+'_Pixels.fits'"
   ]
  },
  {
   "cell_type": "code",
   "execution_count": 6,
   "id": "ecce8f83-016f-421f-be3d-0ba0c1a9b5a3",
   "metadata": {},
   "outputs": [],
   "source": [
    "validPix = fitsio.read(pixFile)['PIXEL']\n",
    "pixCheck = np.full(12*(res**2), False, dtype = bool)\n",
    "pixCheck[validPix] = True"
   ]
  },
  {
   "cell_type": "markdown",
   "id": "4a3beeda-91b0-4b8e-85bf-59a594b6ac6e",
   "metadata": {},
   "source": [
    "## This is the minimum magnitude that is used."
   ]
  },
  {
   "cell_type": "code",
   "execution_count": 7,
   "id": "2a254355-721a-41c3-81b0-f9a2a177e18e",
   "metadata": {},
   "outputs": [],
   "source": [
    "magCutoff = 24"
   ]
  },
  {
   "cell_type": "code",
   "execution_count": 8,
   "id": "ca913b43-159e-4e57-95a1-658ef5303bc8",
   "metadata": {},
   "outputs": [],
   "source": [
    "galaRA = data['RA']\n",
    "galaDEC = data['DEC']\n",
    "galaGMAG = data['GMAG']\n",
    "galaSOFCLASS = data['CLASS']\n",
    "galaPIXRepeats = hp.ang2pix(res, galaRA, galaDEC, lonlat = True, nest = True)\n",
    "\n",
    "galaSOFCLASS = galaSOFCLASS[np.where((pixCheck[galaPIXRepeats]) & (galaGMAG > magCutoff))[0]]\n",
    "galaCLASSRepeats = np.zeros_like(galaSOFCLASS)\n",
    "galaCLASSRepeats[np.where(galaSOFCLASS >= 2)[0]] = 1\n",
    "galaPIXRepeats = galaPIXRepeats[np.where((pixCheck[galaPIXRepeats]) & (galaGMAG > magCutoff))[0]]"
   ]
  },
  {
   "cell_type": "code",
   "execution_count": 9,
   "id": "2ad16030-53db-4e08-ae1e-7348a2e4e3f6",
   "metadata": {},
   "outputs": [],
   "source": [
    "sortInds = galaPIXRepeats.argsort()\n",
    "galaPIXRepeats = galaPIXRepeats[sortInds[::1]]\n",
    "galaCLASSRepeats = galaCLASSRepeats[sortInds[::1]]"
   ]
  },
  {
   "cell_type": "code",
   "execution_count": 10,
   "id": "e713c7f6-59ff-4d70-a110-1afb57bbf0e1",
   "metadata": {},
   "outputs": [],
   "source": [
    "uniqInd = 0\n",
    "galaInd = 0\n",
    "\n",
    "# This will be used to store the number of stars at each pixel.\n",
    "galaPIX = np.unique(galaPIXRepeats) # The unique pixels, with no repeats.\n",
    "galaCOR = np.zeros_like(galaPIX) # Correctly classified galaxies per pixel\n",
    "galaALL = np.zeros_like(galaPIX) # All galaxy injections per pixel.\n",
    "\n",
    "while galaInd < len(galaPIXRepeats):\n",
    "    if galaPIX[uniqInd] == galaPIXRepeats[galaInd]: # If the pixels match up in the arrays.\n",
    "        galaCOR[uniqInd] += galaCLASSRepeats[galaInd] # Add one if there was a galaxy at this location.\n",
    "        galaALL[uniqInd] += 1                # Add one to the corresponding spot in the galaAll.\n",
    "        galaInd += 1                         # Add one to the starInd to see if the next index in starPix is same.\n",
    "        # Since the last index of galaPix and galaPixRepeats are the same, galaInd will increase \n",
    "        # the last time through the loop, making this the index that we must restrict in the while loop.\n",
    "    else:\n",
    "        uniqInd += 1 # If the pixels are no longer the same, increase the index you check in the galaPix array."
   ]
  },
  {
   "cell_type": "code",
   "execution_count": 11,
   "id": "6ca5d7bc-678f-4b76-b1e7-a13a83dec669",
   "metadata": {},
   "outputs": [
    {
     "name": "stdout",
     "output_type": "stream",
     "text": [
      "FWHM Weighted Mean, g Band\n",
      "FWHM Weighted Mean, r Band\n",
      "FWHM Weighted Mean, i Band\n",
      "FWHM Weighted Mean, z Band\n",
      "FWHM Minimum, g Band\n",
      "FWHM Minimum, r Band\n",
      "FWHM Minimum, i Band\n",
      "FWHM Minimum, z Band\n",
      "FWHM Maximum, g Band\n",
      "FWHM Maximum, r Band\n",
      "FWHM Maximum, i Band\n",
      "FWHM Maximum, z Band\n",
      "FWHM Fluxrad Weighted Mean, g Band\n",
      "FWHM Fluxrad Weighted Mean, r Band\n",
      "FWHM Fluxrad Weighted Mean, i Band\n",
      "FWHM Fluxrad Weighted Mean, z Band\n",
      "FWHM Fluxrad Minimum, g Band\n",
      "FWHM Fluxrad Minimum, r Band\n",
      "FWHM Fluxrad Minimum, i Band\n",
      "FWHM Fluxrad Minimum, z Band\n",
      "FWHM Fluxrad Maximum, g Band\n",
      "FWHM Fluxrad Maximum, r Band\n",
      "FWHM Fluxrad Maximum, i Band\n",
      "FWHM Fluxrad Maximum, z Band\n"
     ]
    }
   ],
   "source": [
    "conditions = Config.conditions\n",
    "for cond in conditions:\n",
    "    if 'FWHM' in cond:\n",
    "        print(cond)\n",
    "FWHM = 'FWHM Fluxrad Weighted Mean, r Band'\n",
    "FWHMFile = galaDir + str(res) + '_' + FWHM + '.fits'"
   ]
  },
  {
   "cell_type": "code",
   "execution_count": 12,
   "id": "1f0ecc0a-0f80-49dc-a593-b8e8aff103b3",
   "metadata": {},
   "outputs": [],
   "source": [
    "condData = fitsio.read(FWHMFile) # This reads in the data\n",
    "condSigExt = np.full(12*(res**2), -1.6375e+30) # Gives a default value\n",
    "condSigExt[validPix] = condData['SIGNAL'] # Changes all valid pixels to their corresponding signals\n",
    "condSigExt[np.where(condSigExt == -1.6375e+30)[0]] = hp.UNSEEN # Masks all non valid pixels\n",
    "balrFWHMMap = condSigExt[galaPIX] # Only stores the values that are in pixels with injections"
   ]
  },
  {
   "cell_type": "code",
   "execution_count": 13,
   "id": "53df1fd9-8f82-4e95-b3ea-0a0fc370c83b",
   "metadata": {},
   "outputs": [],
   "source": [
    "import matplotlib.pyplot as plt"
   ]
  },
  {
   "cell_type": "code",
   "execution_count": 14,
   "id": "b79dc3b0-8263-4649-86a5-7a0f0ebfaaac",
   "metadata": {},
   "outputs": [
    {
     "data": {
      "image/png": "[encoded data removed]",
      "text/plain": [
       "<Figure size 768x576 with 1 Axes>"
      ]
     },
     "metadata": {},
     "output_type": "display_data"
    }
   ],
   "source": [
    "plt.figure(dpi = 120)\n",
    "plt.hist(balrFWHMMap, bins = np.linspace(np.min(balrFWHMMap), np.max(balrFWHMMap), 100))\n",
    "plt.show()"
   ]
  },
  {
   "cell_type": "code",
   "execution_count": 15,
   "id": "7a6fba2c-02fe-4b44-b612-9d7c35c2500a",
   "metadata": {},
   "outputs": [],
   "source": [
    "stanMap = (balrFWHMMap - np.average(balrFWHMMap)) / np.std(balrFWHMMap)"
   ]
  },
  {
   "cell_type": "code",
   "execution_count": 16,
   "id": "9c220ba7-c511-4be4-976c-17e0a666a44d",
   "metadata": {},
   "outputs": [],
   "source": [
    "sigma = 0.5\n",
    "numBins = 100"
   ]
  },
  {
   "cell_type": "code",
   "execution_count": 17,
   "id": "015c5890-ac56-4b1e-b179-ae875ff4aa43",
   "metadata": {},
   "outputs": [],
   "source": [
    "x = np.linspace(-3, 3, numBins) # xValues for plot, goes out to 3 standard deviation.\n",
    "y = []\n",
    "\n",
    "for xi in x:\n",
    "    # Gaussian weighting the values close by to each x value.\n",
    "    totCor = np.sum(galaCOR * np.exp(-1*(((stanMap.astype(float) - xi) / sigma)**2)))\n",
    "    totAll = np.sum(galaALL * np.exp(-1*(((stanMap.astype(float) - xi) / sigma)**2)))\n",
    "    y.append(totCor / totAll)\n",
    "\n",
    "y = np.array(y)"
   ]
  },
  {
   "cell_type": "code",
   "execution_count": 18,
   "id": "48597c8f-a897-4904-b913-8a9546e72538",
   "metadata": {},
   "outputs": [
    {
     "data": {
      "image/png": "[encoded data removed]",
      "text/plain": [
       "<Figure size 768x576 with 1 Axes>"
      ]
     },
     "metadata": {},
     "output_type": "display_data"
    }
   ],
   "source": [
    "plt.figure(dpi = 120)\n",
    "plt.plot(x, y)\n",
    "plt.show()"
   ]
  },
  {
   "cell_type": "code",
   "execution_count": null,
   "id": "ea3c66f2-394c-42ee-8248-cdef6e750348",
   "metadata": {},
   "outputs": [],
   "source": []
  }
 ],
 "metadata": {
  "kernelspec": {
   "display_name": "Python 3 (ipykernel)",
   "language": "python",
   "name": "python3"
  },
  "language_info": {
   "codemirror_mode": {
    "name": "ipython",
    "version": 3
   },
   "file_extension": ".py",
   "mimetype": "text/x-python",
   "name": "python",
   "nbconvert_exporter": "python",
   "pygments_lexer": "ipython3",
   "version": "3.9.12"
  }
 },
 "nbformat": 4,
 "nbformat_minor": 5
}
