{
 "cells": [
  {
   "cell_type": "code",
   "execution_count": 1,
   "id": "cfff523b-27aa-417b-bb56-ab3d875249a7",
   "metadata": {},
   "outputs": [],
   "source": [
    "import numpy as np\n",
    "from numpy import savetxt\n",
    "from numpy import loadtxt\n",
    "import fitsio\n",
    "import healpy as hp\n",
    "import matplotlib.pyplot as plt\n",
    "import Config\n",
    "from astropy.table import Table"
   ]
  },
  {
   "cell_type": "code",
   "execution_count": 2,
   "id": "2907477f-78e4-4e44-ac06-454460300628",
   "metadata": {},
   "outputs": [],
   "source": [
    "numBins = 100\n",
    "# numBinsTrained = 100\n",
    "conditions = Config.conditions\n",
    "file = '/hdfs/bechtol/balrog/y3/y3a2_survey_conditions_maps/Kyle_Stuff/training/'"
   ]
  },
  {
   "cell_type": "code",
   "execution_count": 3,
   "id": "22e59eb5-6e05-47b8-8336-21ffa53f4fad",
   "metadata": {},
   "outputs": [],
   "source": [
    "validPix = fitsio.read(file + 'Valid_4096_Pixels.fits')['PIXEL']"
   ]
  },
  {
   "cell_type": "code",
   "execution_count": 4,
   "id": "8a93990d-9c2e-4411-9273-ee7f1dd624aa",
   "metadata": {},
   "outputs": [],
   "source": [
    "stds = np.loadtxt(file + 'Blue_Standard_Deviations.csv', delimiter = ',')\n",
    "mean = np.loadtxt(file + 'Blue_Means.csv', delimiter = ',')\n",
    "inds = np.loadtxt(file + 'Blue_Indices.csv', delimiter = ',').astype(int)"
   ]
  },
  {
   "cell_type": "code",
   "execution_count": 5,
   "id": "23441bde-aab6-4753-871c-a1cb35e470a9",
   "metadata": {},
   "outputs": [],
   "source": [
    "strFitParams = loadtxt(file + 'Blue_Fit_Parameters.csv', delimiter = '\\t', dtype = object)\n",
    "fitParams = []\n",
    "for i in range(len(strFitParams)):\n",
    "    \n",
    "    strFitParams[i] = strFitParams[i][1:len(strFitParams[i]) - 1]\n",
    "    indParam = []\n",
    "    \n",
    "    for j in range(len(strFitParams[i].split(', '))):\n",
    "        \n",
    "        indParam.append(float(strFitParams[i].split(', ')[j]))\n",
    "        \n",
    "    indParam = np.array(indParam)\n",
    "    fitParams.append(indParam)\n",
    "    \n",
    "fitParams = np.array(fitParams, dtype = object)"
   ]
  },
  {
   "cell_type": "code",
   "execution_count": 6,
   "id": "700b3fc0-dc9e-4b85-b0e4-e6169de2733b",
   "metadata": {},
   "outputs": [],
   "source": [
    "strFeatVec = loadtxt(file + 'Blue_Feature_Vectors.csv', delimiter = '\\t', dtype = object)\n",
    "featVec = []\n",
    "for i in range(len(strFeatVec)):\n",
    "    \n",
    "    indVec = []\n",
    "    \n",
    "    for j in range(len(strFeatVec[i])):\n",
    "        \n",
    "        indVec.append(float(strFeatVec[i][j]))\n",
    "        \n",
    "    indVec = np.array(indVec)\n",
    "    featVec.append(indVec)\n",
    "    \n",
    "featVec = np.array(featVec, dtype = object)"
   ]
  },
  {
   "cell_type": "code",
   "execution_count": 7,
   "id": "136d26a7-51d1-4be2-96b4-57b278ef1862",
   "metadata": {},
   "outputs": [],
   "source": [
    "binLims = [0]\n",
    "\n",
    "for i in range(numBins):\n",
    "    binLims.append(int((len(validPix) - binLims[-1]) / (numBins - i)) + (binLims[-1]))"
   ]
  },
  {
   "cell_type": "code",
   "execution_count": 8,
   "id": "f99f9c49-9eab-4fe4-b1e9-c84e1967a6a6",
   "metadata": {},
   "outputs": [],
   "source": [
    "corrMap = []\n",
    "\n",
    "for i in range(len(binLims) - 1):\n",
    "    \n",
    "    condMaps = []\n",
    "    # This loops over every condition file except for stellar density which has a different format\n",
    "    for cond in conditions:\n",
    "        condMaps.append(fitsio.read(file + cond + '.fits', rows = np.arange(binLims[i], binLims[i + 1]))['SIGNAL']) # This reads in the data\n",
    "    condMaps = np.array(condMaps, dtype = object)    \n",
    "    \n",
    "    stanMaps = []\n",
    "    for j in range(len(condMaps)):\n",
    "        stanMaps.append((condMaps[j] - mean[j]) / stds[j])\n",
    "    stanMaps = np.array(stanMaps, dtype = object)\n",
    "    \n",
    "    redMaps = np.matmul(featVec, stanMaps)\n",
    "    \n",
    "    sectCorr = np.ones(len(stanMaps[0]))\n",
    "    \n",
    "    for j in range(len(inds)):\n",
    "    \n",
    "        corr = np.full(len(sectCorr), 0.0)\n",
    "\n",
    "        for k in range(len(fitParams[j])):\n",
    "            corr = corr + (fitParams[j][k] * (redMaps[inds[j]]**(len(fitParams[j]) - 1 - k)))\n",
    "\n",
    "        corr = 1 / corr\n",
    "        \n",
    "        sectCorr = sectCorr * corr\n",
    "        \n",
    "    corrMap.extend(sectCorr)\n",
    "    \n",
    "corrMap = np.array(corrMap)"
   ]
  },
  {
   "cell_type": "code",
   "execution_count": 9,
   "id": "f8268ecd-86b5-428a-a4e1-75480eef5495",
   "metadata": {},
   "outputs": [],
   "source": [
    "my_table = Table()\n",
    "my_table['SIGNAL'] = corrMap\n",
    "my_table.write(file + 'Blue_Corrections_Map.fits', overwrite = True)"
   ]
  },
  {
   "cell_type": "code",
   "execution_count": null,
   "id": "333808d2-81ce-4c0a-b56d-6659a804365e",
   "metadata": {},
   "outputs": [],
   "source": []
  }
 ],
 "metadata": {
  "kernelspec": {
   "display_name": "Python 3 (ipykernel)",
   "language": "python",
   "name": "python3"
  },
  "language_info": {
   "codemirror_mode": {
    "name": "ipython",
    "version": 3
   },
   "file_extension": ".py",
   "mimetype": "text/x-python",
   "name": "python",
   "nbconvert_exporter": "python",
   "pygments_lexer": "ipython3",
   "version": "3.9.12"
  }
 },
 "nbformat": 4,
 "nbformat_minor": 5
}
