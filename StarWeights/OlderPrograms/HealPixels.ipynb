{
 "cells": [
  {
   "cell_type": "code",
   "execution_count": 1,
   "id": "92d8506f-3ffc-449f-9ec4-b8482d9f5f5f",
   "metadata": {},
   "outputs": [],
   "source": [
    "import numpy as np\n",
    "import fitsio"
   ]
  },
  {
   "cell_type": "code",
   "execution_count": 2,
   "id": "1e460211-ec6c-4150-8f74-2394c7074e4a",
   "metadata": {},
   "outputs": [],
   "source": [
    "obsFile1 = '/hdfs/bechtol/balrog/y3/y3_gold_2_2_DES0129-5248.fits'\n",
    "obsFile2 = '/hdfs/bechtol/balrog/y3/y3_gold_2_2_DES0245-0207.fits'\n",
    "obsFile3 = '/hdfs/bechtol/balrog/y3/y3_gold_2_2_DES0350-2415.fits'\n",
    "obsFile4 = '/hdfs/bechtol/balrog/y3/y3_gold_2_2_DES0457-3206.fits'\n",
    "obsFile5 = '/hdfs/bechtol/balrog/y3/y3_gold_2_2_DES2259+0001.fits'"
   ]
  },
  {
   "cell_type": "code",
   "execution_count": 3,
   "id": "d51d0f10-29ad-4f44-b1d0-7a31b7aaa367",
   "metadata": {},
   "outputs": [],
   "source": [
    "obsData1 = fitsio.read(obsFile1, columns=['HPIX_4096'])\n",
    "obsData2 = fitsio.read(obsFile2, columns=['HPIX_4096'])\n",
    "obsData3 = fitsio.read(obsFile3, columns=['HPIX_4096'])\n",
    "obsData4 = fitsio.read(obsFile4, columns=['HPIX_4096'])\n",
    "obsData5 = fitsio.read(obsFile5, columns=['HPIX_4096'])"
   ]
  },
  {
   "cell_type": "code",
   "execution_count": 9,
   "id": "ec920473-1676-4015-9df1-15102f2a2bea",
   "metadata": {},
   "outputs": [],
   "source": [
    "obsHPIX = np.concatenate((obsData1['HPIX_4096'], obsData2['HPIX_4096'], obsData3['HPIX_4096'], obsData4['HPIX_4096'], obsData5['HPIX_4096']))\n",
    "obsHPIX = np.array(list(set(obsHPIX)))"
   ]
  },
  {
   "cell_type": "code",
   "execution_count": 11,
   "id": "980a9af6-1899-4eec-95af-46bc6f7ab916",
   "metadata": {},
   "outputs": [],
   "source": [
    "np.savetxt('/afs/hep.wisc.edu/home/kkboone/data/temp/HealPixels.csv', obsHPIX, delimiter = ',')"
   ]
  },
  {
   "cell_type": "code",
   "execution_count": null,
   "id": "f4a57b27-5b56-45b3-a2d7-b00ea27f5e7b",
   "metadata": {},
   "outputs": [],
   "source": []
  }
 ],
 "metadata": {
  "kernelspec": {
   "display_name": "Python 3 (ipykernel)",
   "language": "python",
   "name": "python3"
  },
  "language_info": {
   "codemirror_mode": {
    "name": "ipython",
    "version": 3
   },
   "file_extension": ".py",
   "mimetype": "text/x-python",
   "name": "python",
   "nbconvert_exporter": "python",
   "pygments_lexer": "ipython3",
   "version": "3.9.12"
  }
 },
 "nbformat": 4,
 "nbformat_minor": 5
}
