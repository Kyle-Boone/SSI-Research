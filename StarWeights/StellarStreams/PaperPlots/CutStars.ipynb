{
 "cells": [
  {
   "cell_type": "markdown",
   "id": "0ae335bb-de76-4b56-b2df-c25e4105cde0",
   "metadata": {},
   "source": [
    "# Current Issue:\n",
    "\n",
    "Measured locations don't match perfectly with actual locations, leading to some strays. Consider using true locations for measured objects instead of measured for this test."
   ]
  },
  {
   "cell_type": "code",
   "execution_count": 1,
   "id": "18aaf0c7-797e-4dba-977f-56478e8ee5a5",
   "metadata": {},
   "outputs": [],
   "source": [
    "import sys\n",
    "sys.path.insert(1, '/afs/hep.wisc.edu/home/kkboone/software/StarWeights/StellarStreams')\n",
    "\n",
    "import fitsio\n",
    "import numpy as np\n",
    "import healpy as hp\n",
    "import scipy as sc\n",
    "import matplotlib.pyplot as plt\n",
    "import matplotlib.style\n",
    "import matplotlib\n",
    "from scipy import interpolate as inter\n",
    "from astropy.table import Table\n",
    "import BalrogTestConfig as balrConfig\n",
    "import Config\n",
    "from TrainAndFullMap import *\n",
    "from timeit import default_timer as timer\n",
    "import StellarConfig as strConfig\n",
    "from matplotlib.path import Path\n",
    "matplotlib.style.use('des_dr1')"
   ]
  },
  {
   "cell_type": "code",
   "execution_count": 2,
   "id": "ac5d34fa-5c25-4ed9-9538-f51d33d8f80d",
   "metadata": {},
   "outputs": [],
   "source": [
    "cutOffPercent = .01\n",
    "res = 4096\n",
    "binNum = 10\n",
    "classCut = 1.5\n",
    "path = strConfig.path\n",
    "mu = strConfig.mu\n",
    "rMagCut = [0, 22.9]"
   ]
  },
  {
   "cell_type": "code",
   "execution_count": 3,
   "id": "8d85b5b4-3fe9-4a63-a1b4-b5df73fc38c3",
   "metadata": {},
   "outputs": [],
   "source": [
    "validPixFile = balrConfig.test1ValidPixFile\n",
    "\n",
    "matBalrStarFile = balrConfig.matBalrStarFile"
   ]
  },
  {
   "cell_type": "code",
   "execution_count": 4,
   "id": "87e18cc5-ecaf-4e99-9435-c0e1585684f3",
   "metadata": {},
   "outputs": [],
   "source": [
    "validPix = fitsio.read(validPixFile)['PIXEL']"
   ]
  },
  {
   "cell_type": "code",
   "execution_count": 5,
   "id": "53b1e694-8d24-488d-841e-6686ae33ef4c",
   "metadata": {},
   "outputs": [],
   "source": [
    "starData = fitsio.read(matBalrStarFile, columns = ['true_RA_new', 'true_DEC_new', 'meas_EXTENDED_CLASS_SOF', 'meas_psf_mag'])"
   ]
  },
  {
   "cell_type": "code",
   "execution_count": 6,
   "id": "216154e7-0384-4124-960d-fc7a744d7c45",
   "metadata": {},
   "outputs": [],
   "source": [
    "matRa = starData['true_RA_new']\n",
    "matDec = starData['true_DEC_new']\n",
    "matRmag = starData['meas_psf_mag'][:,1]\n",
    "matGmag = starData['meas_psf_mag'][:,0]\n",
    "matClass = starData['meas_EXTENDED_CLASS_SOF']"
   ]
  },
  {
   "cell_type": "code",
   "execution_count": 7,
   "id": "271bbb09-53b8-408f-8a98-45df8927c924",
   "metadata": {},
   "outputs": [],
   "source": [
    "matPix = hp.ang2pix(res, matRa, matDec, nest = True, lonlat = True)"
   ]
  },
  {
   "cell_type": "code",
   "execution_count": 8,
   "id": "21c501f3-d448-47b9-9e89-42b701e097e5",
   "metadata": {},
   "outputs": [],
   "source": [
    "pixCut = np.isin(matPix, validPix)\n",
    "matPix = matPix[pixCut]\n",
    "matRmag = matRmag[pixCut]\n",
    "matGmag = matGmag[pixCut]\n",
    "matClass = matClass[pixCut]"
   ]
  },
  {
   "cell_type": "code",
   "execution_count": 9,
   "id": "bb2f233a-9fd4-4202-a163-9c1ed3634ba2",
   "metadata": {},
   "outputs": [
    {
     "data": {
      "text/plain": [
       "0.9884037849260914"
      ]
     },
     "execution_count": 9,
     "metadata": {},
     "output_type": "execute_result"
    }
   ],
   "source": [
    "len(matPix) / len(matRa)"
   ]
  },
  {
   "cell_type": "code",
   "execution_count": 10,
   "id": "27d76789-c9ce-4aeb-9d05-b7c23c0604f3",
   "metadata": {},
   "outputs": [],
   "source": [
    "magCut = np.where((matRmag <= rMagCut[1]) &\n",
    "                  (matRmag > rMagCut[0]))[0]\n",
    "\n",
    "matPix = matPix[magCut]\n",
    "matRmag = matRmag[magCut]\n",
    "matGmag = matGmag[magCut]\n",
    "matClass = matClass[magCut]"
   ]
  },
  {
   "cell_type": "code",
   "execution_count": 11,
   "id": "1ae2abaf-a197-45df-b77b-95e602b7655c",
   "metadata": {},
   "outputs": [
    {
     "data": {
      "text/plain": [
       "0.5689321579320074"
      ]
     },
     "execution_count": 11,
     "metadata": {},
     "output_type": "execute_result"
    }
   ],
   "source": [
    "len(matPix) / len(matRa)"
   ]
  },
  {
   "cell_type": "code",
   "execution_count": 12,
   "id": "6fae6262-ec1e-4fe0-bf35-0d3ab7636813",
   "metadata": {},
   "outputs": [],
   "source": [
    "MG = matGmag - mu\n",
    "GR = matGmag - matRmag\n",
    "\n",
    "filterSelection=Path.contains_points(path,np.vstack((GR,MG)).T)\n",
    "\n",
    "matClass = matClass[filterSelection]\n",
    "matPix = matPix[filterSelection]"
   ]
  },
  {
   "cell_type": "code",
   "execution_count": 13,
   "id": "9979b63b-14f3-47f0-80d0-cf91ea75e47d",
   "metadata": {},
   "outputs": [
    {
     "data": {
      "text/plain": [
       "0.054473271886831376"
      ]
     },
     "execution_count": 13,
     "metadata": {},
     "output_type": "execute_result"
    }
   ],
   "source": [
    "len(matPix) / len(matRa)"
   ]
  },
  {
   "cell_type": "code",
   "execution_count": 14,
   "id": "6adffa91-3c36-4d11-b6a5-706c5f22c65c",
   "metadata": {},
   "outputs": [],
   "source": [
    "classCuts = np.where((matClass >= 0) &\n",
    "                     (matClass <= classCut))[0]"
   ]
  },
  {
   "cell_type": "code",
   "execution_count": 15,
   "id": "8da26017-ebb3-41dd-ab3d-62865c098b2b",
   "metadata": {},
   "outputs": [],
   "source": [
    "matPix = matPix[classCuts]\n",
    "origDetPix = np.copy(matPix)\n",
    "origDetPix = np.sort(origDetPix)"
   ]
  },
  {
   "cell_type": "code",
   "execution_count": 16,
   "id": "97bf3314-04f1-469b-8d71-84548453d3db",
   "metadata": {},
   "outputs": [
    {
     "data": {
      "text/plain": [
       "0.048234946443407326"
      ]
     },
     "execution_count": 16,
     "metadata": {},
     "output_type": "execute_result"
    }
   ],
   "source": [
    "len(matPix) / len(matRa)"
   ]
  },
  {
   "cell_type": "code",
   "execution_count": 17,
   "id": "bb2c04ac-aeda-49eb-9417-8058f53b8100",
   "metadata": {},
   "outputs": [],
   "source": [
    "_, origAllDetPixCounts = np.unique(np.append(validPix, origDetPix), return_counts = True)\n",
    "origAllDetPixCounts = origAllDetPixCounts - 1"
   ]
  },
  {
   "cell_type": "code",
   "execution_count": 18,
   "id": "e720dee1-eba2-4b60-9773-e06b1e03349a",
   "metadata": {},
   "outputs": [],
   "source": [
    "origCondFiles = balrConfig.test1CondFiles\n",
    "\n",
    "origCondMaps = []\n",
    "\n",
    "# This loops over every condition file\n",
    "for condFile in origCondFiles:\n",
    "    condData = fitsio.read(condFile) # This reads in the data\n",
    "    origCondMaps.append(condData['SIGNAL']) # Only stores the values that are in pixels with injections\n",
    "\n",
    "origCondMaps = np.array(origCondMaps)"
   ]
  },
  {
   "cell_type": "code",
   "execution_count": 3,
   "id": "07303039-f5ec-43bc-b626-98aeff322e0f",
   "metadata": {},
   "outputs": [],
   "source": [
    "persToUse = np.logspace(1, 2, 20)"
   ]
  },
  {
   "cell_type": "code",
   "execution_count": 20,
   "id": "c00b0907-652d-4e1c-bba1-6f2e8aa510de",
   "metadata": {},
   "outputs": [],
   "source": [
    "def mostSigInd(y):\n",
    "    maxSquaredDiff = 0\n",
    "    index = -1\n",
    "    \n",
    "    maxSingError = np.max(np.abs(y - 1))\n",
    "    \n",
    "    if maxSingError <= cutOffPercent:\n",
    "        return index, maxSingError\n",
    "    \n",
    "    for i in range(len(y)):\n",
    "        yi = y[i]\n",
    "        \n",
    "        diff = np.sum((yi - 1)**2)\n",
    "        \n",
    "        if diff > maxSquaredDiff:\n",
    "            maxSquaredDiff = diff\n",
    "            index = i\n",
    "            \n",
    "    return index, maxSingError"
   ]
  },
  {
   "cell_type": "code",
   "execution_count": 21,
   "id": "d7b5abce-78c4-4073-a968-bbe64afddd34",
   "metadata": {},
   "outputs": [
    {
     "name": "stdout",
     "output_type": "stream",
     "text": [
      "0.546: 0.06200006231206517\n",
      "0.616: 0.055612566644168346\n",
      "0.695: 0.05558755064896631\n",
      "0.785: 0.053055497253148454\n",
      "0.886: 0.05180263255307426\n",
      "1.0: 0.04556166567524341\n"
     ]
    }
   ],
   "source": [
    "allPixFile = balrConfig.test1AllPixFile\n",
    "\n",
    "origInjData = fitsio.read(allPixFile)\n",
    "\n",
    "origInjPix = hp.ang2pix(res, origInjData['RA'], origInjData['DEC'], nest = True, lonlat = True)\n",
    "origValidPix = np.unique(origInjPix)\n",
    "\n",
    "# Begin Comment Region\n",
    "# testSubset = np.full(len(origValidPix), False, dtype = bool)\n",
    "# testSubset[0:int(0.2*len(testSubset))] = True\n",
    "# np.random.shuffle(testSubset)\n",
    "# testPixels = origValidPix[testSubset]\n",
    "# End Comment Region\n",
    "\n",
    "origInjPix = np.sort(origInjPix)\n",
    "\n",
    "# Begin Comment Region\n",
    "# injTestInds = np.isin(origInjPix, testPixels)\n",
    "# potentialInjTrainInds = ~injTestInds\n",
    "# End Comment Region\n",
    "\n",
    "# Everything from here until the main loop is to generate matchInds\n",
    "\n",
    "origInjPixUnique, origInjPixCounts = np.unique(origInjPix, return_counts = True)\n",
    "\n",
    "matchInds = np.zeros(len(origDetPix), dtype = int)\n",
    "\n",
    "startInjInds = np.append(np.array([0]), np.cumsum(origInjPixCounts)[:-1])\n",
    "\n",
    "startDetInds = np.append(np.array([0]), np.cumsum(origAllDetPixCounts)[:-1])\n",
    "\n",
    "for i in np.arange(len(origAllDetPixCounts)):\n",
    "    if origAllDetPixCounts[i] == 0:\n",
    "        continue\n",
    "    matchInds[startDetInds[i]: startDetInds[i] + origAllDetPixCounts[i]] = np.arange(origAllDetPixCounts[i]).astype(int) + startInjInds[i]\n",
    "    \n",
    "for perObjectsToUse in persToUse:\n",
    "    \n",
    "    if perObjectsToUse < 49:\n",
    "        continue\n",
    "    \n",
    "    includeInds = np.full(len(origInjPix), False, dtype = bool)\n",
    "    includeInds[0:int((float(perObjectsToUse)*len(includeInds)) / 100)] = True\n",
    "    np.random.shuffle(includeInds)\n",
    "    \n",
    "    # Begin Comment Region\n",
    "#     includeInds = np.full(np.sum(potentialInjTrainInds), False, dtype = bool)\n",
    "#     includeInds[0:int((float(perObjectsToUse)*len(includeInds)) / 100)] = True\n",
    "#     np.random.shuffle(includeInds)\n",
    "    \n",
    "#     injTrainInds = np.copy(potentialInjTrainInds)\n",
    "#     injTrainInds[np.where(injTrainInds)[0]] = includeInds\n",
    "    # End Comment Region\n",
    "    \n",
    "    detPix = origDetPix[includeInds[matchInds]]\n",
    "    injPix = origInjPix[includeInds]\n",
    "    \n",
    "    # Begin Comment Region\n",
    "#     detPixTest = origDetPix[injTestInds[matchInds]]\n",
    "#     injPixTest = origInjPix[injTestInds]\n",
    "    \n",
    "#     detPixTrain = origDetPix[injTrainInds[matchInds]]\n",
    "#     injPixTrain = origInjPix[injTrainInds]\n",
    "    \n",
    "#     detPix = np.sort(np.append(detPixTest, detPixTrain))\n",
    "#     injPix = np.sort(np.append(injPixTest, injPixTrain))\n",
    "    # End Comment Region\n",
    "\n",
    "    validPix =  np.unique(injPix)\n",
    "    \n",
    "    condCrop = np.isin(origValidPix, validPix)\n",
    "    \n",
    "    constantTrainPixIndicator, origDetPixCounts = np.unique(np.append(validPix, detPix), return_counts = True)\n",
    "    origDetPixCounts = origDetPixCounts - 1\n",
    "    \n",
    "    condMaps = []\n",
    "\n",
    "    # This loops over every condition file\n",
    "    for origCondMap in origCondMaps:\n",
    "        condMaps.append(origCondMap[condCrop]) # Only stores the values that are in pixels with injections\n",
    "\n",
    "    condMaps = np.array(condMaps)\n",
    "    \n",
    "    trainInds = np.full(len(condMaps[0]), False, dtype = bool)\n",
    "    trainInds[0:int(0.8*len(trainInds))] = True\n",
    "    np.random.shuffle(trainInds)\n",
    "    \n",
    "    # Begin Comment Region\n",
    "    # trainInds = np.isin(constantTrainPixIndicator, np.unique(injPixTrain))\n",
    "    # End Comment Region\n",
    "    \n",
    "    # trainInds = np.isin(constantTrainPixIndicator, np.unique(injPixTrain))\n",
    "    \n",
    "    aveDetTrain = np.sum(origDetPixCounts[trainInds]) / len(origDetPixCounts[trainInds])\n",
    "\n",
    "    sortInds = []\n",
    "    for i in range(len(condMaps)):\n",
    "        sortInds.append(condMaps[i][trainInds].argsort())\n",
    "    sortInds = np.array(sortInds)\n",
    "    \n",
    "    binIndLims = [0]\n",
    "\n",
    "    for j in range(binNum):\n",
    "        binIndLims.append(int((np.sum(trainInds) - binIndLims[-1]) / (binNum - j)) + (binIndLims[-1]))\n",
    "        \n",
    "    xBins = []\n",
    "\n",
    "    for i in range(len(condMaps)):\n",
    "        cond_Map_Sort = condMaps[i][trainInds][sortInds[i][::1]]\n",
    "        condBins = []\n",
    "        for j in range(binNum):\n",
    "            condBins.append(cond_Map_Sort[binIndLims[j]:binIndLims[j+1]])\n",
    "        indXBin = []\n",
    "\n",
    "        for j in range(binNum):\n",
    "            indXBin.append(np.sum(condBins[j]) / len(condBins[j]))\n",
    "\n",
    "        xBins.append(np.array(indXBin))\n",
    "\n",
    "    xBins = np.array(xBins)\n",
    "    \n",
    "    yBinsOrig = []\n",
    "    for i in range(len(condMaps)):\n",
    "        detSort = origDetPixCounts[trainInds][sortInds[i][::1]]\n",
    "        detBins = []\n",
    "        for j in range(binNum):\n",
    "            detBins.append(detSort[binIndLims[j]:binIndLims[j+1]])\n",
    "        indYBinOrig = []\n",
    "\n",
    "        for j in range(binNum):\n",
    "            indYBinOrig.append(np.sum(detBins[j]) / (aveDetTrain * len(detBins[j])))\n",
    "\n",
    "        yBinsOrig.append(np.array(indYBinOrig))\n",
    "\n",
    "    yBinsOrig = np.array(yBinsOrig)\n",
    "    \n",
    "    detPixCounts = np.copy(origDetPixCounts)\n",
    "    \n",
    "    allErrors = []\n",
    "\n",
    "    while(True):\n",
    "\n",
    "        yBins = []\n",
    "        for i in range(len(condMaps)):\n",
    "            detSort = detPixCounts[trainInds][sortInds[i][::1]]\n",
    "            detBins = []\n",
    "            for j in range(binNum):\n",
    "                detBins.append(detSort[binIndLims[j]:binIndLims[j+1]])\n",
    "            indYBin = []\n",
    "\n",
    "            for j in range(binNum):\n",
    "                indYBin.append(np.sum(detBins[j]) / (aveDetTrain * len(detBins[j])))\n",
    "\n",
    "            yBins.append(np.array(indYBin))\n",
    "\n",
    "        yBins = np.array(yBins)\n",
    "\n",
    "        index, maxErr = mostSigInd(yBins)\n",
    "        if index == -1:\n",
    "            break\n",
    "\n",
    "        allErrors.append(maxErr)\n",
    "\n",
    "        corrFunc = inter.interp1d(xBins[index], yBins[index], bounds_error = False, fill_value = (yBins[index][0], yBins[index][-1]))\n",
    "\n",
    "        detPixCounts = detPixCounts / (corrFunc(condMaps[index]))\n",
    "\n",
    "        detPixCounts = detPixCounts * aveDetTrain / (np.sum(detPixCounts[trainInds]) / len(detPixCounts[trainInds]))\n",
    "        \n",
    "    binIndLims = [0]\n",
    "\n",
    "    for j in range(binNum):\n",
    "        binIndLims.append(int((np.sum(~trainInds) - binIndLims[-1]) / (binNum - j)) + (binIndLims[-1]))\n",
    "        \n",
    "    condMaxErrors = []\n",
    "    \n",
    "    aveDetTest = np.sum(detPixCounts[~trainInds]) / len(detPixCounts[~trainInds])\n",
    "\n",
    "    for condInd in range(len(condMaps)):\n",
    "        condMap = condMaps[condInd]\n",
    "        condSortInds = condMap[~trainInds].argsort()\n",
    "\n",
    "        detStarTemp = detPixCounts[~trainInds][condSortInds[::1]]\n",
    "\n",
    "        detBins = []\n",
    "\n",
    "        for j in range(10):\n",
    "            detBins.append(detStarTemp[binIndLims[j]:binIndLims[j+1]])\n",
    "\n",
    "        yBinCond = []\n",
    "\n",
    "        for j in range(10):\n",
    "            yBinCond.append(np.sum(detBins[j]) / (aveDetTest * len(detBins[j])))\n",
    "\n",
    "        yBinCond = np.array(yBinCond)\n",
    "\n",
    "        condMaxErrors.append(np.max(np.abs(yBinCond - 1)))\n",
    "        \n",
    "    condErrorsFile = balrConfig.test1cDir + '22.9MagCut/' + str(round(perObjectsToUse / 100, 3)) + '_Cond_Errors_' + str(cutOffPercent) + '.fits'\n",
    "    my_table = Table()\n",
    "    my_table['Errors'] = condMaxErrors\n",
    "    my_table.write(condErrorsFile, overwrite = True)\n",
    "    print(str(round(perObjectsToUse / 100, 3)) + ': ' + str(np.average(condMaxErrors)))"
   ]
  },
  {
   "cell_type": "code",
   "execution_count": 4,
   "id": "f34b0daa-00b9-4e93-978e-23c753f5450c",
   "metadata": {},
   "outputs": [],
   "source": [
    "maxDevs = []\n",
    "for per in persToUse:\n",
    "    file = balrConfig.test1cDir + '22.9_23.9MagCut/' + str(round(per / 100, 3)) + '_Cond_Errors_' + str(0.01) + '.fits'\n",
    "    maxDevs.append(fitsio.read(file)['Errors'])"
   ]
  },
  {
   "cell_type": "code",
   "execution_count": 5,
   "id": "06ee6d1d-fe05-4868-a7bb-e30f67e9946e",
   "metadata": {},
   "outputs": [],
   "source": [
    "aveMaxDev = []\n",
    "for maxDev in maxDevs:\n",
    "    aveMaxDev.append(np.average(maxDev))"
   ]
  },
  {
   "cell_type": "code",
   "execution_count": 6,
   "id": "8a04d9a2-7547-428d-aff5-e4999e262a30",
   "metadata": {},
   "outputs": [],
   "source": [
    "def func(x, C, b, k):\n",
    "    return C*(x**(-1*k)) + b"
   ]
  },
  {
   "cell_type": "code",
   "execution_count": 7,
   "id": "a7eefbf3-5940-4290-a8ad-aefd79e1cb7f",
   "metadata": {},
   "outputs": [],
   "source": [
    "popt, pcov = sc.optimize.curve_fit(func, persToUse, aveMaxDev, bounds=([0., 0., 0], [20, 0.1, 2]))"
   ]
  },
  {
   "cell_type": "code",
   "execution_count": 8,
   "id": "3bb992eb-5780-42d5-a47f-0ab09b2cb25d",
   "metadata": {},
   "outputs": [
    {
     "data": {
      "text/plain": [
       "array([7.68591841e-01, 2.16808064e-09, 5.85219900e-01])"
      ]
     },
     "execution_count": 8,
     "metadata": {},
     "output_type": "execute_result"
    }
   ],
   "source": [
    "popt"
   ]
  },
  {
   "cell_type": "code",
   "execution_count": 9,
   "id": "a4daca01-7794-46cd-bfcd-7c8c5c776b95",
   "metadata": {},
   "outputs": [
    {
     "data": {
      "text/plain": [
       "array([0.08658027, 0.01351912, 0.07258358])"
      ]
     },
     "execution_count": 9,
     "metadata": {},
     "output_type": "execute_result"
    }
   ],
   "source": [
    "perr = np.sqrt(np.diag(pcov))\n",
    "perr"
   ]
  },
  {
   "cell_type": "code",
   "execution_count": 12,
   "id": "b68a4900-720f-425c-a862-030eca031674",
   "metadata": {},
   "outputs": [
    {
     "data": {
      "image/png": "[encoded data removed]",
      "text/plain": [
       "<Figure size 800x600 with 1 Axes>"
      ]
     },
     "metadata": {},
     "output_type": "display_data"
    }
   ],
   "source": [
    "plt.figure()\n",
    "plt.scatter(persToUse, aveMaxDev, zorder = 3, label = 'Calculated')\n",
    "plt.plot(np.linspace(0.01, 100, 10000), func(np.linspace(0.01, 100, 10000), *popt), color = 'r', zorder = 3, label = 'Fit')\n",
    "plt.text(20, 0.225, r'$y = Cx^{-k} + b$', bbox={'facecolor': 'white', 'alpha': 1, 'pad': 10}, zorder = 3)\n",
    "plt.legend()\n",
    "plt.ylim([0, 0.25])\n",
    "plt.xlim([0, 100])\n",
    "plt.grid(zorder = 0)\n",
    "plt.ylabel('Average Maximum Deviation')\n",
    "plt.xlabel('Percentage of Balrog Stars Used')\n",
    "plt.title(r'$22.9 \\leq r \\leq 23.9$ Magnitude Bin')\n",
    "plt.show()"
   ]
  },
  {
   "cell_type": "code",
   "execution_count": 29,
   "id": "7a36acc5-7ca2-45ac-be5e-90b37c0ea006",
   "metadata": {},
   "outputs": [],
   "source": [
    "x_test = np.linspace(100, 500, 10000)"
   ]
  },
  {
   "cell_type": "code",
   "execution_count": 30,
   "id": "47eb2ee3-02ad-4d53-abd2-558c7ef6f05c",
   "metadata": {},
   "outputs": [],
   "source": [
    "y_test = func(x_test, *popt)"
   ]
  },
  {
   "cell_type": "code",
   "execution_count": 31,
   "id": "8057d35b-aad8-40e3-b7f1-b6f9d075e211",
   "metadata": {},
   "outputs": [
    {
     "name": "stdout",
     "output_type": "stream",
     "text": [
      "302.14021402140213\n"
     ]
    }
   ],
   "source": [
    "if len(np.where(y_test < 0.03)[0]) == 0:\n",
    "    print('Too High Precision')\n",
    "else:\n",
    "    print(x_test[np.where(y_test < 0.03)[0][0]])"
   ]
  },
  {
   "cell_type": "code",
   "execution_count": 32,
   "id": "e6bb5500-db88-4361-b95d-da90f9cf3056",
   "metadata": {},
   "outputs": [
    {
     "data": {
      "text/plain": [
       "0.025835271370177378"
      ]
     },
     "execution_count": 32,
     "metadata": {},
     "output_type": "execute_result"
    }
   ],
   "source": [
    "y_test[-1]"
   ]
  },
  {
   "cell_type": "code",
   "execution_count": null,
   "id": "17281721-6e44-4345-bed4-1929e30c2b17",
   "metadata": {},
   "outputs": [],
   "source": []
  }
 ],
 "metadata": {
  "kernelspec": {
   "display_name": "Python 3 (ipykernel)",
   "language": "python",
   "name": "python3"
  },
  "language_info": {
   "codemirror_mode": {
    "name": "ipython",
    "version": 3
   },
   "file_extension": ".py",
   "mimetype": "text/x-python",
   "name": "python",
   "nbconvert_exporter": "python",
   "pygments_lexer": "ipython3",
   "version": "3.9.12"
  }
 },
 "nbformat": 4,
 "nbformat_minor": 5
}
