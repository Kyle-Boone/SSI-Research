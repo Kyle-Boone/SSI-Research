{
 "cells": [
  {
   "cell_type": "code",
   "execution_count": 1,
   "id": "84417d0b-89c6-4ef6-add5-3d20dc062007",
   "metadata": {},
   "outputs": [],
   "source": [
    "import numpy as np\n",
    "from numpy import savetxt\n",
    "from numpy import loadtxt\n",
    "import fitsio\n",
    "import healpy as hp\n",
    "import matplotlib.pyplot as plt\n",
    "import Config\n",
    "from astropy.table import Table"
   ]
  },
  {
   "cell_type": "code",
   "execution_count": 2,
   "id": "6c0ce31e-9d79-4991-8465-4a1da54f7111",
   "metadata": {},
   "outputs": [],
   "source": [
    "condFiles = Config.files\n",
    "conditions = Config.conditions"
   ]
  },
  {
   "cell_type": "code",
   "execution_count": 3,
   "id": "bab989aa-543d-41a5-9e69-54404d7270d4",
   "metadata": {},
   "outputs": [],
   "source": [
    "# my_table = Table()\n",
    "# my_table['PIXEL'] = validPix\n",
    "# my_table.write(\"/hdfs/bechtol/balrog/y3/y3a2_survey_conditions_maps/Kyle_Stuff/training/Valid_4096_Pixels.fits\", overwrite = True)"
   ]
  },
  {
   "cell_type": "code",
   "execution_count": 4,
   "id": "325f2cba-6630-45f5-9cf2-372496121b21",
   "metadata": {},
   "outputs": [],
   "source": [
    "validPix = fitsio.read(\"/hdfs/bechtol/balrog/y3/y3a2_survey_conditions_maps/Kyle_Stuff/training/Valid_4096_Pixels.fits\")['PIXEL']"
   ]
  },
  {
   "cell_type": "code",
   "execution_count": 5,
   "id": "c03b61d9-99d2-47f2-ac25-2b06f429b966",
   "metadata": {},
   "outputs": [],
   "source": [
    "for i in range(len(Config.files) - 1):\n",
    "    condData = fitsio.read(condFiles[i]) # This reads in the data\n",
    "    condSigExt = np.full(12*(4096**2), -1.6375e+30) # Gives a default value\n",
    "    condSigExt[condData['PIXEL']] = condData['SIGNAL'] # Changes all valid pixels to their corresponding signals\n",
    "    condSig = condSigExt[validPix]\n",
    "    my_table = Table()\n",
    "    my_table['SIGNAL'] = condSig\n",
    "    my_table.write('/hdfs/bechtol/balrog/y3/y3a2_survey_conditions_maps/Kyle_Stuff/training/' + conditions[i] + '.fits', overwrite = True)"
   ]
  },
  {
   "cell_type": "code",
   "execution_count": 6,
   "id": "414c47e4-ceb5-4447-b591-6d8d7557dee7",
   "metadata": {},
   "outputs": [],
   "source": [
    "stelDensExt = fitsio.read(condFiles[-1])['I'].flatten() # Loads in the stellar density\n",
    "condSig = stelDensExt[validPix]\n",
    "my_table = Table()\n",
    "my_table['SIGNAL'] = condSig\n",
    "my_table.write('/hdfs/bechtol/balrog/y3/y3a2_survey_conditions_maps/Kyle_Stuff/training/' + conditions[-1] + '.fits', overwrite = True)"
   ]
  }
 ],
 "metadata": {
  "kernelspec": {
   "display_name": "Python 3 (ipykernel)",
   "language": "python",
   "name": "python3"
  },
  "language_info": {
   "codemirror_mode": {
    "name": "ipython",
    "version": 3
   },
   "file_extension": ".py",
   "mimetype": "text/x-python",
   "name": "python",
   "nbconvert_exporter": "python",
   "pygments_lexer": "ipython3",
   "version": "3.9.12"
  }
 },
 "nbformat": 4,
 "nbformat_minor": 5
}
