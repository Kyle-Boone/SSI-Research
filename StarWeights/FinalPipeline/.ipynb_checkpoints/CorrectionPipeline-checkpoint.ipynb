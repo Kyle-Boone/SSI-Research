{
 "cells": [
  {
   "cell_type": "markdown",
   "id": "5fa99cd5-256b-48c0-8d8a-628ca0857526",
   "metadata": {},
   "source": [
    "# Final Pipeline\n",
    "\n",
    "Goal is to get number of objects that would have been called stars if survey properties were constant. This will use the binning approach to calculating probability functions, and no PCA will be used, which should hopefully speed up the process substantially, especially when expanding to the full sky.\n",
    "\n",
    "Note, everything is done at a full 4096 resolution."
   ]
  },
  {
   "cell_type": "markdown",
   "id": "dac27714-6da2-4e3b-98a5-37fc12852e80",
   "metadata": {},
   "source": [
    "## Imports"
   ]
  },
  {
   "cell_type": "code",
   "execution_count": 1,
   "id": "4c2dadf8-6a8b-4043-84ce-1c4a52311cae",
   "metadata": {},
   "outputs": [],
   "source": [
    "import numpy as np\n",
    "import matplotlib.pyplot as plt\n",
    "import fitsio\n",
    "import astropy.io.fits as fits\n",
    "from astropy.table import Table\n",
    "import healpy as hp\n",
    "import healsparse as hsp\n",
    "import skyproj\n",
    "from os import listdir\n",
    "import astropy.units as u\n",
    "from astropy.coordinates import SkyCoord\n",
    "import Config\n",
    "import StellarConfig as strConfig\n",
    "from CropSurveyProperties import *\n",
    "from GetObjects import *\n",
    "from Classification import *\n",
    "from Detection import *"
   ]
  },
  {
   "cell_type": "markdown",
   "id": "7a43d40b-29b6-4f19-b48a-ac247dece3c1",
   "metadata": {},
   "source": [
    "## Hyper Parameters"
   ]
  },
  {
   "cell_type": "code",
   "execution_count": 2,
   "id": "efcc41d5-1bad-4442-90ff-c2ed84e6560b",
   "metadata": {},
   "outputs": [],
   "source": [
    "res = strConfig.res\n",
    "numMagBins = strConfig.numMagBins\n",
    "numBins = strConfig.numBins\n",
    "classCutoff = strConfig.classCutoff\n",
    "goldCols = strConfig.goldCols\n",
    "gCut = strConfig.gCut\n",
    "magBins = strConfig.magBins\n",
    "cutOffPercent = strConfig.cutOffPercent\n",
    "binNum = strConfig.binNum\n",
    "\n",
    "deepCols = strConfig.deepCols"
   ]
  },
  {
   "cell_type": "markdown",
   "id": "b2a50aa7-a65b-4481-abfe-6d54845b9de0",
   "metadata": {},
   "source": [
    "## Isochrone Configuration"
   ]
  },
  {
   "cell_type": "code",
   "execution_count": 3,
   "id": "f2a6a0b0-2fe5-4377-aa34-aa13437f5558",
   "metadata": {},
   "outputs": [],
   "source": [
    "path = strConfig.path\n",
    "mu = strConfig.mu"
   ]
  },
  {
   "cell_type": "markdown",
   "id": "473465a2-36ec-4ac0-8de8-c2c62db9e6a1",
   "metadata": {},
   "source": [
    "## Files"
   ]
  },
  {
   "cell_type": "code",
   "execution_count": 4,
   "id": "8684c61e-c3e1-4193-b8e3-7a34da19ced5",
   "metadata": {},
   "outputs": [],
   "source": [
    "matBalrGalaFile = strConfig.matBalrGalaFile\n",
    "detBalrGalaFile = strConfig.detBalrGalaFile\n",
    "matBalrStarFile = strConfig.matBalrStarFile\n",
    "detBalrStarFile = strConfig.detBalrStarFile\n",
    "\n",
    "matGalaFile = strConfig.matGalaFile\n",
    "detGalaAllPosFile = strConfig.detGalaAllPosFile\n",
    "\n",
    "matStarFile = strConfig.matStarFile\n",
    "detStarAllPosFile = strConfig.detStarAllPosFile\n",
    "\n",
    "deepFiles = strConfig.deepFiles\n",
    "\n",
    "origCondFiles = strConfig.origCondFiles\n",
    "stelFile = strConfig.stelFile\n",
    "pixFile = strConfig.pixFile\n",
    "condFiles = strConfig.condFiles\n",
    "\n",
    "galaExtrFiles = strConfig.galaExtrFiles\n",
    "galaTrainFiles = strConfig.galaTrainFiles\n",
    "galaProbFiles = strConfig.galaProbFiles\n",
    "\n",
    "galaDetAsStarExtrFiles = strConfig.galaDetAsStarExtrFiles\n",
    "galaDetAsStarTrainFiles = strConfig.galaDetAsStarTrainFiles\n",
    "galaDetAsStarProbFiles = strConfig.galaDetAsStarProbFiles\n",
    "\n",
    "galaDetAsGalaExtrFiles = strConfig.galaDetAsGalaExtrFiles\n",
    "galaDetAsGalaTrainFiles = strConfig.galaDetAsGalaTrainFiles\n",
    "galaDetAsGalaProbFiles = strConfig.galaDetAsGalaProbFiles\n",
    "\n",
    "starExtrFiles = strConfig.starExtrFiles\n",
    "starTrainFiles = strConfig.starTrainFiles\n",
    "starProbFiles = strConfig.starProbFiles\n",
    "\n",
    "starDetAsStarExtrFiles = strConfig.starDetAsStarExtrFiles\n",
    "starDetAsStarTrainFiles = strConfig.starDetAsStarTrainFiles\n",
    "starDetAsStarProbFiles = strConfig.starDetAsStarProbFiles\n",
    "\n",
    "starDetAsGalaExtrFiles = strConfig.starDetAsGalaExtrFiles\n",
    "starDetAsGalaTrainFiles = strConfig.starDetAsGalaTrainFiles\n",
    "starDetAsGalaProbFiles = strConfig.starDetAsGalaProbFiles\n",
    "\n",
    "goldStarFiles = strConfig.goldStarFiles\n",
    "goldGalaFiles = strConfig.goldGalaFiles\n",
    "\n",
    "goldObjectsDir = strConfig.goldObjectsDir\n",
    "goldObjectsFiles = strConfig.goldObjectsFiles\n",
    "\n",
    "goldMoreInfoStarFiles = strConfig.goldMoreInfoStarFiles\n",
    "goldMoreInfoGalaFiles = strConfig.goldMoreInfoGalaFiles\n",
    "\n",
    "calibrationFile = strConfig.calibrationFile"
   ]
  },
  {
   "cell_type": "markdown",
   "id": "051f5d9c-ee0c-4940-a352-801a79d996b0",
   "metadata": {},
   "source": [
    "## Get Pixels and Conditions"
   ]
  },
  {
   "cell_type": "code",
   "execution_count": 5,
   "id": "ace1d8b5-f5aa-4231-bf7f-8c346df34e67",
   "metadata": {},
   "outputs": [],
   "source": [
    "# validPixCropData(origCondFiles, stelFile, pixFile, condFiles)"
   ]
  },
  {
   "cell_type": "code",
   "execution_count": 6,
   "id": "ca46a3cb-0ada-4867-a50c-1064ea2648bd",
   "metadata": {},
   "outputs": [],
   "source": [
    "validPix = fitsio.read(pixFile)['PIXEL']\n",
    "pixCheck = np.full(12*(res**2), False, dtype = bool)\n",
    "pixCheck[validPix] = True"
   ]
  },
  {
   "cell_type": "markdown",
   "id": "fff813a4-16e2-4c69-a8e6-3e8495a5cece",
   "metadata": {},
   "source": [
    "## Get Synthetic Objects"
   ]
  },
  {
   "cell_type": "code",
   "execution_count": 7,
   "id": "c87b5c5d-61d1-4375-8769-d829632f82fe",
   "metadata": {},
   "outputs": [],
   "source": [
    "# Get Stars:\n",
    "# getMatStars(path, mu, matBalrStarFile, detBalrStarFile, pixFile, matStarFile, gCut, classCutoff)\n",
    "# getDetStarPositions(detBalrStarFile, pixFile, detStarAllPosFile)\n",
    "\n",
    "# Get Galaxies:\n",
    "# getMatGalas(path, mu, deepFiles, matBalrGalaFile, detBalrGalaFile, pixFile, matGalaFile, gCut, classCutoff)\n",
    "# getDetGalaPositions(deepFiles, detBalrGalaFile, pixFile, detGalaAllPosFile)"
   ]
  },
  {
   "cell_type": "markdown",
   "id": "5d03a706-e27a-4360-ad1c-3f380df7f31f",
   "metadata": {},
   "source": [
    "## Training"
   ]
  },
  {
   "cell_type": "markdown",
   "id": "4862b5cd-eee8-4473-a671-32a53dd5ae36",
   "metadata": {},
   "source": [
    "### Correct Classification Probabilities:"
   ]
  },
  {
   "cell_type": "code",
   "execution_count": 8,
   "id": "3267ee3d-1041-40f9-9a37-b7c527c8bf4a",
   "metadata": {},
   "outputs": [],
   "source": [
    "# Stars\n",
    "# singleCorrectionTrain(matStarFile, condFiles, pixFile, magBins, starTrainFiles, starProbFiles, starExtrFiles, numBins, res, True, classCutoff, binNum, cutOffPercent)\n",
    "# # fullSky(pixFile, condFiles, np.array([starTrainFiles[2]]), np.array([starProbFiles[2]]), np.array([starExtrFiles[2]]), res, numBins)\n",
    "\n",
    "# Galaxies\n",
    "# singleCorrectionTrain(matGalaFile, condFiles, pixFile, magBins, galaTrainFiles, galaProbFiles, galaExtrFiles, numBins, res, False, classCutoff, binNum, cutOffPercent)\n",
    "# # fullSky(pixFile, condFiles, np.array([galaTrainFiles[1], galaTrainFiles[2]]), np.array([galaProbFiles[1], galaProbFiles[2]]), np.array([galaExtrFiles[1], galaExtrFiles[2]]), res, numBins)"
   ]
  },
  {
   "cell_type": "code",
   "execution_count": 9,
   "id": "e0ddd1c3-12d3-4ad1-b7a7-1e67dd974666",
   "metadata": {
    "jupyter": {
     "source_hidden": true
    },
    "tags": []
   },
   "outputs": [],
   "source": [
    "# aveAcc = loadtxt(galaTrainFiles[0][0:-5] + '_Ave_Acc.csv', delimiter=',')\n",
    "# aveAcc = 1 * aveAcc\n",
    "\n",
    "# prob_table = Table()\n",
    "# prob_table['SIGNAL'] = aveAcc * np.ones(len(validPix))\n",
    "# prob_table.write(galaProbFiles[0], overwrite = True) \n",
    "\n",
    "# ext_table = Table()\n",
    "# ext_table['EXTRAPOLATIONS'] = np.zeros(len(validPix))\n",
    "# ext_table.write(galaExtrFiles[0], overwrite = True)"
   ]
  },
  {
   "cell_type": "markdown",
   "id": "fc2cd6c1-d888-4509-8b80-514ba1ceea25",
   "metadata": {},
   "source": [
    "### Detection Rate Variations:"
   ]
  },
  {
   "cell_type": "code",
   "execution_count": 10,
   "id": "ff27d508-3f16-424a-b589-a0f3e1a22705",
   "metadata": {},
   "outputs": [],
   "source": [
    "# singleCorrectionTrainDet(detStarAllPosFile, matStarFile, condFiles, pixFile, magBins, starDetAsStarTrainFiles, starDetAsStarProbFiles, starDetAsStarExtrFiles, numBins, res, True, classCutoff, binNum, cutOffPercent)\n",
    "# progresses = [False, True, True]\n",
    "# startInds = [0, 25, 50, 75]\n",
    "# endInds = [24, 49, 74, 99]\n",
    "\n",
    "# for i in range(3):\n",
    "#     for j in range(4):\n",
    "#         fullSkyDet(pixFile, condFiles, np.array([starDetAsStarTrainFiles[i]]), np.array([starDetAsStarProbFiles[i]]), np.array([starDetAsStarExtrFiles[i]]), res, numBins, startInd = startInds[j], endInd = endInds[j], showProgress = progresses[i])"
   ]
  },
  {
   "cell_type": "code",
   "execution_count": 11,
   "id": "d457c50b-a5f2-4a8c-ad57-921e7039170d",
   "metadata": {},
   "outputs": [],
   "source": [
    "# singleCorrectionTrainDet(detGalaAllPosFile, matGalaFile, condFiles, pixFile, magBins, galaDetAsStarTrainFiles, galaDetAsStarProbFiles, galaDetAsStarExtrFiles, numBins, res, True, classCutoff, binNum, cutOffPercent)\n",
    "# progresses = [True, False, False]\n",
    "# startInds = 2 * np.arange(50)\n",
    "# endInds = (2 * np.arange(50)) + 1\n",
    "\n",
    "# for i in range(3):\n",
    "#     for j in range(50):\n",
    "#         fullSkyDet(pixFile, condFiles, np.array([galaDetAsStarTrainFiles[i]]), np.array([galaDetAsStarProbFiles[i]]), np.array([galaDetAsStarExtrFiles[i]]), res, numBins, startInd = startInds[j], endInd = endInds[j], showProgress = progresses[i])"
   ]
  },
  {
   "cell_type": "code",
   "execution_count": 12,
   "id": "e5b5101c-2989-498b-8383-628c95e29ee9",
   "metadata": {},
   "outputs": [],
   "source": [
    "# singleCorrectionTrainDet(detStarAllPosFile, matStarFile, condFiles, pixFile, magBins, starDetAsGalaTrainFiles, starDetAsGalaProbFiles, starDetAsGalaExtrFiles, numBins, res, False, classCutoff, binNum, cutOffPercent, doFullSky = False)\n",
    "# progresses = [False, False, False]\n",
    "# startInds = 2 * np.arange(50)\n",
    "# endInds = (2 * np.arange(50)) + 1\n",
    "\n",
    "# for i in range(3):\n",
    "#     for j in range(50):\n",
    "#         fullSkyDet(pixFile, condFiles, np.array([starDetAsGalaTrainFiles[i]]), np.array([starDetAsGalaProbFiles[i]]), np.array([starDetAsGalaExtrFiles[i]]), res, numBins, startInd = startInds[j], endInd = endInds[j], showProgress = progresses[i])"
   ]
  },
  {
   "cell_type": "code",
   "execution_count": 13,
   "id": "6bf6bf31-1419-4743-bcd0-c30183d2b53d",
   "metadata": {},
   "outputs": [],
   "source": [
    "# singleCorrectionTrainDet(detGalaAllPosFile, matGalaFile, condFiles, pixFile, magBins, galaDetAsGalaTrainFiles, galaDetAsGalaProbFiles, galaDetAsGalaExtrFiles, numBins, res, False, classCutoff, binNum, cutOffPercent, doFullSky = False)\n",
    "# progresses = [False, False, False]\n",
    "# startInds = 2 * np.arange(50)\n",
    "# endInds = (2 * np.arange(50)) + 1\n",
    "\n",
    "# for i in range(3):\n",
    "#     for j in range(50):\n",
    "#         fullSkyDet(pixFile, condFiles, np.array([galaDetAsGalaTrainFiles[i]]), np.array([galaDetAsGalaProbFiles[i]]), np.array([galaDetAsGalaExtrFiles[i]]), res, numBins, startInd = startInds[j], endInd = endInds[j], showProgress = progresses[i])"
   ]
  },
  {
   "cell_type": "code",
   "execution_count": 18,
   "id": "4ff141fa-dab2-47e1-9c87-fee0db8a8e7f",
   "metadata": {},
   "outputs": [],
   "source": [
    "testIndices = loadtxt(starDetAsGalaTrainFiles[0][0:-5] + '_Indices.csv', delimiter=',').astype(int)"
   ]
  },
  {
   "cell_type": "code",
   "execution_count": 19,
   "id": "d407c16c-190a-41a5-8506-e6525011f37e",
   "metadata": {},
   "outputs": [
    {
     "data": {
      "text/plain": [
       "1469"
      ]
     },
     "execution_count": 19,
     "metadata": {},
     "output_type": "execute_result"
    }
   ],
   "source": [
    "len(testIndices)"
   ]
  },
  {
   "cell_type": "markdown",
   "id": "7a2bbe52-3fca-4884-a52b-1531a01fd1d5",
   "metadata": {},
   "source": [
    "## Bug Explanation:\n",
    "\n",
    "Program was crashing since this number is larger than 999, the largest number of columns possible in a fits file. If running galaxy corrections too, just split this file into two parts."
   ]
  },
  {
   "cell_type": "code",
   "execution_count": null,
   "id": "7509973d-b3cd-4f19-8977-5409b3be9b15",
   "metadata": {},
   "outputs": [],
   "source": [
    "# StarPIX = []\n",
    "# GalaPIX = []\n",
    "\n",
    "# StarRA = []\n",
    "# StarDEC = []\n",
    "\n",
    "# GalaRA = []\n",
    "# GalaDEC = []\n",
    "\n",
    "# StarRMAG = []\n",
    "# StarGMAG = []\n",
    "\n",
    "# GalaRMAG = []\n",
    "# GalaGMAG = []\n",
    "\n",
    "# for _ in range(numMagBins):\n",
    "    \n",
    "#     StarPIX.append(np.array([]))\n",
    "#     StarRA.append(np.array([]))\n",
    "#     StarDEC.append(np.array([]))\n",
    "#     StarRMAG.append(np.array([]))\n",
    "#     StarGMAG.append(np.array([]))\n",
    "    \n",
    "#     GalaPIX.append(np.array([]))\n",
    "#     GalaRA.append(np.array([]))\n",
    "#     GalaDEC.append(np.array([]))\n",
    "#     GalaRMAG.append(np.array([]))\n",
    "#     GalaGMAG.append(np.array([]))\n",
    "    \n",
    "# for j in range(len(goldObjectsFiles)):\n",
    "#     if j%100 == 0:\n",
    "#         print(j)\n",
    "#     obsData = fitsio.read(goldObjectsDir + goldObjectsFiles[j], columns = goldCols)\n",
    "#     FOREGROUND = obsData[goldCols[0]]\n",
    "#     BADREGIONS = obsData[goldCols[1]]\n",
    "#     FOOTPRINT = obsData[goldCols[2]]\n",
    "#     CLASS = obsData[goldCols[3]]\n",
    "#     GMAG = obsData[goldCols[4]]\n",
    "#     RMAG = obsData[goldCols[5]]\n",
    "#     GMAG_GALA = obsData[goldCols[6]]\n",
    "#     RMAG_GALA = obsData[goldCols[7]]\n",
    "#     RA = obsData[goldCols[8]]\n",
    "#     DEC = obsData[goldCols[9]]\n",
    "#     PIX = hp.ang2pix(res, RA, DEC, lonlat = True, nest = True)\n",
    "\n",
    "#     # General Quality Cuts\n",
    "#     qualityCut = np.where((FOREGROUND == 0) &\n",
    "#                           (BADREGIONS < 2) &\n",
    "#                           (FOOTPRINT == 1) &\n",
    "#                           (pixCheck[PIX]))[0]\n",
    "\n",
    "#     CLASS = CLASS[qualityCut]\n",
    "#     GMAG = GMAG[qualityCut]\n",
    "#     RMAG = RMAG[qualityCut]\n",
    "#     GMAG_GALA = GMAG_GALA[qualityCut]\n",
    "#     RMAG_GALA = RMAG_GALA[qualityCut]\n",
    "#     PIX = PIX[qualityCut]\n",
    "#     RA = RA[qualityCut]\n",
    "#     DEC = DEC[qualityCut]\n",
    "\n",
    "#     # Observed Star Objects\n",
    "\n",
    "#     blueStarCut = np.where((CLASS <= classCutoff) & \n",
    "#                       (CLASS >= 0) &\n",
    "#                       (GMAG < gCut))[0]\n",
    "\n",
    "#     STARRA = RA[blueStarCut]\n",
    "#     STARDEC = DEC[blueStarCut]\n",
    "#     STARPIX = PIX[blueStarCut]\n",
    "#     STARGMAG = GMAG[blueStarCut]\n",
    "#     STARRMAG = RMAG[blueStarCut]\n",
    "    \n",
    "#     for i in np.arange(numMagBins):\n",
    "        \n",
    "#         if i == 0:\n",
    "#             maxRMAG = magBins[i]\n",
    "#             magCut = np.where(STARRMAG <= maxRMAG)[0]\n",
    "#         else:\n",
    "#             minRMAG = magBins[i - 1]\n",
    "#             maxRMAG = magBins[i]\n",
    "#             magCut = np.where((STARRMAG <= maxRMAG) & (STARRMAG > minRMAG))[0]\n",
    "        \n",
    "#         magStarRa = STARRA[magCut]\n",
    "#         magStarDec = STARDEC[magCut]\n",
    "#         magStarGmag = STARGMAG[magCut]\n",
    "#         magStarRmag = STARRMAG[magCut]\n",
    "#         magStarPix = STARPIX[magCut]\n",
    "\n",
    "#         isoStarCut = Path.contains_points(path,np.vstack((magStarGmag - magStarRmag, magStarGmag - mu)).T)\n",
    "\n",
    "#         StarRA[i] = np.append(StarRA[i], magStarRa[isoStarCut])\n",
    "#         StarDEC[i] = np.append(StarDEC[i], magStarDec[isoStarCut])\n",
    "#         StarPIX[i] = np.append(StarPIX[i], magStarPix[isoStarCut])\n",
    "#         StarRMAG[i] = np.append(StarRMAG[i], magStarRmag[isoStarCut])\n",
    "#         StarGMAG[i] = np.append(StarGMAG[i], magStarGmag[isoStarCut])\n",
    "\n",
    "#     # Observed Galaxy Objects\n",
    "\n",
    "#     blueGalaCut = np.where((CLASS <= 3) & \n",
    "#                       (CLASS >= classCutoff) &\n",
    "#                       (GMAG_GALA < gCut))[0]\n",
    "\n",
    "#     GALARA = RA[blueGalaCut]\n",
    "#     GALADEC = DEC[blueGalaCut]\n",
    "#     GALAPIX = PIX[blueGalaCut]\n",
    "#     GALAGMAG = GMAG_GALA[blueGalaCut]\n",
    "#     GALARMAG = RMAG_GALA[blueGalaCut]\n",
    "    \n",
    "#     for i in np.arange(numMagBins):\n",
    "        \n",
    "#         if i == 0:\n",
    "#             maxRMAG = magBins[i]\n",
    "#             magCut = np.where(GALARMAG <= maxRMAG)[0]\n",
    "#         else:\n",
    "#             minRMAG = magBins[i - 1]\n",
    "#             maxRMAG = magBins[i]\n",
    "#             magCut = np.where((GALARMAG <= maxRMAG) & (GALARMAG > minRMAG))[0]\n",
    "        \n",
    "#         magGalaRa = GALARA[magCut]\n",
    "#         magGalaDec = GALADEC[magCut]\n",
    "#         magGalaGmag = GALAGMAG[magCut]\n",
    "#         magGalaRmag = GALARMAG[magCut]\n",
    "#         magGalaPix = GALAPIX[magCut]\n",
    "\n",
    "#         isoGalaCut = Path.contains_points(path,np.vstack((magGalaGmag - magGalaRmag, magGalaGmag - mu)).T)\n",
    "\n",
    "#         GalaRA[i] = np.append(GalaRA[i], magGalaRa[isoGalaCut])\n",
    "#         GalaDEC[i] = np.append(GalaDEC[i], magGalaDec[isoGalaCut])\n",
    "#         GalaPIX[i] = np.append(GalaPIX[i], magGalaPix[isoGalaCut])\n",
    "#         GalaRMAG[i] = np.append(GalaRMAG[i], magGalaRmag[isoGalaCut])\n",
    "#         GalaGMAG[i] = np.append(GalaGMAG[i], magGalaGmag[isoGalaCut])\n",
    "\n",
    "# for i in range(numMagBins):\n",
    "#     my_table = Table()\n",
    "#     my_table['RA'] = StarRA[i].astype(float)\n",
    "#     my_table['DEC'] = StarDEC[i].astype(float)\n",
    "#     my_table['RMAG'] = StarRMAG[i].astype(float)\n",
    "#     my_table['GMAG'] = StarGMAG[i].astype(float)\n",
    "#     my_table.write(goldMoreInfoStarFiles[i], overwrite = True)\n",
    "    \n",
    "#     my_table = Table()\n",
    "#     my_table['RA'] = GalaRA[i].astype(float)\n",
    "#     my_table['DEC'] = GalaDEC[i].astype(float)\n",
    "#     my_table['RMAG'] = GalaRMAG[i].astype(float)\n",
    "#     my_table['GMAG'] = GalaGMAG[i].astype(float)\n",
    "#     my_table.write(goldMoreInfoGalaFiles[i], overwrite = True)"
   ]
  }
 ],
 "metadata": {
  "kernelspec": {
   "display_name": "Python 3 (ipykernel)",
   "language": "python",
   "name": "python3"
  },
  "language_info": {
   "codemirror_mode": {
    "name": "ipython",
    "version": 3
   },
   "file_extension": ".py",
   "mimetype": "text/x-python",
   "name": "python",
   "nbconvert_exporter": "python",
   "pygments_lexer": "ipython3",
   "version": "3.9.12"
  }
 },
 "nbformat": 4,
 "nbformat_minor": 5
}
