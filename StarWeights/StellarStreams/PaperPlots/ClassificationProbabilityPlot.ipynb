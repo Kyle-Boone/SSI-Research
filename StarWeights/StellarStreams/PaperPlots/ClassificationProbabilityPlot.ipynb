{
 "cells": [
  {
   "cell_type": "code",
   "execution_count": 1,
   "id": "e090108d-f6e3-48ca-b5aa-8644e228a955",
   "metadata": {},
   "outputs": [],
   "source": [
    "import sys\n",
    "sys.path.insert(1, '/afs/hep.wisc.edu/home/kkboone/software/StarWeights/StellarStreams')\n",
    "\n",
    "import fitsio\n",
    "import numpy as np\n",
    "import healpy as hp\n",
    "import matplotlib.pyplot as plt\n",
    "import matplotlib.style\n",
    "import matplotlib\n",
    "from scipy import interpolate as inter\n",
    "from astropy.table import Table\n",
    "import Config\n",
    "import BalrogTestConfig as balrConfig"
   ]
  },
  {
   "cell_type": "markdown",
   "id": "8b7a4245-42df-477f-8f81-51f870fff2b3",
   "metadata": {},
   "source": [
    "# Goal:\n",
    "\n",
    "Produce a plot showing classification rates as a function of survey properties. For this, do some quality cuts, but don't do any color magnitude cuts. Maybe like stars as a function of skyvar uncertainty for the final plot."
   ]
  },
  {
   "cell_type": "code",
   "execution_count": 2,
   "id": "7436a76f-e8b8-47dc-89b8-9c59a86fa2d5",
   "metadata": {},
   "outputs": [],
   "source": [
    "detBalrStarFile = '/afs/hep.wisc.edu/bechtol-group/MegansThings/balrog_detection_catalog_sof_run2_stars_v1.4_avg_added_match_flags.fits'\n",
    "matBalrStarFile = '/afs/hep.wisc.edu/bechtol-group/MegansThings/balrog_matched_catalog_sof_run2_stars_v1.4.fits'"
   ]
  },
  {
   "cell_type": "code",
   "execution_count": 3,
   "id": "47fbc5a0-51cc-4463-a380-6abf3d5ea974",
   "metadata": {},
   "outputs": [],
   "source": [
    "matStarData = fitsio.read(matBalrStarFile, columns = ['meas_ra', 'meas_dec', 'meas_EXTENDED_CLASS_SOF', 'bal_id'])"
   ]
  },
  {
   "cell_type": "code",
   "execution_count": 4,
   "id": "9fb01b39-9fe9-4bcd-8482-480bbbaf1c96",
   "metadata": {},
   "outputs": [],
   "source": [
    "detStarData = fitsio.read(detBalrStarFile, columns = ['bal_id', 'flags_foreground', 'flags_badregions', 'flags_footprint', 'match_flag_1.5_asec'])"
   ]
  },
  {
   "cell_type": "code",
   "execution_count": 5,
   "id": "5b987379-3114-464f-9cb7-744e2cfbf15a",
   "metadata": {},
   "outputs": [],
   "source": [
    "RA = matStarData['meas_ra']\n",
    "DEC = matStarData['meas_dec']\n",
    "# This is the class that the object was measured as.\n",
    "CLASS = matStarData['meas_EXTENDED_CLASS_SOF']\n",
    "# This is the ID from the measured catalog.\n",
    "MAT_ID  = matStarData['bal_id']"
   ]
  },
  {
   "cell_type": "code",
   "execution_count": 6,
   "id": "960e53e0-052f-46f5-b4e6-2e9e3d850e63",
   "metadata": {},
   "outputs": [],
   "source": [
    "sortInds = MAT_ID.argsort()\n",
    "MAT_ID = MAT_ID[sortInds[::1]]\n",
    "RA = RA[sortInds[::1]]\n",
    "DEC = DEC[sortInds[::1]]\n",
    "CLASS = CLASS[sortInds[::1]]"
   ]
  },
  {
   "cell_type": "code",
   "execution_count": 7,
   "id": "35973bf5-31b2-43ff-b0bd-c52779cac0d1",
   "metadata": {},
   "outputs": [],
   "source": [
    "FOREGROUND = detStarData['flags_foreground']\n",
    "BADREGIONS = detStarData['flags_badregions']\n",
    "FOOTPRINT = detStarData['flags_footprint']\n",
    "ARCSECONDS = detStarData['match_flag_1.5_asec']\n",
    "FLAG_ID = detStarData['bal_id']"
   ]
  },
  {
   "cell_type": "code",
   "execution_count": 8,
   "id": "a07ea0c2-9374-41fc-8fc1-d01ee006467f",
   "metadata": {},
   "outputs": [],
   "source": [
    "sortInds = FLAG_ID.argsort()\n",
    "FLAG_ID = FLAG_ID[sortInds[::1]]\n",
    "FOREGROUND = FOREGROUND[sortInds[::1]]\n",
    "BADREGIONS = BADREGIONS[sortInds[::1]]\n",
    "FOOTPRINT = FOOTPRINT[sortInds[::1]]\n",
    "ARCSECONDS = ARCSECONDS[sortInds[::1]]"
   ]
  },
  {
   "cell_type": "code",
   "execution_count": 9,
   "id": "85cb142b-a08c-410d-a393-ffdfa1be8ec5",
   "metadata": {},
   "outputs": [],
   "source": [
    "cropInds = np.isin(FLAG_ID, MAT_ID)\n",
    "            \n",
    "FOREGROUND = FOREGROUND[cropInds]\n",
    "BADREGIONS = BADREGIONS[cropInds]\n",
    "FOOTPRINT = FOOTPRINT[cropInds]\n",
    "ARCSECONDS = ARCSECONDS[cropInds]"
   ]
  },
  {
   "cell_type": "code",
   "execution_count": 10,
   "id": "0327c28f-2e12-49b0-b34f-c63e31c12a3d",
   "metadata": {},
   "outputs": [],
   "source": [
    "cutIndices = np.where((FOREGROUND == 0) & \n",
    "                        (BADREGIONS < 2) & \n",
    "                        (FOOTPRINT == 1) & \n",
    "                        (ARCSECONDS < 2) &\n",
    "                        (CLASS >= 0))[0]"
   ]
  },
  {
   "cell_type": "code",
   "execution_count": 11,
   "id": "b3f68e00-b9d3-4bf0-8002-a7ffc42e388a",
   "metadata": {},
   "outputs": [],
   "source": [
    "RA = RA[cutIndices]\n",
    "DEC = DEC[cutIndices]\n",
    "CLASS = CLASS[cutIndices]"
   ]
  },
  {
   "cell_type": "code",
   "execution_count": 12,
   "id": "73aa94b2-61d8-4ca7-9cc5-fbfcf445aa0f",
   "metadata": {},
   "outputs": [],
   "source": [
    "corrClass = np.zeros(len(CLASS))\n",
    "corrClass[np.where(CLASS <= 1)[0]] = 1"
   ]
  },
  {
   "cell_type": "code",
   "execution_count": 13,
   "id": "dd7ad963-3e47-4029-912f-dfc117433984",
   "metadata": {},
   "outputs": [],
   "source": [
    "pix = hp.ang2pix(4096, RA, DEC, nest = True, lonlat = True)"
   ]
  },
  {
   "cell_type": "code",
   "execution_count": 14,
   "id": "61ff4d81-f10f-49bf-b1bb-0860183e70e5",
   "metadata": {},
   "outputs": [],
   "source": [
    "origCondFiles = balrConfig.origCondFiles\n",
    "stelFile = balrConfig.stelFile\n",
    "\n",
    "validPix = np.full(12*(4096**2), True, dtype = bool)\n",
    "    \n",
    "for file in origCondFiles:\n",
    "    condData = fitsio.read(file) # This reads in the data.\n",
    "    condSigExt = np.full(12*(4096**2), -1.6375e+30) # Gives a default value.\n",
    "    condSigExt[condData['PIXEL']] = condData['SIGNAL'] # Changes all valid pixels to their corresponding signals.\n",
    "    validPix[np.where(condSigExt < -100)] = False # An invalid survey property marks this pixel as false.\n",
    "\n",
    "stelDensExt = fitsio.read(stelFile)['I'].flatten() # Loads in the stellar density.\n",
    "validPix[np.where(stelDensExt < -100)] = False # Any non valid pixel has its value changed to False.\n",
    "\n",
    "validPix = np.where(validPix)[0]"
   ]
  },
  {
   "cell_type": "code",
   "execution_count": 15,
   "id": "6fd31ae8-7a58-4351-ae3e-f362eba02c11",
   "metadata": {},
   "outputs": [],
   "source": [
    "validPixCrop = np.isin(pix, validPix)"
   ]
  },
  {
   "cell_type": "code",
   "execution_count": 16,
   "id": "42b08158-72d5-4426-af56-284c70b03129",
   "metadata": {},
   "outputs": [],
   "source": [
    "pix = pix[validPixCrop]\n",
    "corrClass = corrClass[validPixCrop]"
   ]
  },
  {
   "cell_type": "code",
   "execution_count": 17,
   "id": "00d9f3f2-c495-4772-a562-26dbbdefcd79",
   "metadata": {},
   "outputs": [],
   "source": [
    "aveAcc = np.sum(corrClass) / len(corrClass)"
   ]
  },
  {
   "cell_type": "code",
   "execution_count": 18,
   "id": "a3b2a47d-1a6e-4e21-a662-5007bd5883df",
   "metadata": {},
   "outputs": [],
   "source": [
    "condPix = np.unique(pix)"
   ]
  },
  {
   "cell_type": "code",
   "execution_count": 19,
   "id": "c3a0ec1f-9c0b-496b-a223-397324bd0425",
   "metadata": {},
   "outputs": [],
   "source": [
    "condMaps = []\n",
    "\n",
    "for file in origCondFiles:\n",
    "    condData = fitsio.read(file) # This reads in the data.\n",
    "    condSigExt = np.full(12*(4096**2), -1.6375e+30) # Gives a default value.\n",
    "    condSigExt[condData['PIXEL']] = condData['SIGNAL'] # Changes all valid pixels to their corresponding signals.\n",
    "    condMaps.append(condSigExt[condPix])\n",
    "    \n",
    "stelDensExt = fitsio.read(stelFile)['I'].flatten() # Loads in the stellar density.\n",
    "condMaps.append(stelDensExt[condPix])\n",
    "\n",
    "condMaps = np.array(condMaps) # Converts to an array"
   ]
  },
  {
   "cell_type": "code",
   "execution_count": 20,
   "id": "c3bd6f21-d531-4d35-a9fe-f7debe27fee3",
   "metadata": {},
   "outputs": [],
   "source": [
    "_, origCorPixCounts = np.unique(np.append(pix[np.where(corrClass == 1)[0]], condPix), return_counts = True)\n",
    "origCorPixCounts = origCorPixCounts - 1\n",
    "\n",
    "_, origAllPixCounts = np.unique(np.append(pix, condPix), return_counts = True)\n",
    "origAllPixCounts = origAllPixCounts - 1"
   ]
  },
  {
   "cell_type": "code",
   "execution_count": 21,
   "id": "fd0939a0-1125-43dc-9806-6b202f8d59a6",
   "metadata": {},
   "outputs": [],
   "source": [
    "sortInds = []\n",
    "for i in range(len(condMaps)):\n",
    "    sortInds.append(condMaps[i].argsort())\n",
    "sortInds = np.array(sortInds)"
   ]
  },
  {
   "cell_type": "code",
   "execution_count": 22,
   "id": "be04f27a-354b-499e-87f7-7802a644512a",
   "metadata": {},
   "outputs": [],
   "source": [
    "binNum = 10\n",
    "cutOffPercent = 0.01"
   ]
  },
  {
   "cell_type": "code",
   "execution_count": 23,
   "id": "6e151d67-a456-4108-a849-d6b51cc8ddd2",
   "metadata": {},
   "outputs": [],
   "source": [
    "binIndLims = [0]\n",
    "\n",
    "for j in range(binNum):\n",
    "    binIndLims.append(int((len(condPix) - binIndLims[-1]) / (binNum - j)) + (binIndLims[-1]))"
   ]
  },
  {
   "cell_type": "code",
   "execution_count": 24,
   "id": "6253f750-7894-4fc5-a63c-f2f696faae5b",
   "metadata": {},
   "outputs": [],
   "source": [
    "xBins = []\n",
    "\n",
    "for i in range(len(condMaps)):\n",
    "    cond_Map_Sort = condMaps[i][sortInds[i][::1]]\n",
    "    condBins = []\n",
    "    for j in range(binNum):\n",
    "        condBins.append(cond_Map_Sort[binIndLims[j]:binIndLims[j+1]])\n",
    "    indXBin = []\n",
    "\n",
    "    for j in range(binNum):\n",
    "        indXBin.append(np.sum(condBins[j]) / len(condBins[j]))\n",
    "\n",
    "    xBins.append(np.array(indXBin))\n",
    "\n",
    "xBins = np.array(xBins)"
   ]
  },
  {
   "cell_type": "code",
   "execution_count": 25,
   "id": "7e432b4d-27f8-4575-bf7e-0fd2be10443c",
   "metadata": {},
   "outputs": [],
   "source": [
    "yBinsOrig = []\n",
    "for i in range(len(condMaps)):\n",
    "    corSort = origCorPixCounts[sortInds[i][::1]]\n",
    "    allSort = origAllPixCounts[sortInds[i][::1]]\n",
    "    \n",
    "    corBins = []\n",
    "    allBins = []\n",
    "    for j in range(binNum):\n",
    "        corBins.append(corSort[binIndLims[j]:binIndLims[j+1]])\n",
    "        allBins.append(allSort[binIndLims[j]:binIndLims[j+1]])\n",
    "        \n",
    "    indYBinOrig = []\n",
    "\n",
    "    for j in range(binNum):\n",
    "        indYBinOrig.append(np.sum(corBins[j]) / (aveAcc * np.sum(allBins[j])))\n",
    "\n",
    "    yBinsOrig.append(np.array(indYBinOrig))\n",
    "\n",
    "yBinsOrig = np.array(yBinsOrig)"
   ]
  },
  {
   "cell_type": "code",
   "execution_count": 26,
   "id": "8bb73ec7-cdb2-4ca9-8725-2cc0ce905e8d",
   "metadata": {},
   "outputs": [],
   "source": [
    "corPixCounts = np.copy(origCorPixCounts)"
   ]
  },
  {
   "cell_type": "code",
   "execution_count": 27,
   "id": "9226914c-b8ac-40be-8752-a93330e31e93",
   "metadata": {},
   "outputs": [],
   "source": [
    "def mostSigInd(y):\n",
    "    maxSquaredDiff = 0\n",
    "    index = -1\n",
    "    \n",
    "    maxSingError = np.max(np.abs(y - 1))\n",
    "    \n",
    "    if maxSingError <= cutOffPercent:\n",
    "        return index\n",
    "    \n",
    "    for i in range(len(y)):\n",
    "        yi = y[i]\n",
    "        \n",
    "        diff = np.sum((yi - 1)**2)\n",
    "        \n",
    "        if diff > maxSquaredDiff:\n",
    "            maxSquaredDiff = diff\n",
    "            index = i\n",
    "            \n",
    "    return index"
   ]
  },
  {
   "cell_type": "code",
   "execution_count": 28,
   "id": "4f81ab98-f01c-47f9-840f-3a45b1938367",
   "metadata": {},
   "outputs": [],
   "source": [
    "while(True):\n",
    "\n",
    "    yBins = []\n",
    "    for i in range(len(condMaps)):\n",
    "        corSort = corPixCounts[sortInds[i][::1]]\n",
    "        allSort = origAllPixCounts[sortInds[i][::1]]\n",
    "\n",
    "        corBins = []\n",
    "        allBins = []\n",
    "        for j in range(binNum):\n",
    "            corBins.append(corSort[binIndLims[j]:binIndLims[j+1]])\n",
    "            allBins.append(allSort[binIndLims[j]:binIndLims[j+1]])\n",
    "\n",
    "        indYBin = []\n",
    "\n",
    "        for j in range(binNum):\n",
    "            indYBin.append(np.sum(corBins[j]) / (aveAcc * np.sum(allBins[j])))\n",
    "\n",
    "        yBins.append(np.array(indYBin))\n",
    "\n",
    "    yBins = np.array(yBins)\n",
    "\n",
    "    index = mostSigInd(yBins)\n",
    "    if index == -1:\n",
    "        break\n",
    "\n",
    "    corrFunc = inter.interp1d(xBins[index], yBins[index], bounds_error = False, fill_value = (yBins[index][0], yBins[index][-1]))\n",
    "\n",
    "    corPixCounts = corPixCounts / (corrFunc(condMaps[index]))\n",
    "\n",
    "    corPixCounts = corPixCounts * aveAcc * np.sum(origAllPixCounts) / np.sum(corPixCounts)"
   ]
  },
  {
   "cell_type": "code",
   "execution_count": 29,
   "id": "2dec0e86-e016-40ba-b59d-5f6f36104f19",
   "metadata": {},
   "outputs": [],
   "source": [
    "matplotlib.style.use('des_dr1')\n",
    "\n",
    "origErrors = []\n",
    "\n",
    "for condInd in range(len(Config.conditions)):\n",
    "\n",
    "    condValues = condMaps[condInd]\n",
    "    \n",
    "    yOrig = []\n",
    "    \n",
    "    origCorSort = origCorPixCounts[sortInds[condInd][::1]]\n",
    "    allSort = origAllPixCounts[sortInds[condInd][::1]]\n",
    "\n",
    "    origCorBins = []\n",
    "    allBins = []\n",
    "    for j in range(binNum):\n",
    "        origCorBins.append(origCorSort[binIndLims[j]:binIndLims[j+1]])\n",
    "        allBins.append(allSort[binIndLims[j]:binIndLims[j+1]])\n",
    "\n",
    "    for j in range(binNum):\n",
    "        yOrig.append(np.sum(origCorBins[j]) / (aveAcc * np.sum(allBins[j])))\n",
    "\n",
    "    yOrig = np.array(yOrig)\n",
    "    \n",
    "    origErrors.append(np.sum((yOrig - 1)**2))\n",
    "\n",
    "origErrors = np.array(origErrors)"
   ]
  },
  {
   "cell_type": "code",
   "execution_count": 31,
   "id": "54a35617-3ba6-4c92-95d7-8b6f2f86ac9f",
   "metadata": {},
   "outputs": [
    {
     "data": {
      "image/png": "[encoded data removed]",
      "text/plain": [
       "<Figure size 800x600 with 3 Axes>"
      ]
     },
     "metadata": {},
     "output_type": "display_data"
    }
   ],
   "source": [
    "matplotlib.style.use('des_dr1')\n",
    "\n",
    "condInd = np.where(origErrors == np.max(origErrors[np.where(origErrors != np.max(origErrors))[0]]))[0][0]\n",
    "\n",
    "condition = Config.conditions[condInd]\n",
    "condValues = condMaps[condInd]\n",
    "\n",
    "x = xBins[condInd]\n",
    "\n",
    "yOrig = []\n",
    "yCorr = []\n",
    "\n",
    "corSort = corPixCounts[sortInds[condInd][::1]]\n",
    "origCorSort = origCorPixCounts[sortInds[condInd][::1]]\n",
    "allSort = origAllPixCounts[sortInds[condInd][::1]]\n",
    "\n",
    "corBins = []\n",
    "origCorBins = []\n",
    "allBins = []\n",
    "for j in range(binNum):\n",
    "    corBins.append(corSort[binIndLims[j]:binIndLims[j+1]])\n",
    "    origCorBins.append(origCorSort[binIndLims[j]:binIndLims[j+1]])\n",
    "    allBins.append(allSort[binIndLims[j]:binIndLims[j+1]])\n",
    "\n",
    "for j in range(binNum):\n",
    "    yCorr.append(np.sum(corBins[j]) / (aveAcc * np.sum(allBins[j])))\n",
    "    yOrig.append(np.sum(origCorBins[j]) / (aveAcc * np.sum(allBins[j])))\n",
    "\n",
    "yOrig = np.array(yOrig)\n",
    "yCorr = np.array(yCorr)\n",
    "\n",
    "fig, ax1 = plt.subplots()\n",
    "\n",
    "# Major ticks every 20, minor ticks every 5\n",
    "major_ticks = np.arange(0, 2, 0.02)\n",
    "minor_ticks = np.arange(0, 2, 0.01)\n",
    "\n",
    "ax1.set_yticks(major_ticks)\n",
    "ax1.set_yticks(minor_ticks, minor=True)\n",
    "\n",
    "ax1.set_xlabel(condition)\n",
    "ax1.tick_params(axis='y')\n",
    "ax1.set_ylabel(r'Variation from Mean Rate')\n",
    "ax1.plot(x, yOrig, label = 'Original', marker = 'o')\n",
    "ax1.plot(x, yCorr, label = 'Corrected', marker = 'o')\n",
    "ax1.axhline(y = 1, color = 'black', linestyle = '--')\n",
    "# And a corresponding grid\n",
    "ax1.grid(which='both')\n",
    "\n",
    "# Or if you want different settings for the grids:\n",
    "ax1.grid(which='minor', alpha=0.2)\n",
    "ax1.grid(which='major', alpha=0.5)\n",
    "# ax1.grid()\n",
    "ax1.legend()\n",
    "\n",
    "ax2 = ax1.twinx()  # instantiate a second axes that shares the same x-axis\n",
    "\n",
    "ax2.tick_params(axis='y')\n",
    "ax2.set_ylabel('Fraction of Pixels in Condition Bin')\n",
    "ax2.hist(condValues, bins = np.linspace(np.min(x), np.max(x), 21), color = 'green', rwidth = 0.923, alpha = 0.2, weights = np.ones(len(condValues)) / len(condValues))\n",
    "\n",
    "ax3 = ax1.twinx()\n",
    "ax3.tick_params(axis='y', right = False, labelright = False)\n",
    "ax3.plot(x, yOrig, marker = 'o')\n",
    "ax3.plot(x, yCorr, marker = 'o')\n",
    "ax3.axhline(y = 1, color = 'black', linestyle = '--')\n",
    "\n",
    "\n",
    "fig.tight_layout()  # otherwise the right y-label is slightly clipped\n",
    "plt.title('Stellar Correct Classification Rate Variations')\n",
    "plt.savefig('Balrog Stellar Classification Plot')"
   ]
  },
  {
   "cell_type": "code",
   "execution_count": null,
   "id": "ecf4bb75-fdf4-4897-a85d-2ae673b77047",
   "metadata": {},
   "outputs": [],
   "source": []
  }
 ],
 "metadata": {
  "kernelspec": {
   "display_name": "Python 3 (ipykernel)",
   "language": "python",
   "name": "python3"
  },
  "language_info": {
   "codemirror_mode": {
    "name": "ipython",
    "version": 3
   },
   "file_extension": ".py",
   "mimetype": "text/x-python",
   "name": "python",
   "nbconvert_exporter": "python",
   "pygments_lexer": "ipython3",
   "version": "3.9.12"
  }
 },
 "nbformat": 4,
 "nbformat_minor": 5
}
